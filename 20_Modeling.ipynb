{
 "cells": [
  {
   "cell_type": "code",
   "execution_count": 1,
   "metadata": {},
   "outputs": [],
   "source": [
    "# Importing Required Packages\n",
    "import pandas as pd\n",
    "import numpy as np\n",
    "import matplotlib.pyplot as plt\n",
    "import seaborn as sns\n",
    "import warnings\n",
    "warnings.filterwarnings(\"ignore\")\n",
    "pd.set_option('display.max_columns', None)# To see all the columns of a dataframe\n",
    "#pd.set_option('display.max_rows', None)"
   ]
  },
  {
   "cell_type": "code",
   "execution_count": 2,
   "metadata": {},
   "outputs": [],
   "source": [
    "# Loading reduced feature training set\n",
    "X_train = pd.read_csv('X_train_final.csv')\n",
    "y_train = pd.read_csv('y_train.final.csv')"
   ]
  },
  {
   "cell_type": "code",
   "execution_count": 3,
   "metadata": {},
   "outputs": [],
   "source": [
    "# Loading reduced feature test set\n",
    "X_test = pd.read_csv('X_test_final.csv')\n",
    "y_test = pd.read_csv('y_test.final.csv')"
   ]
  },
  {
   "cell_type": "markdown",
   "metadata": {},
   "source": [
    "### Standardizing all the columns, including dummy variables, for SELU activated Dense model"
   ]
  },
  {
   "cell_type": "code",
   "execution_count": 4,
   "metadata": {},
   "outputs": [],
   "source": [
    "# Importing the Standard scaler from Sklearn\n",
    "from sklearn.preprocessing import StandardScaler"
   ]
  },
  {
   "cell_type": "code",
   "execution_count": 5,
   "metadata": {},
   "outputs": [],
   "source": [
    "# Instantiating the Standard Scaler object & fit_transforming the reduced feature training set.\n",
    "st_scaler = StandardScaler() \n",
    "arr = st_scaler.fit_transform(X_train)"
   ]
  },
  {
   "cell_type": "code",
   "execution_count": 6,
   "metadata": {},
   "outputs": [],
   "source": [
    "# Converting the array to the corresponding dataframe\n",
    "X_train_scaled = pd.DataFrame(arr, columns=X_train.columns, index=X_train.index)"
   ]
  },
  {
   "cell_type": "code",
   "execution_count": 7,
   "metadata": {},
   "outputs": [],
   "source": [
    "# Transforming the test set with the same standard scaler object as was used to fit Training set.\n",
    "arr1 = st_scaler.transform(X_test)"
   ]
  },
  {
   "cell_type": "code",
   "execution_count": 8,
   "metadata": {},
   "outputs": [],
   "source": [
    "# Converting the array to the corresponding dataframe.\n",
    "X_test_scaled = pd.DataFrame(arr1, columns=X_test.columns, index=X_test.index)"
   ]
  },
  {
   "cell_type": "markdown",
   "metadata": {},
   "source": [
    "## Model_11: Keras Dense Model with Equal Neurons/layer, SELU Activation & Tuned learning rate."
   ]
  },
  {
   "cell_type": "code",
   "execution_count": 9,
   "metadata": {},
   "outputs": [],
   "source": [
    "# Importing Optuna , Tensorflow & Keras\n",
    "import optuna , tensorflow as tf"
   ]
  },
  {
   "cell_type": "code",
   "execution_count": 10,
   "metadata": {},
   "outputs": [],
   "source": [
    "# Importing Keras\n",
    "from tensorflow import keras"
   ]
  },
  {
   "cell_type": "code",
   "execution_count": 11,
   "metadata": {},
   "outputs": [],
   "source": [
    "# Importing the Sklearn's roc_auc_score module\n",
    "from sklearn.metrics import roc_auc_score"
   ]
  },
  {
   "cell_type": "code",
   "execution_count": 12,
   "metadata": {},
   "outputs": [],
   "source": [
    "# Importing train test split from Sklearn to produce validation set\n",
    "from sklearn.model_selection import train_test_split"
   ]
  },
  {
   "cell_type": "code",
   "execution_count": 13,
   "metadata": {},
   "outputs": [],
   "source": [
    "# Performing train_validation split with test size = .15 to provide more Training data to Neural Net\n",
    "X_train_1, X_val, y_train_1, y_val = train_test_split(X_train_scaled, y_train, test_size=0.15, random_state=42,\n",
    "                                                          stratify=y_train)"
   ]
  },
  {
   "cell_type": "code",
   "execution_count": 14,
   "metadata": {},
   "outputs": [],
   "source": [
    "# defining class weight dictionary list for the imbalanced class\n",
    "cl_weight = [{0:1.0,1:11.38697},{0:1.0,1:12.0},{0:1.0,1:13.0},{0:1.0,1:14.0},{0:1.0,1:15.0},{0:1.0,1:16.0},\n",
    "             {0:1.0,1:17.0},{0:1.0,1:18.0}]"
   ]
  },
  {
   "cell_type": "code",
   "execution_count": 15,
   "metadata": {},
   "outputs": [],
   "source": [
    "# Defining best roc_auc score\n",
    "best_roc_auc = 0"
   ]
  },
  {
   "cell_type": "code",
   "execution_count": 16,
   "metadata": {},
   "outputs": [],
   "source": [
    "# defining the objective function\n",
    "def objective_wrappper_keras_eq(X_tr, y_tr, X_val, y_val, cl_w):\n",
    "    '''\n",
    "    Optimizes Keras ,neural net with equal no. of neurons in each layer , best parameters \n",
    "    on the given training set: X_tr, y_tr using validation set: X_val,y_val & class weights: cl_w\n",
    "    \n",
    "    '''\n",
    "\n",
    "    def objective(trial):\n",
    "        s = trial.suggest_int('step',2,6)\n",
    "        def exponential_decay_fn(epoch):\n",
    "            return 0.01 * 0.1**(epoch /s )\n",
    "              \n",
    "        # building model & searching for the best no. of neural units per layer.\n",
    "        no_units = trial.suggest_int('no._units',100,600)# No. of Neurons in each layer\n",
    "        model = keras.models.Sequential()\n",
    "        model.add(keras.layers.InputLayer(input_shape=X_tr.shape[1:]))\n",
    "        #model.add(keras.layers.BatchNormalization())\n",
    "        for i in range(trial.suggest_int('number',2,6)):\n",
    "            model.add(keras.layers.Dense(units=no_units,activation='selu',\n",
    "                                     kernel_initializer='lecun_normal')) # For self normalization\n",
    "        model.add(keras.layers.Dense(units=1,activation='sigmoid'))\n",
    "    \n",
    "        # Searching for the best learning rate.\n",
    "        #lr = trial.suggest_float(\"lr\", 1e-5, 1e-1, log=True) \n",
    "    \n",
    "        # Compiling the model\n",
    "        model.compile(loss=\"binary_crossentropy\", optimizer=keras.optimizers.Nadam(beta_1=0.9, beta_2=0.999),\n",
    "                      metrics=[tf.keras.metrics.AUC(curve=\"ROC\")])\n",
    "    \n",
    "        # Defining the Callbacks\n",
    "        checkpoint_cb = keras.callbacks.ModelCheckpoint('best_model.h5',save_best_only=True) # 1st Callback\n",
    "        early_stopping_cb = keras.callbacks.EarlyStopping(patience=4) # 2nd Callback, Stop if validation score doen't improve for\n",
    "        # 4 epochs        \n",
    "        lr_scheduler_cb = keras.callbacks.LearningRateScheduler(exponential_decay_fn)# 3rd Callback\n",
    "        #tensorboard_cb = keras.callbacks.TensorBoard(get_run_logdir()) \n",
    "        \n",
    "        #Fitting the model\n",
    "        model.fit(X_tr, y_tr, epochs=50, validation_data=(X_val,y_val), batch_size=32,\n",
    "             class_weight=trial.suggest_categorical('best_weight',cl_w),\n",
    "             callbacks=[checkpoint_cb, early_stopping_cb, lr_scheduler_cb])#,tensorboard_cb])\n",
    "    \n",
    "        # Loading the best model \n",
    "        model_best = keras.models.load_model('best_model.h5')\n",
    "    \n",
    "        # Computing the roc_auc_score for the validation set\n",
    "        roc_auc_1 = roc_auc_score(y_val,model_best.predict_proba(X_val))\n",
    "        global best_roc_auc\n",
    "        # Updating best_roc_auc score\n",
    "        if roc_auc_1 > best_roc_auc:\n",
    "            best_roc_auc = roc_auc_1\n",
    "            model_best.save('Best_model_Selu_eq_Learn.h5')\n",
    "        \n",
    "        return roc_auc_1\n",
    "    \n",
    "    return objective"
   ]
  },
  {
   "cell_type": "code",
   "execution_count": 17,
   "metadata": {},
   "outputs": [],
   "source": [
    "# Defining the evaluation function for study's best parameters\n",
    "def study_best_score_params(X_tr, y_tr, X_v, y_v, obj_func, cl_w, n_trials=100):\n",
    "    ''' Computes the best hyper parameters of the Neural net using the Training set(X_tr,y_tr) & Validation set\n",
    "    (X_v,y_v), class weights cl_w & \n",
    "    returns Optuna's study's best score & clasifier parameters'''\n",
    "    \n",
    "    study = optuna.create_study(direction='maximize')\n",
    "    study.optimize(obj_func(X_tr, y_tr, X_v, y_v, cl_w),n_trials)\n",
    "    best_score = study.best_value\n",
    "    best_params = study.best_params\n",
    "    return (best_score,best_params)"
   ]
  },
  {
   "cell_type": "code",
   "execution_count": 18,
   "metadata": {},
   "outputs": [
    {
     "name": "stderr",
     "output_type": "stream",
     "text": [
      "\u001b[32m[I 2021-01-05 00:24:14,144]\u001b[0m A new study created in memory with name: no-name-0b21dd42-5b01-4387-8f6e-aa5633f7ef4d\u001b[0m\n"
     ]
    },
    {
     "name": "stdout",
     "output_type": "stream",
     "text": [
      "WARNING:tensorflow:sample_weight modes were coerced from\n",
      "  ...\n",
      "    to  \n",
      "  ['...']\n",
      "WARNING:tensorflow:sample_weight modes were coerced from\n",
      "  ...\n",
      "    to  \n",
      "  ['...']\n",
      "Train on 196038 samples, validate on 34595 samples\n",
      "Epoch 1/50\n",
      "196038/196038 [==============================] - 25s 130us/sample - loss: 4.6109 - auc: 0.5025 - val_loss: 1.5189 - val_auc: 0.5000\n",
      "Epoch 2/50\n",
      "196038/196038 [==============================] - 24s 124us/sample - loss: 1.5165 - auc: 0.4988 - val_loss: 1.5090 - val_auc: 0.5000\n",
      "Epoch 3/50\n",
      "196038/196038 [==============================] - 24s 123us/sample - loss: 1.4531 - auc: 0.4985 - val_loss: 1.5077 - val_auc: 0.5000\n",
      "Epoch 4/50\n",
      "196038/196038 [==============================] - 24s 124us/sample - loss: 1.4273 - auc: 0.5028 - val_loss: 1.5155 - val_auc: 0.5000\n",
      "Epoch 5/50\n",
      "196038/196038 [==============================] - 24s 124us/sample - loss: 1.4171 - auc: 0.4971 - val_loss: 1.4245 - val_auc: 0.5000\n",
      "Epoch 6/50\n",
      "196038/196038 [==============================] - 24s 124us/sample - loss: 1.4120 - auc: 0.5016 - val_loss: 1.4099 - val_auc: 0.5000\n",
      "Epoch 7/50\n",
      "196038/196038 [==============================] - 24s 124us/sample - loss: 1.4105 - auc: 0.5012 - val_loss: 1.4098 - val_auc: 0.5000\n",
      "Epoch 8/50\n",
      "196038/196038 [==============================] - 24s 124us/sample - loss: 1.4100 - auc: 0.4978 - val_loss: 1.4098 - val_auc: 0.5000\n",
      "Epoch 9/50\n",
      "196038/196038 [==============================] - 25s 126us/sample - loss: 1.4098 - auc: 0.4998 - val_loss: 1.4100 - val_auc: 0.5000\n",
      "Epoch 10/50\n",
      "196038/196038 [==============================] - 25s 126us/sample - loss: 1.4098 - auc: 0.4963 - val_loss: 1.4098 - val_auc: 0.5000\n",
      "Epoch 11/50\n",
      "196038/196038 [==============================] - 24s 124us/sample - loss: 1.4097 - auc: 0.4971 - val_loss: 1.4098 - val_auc: 0.5000\n",
      "Epoch 12/50\n",
      "196038/196038 [==============================] - 24s 124us/sample - loss: 1.4097 - auc: 0.4994 - val_loss: 1.4098 - val_auc: 0.5000\n",
      "Epoch 13/50\n",
      "196038/196038 [==============================] - 24s 125us/sample - loss: 1.4097 - auc: 0.5000 - val_loss: 1.4098 - val_auc: 0.5000\n",
      "Epoch 14/50\n",
      "196038/196038 [==============================] - 24s 125us/sample - loss: 1.4097 - auc: 0.5000 - val_loss: 1.4098 - val_auc: 0.5000\n",
      "Epoch 15/50\n",
      "196038/196038 [==============================] - 24s 124us/sample - loss: 1.4097 - auc: 0.5000 - val_loss: 1.4098 - val_auc: 0.5000\n",
      "Epoch 16/50\n",
      "196038/196038 [==============================] - 24s 124us/sample - loss: 1.4097 - auc: 0.5000 - val_loss: 1.4098 - val_auc: 0.5000\n",
      "Epoch 17/50\n",
      "196038/196038 [==============================] - 24s 124us/sample - loss: 1.4097 - auc: 0.5000 - val_loss: 1.4098 - val_auc: 0.5000\n"
     ]
    },
    {
     "name": "stderr",
     "output_type": "stream",
     "text": [
      "\u001b[32m[I 2021-01-05 00:31:12,389]\u001b[0m Trial 0 finished with value: 0.5 and parameters: {'step': 2, 'no._units': 568, 'number': 5, 'best_weight': {0: 1.0, 1: 14.0}}. Best is trial 0 with value: 0.5.\u001b[0m\n"
     ]
    },
    {
     "name": "stdout",
     "output_type": "stream",
     "text": [
      "WARNING:tensorflow:sample_weight modes were coerced from\n",
      "  ...\n",
      "    to  \n",
      "  ['...']\n",
      "WARNING:tensorflow:sample_weight modes were coerced from\n",
      "  ...\n",
      "    to  \n",
      "  ['...']\n",
      "Train on 196038 samples, validate on 34595 samples\n",
      "Epoch 1/50\n",
      "196038/196038 [==============================] - 18s 93us/sample - loss: 4.0905 - auc_1: 0.6125 - val_loss: 2.9738 - val_auc_1: 0.7284\n",
      "Epoch 2/50\n",
      "196038/196038 [==============================] - 17s 88us/sample - loss: 22.3165 - auc_1: 0.6574 - val_loss: 2.2696 - val_auc_1: 0.7352\n",
      "Epoch 3/50\n",
      "196038/196038 [==============================] - 17s 88us/sample - loss: 1.4057 - auc_1: 0.7111 - val_loss: 3.1440 - val_auc_1: 0.7388\n",
      "Epoch 4/50\n",
      "196038/196038 [==============================] - 17s 88us/sample - loss: 1.4802 - auc_1: 0.7175 - val_loss: 2.0030 - val_auc_1: 0.7491\n",
      "Epoch 5/50\n",
      "196038/196038 [==============================] - 17s 88us/sample - loss: 1.3450 - auc_1: 0.7356 - val_loss: 2.2615 - val_auc_1: 0.7481\n",
      "Epoch 6/50\n",
      "196038/196038 [==============================] - 17s 88us/sample - loss: 1.3003 - auc_1: 0.7504 - val_loss: 1.9329 - val_auc_1: 0.7490\n",
      "Epoch 7/50\n",
      "196038/196038 [==============================] - 17s 88us/sample - loss: 1.2708 - auc_1: 0.7662 - val_loss: 1.7783 - val_auc_1: 0.7509\n",
      "Epoch 8/50\n",
      "196038/196038 [==============================] - 17s 88us/sample - loss: 1.2243 - auc_1: 0.7790 - val_loss: 2.0365 - val_auc_1: 0.7444\n",
      "Epoch 9/50\n",
      "196038/196038 [==============================] - 17s 88us/sample - loss: 1.1948 - auc_1: 0.7900 - val_loss: 2.0939 - val_auc_1: 0.7415\n",
      "Epoch 10/50\n",
      "196038/196038 [==============================] - 17s 88us/sample - loss: 1.1697 - auc_1: 0.7992 - val_loss: 2.2789 - val_auc_1: 0.7403\n",
      "Epoch 11/50\n",
      "196038/196038 [==============================] - 17s 87us/sample - loss: 1.1499 - auc_1: 0.8067 - val_loss: 2.3296 - val_auc_1: 0.7378\n"
     ]
    },
    {
     "name": "stderr",
     "output_type": "stream",
     "text": [
      "\u001b[32m[I 2021-01-05 00:34:24,887]\u001b[0m Trial 1 finished with value: 0.7511888420414058 and parameters: {'step': 6, 'no._units': 543, 'number': 2, 'best_weight': {0: 1.0, 1: 16.0}}. Best is trial 1 with value: 0.7511888420414058.\u001b[0m\n"
     ]
    },
    {
     "name": "stdout",
     "output_type": "stream",
     "text": [
      "WARNING:tensorflow:sample_weight modes were coerced from\n",
      "  ...\n",
      "    to  \n",
      "  ['...']\n",
      "WARNING:tensorflow:sample_weight modes were coerced from\n",
      "  ...\n",
      "    to  \n",
      "  ['...']\n",
      "Train on 196038 samples, validate on 34595 samples\n",
      "Epoch 1/50\n",
      "196038/196038 [==============================] - 19s 97us/sample - loss: 1.9404 - auc_2: 0.5138 - val_loss: 1.6894 - val_auc_2: 0.5000\n",
      "Epoch 2/50\n",
      "196038/196038 [==============================] - 19s 97us/sample - loss: 1.5152 - auc_2: 0.4984 - val_loss: 1.4200 - val_auc_2: 0.5000\n",
      "Epoch 3/50\n",
      "196038/196038 [==============================] - 19s 97us/sample - loss: 1.4422 - auc_2: 0.4986 - val_loss: 1.4672 - val_auc_2: 0.5000\n",
      "Epoch 4/50\n",
      "196038/196038 [==============================] - 19s 96us/sample - loss: 1.4173 - auc_2: 0.5002 - val_loss: 1.3646 - val_auc_2: 0.5000\n",
      "Epoch 5/50\n",
      "196038/196038 [==============================] - 19s 95us/sample - loss: 1.3996 - auc_2: 0.5009 - val_loss: 1.3894 - val_auc_2: 0.5000\n",
      "Epoch 6/50\n",
      "196038/196038 [==============================] - 19s 94us/sample - loss: 1.3888 - auc_2: 0.5035 - val_loss: 1.3687 - val_auc_2: 0.5000\n",
      "Epoch 7/50\n",
      "196038/196038 [==============================] - 19s 95us/sample - loss: 1.3819 - auc_2: 0.4985 - val_loss: 1.4580 - val_auc_2: 0.5000\n",
      "Epoch 8/50\n",
      "196038/196038 [==============================] - 18s 93us/sample - loss: 1.3770 - auc_2: 0.4989 - val_loss: 1.3775 - val_auc_2: 0.5000\n"
     ]
    },
    {
     "name": "stderr",
     "output_type": "stream",
     "text": [
      "\u001b[32m[I 2021-01-05 00:36:56,247]\u001b[0m Trial 2 finished with value: 0.4999842777183825 and parameters: {'step': 5, 'no._units': 351, 'number': 3, 'best_weight': {0: 1.0, 1: 13.0}}. Best is trial 1 with value: 0.7511888420414058.\u001b[0m\n"
     ]
    },
    {
     "name": "stdout",
     "output_type": "stream",
     "text": [
      "WARNING:tensorflow:sample_weight modes were coerced from\n",
      "  ...\n",
      "    to  \n",
      "  ['...']\n",
      "WARNING:tensorflow:sample_weight modes were coerced from\n",
      "  ...\n",
      "    to  \n",
      "  ['...']\n",
      "Train on 196038 samples, validate on 34595 samples\n",
      "Epoch 1/50\n",
      "196038/196038 [==============================] - 20s 101us/sample - loss: 2.2310 - auc_3: 0.5089 - val_loss: 2.7664 - val_auc_3: 0.5001\n",
      "Epoch 2/50\n",
      "196038/196038 [==============================] - 19s 95us/sample - loss: 1.6642 - auc_3: 0.5006 - val_loss: 2.1546 - val_auc_3: 0.5000\n",
      "Epoch 3/50\n",
      "196038/196038 [==============================] - 19s 95us/sample - loss: 1.5671 - auc_3: 0.4975 - val_loss: 2.4462 - val_auc_3: 0.5000\n",
      "Epoch 4/50\n",
      "196038/196038 [==============================] - 19s 95us/sample - loss: 1.5379 - auc_3: 0.4955 - val_loss: 1.6036 - val_auc_3: 0.5000\n",
      "Epoch 5/50\n",
      "196038/196038 [==============================] - 19s 95us/sample - loss: 1.5193 - auc_3: 0.5010 - val_loss: 1.4632 - val_auc_3: 0.5000\n",
      "Epoch 6/50\n",
      "196038/196038 [==============================] - 19s 95us/sample - loss: 1.5035 - auc_3: 0.5035 - val_loss: 1.6105 - val_auc_3: 0.5000\n",
      "Epoch 7/50\n",
      "196038/196038 [==============================] - 19s 94us/sample - loss: 1.4945 - auc_3: 0.4959 - val_loss: 1.5137 - val_auc_3: 0.5000\n",
      "Epoch 8/50\n",
      "196038/196038 [==============================] - 19s 95us/sample - loss: 1.4856 - auc_3: 0.4980 - val_loss: 1.4592 - val_auc_3: 0.5000\n",
      "Epoch 9/50\n",
      "196038/196038 [==============================] - 19s 95us/sample - loss: 1.4778 - auc_3: 0.4972 - val_loss: 1.4629 - val_auc_3: 0.5000\n",
      "Epoch 10/50\n",
      "196038/196038 [==============================] - 19s 95us/sample - loss: 1.4720 - auc_3: 0.4989 - val_loss: 1.4745 - val_auc_3: 0.5000\n",
      "Epoch 11/50\n",
      "196038/196038 [==============================] - 19s 96us/sample - loss: 1.4668 - auc_3: 0.5034 - val_loss: 1.4682 - val_auc_3: 0.5000\n",
      "Epoch 12/50\n",
      "196038/196038 [==============================] - 19s 96us/sample - loss: 1.4638 - auc_3: 0.5064 - val_loss: 1.4748 - val_auc_3: 0.5000\n"
     ]
    },
    {
     "name": "stderr",
     "output_type": "stream",
     "text": [
      "\u001b[32m[I 2021-01-05 00:40:42,670]\u001b[0m Trial 3 finished with value: 0.4999842777183825 and parameters: {'step': 6, 'no._units': 401, 'number': 3, 'best_weight': {0: 1.0, 1: 15.0}}. Best is trial 1 with value: 0.7511888420414058.\u001b[0m\n"
     ]
    },
    {
     "name": "stdout",
     "output_type": "stream",
     "text": [
      "WARNING:tensorflow:sample_weight modes were coerced from\n",
      "  ...\n",
      "    to  \n",
      "  ['...']\n",
      "WARNING:tensorflow:sample_weight modes were coerced from\n",
      "  ...\n",
      "    to  \n",
      "  ['...']\n",
      "Train on 196038 samples, validate on 34595 samples\n",
      "Epoch 1/50\n",
      "196038/196038 [==============================] - 23s 116us/sample - loss: 110.6749 - auc_4: 0.5032 - val_loss: 1.8627 - val_auc_4: 0.5000\n",
      "Epoch 2/50\n",
      "196038/196038 [==============================] - 22s 110us/sample - loss: 1.4770 - auc_4: 0.4944 - val_loss: 1.5228 - val_auc_4: 0.5000\n",
      "Epoch 3/50\n",
      "196038/196038 [==============================] - 22s 111us/sample - loss: 1.4746 - auc_4: 0.5047 - val_loss: 1.4270 - val_auc_4: 0.5000\n",
      "Epoch 4/50\n",
      "196038/196038 [==============================] - 22s 111us/sample - loss: 1.4724 - auc_4: 0.4998 - val_loss: 1.5609 - val_auc_4: 0.5000\n",
      "Epoch 5/50\n",
      "196038/196038 [==============================] - 22s 110us/sample - loss: 1.4556 - auc_4: 0.4981 - val_loss: 1.4329 - val_auc_4: 0.5000\n",
      "Epoch 6/50\n",
      "196038/196038 [==============================] - 22s 110us/sample - loss: 1.4458 - auc_4: 0.4973 - val_loss: 1.7670 - val_auc_4: 0.5000\n",
      "Epoch 7/50\n",
      "196038/196038 [==============================] - 22s 110us/sample - loss: 1.4377 - auc_4: 0.4992 - val_loss: 1.4495 - val_auc_4: 0.5000\n"
     ]
    },
    {
     "name": "stderr",
     "output_type": "stream",
     "text": [
      "\u001b[32m[I 2021-01-05 00:43:16,977]\u001b[0m Trial 4 finished with value: 0.5 and parameters: {'step': 6, 'no._units': 280, 'number': 6, 'best_weight': {0: 1.0, 1: 14.0}}. Best is trial 1 with value: 0.7511888420414058.\u001b[0m\n"
     ]
    },
    {
     "name": "stdout",
     "output_type": "stream",
     "text": [
      "WARNING:tensorflow:sample_weight modes were coerced from\n",
      "  ...\n",
      "    to  \n",
      "  ['...']\n",
      "WARNING:tensorflow:sample_weight modes were coerced from\n",
      "  ...\n",
      "    to  \n",
      "  ['...']\n",
      "Train on 196038 samples, validate on 34595 samples\n",
      "Epoch 1/50\n",
      "196038/196038 [==============================] - 17s 86us/sample - loss: 3.4496 - auc_5: 0.6468 - val_loss: 1.7517 - val_auc_5: 0.7044\n",
      "Epoch 2/50\n",
      "196038/196038 [==============================] - 16s 82us/sample - loss: 1.4379 - auc_5: 0.6991 - val_loss: 1.3873 - val_auc_5: 0.7295\n",
      "Epoch 3/50\n",
      "196038/196038 [==============================] - 16s 82us/sample - loss: 1.4034 - auc_5: 0.7161 - val_loss: 1.8075 - val_auc_5: 0.7429\n",
      "Epoch 4/50\n",
      "196038/196038 [==============================] - 16s 81us/sample - loss: 1.3543 - auc_5: 0.7384 - val_loss: 1.4173 - val_auc_5: 0.7461\n",
      "Epoch 5/50\n",
      "196038/196038 [==============================] - 16s 81us/sample - loss: 1.3202 - auc_5: 0.7515 - val_loss: 1.3883 - val_auc_5: 0.7490\n",
      "Epoch 6/50\n",
      "196038/196038 [==============================] - 16s 81us/sample - loss: 1.2918 - auc_5: 0.7639 - val_loss: 1.3506 - val_auc_5: 0.7497\n",
      "Epoch 7/50\n",
      "196038/196038 [==============================] - 16s 82us/sample - loss: 1.2697 - auc_5: 0.7734 - val_loss: 1.3535 - val_auc_5: 0.7509\n",
      "Epoch 8/50\n",
      "196038/196038 [==============================] - 16s 81us/sample - loss: 1.2539 - auc_5: 0.7796 - val_loss: 1.3525 - val_auc_5: 0.7495\n",
      "Epoch 9/50\n",
      "196038/196038 [==============================] - 16s 82us/sample - loss: 1.2419 - auc_5: 0.7849 - val_loss: 1.3368 - val_auc_5: 0.7496\n",
      "Epoch 10/50\n",
      "196038/196038 [==============================] - 16s 82us/sample - loss: 1.2326 - auc_5: 0.7884 - val_loss: 1.3550 - val_auc_5: 0.7489\n",
      "Epoch 11/50\n",
      "196038/196038 [==============================] - 16s 81us/sample - loss: 1.2257 - auc_5: 0.7909 - val_loss: 1.3806 - val_auc_5: 0.7479\n",
      "Epoch 12/50\n",
      "196038/196038 [==============================] - 16s 82us/sample - loss: 1.2226 - auc_5: 0.7921 - val_loss: 1.3488 - val_auc_5: 0.7476\n",
      "Epoch 13/50\n",
      "196038/196038 [==============================] - 16s 82us/sample - loss: 1.2198 - auc_5: 0.7932 - val_loss: 1.3608 - val_auc_5: 0.7475\n"
     ]
    },
    {
     "name": "stderr",
     "output_type": "stream",
     "text": [
      "\u001b[32m[I 2021-01-05 00:46:46,999]\u001b[0m Trial 5 finished with value: 0.7496072413057584 and parameters: {'step': 5, 'no._units': 184, 'number': 2, 'best_weight': {0: 1.0, 1: 17.0}}. Best is trial 1 with value: 0.7511888420414058.\u001b[0m\n"
     ]
    },
    {
     "name": "stdout",
     "output_type": "stream",
     "text": [
      "WARNING:tensorflow:sample_weight modes were coerced from\n",
      "  ...\n",
      "    to  \n",
      "  ['...']\n",
      "WARNING:tensorflow:sample_weight modes were coerced from\n",
      "  ...\n",
      "    to  \n",
      "  ['...']\n",
      "Train on 196038 samples, validate on 34595 samples\n",
      "Epoch 1/50\n",
      "196038/196038 [==============================] - 18s 93us/sample - loss: 2.6815 - auc_6: 0.6207 - val_loss: 1.6023 - val_auc_6: 0.7323\n",
      "Epoch 2/50\n",
      "196038/196038 [==============================] - 17s 87us/sample - loss: 1.5528 - auc_6: 0.6932 - val_loss: 1.4993 - val_auc_6: 0.7335\n",
      "Epoch 3/50\n",
      "196038/196038 [==============================] - 17s 87us/sample - loss: 1.7877 - auc_6: 0.7238 - val_loss: 1.4445 - val_auc_6: 0.7501\n",
      "Epoch 4/50\n",
      "196038/196038 [==============================] - 17s 87us/sample - loss: 1.3921 - auc_6: 0.7417 - val_loss: 1.6485 - val_auc_6: 0.7541\n",
      "Epoch 5/50\n",
      "196038/196038 [==============================] - 17s 86us/sample - loss: 1.3547 - auc_6: 0.7562 - val_loss: 1.3798 - val_auc_6: 0.7536\n",
      "Epoch 6/50\n",
      "196038/196038 [==============================] - 17s 86us/sample - loss: 1.3175 - auc_6: 0.7686 - val_loss: 1.4500 - val_auc_6: 0.7493\n",
      "Epoch 7/50\n",
      "196038/196038 [==============================] - 17s 86us/sample - loss: 1.2924 - auc_6: 0.7779 - val_loss: 1.4657 - val_auc_6: 0.7500\n",
      "Epoch 8/50\n",
      "196038/196038 [==============================] - 17s 86us/sample - loss: 1.2708 - auc_6: 0.7863 - val_loss: 1.5119 - val_auc_6: 0.7496\n",
      "Epoch 9/50\n",
      "196038/196038 [==============================] - 17s 86us/sample - loss: 1.2569 - auc_6: 0.7909 - val_loss: 1.5342 - val_auc_6: 0.7488\n"
     ]
    },
    {
     "name": "stderr",
     "output_type": "stream",
     "text": [
      "\u001b[32m[I 2021-01-05 00:49:22,151]\u001b[0m Trial 6 finished with value: 0.7538299264111656 and parameters: {'step': 4, 'no._units': 418, 'number': 2, 'best_weight': {0: 1.0, 1: 18.0}}. Best is trial 6 with value: 0.7538299264111656.\u001b[0m\n"
     ]
    },
    {
     "name": "stdout",
     "output_type": "stream",
     "text": [
      "WARNING:tensorflow:sample_weight modes were coerced from\n",
      "  ...\n",
      "    to  \n",
      "  ['...']\n",
      "WARNING:tensorflow:sample_weight modes were coerced from\n",
      "  ...\n",
      "    to  \n",
      "  ['...']\n",
      "Train on 196038 samples, validate on 34595 samples\n",
      "Epoch 1/50\n",
      "196038/196038 [==============================] - 21s 109us/sample - loss: 4.3175 - auc_7: 0.5006 - val_loss: 2.3257 - val_auc_7: 0.5000\n",
      "Epoch 2/50\n",
      "196038/196038 [==============================] - 20s 104us/sample - loss: 17.6213 - auc_7: 0.5000 - val_loss: 1.6313 - val_auc_7: 0.5000\n",
      "Epoch 3/50\n",
      "196038/196038 [==============================] - 20s 104us/sample - loss: 1.5881 - auc_7: 0.4986 - val_loss: 1.7411 - val_auc_7: 0.5000\n",
      "Epoch 4/50\n",
      "196038/196038 [==============================] - 20s 104us/sample - loss: 1.5767 - auc_7: 0.5022 - val_loss: 1.5643 - val_auc_7: 0.5000\n",
      "Epoch 5/50\n",
      "196038/196038 [==============================] - 20s 103us/sample - loss: 1.5676 - auc_7: 0.5009 - val_loss: 1.5824 - val_auc_7: 0.5000\n",
      "Epoch 6/50\n",
      "196038/196038 [==============================] - 20s 103us/sample - loss: 1.5663 - auc_7: 0.4996 - val_loss: 1.6084 - val_auc_7: 0.5001\n",
      "Epoch 7/50\n",
      "196038/196038 [==============================] - 20s 103us/sample - loss: 1.5760 - auc_7: 0.5015 - val_loss: 1.5612 - val_auc_7: 0.5000\n",
      "Epoch 8/50\n",
      "196038/196038 [==============================] - 20s 103us/sample - loss: 1.5484 - auc_7: 0.5036 - val_loss: 1.5434 - val_auc_7: 0.5000\n",
      "Epoch 9/50\n",
      "196038/196038 [==============================] - 20s 103us/sample - loss: 1.5463 - auc_7: 0.5025 - val_loss: 1.5637 - val_auc_7: 0.5000\n",
      "Epoch 10/50\n",
      "196038/196038 [==============================] - 20s 103us/sample - loss: 1.5453 - auc_7: 0.5001 - val_loss: 1.5434 - val_auc_7: 0.5000\n",
      "Epoch 11/50\n",
      "196038/196038 [==============================] - 20s 103us/sample - loss: 1.5446 - auc_7: 0.4982 - val_loss: 1.5439 - val_auc_7: 0.5000\n",
      "Epoch 12/50\n",
      "196038/196038 [==============================] - 20s 103us/sample - loss: 1.5440 - auc_7: 0.4997 - val_loss: 1.5433 - val_auc_7: 0.5000\n",
      "Epoch 13/50\n",
      "196038/196038 [==============================] - 20s 103us/sample - loss: 1.5436 - auc_7: 0.5007 - val_loss: 1.5436 - val_auc_7: 0.5000\n",
      "Epoch 14/50\n",
      "196038/196038 [==============================] - 20s 104us/sample - loss: 1.5435 - auc_7: 0.4995 - val_loss: 1.5434 - val_auc_7: 0.5000\n",
      "Epoch 15/50\n",
      "196038/196038 [==============================] - 20s 104us/sample - loss: 1.5435 - auc_7: 0.4985 - val_loss: 1.5434 - val_auc_7: 0.5000\n",
      "Epoch 16/50\n",
      "196038/196038 [==============================] - 20s 104us/sample - loss: 1.5434 - auc_7: 0.5005 - val_loss: 1.5433 - val_auc_7: 0.5000\n",
      "Epoch 17/50\n",
      "196038/196038 [==============================] - 20s 104us/sample - loss: 1.5434 - auc_7: 0.4969 - val_loss: 1.5433 - val_auc_7: 0.5000\n",
      "Epoch 18/50\n",
      "196038/196038 [==============================] - 22s 111us/sample - loss: 1.5434 - auc_7: 0.4982 - val_loss: 1.5433 - val_auc_7: 0.5000\n",
      "Epoch 19/50\n",
      "196038/196038 [==============================] - 21s 106us/sample - loss: 1.5434 - auc_7: 0.4977 - val_loss: 1.5433 - val_auc_7: 0.5000\n",
      "Epoch 20/50\n",
      "196038/196038 [==============================] - 21s 106us/sample - loss: 1.5434 - auc_7: 0.4996 - val_loss: 1.5433 - val_auc_7: 0.5000\n",
      "Epoch 21/50\n",
      "196038/196038 [==============================] - 21s 107us/sample - loss: 1.5434 - auc_7: 0.5000 - val_loss: 1.5433 - val_auc_7: 0.5000\n",
      "Epoch 22/50\n",
      "196038/196038 [==============================] - 21s 105us/sample - loss: 1.5433 - auc_7: 0.5000 - val_loss: 1.5433 - val_auc_7: 0.5000\n",
      "Epoch 23/50\n",
      "196038/196038 [==============================] - 21s 105us/sample - loss: 1.5433 - auc_7: 0.5000 - val_loss: 1.5433 - val_auc_7: 0.5000\n",
      "Epoch 24/50\n",
      "196038/196038 [==============================] - 21s 105us/sample - loss: 1.5433 - auc_7: 0.5000 - val_loss: 1.5433 - val_auc_7: 0.5000\n",
      "Epoch 25/50\n",
      "196038/196038 [==============================] - 21s 106us/sample - loss: 1.5433 - auc_7: 0.5000 - val_loss: 1.5433 - val_auc_7: 0.5000\n",
      "Epoch 26/50\n",
      "196038/196038 [==============================] - 21s 105us/sample - loss: 1.5433 - auc_7: 0.5000 - val_loss: 1.5433 - val_auc_7: 0.5000\n",
      "Epoch 27/50\n",
      "196038/196038 [==============================] - 21s 105us/sample - loss: 1.5433 - auc_7: 0.5000 - val_loss: 1.5433 - val_auc_7: 0.5000\n",
      "Epoch 28/50\n",
      "196038/196038 [==============================] - 21s 108us/sample - loss: 1.5433 - auc_7: 0.5000 - val_loss: 1.5433 - val_auc_7: 0.5000\n",
      "Epoch 29/50\n",
      "196038/196038 [==============================] - 21s 109us/sample - loss: 1.5433 - auc_7: 0.5000 - val_loss: 1.5433 - val_auc_7: 0.5000\n",
      "Epoch 30/50\n",
      "196038/196038 [==============================] - 21s 110us/sample - loss: 1.5433 - auc_7: 0.5000 - val_loss: 1.5433 - val_auc_7: 0.5000\n"
     ]
    },
    {
     "name": "stderr",
     "output_type": "stream",
     "text": [
      "\u001b[32m[I 2021-01-05 00:59:41,807]\u001b[0m Trial 7 finished with value: 0.5000471668448525 and parameters: {'step': 4, 'no._units': 220, 'number': 5, 'best_weight': {0: 1.0, 1: 17.0}}. Best is trial 6 with value: 0.7538299264111656.\u001b[0m\n"
     ]
    },
    {
     "name": "stdout",
     "output_type": "stream",
     "text": [
      "WARNING:tensorflow:sample_weight modes were coerced from\n",
      "  ...\n",
      "    to  \n",
      "  ['...']\n",
      "WARNING:tensorflow:sample_weight modes were coerced from\n",
      "  ...\n",
      "    to  \n",
      "  ['...']\n",
      "Train on 196038 samples, validate on 34595 samples\n",
      "Epoch 1/50\n",
      "196038/196038 [==============================] - 22s 114us/sample - loss: 94.1352 - auc_8: 0.5334 - val_loss: 1.6281 - val_auc_8: 0.5663\n",
      "Epoch 2/50\n",
      "196038/196038 [==============================] - 21s 108us/sample - loss: 1.6189 - auc_8: 0.5489 - val_loss: 1.5719 - val_auc_8: 0.5837\n",
      "Epoch 3/50\n",
      "196038/196038 [==============================] - 21s 107us/sample - loss: 1.5762 - auc_8: 0.6101 - val_loss: 1.4975 - val_auc_8: 0.6876\n",
      "Epoch 4/50\n",
      "196038/196038 [==============================] - 21s 109us/sample - loss: 1.4468 - auc_8: 0.7059 - val_loss: 1.3852 - val_auc_8: 0.7359\n",
      "Epoch 5/50\n",
      "196038/196038 [==============================] - 21s 108us/sample - loss: 1.3803 - auc_8: 0.7407 - val_loss: 1.3736 - val_auc_8: 0.7428\n",
      "Epoch 6/50\n",
      "196038/196038 [==============================] - 21s 108us/sample - loss: 1.3540 - auc_8: 0.7555 - val_loss: 1.3777 - val_auc_8: 0.7442\n",
      "Epoch 7/50\n",
      "196038/196038 [==============================] - 21s 107us/sample - loss: 1.3354 - auc_8: 0.7610 - val_loss: 1.3693 - val_auc_8: 0.7458\n",
      "Epoch 8/50\n",
      "196038/196038 [==============================] - 21s 108us/sample - loss: 1.3271 - auc_8: 0.7648 - val_loss: 1.3680 - val_auc_8: 0.7456\n",
      "Epoch 9/50\n",
      "196038/196038 [==============================] - 21s 107us/sample - loss: 1.3222 - auc_8: 0.7669 - val_loss: 1.3717 - val_auc_8: 0.7457\n",
      "Epoch 10/50\n",
      "196038/196038 [==============================] - 21s 107us/sample - loss: 1.3193 - auc_8: 0.7682 - val_loss: 1.3715 - val_auc_8: 0.7456\n",
      "Epoch 11/50\n",
      "196038/196038 [==============================] - 21s 107us/sample - loss: 1.3186 - auc_8: 0.7683 - val_loss: 1.3698 - val_auc_8: 0.7456\n",
      "Epoch 12/50\n",
      "196038/196038 [==============================] - 21s 108us/sample - loss: 1.3180 - auc_8: 0.7687 - val_loss: 1.3703 - val_auc_8: 0.7456\n"
     ]
    },
    {
     "name": "stderr",
     "output_type": "stream",
     "text": [
      "\u001b[32m[I 2021-01-05 01:03:57,766]\u001b[0m Trial 8 finished with value: 0.7456813600029164 and parameters: {'step': 3, 'no._units': 437, 'number': 4, 'best_weight': {0: 1.0, 1: 18.0}}. Best is trial 6 with value: 0.7538299264111656.\u001b[0m\n"
     ]
    },
    {
     "name": "stdout",
     "output_type": "stream",
     "text": [
      "WARNING:tensorflow:sample_weight modes were coerced from\n",
      "  ...\n",
      "    to  \n",
      "  ['...']\n",
      "WARNING:tensorflow:sample_weight modes were coerced from\n",
      "  ...\n",
      "    to  \n",
      "  ['...']\n",
      "Train on 196038 samples, validate on 34595 samples\n",
      "Epoch 1/50\n",
      "196038/196038 [==============================] - 17s 87us/sample - loss: 3.2204 - auc_9: 0.6442 - val_loss: 3.3872 - val_auc_9: 0.7015\n",
      "Epoch 2/50\n",
      "196038/196038 [==============================] - 16s 83us/sample - loss: 2.3349 - auc_9: 0.6995 - val_loss: 2.0040 - val_auc_9: 0.7264\n",
      "Epoch 3/50\n",
      "196038/196038 [==============================] - 16s 82us/sample - loss: 1.4632 - auc_9: 0.7135 - val_loss: 1.5277 - val_auc_9: 0.7356\n",
      "Epoch 4/50\n",
      "196038/196038 [==============================] - 16s 83us/sample - loss: 1.4424 - auc_9: 0.7280 - val_loss: 1.3871 - val_auc_9: 0.7516\n",
      "Epoch 5/50\n",
      "196038/196038 [==============================] - 16s 83us/sample - loss: 1.3895 - auc_9: 0.7423 - val_loss: 1.3736 - val_auc_9: 0.7481\n",
      "Epoch 6/50\n",
      "196038/196038 [==============================] - 16s 83us/sample - loss: 1.3581 - auc_9: 0.7549 - val_loss: 1.4203 - val_auc_9: 0.7534\n",
      "Epoch 7/50\n",
      "196038/196038 [==============================] - 16s 83us/sample - loss: 1.3290 - auc_9: 0.7650 - val_loss: 1.4113 - val_auc_9: 0.7505\n",
      "Epoch 8/50\n",
      "196038/196038 [==============================] - 16s 83us/sample - loss: 1.3072 - auc_9: 0.7737 - val_loss: 1.4151 - val_auc_9: 0.7501\n",
      "Epoch 9/50\n",
      "196038/196038 [==============================] - 16s 83us/sample - loss: 1.2875 - auc_9: 0.7808 - val_loss: 1.4362 - val_auc_9: 0.7494\n"
     ]
    },
    {
     "name": "stderr",
     "output_type": "stream",
     "text": [
      "\u001b[32m[I 2021-01-05 01:06:26,255]\u001b[0m Trial 9 finished with value: 0.7489693039592251 and parameters: {'step': 6, 'no._units': 243, 'number': 2, 'best_weight': {0: 1.0, 1: 18.0}}. Best is trial 6 with value: 0.7538299264111656.\u001b[0m\n"
     ]
    },
    {
     "name": "stdout",
     "output_type": "stream",
     "text": [
      "WARNING:tensorflow:sample_weight modes were coerced from\n",
      "  ...\n",
      "    to  \n",
      "  ['...']\n",
      "WARNING:tensorflow:sample_weight modes were coerced from\n",
      "  ...\n",
      "    to  \n",
      "  ['...']\n",
      "Train on 196038 samples, validate on 34595 samples\n",
      "Epoch 1/50\n",
      "196038/196038 [==============================] - 21s 106us/sample - loss: 2.1939 - auc_10: 0.5060 - val_loss: 2.2771 - val_auc_10: 0.5000\n",
      "Epoch 2/50\n",
      "196038/196038 [==============================] - 20s 100us/sample - loss: 1.4099 - auc_10: 0.4986 - val_loss: 1.3731 - val_auc_10: 0.5000\n",
      "Epoch 3/50\n",
      "196038/196038 [==============================] - 20s 100us/sample - loss: 1.3306 - auc_10: 0.5028 - val_loss: 1.4310 - val_auc_10: 0.5000\n",
      "Epoch 4/50\n",
      "196038/196038 [==============================] - 19s 98us/sample - loss: 1.3097 - auc_10: 0.5020 - val_loss: 1.4357 - val_auc_10: 0.5000\n",
      "Epoch 5/50\n",
      "196038/196038 [==============================] - 19s 98us/sample - loss: 1.2946 - auc_10: 0.4974 - val_loss: 1.2749 - val_auc_10: 0.5000\n",
      "Epoch 6/50\n",
      "196038/196038 [==============================] - 19s 98us/sample - loss: 1.2863 - auc_10: 0.4998 - val_loss: 1.2749 - val_auc_10: 0.5000\n",
      "Epoch 7/50\n",
      "196038/196038 [==============================] - 19s 98us/sample - loss: 1.2798 - auc_10: 0.4993 - val_loss: 1.2814 - val_auc_10: 0.5000\n",
      "Epoch 8/50\n",
      "196038/196038 [==============================] - 19s 99us/sample - loss: 1.2772 - auc_10: 0.5021 - val_loss: 1.2844 - val_auc_10: 0.5000\n",
      "Epoch 9/50\n",
      "196038/196038 [==============================] - 19s 97us/sample - loss: 1.2759 - auc_10: 0.4953 - val_loss: 1.2750 - val_auc_10: 0.5000\n"
     ]
    },
    {
     "name": "stderr",
     "output_type": "stream",
     "text": [
      "\u001b[32m[I 2021-01-05 01:09:23,182]\u001b[0m Trial 10 finished with value: 0.4999842777183825 and parameters: {'step': 3, 'no._units': 482, 'number': 3, 'best_weight': {0: 1.0, 1: 11.38697}}. Best is trial 6 with value: 0.7538299264111656.\u001b[0m\n"
     ]
    },
    {
     "name": "stdout",
     "output_type": "stream",
     "text": [
      "WARNING:tensorflow:sample_weight modes were coerced from\n",
      "  ...\n",
      "    to  \n",
      "  ['...']\n",
      "WARNING:tensorflow:sample_weight modes were coerced from\n",
      "  ...\n",
      "    to  \n",
      "  ['...']\n",
      "Train on 196038 samples, validate on 34595 samples\n",
      "Epoch 1/50\n",
      "196038/196038 [==============================] - 19s 95us/sample - loss: 3.9995 - auc_11: 0.6150 - val_loss: 1.6709 - val_auc_11: 0.7334\n",
      "Epoch 2/50\n",
      "196038/196038 [==============================] - 18s 91us/sample - loss: 2.9704 - auc_11: 0.6735 - val_loss: 1.6474 - val_auc_11: 0.7444\n",
      "Epoch 3/50\n",
      "196038/196038 [==============================] - 18s 91us/sample - loss: 1.4278 - auc_11: 0.7113 - val_loss: 1.5029 - val_auc_11: 0.7464\n",
      "Epoch 4/50\n",
      "196038/196038 [==============================] - 18s 91us/sample - loss: 1.3452 - auc_11: 0.7300 - val_loss: 1.3647 - val_auc_11: 0.7486\n",
      "Epoch 5/50\n",
      "196038/196038 [==============================] - 18s 91us/sample - loss: 1.3048 - auc_11: 0.7477 - val_loss: 1.3699 - val_auc_11: 0.7522\n",
      "Epoch 6/50\n",
      "196038/196038 [==============================] - 18s 90us/sample - loss: 1.2635 - auc_11: 0.7629 - val_loss: 1.3624 - val_auc_11: 0.7515\n",
      "Epoch 7/50\n",
      "196038/196038 [==============================] - 18s 90us/sample - loss: 1.2362 - auc_11: 0.7741 - val_loss: 1.3689 - val_auc_11: 0.7485\n",
      "Epoch 8/50\n",
      "196038/196038 [==============================] - 18s 90us/sample - loss: 1.2162 - auc_11: 0.7823 - val_loss: 1.4073 - val_auc_11: 0.7482\n",
      "Epoch 9/50\n",
      "196038/196038 [==============================] - 18s 91us/sample - loss: 1.2004 - auc_11: 0.7884 - val_loss: 1.4345 - val_auc_11: 0.7471\n",
      "Epoch 10/50\n",
      "196038/196038 [==============================] - 18s 90us/sample - loss: 1.1907 - auc_11: 0.7920 - val_loss: 1.4509 - val_auc_11: 0.7458\n"
     ]
    },
    {
     "name": "stderr",
     "output_type": "stream",
     "text": [
      "\u001b[32m[I 2021-01-05 01:12:22,990]\u001b[0m Trial 11 finished with value: 0.7516476647159779 and parameters: {'step': 4, 'no._units': 582, 'number': 2, 'best_weight': {0: 1.0, 1: 16.0}}. Best is trial 6 with value: 0.7538299264111656.\u001b[0m\n"
     ]
    },
    {
     "name": "stdout",
     "output_type": "stream",
     "text": [
      "WARNING:tensorflow:sample_weight modes were coerced from\n",
      "  ...\n",
      "    to  \n",
      "  ['...']\n",
      "WARNING:tensorflow:sample_weight modes were coerced from\n",
      "  ...\n",
      "    to  \n",
      "  ['...']\n",
      "Train on 196038 samples, validate on 34595 samples\n",
      "Epoch 1/50\n",
      "196038/196038 [==============================] - 17s 89us/sample - loss: 1.2926 - auc_12: 0.6790 - val_loss: 1.3084 - val_auc_12: 0.7339\n",
      "Epoch 2/50\n",
      "196038/196038 [==============================] - 16s 83us/sample - loss: 1.6505 - auc_12: 0.7077 - val_loss: 2.0119 - val_auc_12: 0.6476\n",
      "Epoch 3/50\n",
      "196038/196038 [==============================] - 16s 84us/sample - loss: 1.3443 - auc_12: 0.7022 - val_loss: 1.1758 - val_auc_12: 0.7406\n",
      "Epoch 4/50\n",
      "196038/196038 [==============================] - 16s 84us/sample - loss: 1.1190 - auc_12: 0.7512 - val_loss: 1.1753 - val_auc_12: 0.7512\n",
      "Epoch 5/50\n",
      "196038/196038 [==============================] - 16s 83us/sample - loss: 1.0958 - auc_12: 0.7628 - val_loss: 1.1806 - val_auc_12: 0.7468\n",
      "Epoch 6/50\n",
      "196038/196038 [==============================] - 16s 83us/sample - loss: 1.0725 - auc_12: 0.7739 - val_loss: 1.1521 - val_auc_12: 0.7502\n",
      "Epoch 7/50\n",
      "196038/196038 [==============================] - 16s 83us/sample - loss: 1.0521 - auc_12: 0.7836 - val_loss: 1.1922 - val_auc_12: 0.7484\n",
      "Epoch 8/50\n",
      "196038/196038 [==============================] - 16s 83us/sample - loss: 1.0398 - auc_12: 0.7892 - val_loss: 1.2008 - val_auc_12: 0.7479\n",
      "Epoch 9/50\n",
      "196038/196038 [==============================] - 16s 83us/sample - loss: 1.0306 - auc_12: 0.7931 - val_loss: 1.2135 - val_auc_12: 0.7465\n",
      "Epoch 10/50\n",
      "196038/196038 [==============================] - 16s 83us/sample - loss: 1.0254 - auc_12: 0.7955 - val_loss: 1.2122 - val_auc_12: 0.7463\n"
     ]
    },
    {
     "name": "stderr",
     "output_type": "stream",
     "text": [
      "\u001b[32m[I 2021-01-05 01:15:09,045]\u001b[0m Trial 12 finished with value: 0.7501665785025511 and parameters: {'step': 4, 'no._units': 116, 'number': 2, 'best_weight': {0: 1.0, 1: 12.0}}. Best is trial 6 with value: 0.7538299264111656.\u001b[0m\n"
     ]
    },
    {
     "name": "stdout",
     "output_type": "stream",
     "text": [
      "WARNING:tensorflow:sample_weight modes were coerced from\n",
      "  ...\n",
      "    to  \n",
      "  ['...']\n",
      "WARNING:tensorflow:sample_weight modes were coerced from\n",
      "  ...\n",
      "    to  \n",
      "  ['...']\n",
      "Train on 196038 samples, validate on 34595 samples\n",
      "Epoch 1/50\n",
      "196038/196038 [==============================] - 20s 104us/sample - loss: 6.6861 - auc_13: 0.5448 - val_loss: 2.7305 - val_auc_13: 0.5000\n",
      "Epoch 2/50\n",
      "196038/196038 [==============================] - 19s 98us/sample - loss: 1.7193 - auc_13: 0.4988 - val_loss: 1.6147 - val_auc_13: 0.5003\n",
      "Epoch 3/50\n",
      "196038/196038 [==============================] - 19s 98us/sample - loss: 1.6898 - auc_13: 0.5034 - val_loss: 1.6189 - val_auc_13: 0.5002\n",
      "Epoch 4/50\n",
      "196038/196038 [==============================] - 19s 98us/sample - loss: 2.7598 - auc_13: 0.5045 - val_loss: 1.5836 - val_auc_13: 0.5000\n",
      "Epoch 5/50\n",
      "196038/196038 [==============================] - 19s 98us/sample - loss: 1.5250 - auc_13: 0.5064 - val_loss: 1.5192 - val_auc_13: 0.5000\n",
      "Epoch 6/50\n",
      "196038/196038 [==============================] - 19s 98us/sample - loss: 1.5235 - auc_13: 0.5020 - val_loss: 1.5038 - val_auc_13: 0.5000\n",
      "Epoch 7/50\n",
      "196038/196038 [==============================] - 19s 99us/sample - loss: 1.5082 - auc_13: 0.4989 - val_loss: 1.5070 - val_auc_13: 0.5000\n",
      "Epoch 8/50\n",
      "196038/196038 [==============================] - 19s 98us/sample - loss: 1.5044 - auc_13: 0.4977 - val_loss: 1.5026 - val_auc_13: 0.5000\n",
      "Epoch 9/50\n",
      "196038/196038 [==============================] - 19s 98us/sample - loss: 1.5028 - auc_13: 0.4976 - val_loss: 1.5018 - val_auc_13: 0.5000\n",
      "Epoch 10/50\n",
      "196038/196038 [==============================] - 19s 98us/sample - loss: 1.5018 - auc_13: 0.4996 - val_loss: 1.5011 - val_auc_13: 0.5000\n",
      "Epoch 11/50\n",
      "196038/196038 [==============================] - 19s 98us/sample - loss: 1.5012 - auc_13: 0.5013 - val_loss: 1.5010 - val_auc_13: 0.5000\n",
      "Epoch 12/50\n",
      "196038/196038 [==============================] - 19s 99us/sample - loss: 1.5010 - auc_13: 0.4999 - val_loss: 1.5010 - val_auc_13: 0.5000\n",
      "Epoch 13/50\n",
      "196038/196038 [==============================] - 19s 98us/sample - loss: 1.5010 - auc_13: 0.5007 - val_loss: 1.5011 - val_auc_13: 0.5000\n",
      "Epoch 14/50\n",
      "196038/196038 [==============================] - 19s 98us/sample - loss: 1.5010 - auc_13: 0.4953 - val_loss: 1.5010 - val_auc_13: 0.5000\n",
      "Epoch 15/50\n",
      "196038/196038 [==============================] - 19s 98us/sample - loss: 1.5009 - auc_13: 0.4975 - val_loss: 1.5010 - val_auc_13: 0.5000\n",
      "Epoch 16/50\n",
      "196038/196038 [==============================] - 19s 98us/sample - loss: 1.5009 - auc_13: 0.5001 - val_loss: 1.5010 - val_auc_13: 0.5000\n",
      "Epoch 17/50\n",
      "196038/196038 [==============================] - 19s 98us/sample - loss: 1.5009 - auc_13: 0.5001 - val_loss: 1.5010 - val_auc_13: 0.5000\n",
      "Epoch 18/50\n",
      "196038/196038 [==============================] - 19s 98us/sample - loss: 1.5009 - auc_13: 0.5001 - val_loss: 1.5010 - val_auc_13: 0.5000\n",
      "Epoch 19/50\n",
      "196038/196038 [==============================] - 19s 98us/sample - loss: 1.5009 - auc_13: 0.5001 - val_loss: 1.5010 - val_auc_13: 0.5000\n"
     ]
    },
    {
     "name": "stderr",
     "output_type": "stream",
     "text": [
      "\u001b[32m[I 2021-01-05 01:21:17,690]\u001b[0m Trial 13 finished with value: 0.5 and parameters: {'step': 3, 'no._units': 512, 'number': 3, 'best_weight': {0: 1.0, 1: 16.0}}. Best is trial 6 with value: 0.7538299264111656.\u001b[0m\n"
     ]
    },
    {
     "name": "stdout",
     "output_type": "stream",
     "text": [
      "WARNING:tensorflow:sample_weight modes were coerced from\n",
      "  ...\n",
      "    to  \n",
      "  ['...']\n",
      "WARNING:tensorflow:sample_weight modes were coerced from\n",
      "  ...\n",
      "    to  \n",
      "  ['...']\n",
      "Train on 196038 samples, validate on 34595 samples\n",
      "Epoch 1/50\n",
      "196038/196038 [==============================] - 24s 121us/sample - loss: 6.2679 - auc_14: 0.5046 - val_loss: 1.9535 - val_auc_14: 0.5004\n",
      "Epoch 2/50\n",
      "196038/196038 [==============================] - 23s 116us/sample - loss: 2.1116 - auc_14: 0.5020 - val_loss: 3.8517 - val_auc_14: 0.5000\n",
      "Epoch 3/50\n",
      "196038/196038 [==============================] - 23s 119us/sample - loss: 1.7397 - auc_14: 0.4972 - val_loss: 1.7867 - val_auc_14: 0.5000\n",
      "Epoch 4/50\n",
      "196038/196038 [==============================] - 23s 117us/sample - loss: 1.6810 - auc_14: 0.5011 - val_loss: 1.5859 - val_auc_14: 0.5000\n",
      "Epoch 5/50\n",
      "196038/196038 [==============================] - 23s 116us/sample - loss: 1.6536 - auc_14: 0.4987 - val_loss: 1.9124 - val_auc_14: 0.5000\n",
      "Epoch 6/50\n",
      "196038/196038 [==============================] - 23s 116us/sample - loss: 1.6377 - auc_14: 0.5007 - val_loss: 1.6750 - val_auc_14: 0.5000\n",
      "Epoch 7/50\n",
      "196038/196038 [==============================] - 23s 117us/sample - loss: 1.6197 - auc_14: 0.5055 - val_loss: 1.5902 - val_auc_14: 0.5000\n",
      "Epoch 8/50\n",
      "196038/196038 [==============================] - 23s 118us/sample - loss: 1.6088 - auc_14: 0.5029 - val_loss: 1.6339 - val_auc_14: 0.5000\n"
     ]
    },
    {
     "name": "stderr",
     "output_type": "stream",
     "text": [
      "\u001b[32m[I 2021-01-05 01:24:24,023]\u001b[0m Trial 14 finished with value: 0.5 and parameters: {'step': 5, 'no._units': 589, 'number': 4, 'best_weight': {0: 1.0, 1: 18.0}}. Best is trial 6 with value: 0.7538299264111656.\u001b[0m\n"
     ]
    },
    {
     "name": "stdout",
     "output_type": "stream",
     "text": [
      "WARNING:tensorflow:sample_weight modes were coerced from\n",
      "  ...\n",
      "    to  \n",
      "  ['...']\n",
      "WARNING:tensorflow:sample_weight modes were coerced from\n",
      "  ...\n",
      "    to  \n",
      "  ['...']\n",
      "Train on 196038 samples, validate on 34595 samples\n",
      "Epoch 1/50\n",
      "196038/196038 [==============================] - 18s 91us/sample - loss: 2.2470 - auc_15: 0.6300 - val_loss: 1.8587 - val_auc_15: 0.7339\n",
      "Epoch 2/50\n",
      "196038/196038 [==============================] - 17s 86us/sample - loss: 1.5198 - auc_15: 0.6970 - val_loss: 1.4103 - val_auc_15: 0.7454\n",
      "Epoch 3/50\n",
      "196038/196038 [==============================] - 17s 86us/sample - loss: 1.3566 - auc_15: 0.7257 - val_loss: 1.9323 - val_auc_15: 0.7483\n",
      "Epoch 4/50\n",
      "196038/196038 [==============================] - 17s 87us/sample - loss: 1.3095 - auc_15: 0.7436 - val_loss: 1.3157 - val_auc_15: 0.7450\n",
      "Epoch 5/50\n",
      "196038/196038 [==============================] - 17s 86us/sample - loss: 1.2766 - auc_15: 0.7576 - val_loss: 1.3364 - val_auc_15: 0.7484\n",
      "Epoch 6/50\n",
      "196038/196038 [==============================] - 17s 86us/sample - loss: 1.2443 - auc_15: 0.7705 - val_loss: 1.3160 - val_auc_15: 0.7506\n",
      "Epoch 7/50\n",
      "196038/196038 [==============================] - 17s 87us/sample - loss: 1.2244 - auc_15: 0.7791 - val_loss: 1.3200 - val_auc_15: 0.7503\n",
      "Epoch 8/50\n",
      "196038/196038 [==============================] - 17s 86us/sample - loss: 1.2075 - auc_15: 0.7857 - val_loss: 1.3423 - val_auc_15: 0.7489\n"
     ]
    },
    {
     "name": "stderr",
     "output_type": "stream",
     "text": [
      "\u001b[32m[I 2021-01-05 01:26:41,908]\u001b[0m Trial 15 finished with value: 0.7453165332676387 and parameters: {'step': 4, 'no._units': 346, 'number': 2, 'best_weight': {0: 1.0, 1: 16.0}}. Best is trial 6 with value: 0.7538299264111656.\u001b[0m\n"
     ]
    },
    {
     "name": "stdout",
     "output_type": "stream",
     "text": [
      "WARNING:tensorflow:sample_weight modes were coerced from\n",
      "  ...\n",
      "    to  \n",
      "  ['...']\n",
      "WARNING:tensorflow:sample_weight modes were coerced from\n",
      "  ...\n",
      "    to  \n",
      "  ['...']\n",
      "Train on 196038 samples, validate on 34595 samples\n",
      "Epoch 1/50\n",
      "196038/196038 [==============================] - 21s 106us/sample - loss: 2.5653 - auc_16: 0.4997 - val_loss: 2.6713 - val_auc_16: 0.5000\n",
      "Epoch 2/50\n",
      "196038/196038 [==============================] - 20s 100us/sample - loss: 1.4436 - auc_16: 0.5011 - val_loss: 1.3915 - val_auc_16: 0.5000\n",
      "Epoch 3/50\n",
      "196038/196038 [==============================] - 20s 100us/sample - loss: 1.3922 - auc_16: 0.5002 - val_loss: 1.3889 - val_auc_16: 0.5000\n",
      "Epoch 4/50\n",
      "196038/196038 [==============================] - 20s 100us/sample - loss: 1.3747 - auc_16: 0.5014 - val_loss: 1.3972 - val_auc_16: 0.5001\n",
      "Epoch 5/50\n",
      "196038/196038 [==============================] - 20s 100us/sample - loss: 1.3711 - auc_16: 0.4996 - val_loss: 1.3776 - val_auc_16: 0.5001\n",
      "Epoch 6/50\n",
      "196038/196038 [==============================] - 20s 100us/sample - loss: 1.3628 - auc_16: 0.4990 - val_loss: 1.3614 - val_auc_16: 0.5001\n",
      "Epoch 7/50\n",
      "196038/196038 [==============================] - 20s 100us/sample - loss: 1.3610 - auc_16: 0.5022 - val_loss: 1.3604 - val_auc_16: 0.5001\n",
      "Epoch 8/50\n",
      "196038/196038 [==============================] - 20s 100us/sample - loss: 1.3606 - auc_16: 0.4992 - val_loss: 1.3604 - val_auc_16: 0.5001\n",
      "Epoch 9/50\n",
      "196038/196038 [==============================] - 20s 100us/sample - loss: 1.3604 - auc_16: 0.5007 - val_loss: 1.3605 - val_auc_16: 0.5001\n",
      "Epoch 10/50\n",
      "196038/196038 [==============================] - 20s 100us/sample - loss: 1.3604 - auc_16: 0.4989 - val_loss: 1.3604 - val_auc_16: 0.5001\n",
      "Epoch 11/50\n",
      "196038/196038 [==============================] - 20s 100us/sample - loss: 1.3603 - auc_16: 0.4991 - val_loss: 1.3604 - val_auc_16: 0.5001\n",
      "Epoch 12/50\n",
      "196038/196038 [==============================] - 20s 101us/sample - loss: 1.3603 - auc_16: 0.4992 - val_loss: 1.3604 - val_auc_16: 0.5001\n",
      "Epoch 13/50\n",
      "196038/196038 [==============================] - 20s 100us/sample - loss: 1.3603 - auc_16: 0.4973 - val_loss: 1.3604 - val_auc_16: 0.5001\n",
      "Epoch 14/50\n",
      "196038/196038 [==============================] - 20s 100us/sample - loss: 1.3603 - auc_16: 0.5001 - val_loss: 1.3604 - val_auc_16: 0.5001\n"
     ]
    },
    {
     "name": "stderr",
     "output_type": "stream",
     "text": [
      "\u001b[32m[I 2021-01-05 01:31:19,854]\u001b[0m Trial 16 finished with value: 0.5001415005345575 and parameters: {'step': 2, 'no._units': 458, 'number': 3, 'best_weight': {0: 1.0, 1: 13.0}}. Best is trial 6 with value: 0.7538299264111656.\u001b[0m\n"
     ]
    },
    {
     "name": "stdout",
     "output_type": "stream",
     "text": [
      "WARNING:tensorflow:sample_weight modes were coerced from\n",
      "  ...\n",
      "    to  \n",
      "  ['...']\n",
      "WARNING:tensorflow:sample_weight modes were coerced from\n",
      "  ...\n",
      "    to  \n",
      "  ['...']\n",
      "Train on 196038 samples, validate on 34595 samples\n",
      "Epoch 1/50\n",
      "196038/196038 [==============================] - 18s 90us/sample - loss: 16.5123 - auc_17: 0.6349 - val_loss: 1.5516 - val_auc_17: 0.7162\n",
      "Epoch 2/50\n",
      "196038/196038 [==============================] - 17s 85us/sample - loss: 1.4795 - auc_17: 0.7083 - val_loss: 1.4607 - val_auc_17: 0.7366\n",
      "Epoch 3/50\n",
      "196038/196038 [==============================] - 17s 85us/sample - loss: 1.4240 - auc_17: 0.7252 - val_loss: 1.3844 - val_auc_17: 0.7447\n",
      "Epoch 4/50\n",
      "196038/196038 [==============================] - 17s 85us/sample - loss: 1.3749 - auc_17: 0.7452 - val_loss: 1.3897 - val_auc_17: 0.7505\n",
      "Epoch 5/50\n",
      "196038/196038 [==============================] - 17s 85us/sample - loss: 1.3379 - auc_17: 0.7609 - val_loss: 1.4204 - val_auc_17: 0.7512\n",
      "Epoch 6/50\n",
      "196038/196038 [==============================] - 17s 85us/sample - loss: 1.3099 - auc_17: 0.7707 - val_loss: 1.4281 - val_auc_17: 0.7515\n",
      "Epoch 7/50\n",
      "196038/196038 [==============================] - 17s 85us/sample - loss: 1.2961 - auc_17: 0.7759 - val_loss: 1.4466 - val_auc_17: 0.7508\n"
     ]
    },
    {
     "name": "stderr",
     "output_type": "stream",
     "text": [
      "\u001b[32m[I 2021-01-05 01:33:18,958]\u001b[0m Trial 17 finished with value: 0.744697335439725 and parameters: {'step': 3, 'no._units': 385, 'number': 2, 'best_weight': {0: 1.0, 1: 18.0}}. Best is trial 6 with value: 0.7538299264111656.\u001b[0m\n"
     ]
    },
    {
     "name": "stdout",
     "output_type": "stream",
     "text": [
      "WARNING:tensorflow:sample_weight modes were coerced from\n",
      "  ...\n",
      "    to  \n",
      "  ['...']\n",
      "WARNING:tensorflow:sample_weight modes were coerced from\n",
      "  ...\n",
      "    to  \n",
      "  ['...']\n",
      "Train on 196038 samples, validate on 34595 samples\n",
      "Epoch 1/50\n",
      "196038/196038 [==============================] - 24s 122us/sample - loss: 4.0745 - auc_18: 0.5013 - val_loss: 2.5943 - val_auc_18: 0.5000\n",
      "Epoch 2/50\n",
      "196038/196038 [==============================] - 23s 115us/sample - loss: 1.5159 - auc_18: 0.4981 - val_loss: 2.0576 - val_auc_18: 0.5000\n",
      "Epoch 3/50\n",
      "196038/196038 [==============================] - 23s 115us/sample - loss: 1.3913 - auc_18: 0.5001 - val_loss: 1.2771 - val_auc_18: 0.5000\n",
      "Epoch 4/50\n",
      "196038/196038 [==============================] - 23s 115us/sample - loss: 1.3535 - auc_18: 0.4983 - val_loss: 1.3930 - val_auc_18: 0.5000\n",
      "Epoch 5/50\n",
      "196038/196038 [==============================] - 22s 115us/sample - loss: 1.3292 - auc_18: 0.5027 - val_loss: 1.3196 - val_auc_18: 0.5000\n",
      "Epoch 6/50\n",
      "196038/196038 [==============================] - 23s 115us/sample - loss: 1.3143 - auc_18: 0.4993 - val_loss: 1.2844 - val_auc_18: 0.5000\n",
      "Epoch 7/50\n",
      "196038/196038 [==============================] - 23s 115us/sample - loss: 1.3053 - auc_18: 0.4964 - val_loss: 1.2827 - val_auc_18: 0.5000\n"
     ]
    },
    {
     "name": "stderr",
     "output_type": "stream",
     "text": [
      "\u001b[32m[I 2021-01-05 01:35:59,861]\u001b[0m Trial 18 finished with value: 0.5000157222816175 and parameters: {'step': 5, 'no._units': 590, 'number': 4, 'best_weight': {0: 1.0, 1: 11.38697}}. Best is trial 6 with value: 0.7538299264111656.\u001b[0m\n"
     ]
    },
    {
     "name": "stdout",
     "output_type": "stream",
     "text": [
      "WARNING:tensorflow:sample_weight modes were coerced from\n",
      "  ...\n",
      "    to  \n",
      "  ['...']\n",
      "WARNING:tensorflow:sample_weight modes were coerced from\n",
      "  ...\n",
      "    to  \n",
      "  ['...']\n",
      "Train on 196038 samples, validate on 34595 samples\n",
      "Epoch 1/50\n",
      "196038/196038 [==============================] - 25s 127us/sample - loss: 82.2604 - auc_19: 0.4997 - val_loss: 2.2838 - val_auc_19: 0.5000\n",
      "Epoch 2/50\n",
      "196038/196038 [==============================] - 23s 120us/sample - loss: 1.6047 - auc_19: 0.5023 - val_loss: 1.7063 - val_auc_19: 0.5000\n",
      "Epoch 3/50\n",
      "196038/196038 [==============================] - 23s 120us/sample - loss: 1.5482 - auc_19: 0.4982 - val_loss: 1.4730 - val_auc_19: 0.5000\n",
      "Epoch 4/50\n",
      "196038/196038 [==============================] - 24s 120us/sample - loss: 1.5173 - auc_19: 0.5010 - val_loss: 1.5052 - val_auc_19: 0.5000\n",
      "Epoch 5/50\n",
      "196038/196038 [==============================] - 24s 120us/sample - loss: 1.4983 - auc_19: 0.5011 - val_loss: 1.8861 - val_auc_19: 0.5000\n",
      "Epoch 6/50\n",
      "196038/196038 [==============================] - 24s 121us/sample - loss: 1.4876 - auc_19: 0.4995 - val_loss: 1.4879 - val_auc_19: 0.5000\n",
      "Epoch 7/50\n",
      "196038/196038 [==============================] - 24s 120us/sample - loss: 1.4727 - auc_19: 0.5062 - val_loss: 1.4654 - val_auc_19: 0.5000\n",
      "Epoch 8/50\n",
      "196038/196038 [==============================] - 24s 120us/sample - loss: 1.4685 - auc_19: 0.5014 - val_loss: 1.4894 - val_auc_19: 0.5000\n",
      "Epoch 9/50\n",
      "196038/196038 [==============================] - 24s 120us/sample - loss: 1.4634 - auc_19: 0.4995 - val_loss: 1.4586 - val_auc_19: 0.5000\n",
      "Epoch 10/50\n",
      "196038/196038 [==============================] - 24s 121us/sample - loss: 1.4605 - auc_19: 0.5002 - val_loss: 1.4567 - val_auc_19: 0.5000\n",
      "Epoch 11/50\n",
      "196038/196038 [==============================] - 24s 121us/sample - loss: 1.4589 - auc_19: 0.4985 - val_loss: 1.4567 - val_auc_19: 0.5000\n",
      "Epoch 12/50\n",
      "196038/196038 [==============================] - 24s 121us/sample - loss: 1.4578 - auc_19: 0.5009 - val_loss: 1.4567 - val_auc_19: 0.5000\n",
      "Epoch 13/50\n",
      "196038/196038 [==============================] - 24s 121us/sample - loss: 1.4570 - auc_19: 0.5036 - val_loss: 1.4584 - val_auc_19: 0.5000\n",
      "Epoch 14/50\n",
      "196038/196038 [==============================] - 24s 120us/sample - loss: 1.4571 - auc_19: 0.4966 - val_loss: 1.4566 - val_auc_19: 0.5000\n",
      "Epoch 15/50\n",
      "196038/196038 [==============================] - 24s 121us/sample - loss: 1.4568 - auc_19: 0.4971 - val_loss: 1.4572 - val_auc_19: 0.5000\n",
      "Epoch 16/50\n",
      "196038/196038 [==============================] - 24s 121us/sample - loss: 1.4567 - auc_19: 0.4999 - val_loss: 1.4566 - val_auc_19: 0.5000\n",
      "Epoch 17/50\n",
      "196038/196038 [==============================] - 24s 121us/sample - loss: 1.4566 - auc_19: 0.4954 - val_loss: 1.4566 - val_auc_19: 0.5000\n",
      "Epoch 18/50\n",
      "196038/196038 [==============================] - 24s 121us/sample - loss: 1.4566 - auc_19: 0.5018 - val_loss: 1.4566 - val_auc_19: 0.5000\n",
      "Epoch 19/50\n",
      "196038/196038 [==============================] - 24s 120us/sample - loss: 1.4566 - auc_19: 0.4975 - val_loss: 1.4566 - val_auc_19: 0.5000\n",
      "Epoch 20/50\n",
      "196038/196038 [==============================] - 24s 121us/sample - loss: 1.4565 - auc_19: 0.5000 - val_loss: 1.4566 - val_auc_19: 0.5000\n",
      "Epoch 21/50\n",
      "196038/196038 [==============================] - 24s 121us/sample - loss: 1.4565 - auc_19: 0.4986 - val_loss: 1.4566 - val_auc_19: 0.5000\n",
      "Epoch 22/50\n",
      "196038/196038 [==============================] - 24s 120us/sample - loss: 1.4565 - auc_19: 0.5000 - val_loss: 1.4566 - val_auc_19: 0.5000\n",
      "Epoch 23/50\n",
      "196038/196038 [==============================] - 24s 121us/sample - loss: 1.4565 - auc_19: 0.5000 - val_loss: 1.4566 - val_auc_19: 0.5000\n",
      "Epoch 24/50\n",
      "196038/196038 [==============================] - 24s 120us/sample - loss: 1.4565 - auc_19: 0.5000 - val_loss: 1.4566 - val_auc_19: 0.5000\n",
      "Epoch 25/50\n",
      "196038/196038 [==============================] - 24s 121us/sample - loss: 1.4565 - auc_19: 0.5000 - val_loss: 1.4566 - val_auc_19: 0.5000\n",
      "Epoch 26/50\n",
      "196038/196038 [==============================] - 24s 120us/sample - loss: 1.4565 - auc_19: 0.5000 - val_loss: 1.4566 - val_auc_19: 0.5000\n",
      "Epoch 27/50\n",
      "196038/196038 [==============================] - 24s 120us/sample - loss: 1.4565 - auc_19: 0.5000 - val_loss: 1.4566 - val_auc_19: 0.5000\n",
      "Epoch 28/50\n",
      "196038/196038 [==============================] - 24s 120us/sample - loss: 1.4565 - auc_19: 0.5000 - val_loss: 1.4566 - val_auc_19: 0.5000\n"
     ]
    },
    {
     "name": "stderr",
     "output_type": "stream",
     "text": [
      "\u001b[32m[I 2021-01-05 01:47:03,820]\u001b[0m Trial 19 finished with value: 0.5 and parameters: {'step': 4, 'no._units': 521, 'number': 5, 'best_weight': {0: 1.0, 1: 15.0}}. Best is trial 6 with value: 0.7538299264111656.\u001b[0m\n"
     ]
    },
    {
     "name": "stdout",
     "output_type": "stream",
     "text": [
      "WARNING:tensorflow:sample_weight modes were coerced from\n",
      "  ...\n",
      "    to  \n",
      "  ['...']\n",
      "WARNING:tensorflow:sample_weight modes were coerced from\n",
      "  ...\n",
      "    to  \n",
      "  ['...']\n",
      "Train on 196038 samples, validate on 34595 samples\n",
      "Epoch 1/50\n",
      "196038/196038 [==============================] - 18s 94us/sample - loss: 1.7434 - auc_20: 0.5290 - val_loss: 1.6259 - val_auc_20: 0.5000\n",
      "Epoch 2/50\n",
      "196038/196038 [==============================] - 18s 90us/sample - loss: 1.4445 - auc_20: 0.4994 - val_loss: 1.3795 - val_auc_20: 0.5000\n",
      "Epoch 3/50\n",
      "196038/196038 [==============================] - 18s 89us/sample - loss: 1.3634 - auc_20: 0.4973 - val_loss: 1.3494 - val_auc_20: 0.5000\n",
      "Epoch 4/50\n",
      "196038/196038 [==============================] - 18s 90us/sample - loss: 1.3456 - auc_20: 0.4984 - val_loss: 1.3125 - val_auc_20: 0.5000\n",
      "Epoch 5/50\n",
      "196038/196038 [==============================] - 18s 90us/sample - loss: 1.3317 - auc_20: 0.5008 - val_loss: 1.3179 - val_auc_20: 0.5000\n",
      "Epoch 6/50\n",
      "196038/196038 [==============================] - 17s 89us/sample - loss: 1.3253 - auc_20: 0.5024 - val_loss: 1.3222 - val_auc_20: 0.5000\n",
      "Epoch 7/50\n",
      "196038/196038 [==============================] - 17s 89us/sample - loss: 1.3184 - auc_20: 0.4994 - val_loss: 1.3450 - val_auc_20: 0.5000\n",
      "Epoch 8/50\n",
      "196038/196038 [==============================] - 18s 89us/sample - loss: 1.3144 - auc_20: 0.5009 - val_loss: 1.3085 - val_auc_20: 0.5000\n",
      "Epoch 9/50\n",
      "196038/196038 [==============================] - 18s 90us/sample - loss: 1.3120 - auc_20: 0.4968 - val_loss: 1.3255 - val_auc_20: 0.5000\n",
      "Epoch 10/50\n",
      "196038/196038 [==============================] - 18s 90us/sample - loss: 1.3101 - auc_20: 0.5014 - val_loss: 1.3081 - val_auc_20: 0.5000\n",
      "Epoch 11/50\n",
      "196038/196038 [==============================] - 18s 90us/sample - loss: 1.3092 - auc_20: 0.4993 - val_loss: 1.3084 - val_auc_20: 0.5000\n",
      "Epoch 12/50\n",
      "196038/196038 [==============================] - 18s 89us/sample - loss: 1.3087 - auc_20: 0.4999 - val_loss: 1.3096 - val_auc_20: 0.5000\n",
      "Epoch 13/50\n",
      "196038/196038 [==============================] - 17s 89us/sample - loss: 1.3084 - auc_20: 0.4985 - val_loss: 1.3081 - val_auc_20: 0.5000\n",
      "Epoch 14/50\n",
      "196038/196038 [==============================] - 17s 89us/sample - loss: 1.3081 - auc_20: 0.5021 - val_loss: 1.3089 - val_auc_20: 0.5000\n"
     ]
    },
    {
     "name": "stderr",
     "output_type": "stream",
     "text": [
      "\u001b[32m[I 2021-01-05 01:51:11,985]\u001b[0m Trial 20 finished with value: 0.5 and parameters: {'step': 4, 'no._units': 292, 'number': 3, 'best_weight': {0: 1.0, 1: 12.0}}. Best is trial 6 with value: 0.7538299264111656.\u001b[0m\n"
     ]
    },
    {
     "name": "stdout",
     "output_type": "stream",
     "text": [
      "WARNING:tensorflow:sample_weight modes were coerced from\n",
      "  ...\n",
      "    to  \n",
      "  ['...']\n",
      "WARNING:tensorflow:sample_weight modes were coerced from\n",
      "  ...\n",
      "    to  \n",
      "  ['...']\n",
      "Train on 196038 samples, validate on 34595 samples\n",
      "Epoch 1/50\n",
      "196038/196038 [==============================] - 18s 90us/sample - loss: 6.4481 - auc_21: 0.6110 - val_loss: 2.9836 - val_auc_21: 0.7144\n",
      "Epoch 2/50\n",
      "196038/196038 [==============================] - 17s 86us/sample - loss: 1.6002 - auc_21: 0.6658 - val_loss: 1.3839 - val_auc_21: 0.7383\n",
      "Epoch 3/50\n",
      "196038/196038 [==============================] - 17s 86us/sample - loss: 1.4466 - auc_21: 0.7033 - val_loss: 1.8699 - val_auc_21: 0.7485\n",
      "Epoch 4/50\n",
      "196038/196038 [==============================] - 17s 85us/sample - loss: 1.3698 - auc_21: 0.7250 - val_loss: 1.7403 - val_auc_21: 0.7480\n",
      "Epoch 5/50\n",
      "196038/196038 [==============================] - 17s 85us/sample - loss: 1.3215 - auc_21: 0.7429 - val_loss: 1.3082 - val_auc_21: 0.7422\n",
      "Epoch 6/50\n",
      "196038/196038 [==============================] - 17s 86us/sample - loss: 1.2820 - auc_21: 0.7579 - val_loss: 1.3159 - val_auc_21: 0.7493\n",
      "Epoch 7/50\n",
      "196038/196038 [==============================] - 17s 86us/sample - loss: 1.2459 - auc_21: 0.7719 - val_loss: 1.3217 - val_auc_21: 0.7511\n",
      "Epoch 8/50\n",
      "196038/196038 [==============================] - 17s 86us/sample - loss: 1.2222 - auc_21: 0.7826 - val_loss: 1.3256 - val_auc_21: 0.7470\n",
      "Epoch 9/50\n",
      "196038/196038 [==============================] - 17s 86us/sample - loss: 1.2006 - auc_21: 0.7899 - val_loss: 1.3963 - val_auc_21: 0.7480\n"
     ]
    },
    {
     "name": "stderr",
     "output_type": "stream",
     "text": [
      "\u001b[32m[I 2021-01-05 01:53:45,295]\u001b[0m Trial 21 finished with value: 0.7425043670565185 and parameters: {'step': 5, 'no._units': 541, 'number': 2, 'best_weight': {0: 1.0, 1: 16.0}}. Best is trial 6 with value: 0.7538299264111656.\u001b[0m\n"
     ]
    },
    {
     "name": "stdout",
     "output_type": "stream",
     "text": [
      "WARNING:tensorflow:sample_weight modes were coerced from\n",
      "  ...\n",
      "    to  \n",
      "  ['...']\n",
      "WARNING:tensorflow:sample_weight modes were coerced from\n",
      "  ...\n",
      "    to  \n",
      "  ['...']\n",
      "Train on 196038 samples, validate on 34595 samples\n",
      "Epoch 1/50\n",
      "196038/196038 [==============================] - 18s 93us/sample - loss: 4.7534 - auc_22: 0.6107 - val_loss: 2.4777 - val_auc_22: 0.7206\n",
      "Epoch 2/50\n",
      "196038/196038 [==============================] - 17s 88us/sample - loss: 1.8623 - auc_22: 0.6890 - val_loss: 1.3173 - val_auc_22: 0.7379\n",
      "Epoch 3/50\n",
      "196038/196038 [==============================] - 17s 88us/sample - loss: 1.3593 - auc_22: 0.7238 - val_loss: 1.3400 - val_auc_22: 0.7471\n",
      "Epoch 4/50\n",
      "196038/196038 [==============================] - 17s 88us/sample - loss: 1.3030 - auc_22: 0.7464 - val_loss: 1.5077 - val_auc_22: 0.7422\n",
      "Epoch 5/50\n",
      "196038/196038 [==============================] - 17s 88us/sample - loss: 1.2670 - auc_22: 0.7613 - val_loss: 1.4230 - val_auc_22: 0.7516\n",
      "Epoch 6/50\n",
      "196038/196038 [==============================] - 17s 88us/sample - loss: 1.2392 - auc_22: 0.7727 - val_loss: 1.3057 - val_auc_22: 0.7499\n",
      "Epoch 7/50\n",
      "196038/196038 [==============================] - 17s 88us/sample - loss: 1.2227 - auc_22: 0.7793 - val_loss: 1.3105 - val_auc_22: 0.7509\n",
      "Epoch 8/50\n",
      "196038/196038 [==============================] - 17s 88us/sample - loss: 1.2139 - auc_22: 0.7829 - val_loss: 1.2990 - val_auc_22: 0.7504\n",
      "Epoch 9/50\n",
      "196038/196038 [==============================] - 17s 87us/sample - loss: 1.2094 - auc_22: 0.7847 - val_loss: 1.3027 - val_auc_22: 0.7506\n",
      "Epoch 10/50\n",
      "196038/196038 [==============================] - 17s 88us/sample - loss: 1.2072 - auc_22: 0.7857 - val_loss: 1.3040 - val_auc_22: 0.7506\n",
      "Epoch 11/50\n",
      "196038/196038 [==============================] - 17s 88us/sample - loss: 1.2061 - auc_22: 0.7861 - val_loss: 1.3047 - val_auc_22: 0.7505\n",
      "Epoch 12/50\n",
      "196038/196038 [==============================] - 17s 87us/sample - loss: 1.2057 - auc_22: 0.7863 - val_loss: 1.3039 - val_auc_22: 0.7505\n"
     ]
    },
    {
     "name": "stderr",
     "output_type": "stream",
     "text": [
      "\u001b[32m[I 2021-01-05 01:57:14,324]\u001b[0m Trial 22 finished with value: 0.7504404152771896 and parameters: {'step': 3, 'no._units': 501, 'number': 2, 'best_weight': {0: 1.0, 1: 16.0}}. Best is trial 6 with value: 0.7538299264111656.\u001b[0m\n"
     ]
    },
    {
     "name": "stdout",
     "output_type": "stream",
     "text": [
      "WARNING:tensorflow:sample_weight modes were coerced from\n",
      "  ...\n",
      "    to  \n",
      "  ['...']\n",
      "WARNING:tensorflow:sample_weight modes were coerced from\n",
      "  ...\n",
      "    to  \n",
      "  ['...']\n",
      "Train on 196038 samples, validate on 34595 samples\n",
      "Epoch 1/50\n",
      "196038/196038 [==============================] - 18s 93us/sample - loss: 6.7135 - auc_23: 0.5755 - val_loss: 3.9780 - val_auc_23: 0.6232\n",
      "Epoch 2/50\n",
      "196038/196038 [==============================] - 17s 88us/sample - loss: 1.7404 - auc_23: 0.6557 - val_loss: 1.5784 - val_auc_23: 0.7296\n",
      "Epoch 3/50\n",
      "196038/196038 [==============================] - 17s 88us/sample - loss: 1.4676 - auc_23: 0.6953 - val_loss: 1.6627 - val_auc_23: 0.7368\n",
      "Epoch 4/50\n",
      "196038/196038 [==============================] - 17s 88us/sample - loss: 1.3897 - auc_23: 0.7171 - val_loss: 2.1479 - val_auc_23: 0.7481\n",
      "Epoch 5/50\n",
      "196038/196038 [==============================] - 17s 88us/sample - loss: 1.3382 - auc_23: 0.7357 - val_loss: 1.4144 - val_auc_23: 0.7480\n",
      "Epoch 6/50\n",
      "196038/196038 [==============================] - 17s 88us/sample - loss: 1.2954 - auc_23: 0.7522 - val_loss: 1.3051 - val_auc_23: 0.7484\n",
      "Epoch 7/50\n",
      "196038/196038 [==============================] - 17s 88us/sample - loss: 1.2656 - auc_23: 0.7645 - val_loss: 1.3330 - val_auc_23: 0.7495\n",
      "Epoch 8/50\n",
      "196038/196038 [==============================] - 17s 88us/sample - loss: 1.2372 - auc_23: 0.7755 - val_loss: 1.2995 - val_auc_23: 0.7483\n",
      "Epoch 9/50\n",
      "196038/196038 [==============================] - 17s 88us/sample - loss: 1.2123 - auc_23: 0.7858 - val_loss: 1.3150 - val_auc_23: 0.7452\n",
      "Epoch 10/50\n",
      "196038/196038 [==============================] - 17s 88us/sample - loss: 1.1924 - auc_23: 0.7938 - val_loss: 1.3325 - val_auc_23: 0.7441\n",
      "Epoch 11/50\n",
      "196038/196038 [==============================] - 17s 88us/sample - loss: 1.1754 - auc_23: 0.8004 - val_loss: 1.3358 - val_auc_23: 0.7418\n",
      "Epoch 12/50\n",
      "196038/196038 [==============================] - 17s 88us/sample - loss: 1.1639 - auc_23: 0.8047 - val_loss: 1.3556 - val_auc_23: 0.7416\n"
     ]
    },
    {
     "name": "stderr",
     "output_type": "stream",
     "text": [
      "\u001b[32m[I 2021-01-05 02:00:44,177]\u001b[0m Trial 23 finished with value: 0.7482348600620113 and parameters: {'step': 6, 'no._units': 553, 'number': 2, 'best_weight': {0: 1.0, 1: 16.0}}. Best is trial 6 with value: 0.7538299264111656.\u001b[0m\n"
     ]
    },
    {
     "name": "stdout",
     "output_type": "stream",
     "text": [
      "WARNING:tensorflow:sample_weight modes were coerced from\n",
      "  ...\n",
      "    to  \n",
      "  ['...']\n",
      "WARNING:tensorflow:sample_weight modes were coerced from\n",
      "  ...\n",
      "    to  \n",
      "  ['...']\n",
      "Train on 196038 samples, validate on 34595 samples\n",
      "Epoch 1/50\n",
      "196038/196038 [==============================] - 21s 107us/sample - loss: 3.2651 - auc_24: 0.5029 - val_loss: 2.9235 - val_auc_24: 0.5000\n",
      "Epoch 2/50\n",
      "196038/196038 [==============================] - 20s 101us/sample - loss: 1.8159 - auc_24: 0.5004 - val_loss: 1.8229 - val_auc_24: 0.5000\n",
      "Epoch 3/50\n",
      "196038/196038 [==============================] - 20s 101us/sample - loss: 1.6438 - auc_24: 0.5015 - val_loss: 1.8990 - val_auc_24: 0.5000\n",
      "Epoch 4/50\n",
      "196038/196038 [==============================] - 20s 100us/sample - loss: 1.5970 - auc_24: 0.4964 - val_loss: 1.9326 - val_auc_24: 0.5000\n",
      "Epoch 5/50\n",
      "196038/196038 [==============================] - 20s 101us/sample - loss: 1.5658 - auc_24: 0.4999 - val_loss: 1.6887 - val_auc_24: 0.5000\n",
      "Epoch 6/50\n",
      "196038/196038 [==============================] - 20s 101us/sample - loss: 1.5478 - auc_24: 0.5013 - val_loss: 1.6296 - val_auc_24: 0.5000\n",
      "Epoch 7/50\n",
      "196038/196038 [==============================] - 20s 100us/sample - loss: 1.5361 - auc_24: 0.5009 - val_loss: 1.5224 - val_auc_24: 0.5000\n",
      "Epoch 8/50\n",
      "196038/196038 [==============================] - 20s 101us/sample - loss: 1.5266 - auc_24: 0.5016 - val_loss: 1.5082 - val_auc_24: 0.5000\n",
      "Epoch 9/50\n",
      "196038/196038 [==============================] - 20s 101us/sample - loss: 1.5178 - auc_24: 0.5035 - val_loss: 1.5556 - val_auc_24: 0.5000\n",
      "Epoch 10/50\n",
      "196038/196038 [==============================] - 20s 100us/sample - loss: 1.5146 - auc_24: 0.5015 - val_loss: 1.5093 - val_auc_24: 0.5000\n",
      "Epoch 11/50\n",
      "196038/196038 [==============================] - 20s 100us/sample - loss: 1.5093 - auc_24: 0.4990 - val_loss: 1.5240 - val_auc_24: 0.5000\n",
      "Epoch 12/50\n",
      "196038/196038 [==============================] - 20s 101us/sample - loss: 1.5064 - auc_24: 0.4978 - val_loss: 1.5046 - val_auc_24: 0.5000\n",
      "Epoch 13/50\n",
      "196038/196038 [==============================] - 20s 100us/sample - loss: 1.5048 - auc_24: 0.4975 - val_loss: 1.5180 - val_auc_24: 0.5000\n",
      "Epoch 14/50\n",
      "196038/196038 [==============================] - 20s 100us/sample - loss: 1.5030 - auc_24: 0.5016 - val_loss: 1.5051 - val_auc_24: 0.5000\n",
      "Epoch 15/50\n",
      "196038/196038 [==============================] - 20s 101us/sample - loss: 1.5023 - auc_24: 0.5013 - val_loss: 1.5038 - val_auc_24: 0.5000\n",
      "Epoch 16/50\n",
      "196038/196038 [==============================] - 20s 101us/sample - loss: 1.5020 - auc_24: 0.4979 - val_loss: 1.5011 - val_auc_24: 0.5000\n",
      "Epoch 17/50\n",
      "196038/196038 [==============================] - 20s 101us/sample - loss: 1.5015 - auc_24: 0.4999 - val_loss: 1.5011 - val_auc_24: 0.5000\n",
      "Epoch 18/50\n",
      "196038/196038 [==============================] - 20s 101us/sample - loss: 1.5014 - auc_24: 0.4997 - val_loss: 1.5019 - val_auc_24: 0.5000\n",
      "Epoch 19/50\n",
      "196038/196038 [==============================] - 20s 101us/sample - loss: 1.5012 - auc_24: 0.5012 - val_loss: 1.5011 - val_auc_24: 0.5000\n",
      "Epoch 20/50\n",
      "196038/196038 [==============================] - 20s 100us/sample - loss: 1.5012 - auc_24: 0.4975 - val_loss: 1.5014 - val_auc_24: 0.5000\n"
     ]
    },
    {
     "name": "stderr",
     "output_type": "stream",
     "text": [
      "\u001b[32m[I 2021-01-05 02:07:21,274]\u001b[0m Trial 24 finished with value: 0.5 and parameters: {'step': 5, 'no._units': 599, 'number': 3, 'best_weight': {0: 1.0, 1: 16.0}}. Best is trial 6 with value: 0.7538299264111656.\u001b[0m\n"
     ]
    },
    {
     "name": "stdout",
     "output_type": "stream",
     "text": [
      "WARNING:tensorflow:sample_weight modes were coerced from\n",
      "  ...\n",
      "    to  \n",
      "  ['...']\n",
      "WARNING:tensorflow:sample_weight modes were coerced from\n",
      "  ...\n",
      "    to  \n",
      "  ['...']\n",
      "Train on 196038 samples, validate on 34595 samples\n",
      "Epoch 1/50\n",
      "196038/196038 [==============================] - 18s 90us/sample - loss: 4.1023 - auc_25: 0.6229 - val_loss: 3.4908 - val_auc_25: 0.7169\n",
      "Epoch 2/50\n",
      "196038/196038 [==============================] - 17s 85us/sample - loss: 1.5835 - auc_25: 0.6890 - val_loss: 2.1023 - val_auc_25: 0.7294\n",
      "Epoch 3/50\n",
      "196038/196038 [==============================] - 17s 86us/sample - loss: 1.3919 - auc_25: 0.7193 - val_loss: 1.5165 - val_auc_25: 0.7414\n",
      "Epoch 4/50\n",
      "196038/196038 [==============================] - 17s 85us/sample - loss: 1.3267 - auc_25: 0.7360 - val_loss: 1.4270 - val_auc_25: 0.7505\n",
      "Epoch 5/50\n",
      "196038/196038 [==============================] - 17s 85us/sample - loss: 1.2888 - auc_25: 0.7531 - val_loss: 1.4612 - val_auc_25: 0.7500\n",
      "Epoch 6/50\n",
      "196038/196038 [==============================] - 17s 85us/sample - loss: 1.2546 - auc_25: 0.7667 - val_loss: 1.4172 - val_auc_25: 0.7487\n",
      "Epoch 7/50\n",
      "196038/196038 [==============================] - 17s 85us/sample - loss: 1.2324 - auc_25: 0.7769 - val_loss: 1.3922 - val_auc_25: 0.7497\n",
      "Epoch 8/50\n",
      "196038/196038 [==============================] - 17s 85us/sample - loss: 1.2133 - auc_25: 0.7841 - val_loss: 1.4205 - val_auc_25: 0.7481\n",
      "Epoch 9/50\n",
      "196038/196038 [==============================] - 17s 85us/sample - loss: 1.2022 - auc_25: 0.7887 - val_loss: 1.4135 - val_auc_25: 0.7477\n",
      "Epoch 10/50\n",
      "196038/196038 [==============================] - 18s 92us/sample - loss: 1.1955 - auc_25: 0.7914 - val_loss: 1.4233 - val_auc_25: 0.7469\n",
      "Epoch 11/50\n",
      "196038/196038 [==============================] - 17s 89us/sample - loss: 1.1916 - auc_25: 0.7929 - val_loss: 1.4274 - val_auc_25: 0.7460\n"
     ]
    },
    {
     "name": "stderr",
     "output_type": "stream",
     "text": [
      "\u001b[32m[I 2021-01-05 02:10:29,364]\u001b[0m Trial 25 finished with value: 0.7499886234403333 and parameters: {'step': 4, 'no._units': 432, 'number': 2, 'best_weight': {0: 1.0, 1: 16.0}}. Best is trial 6 with value: 0.7538299264111656.\u001b[0m\n"
     ]
    },
    {
     "name": "stdout",
     "output_type": "stream",
     "text": [
      "WARNING:tensorflow:sample_weight modes were coerced from\n",
      "  ...\n",
      "    to  \n",
      "  ['...']\n",
      "WARNING:tensorflow:sample_weight modes were coerced from\n",
      "  ...\n",
      "    to  \n",
      "  ['...']\n",
      "Train on 196038 samples, validate on 34595 samples\n",
      "Epoch 1/50\n",
      "196038/196038 [==============================] - 18s 93us/sample - loss: 3.6749 - auc_26: 0.5682 - val_loss: 3.0846 - val_auc_26: 0.5844\n",
      "Epoch 2/50\n",
      "196038/196038 [==============================] - 17s 86us/sample - loss: 1.5338 - auc_26: 0.6679 - val_loss: 1.5726 - val_auc_26: 0.7414\n",
      "Epoch 3/50\n",
      "196038/196038 [==============================] - 17s 86us/sample - loss: 1.3841 - auc_26: 0.7389 - val_loss: 1.4483 - val_auc_26: 0.7512\n",
      "Epoch 4/50\n",
      "196038/196038 [==============================] - 17s 87us/sample - loss: 1.3333 - auc_26: 0.7600 - val_loss: 1.3690 - val_auc_26: 0.7530\n",
      "Epoch 5/50\n",
      "196038/196038 [==============================] - 17s 87us/sample - loss: 1.3113 - auc_26: 0.7691 - val_loss: 1.3588 - val_auc_26: 0.7545\n",
      "Epoch 6/50\n",
      "196038/196038 [==============================] - 17s 88us/sample - loss: 1.3014 - auc_26: 0.7733 - val_loss: 1.3592 - val_auc_26: 0.7544\n",
      "Epoch 7/50\n",
      "196038/196038 [==============================] - 17s 88us/sample - loss: 1.2980 - auc_26: 0.7745 - val_loss: 1.3582 - val_auc_26: 0.7545\n",
      "Epoch 8/50\n",
      "196038/196038 [==============================] - 17s 88us/sample - loss: 1.2969 - auc_26: 0.7750 - val_loss: 1.3591 - val_auc_26: 0.7544\n",
      "Epoch 9/50\n",
      "196038/196038 [==============================] - 18s 91us/sample - loss: 1.2965 - auc_26: 0.7752 - val_loss: 1.3584 - val_auc_26: 0.7544\n",
      "Epoch 10/50\n",
      "196038/196038 [==============================] - 18s 92us/sample - loss: 1.2963 - auc_26: 0.7753 - val_loss: 1.3585 - val_auc_26: 0.7544\n",
      "Epoch 11/50\n",
      "196038/196038 [==============================] - 17s 88us/sample - loss: 1.2963 - auc_26: 0.7753 - val_loss: 1.3584 - val_auc_26: 0.7544\n"
     ]
    },
    {
     "name": "stderr",
     "output_type": "stream",
     "text": [
      "\u001b[32m[I 2021-01-05 02:13:42,150]\u001b[0m Trial 26 finished with value: 0.7544660736805222 and parameters: {'step': 2, 'no._units': 473, 'number': 2, 'best_weight': {0: 1.0, 1: 18.0}}. Best is trial 26 with value: 0.7544660736805222.\u001b[0m\n"
     ]
    },
    {
     "name": "stdout",
     "output_type": "stream",
     "text": [
      "WARNING:tensorflow:sample_weight modes were coerced from\n",
      "  ...\n",
      "    to  \n",
      "  ['...']\n",
      "WARNING:tensorflow:sample_weight modes were coerced from\n",
      "  ...\n",
      "    to  \n",
      "  ['...']\n",
      "Train on 196038 samples, validate on 34595 samples\n",
      "Epoch 1/50\n",
      "196038/196038 [==============================] - 20s 102us/sample - loss: 2.5206 - auc_27: 0.5263 - val_loss: 3.2936 - val_auc_27: 0.5000\n",
      "Epoch 2/50\n",
      "196038/196038 [==============================] - 20s 100us/sample - loss: 1.6702 - auc_27: 0.5004 - val_loss: 1.7223 - val_auc_27: 0.5000\n",
      "Epoch 3/50\n",
      "196038/196038 [==============================] - 19s 97us/sample - loss: 1.6203 - auc_27: 0.4996 - val_loss: 1.6669 - val_auc_27: 0.5000\n",
      "Epoch 4/50\n",
      "196038/196038 [==============================] - 19s 97us/sample - loss: 1.5988 - auc_27: 0.5012 - val_loss: 1.5864 - val_auc_27: 0.5000\n",
      "Epoch 5/50\n",
      "196038/196038 [==============================] - 19s 97us/sample - loss: 1.5911 - auc_27: 0.4975 - val_loss: 1.5838 - val_auc_27: 0.4999\n",
      "Epoch 6/50\n",
      "196038/196038 [==============================] - 19s 96us/sample - loss: 1.5860 - auc_27: 0.4953 - val_loss: 1.5847 - val_auc_27: 0.4995\n",
      "Epoch 7/50\n",
      "196038/196038 [==============================] - 19s 97us/sample - loss: 1.5844 - auc_27: 0.4969 - val_loss: 1.5847 - val_auc_27: 0.4995\n",
      "Epoch 8/50\n",
      "196038/196038 [==============================] - 19s 96us/sample - loss: 1.5838 - auc_27: 0.4999 - val_loss: 1.5840 - val_auc_27: 0.4995\n",
      "Epoch 9/50\n",
      "196038/196038 [==============================] - 19s 99us/sample - loss: 1.5837 - auc_27: 0.4980 - val_loss: 1.5840 - val_auc_27: 0.4993\n"
     ]
    },
    {
     "name": "stderr",
     "output_type": "stream",
     "text": [
      "\u001b[32m[I 2021-01-05 02:16:36,644]\u001b[0m Trial 27 finished with value: 0.49948240875396827 and parameters: {'step': 2, 'no._units': 404, 'number': 3, 'best_weight': {0: 1.0, 1: 18.0}}. Best is trial 26 with value: 0.7544660736805222.\u001b[0m\n"
     ]
    },
    {
     "name": "stdout",
     "output_type": "stream",
     "text": [
      "WARNING:tensorflow:sample_weight modes were coerced from\n",
      "  ...\n",
      "    to  \n",
      "  ['...']\n",
      "WARNING:tensorflow:sample_weight modes were coerced from\n",
      "  ...\n",
      "    to  \n",
      "  ['...']\n",
      "Train on 196038 samples, validate on 34595 samples\n",
      "Epoch 1/50\n",
      "196038/196038 [==============================] - 18s 93us/sample - loss: 7.5081 - auc_28: 0.6215 - val_loss: 2.1105 - val_auc_28: 0.7221\n",
      "Epoch 2/50\n",
      "196038/196038 [==============================] - 17s 88us/sample - loss: 1.5435 - auc_28: 0.6982 - val_loss: 1.4231 - val_auc_28: 0.7448\n",
      "Epoch 3/50\n",
      "196038/196038 [==============================] - 17s 87us/sample - loss: 1.4283 - auc_28: 0.7264 - val_loss: 1.3942 - val_auc_28: 0.7488\n",
      "Epoch 4/50\n",
      "196038/196038 [==============================] - 17s 89us/sample - loss: 1.3711 - auc_28: 0.7469 - val_loss: 1.3686 - val_auc_28: 0.7503\n",
      "Epoch 5/50\n",
      "196038/196038 [==============================] - 17s 89us/sample - loss: 1.3323 - auc_28: 0.7626 - val_loss: 1.4335 - val_auc_28: 0.7523\n",
      "Epoch 6/50\n",
      "196038/196038 [==============================] - 17s 89us/sample - loss: 1.3084 - auc_28: 0.7725 - val_loss: 1.3565 - val_auc_28: 0.7531\n",
      "Epoch 7/50\n",
      "196038/196038 [==============================] - 17s 88us/sample - loss: 1.2928 - auc_28: 0.7789 - val_loss: 1.3568 - val_auc_28: 0.7536\n",
      "Epoch 8/50\n",
      "196038/196038 [==============================] - 17s 88us/sample - loss: 1.2851 - auc_28: 0.7821 - val_loss: 1.3598 - val_auc_28: 0.7533\n",
      "Epoch 9/50\n",
      "196038/196038 [==============================] - 17s 88us/sample - loss: 1.2813 - auc_28: 0.7837 - val_loss: 1.3585 - val_auc_28: 0.7531\n",
      "Epoch 10/50\n",
      "196038/196038 [==============================] - 17s 88us/sample - loss: 1.2793 - auc_28: 0.7845 - val_loss: 1.3589 - val_auc_28: 0.7530\n"
     ]
    },
    {
     "name": "stderr",
     "output_type": "stream",
     "text": [
      "\u001b[32m[I 2021-01-05 02:19:31,758]\u001b[0m Trial 28 finished with value: 0.7532887320406003 and parameters: {'step': 3, 'no._units': 472, 'number': 2, 'best_weight': {0: 1.0, 1: 18.0}}. Best is trial 26 with value: 0.7544660736805222.\u001b[0m\n"
     ]
    },
    {
     "name": "stdout",
     "output_type": "stream",
     "text": [
      "WARNING:tensorflow:sample_weight modes were coerced from\n",
      "  ...\n",
      "    to  \n",
      "  ['...']\n",
      "WARNING:tensorflow:sample_weight modes were coerced from\n",
      "  ...\n",
      "    to  \n",
      "  ['...']\n",
      "Train on 196038 samples, validate on 34595 samples\n",
      "Epoch 1/50\n",
      "196038/196038 [==============================] - 26s 133us/sample - loss: 289.0927 - auc_29: 0.5034 - val_loss: 1.6162 - val_auc_29: 0.5000\n",
      "Epoch 2/50\n",
      "196038/196038 [==============================] - 25s 127us/sample - loss: 1.6112 - auc_29: 0.4975 - val_loss: 1.6613 - val_auc_29: 0.5000\n",
      "Epoch 3/50\n",
      "196038/196038 [==============================] - 25s 127us/sample - loss: 1.6025 - auc_29: 0.5005 - val_loss: 1.6734 - val_auc_29: 0.5000\n",
      "Epoch 4/50\n",
      "196038/196038 [==============================] - 25s 129us/sample - loss: 1.5988 - auc_29: 0.4989 - val_loss: 1.5976 - val_auc_29: 0.5000\n",
      "Epoch 5/50\n",
      "196038/196038 [==============================] - 25s 127us/sample - loss: 1.5901 - auc_29: 0.5015 - val_loss: 1.5991 - val_auc_29: 0.5000\n",
      "Epoch 6/50\n",
      "196038/196038 [==============================] - 25s 128us/sample - loss: 1.5861 - auc_29: 0.4983 - val_loss: 1.5964 - val_auc_29: 0.5000\n",
      "Epoch 7/50\n",
      "196038/196038 [==============================] - 24s 124us/sample - loss: 1.5844 - auc_29: 0.5014 - val_loss: 1.5946 - val_auc_29: 0.5000\n",
      "Epoch 8/50\n",
      "196038/196038 [==============================] - 24s 124us/sample - loss: 1.5840 - auc_29: 0.5003 - val_loss: 1.5946 - val_auc_29: 0.5000\n",
      "Epoch 9/50\n",
      "196038/196038 [==============================] - 25s 128us/sample - loss: 1.5838 - auc_29: 0.5005 - val_loss: 1.5946 - val_auc_29: 0.5000\n",
      "Epoch 10/50\n",
      "196038/196038 [==============================] - 25s 125us/sample - loss: 1.5837 - auc_29: 0.5006 - val_loss: 1.5946 - val_auc_29: 0.5000\n",
      "Epoch 11/50\n",
      "196038/196038 [==============================] - 25s 126us/sample - loss: 1.5838 - auc_29: 0.4995 - val_loss: 1.5946 - val_auc_29: 0.5000\n"
     ]
    },
    {
     "name": "stderr",
     "output_type": "stream",
     "text": [
      "\u001b[32m[I 2021-01-05 02:24:08,196]\u001b[0m Trial 29 finished with value: 0.5 and parameters: {'step': 2, 'no._units': 451, 'number': 6, 'best_weight': {0: 1.0, 1: 18.0}}. Best is trial 26 with value: 0.7544660736805222.\u001b[0m\n"
     ]
    },
    {
     "name": "stdout",
     "output_type": "stream",
     "text": [
      "WARNING:tensorflow:sample_weight modes were coerced from\n",
      "  ...\n",
      "    to  \n",
      "  ['...']\n",
      "WARNING:tensorflow:sample_weight modes were coerced from\n",
      "  ...\n",
      "    to  \n",
      "  ['...']\n",
      "Train on 196038 samples, validate on 34595 samples\n",
      "Epoch 1/50\n",
      "196038/196038 [==============================] - 20s 104us/sample - loss: 6.5605 - auc_30: 0.5123 - val_loss: 3.9739 - val_auc_30: 0.5000\n",
      "Epoch 2/50\n",
      "196038/196038 [==============================] - 20s 102us/sample - loss: 1.6855 - auc_30: 0.4966 - val_loss: 1.7709 - val_auc_30: 0.5000\n",
      "Epoch 3/50\n",
      "196038/196038 [==============================] - 19s 95us/sample - loss: 1.6260 - auc_30: 0.4979 - val_loss: 1.6345 - val_auc_30: 0.5000\n",
      "Epoch 4/50\n",
      "196038/196038 [==============================] - 20s 101us/sample - loss: 1.6105 - auc_30: 0.5040 - val_loss: 1.6259 - val_auc_30: 0.4984\n",
      "Epoch 5/50\n",
      "196038/196038 [==============================] - 20s 100us/sample - loss: 1.5871 - auc_30: 0.5182 - val_loss: 1.5737 - val_auc_30: 0.5435\n",
      "Epoch 6/50\n",
      "196038/196038 [==============================] - 19s 97us/sample - loss: 1.5563 - auc_30: 0.5644 - val_loss: 1.5564 - val_auc_30: 0.5746\n",
      "Epoch 7/50\n",
      "196038/196038 [==============================] - 19s 96us/sample - loss: 1.5387 - auc_30: 0.5936 - val_loss: 1.5490 - val_auc_30: 0.5883\n",
      "Epoch 8/50\n",
      "196038/196038 [==============================] - 19s 96us/sample - loss: 1.5319 - auc_30: 0.6015 - val_loss: 1.5454 - val_auc_30: 0.5934\n",
      "Epoch 9/50\n",
      "196038/196038 [==============================] - 19s 96us/sample - loss: 1.5296 - auc_30: 0.6038 - val_loss: 1.5445 - val_auc_30: 0.5943\n",
      "Epoch 10/50\n",
      "196038/196038 [==============================] - 19s 96us/sample - loss: 1.5289 - auc_30: 0.6039 - val_loss: 1.5442 - val_auc_30: 0.5945\n",
      "Epoch 11/50\n",
      "196038/196038 [==============================] - 19s 97us/sample - loss: 1.5286 - auc_30: 0.6050 - val_loss: 1.5441 - val_auc_30: 0.5953\n",
      "Epoch 12/50\n",
      "196038/196038 [==============================] - 19s 96us/sample - loss: 1.5285 - auc_30: 0.6060 - val_loss: 1.5441 - val_auc_30: 0.5953\n",
      "Epoch 13/50\n",
      "196038/196038 [==============================] - 19s 96us/sample - loss: 1.5285 - auc_30: 0.6058 - val_loss: 1.5441 - val_auc_30: 0.5953\n",
      "Epoch 14/50\n",
      "196038/196038 [==============================] - 19s 96us/sample - loss: 1.5285 - auc_30: 0.6058 - val_loss: 1.5441 - val_auc_30: 0.5953\n",
      "Epoch 15/50\n",
      "196038/196038 [==============================] - 19s 96us/sample - loss: 1.5285 - auc_30: 0.6059 - val_loss: 1.5441 - val_auc_30: 0.5953\n",
      "Epoch 16/50\n",
      "196038/196038 [==============================] - 19s 96us/sample - loss: 1.5285 - auc_30: 0.6059 - val_loss: 1.5441 - val_auc_30: 0.5953\n",
      "Epoch 17/50\n",
      "196038/196038 [==============================] - 19s 96us/sample - loss: 1.5285 - auc_30: 0.6059 - val_loss: 1.5441 - val_auc_30: 0.5953\n",
      "Epoch 18/50\n",
      "196038/196038 [==============================] - 19s 96us/sample - loss: 1.5285 - auc_30: 0.6059 - val_loss: 1.5441 - val_auc_30: 0.5953\n",
      "Epoch 19/50\n",
      "196038/196038 [==============================] - 19s 96us/sample - loss: 1.5285 - auc_30: 0.6059 - val_loss: 1.5441 - val_auc_30: 0.5953\n",
      "Epoch 20/50\n",
      "196038/196038 [==============================] - 19s 96us/sample - loss: 1.5285 - auc_30: 0.6059 - val_loss: 1.5441 - val_auc_30: 0.5953\n"
     ]
    },
    {
     "name": "stderr",
     "output_type": "stream",
     "text": [
      "\u001b[32m[I 2021-01-05 02:30:30,786]\u001b[0m Trial 30 finished with value: 0.5958220994732153 and parameters: {'step': 2, 'no._units': 475, 'number': 3, 'best_weight': {0: 1.0, 1: 18.0}}. Best is trial 26 with value: 0.7544660736805222.\u001b[0m\n"
     ]
    },
    {
     "name": "stdout",
     "output_type": "stream",
     "text": [
      "WARNING:tensorflow:sample_weight modes were coerced from\n",
      "  ...\n",
      "    to  \n",
      "  ['...']\n",
      "WARNING:tensorflow:sample_weight modes were coerced from\n",
      "  ...\n",
      "    to  \n",
      "  ['...']\n",
      "Train on 196038 samples, validate on 34595 samples\n",
      "Epoch 1/50\n",
      "196038/196038 [==============================] - 18s 90us/sample - loss: 2.7600 - auc_31: 0.6083 - val_loss: 2.7814 - val_auc_31: 0.5018\n",
      "Epoch 2/50\n",
      "196038/196038 [==============================] - 16s 84us/sample - loss: 1.6341 - auc_31: 0.6370 - val_loss: 1.6775 - val_auc_31: 0.7274\n",
      "Epoch 3/50\n",
      "196038/196038 [==============================] - 17s 84us/sample - loss: 1.4123 - auc_31: 0.7286 - val_loss: 1.7439 - val_auc_31: 0.7393\n",
      "Epoch 4/50\n",
      "196038/196038 [==============================] - 17s 84us/sample - loss: 1.3706 - auc_31: 0.7494 - val_loss: 1.3722 - val_auc_31: 0.7521\n",
      "Epoch 5/50\n",
      "196038/196038 [==============================] - 17s 85us/sample - loss: 1.3254 - auc_31: 0.7646 - val_loss: 1.3645 - val_auc_31: 0.7510\n",
      "Epoch 6/50\n",
      "196038/196038 [==============================] - 17s 84us/sample - loss: 1.3004 - auc_31: 0.7750 - val_loss: 1.3761 - val_auc_31: 0.7520\n",
      "Epoch 7/50\n",
      "196038/196038 [==============================] - 16s 83us/sample - loss: 1.2858 - auc_31: 0.7802 - val_loss: 1.3761 - val_auc_31: 0.7512\n",
      "Epoch 8/50\n",
      "196038/196038 [==============================] - 16s 83us/sample - loss: 1.2784 - auc_31: 0.7834 - val_loss: 1.3864 - val_auc_31: 0.7507\n",
      "Epoch 9/50\n",
      "196038/196038 [==============================] - 16s 84us/sample - loss: 1.2742 - auc_31: 0.7849 - val_loss: 1.3935 - val_auc_31: 0.7505\n"
     ]
    },
    {
     "name": "stderr",
     "output_type": "stream",
     "text": [
      "\u001b[32m[I 2021-01-05 02:33:01,636]\u001b[0m Trial 31 finished with value: 0.7511683631081711 and parameters: {'step': 3, 'no._units': 342, 'number': 2, 'best_weight': {0: 1.0, 1: 18.0}}. Best is trial 26 with value: 0.7544660736805222.\u001b[0m\n"
     ]
    },
    {
     "name": "stdout",
     "output_type": "stream",
     "text": [
      "WARNING:tensorflow:sample_weight modes were coerced from\n",
      "  ...\n",
      "    to  \n",
      "  ['...']\n",
      "WARNING:tensorflow:sample_weight modes were coerced from\n",
      "  ...\n",
      "    to  \n",
      "  ['...']\n",
      "Train on 196038 samples, validate on 34595 samples\n",
      "Epoch 1/50\n",
      "196038/196038 [==============================] - 17s 89us/sample - loss: 12.3027 - auc_32: 0.6237 - val_loss: 1.8743 - val_auc_32: 0.7179\n",
      "Epoch 2/50\n",
      "196038/196038 [==============================] - 17s 85us/sample - loss: 1.9375 - auc_32: 0.7054 - val_loss: 1.3904 - val_auc_32: 0.7406\n",
      "Epoch 3/50\n",
      "196038/196038 [==============================] - 17s 85us/sample - loss: 1.2689 - auc_32: 0.7259 - val_loss: 1.2337 - val_auc_32: 0.7462\n",
      "Epoch 4/50\n",
      "196038/196038 [==============================] - 17s 85us/sample - loss: 1.2193 - auc_32: 0.7469 - val_loss: 1.2194 - val_auc_32: 0.7535\n",
      "Epoch 5/50\n",
      "196038/196038 [==============================] - 17s 85us/sample - loss: 1.1863 - auc_32: 0.7625 - val_loss: 1.1992 - val_auc_32: 0.7551\n",
      "Epoch 6/50\n",
      "196038/196038 [==============================] - 17s 85us/sample - loss: 1.1583 - auc_32: 0.7740 - val_loss: 1.2162 - val_auc_32: 0.7538\n",
      "Epoch 7/50\n",
      "196038/196038 [==============================] - 17s 84us/sample - loss: 1.1444 - auc_32: 0.7804 - val_loss: 1.2132 - val_auc_32: 0.7534\n",
      "Epoch 8/50\n",
      "196038/196038 [==============================] - 17s 84us/sample - loss: 1.1353 - auc_32: 0.7837 - val_loss: 1.2127 - val_auc_32: 0.7533\n",
      "Epoch 9/50\n",
      "196038/196038 [==============================] - 17s 84us/sample - loss: 1.1309 - auc_32: 0.7855 - val_loss: 1.2131 - val_auc_32: 0.7532\n"
     ]
    },
    {
     "name": "stderr",
     "output_type": "stream",
     "text": [
      "\u001b[32m[I 2021-01-05 02:35:33,307]\u001b[0m Trial 32 finished with value: 0.7551535308664359 and parameters: {'step': 3, 'no._units': 419, 'number': 2, 'best_weight': {0: 1.0, 1: 14.0}}. Best is trial 32 with value: 0.7551535308664359.\u001b[0m\n"
     ]
    },
    {
     "name": "stdout",
     "output_type": "stream",
     "text": [
      "WARNING:tensorflow:sample_weight modes were coerced from\n",
      "  ...\n",
      "    to  \n",
      "  ['...']\n",
      "WARNING:tensorflow:sample_weight modes were coerced from\n",
      "  ...\n",
      "    to  \n",
      "  ['...']\n",
      "Train on 196038 samples, validate on 34595 samples\n",
      "Epoch 1/50\n",
      "196038/196038 [==============================] - 18s 91us/sample - loss: 5.7413 - auc_33: 0.6482 - val_loss: 1.5792 - val_auc_33: 0.7356\n",
      "Epoch 2/50\n",
      "196038/196038 [==============================] - 17s 86us/sample - loss: 3.3577 - auc_33: 0.7081 - val_loss: 1.2717 - val_auc_33: 0.7335\n",
      "Epoch 3/50\n",
      "196038/196038 [==============================] - 17s 85us/sample - loss: 1.2723 - auc_33: 0.7359 - val_loss: 2.1895 - val_auc_33: 0.7495\n",
      "Epoch 4/50\n",
      "196038/196038 [==============================] - 17s 85us/sample - loss: 1.2180 - auc_33: 0.7487 - val_loss: 1.2501 - val_auc_33: 0.7524\n",
      "Epoch 5/50\n",
      "196038/196038 [==============================] - 17s 85us/sample - loss: 1.1952 - auc_33: 0.7614 - val_loss: 1.2714 - val_auc_33: 0.7541\n",
      "Epoch 6/50\n",
      "196038/196038 [==============================] - 17s 85us/sample - loss: 1.1702 - auc_33: 0.7689 - val_loss: 1.2600 - val_auc_33: 0.7528\n",
      "Epoch 7/50\n",
      "196038/196038 [==============================] - 17s 85us/sample - loss: 1.1581 - auc_33: 0.7741 - val_loss: 1.2396 - val_auc_33: 0.7526\n",
      "Epoch 8/50\n",
      "196038/196038 [==============================] - 17s 85us/sample - loss: 1.1509 - auc_33: 0.7772 - val_loss: 1.2523 - val_auc_33: 0.7523\n",
      "Epoch 9/50\n",
      "196038/196038 [==============================] - 17s 86us/sample - loss: 1.1477 - auc_33: 0.7783 - val_loss: 1.2610 - val_auc_33: 0.7524\n",
      "Epoch 10/50\n",
      "196038/196038 [==============================] - 16s 84us/sample - loss: 1.1458 - auc_33: 0.7791 - val_loss: 1.2670 - val_auc_33: 0.7523\n",
      "Epoch 11/50\n",
      "196038/196038 [==============================] - 17s 86us/sample - loss: 1.1451 - auc_33: 0.7794 - val_loss: 1.2675 - val_auc_33: 0.7523\n"
     ]
    },
    {
     "name": "stderr",
     "output_type": "stream",
     "text": [
      "\u001b[32m[I 2021-01-05 02:38:40,070]\u001b[0m Trial 33 finished with value: 0.7526480758032611 and parameters: {'step': 3, 'no._units': 376, 'number': 2, 'best_weight': {0: 1.0, 1: 14.0}}. Best is trial 32 with value: 0.7551535308664359.\u001b[0m\n"
     ]
    },
    {
     "name": "stdout",
     "output_type": "stream",
     "text": [
      "WARNING:tensorflow:sample_weight modes were coerced from\n",
      "  ...\n",
      "    to  \n",
      "  ['...']\n",
      "WARNING:tensorflow:sample_weight modes were coerced from\n",
      "  ...\n",
      "    to  \n",
      "  ['...']\n",
      "Train on 196038 samples, validate on 34595 samples\n",
      "Epoch 1/50\n",
      "196038/196038 [==============================] - 18s 90us/sample - loss: 2.5395 - auc_34: 0.6073 - val_loss: 4.8404 - val_auc_34: 0.6859\n",
      "Epoch 2/50\n",
      "196038/196038 [==============================] - 16s 84us/sample - loss: 1.7541 - auc_34: 0.7166 - val_loss: 1.4124 - val_auc_34: 0.7503\n",
      "Epoch 3/50\n",
      "196038/196038 [==============================] - 16s 83us/sample - loss: 1.2176 - auc_34: 0.7461 - val_loss: 1.2738 - val_auc_34: 0.7547\n",
      "Epoch 4/50\n",
      "196038/196038 [==============================] - 17s 87us/sample - loss: 1.1828 - auc_34: 0.7619 - val_loss: 1.2448 - val_auc_34: 0.7560\n",
      "Epoch 5/50\n",
      "196038/196038 [==============================] - 17s 84us/sample - loss: 1.1641 - auc_34: 0.7711 - val_loss: 1.2459 - val_auc_34: 0.7559\n",
      "Epoch 6/50\n",
      "196038/196038 [==============================] - 17s 85us/sample - loss: 1.1549 - auc_34: 0.7748 - val_loss: 1.2415 - val_auc_34: 0.7561\n",
      "Epoch 7/50\n",
      "196038/196038 [==============================] - 17s 86us/sample - loss: 1.1515 - auc_34: 0.7762 - val_loss: 1.2415 - val_auc_34: 0.7560\n",
      "Epoch 8/50\n",
      "196038/196038 [==============================] - 17s 85us/sample - loss: 1.1505 - auc_34: 0.7767 - val_loss: 1.2416 - val_auc_34: 0.7560\n",
      "Epoch 9/50\n",
      "196038/196038 [==============================] - 17s 85us/sample - loss: 1.1501 - auc_34: 0.7769 - val_loss: 1.2418 - val_auc_34: 0.7559\n",
      "Epoch 10/50\n",
      "196038/196038 [==============================] - 17s 85us/sample - loss: 1.1500 - auc_34: 0.7769 - val_loss: 1.2418 - val_auc_34: 0.7560\n"
     ]
    },
    {
     "name": "stderr",
     "output_type": "stream",
     "text": [
      "\u001b[32m[I 2021-01-05 02:41:28,792]\u001b[0m Trial 34 finished with value: 0.7560548910166114 and parameters: {'step': 2, 'no._units': 423, 'number': 2, 'best_weight': {0: 1.0, 1: 14.0}}. Best is trial 34 with value: 0.7560548910166114.\u001b[0m\n"
     ]
    },
    {
     "name": "stdout",
     "output_type": "stream",
     "text": [
      "WARNING:tensorflow:sample_weight modes were coerced from\n",
      "  ...\n",
      "    to  \n",
      "  ['...']\n",
      "WARNING:tensorflow:sample_weight modes were coerced from\n",
      "  ...\n",
      "    to  \n",
      "  ['...']\n",
      "Train on 196038 samples, validate on 34595 samples\n",
      "Epoch 1/50\n",
      "196038/196038 [==============================] - 20s 101us/sample - loss: 7.6501 - auc_35: 0.5156 - val_loss: 2.0448 - val_auc_35: 0.5001\n",
      "Epoch 2/50\n",
      "196038/196038 [==============================] - 19s 97us/sample - loss: 1.4925 - auc_35: 0.4991 - val_loss: 1.5309 - val_auc_35: 0.5001\n",
      "Epoch 3/50\n",
      "196038/196038 [==============================] - 19s 96us/sample - loss: 1.4476 - auc_35: 0.4994 - val_loss: 1.4098 - val_auc_35: 0.5000\n",
      "Epoch 4/50\n",
      "196038/196038 [==============================] - 19s 96us/sample - loss: 1.4245 - auc_35: 0.4964 - val_loss: 1.4095 - val_auc_35: 0.5002\n",
      "Epoch 5/50\n",
      "196038/196038 [==============================] - 19s 96us/sample - loss: 1.4152 - auc_35: 0.4971 - val_loss: 1.4116 - val_auc_35: 0.5012\n",
      "Epoch 6/50\n",
      "196038/196038 [==============================] - 19s 96us/sample - loss: 1.4100 - auc_35: 0.5031 - val_loss: 1.4098 - val_auc_35: 0.5014\n",
      "Epoch 7/50\n",
      "196038/196038 [==============================] - 19s 96us/sample - loss: 1.4084 - auc_35: 0.5019 - val_loss: 1.4091 - val_auc_35: 0.5014\n",
      "Epoch 8/50\n",
      "196038/196038 [==============================] - 19s 96us/sample - loss: 1.4077 - auc_35: 0.5010 - val_loss: 1.4092 - val_auc_35: 0.5016\n",
      "Epoch 9/50\n",
      "196038/196038 [==============================] - 19s 96us/sample - loss: 1.4075 - auc_35: 0.5013 - val_loss: 1.4092 - val_auc_35: 0.5016\n",
      "Epoch 10/50\n",
      "196038/196038 [==============================] - 19s 96us/sample - loss: 1.4074 - auc_35: 0.4989 - val_loss: 1.4092 - val_auc_35: 0.5016\n",
      "Epoch 11/50\n",
      "196038/196038 [==============================] - 19s 96us/sample - loss: 1.4074 - auc_35: 0.5012 - val_loss: 1.4092 - val_auc_35: 0.5016\n"
     ]
    },
    {
     "name": "stderr",
     "output_type": "stream",
     "text": [
      "\u001b[32m[I 2021-01-05 02:44:58,768]\u001b[0m Trial 35 finished with value: 0.5015011767336891 and parameters: {'step': 2, 'no._units': 410, 'number': 3, 'best_weight': {0: 1.0, 1: 14.0}}. Best is trial 34 with value: 0.7560548910166114.\u001b[0m\n"
     ]
    },
    {
     "name": "stdout",
     "output_type": "stream",
     "text": [
      "WARNING:tensorflow:sample_weight modes were coerced from\n",
      "  ...\n",
      "    to  \n",
      "  ['...']\n",
      "WARNING:tensorflow:sample_weight modes were coerced from\n",
      "  ...\n",
      "    to  \n",
      "  ['...']\n",
      "Train on 196038 samples, validate on 34595 samples\n",
      "Epoch 1/50\n",
      "196038/196038 [==============================] - 17s 87us/sample - loss: 6.7985 - auc_36: 0.6170 - val_loss: 1.3506 - val_auc_36: 0.6902\n",
      "Epoch 2/50\n",
      "196038/196038 [==============================] - 16s 82us/sample - loss: 2.3482 - auc_36: 0.7056 - val_loss: 1.2469 - val_auc_36: 0.7375\n",
      "Epoch 3/50\n",
      "196038/196038 [==============================] - 16s 82us/sample - loss: 1.3134 - auc_36: 0.7398 - val_loss: 1.3057 - val_auc_36: 0.7462\n",
      "Epoch 4/50\n",
      "196038/196038 [==============================] - 16s 83us/sample - loss: 1.2107 - auc_36: 0.7529 - val_loss: 1.3155 - val_auc_36: 0.7487\n",
      "Epoch 5/50\n",
      "196038/196038 [==============================] - 16s 82us/sample - loss: 1.1875 - auc_36: 0.7600 - val_loss: 1.2885 - val_auc_36: 0.7490\n",
      "Epoch 6/50\n",
      "196038/196038 [==============================] - 16s 82us/sample - loss: 1.1793 - auc_36: 0.7625 - val_loss: 1.2850 - val_auc_36: 0.7492\n"
     ]
    },
    {
     "name": "stderr",
     "output_type": "stream",
     "text": [
      "\u001b[32m[I 2021-01-05 02:46:38,051]\u001b[0m Trial 36 finished with value: 0.7388634908085616 and parameters: {'step': 2, 'no._units': 328, 'number': 2, 'best_weight': {0: 1.0, 1: 14.0}}. Best is trial 34 with value: 0.7560548910166114.\u001b[0m\n"
     ]
    },
    {
     "name": "stdout",
     "output_type": "stream",
     "text": [
      "WARNING:tensorflow:sample_weight modes were coerced from\n",
      "  ...\n",
      "    to  \n",
      "  ['...']\n",
      "WARNING:tensorflow:sample_weight modes were coerced from\n",
      "  ...\n",
      "    to  \n",
      "  ['...']\n",
      "Train on 196038 samples, validate on 34595 samples\n",
      "Epoch 1/50\n",
      "196038/196038 [==============================] - 20s 100us/sample - loss: 6.1159 - auc_37: 0.5106 - val_loss: 2.4770 - val_auc_37: 0.5000\n",
      "Epoch 2/50\n",
      "196038/196038 [==============================] - 19s 95us/sample - loss: 1.4880 - auc_37: 0.4986 - val_loss: 1.7100 - val_auc_37: 0.5000\n",
      "Epoch 3/50\n",
      "196038/196038 [==============================] - 19s 95us/sample - loss: 1.4446 - auc_37: 0.4982 - val_loss: 1.4803 - val_auc_37: 0.5006\n",
      "Epoch 4/50\n",
      "196038/196038 [==============================] - 19s 95us/sample - loss: 1.3780 - auc_37: 0.6034 - val_loss: 1.2884 - val_auc_37: 0.7037\n",
      "Epoch 5/50\n",
      "196038/196038 [==============================] - 19s 95us/sample - loss: 1.2567 - auc_37: 0.7182 - val_loss: 1.2575 - val_auc_37: 0.7253\n",
      "Epoch 6/50\n",
      "196038/196038 [==============================] - 19s 95us/sample - loss: 1.2304 - auc_37: 0.7347 - val_loss: 1.2482 - val_auc_37: 0.7291\n",
      "Epoch 7/50\n",
      "196038/196038 [==============================] - 19s 95us/sample - loss: 1.2232 - auc_37: 0.7390 - val_loss: 1.2485 - val_auc_37: 0.7297\n",
      "Epoch 8/50\n",
      "196038/196038 [==============================] - 19s 95us/sample - loss: 1.2209 - auc_37: 0.7402 - val_loss: 1.2468 - val_auc_37: 0.7301\n",
      "Epoch 9/50\n",
      "196038/196038 [==============================] - 19s 95us/sample - loss: 1.2202 - auc_37: 0.7407 - val_loss: 1.2457 - val_auc_37: 0.7301\n",
      "Epoch 10/50\n",
      "196038/196038 [==============================] - 19s 95us/sample - loss: 1.2200 - auc_37: 0.7408 - val_loss: 1.2458 - val_auc_37: 0.7301\n",
      "Epoch 11/50\n",
      "196038/196038 [==============================] - 19s 95us/sample - loss: 1.2199 - auc_37: 0.7408 - val_loss: 1.2458 - val_auc_37: 0.7302\n",
      "Epoch 12/50\n",
      "196038/196038 [==============================] - 19s 96us/sample - loss: 1.2199 - auc_37: 0.7408 - val_loss: 1.2458 - val_auc_37: 0.7302\n",
      "Epoch 13/50\n",
      "196038/196038 [==============================] - 19s 99us/sample - loss: 1.2199 - auc_37: 0.7409 - val_loss: 1.2458 - val_auc_37: 0.7302\n"
     ]
    },
    {
     "name": "stderr",
     "output_type": "stream",
     "text": [
      "\u001b[32m[I 2021-01-05 02:50:43,462]\u001b[0m Trial 37 finished with value: 0.73035522021293 and parameters: {'step': 2, 'no._units': 426, 'number': 3, 'best_weight': {0: 1.0, 1: 14.0}}. Best is trial 34 with value: 0.7560548910166114.\u001b[0m\n"
     ]
    },
    {
     "name": "stdout",
     "output_type": "stream",
     "text": [
      "WARNING:tensorflow:sample_weight modes were coerced from\n",
      "  ...\n",
      "    to  \n",
      "  ['...']\n",
      "WARNING:tensorflow:sample_weight modes were coerced from\n",
      "  ...\n",
      "    to  \n",
      "  ['...']\n",
      "Train on 196038 samples, validate on 34595 samples\n",
      "Epoch 1/50\n",
      "196038/196038 [==============================] - 18s 91us/sample - loss: 3.4908 - auc_38: 0.6232 - val_loss: 1.9634 - val_auc_38: 0.7019\n",
      "Epoch 2/50\n",
      "196038/196038 [==============================] - 17s 86us/sample - loss: 1.3192 - auc_38: 0.7019 - val_loss: 1.2816 - val_auc_38: 0.7276\n",
      "Epoch 3/50\n",
      "196038/196038 [==============================] - 17s 86us/sample - loss: 1.2259 - auc_38: 0.7413 - val_loss: 1.2511 - val_auc_38: 0.7439\n",
      "Epoch 4/50\n",
      "196038/196038 [==============================] - 17s 86us/sample - loss: 1.1881 - auc_38: 0.7593 - val_loss: 1.2225 - val_auc_38: 0.7500\n",
      "Epoch 5/50\n",
      "196038/196038 [==============================] - 17s 85us/sample - loss: 1.1706 - auc_38: 0.7674 - val_loss: 1.2199 - val_auc_38: 0.7518\n",
      "Epoch 6/50\n",
      "196038/196038 [==============================] - 17s 85us/sample - loss: 1.1621 - auc_38: 0.7713 - val_loss: 1.2218 - val_auc_38: 0.7514\n",
      "Epoch 7/50\n",
      "196038/196038 [==============================] - 17s 85us/sample - loss: 1.1597 - auc_38: 0.7726 - val_loss: 1.2220 - val_auc_38: 0.7513\n",
      "Epoch 8/50\n",
      "196038/196038 [==============================] - 17s 85us/sample - loss: 1.1588 - auc_38: 0.7730 - val_loss: 1.2220 - val_auc_38: 0.7513\n",
      "Epoch 9/50\n",
      "196038/196038 [==============================] - 17s 85us/sample - loss: 1.1586 - auc_38: 0.7731 - val_loss: 1.2225 - val_auc_38: 0.7513\n"
     ]
    },
    {
     "name": "stderr",
     "output_type": "stream",
     "text": [
      "\u001b[32m[I 2021-01-05 02:53:16,604]\u001b[0m Trial 38 finished with value: 0.7519335310344103 and parameters: {'step': 2, 'no._units': 373, 'number': 2, 'best_weight': {0: 1.0, 1: 14.0}}. Best is trial 34 with value: 0.7560548910166114.\u001b[0m\n"
     ]
    },
    {
     "name": "stdout",
     "output_type": "stream",
     "text": [
      "WARNING:tensorflow:sample_weight modes were coerced from\n",
      "  ...\n",
      "    to  \n",
      "  ['...']\n",
      "WARNING:tensorflow:sample_weight modes were coerced from\n",
      "  ...\n",
      "    to  \n",
      "  ['...']\n",
      "Train on 196038 samples, validate on 34595 samples\n",
      "Epoch 1/50\n",
      "196038/196038 [==============================] - 18s 90us/sample - loss: 2.6114 - auc_39: 0.6398 - val_loss: 1.7491 - val_auc_39: 0.7216\n",
      "Epoch 2/50\n",
      "196038/196038 [==============================] - 17s 85us/sample - loss: 1.3285 - auc_39: 0.7034 - val_loss: 1.5527 - val_auc_39: 0.7364\n",
      "Epoch 3/50\n",
      "196038/196038 [==============================] - 17s 85us/sample - loss: 1.2558 - auc_39: 0.7339 - val_loss: 1.6339 - val_auc_39: 0.7469\n",
      "Epoch 4/50\n",
      "196038/196038 [==============================] - 17s 85us/sample - loss: 1.2086 - auc_39: 0.7509 - val_loss: 1.2471 - val_auc_39: 0.7494\n",
      "Epoch 5/50\n",
      "196038/196038 [==============================] - 17s 85us/sample - loss: 1.1816 - auc_39: 0.7629 - val_loss: 1.3187 - val_auc_39: 0.7538\n",
      "Epoch 6/50\n",
      "196038/196038 [==============================] - 17s 85us/sample - loss: 1.1618 - auc_39: 0.7716 - val_loss: 1.2422 - val_auc_39: 0.7539\n",
      "Epoch 7/50\n",
      "196038/196038 [==============================] - 17s 85us/sample - loss: 1.1499 - auc_39: 0.7766 - val_loss: 1.2136 - val_auc_39: 0.7540\n",
      "Epoch 8/50\n",
      "196038/196038 [==============================] - 17s 84us/sample - loss: 1.1433 - auc_39: 0.7795 - val_loss: 1.2149 - val_auc_39: 0.7538\n",
      "Epoch 9/50\n",
      "196038/196038 [==============================] - 17s 85us/sample - loss: 1.1402 - auc_39: 0.7809 - val_loss: 1.2163 - val_auc_39: 0.7538\n",
      "Epoch 10/50\n",
      "196038/196038 [==============================] - 17s 85us/sample - loss: 1.1389 - auc_39: 0.7814 - val_loss: 1.2177 - val_auc_39: 0.7537\n",
      "Epoch 11/50\n",
      "196038/196038 [==============================] - 17s 85us/sample - loss: 1.1382 - auc_39: 0.7817 - val_loss: 1.2161 - val_auc_39: 0.7536\n"
     ]
    },
    {
     "name": "stderr",
     "output_type": "stream",
     "text": [
      "\u001b[32m[I 2021-01-05 02:56:22,092]\u001b[0m Trial 39 finished with value: 0.7541355961620114 and parameters: {'step': 3, 'no._units': 317, 'number': 2, 'best_weight': {0: 1.0, 1: 14.0}}. Best is trial 34 with value: 0.7560548910166114.\u001b[0m\n"
     ]
    },
    {
     "name": "stdout",
     "output_type": "stream",
     "text": [
      "WARNING:tensorflow:sample_weight modes were coerced from\n",
      "  ...\n",
      "    to  \n",
      "  ['...']\n",
      "WARNING:tensorflow:sample_weight modes were coerced from\n",
      "  ...\n",
      "    to  \n",
      "  ['...']\n",
      "Train on 196038 samples, validate on 34595 samples\n",
      "Epoch 1/50\n",
      "196038/196038 [==============================] - 19s 95us/sample - loss: 2.0046 - auc_40: 0.5088 - val_loss: 1.8229 - val_auc_40: 0.5000\n",
      "Epoch 2/50\n",
      "196038/196038 [==============================] - 18s 90us/sample - loss: 1.5301 - auc_40: 0.5007 - val_loss: 1.5047 - val_auc_40: 0.5000\n",
      "Epoch 3/50\n",
      "196038/196038 [==============================] - 17s 89us/sample - loss: 1.4601 - auc_40: 0.5021 - val_loss: 1.4105 - val_auc_40: 0.5000\n",
      "Epoch 4/50\n",
      "196038/196038 [==============================] - 17s 89us/sample - loss: 1.4383 - auc_40: 0.4985 - val_loss: 1.4098 - val_auc_40: 0.4999\n",
      "Epoch 5/50\n",
      "196038/196038 [==============================] - 17s 88us/sample - loss: 1.4261 - auc_40: 0.4979 - val_loss: 1.4137 - val_auc_40: 0.5000\n",
      "Epoch 6/50\n",
      "196038/196038 [==============================] - 17s 88us/sample - loss: 1.4177 - auc_40: 0.4996 - val_loss: 1.4109 - val_auc_40: 0.5000\n",
      "Epoch 7/50\n",
      "196038/196038 [==============================] - 17s 88us/sample - loss: 1.4136 - auc_40: 0.5017 - val_loss: 1.4147 - val_auc_40: 0.5000\n",
      "Epoch 8/50\n",
      "196038/196038 [==============================] - 17s 89us/sample - loss: 1.4112 - auc_40: 0.5054 - val_loss: 1.4098 - val_auc_40: 0.5000\n",
      "Epoch 9/50\n",
      "196038/196038 [==============================] - 17s 89us/sample - loss: 1.4107 - auc_40: 0.4969 - val_loss: 1.4115 - val_auc_40: 0.5000\n",
      "Epoch 10/50\n",
      "196038/196038 [==============================] - 17s 89us/sample - loss: 1.4100 - auc_40: 0.4971 - val_loss: 1.4103 - val_auc_40: 0.5000\n",
      "Epoch 11/50\n",
      "196038/196038 [==============================] - 17s 89us/sample - loss: 1.4098 - auc_40: 0.4969 - val_loss: 1.4098 - val_auc_40: 0.5000\n",
      "Epoch 12/50\n",
      "196038/196038 [==============================] - 17s 89us/sample - loss: 1.4097 - auc_40: 0.4974 - val_loss: 1.4098 - val_auc_40: 0.5000\n",
      "Epoch 13/50\n",
      "196038/196038 [==============================] - 17s 89us/sample - loss: 1.4096 - auc_40: 0.4989 - val_loss: 1.4098 - val_auc_40: 0.5000\n",
      "Epoch 14/50\n",
      "196038/196038 [==============================] - 17s 89us/sample - loss: 1.4096 - auc_40: 0.4996 - val_loss: 1.4098 - val_auc_40: 0.5000\n",
      "Epoch 15/50\n",
      "196038/196038 [==============================] - 17s 89us/sample - loss: 1.4096 - auc_40: 0.5001 - val_loss: 1.4098 - val_auc_40: 0.5000\n",
      "Epoch 16/50\n",
      "196038/196038 [==============================] - 17s 89us/sample - loss: 1.4096 - auc_40: 0.5001 - val_loss: 1.4098 - val_auc_40: 0.5000\n",
      "Epoch 17/50\n",
      "196038/196038 [==============================] - 17s 89us/sample - loss: 1.4096 - auc_40: 0.5001 - val_loss: 1.4098 - val_auc_40: 0.5000\n",
      "Epoch 18/50\n",
      "196038/196038 [==============================] - 17s 89us/sample - loss: 1.4096 - auc_40: 0.5001 - val_loss: 1.4098 - val_auc_40: 0.5000\n",
      "Epoch 19/50\n",
      "196038/196038 [==============================] - 17s 89us/sample - loss: 1.4096 - auc_40: 0.5001 - val_loss: 1.4098 - val_auc_40: 0.5000\n",
      "Epoch 20/50\n",
      "196038/196038 [==============================] - 17s 89us/sample - loss: 1.4096 - auc_40: 0.5001 - val_loss: 1.4098 - val_auc_40: 0.5000\n",
      "Epoch 21/50\n",
      "196038/196038 [==============================] - 17s 89us/sample - loss: 1.4096 - auc_40: 0.5001 - val_loss: 1.4098 - val_auc_40: 0.5000\n",
      "Epoch 22/50\n",
      "196038/196038 [==============================] - 17s 89us/sample - loss: 1.4096 - auc_40: 0.5001 - val_loss: 1.4098 - val_auc_40: 0.5000\n",
      "Epoch 23/50\n",
      "196038/196038 [==============================] - 17s 89us/sample - loss: 1.4096 - auc_40: 0.5001 - val_loss: 1.4098 - val_auc_40: 0.5000\n",
      "Epoch 24/50\n",
      "196038/196038 [==============================] - 17s 89us/sample - loss: 1.4096 - auc_40: 0.5001 - val_loss: 1.4098 - val_auc_40: 0.5000\n",
      "Epoch 25/50\n",
      "196038/196038 [==============================] - 17s 89us/sample - loss: 1.4096 - auc_40: 0.5001 - val_loss: 1.4098 - val_auc_40: 0.5000\n"
     ]
    },
    {
     "name": "stderr",
     "output_type": "stream",
     "text": [
      "\u001b[32m[I 2021-01-05 03:03:40,490]\u001b[0m Trial 40 finished with value: 0.499968555436765 and parameters: {'step': 3, 'no._units': 301, 'number': 3, 'best_weight': {0: 1.0, 1: 14.0}}. Best is trial 34 with value: 0.7560548910166114.\u001b[0m\n"
     ]
    },
    {
     "name": "stdout",
     "output_type": "stream",
     "text": [
      "WARNING:tensorflow:sample_weight modes were coerced from\n",
      "  ...\n",
      "    to  \n",
      "  ['...']\n",
      "WARNING:tensorflow:sample_weight modes were coerced from\n",
      "  ...\n",
      "    to  \n",
      "  ['...']\n",
      "Train on 196038 samples, validate on 34595 samples\n",
      "Epoch 1/50\n",
      "196038/196038 [==============================] - 17s 86us/sample - loss: 2.3313 - auc_41: 0.6289 - val_loss: 4.5032 - val_auc_41: 0.6992\n",
      "Epoch 2/50\n",
      "196038/196038 [==============================] - 16s 82us/sample - loss: 1.3142 - auc_41: 0.7103 - val_loss: 1.3628 - val_auc_41: 0.7392\n",
      "Epoch 3/50\n",
      "196038/196038 [==============================] - 16s 82us/sample - loss: 1.3105 - auc_41: 0.7348 - val_loss: 1.2331 - val_auc_41: 0.7531\n",
      "Epoch 4/50\n",
      "196038/196038 [==============================] - 16s 82us/sample - loss: 1.2035 - auc_41: 0.7537 - val_loss: 1.2171 - val_auc_41: 0.7540\n",
      "Epoch 5/50\n",
      "196038/196038 [==============================] - 16s 81us/sample - loss: 1.1736 - auc_41: 0.7683 - val_loss: 1.2072 - val_auc_41: 0.7538\n",
      "Epoch 6/50\n",
      "196038/196038 [==============================] - 16s 82us/sample - loss: 1.1542 - auc_41: 0.7769 - val_loss: 1.2234 - val_auc_41: 0.7538\n",
      "Epoch 7/50\n",
      "196038/196038 [==============================] - 16s 82us/sample - loss: 1.1425 - auc_41: 0.7823 - val_loss: 1.2478 - val_auc_41: 0.7527\n",
      "Epoch 8/50\n",
      "196038/196038 [==============================] - 16s 82us/sample - loss: 1.1365 - auc_41: 0.7850 - val_loss: 1.2203 - val_auc_41: 0.7522\n",
      "Epoch 9/50\n",
      "196038/196038 [==============================] - 16s 82us/sample - loss: 1.1332 - auc_41: 0.7865 - val_loss: 1.2217 - val_auc_41: 0.7522\n"
     ]
    },
    {
     "name": "stderr",
     "output_type": "stream",
     "text": [
      "\u001b[32m[I 2021-01-05 03:06:07,165]\u001b[0m Trial 41 finished with value: 0.7539029030165683 and parameters: {'step': 3, 'no._units': 325, 'number': 2, 'best_weight': {0: 1.0, 1: 14.0}}. Best is trial 34 with value: 0.7560548910166114.\u001b[0m\n"
     ]
    },
    {
     "name": "stdout",
     "output_type": "stream",
     "text": [
      "WARNING:tensorflow:sample_weight modes were coerced from\n",
      "  ...\n",
      "    to  \n",
      "  ['...']\n",
      "WARNING:tensorflow:sample_weight modes were coerced from\n",
      "  ...\n",
      "    to  \n",
      "  ['...']\n",
      "Train on 196038 samples, validate on 34595 samples\n",
      "Epoch 1/50\n",
      "196038/196038 [==============================] - 17s 89us/sample - loss: 1.9667 - auc_42: 0.6488 - val_loss: 3.2101 - val_auc_42: 0.7320\n",
      "Epoch 2/50\n",
      "196038/196038 [==============================] - 16s 83us/sample - loss: 1.3329 - auc_42: 0.7112 - val_loss: 1.6445 - val_auc_42: 0.7358\n",
      "Epoch 3/50\n",
      "196038/196038 [==============================] - 16s 83us/sample - loss: 1.2483 - auc_42: 0.7375 - val_loss: 1.3830 - val_auc_42: 0.7495\n",
      "Epoch 4/50\n",
      "196038/196038 [==============================] - 16s 84us/sample - loss: 1.2040 - auc_42: 0.7539 - val_loss: 1.2497 - val_auc_42: 0.7521\n",
      "Epoch 5/50\n",
      "196038/196038 [==============================] - 16s 83us/sample - loss: 1.1812 - auc_42: 0.7643 - val_loss: 1.2497 - val_auc_42: 0.7545\n",
      "Epoch 6/50\n",
      "196038/196038 [==============================] - 16s 83us/sample - loss: 1.1589 - auc_42: 0.7733 - val_loss: 1.2652 - val_auc_42: 0.7526\n",
      "Epoch 7/50\n",
      "196038/196038 [==============================] - 16s 83us/sample - loss: 1.1470 - auc_42: 0.7781 - val_loss: 1.2834 - val_auc_42: 0.7524\n",
      "Epoch 8/50\n",
      "196038/196038 [==============================] - 16s 84us/sample - loss: 1.1396 - auc_42: 0.7811 - val_loss: 1.3002 - val_auc_42: 0.7520\n",
      "Epoch 9/50\n",
      "196038/196038 [==============================] - 16s 84us/sample - loss: 1.1363 - auc_42: 0.7825 - val_loss: 1.2971 - val_auc_42: 0.7519\n"
     ]
    },
    {
     "name": "stderr",
     "output_type": "stream",
     "text": [
      "\u001b[32m[I 2021-01-05 03:08:36,820]\u001b[0m Trial 42 finished with value: 0.7545677084082717 and parameters: {'step': 3, 'no._units': 269, 'number': 2, 'best_weight': {0: 1.0, 1: 14.0}}. Best is trial 34 with value: 0.7560548910166114.\u001b[0m\n"
     ]
    },
    {
     "name": "stdout",
     "output_type": "stream",
     "text": [
      "WARNING:tensorflow:sample_weight modes were coerced from\n",
      "  ...\n",
      "    to  \n",
      "  ['...']\n",
      "WARNING:tensorflow:sample_weight modes were coerced from\n",
      "  ...\n",
      "    to  \n",
      "  ['...']\n",
      "Train on 196038 samples, validate on 34595 samples\n",
      "Epoch 1/50\n",
      "196038/196038 [==============================] - 17s 87us/sample - loss: 1.6996 - auc_43: 0.6550 - val_loss: 1.7286 - val_auc_43: 0.7236\n",
      "Epoch 2/50\n",
      "196038/196038 [==============================] - 16s 82us/sample - loss: 1.2613 - auc_43: 0.7268 - val_loss: 1.2254 - val_auc_43: 0.7462\n",
      "Epoch 3/50\n",
      "196038/196038 [==============================] - 16s 82us/sample - loss: 1.2078 - auc_43: 0.7503 - val_loss: 1.2341 - val_auc_43: 0.7519\n",
      "Epoch 4/50\n",
      "196038/196038 [==============================] - 16s 82us/sample - loss: 1.1816 - auc_43: 0.7622 - val_loss: 1.2164 - val_auc_43: 0.7535\n",
      "Epoch 5/50\n",
      "196038/196038 [==============================] - 16s 82us/sample - loss: 1.1648 - auc_43: 0.7696 - val_loss: 1.2090 - val_auc_43: 0.7535\n",
      "Epoch 6/50\n",
      "196038/196038 [==============================] - 16s 82us/sample - loss: 1.1591 - auc_43: 0.7719 - val_loss: 1.2117 - val_auc_43: 0.7535\n",
      "Epoch 7/50\n",
      "196038/196038 [==============================] - 16s 82us/sample - loss: 1.1571 - auc_43: 0.7728 - val_loss: 1.2121 - val_auc_43: 0.7534\n",
      "Epoch 8/50\n",
      "196038/196038 [==============================] - 16s 82us/sample - loss: 1.1566 - auc_43: 0.7730 - val_loss: 1.2121 - val_auc_43: 0.7534\n",
      "Epoch 9/50\n",
      "196038/196038 [==============================] - 16s 82us/sample - loss: 1.1563 - auc_43: 0.7731 - val_loss: 1.2119 - val_auc_43: 0.7534\n"
     ]
    },
    {
     "name": "stderr",
     "output_type": "stream",
     "text": [
      "\u001b[32m[I 2021-01-05 03:11:03,900]\u001b[0m Trial 43 finished with value: 0.753498503191505 and parameters: {'step': 2, 'no._units': 219, 'number': 2, 'best_weight': {0: 1.0, 1: 14.0}}. Best is trial 34 with value: 0.7560548910166114.\u001b[0m\n"
     ]
    },
    {
     "name": "stdout",
     "output_type": "stream",
     "text": [
      "WARNING:tensorflow:sample_weight modes were coerced from\n",
      "  ...\n",
      "    to  \n",
      "  ['...']\n",
      "WARNING:tensorflow:sample_weight modes were coerced from\n",
      "  ...\n",
      "    to  \n",
      "  ['...']\n",
      "Train on 196038 samples, validate on 34595 samples\n",
      "Epoch 1/50\n",
      "196038/196038 [==============================] - 17s 89us/sample - loss: 5.5974 - auc_44: 0.6326 - val_loss: 1.4351 - val_auc_44: 0.6841\n",
      "Epoch 2/50\n",
      "196038/196038 [==============================] - 16s 83us/sample - loss: 1.2964 - auc_44: 0.7119 - val_loss: 1.7299 - val_auc_44: 0.7357\n",
      "Epoch 3/50\n",
      "196038/196038 [==============================] - 16s 83us/sample - loss: 1.2603 - auc_44: 0.7291 - val_loss: 1.2292 - val_auc_44: 0.7472\n",
      "Epoch 4/50\n",
      "196038/196038 [==============================] - 16s 84us/sample - loss: 1.2181 - auc_44: 0.7479 - val_loss: 1.2453 - val_auc_44: 0.7473\n",
      "Epoch 5/50\n",
      "196038/196038 [==============================] - 16s 83us/sample - loss: 1.1855 - auc_44: 0.7602 - val_loss: 1.2417 - val_auc_44: 0.7480\n",
      "Epoch 6/50\n",
      "196038/196038 [==============================] - 16s 83us/sample - loss: 1.1638 - auc_44: 0.7697 - val_loss: 1.2511 - val_auc_44: 0.7479\n",
      "Epoch 7/50\n",
      "196038/196038 [==============================] - 16s 83us/sample - loss: 1.1502 - auc_44: 0.7751 - val_loss: 1.2523 - val_auc_44: 0.7474\n"
     ]
    },
    {
     "name": "stderr",
     "output_type": "stream",
     "text": [
      "\u001b[32m[I 2021-01-05 03:13:00,886]\u001b[0m Trial 44 finished with value: 0.7472025484484387 and parameters: {'step': 3, 'no._units': 257, 'number': 2, 'best_weight': {0: 1.0, 1: 14.0}}. Best is trial 34 with value: 0.7560548910166114.\u001b[0m\n"
     ]
    },
    {
     "name": "stdout",
     "output_type": "stream",
     "text": [
      "WARNING:tensorflow:sample_weight modes were coerced from\n",
      "  ...\n",
      "    to  \n",
      "  ['...']\n",
      "WARNING:tensorflow:sample_weight modes were coerced from\n",
      "  ...\n",
      "    to  \n",
      "  ['...']\n",
      "Train on 196038 samples, validate on 34595 samples\n",
      "Epoch 1/50\n",
      "196038/196038 [==============================] - 17s 87us/sample - loss: 2.0423 - auc_45: 0.6686 - val_loss: 1.2831 - val_auc_45: 0.7270\n",
      "Epoch 2/50\n",
      "196038/196038 [==============================] - 16s 82us/sample - loss: 1.3062 - auc_45: 0.7208 - val_loss: 1.2220 - val_auc_45: 0.7433\n",
      "Epoch 3/50\n",
      "196038/196038 [==============================] - 16s 82us/sample - loss: 1.2273 - auc_45: 0.7417 - val_loss: 1.2673 - val_auc_45: 0.7511\n",
      "Epoch 4/50\n",
      "196038/196038 [==============================] - 16s 82us/sample - loss: 1.1943 - auc_45: 0.7573 - val_loss: 1.2561 - val_auc_45: 0.7541\n",
      "Epoch 5/50\n",
      "196038/196038 [==============================] - 16s 82us/sample - loss: 1.1715 - auc_45: 0.7672 - val_loss: 1.2073 - val_auc_45: 0.7541\n",
      "Epoch 6/50\n",
      "196038/196038 [==============================] - 16s 82us/sample - loss: 1.1548 - auc_45: 0.7744 - val_loss: 1.2081 - val_auc_45: 0.7537\n",
      "Epoch 7/50\n",
      "196038/196038 [==============================] - 16s 82us/sample - loss: 1.1461 - auc_45: 0.7779 - val_loss: 1.2148 - val_auc_45: 0.7539\n",
      "Epoch 8/50\n",
      "196038/196038 [==============================] - 16s 82us/sample - loss: 1.1419 - auc_45: 0.7797 - val_loss: 1.2162 - val_auc_45: 0.7533\n",
      "Epoch 9/50\n",
      "196038/196038 [==============================] - 16s 82us/sample - loss: 1.1394 - auc_45: 0.7808 - val_loss: 1.2191 - val_auc_45: 0.7531\n"
     ]
    },
    {
     "name": "stderr",
     "output_type": "stream",
     "text": [
      "\u001b[32m[I 2021-01-05 03:15:28,139]\u001b[0m Trial 45 finished with value: 0.7541960985189127 and parameters: {'step': 3, 'no._units': 169, 'number': 2, 'best_weight': {0: 1.0, 1: 14.0}}. Best is trial 34 with value: 0.7560548910166114.\u001b[0m\n"
     ]
    },
    {
     "name": "stdout",
     "output_type": "stream",
     "text": [
      "WARNING:tensorflow:sample_weight modes were coerced from\n",
      "  ...\n",
      "    to  \n",
      "  ['...']\n",
      "WARNING:tensorflow:sample_weight modes were coerced from\n",
      "  ...\n",
      "    to  \n",
      "  ['...']\n",
      "Train on 196038 samples, validate on 34595 samples\n",
      "Epoch 1/50\n",
      "196038/196038 [==============================] - 17s 88us/sample - loss: 1.5381 - auc_46: 0.6800 - val_loss: 1.8297 - val_auc_46: 0.7410\n",
      "Epoch 2/50\n",
      "196038/196038 [==============================] - 16s 83us/sample - loss: 2.0011 - auc_46: 0.7366 - val_loss: 1.3108 - val_auc_46: 0.7464\n",
      "Epoch 3/50\n",
      "196038/196038 [==============================] - 16s 84us/sample - loss: 1.1608 - auc_46: 0.7543 - val_loss: 1.1948 - val_auc_46: 0.7527\n",
      "Epoch 4/50\n",
      "196038/196038 [==============================] - 16s 83us/sample - loss: 1.1373 - auc_46: 0.7637 - val_loss: 1.1996 - val_auc_46: 0.7531\n",
      "Epoch 5/50\n",
      "196038/196038 [==============================] - 16s 83us/sample - loss: 1.1274 - auc_46: 0.7682 - val_loss: 1.2046 - val_auc_46: 0.7541\n",
      "Epoch 6/50\n",
      "196038/196038 [==============================] - 16s 83us/sample - loss: 1.1233 - auc_46: 0.7700 - val_loss: 1.2065 - val_auc_46: 0.7542\n",
      "Epoch 7/50\n",
      "196038/196038 [==============================] - 16s 83us/sample - loss: 1.1221 - auc_46: 0.7704 - val_loss: 1.2078 - val_auc_46: 0.7541\n"
     ]
    },
    {
     "name": "stderr",
     "output_type": "stream",
     "text": [
      "\u001b[32m[I 2021-01-05 03:17:25,062]\u001b[0m Trial 46 finished with value: 0.7527851968408268 and parameters: {'step': 2, 'no._units': 133, 'number': 2, 'best_weight': {0: 1.0, 1: 13.0}}. Best is trial 34 with value: 0.7560548910166114.\u001b[0m\n"
     ]
    },
    {
     "name": "stdout",
     "output_type": "stream",
     "text": [
      "WARNING:tensorflow:sample_weight modes were coerced from\n",
      "  ...\n",
      "    to  \n",
      "  ['...']\n",
      "WARNING:tensorflow:sample_weight modes were coerced from\n",
      "  ...\n",
      "    to  \n",
      "  ['...']\n",
      "Train on 196038 samples, validate on 34595 samples\n",
      "Epoch 1/50\n",
      "196038/196038 [==============================] - 18s 94us/sample - loss: 1.8444 - auc_47: 0.5709 - val_loss: 1.8190 - val_auc_47: 0.5000\n",
      "Epoch 2/50\n",
      "196038/196038 [==============================] - 17s 89us/sample - loss: 1.5843 - auc_47: 0.4990 - val_loss: 1.5778 - val_auc_47: 0.5000\n",
      "Epoch 3/50\n",
      "196038/196038 [==============================] - 17s 89us/sample - loss: 1.5619 - auc_47: 0.4996 - val_loss: 1.5469 - val_auc_47: 0.5000\n",
      "Epoch 4/50\n",
      "196038/196038 [==============================] - 17s 89us/sample - loss: 1.5512 - auc_47: 0.4996 - val_loss: 1.5468 - val_auc_47: 0.5006\n",
      "Epoch 5/50\n",
      "196038/196038 [==============================] - 17s 89us/sample - loss: 1.5476 - auc_47: 0.4975 - val_loss: 1.5466 - val_auc_47: 0.5010\n",
      "Epoch 6/50\n",
      "196038/196038 [==============================] - 17s 89us/sample - loss: 1.5434 - auc_47: 0.4987 - val_loss: 1.5434 - val_auc_47: 0.5012\n",
      "Epoch 7/50\n",
      "196038/196038 [==============================] - 17s 89us/sample - loss: 1.5426 - auc_47: 0.5009 - val_loss: 1.5433 - val_auc_47: 0.5013\n",
      "Epoch 8/50\n",
      "196038/196038 [==============================] - 17s 89us/sample - loss: 1.5422 - auc_47: 0.5025 - val_loss: 1.5435 - val_auc_47: 0.5014\n",
      "Epoch 9/50\n",
      "196038/196038 [==============================] - 18s 92us/sample - loss: 1.5421 - auc_47: 0.4998 - val_loss: 1.5433 - val_auc_47: 0.5014\n",
      "Epoch 10/50\n",
      "196038/196038 [==============================] - 19s 98us/sample - loss: 1.5420 - auc_47: 0.5014 - val_loss: 1.5433 - val_auc_47: 0.5014\n",
      "Epoch 11/50\n",
      "196038/196038 [==============================] - 17s 89us/sample - loss: 1.5420 - auc_47: 0.5014 - val_loss: 1.5433 - val_auc_47: 0.5014\n"
     ]
    },
    {
     "name": "stderr",
     "output_type": "stream",
     "text": [
      "\u001b[32m[I 2021-01-05 03:20:41,926]\u001b[0m Trial 47 finished with value: 0.5013786634013858 and parameters: {'step': 2, 'no._units': 169, 'number': 3, 'best_weight': {0: 1.0, 1: 17.0}}. Best is trial 34 with value: 0.7560548910166114.\u001b[0m\n"
     ]
    },
    {
     "name": "stdout",
     "output_type": "stream",
     "text": [
      "WARNING:tensorflow:sample_weight modes were coerced from\n",
      "  ...\n",
      "    to  \n",
      "  ['...']\n",
      "WARNING:tensorflow:sample_weight modes were coerced from\n",
      "  ...\n",
      "    to  \n",
      "  ['...']\n",
      "Train on 196038 samples, validate on 34595 samples\n",
      "Epoch 1/50\n",
      "196038/196038 [==============================] - 17s 85us/sample - loss: 1.7097 - auc_48: 0.6617 - val_loss: 1.8028 - val_auc_48: 0.7254\n",
      "Epoch 2/50\n",
      "196038/196038 [==============================] - 16s 81us/sample - loss: 1.3167 - auc_48: 0.7232 - val_loss: 1.5523 - val_auc_48: 0.7437\n",
      "Epoch 3/50\n",
      "196038/196038 [==============================] - 16s 80us/sample - loss: 1.2666 - auc_48: 0.7431 - val_loss: 1.3944 - val_auc_48: 0.7471\n",
      "Epoch 4/50\n",
      "196038/196038 [==============================] - 16s 80us/sample - loss: 1.2327 - auc_48: 0.7585 - val_loss: 1.2690 - val_auc_48: 0.7524\n",
      "Epoch 5/50\n",
      "196038/196038 [==============================] - 16s 80us/sample - loss: 1.2071 - auc_48: 0.7698 - val_loss: 1.2567 - val_auc_48: 0.7535\n",
      "Epoch 6/50\n",
      "196038/196038 [==============================] - 16s 80us/sample - loss: 1.1904 - auc_48: 0.7769 - val_loss: 1.2795 - val_auc_48: 0.7526\n",
      "Epoch 7/50\n",
      "196038/196038 [==============================] - 16s 80us/sample - loss: 1.1818 - auc_48: 0.7807 - val_loss: 1.2657 - val_auc_48: 0.7524\n",
      "Epoch 8/50\n",
      "196038/196038 [==============================] - 16s 80us/sample - loss: 1.1773 - auc_48: 0.7827 - val_loss: 1.2618 - val_auc_48: 0.7521\n",
      "Epoch 9/50\n",
      "196038/196038 [==============================] - 16s 80us/sample - loss: 1.1748 - auc_48: 0.7838 - val_loss: 1.2643 - val_auc_48: 0.7521\n"
     ]
    },
    {
     "name": "stderr",
     "output_type": "stream",
     "text": [
      "\u001b[32m[I 2021-01-05 03:23:05,694]\u001b[0m Trial 48 finished with value: 0.7535045658113768 and parameters: {'step': 3, 'no._units': 182, 'number': 2, 'best_weight': {0: 1.0, 1: 15.0}}. Best is trial 34 with value: 0.7560548910166114.\u001b[0m\n"
     ]
    },
    {
     "name": "stdout",
     "output_type": "stream",
     "text": [
      "WARNING:tensorflow:sample_weight modes were coerced from\n",
      "  ...\n",
      "    to  \n",
      "  ['...']\n",
      "WARNING:tensorflow:sample_weight modes were coerced from\n",
      "  ...\n",
      "    to  \n",
      "  ['...']\n",
      "Train on 196038 samples, validate on 34595 samples\n",
      "Epoch 1/50\n",
      "196038/196038 [==============================] - 17s 89us/sample - loss: 1.5389 - auc_49: 0.6746 - val_loss: 1.4092 - val_auc_49: 0.7389\n",
      "Epoch 2/50\n",
      "196038/196038 [==============================] - 16s 83us/sample - loss: 1.2659 - auc_49: 0.7263 - val_loss: 1.2620 - val_auc_49: 0.7453\n",
      "Epoch 3/50\n",
      "196038/196038 [==============================] - 16s 83us/sample - loss: 1.2205 - auc_49: 0.7455 - val_loss: 1.6851 - val_auc_49: 0.7400\n",
      "Epoch 4/50\n",
      "196038/196038 [==============================] - 16s 83us/sample - loss: 1.1900 - auc_49: 0.7594 - val_loss: 1.2085 - val_auc_49: 0.7559\n",
      "Epoch 5/50\n",
      "196038/196038 [==============================] - 16s 83us/sample - loss: 1.1641 - auc_49: 0.7696 - val_loss: 1.2206 - val_auc_49: 0.7562\n",
      "Epoch 6/50\n",
      "196038/196038 [==============================] - 16s 83us/sample - loss: 1.1489 - auc_49: 0.7761 - val_loss: 1.2157 - val_auc_49: 0.7561\n",
      "Epoch 7/50\n",
      "196038/196038 [==============================] - 16s 83us/sample - loss: 1.1392 - auc_49: 0.7803 - val_loss: 1.2221 - val_auc_49: 0.7561\n",
      "Epoch 8/50\n",
      "196038/196038 [==============================] - 16s 83us/sample - loss: 1.1345 - auc_49: 0.7824 - val_loss: 1.2182 - val_auc_49: 0.7560\n"
     ]
    },
    {
     "name": "stderr",
     "output_type": "stream",
     "text": [
      "\u001b[32m[I 2021-01-05 03:25:18,202]\u001b[0m Trial 49 finished with value: 0.7558950844097945 and parameters: {'step': 3, 'no._units': 142, 'number': 2, 'best_weight': {0: 1.0, 1: 14.0}}. Best is trial 34 with value: 0.7560548910166114.\u001b[0m\n"
     ]
    }
   ],
   "source": [
    "# Extracting the best model parameters and best study score\n",
    "best_study_score,best_study_params = study_best_score_params(X_train_1, y_train_1, X_val, y_val, objective_wrappper_keras_eq, cl_weight,\n",
    "                                                            n_trials=50)"
   ]
  },
  {
   "cell_type": "code",
   "execution_count": 19,
   "metadata": {},
   "outputs": [
    {
     "name": "stdout",
     "output_type": "stream",
     "text": [
      "The best roc_auc_score for the study is:  0.7560548910166114\n"
     ]
    }
   ],
   "source": [
    "print('The best roc_auc_score for the study is: ',best_study_score)"
   ]
  },
  {
   "cell_type": "code",
   "execution_count": 20,
   "metadata": {},
   "outputs": [
    {
     "name": "stdout",
     "output_type": "stream",
     "text": [
      "The best study parameters for the classifier are:  {'step': 2, 'no._units': 423, 'number': 2, 'best_weight': {0: 1.0, 1: 14.0}}\n"
     ]
    }
   ],
   "source": [
    "print('The best study parameters for the classifier are: ',best_study_params)"
   ]
  },
  {
   "cell_type": "code",
   "execution_count": 21,
   "metadata": {},
   "outputs": [],
   "source": [
    "# loading the best Neural Network\n",
    "Best_Model_selu = keras.models.load_model('Best_model_Selu_eq_Learn.h5')"
   ]
  },
  {
   "cell_type": "code",
   "execution_count": 22,
   "metadata": {},
   "outputs": [
    {
     "name": "stdout",
     "output_type": "stream",
     "text": [
      "Model: \"sequential_34\"\n",
      "_________________________________________________________________\n",
      "Layer (type)                 Output Shape              Param #   \n",
      "=================================================================\n",
      "dense_134 (Dense)            (None, 423)               43992     \n",
      "_________________________________________________________________\n",
      "dense_135 (Dense)            (None, 423)               179352    \n",
      "_________________________________________________________________\n",
      "dense_136 (Dense)            (None, 1)                 424       \n",
      "=================================================================\n",
      "Total params: 223,768\n",
      "Trainable params: 223,768\n",
      "Non-trainable params: 0\n",
      "_________________________________________________________________\n"
     ]
    }
   ],
   "source": [
    "# Printing its summary\n",
    "Best_Model_selu.summary()"
   ]
  },
  {
   "cell_type": "code",
   "execution_count": 23,
   "metadata": {},
   "outputs": [],
   "source": [
    "# Defining the function to calculate the roc_auc score for the feature sets\n",
    "def cal_roc_auc(X, y, cls, f_set, t_set, model_name):\n",
    "    ''' Calculates the roc auc score using the best study parameters \n",
    "        f_set : String: specifies 'full feature', 'Reduced feature'\n",
    "        t_set: String: specifies 'training', 'test'\n",
    "        model_name: String: specifies Name of the model '''\n",
    "        \n",
    "    y_pred = cls.predict_proba(X)\n",
    "    print('The roc_auc_score for the {} {} set using the best {} classifier is '.format(f_set,t_set,model_name),roc_auc_score(y,y_pred))"
   ]
  },
  {
   "cell_type": "code",
   "execution_count": 24,
   "metadata": {},
   "outputs": [
    {
     "name": "stdout",
     "output_type": "stream",
     "text": [
      "The roc_auc_score for the Reduced feature training set using the best Dense Neural Network using SELU activation classifier is  0.7735250280260082\n"
     ]
    }
   ],
   "source": [
    "# Calculating the Reduced feature training set roc_auc score using the pretrained Neural Network having \n",
    "# best study parameters & weights\n",
    "cal_roc_auc(X_train_scaled, y_train, Best_Model_selu, 'Reduced feature', 'training', 'Dense Neural Network using SELU activation')"
   ]
  },
  {
   "cell_type": "code",
   "execution_count": 25,
   "metadata": {},
   "outputs": [
    {
     "name": "stdout",
     "output_type": "stream",
     "text": [
      "The roc_auc_score for the Reduced feature test set using the best Dense Neural Network using SELU activation classifier is  0.757445351657831\n"
     ]
    }
   ],
   "source": [
    "# Calculating the Reduced feature test set roc_auc score using the pretrained Neural Network having \n",
    "# best study parameters & weights\n",
    "cal_roc_auc(X_test_scaled, y_test, Best_Model_selu, 'Reduced feature', 'test', 'Dense Neural Network using SELU activation')"
   ]
  },
  {
   "cell_type": "markdown",
   "metadata": {},
   "source": [
    "## Observation(s):\n",
    "### 1) Though the tuned Selu dense neural classifier has test set roc_auc score of 0.757445351657831, with almost no overfitting, certain optima trials have ended with roc_auc score of .5, corresponding to random guessing. It may be that dataset is allergic to Nadam optimizer or Selu sctivation function. thus let's discard this model for this dataset."
   ]
  },
  {
   "cell_type": "markdown",
   "metadata": {},
   "source": [
    "## Model_11.1: Keras Dense Model with Equal Neurons/layer, SELU Activation, RMS Prop Optimizer & Tuned learning rate."
   ]
  },
  {
   "cell_type": "code",
   "execution_count": 33,
   "metadata": {},
   "outputs": [],
   "source": [
    "# Defining best roc_auc score\n",
    "best_roc_auc = 0"
   ]
  },
  {
   "cell_type": "code",
   "execution_count": 34,
   "metadata": {},
   "outputs": [],
   "source": [
    "# defining the objective function\n",
    "def objective_wrappper_keras_eq_RMS(X_tr, y_tr, X_val, y_val, cl_w):\n",
    "    '''\n",
    "    Optimizes Keras ,neural net with equal no. of neurons in each layer , best parameters \n",
    "    on the given training set: X_tr, y_tr using validation set: X_val,y_val & class weights: cl_w\n",
    "    \n",
    "    '''\n",
    "\n",
    "    def objective(trial):\n",
    "        s = trial.suggest_int('step',2,6)\n",
    "        def exponential_decay_fn(epoch):\n",
    "            return 0.01 * 0.1**(epoch /s )\n",
    "              \n",
    "        # building model & searching for the best no. of neural units per layer.\n",
    "        no_units = trial.suggest_int('no._units',100,600)# No. of Neurons in each layer\n",
    "        model = keras.models.Sequential()\n",
    "        model.add(keras.layers.InputLayer(input_shape=X_tr.shape[1:]))\n",
    "        #model.add(keras.layers.BatchNormalization())\n",
    "        for i in range(trial.suggest_int('number',2,6)):\n",
    "            model.add(keras.layers.Dense(units=no_units,activation='selu',\n",
    "                                     kernel_initializer='lecun_normal')) # For self normalization\n",
    "        model.add(keras.layers.Dense(units=1,activation='sigmoid'))\n",
    "    \n",
    "        # Searching for the best learning rate.\n",
    "        #lr = trial.suggest_float(\"lr\", 1e-5, 1e-1, log=True) \n",
    "    \n",
    "        # Compiling the model\n",
    "        model.compile(loss=\"binary_crossentropy\", optimizer=keras.optimizers.RMSprop(),\n",
    "                      metrics=[tf.keras.metrics.AUC(curve=\"ROC\")])\n",
    "        \n",
    "        # Defining the Callbacks\n",
    "        checkpoint_cb = keras.callbacks.ModelCheckpoint('best_model.h5',save_best_only=True) # 1st Callback\n",
    "        early_stopping_cb = keras.callbacks.EarlyStopping(patience=4,restore_best_weights=True) # 2nd Callback, Stop if validation score doen't improve for\n",
    "        # 4 epochs        \n",
    "        lr_scheduler_cb = keras.callbacks.LearningRateScheduler(exponential_decay_fn)# 3rd Callback\n",
    "        #tensorboard_cb = keras.callbacks.TensorBoard(get_run_logdir()) \n",
    "        \n",
    "        #Fitting the model\n",
    "        model.fit(X_tr, y_tr, epochs=50, validation_data=(X_val,y_val), batch_size=32,\n",
    "             class_weight=trial.suggest_categorical('best_weight',cl_w),\n",
    "             callbacks=[checkpoint_cb, early_stopping_cb, lr_scheduler_cb])#,tensorboard_cb])\n",
    "    \n",
    "        # Loading the best model \n",
    "        model_best = keras.models.load_model('best_model.h5')\n",
    "    \n",
    "        # Computing the roc_auc_score for the validation set\n",
    "        roc_auc_1 = roc_auc_score(y_val,model_best.predict_proba(X_val))\n",
    "        global best_roc_auc\n",
    "        # Updating best_roc_auc score\n",
    "        if roc_auc_1 > best_roc_auc:\n",
    "            best_roc_auc = roc_auc_1\n",
    "            model_best.save('Best_model_Selu_eq_Learn_RMS.h5')\n",
    "        \n",
    "        return roc_auc_1\n",
    "    \n",
    "    return objective"
   ]
  },
  {
   "cell_type": "code",
   "execution_count": 35,
   "metadata": {},
   "outputs": [],
   "source": [
    "# Defining the evaluation function for study's best parameters\n",
    "def study_best_score_params(X_tr, y_tr, X_v, y_v, obj_func, cl_w, n_trials=100):\n",
    "    ''' Computes the best hyper parameters of the Neural net using the Training set(X_tr,y_tr) & Validation set\n",
    "    (X_v,y_v), class weights cl_w & \n",
    "    returns Optuna's study's best score & clasifier parameters'''\n",
    "    \n",
    "    study = optuna.create_study(direction='maximize')\n",
    "    study.optimize(obj_func(X_tr, y_tr, X_v, y_v, cl_w),n_trials)\n",
    "    best_score = study.best_value\n",
    "    best_params = study.best_params\n",
    "    return (best_score,best_params)"
   ]
  },
  {
   "cell_type": "code",
   "execution_count": 36,
   "metadata": {},
   "outputs": [
    {
     "name": "stderr",
     "output_type": "stream",
     "text": [
      "\u001b[32m[I 2021-01-05 20:56:57,233]\u001b[0m A new study created in memory with name: no-name-d7c2a11f-f359-46c1-89c6-60b330e460f7\u001b[0m\n"
     ]
    },
    {
     "name": "stdout",
     "output_type": "stream",
     "text": [
      "WARNING:tensorflow:sample_weight modes were coerced from\n",
      "  ...\n",
      "    to  \n",
      "  ['...']\n",
      "WARNING:tensorflow:sample_weight modes were coerced from\n",
      "  ...\n",
      "    to  \n",
      "  ['...']\n",
      "Train on 196038 samples, validate on 34595 samples\n",
      "Epoch 1/50\n",
      "196038/196038 [==============================] - 16s 84us/sample - loss: 9.4790 - auc_2: 0.5295 - val_loss: 29.4142 - val_auc_2: 0.5079\n",
      "Epoch 2/50\n",
      "196038/196038 [==============================] - 15s 79us/sample - loss: 3.5154 - auc_2: 0.5101 - val_loss: 3.8783 - val_auc_2: 0.5033\n",
      "Epoch 3/50\n",
      "196038/196038 [==============================] - 16s 79us/sample - loss: 2.2828 - auc_2: 0.5176 - val_loss: 3.3285 - val_auc_2: 0.5792\n",
      "Epoch 4/50\n",
      "196038/196038 [==============================] - 16s 80us/sample - loss: 1.8605 - auc_2: 0.5406 - val_loss: 1.9503 - val_auc_2: 0.5669\n",
      "Epoch 5/50\n",
      "196038/196038 [==============================] - 16s 80us/sample - loss: 1.6091 - auc_2: 0.6301 - val_loss: 1.4378 - val_auc_2: 0.7199\n",
      "Epoch 6/50\n",
      "196038/196038 [==============================] - 16s 80us/sample - loss: 1.4431 - auc_2: 0.6926 - val_loss: 1.4145 - val_auc_2: 0.7154\n",
      "Epoch 7/50\n",
      "196038/196038 [==============================] - 16s 80us/sample - loss: 1.3977 - auc_2: 0.7129 - val_loss: 1.4142 - val_auc_2: 0.7303\n",
      "Epoch 8/50\n",
      "196038/196038 [==============================] - 16s 80us/sample - loss: 1.3992 - auc_2: 0.7253 - val_loss: 1.3855 - val_auc_2: 0.7286\n",
      "Epoch 9/50\n",
      "196038/196038 [==============================] - 16s 79us/sample - loss: 1.3607 - auc_2: 0.7309 - val_loss: 1.3045 - val_auc_2: 0.7335\n",
      "Epoch 10/50\n",
      "196038/196038 [==============================] - 16s 80us/sample - loss: 1.3263 - auc_2: 0.7359 - val_loss: 1.2966 - val_auc_2: 0.7336\n",
      "Epoch 11/50\n",
      "196038/196038 [==============================] - 16s 80us/sample - loss: 1.3183 - auc_2: 0.7386 - val_loss: 1.3675 - val_auc_2: 0.7290\n",
      "Epoch 12/50\n",
      "196038/196038 [==============================] - 16s 81us/sample - loss: 1.3066 - auc_2: 0.7407 - val_loss: 1.3288 - val_auc_2: 0.7325\n",
      "Epoch 13/50\n",
      "196038/196038 [==============================] - 16s 80us/sample - loss: 1.2898 - auc_2: 0.7428 - val_loss: 1.3550 - val_auc_2: 0.7308\n",
      "Epoch 14/50\n",
      "196038/196038 [==============================] - 16s 81us/sample - loss: 1.2948 - auc_2: 0.7434 - val_loss: 1.3514 - val_auc_2: 0.7315\n"
     ]
    },
    {
     "name": "stderr",
     "output_type": "stream",
     "text": [
      "\u001b[32m[I 2021-01-05 21:00:39,010]\u001b[0m Trial 0 finished with value: 0.7336060679157983 and parameters: {'step': 4, 'no._units': 394, 'number': 3, 'best_weight': {0: 1.0, 1: 15.0}}. Best is trial 0 with value: 0.7336060679157983.\u001b[0m\n"
     ]
    },
    {
     "name": "stdout",
     "output_type": "stream",
     "text": [
      "WARNING:tensorflow:sample_weight modes were coerced from\n",
      "  ...\n",
      "    to  \n",
      "  ['...']\n",
      "WARNING:tensorflow:sample_weight modes were coerced from\n",
      "  ...\n",
      "    to  \n",
      "  ['...']\n",
      "Train on 196038 samples, validate on 34595 samples\n",
      "Epoch 1/50\n",
      "196038/196038 [==============================] - 19s 95us/sample - loss: 2.3205 - auc_3: 0.5028 - val_loss: 1.6852 - val_auc_3: 0.5000\n",
      "Epoch 2/50\n",
      "196038/196038 [==============================] - 18s 89us/sample - loss: 1.5733 - auc_3: 0.4973 - val_loss: 2.3404 - val_auc_3: 0.5000\n",
      "Epoch 3/50\n",
      "196038/196038 [==============================] - 17s 89us/sample - loss: 1.4606 - auc_3: 0.4960 - val_loss: 1.8156 - val_auc_3: 0.5000\n",
      "Epoch 4/50\n",
      "196038/196038 [==============================] - 18s 89us/sample - loss: 1.3959 - auc_3: 0.5003 - val_loss: 1.8611 - val_auc_3: 0.5000\n",
      "Epoch 5/50\n",
      "196038/196038 [==============================] - 18s 90us/sample - loss: 1.3637 - auc_3: 0.4980 - val_loss: 1.4810 - val_auc_3: 0.5000\n",
      "Epoch 6/50\n",
      "196038/196038 [==============================] - 18s 90us/sample - loss: 1.3425 - auc_3: 0.4988 - val_loss: 1.3922 - val_auc_3: 0.5000\n",
      "Epoch 7/50\n",
      "196038/196038 [==============================] - 18s 90us/sample - loss: 1.3313 - auc_3: 0.4956 - val_loss: 1.3371 - val_auc_3: 0.5000\n",
      "Epoch 8/50\n",
      "196038/196038 [==============================] - 18s 89us/sample - loss: 1.3232 - auc_3: 0.4969 - val_loss: 1.3106 - val_auc_3: 0.5000\n",
      "Epoch 9/50\n",
      "196038/196038 [==============================] - 18s 90us/sample - loss: 1.3185 - auc_3: 0.4970 - val_loss: 1.3109 - val_auc_3: 0.5000\n",
      "Epoch 10/50\n",
      "196038/196038 [==============================] - 18s 90us/sample - loss: 1.3150 - auc_3: 0.4991 - val_loss: 1.3319 - val_auc_3: 0.5000\n",
      "Epoch 11/50\n",
      "196038/196038 [==============================] - 18s 90us/sample - loss: 1.3127 - auc_3: 0.4992 - val_loss: 1.3087 - val_auc_3: 0.5000\n",
      "Epoch 12/50\n",
      "196038/196038 [==============================] - 18s 90us/sample - loss: 1.3111 - auc_3: 0.4987 - val_loss: 1.3091 - val_auc_3: 0.5000\n",
      "Epoch 13/50\n",
      "196038/196038 [==============================] - 18s 90us/sample - loss: 1.3104 - auc_3: 0.4962 - val_loss: 1.3082 - val_auc_3: 0.5000\n",
      "Epoch 14/50\n",
      "196038/196038 [==============================] - 18s 93us/sample - loss: 1.3092 - auc_3: 0.5024 - val_loss: 1.3081 - val_auc_3: 0.5000\n",
      "Epoch 15/50\n",
      "196038/196038 [==============================] - 18s 92us/sample - loss: 1.3091 - auc_3: 0.4972 - val_loss: 1.3094 - val_auc_3: 0.5000\n",
      "Epoch 16/50\n",
      "196038/196038 [==============================] - 18s 90us/sample - loss: 1.3085 - auc_3: 0.5033 - val_loss: 1.3081 - val_auc_3: 0.5000\n",
      "Epoch 17/50\n",
      "196038/196038 [==============================] - 18s 90us/sample - loss: 1.3086 - auc_3: 0.4969 - val_loss: 1.3087 - val_auc_3: 0.5000\n",
      "Epoch 18/50\n",
      "196038/196038 [==============================] - 18s 90us/sample - loss: 1.3083 - auc_3: 0.5023 - val_loss: 1.3085 - val_auc_3: 0.5000\n",
      "Epoch 19/50\n",
      "196038/196038 [==============================] - 18s 91us/sample - loss: 1.3084 - auc_3: 0.4963 - val_loss: 1.3081 - val_auc_3: 0.5000\n",
      "Epoch 20/50\n",
      "196038/196038 [==============================] - 18s 91us/sample - loss: 1.3082 - auc_3: 0.4988 - val_loss: 1.3087 - val_auc_3: 0.5000\n",
      "Epoch 21/50\n",
      "196038/196038 [==============================] - 18s 91us/sample - loss: 1.3083 - auc_3: 0.4954 - val_loss: 1.3081 - val_auc_3: 0.5000\n",
      "Epoch 22/50\n",
      "196038/196038 [==============================] - 18s 91us/sample - loss: 1.3082 - auc_3: 0.4970 - val_loss: 1.3081 - val_auc_3: 0.5000\n",
      "Epoch 23/50\n",
      "196038/196038 [==============================] - 18s 91us/sample - loss: 1.3081 - auc_3: 0.4984 - val_loss: 1.3081 - val_auc_3: 0.5000\n"
     ]
    },
    {
     "name": "stderr",
     "output_type": "stream",
     "text": [
      "\u001b[32m[I 2021-01-05 21:07:28,566]\u001b[0m Trial 1 finished with value: 0.5 and parameters: {'step': 6, 'no._units': 152, 'number': 6, 'best_weight': {0: 1.0, 1: 12.0}}. Best is trial 0 with value: 0.7336060679157983.\u001b[0m\n"
     ]
    },
    {
     "name": "stdout",
     "output_type": "stream",
     "text": [
      "WARNING:tensorflow:sample_weight modes were coerced from\n",
      "  ...\n",
      "    to  \n",
      "  ['...']\n",
      "WARNING:tensorflow:sample_weight modes were coerced from\n",
      "  ...\n",
      "    to  \n",
      "  ['...']\n",
      "Train on 196038 samples, validate on 34595 samples\n",
      "Epoch 1/50\n",
      "196038/196038 [==============================] - 18s 91us/sample - loss: 17.6369 - auc_4: 0.5322 - val_loss: 7.5313 - val_auc_4: 0.4847\n",
      "Epoch 2/50\n",
      "196038/196038 [==============================] - 17s 86us/sample - loss: 4.9082 - auc_4: 0.5134 - val_loss: 3.0246 - val_auc_4: 0.5151\n",
      "Epoch 3/50\n",
      "196038/196038 [==============================] - 17s 86us/sample - loss: 3.0655 - auc_4: 0.5074 - val_loss: 3.7671 - val_auc_4: 0.5054\n",
      "Epoch 4/50\n",
      "196038/196038 [==============================] - 17s 87us/sample - loss: 2.3253 - auc_4: 0.5201 - val_loss: 4.4731 - val_auc_4: 0.5338\n",
      "Epoch 5/50\n",
      "196038/196038 [==============================] - 17s 86us/sample - loss: 1.9895 - auc_4: 0.5543 - val_loss: 2.1131 - val_auc_4: 0.5969\n",
      "Epoch 6/50\n",
      "196038/196038 [==============================] - 17s 86us/sample - loss: 1.8196 - auc_4: 0.6573 - val_loss: 1.9477 - val_auc_4: 0.7206\n",
      "Epoch 7/50\n",
      "196038/196038 [==============================] - 17s 86us/sample - loss: 1.7123 - auc_4: 0.7022 - val_loss: 1.6923 - val_auc_4: 0.7274\n",
      "Epoch 8/50\n",
      "196038/196038 [==============================] - 17s 86us/sample - loss: 1.5620 - auc_4: 0.7177 - val_loss: 1.7751 - val_auc_4: 0.7131\n",
      "Epoch 9/50\n",
      "196038/196038 [==============================] - 17s 86us/sample - loss: 1.5164 - auc_4: 0.7281 - val_loss: 1.6840 - val_auc_4: 0.7356\n",
      "Epoch 10/50\n",
      "196038/196038 [==============================] - 17s 87us/sample - loss: 1.4827 - auc_4: 0.7359 - val_loss: 1.7046 - val_auc_4: 0.7323\n",
      "Epoch 11/50\n",
      "196038/196038 [==============================] - 17s 87us/sample - loss: 1.4898 - auc_4: 0.7383 - val_loss: 1.7058 - val_auc_4: 0.7249\n",
      "Epoch 12/50\n",
      "196038/196038 [==============================] - 17s 86us/sample - loss: 1.4984 - auc_4: 0.7364 - val_loss: 1.6515 - val_auc_4: 0.7229\n",
      "Epoch 13/50\n",
      "196038/196038 [==============================] - 17s 86us/sample - loss: 1.5012 - auc_4: 0.7356 - val_loss: 1.7323 - val_auc_4: 0.7230\n",
      "Epoch 14/50\n",
      "196038/196038 [==============================] - 17s 86us/sample - loss: 1.4935 - auc_4: 0.7359 - val_loss: 1.6875 - val_auc_4: 0.7241\n",
      "Epoch 15/50\n",
      "196038/196038 [==============================] - 17s 86us/sample - loss: 1.4876 - auc_4: 0.7372 - val_loss: 1.7225 - val_auc_4: 0.7228\n",
      "Epoch 16/50\n",
      "196038/196038 [==============================] - 17s 86us/sample - loss: 1.4967 - auc_4: 0.7362 - val_loss: 1.6910 - val_auc_4: 0.7243\n"
     ]
    },
    {
     "name": "stderr",
     "output_type": "stream",
     "text": [
      "\u001b[32m[I 2021-01-05 21:12:01,644]\u001b[0m Trial 2 finished with value: 0.7229389304700925 and parameters: {'step': 4, 'no._units': 571, 'number': 3, 'best_weight': {0: 1.0, 1: 17.0}}. Best is trial 0 with value: 0.7336060679157983.\u001b[0m\n"
     ]
    },
    {
     "name": "stdout",
     "output_type": "stream",
     "text": [
      "WARNING:tensorflow:sample_weight modes were coerced from\n",
      "  ...\n",
      "    to  \n",
      "  ['...']\n",
      "WARNING:tensorflow:sample_weight modes were coerced from\n",
      "  ...\n",
      "    to  \n",
      "  ['...']\n",
      "Train on 196038 samples, validate on 34595 samples\n",
      "Epoch 1/50\n",
      "196038/196038 [==============================] - 17s 84us/sample - loss: 3.1615 - auc_5: 0.5409 - val_loss: 5.4203 - val_auc_5: 0.5001\n",
      "Epoch 2/50\n",
      "196038/196038 [==============================] - 16s 80us/sample - loss: 1.9313 - auc_5: 0.5107 - val_loss: 2.4129 - val_auc_5: 0.5001\n",
      "Epoch 3/50\n",
      "196038/196038 [==============================] - 16s 79us/sample - loss: 1.5300 - auc_5: 0.4997 - val_loss: 1.7107 - val_auc_5: 0.5000\n",
      "Epoch 4/50\n",
      "196038/196038 [==============================] - 16s 80us/sample - loss: 1.4892 - auc_5: 0.5202 - val_loss: 2.4036 - val_auc_5: 0.5205\n",
      "Epoch 5/50\n",
      "196038/196038 [==============================] - 16s 80us/sample - loss: 1.3490 - auc_5: 0.6248 - val_loss: 2.2201 - val_auc_5: 0.6778\n",
      "Epoch 6/50\n",
      "196038/196038 [==============================] - 16s 79us/sample - loss: 1.3416 - auc_5: 0.6844 - val_loss: 2.8827 - val_auc_5: 0.6434\n",
      "Epoch 7/50\n",
      "196038/196038 [==============================] - 16s 80us/sample - loss: 1.4677 - auc_5: 0.7062 - val_loss: 2.4723 - val_auc_5: 0.7025\n"
     ]
    },
    {
     "name": "stderr",
     "output_type": "stream",
     "text": [
      "\u001b[32m[I 2021-01-05 21:13:53,404]\u001b[0m Trial 3 finished with value: 0.5 and parameters: {'step': 5, 'no._units': 261, 'number': 3, 'best_weight': {0: 1.0, 1: 11.38697}}. Best is trial 0 with value: 0.7336060679157983.\u001b[0m\n"
     ]
    },
    {
     "name": "stdout",
     "output_type": "stream",
     "text": [
      "WARNING:tensorflow:sample_weight modes were coerced from\n",
      "  ...\n",
      "    to  \n",
      "  ['...']\n",
      "WARNING:tensorflow:sample_weight modes were coerced from\n",
      "  ...\n",
      "    to  \n",
      "  ['...']\n",
      "Train on 196038 samples, validate on 34595 samples\n",
      "Epoch 1/50\n",
      "196038/196038 [==============================] - 19s 98us/sample - loss: 7.7891 - auc_6: 0.5042 - val_loss: 1.8127 - val_auc_6: 0.5000\n",
      "Epoch 2/50\n",
      "196038/196038 [==============================] - 18s 94us/sample - loss: 2.6246 - auc_6: 0.5033 - val_loss: 2.7687 - val_auc_6: 0.5000\n",
      "Epoch 3/50\n",
      "196038/196038 [==============================] - 18s 94us/sample - loss: 1.8240 - auc_6: 0.4993 - val_loss: 1.3950 - val_auc_6: 0.5000\n",
      "Epoch 4/50\n",
      "196038/196038 [==============================] - 18s 94us/sample - loss: 1.4945 - auc_6: 0.5013 - val_loss: 1.9714 - val_auc_6: 0.5000\n",
      "Epoch 5/50\n",
      "196038/196038 [==============================] - 18s 94us/sample - loss: 1.3731 - auc_6: 0.5005 - val_loss: 1.8560 - val_auc_6: 0.5000\n",
      "Epoch 6/50\n",
      "196038/196038 [==============================] - 18s 94us/sample - loss: 1.3221 - auc_6: 0.4998 - val_loss: 1.3168 - val_auc_6: 0.5000\n",
      "Epoch 7/50\n",
      "196038/196038 [==============================] - 18s 94us/sample - loss: 1.2987 - auc_6: 0.5003 - val_loss: 1.3506 - val_auc_6: 0.5000\n",
      "Epoch 8/50\n",
      "196038/196038 [==============================] - 18s 94us/sample - loss: 1.2873 - auc_6: 0.5010 - val_loss: 1.2760 - val_auc_6: 0.5000\n",
      "Epoch 9/50\n",
      "196038/196038 [==============================] - 18s 94us/sample - loss: 1.2816 - auc_6: 0.5003 - val_loss: 1.2808 - val_auc_6: 0.5000\n",
      "Epoch 10/50\n",
      "196038/196038 [==============================] - 18s 94us/sample - loss: 1.2782 - auc_6: 0.5018 - val_loss: 1.2920 - val_auc_6: 0.5000\n",
      "Epoch 11/50\n",
      "196038/196038 [==============================] - 18s 94us/sample - loss: 1.2764 - auc_6: 0.5037 - val_loss: 1.2764 - val_auc_6: 0.5000\n",
      "Epoch 12/50\n",
      "196038/196038 [==============================] - 18s 94us/sample - loss: 1.2759 - auc_6: 0.4959 - val_loss: 1.2747 - val_auc_6: 0.5000\n",
      "Epoch 13/50\n",
      "196038/196038 [==============================] - 18s 94us/sample - loss: 1.2751 - auc_6: 0.4989 - val_loss: 1.2766 - val_auc_6: 0.5000\n",
      "Epoch 14/50\n",
      "196038/196038 [==============================] - 18s 94us/sample - loss: 1.2749 - auc_6: 0.4953 - val_loss: 1.2747 - val_auc_6: 0.5000\n",
      "Epoch 15/50\n",
      "196038/196038 [==============================] - 18s 94us/sample - loss: 1.2747 - auc_6: 0.4998 - val_loss: 1.2747 - val_auc_6: 0.5000\n",
      "Epoch 16/50\n",
      "196038/196038 [==============================] - 18s 94us/sample - loss: 1.2746 - auc_6: 0.4983 - val_loss: 1.2749 - val_auc_6: 0.5000\n"
     ]
    },
    {
     "name": "stderr",
     "output_type": "stream",
     "text": [
      "\u001b[32m[I 2021-01-05 21:18:50,755]\u001b[0m Trial 4 finished with value: 0.5 and parameters: {'step': 4, 'no._units': 535, 'number': 4, 'best_weight': {0: 1.0, 1: 11.38697}}. Best is trial 0 with value: 0.7336060679157983.\u001b[0m\n"
     ]
    },
    {
     "name": "stdout",
     "output_type": "stream",
     "text": [
      "WARNING:tensorflow:sample_weight modes were coerced from\n",
      "  ...\n",
      "    to  \n",
      "  ['...']\n",
      "WARNING:tensorflow:sample_weight modes were coerced from\n",
      "  ...\n",
      "    to  \n",
      "  ['...']\n",
      "Train on 196038 samples, validate on 34595 samples\n",
      "Epoch 1/50\n",
      "196038/196038 [==============================] - 22s 110us/sample - loss: 52.5843 - auc_7: 0.4966 - val_loss: 5.8291 - val_auc_7: 0.5000\n",
      "Epoch 2/50\n",
      "196038/196038 [==============================] - 21s 105us/sample - loss: 2.8726 - auc_7: 0.4994 - val_loss: 3.1100 - val_auc_7: 0.5000\n",
      "Epoch 3/50\n",
      "196038/196038 [==============================] - 20s 104us/sample - loss: 1.9966 - auc_7: 0.4983 - val_loss: 2.3722 - val_auc_7: 0.5000\n",
      "Epoch 4/50\n",
      "196038/196038 [==============================] - 21s 105us/sample - loss: 1.6463 - auc_7: 0.5015 - val_loss: 1.5372 - val_auc_7: 0.5000\n",
      "Epoch 5/50\n",
      "196038/196038 [==============================] - 20s 103us/sample - loss: 1.5151 - auc_7: 0.4999 - val_loss: 1.7363 - val_auc_7: 0.5000\n",
      "Epoch 6/50\n",
      "196038/196038 [==============================] - 20s 102us/sample - loss: 1.4630 - auc_7: 0.4961 - val_loss: 1.5724 - val_auc_7: 0.5000\n",
      "Epoch 7/50\n",
      "196038/196038 [==============================] - 20s 102us/sample - loss: 1.4359 - auc_7: 0.5019 - val_loss: 1.8001 - val_auc_7: 0.5000\n",
      "Epoch 8/50\n",
      "196038/196038 [==============================] - 20s 102us/sample - loss: 1.4236 - auc_7: 0.5030 - val_loss: 1.4844 - val_auc_7: 0.5000\n",
      "Epoch 9/50\n",
      "196038/196038 [==============================] - 20s 102us/sample - loss: 1.4179 - auc_7: 0.4992 - val_loss: 1.4133 - val_auc_7: 0.5000\n",
      "Epoch 10/50\n",
      "196038/196038 [==============================] - 20s 102us/sample - loss: 1.4142 - auc_7: 0.5001 - val_loss: 1.4129 - val_auc_7: 0.5000\n",
      "Epoch 11/50\n",
      "196038/196038 [==============================] - 20s 102us/sample - loss: 1.4123 - auc_7: 0.4983 - val_loss: 1.4109 - val_auc_7: 0.5000\n",
      "Epoch 12/50\n",
      "196038/196038 [==============================] - 20s 103us/sample - loss: 1.4110 - auc_7: 0.5018 - val_loss: 1.4104 - val_auc_7: 0.5000\n",
      "Epoch 13/50\n",
      "196038/196038 [==============================] - 20s 102us/sample - loss: 1.4105 - auc_7: 0.4990 - val_loss: 1.4098 - val_auc_7: 0.5000\n",
      "Epoch 14/50\n",
      "196038/196038 [==============================] - 20s 102us/sample - loss: 1.4102 - auc_7: 0.4993 - val_loss: 1.4098 - val_auc_7: 0.5000\n",
      "Epoch 15/50\n",
      "196038/196038 [==============================] - 20s 102us/sample - loss: 1.4100 - auc_7: 0.4990 - val_loss: 1.4098 - val_auc_7: 0.5000\n",
      "Epoch 16/50\n",
      "196038/196038 [==============================] - 20s 102us/sample - loss: 1.4100 - auc_7: 0.4957 - val_loss: 1.4098 - val_auc_7: 0.5000\n",
      "Epoch 17/50\n",
      "196038/196038 [==============================] - 20s 102us/sample - loss: 1.4098 - auc_7: 0.4967 - val_loss: 1.4099 - val_auc_7: 0.5000\n",
      "Epoch 18/50\n",
      "196038/196038 [==============================] - 20s 102us/sample - loss: 1.4099 - auc_7: 0.4982 - val_loss: 1.4098 - val_auc_7: 0.5000\n",
      "Epoch 19/50\n",
      "196038/196038 [==============================] - 20s 102us/sample - loss: 1.4098 - auc_7: 0.4989 - val_loss: 1.4098 - val_auc_7: 0.5000\n"
     ]
    },
    {
     "name": "stderr",
     "output_type": "stream",
     "text": [
      "\u001b[32m[I 2021-01-05 21:25:16,307]\u001b[0m Trial 5 finished with value: 0.5 and parameters: {'step': 4, 'no._units': 525, 'number': 6, 'best_weight': {0: 1.0, 1: 14.0}}. Best is trial 0 with value: 0.7336060679157983.\u001b[0m\n"
     ]
    },
    {
     "name": "stdout",
     "output_type": "stream",
     "text": [
      "WARNING:tensorflow:sample_weight modes were coerced from\n",
      "  ...\n",
      "    to  \n",
      "  ['...']\n",
      "WARNING:tensorflow:sample_weight modes were coerced from\n",
      "  ...\n",
      "    to  \n",
      "  ['...']\n",
      "Train on 196038 samples, validate on 34595 samples\n",
      "Epoch 1/50\n",
      "196038/196038 [==============================] - 15s 79us/sample - loss: 34.8352 - auc_8: 0.5822 - val_loss: 96.2213 - val_auc_8: 0.5542\n",
      "Epoch 2/50\n",
      "196038/196038 [==============================] - 15s 75us/sample - loss: 40.2028 - auc_8: 0.6019 - val_loss: 53.8549 - val_auc_8: 0.5688\n",
      "Epoch 3/50\n",
      "196038/196038 [==============================] - 15s 75us/sample - loss: 26.0023 - auc_8: 0.6185 - val_loss: 15.6750 - val_auc_8: 0.6403\n",
      "Epoch 4/50\n",
      "196038/196038 [==============================] - 15s 75us/sample - loss: 13.3767 - auc_8: 0.6415 - val_loss: 15.2716 - val_auc_8: 0.6309\n",
      "Epoch 5/50\n",
      "196038/196038 [==============================] - 15s 75us/sample - loss: 9.2518 - auc_8: 0.6541 - val_loss: 12.3198 - val_auc_8: 0.6504\n",
      "Epoch 6/50\n",
      "196038/196038 [==============================] - 15s 75us/sample - loss: 7.5270 - auc_8: 0.6697 - val_loss: 6.6917 - val_auc_8: 0.6451\n",
      "Epoch 7/50\n",
      "196038/196038 [==============================] - 15s 74us/sample - loss: 6.2816 - auc_8: 0.6796 - val_loss: 6.6302 - val_auc_8: 0.6542\n",
      "Epoch 8/50\n",
      "196038/196038 [==============================] - 15s 75us/sample - loss: 5.1671 - auc_8: 0.6816 - val_loss: 8.4047 - val_auc_8: 0.6504\n",
      "Epoch 9/50\n",
      "196038/196038 [==============================] - 15s 75us/sample - loss: 5.2678 - auc_8: 0.6853 - val_loss: 8.0432 - val_auc_8: 0.6510\n",
      "Epoch 10/50\n",
      "196038/196038 [==============================] - 15s 75us/sample - loss: 5.2153 - auc_8: 0.6886 - val_loss: 8.0094 - val_auc_8: 0.6515\n",
      "Epoch 11/50\n",
      "196038/196038 [==============================] - 15s 75us/sample - loss: 5.3409 - auc_8: 0.6880 - val_loss: 7.9746 - val_auc_8: 0.6527\n"
     ]
    },
    {
     "name": "stderr",
     "output_type": "stream",
     "text": [
      "\u001b[32m[I 2021-01-05 21:27:59,846]\u001b[0m Trial 6 finished with value: 0.6541726259912045 and parameters: {'step': 3, 'no._units': 404, 'number': 2, 'best_weight': {0: 1.0, 1: 14.0}}. Best is trial 0 with value: 0.7336060679157983.\u001b[0m\n"
     ]
    },
    {
     "name": "stdout",
     "output_type": "stream",
     "text": [
      "WARNING:tensorflow:sample_weight modes were coerced from\n",
      "  ...\n",
      "    to  \n",
      "  ['...']\n",
      "WARNING:tensorflow:sample_weight modes were coerced from\n",
      "  ...\n",
      "    to  \n",
      "  ['...']\n",
      "Train on 196038 samples, validate on 34595 samples\n",
      "Epoch 1/50\n",
      "196038/196038 [==============================] - 20s 104us/sample - loss: 16.9822 - auc_9: 0.5016 - val_loss: 6.7261 - val_auc_9: 0.5007\n",
      "Epoch 2/50\n",
      "196038/196038 [==============================] - 19s 99us/sample - loss: 1.9444 - auc_9: 0.5022 - val_loss: 4.2228 - val_auc_9: 0.5000\n",
      "Epoch 3/50\n",
      "196038/196038 [==============================] - 19s 99us/sample - loss: 1.4955 - auc_9: 0.5014 - val_loss: 1.9381 - val_auc_9: 0.5000\n",
      "Epoch 4/50\n",
      "196038/196038 [==============================] - 19s 99us/sample - loss: 1.3753 - auc_9: 0.4996 - val_loss: 1.4625 - val_auc_9: 0.5000\n",
      "Epoch 5/50\n",
      "196038/196038 [==============================] - 19s 99us/sample - loss: 1.3350 - auc_9: 0.5003 - val_loss: 1.4790 - val_auc_9: 0.5000\n",
      "Epoch 6/50\n",
      "196038/196038 [==============================] - 19s 99us/sample - loss: 1.3200 - auc_9: 0.5000 - val_loss: 1.3364 - val_auc_9: 0.5000\n",
      "Epoch 7/50\n",
      "196038/196038 [==============================] - 19s 99us/sample - loss: 1.3137 - auc_9: 0.4975 - val_loss: 1.3085 - val_auc_9: 0.5000\n",
      "Epoch 8/50\n",
      "196038/196038 [==============================] - 19s 99us/sample - loss: 1.3106 - auc_9: 0.4986 - val_loss: 1.3081 - val_auc_9: 0.5000\n",
      "Epoch 9/50\n",
      "196038/196038 [==============================] - 19s 99us/sample - loss: 1.3090 - auc_9: 0.5026 - val_loss: 1.3103 - val_auc_9: 0.5000\n",
      "Epoch 10/50\n",
      "196038/196038 [==============================] - 19s 98us/sample - loss: 1.3087 - auc_9: 0.4963 - val_loss: 1.3084 - val_auc_9: 0.5000\n",
      "Epoch 11/50\n",
      "196038/196038 [==============================] - 19s 99us/sample - loss: 1.3083 - auc_9: 0.5006 - val_loss: 1.3102 - val_auc_9: 0.5000\n",
      "Epoch 12/50\n",
      "196038/196038 [==============================] - 19s 99us/sample - loss: 1.3083 - auc_9: 0.5005 - val_loss: 1.3081 - val_auc_9: 0.5000\n"
     ]
    },
    {
     "name": "stderr",
     "output_type": "stream",
     "text": [
      "\u001b[32m[I 2021-01-05 21:31:54,949]\u001b[0m Trial 7 finished with value: 0.5 and parameters: {'step': 3, 'no._units': 387, 'number': 6, 'best_weight': {0: 1.0, 1: 12.0}}. Best is trial 0 with value: 0.7336060679157983.\u001b[0m\n"
     ]
    },
    {
     "name": "stdout",
     "output_type": "stream",
     "text": [
      "WARNING:tensorflow:sample_weight modes were coerced from\n",
      "  ...\n",
      "    to  \n",
      "  ['...']\n",
      "WARNING:tensorflow:sample_weight modes were coerced from\n",
      "  ...\n",
      "    to  \n",
      "  ['...']\n",
      "Train on 196038 samples, validate on 34595 samples\n",
      "Epoch 1/50\n",
      "196038/196038 [==============================] - 16s 82us/sample - loss: 2.9939 - auc_10: 0.5346 - val_loss: 2.3453 - val_auc_10: 0.4996\n",
      "Epoch 2/50\n",
      "196038/196038 [==============================] - 15s 76us/sample - loss: 1.7515 - auc_10: 0.5547 - val_loss: 2.0175 - val_auc_10: 0.5090\n",
      "Epoch 3/50\n",
      "196038/196038 [==============================] - 15s 77us/sample - loss: 1.4452 - auc_10: 0.6886 - val_loss: 1.8676 - val_auc_10: 0.7176\n",
      "Epoch 4/50\n",
      "196038/196038 [==============================] - 15s 76us/sample - loss: 1.4377 - auc_10: 0.7251 - val_loss: 1.4935 - val_auc_10: 0.7145\n",
      "Epoch 5/50\n",
      "196038/196038 [==============================] - 15s 76us/sample - loss: 1.4026 - auc_10: 0.7327 - val_loss: 1.4137 - val_auc_10: 0.7254\n",
      "Epoch 6/50\n",
      "196038/196038 [==============================] - 15s 76us/sample - loss: 1.3781 - auc_10: 0.7358 - val_loss: 1.4543 - val_auc_10: 0.7228\n",
      "Epoch 7/50\n",
      "196038/196038 [==============================] - 15s 76us/sample - loss: 1.3751 - auc_10: 0.7365 - val_loss: 1.3911 - val_auc_10: 0.7254\n",
      "Epoch 8/50\n",
      "196038/196038 [==============================] - 15s 76us/sample - loss: 1.3657 - auc_10: 0.7370 - val_loss: 1.4021 - val_auc_10: 0.7230\n",
      "Epoch 9/50\n",
      "196038/196038 [==============================] - 15s 76us/sample - loss: 1.3661 - auc_10: 0.7369 - val_loss: 1.4064 - val_auc_10: 0.7228\n",
      "Epoch 10/50\n",
      "196038/196038 [==============================] - 15s 76us/sample - loss: 1.3673 - auc_10: 0.7369 - val_loss: 1.4068 - val_auc_10: 0.7228\n",
      "Epoch 11/50\n",
      "196038/196038 [==============================] - 15s 76us/sample - loss: 1.3685 - auc_10: 0.7368 - val_loss: 1.4066 - val_auc_10: 0.7229\n"
     ]
    },
    {
     "name": "stderr",
     "output_type": "stream",
     "text": [
      "\u001b[32m[I 2021-01-05 21:34:42,042]\u001b[0m Trial 8 finished with value: 0.7253752029908114 and parameters: {'step': 2, 'no._units': 202, 'number': 3, 'best_weight': {0: 1.0, 1: 16.0}}. Best is trial 0 with value: 0.7336060679157983.\u001b[0m\n"
     ]
    },
    {
     "name": "stdout",
     "output_type": "stream",
     "text": [
      "WARNING:tensorflow:sample_weight modes were coerced from\n",
      "  ...\n",
      "    to  \n",
      "  ['...']\n",
      "WARNING:tensorflow:sample_weight modes were coerced from\n",
      "  ...\n",
      "    to  \n",
      "  ['...']\n",
      "Train on 196038 samples, validate on 34595 samples\n",
      "Epoch 1/50\n",
      "196038/196038 [==============================] - 16s 82us/sample - loss: 3.1882 - auc_11: 0.5377 - val_loss: 3.5060 - val_auc_11: 0.5001\n",
      "Epoch 2/50\n",
      "196038/196038 [==============================] - 15s 76us/sample - loss: 2.1123 - auc_11: 0.5141 - val_loss: 4.4321 - val_auc_11: 0.5000\n",
      "Epoch 3/50\n",
      "196038/196038 [==============================] - 15s 77us/sample - loss: 1.7539 - auc_11: 0.5043 - val_loss: 2.5915 - val_auc_11: 0.5000\n",
      "Epoch 4/50\n",
      "196038/196038 [==============================] - 15s 77us/sample - loss: 1.7372 - auc_11: 0.5322 - val_loss: 2.1206 - val_auc_11: 0.4988\n",
      "Epoch 5/50\n",
      "196038/196038 [==============================] - 15s 77us/sample - loss: 1.6437 - auc_11: 0.5787 - val_loss: 1.4811 - val_auc_11: 0.6451\n",
      "Epoch 6/50\n",
      "196038/196038 [==============================] - 15s 77us/sample - loss: 1.5468 - auc_11: 0.6429 - val_loss: 1.4571 - val_auc_11: 0.6852\n",
      "Epoch 7/50\n",
      "196038/196038 [==============================] - 15s 77us/sample - loss: 1.4997 - auc_11: 0.6787 - val_loss: 1.7255 - val_auc_11: 0.6911\n",
      "Epoch 8/50\n",
      "196038/196038 [==============================] - 15s 77us/sample - loss: 1.5607 - auc_11: 0.7035 - val_loss: 1.6357 - val_auc_11: 0.7287\n",
      "Epoch 9/50\n",
      "196038/196038 [==============================] - 15s 77us/sample - loss: 1.7670 - auc_11: 0.7161 - val_loss: 2.0826 - val_auc_11: 0.7137\n",
      "Epoch 10/50\n",
      "196038/196038 [==============================] - 15s 77us/sample - loss: 1.7558 - auc_11: 0.7246 - val_loss: 1.6517 - val_auc_11: 0.7124\n"
     ]
    },
    {
     "name": "stderr",
     "output_type": "stream",
     "text": [
      "\u001b[32m[I 2021-01-05 21:37:15,059]\u001b[0m Trial 9 finished with value: 0.6867356384528662 and parameters: {'step': 6, 'no._units': 215, 'number': 3, 'best_weight': {0: 1.0, 1: 15.0}}. Best is trial 0 with value: 0.7336060679157983.\u001b[0m\n"
     ]
    }
   ],
   "source": [
    "# Extracting the best model parameters and best study score\n",
    "best_study_score,best_study_params = study_best_score_params(X_train_1, y_train_1, X_val, y_val, objective_wrappper_keras_eq_RMS, cl_weight,\n",
    "                                                            n_trials=10)"
   ]
  },
  {
   "cell_type": "markdown",
   "metadata": {},
   "source": [
    "## Observation(s):\n",
    "### 1) Similar to the previous case, certain optima trials have again ended with roc_auc score of .5. It is almost surely now that SELU activation is not the right activation function for this dataset."
   ]
  },
  {
   "cell_type": "markdown",
   "metadata": {},
   "source": [
    "## Model_11.2: Keras Dense Model with Equal Neurons/layer, SELU Activation, Nesterov Optimizer & Tuned learning rate."
   ]
  },
  {
   "cell_type": "code",
   "execution_count": 18,
   "metadata": {},
   "outputs": [],
   "source": [
    "# Defining best roc_auc score\n",
    "best_roc_auc = 0"
   ]
  },
  {
   "cell_type": "code",
   "execution_count": 19,
   "metadata": {},
   "outputs": [],
   "source": [
    "# defining the objective function\n",
    "def objective_wrappper_keras_eq_Nesterov(X_tr, y_tr, X_val, y_val, cl_w):\n",
    "    '''\n",
    "    Optimizes Keras ,neural net with equal no. of neurons in each layer , best parameters \n",
    "    on the given training set: X_tr, y_tr using validation set: X_val,y_val & class weights: cl_w\n",
    "    \n",
    "    '''\n",
    "\n",
    "    def objective(trial):\n",
    "        s = trial.suggest_int('step',2,6)\n",
    "        def exponential_decay_fn(epoch):\n",
    "            return 0.01 * 0.1**(epoch /s )\n",
    "              \n",
    "        # building model & searching for the best no. of neural units per layer.\n",
    "        no_units = trial.suggest_int('no._units',100,600)# No. of Neurons in each layer\n",
    "        model = keras.models.Sequential()\n",
    "        model.add(keras.layers.InputLayer(input_shape=X_tr.shape[1:]))\n",
    "        #model.add(keras.layers.BatchNormalization())\n",
    "        for i in range(trial.suggest_int('number',2,6)):\n",
    "            model.add(keras.layers.Dense(units=no_units,activation='selu',\n",
    "                                     kernel_initializer='lecun_normal')) # For self normalization\n",
    "        model.add(keras.layers.Dense(units=1,activation='sigmoid'))\n",
    "    \n",
    "        # Searching for the best learning rate.\n",
    "        #lr = trial.suggest_float(\"lr\", 1e-5, 1e-1, log=True) \n",
    "    \n",
    "        # Compiling the model\n",
    "        model.compile(loss=\"binary_crossentropy\", optimizer=keras.optimizers.SGD(momentum=.9,nesterov=True),\n",
    "                      metrics=[tf.keras.metrics.AUC(curve=\"ROC\")])\n",
    "        \n",
    "        # Defining the Callbacks\n",
    "        checkpoint_cb = keras.callbacks.ModelCheckpoint('best_model.h5',save_best_only=True) # 1st Callback\n",
    "        early_stopping_cb = keras.callbacks.EarlyStopping(patience=4,restore_best_weights=True) # 2nd Callback, Stop if validation score doen't improve for\n",
    "        # 4 epochs        \n",
    "        lr_scheduler_cb = keras.callbacks.LearningRateScheduler(exponential_decay_fn)# 3rd Callback\n",
    "        #tensorboard_cb = keras.callbacks.TensorBoard(get_run_logdir()) \n",
    "        \n",
    "        #Fitting the model\n",
    "        model.fit(X_tr, y_tr, epochs=50, validation_data=(X_val,y_val), batch_size=32,\n",
    "             class_weight=trial.suggest_categorical('best_weight',cl_w),\n",
    "             callbacks=[checkpoint_cb, early_stopping_cb, lr_scheduler_cb])#,tensorboard_cb])\n",
    "    \n",
    "        # Loading the best model \n",
    "        model_best = keras.models.load_model('best_model.h5')\n",
    "    \n",
    "        # Computing the roc_auc_score for the validation set\n",
    "        roc_auc_1 = roc_auc_score(y_val,model_best.predict_proba(X_val))\n",
    "        global best_roc_auc\n",
    "        # Updating best_roc_auc score\n",
    "        if roc_auc_1 > best_roc_auc:\n",
    "            best_roc_auc = roc_auc_1\n",
    "            model_best.save('Best_model_Selu_eq_Learn_Nesterov.h5')\n",
    "        \n",
    "        return roc_auc_1\n",
    "    \n",
    "    return objective"
   ]
  },
  {
   "cell_type": "code",
   "execution_count": 20,
   "metadata": {},
   "outputs": [],
   "source": [
    "# Defining the evaluation function for study's best parameters\n",
    "def study_best_score_params(X_tr, y_tr, X_v, y_v, obj_func, cl_w, n_trials=100):\n",
    "    ''' Computes the best hyper parameters of the Neural net using the Training set(X_tr,y_tr) & Validation set\n",
    "    (X_v,y_v), class weights cl_w & \n",
    "    returns Optuna's study's best score & clasifier parameters'''\n",
    "    \n",
    "    study = optuna.create_study(direction='maximize')\n",
    "    study.optimize(obj_func(X_tr, y_tr, X_v, y_v, cl_w),n_trials)\n",
    "    best_score = study.best_value\n",
    "    best_params = study.best_params\n",
    "    return (best_score,best_params)"
   ]
  },
  {
   "cell_type": "code",
   "execution_count": 21,
   "metadata": {},
   "outputs": [
    {
     "name": "stderr",
     "output_type": "stream",
     "text": [
      "\u001b[32m[I 2021-01-07 21:57:57,299]\u001b[0m A new study created in memory with name: no-name-690ac7a3-e37b-4305-9089-64ed7f5bb558\u001b[0m\n"
     ]
    },
    {
     "name": "stdout",
     "output_type": "stream",
     "text": [
      "WARNING:tensorflow:sample_weight modes were coerced from\n",
      "  ...\n",
      "    to  \n",
      "  ['...']\n",
      "WARNING:tensorflow:sample_weight modes were coerced from\n",
      "  ...\n",
      "    to  \n",
      "  ['...']\n",
      "Train on 196038 samples, validate on 34595 samples\n",
      "Epoch 1/50\n",
      "    32/196038 [..............................] - ETA: 1:27:21 - loss: 6.4671 - auc: 0.4349WARNING:tensorflow:Can save best model only with val_loss available, skipping.\n",
      "WARNING:tensorflow:Early stopping conditioned on metric `val_loss` which is not available. Available metrics are: loss,auc\n"
     ]
    },
    {
     "name": "stderr",
     "output_type": "stream",
     "text": [
      "\u001b[33m[W 2021-01-07 21:57:59,200]\u001b[0m Trial 0 failed because of the following error: InvalidArgumentError()\n",
      "Traceback (most recent call last):\n",
      "  File \"C:\\Users\\panka\\anaconda3\\lib\\site-packages\\optuna\\study.py\", line 778, in _run_trial\n",
      "    result = func(trial)\n",
      "  File \"<ipython-input-19-fcb6aa84e5fb>\", line 41, in objective\n",
      "    callbacks=[checkpoint_cb, early_stopping_cb, lr_scheduler_cb])#,tensorboard_cb])\n",
      "  File \"C:\\Users\\panka\\anaconda3\\lib\\site-packages\\tensorflow_core\\python\\keras\\engine\\training.py\", line 819, in fit\n",
      "    use_multiprocessing=use_multiprocessing)\n",
      "  File \"C:\\Users\\panka\\anaconda3\\lib\\site-packages\\tensorflow_core\\python\\keras\\engine\\training_v2.py\", line 342, in fit\n",
      "    total_epochs=epochs)\n",
      "  File \"C:\\Users\\panka\\anaconda3\\lib\\site-packages\\tensorflow_core\\python\\keras\\engine\\training_v2.py\", line 128, in run_one_epoch\n",
      "    batch_outs = execution_function(iterator)\n",
      "  File \"C:\\Users\\panka\\anaconda3\\lib\\site-packages\\tensorflow_core\\python\\keras\\engine\\training_v2_utils.py\", line 98, in execution_function\n",
      "    distributed_function(input_fn))\n",
      "  File \"C:\\Users\\panka\\anaconda3\\lib\\site-packages\\tensorflow_core\\python\\eager\\def_function.py\", line 568, in __call__\n",
      "    result = self._call(*args, **kwds)\n",
      "  File \"C:\\Users\\panka\\anaconda3\\lib\\site-packages\\tensorflow_core\\python\\eager\\def_function.py\", line 599, in _call\n",
      "    return self._stateless_fn(*args, **kwds)  # pylint: disable=not-callable\n",
      "  File \"C:\\Users\\panka\\anaconda3\\lib\\site-packages\\tensorflow_core\\python\\eager\\function.py\", line 2363, in __call__\n",
      "    return graph_function._filtered_call(args, kwargs)  # pylint: disable=protected-access\n",
      "  File \"C:\\Users\\panka\\anaconda3\\lib\\site-packages\\tensorflow_core\\python\\eager\\function.py\", line 1611, in _filtered_call\n",
      "    self.captured_inputs)\n",
      "  File \"C:\\Users\\panka\\anaconda3\\lib\\site-packages\\tensorflow_core\\python\\eager\\function.py\", line 1692, in _call_flat\n",
      "    ctx, args, cancellation_manager=cancellation_manager))\n",
      "  File \"C:\\Users\\panka\\anaconda3\\lib\\site-packages\\tensorflow_core\\python\\eager\\function.py\", line 545, in call\n",
      "    ctx=ctx)\n",
      "  File \"C:\\Users\\panka\\anaconda3\\lib\\site-packages\\tensorflow_core\\python\\eager\\execute.py\", line 67, in quick_execute\n",
      "    six.raise_from(core._status_to_exception(e.code, message), None)\n",
      "  File \"<string>\", line 3, in raise_from\n",
      "tensorflow.python.framework.errors_impl.InvalidArgumentError: 2 root error(s) found.\n",
      "  (0) Invalid argument:  assertion failed: [predictions must be >= 0] [Condition x >= y did not hold element-wise:] [x (sequential/dense_6/Sigmoid:0) = ] [[nan][nan][nan]...] [y (metrics/auc/Cast_2/x:0) = ] [0]\n",
      "\t [[{{node metrics/auc/assert_greater_equal/Assert/AssertGuard/else/_24/Assert}}]]\n",
      "\t [[metrics/auc/assert_less_equal/Assert/AssertGuard/pivot_f/_36/_71]]\n",
      "  (1) Invalid argument:  assertion failed: [predictions must be >= 0] [Condition x >= y did not hold element-wise:] [x (sequential/dense_6/Sigmoid:0) = ] [[nan][nan][nan]...] [y (metrics/auc/Cast_2/x:0) = ] [0]\n",
      "\t [[{{node metrics/auc/assert_greater_equal/Assert/AssertGuard/else/_24/Assert}}]]\n",
      "0 successful operations.\n",
      "0 derived errors ignored. [Op:__inference_distributed_function_1619]\n",
      "\n",
      "Function call stack:\n",
      "distributed_function -> distributed_function\n",
      "\u001b[0m\n"
     ]
    },
    {
     "ename": "InvalidArgumentError",
     "evalue": "2 root error(s) found.\n  (0) Invalid argument:  assertion failed: [predictions must be >= 0] [Condition x >= y did not hold element-wise:] [x (sequential/dense_6/Sigmoid:0) = ] [[nan][nan][nan]...] [y (metrics/auc/Cast_2/x:0) = ] [0]\n\t [[{{node metrics/auc/assert_greater_equal/Assert/AssertGuard/else/_24/Assert}}]]\n\t [[metrics/auc/assert_less_equal/Assert/AssertGuard/pivot_f/_36/_71]]\n  (1) Invalid argument:  assertion failed: [predictions must be >= 0] [Condition x >= y did not hold element-wise:] [x (sequential/dense_6/Sigmoid:0) = ] [[nan][nan][nan]...] [y (metrics/auc/Cast_2/x:0) = ] [0]\n\t [[{{node metrics/auc/assert_greater_equal/Assert/AssertGuard/else/_24/Assert}}]]\n0 successful operations.\n0 derived errors ignored. [Op:__inference_distributed_function_1619]\n\nFunction call stack:\ndistributed_function -> distributed_function\n",
     "output_type": "error",
     "traceback": [
      "\u001b[1;31m---------------------------------------------------------------------------\u001b[0m",
      "\u001b[1;31mInvalidArgumentError\u001b[0m                      Traceback (most recent call last)",
      "\u001b[1;32m<ipython-input-21-a065537c347b>\u001b[0m in \u001b[0;36m<module>\u001b[1;34m\u001b[0m\n\u001b[0;32m      1\u001b[0m \u001b[1;31m# Extracting the best model parameters and best study score\u001b[0m\u001b[1;33m\u001b[0m\u001b[1;33m\u001b[0m\u001b[1;33m\u001b[0m\u001b[0m\n\u001b[0;32m      2\u001b[0m best_study_score,best_study_params = study_best_score_params(X_train_1, y_train_1, X_val, y_val, objective_wrappper_keras_eq_Nesterov, cl_weight,\n\u001b[1;32m----> 3\u001b[1;33m                                                             n_trials=10)\n\u001b[0m",
      "\u001b[1;32m<ipython-input-20-8a5588e0fa3e>\u001b[0m in \u001b[0;36mstudy_best_score_params\u001b[1;34m(X_tr, y_tr, X_v, y_v, obj_func, cl_w, n_trials)\u001b[0m\n\u001b[0;32m      6\u001b[0m \u001b[1;33m\u001b[0m\u001b[0m\n\u001b[0;32m      7\u001b[0m     \u001b[0mstudy\u001b[0m \u001b[1;33m=\u001b[0m \u001b[0moptuna\u001b[0m\u001b[1;33m.\u001b[0m\u001b[0mcreate_study\u001b[0m\u001b[1;33m(\u001b[0m\u001b[0mdirection\u001b[0m\u001b[1;33m=\u001b[0m\u001b[1;34m'maximize'\u001b[0m\u001b[1;33m)\u001b[0m\u001b[1;33m\u001b[0m\u001b[1;33m\u001b[0m\u001b[0m\n\u001b[1;32m----> 8\u001b[1;33m     \u001b[0mstudy\u001b[0m\u001b[1;33m.\u001b[0m\u001b[0moptimize\u001b[0m\u001b[1;33m(\u001b[0m\u001b[0mobj_func\u001b[0m\u001b[1;33m(\u001b[0m\u001b[0mX_tr\u001b[0m\u001b[1;33m,\u001b[0m \u001b[0my_tr\u001b[0m\u001b[1;33m,\u001b[0m \u001b[0mX_v\u001b[0m\u001b[1;33m,\u001b[0m \u001b[0my_v\u001b[0m\u001b[1;33m,\u001b[0m \u001b[0mcl_w\u001b[0m\u001b[1;33m)\u001b[0m\u001b[1;33m,\u001b[0m\u001b[0mn_trials\u001b[0m\u001b[1;33m)\u001b[0m\u001b[1;33m\u001b[0m\u001b[1;33m\u001b[0m\u001b[0m\n\u001b[0m\u001b[0;32m      9\u001b[0m     \u001b[0mbest_score\u001b[0m \u001b[1;33m=\u001b[0m \u001b[0mstudy\u001b[0m\u001b[1;33m.\u001b[0m\u001b[0mbest_value\u001b[0m\u001b[1;33m\u001b[0m\u001b[1;33m\u001b[0m\u001b[0m\n\u001b[0;32m     10\u001b[0m     \u001b[0mbest_params\u001b[0m \u001b[1;33m=\u001b[0m \u001b[0mstudy\u001b[0m\u001b[1;33m.\u001b[0m\u001b[0mbest_params\u001b[0m\u001b[1;33m\u001b[0m\u001b[1;33m\u001b[0m\u001b[0m\n",
      "\u001b[1;32m~\\anaconda3\\lib\\site-packages\\optuna\\study.py\u001b[0m in \u001b[0;36moptimize\u001b[1;34m(self, func, n_trials, timeout, n_jobs, catch, callbacks, gc_after_trial, show_progress_bar)\u001b[0m\n\u001b[0;32m    326\u001b[0m             \u001b[1;32mif\u001b[0m \u001b[0mn_jobs\u001b[0m \u001b[1;33m==\u001b[0m \u001b[1;36m1\u001b[0m\u001b[1;33m:\u001b[0m\u001b[1;33m\u001b[0m\u001b[1;33m\u001b[0m\u001b[0m\n\u001b[0;32m    327\u001b[0m                 self._optimize_sequential(\n\u001b[1;32m--> 328\u001b[1;33m                     \u001b[0mfunc\u001b[0m\u001b[1;33m,\u001b[0m \u001b[0mn_trials\u001b[0m\u001b[1;33m,\u001b[0m \u001b[0mtimeout\u001b[0m\u001b[1;33m,\u001b[0m \u001b[0mcatch\u001b[0m\u001b[1;33m,\u001b[0m \u001b[0mcallbacks\u001b[0m\u001b[1;33m,\u001b[0m \u001b[0mgc_after_trial\u001b[0m\u001b[1;33m,\u001b[0m \u001b[1;32mNone\u001b[0m\u001b[1;33m\u001b[0m\u001b[1;33m\u001b[0m\u001b[0m\n\u001b[0m\u001b[0;32m    329\u001b[0m                 )\n\u001b[0;32m    330\u001b[0m             \u001b[1;32melse\u001b[0m\u001b[1;33m:\u001b[0m\u001b[1;33m\u001b[0m\u001b[1;33m\u001b[0m\u001b[0m\n",
      "\u001b[1;32m~\\anaconda3\\lib\\site-packages\\optuna\\study.py\u001b[0m in \u001b[0;36m_optimize_sequential\u001b[1;34m(self, func, n_trials, timeout, catch, callbacks, gc_after_trial, time_start)\u001b[0m\n\u001b[0;32m    724\u001b[0m                     \u001b[1;32mbreak\u001b[0m\u001b[1;33m\u001b[0m\u001b[1;33m\u001b[0m\u001b[0m\n\u001b[0;32m    725\u001b[0m \u001b[1;33m\u001b[0m\u001b[0m\n\u001b[1;32m--> 726\u001b[1;33m             \u001b[0mself\u001b[0m\u001b[1;33m.\u001b[0m\u001b[0m_run_trial_and_callbacks\u001b[0m\u001b[1;33m(\u001b[0m\u001b[0mfunc\u001b[0m\u001b[1;33m,\u001b[0m \u001b[0mcatch\u001b[0m\u001b[1;33m,\u001b[0m \u001b[0mcallbacks\u001b[0m\u001b[1;33m,\u001b[0m \u001b[0mgc_after_trial\u001b[0m\u001b[1;33m)\u001b[0m\u001b[1;33m\u001b[0m\u001b[1;33m\u001b[0m\u001b[0m\n\u001b[0m\u001b[0;32m    727\u001b[0m \u001b[1;33m\u001b[0m\u001b[0m\n\u001b[0;32m    728\u001b[0m             \u001b[0mself\u001b[0m\u001b[1;33m.\u001b[0m\u001b[0m_progress_bar\u001b[0m\u001b[1;33m.\u001b[0m\u001b[0mupdate\u001b[0m\u001b[1;33m(\u001b[0m\u001b[1;33m(\u001b[0m\u001b[0mdatetime\u001b[0m\u001b[1;33m.\u001b[0m\u001b[0mdatetime\u001b[0m\u001b[1;33m.\u001b[0m\u001b[0mnow\u001b[0m\u001b[1;33m(\u001b[0m\u001b[1;33m)\u001b[0m \u001b[1;33m-\u001b[0m \u001b[0mtime_start\u001b[0m\u001b[1;33m)\u001b[0m\u001b[1;33m.\u001b[0m\u001b[0mtotal_seconds\u001b[0m\u001b[1;33m(\u001b[0m\u001b[1;33m)\u001b[0m\u001b[1;33m)\u001b[0m\u001b[1;33m\u001b[0m\u001b[1;33m\u001b[0m\u001b[0m\n",
      "\u001b[1;32m~\\anaconda3\\lib\\site-packages\\optuna\\study.py\u001b[0m in \u001b[0;36m_run_trial_and_callbacks\u001b[1;34m(self, func, catch, callbacks, gc_after_trial)\u001b[0m\n\u001b[0;32m    753\u001b[0m     ) -> None:\n\u001b[0;32m    754\u001b[0m \u001b[1;33m\u001b[0m\u001b[0m\n\u001b[1;32m--> 755\u001b[1;33m         \u001b[0mtrial\u001b[0m \u001b[1;33m=\u001b[0m \u001b[0mself\u001b[0m\u001b[1;33m.\u001b[0m\u001b[0m_run_trial\u001b[0m\u001b[1;33m(\u001b[0m\u001b[0mfunc\u001b[0m\u001b[1;33m,\u001b[0m \u001b[0mcatch\u001b[0m\u001b[1;33m,\u001b[0m \u001b[0mgc_after_trial\u001b[0m\u001b[1;33m)\u001b[0m\u001b[1;33m\u001b[0m\u001b[1;33m\u001b[0m\u001b[0m\n\u001b[0m\u001b[0;32m    756\u001b[0m         \u001b[1;32mif\u001b[0m \u001b[0mcallbacks\u001b[0m \u001b[1;32mis\u001b[0m \u001b[1;32mnot\u001b[0m \u001b[1;32mNone\u001b[0m\u001b[1;33m:\u001b[0m\u001b[1;33m\u001b[0m\u001b[1;33m\u001b[0m\u001b[0m\n\u001b[0;32m    757\u001b[0m             \u001b[0mfrozen_trial\u001b[0m \u001b[1;33m=\u001b[0m \u001b[0mcopy\u001b[0m\u001b[1;33m.\u001b[0m\u001b[0mdeepcopy\u001b[0m\u001b[1;33m(\u001b[0m\u001b[0mself\u001b[0m\u001b[1;33m.\u001b[0m\u001b[0m_storage\u001b[0m\u001b[1;33m.\u001b[0m\u001b[0mget_trial\u001b[0m\u001b[1;33m(\u001b[0m\u001b[0mtrial\u001b[0m\u001b[1;33m.\u001b[0m\u001b[0m_trial_id\u001b[0m\u001b[1;33m)\u001b[0m\u001b[1;33m)\u001b[0m\u001b[1;33m\u001b[0m\u001b[1;33m\u001b[0m\u001b[0m\n",
      "\u001b[1;32m~\\anaconda3\\lib\\site-packages\\optuna\\study.py\u001b[0m in \u001b[0;36m_run_trial\u001b[1;34m(self, func, catch, gc_after_trial)\u001b[0m\n\u001b[0;32m    776\u001b[0m \u001b[1;33m\u001b[0m\u001b[0m\n\u001b[0;32m    777\u001b[0m         \u001b[1;32mtry\u001b[0m\u001b[1;33m:\u001b[0m\u001b[1;33m\u001b[0m\u001b[1;33m\u001b[0m\u001b[0m\n\u001b[1;32m--> 778\u001b[1;33m             \u001b[0mresult\u001b[0m \u001b[1;33m=\u001b[0m \u001b[0mfunc\u001b[0m\u001b[1;33m(\u001b[0m\u001b[0mtrial\u001b[0m\u001b[1;33m)\u001b[0m\u001b[1;33m\u001b[0m\u001b[1;33m\u001b[0m\u001b[0m\n\u001b[0m\u001b[0;32m    779\u001b[0m         \u001b[1;32mexcept\u001b[0m \u001b[0mexceptions\u001b[0m\u001b[1;33m.\u001b[0m\u001b[0mTrialPruned\u001b[0m \u001b[1;32mas\u001b[0m \u001b[0me\u001b[0m\u001b[1;33m:\u001b[0m\u001b[1;33m\u001b[0m\u001b[1;33m\u001b[0m\u001b[0m\n\u001b[0;32m    780\u001b[0m             \u001b[0mmessage\u001b[0m \u001b[1;33m=\u001b[0m \u001b[1;34m\"Trial {} pruned. {}\"\u001b[0m\u001b[1;33m.\u001b[0m\u001b[0mformat\u001b[0m\u001b[1;33m(\u001b[0m\u001b[0mtrial_number\u001b[0m\u001b[1;33m,\u001b[0m \u001b[0mstr\u001b[0m\u001b[1;33m(\u001b[0m\u001b[0me\u001b[0m\u001b[1;33m)\u001b[0m\u001b[1;33m)\u001b[0m\u001b[1;33m\u001b[0m\u001b[1;33m\u001b[0m\u001b[0m\n",
      "\u001b[1;32m<ipython-input-19-fcb6aa84e5fb>\u001b[0m in \u001b[0;36mobjective\u001b[1;34m(trial)\u001b[0m\n\u001b[0;32m     39\u001b[0m         model.fit(X_tr, y_tr, epochs=50, validation_data=(X_val,y_val), batch_size=32,\n\u001b[0;32m     40\u001b[0m              \u001b[0mclass_weight\u001b[0m\u001b[1;33m=\u001b[0m\u001b[0mtrial\u001b[0m\u001b[1;33m.\u001b[0m\u001b[0msuggest_categorical\u001b[0m\u001b[1;33m(\u001b[0m\u001b[1;34m'best_weight'\u001b[0m\u001b[1;33m,\u001b[0m\u001b[0mcl_w\u001b[0m\u001b[1;33m)\u001b[0m\u001b[1;33m,\u001b[0m\u001b[1;33m\u001b[0m\u001b[1;33m\u001b[0m\u001b[0m\n\u001b[1;32m---> 41\u001b[1;33m              callbacks=[checkpoint_cb, early_stopping_cb, lr_scheduler_cb])#,tensorboard_cb])\n\u001b[0m\u001b[0;32m     42\u001b[0m \u001b[1;33m\u001b[0m\u001b[0m\n\u001b[0;32m     43\u001b[0m         \u001b[1;31m# Loading the best model\u001b[0m\u001b[1;33m\u001b[0m\u001b[1;33m\u001b[0m\u001b[1;33m\u001b[0m\u001b[0m\n",
      "\u001b[1;32m~\\anaconda3\\lib\\site-packages\\tensorflow_core\\python\\keras\\engine\\training.py\u001b[0m in \u001b[0;36mfit\u001b[1;34m(self, x, y, batch_size, epochs, verbose, callbacks, validation_split, validation_data, shuffle, class_weight, sample_weight, initial_epoch, steps_per_epoch, validation_steps, validation_freq, max_queue_size, workers, use_multiprocessing, **kwargs)\u001b[0m\n\u001b[0;32m    817\u001b[0m         \u001b[0mmax_queue_size\u001b[0m\u001b[1;33m=\u001b[0m\u001b[0mmax_queue_size\u001b[0m\u001b[1;33m,\u001b[0m\u001b[1;33m\u001b[0m\u001b[1;33m\u001b[0m\u001b[0m\n\u001b[0;32m    818\u001b[0m         \u001b[0mworkers\u001b[0m\u001b[1;33m=\u001b[0m\u001b[0mworkers\u001b[0m\u001b[1;33m,\u001b[0m\u001b[1;33m\u001b[0m\u001b[1;33m\u001b[0m\u001b[0m\n\u001b[1;32m--> 819\u001b[1;33m         use_multiprocessing=use_multiprocessing)\n\u001b[0m\u001b[0;32m    820\u001b[0m \u001b[1;33m\u001b[0m\u001b[0m\n\u001b[0;32m    821\u001b[0m   def evaluate(self,\n",
      "\u001b[1;32m~\\anaconda3\\lib\\site-packages\\tensorflow_core\\python\\keras\\engine\\training_v2.py\u001b[0m in \u001b[0;36mfit\u001b[1;34m(self, model, x, y, batch_size, epochs, verbose, callbacks, validation_split, validation_data, shuffle, class_weight, sample_weight, initial_epoch, steps_per_epoch, validation_steps, validation_freq, max_queue_size, workers, use_multiprocessing, **kwargs)\u001b[0m\n\u001b[0;32m    340\u001b[0m                 \u001b[0mmode\u001b[0m\u001b[1;33m=\u001b[0m\u001b[0mModeKeys\u001b[0m\u001b[1;33m.\u001b[0m\u001b[0mTRAIN\u001b[0m\u001b[1;33m,\u001b[0m\u001b[1;33m\u001b[0m\u001b[1;33m\u001b[0m\u001b[0m\n\u001b[0;32m    341\u001b[0m                 \u001b[0mtraining_context\u001b[0m\u001b[1;33m=\u001b[0m\u001b[0mtraining_context\u001b[0m\u001b[1;33m,\u001b[0m\u001b[1;33m\u001b[0m\u001b[1;33m\u001b[0m\u001b[0m\n\u001b[1;32m--> 342\u001b[1;33m                 total_epochs=epochs)\n\u001b[0m\u001b[0;32m    343\u001b[0m             \u001b[0mcbks\u001b[0m\u001b[1;33m.\u001b[0m\u001b[0mmake_logs\u001b[0m\u001b[1;33m(\u001b[0m\u001b[0mmodel\u001b[0m\u001b[1;33m,\u001b[0m \u001b[0mepoch_logs\u001b[0m\u001b[1;33m,\u001b[0m \u001b[0mtraining_result\u001b[0m\u001b[1;33m,\u001b[0m \u001b[0mModeKeys\u001b[0m\u001b[1;33m.\u001b[0m\u001b[0mTRAIN\u001b[0m\u001b[1;33m)\u001b[0m\u001b[1;33m\u001b[0m\u001b[1;33m\u001b[0m\u001b[0m\n\u001b[0;32m    344\u001b[0m \u001b[1;33m\u001b[0m\u001b[0m\n",
      "\u001b[1;32m~\\anaconda3\\lib\\site-packages\\tensorflow_core\\python\\keras\\engine\\training_v2.py\u001b[0m in \u001b[0;36mrun_one_epoch\u001b[1;34m(model, iterator, execution_function, dataset_size, batch_size, strategy, steps_per_epoch, num_samples, mode, training_context, total_epochs)\u001b[0m\n\u001b[0;32m    126\u001b[0m         step=step, mode=mode, size=current_batch_size) as batch_logs:\n\u001b[0;32m    127\u001b[0m       \u001b[1;32mtry\u001b[0m\u001b[1;33m:\u001b[0m\u001b[1;33m\u001b[0m\u001b[1;33m\u001b[0m\u001b[0m\n\u001b[1;32m--> 128\u001b[1;33m         \u001b[0mbatch_outs\u001b[0m \u001b[1;33m=\u001b[0m \u001b[0mexecution_function\u001b[0m\u001b[1;33m(\u001b[0m\u001b[0miterator\u001b[0m\u001b[1;33m)\u001b[0m\u001b[1;33m\u001b[0m\u001b[1;33m\u001b[0m\u001b[0m\n\u001b[0m\u001b[0;32m    129\u001b[0m       \u001b[1;32mexcept\u001b[0m \u001b[1;33m(\u001b[0m\u001b[0mStopIteration\u001b[0m\u001b[1;33m,\u001b[0m \u001b[0merrors\u001b[0m\u001b[1;33m.\u001b[0m\u001b[0mOutOfRangeError\u001b[0m\u001b[1;33m)\u001b[0m\u001b[1;33m:\u001b[0m\u001b[1;33m\u001b[0m\u001b[1;33m\u001b[0m\u001b[0m\n\u001b[0;32m    130\u001b[0m         \u001b[1;31m# TODO(kaftan): File bug about tf function and errors.OutOfRangeError?\u001b[0m\u001b[1;33m\u001b[0m\u001b[1;33m\u001b[0m\u001b[1;33m\u001b[0m\u001b[0m\n",
      "\u001b[1;32m~\\anaconda3\\lib\\site-packages\\tensorflow_core\\python\\keras\\engine\\training_v2_utils.py\u001b[0m in \u001b[0;36mexecution_function\u001b[1;34m(input_fn)\u001b[0m\n\u001b[0;32m     96\u001b[0m     \u001b[1;31m# `numpy` translates Tensors to values in Eager mode.\u001b[0m\u001b[1;33m\u001b[0m\u001b[1;33m\u001b[0m\u001b[1;33m\u001b[0m\u001b[0m\n\u001b[0;32m     97\u001b[0m     return nest.map_structure(_non_none_constant_value,\n\u001b[1;32m---> 98\u001b[1;33m                               distributed_function(input_fn))\n\u001b[0m\u001b[0;32m     99\u001b[0m \u001b[1;33m\u001b[0m\u001b[0m\n\u001b[0;32m    100\u001b[0m   \u001b[1;32mreturn\u001b[0m \u001b[0mexecution_function\u001b[0m\u001b[1;33m\u001b[0m\u001b[1;33m\u001b[0m\u001b[0m\n",
      "\u001b[1;32m~\\anaconda3\\lib\\site-packages\\tensorflow_core\\python\\eager\\def_function.py\u001b[0m in \u001b[0;36m__call__\u001b[1;34m(self, *args, **kwds)\u001b[0m\n\u001b[0;32m    566\u001b[0m         \u001b[0mxla_context\u001b[0m\u001b[1;33m.\u001b[0m\u001b[0mExit\u001b[0m\u001b[1;33m(\u001b[0m\u001b[1;33m)\u001b[0m\u001b[1;33m\u001b[0m\u001b[1;33m\u001b[0m\u001b[0m\n\u001b[0;32m    567\u001b[0m     \u001b[1;32melse\u001b[0m\u001b[1;33m:\u001b[0m\u001b[1;33m\u001b[0m\u001b[1;33m\u001b[0m\u001b[0m\n\u001b[1;32m--> 568\u001b[1;33m       \u001b[0mresult\u001b[0m \u001b[1;33m=\u001b[0m \u001b[0mself\u001b[0m\u001b[1;33m.\u001b[0m\u001b[0m_call\u001b[0m\u001b[1;33m(\u001b[0m\u001b[1;33m*\u001b[0m\u001b[0margs\u001b[0m\u001b[1;33m,\u001b[0m \u001b[1;33m**\u001b[0m\u001b[0mkwds\u001b[0m\u001b[1;33m)\u001b[0m\u001b[1;33m\u001b[0m\u001b[1;33m\u001b[0m\u001b[0m\n\u001b[0m\u001b[0;32m    569\u001b[0m \u001b[1;33m\u001b[0m\u001b[0m\n\u001b[0;32m    570\u001b[0m     \u001b[1;32mif\u001b[0m \u001b[0mtracing_count\u001b[0m \u001b[1;33m==\u001b[0m \u001b[0mself\u001b[0m\u001b[1;33m.\u001b[0m\u001b[0m_get_tracing_count\u001b[0m\u001b[1;33m(\u001b[0m\u001b[1;33m)\u001b[0m\u001b[1;33m:\u001b[0m\u001b[1;33m\u001b[0m\u001b[1;33m\u001b[0m\u001b[0m\n",
      "\u001b[1;32m~\\anaconda3\\lib\\site-packages\\tensorflow_core\\python\\eager\\def_function.py\u001b[0m in \u001b[0;36m_call\u001b[1;34m(self, *args, **kwds)\u001b[0m\n\u001b[0;32m    597\u001b[0m       \u001b[1;31m# In this case we have created variables on the first call, so we run the\u001b[0m\u001b[1;33m\u001b[0m\u001b[1;33m\u001b[0m\u001b[1;33m\u001b[0m\u001b[0m\n\u001b[0;32m    598\u001b[0m       \u001b[1;31m# defunned version which is guaranteed to never create variables.\u001b[0m\u001b[1;33m\u001b[0m\u001b[1;33m\u001b[0m\u001b[1;33m\u001b[0m\u001b[0m\n\u001b[1;32m--> 599\u001b[1;33m       \u001b[1;32mreturn\u001b[0m \u001b[0mself\u001b[0m\u001b[1;33m.\u001b[0m\u001b[0m_stateless_fn\u001b[0m\u001b[1;33m(\u001b[0m\u001b[1;33m*\u001b[0m\u001b[0margs\u001b[0m\u001b[1;33m,\u001b[0m \u001b[1;33m**\u001b[0m\u001b[0mkwds\u001b[0m\u001b[1;33m)\u001b[0m  \u001b[1;31m# pylint: disable=not-callable\u001b[0m\u001b[1;33m\u001b[0m\u001b[1;33m\u001b[0m\u001b[0m\n\u001b[0m\u001b[0;32m    600\u001b[0m     \u001b[1;32melif\u001b[0m \u001b[0mself\u001b[0m\u001b[1;33m.\u001b[0m\u001b[0m_stateful_fn\u001b[0m \u001b[1;32mis\u001b[0m \u001b[1;32mnot\u001b[0m \u001b[1;32mNone\u001b[0m\u001b[1;33m:\u001b[0m\u001b[1;33m\u001b[0m\u001b[1;33m\u001b[0m\u001b[0m\n\u001b[0;32m    601\u001b[0m       \u001b[1;31m# Release the lock early so that multiple threads can perform the call\u001b[0m\u001b[1;33m\u001b[0m\u001b[1;33m\u001b[0m\u001b[1;33m\u001b[0m\u001b[0m\n",
      "\u001b[1;32m~\\anaconda3\\lib\\site-packages\\tensorflow_core\\python\\eager\\function.py\u001b[0m in \u001b[0;36m__call__\u001b[1;34m(self, *args, **kwargs)\u001b[0m\n\u001b[0;32m   2361\u001b[0m     \u001b[1;32mwith\u001b[0m \u001b[0mself\u001b[0m\u001b[1;33m.\u001b[0m\u001b[0m_lock\u001b[0m\u001b[1;33m:\u001b[0m\u001b[1;33m\u001b[0m\u001b[1;33m\u001b[0m\u001b[0m\n\u001b[0;32m   2362\u001b[0m       \u001b[0mgraph_function\u001b[0m\u001b[1;33m,\u001b[0m \u001b[0margs\u001b[0m\u001b[1;33m,\u001b[0m \u001b[0mkwargs\u001b[0m \u001b[1;33m=\u001b[0m \u001b[0mself\u001b[0m\u001b[1;33m.\u001b[0m\u001b[0m_maybe_define_function\u001b[0m\u001b[1;33m(\u001b[0m\u001b[0margs\u001b[0m\u001b[1;33m,\u001b[0m \u001b[0mkwargs\u001b[0m\u001b[1;33m)\u001b[0m\u001b[1;33m\u001b[0m\u001b[1;33m\u001b[0m\u001b[0m\n\u001b[1;32m-> 2363\u001b[1;33m     \u001b[1;32mreturn\u001b[0m \u001b[0mgraph_function\u001b[0m\u001b[1;33m.\u001b[0m\u001b[0m_filtered_call\u001b[0m\u001b[1;33m(\u001b[0m\u001b[0margs\u001b[0m\u001b[1;33m,\u001b[0m \u001b[0mkwargs\u001b[0m\u001b[1;33m)\u001b[0m  \u001b[1;31m# pylint: disable=protected-access\u001b[0m\u001b[1;33m\u001b[0m\u001b[1;33m\u001b[0m\u001b[0m\n\u001b[0m\u001b[0;32m   2364\u001b[0m \u001b[1;33m\u001b[0m\u001b[0m\n\u001b[0;32m   2365\u001b[0m   \u001b[1;33m@\u001b[0m\u001b[0mproperty\u001b[0m\u001b[1;33m\u001b[0m\u001b[1;33m\u001b[0m\u001b[0m\n",
      "\u001b[1;32m~\\anaconda3\\lib\\site-packages\\tensorflow_core\\python\\eager\\function.py\u001b[0m in \u001b[0;36m_filtered_call\u001b[1;34m(self, args, kwargs)\u001b[0m\n\u001b[0;32m   1609\u001b[0m          if isinstance(t, (ops.Tensor,\n\u001b[0;32m   1610\u001b[0m                            resource_variable_ops.BaseResourceVariable))),\n\u001b[1;32m-> 1611\u001b[1;33m         self.captured_inputs)\n\u001b[0m\u001b[0;32m   1612\u001b[0m \u001b[1;33m\u001b[0m\u001b[0m\n\u001b[0;32m   1613\u001b[0m   \u001b[1;32mdef\u001b[0m \u001b[0m_call_flat\u001b[0m\u001b[1;33m(\u001b[0m\u001b[0mself\u001b[0m\u001b[1;33m,\u001b[0m \u001b[0margs\u001b[0m\u001b[1;33m,\u001b[0m \u001b[0mcaptured_inputs\u001b[0m\u001b[1;33m,\u001b[0m \u001b[0mcancellation_manager\u001b[0m\u001b[1;33m=\u001b[0m\u001b[1;32mNone\u001b[0m\u001b[1;33m)\u001b[0m\u001b[1;33m:\u001b[0m\u001b[1;33m\u001b[0m\u001b[1;33m\u001b[0m\u001b[0m\n",
      "\u001b[1;32m~\\anaconda3\\lib\\site-packages\\tensorflow_core\\python\\eager\\function.py\u001b[0m in \u001b[0;36m_call_flat\u001b[1;34m(self, args, captured_inputs, cancellation_manager)\u001b[0m\n\u001b[0;32m   1690\u001b[0m       \u001b[1;31m# No tape is watching; skip to running the function.\u001b[0m\u001b[1;33m\u001b[0m\u001b[1;33m\u001b[0m\u001b[1;33m\u001b[0m\u001b[0m\n\u001b[0;32m   1691\u001b[0m       return self._build_call_outputs(self._inference_function.call(\n\u001b[1;32m-> 1692\u001b[1;33m           ctx, args, cancellation_manager=cancellation_manager))\n\u001b[0m\u001b[0;32m   1693\u001b[0m     forward_backward = self._select_forward_and_backward_functions(\n\u001b[0;32m   1694\u001b[0m         \u001b[0margs\u001b[0m\u001b[1;33m,\u001b[0m\u001b[1;33m\u001b[0m\u001b[1;33m\u001b[0m\u001b[0m\n",
      "\u001b[1;32m~\\anaconda3\\lib\\site-packages\\tensorflow_core\\python\\eager\\function.py\u001b[0m in \u001b[0;36mcall\u001b[1;34m(self, ctx, args, cancellation_manager)\u001b[0m\n\u001b[0;32m    543\u001b[0m               \u001b[0minputs\u001b[0m\u001b[1;33m=\u001b[0m\u001b[0margs\u001b[0m\u001b[1;33m,\u001b[0m\u001b[1;33m\u001b[0m\u001b[1;33m\u001b[0m\u001b[0m\n\u001b[0;32m    544\u001b[0m               \u001b[0mattrs\u001b[0m\u001b[1;33m=\u001b[0m\u001b[1;33m(\u001b[0m\u001b[1;34m\"executor_type\"\u001b[0m\u001b[1;33m,\u001b[0m \u001b[0mexecutor_type\u001b[0m\u001b[1;33m,\u001b[0m \u001b[1;34m\"config_proto\"\u001b[0m\u001b[1;33m,\u001b[0m \u001b[0mconfig\u001b[0m\u001b[1;33m)\u001b[0m\u001b[1;33m,\u001b[0m\u001b[1;33m\u001b[0m\u001b[1;33m\u001b[0m\u001b[0m\n\u001b[1;32m--> 545\u001b[1;33m               ctx=ctx)\n\u001b[0m\u001b[0;32m    546\u001b[0m         \u001b[1;32melse\u001b[0m\u001b[1;33m:\u001b[0m\u001b[1;33m\u001b[0m\u001b[1;33m\u001b[0m\u001b[0m\n\u001b[0;32m    547\u001b[0m           outputs = execute.execute_with_cancellation(\n",
      "\u001b[1;32m~\\anaconda3\\lib\\site-packages\\tensorflow_core\\python\\eager\\execute.py\u001b[0m in \u001b[0;36mquick_execute\u001b[1;34m(op_name, num_outputs, inputs, attrs, ctx, name)\u001b[0m\n\u001b[0;32m     65\u001b[0m     \u001b[1;32melse\u001b[0m\u001b[1;33m:\u001b[0m\u001b[1;33m\u001b[0m\u001b[1;33m\u001b[0m\u001b[0m\n\u001b[0;32m     66\u001b[0m       \u001b[0mmessage\u001b[0m \u001b[1;33m=\u001b[0m \u001b[0me\u001b[0m\u001b[1;33m.\u001b[0m\u001b[0mmessage\u001b[0m\u001b[1;33m\u001b[0m\u001b[1;33m\u001b[0m\u001b[0m\n\u001b[1;32m---> 67\u001b[1;33m     \u001b[0msix\u001b[0m\u001b[1;33m.\u001b[0m\u001b[0mraise_from\u001b[0m\u001b[1;33m(\u001b[0m\u001b[0mcore\u001b[0m\u001b[1;33m.\u001b[0m\u001b[0m_status_to_exception\u001b[0m\u001b[1;33m(\u001b[0m\u001b[0me\u001b[0m\u001b[1;33m.\u001b[0m\u001b[0mcode\u001b[0m\u001b[1;33m,\u001b[0m \u001b[0mmessage\u001b[0m\u001b[1;33m)\u001b[0m\u001b[1;33m,\u001b[0m \u001b[1;32mNone\u001b[0m\u001b[1;33m)\u001b[0m\u001b[1;33m\u001b[0m\u001b[1;33m\u001b[0m\u001b[0m\n\u001b[0m\u001b[0;32m     68\u001b[0m   \u001b[1;32mexcept\u001b[0m \u001b[0mTypeError\u001b[0m \u001b[1;32mas\u001b[0m \u001b[0me\u001b[0m\u001b[1;33m:\u001b[0m\u001b[1;33m\u001b[0m\u001b[1;33m\u001b[0m\u001b[0m\n\u001b[0;32m     69\u001b[0m     keras_symbolic_tensors = [\n",
      "\u001b[1;32m~\\anaconda3\\lib\\site-packages\\six.py\u001b[0m in \u001b[0;36mraise_from\u001b[1;34m(value, from_value)\u001b[0m\n",
      "\u001b[1;31mInvalidArgumentError\u001b[0m: 2 root error(s) found.\n  (0) Invalid argument:  assertion failed: [predictions must be >= 0] [Condition x >= y did not hold element-wise:] [x (sequential/dense_6/Sigmoid:0) = ] [[nan][nan][nan]...] [y (metrics/auc/Cast_2/x:0) = ] [0]\n\t [[{{node metrics/auc/assert_greater_equal/Assert/AssertGuard/else/_24/Assert}}]]\n\t [[metrics/auc/assert_less_equal/Assert/AssertGuard/pivot_f/_36/_71]]\n  (1) Invalid argument:  assertion failed: [predictions must be >= 0] [Condition x >= y did not hold element-wise:] [x (sequential/dense_6/Sigmoid:0) = ] [[nan][nan][nan]...] [y (metrics/auc/Cast_2/x:0) = ] [0]\n\t [[{{node metrics/auc/assert_greater_equal/Assert/AssertGuard/else/_24/Assert}}]]\n0 successful operations.\n0 derived errors ignored. [Op:__inference_distributed_function_1619]\n\nFunction call stack:\ndistributed_function -> distributed_function\n"
     ]
    }
   ],
   "source": [
    "# Extracting the best model parameters and best study score\n",
    "best_study_score,best_study_params = study_best_score_params(X_train_1, y_train_1, X_val, y_val, objective_wrappper_keras_eq_Nesterov, cl_weight,\n",
    "                                                            n_trials=10)"
   ]
  },
  {
   "cell_type": "markdown",
   "metadata": {},
   "source": [
    "## Observation(s):\n",
    "### 1) The above case of using SELU activation and a Non-Adaptive optimizer Nestorov, resulted in error during the very first trial, substantiating the foregone conclusion that SELU activation is indeed , not the right activation function for this dataset."
   ]
  },
  {
   "cell_type": "code",
   "execution_count": null,
   "metadata": {},
   "outputs": [],
   "source": []
  }
 ],
 "metadata": {
  "kernelspec": {
   "display_name": "Python 3",
   "language": "python",
   "name": "python3"
  },
  "language_info": {
   "codemirror_mode": {
    "name": "ipython",
    "version": 3
   },
   "file_extension": ".py",
   "mimetype": "text/x-python",
   "name": "python",
   "nbconvert_exporter": "python",
   "pygments_lexer": "ipython3",
   "version": "3.8.5"
  }
 },
 "nbformat": 4,
 "nbformat_minor": 4
}
