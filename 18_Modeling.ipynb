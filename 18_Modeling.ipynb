{
 "cells": [
  {
   "cell_type": "code",
   "execution_count": 1,
   "metadata": {},
   "outputs": [],
   "source": [
    "# Importing Required packages\n",
    "import pandas as pd\n",
    "import numpy as np\n",
    "import matplotlib.pyplot as plt\n",
    "import seaborn as sns\n",
    "import warnings\n",
    "warnings.filterwarnings(\"ignore\")\n",
    "pd.set_option('display.max_columns', None)# To see all the columns of a dataframe\n",
    "#pd.set_option('display.max_rows', None)"
   ]
  },
  {
   "cell_type": "code",
   "execution_count": 2,
   "metadata": {},
   "outputs": [],
   "source": [
    "# Function to reduce the memory usage of various Dataframes\n",
    "def reduce_mem_usage(df):\n",
    "    \"\"\" iterate through all the columns of a dataframe and modify the data type\n",
    "        to reduce memory usage.        \n",
    "       \n",
    "        1. Iterate over every column\n",
    "        2. Determine if the column is numeric\n",
    "        3. Determine if the column can be represented by an integer\n",
    "        4. Find the min and the max value\n",
    "        5. Determine and apply the smallest datatype that can fit the range of values\n",
    "\n",
    "    \"\"\"\n",
    "    start_mem = df.memory_usage().sum() / 1024**2\n",
    "    print('Memory usage of dataframe is {:.2f} MB'.format(start_mem))\n",
    "    \n",
    "    for col in df.columns:\n",
    "        col_type = df[col].dtype\n",
    "        \n",
    "        if col_type != object:\n",
    "            c_min = df[col].min()\n",
    "            c_max = df[col].max()\n",
    "            if str(col_type)[:3] == 'int':\n",
    "                if c_min > np.iinfo(np.int8).min and c_max < np.iinfo(np.int8).max:\n",
    "                    df[col] = df[col].astype(np.int8)\n",
    "                elif c_min > np.iinfo(np.int16).min and c_max < np.iinfo(np.int16).max:\n",
    "                    df[col] = df[col].astype(np.int16)\n",
    "                elif c_min > np.iinfo(np.int32).min and c_max < np.iinfo(np.int32).max:\n",
    "                    df[col] = df[col].astype(np.int32)\n",
    "                elif c_min > np.iinfo(np.int64).min and c_max < np.iinfo(np.int64).max:\n",
    "                    df[col] = df[col].astype(np.int64)  \n",
    "            else:\n",
    "                if c_min > np.finfo(np.float16).min and c_max < np.finfo(np.float16).max:\n",
    "                    df[col] = df[col].astype(np.float16)\n",
    "                elif c_min > np.finfo(np.float32).min and c_max < np.finfo(np.float32).max:\n",
    "                    df[col] = df[col].astype(np.float32)\n",
    "                else:\n",
    "                    df[col] = df[col].astype(np.float64)\n",
    "        else:\n",
    "            df[col] = df[col].astype('category')\n",
    "\n",
    "    end_mem = df.memory_usage().sum() / 1024**2\n",
    "    print('Memory usage after optimization is: {:.2f} MB'.format(end_mem))\n",
    "    print('Decreased by {:.1f}%'.format(100 * (start_mem - end_mem) / start_mem))\n",
    "    \n",
    "    return df\n"
   ]
  },
  {
   "cell_type": "code",
   "execution_count": 3,
   "metadata": {},
   "outputs": [],
   "source": [
    "def import_data(file):\n",
    "    \"\"\"create a dataframe and optimize its memory usage\"\"\"\n",
    "    df = pd.read_csv(file, parse_dates=True, keep_date_col=True)\n",
    "    df = reduce_mem_usage(df)\n",
    "    return df"
   ]
  },
  {
   "cell_type": "code",
   "execution_count": 4,
   "metadata": {},
   "outputs": [
    {
     "name": "stdout",
     "output_type": "stream",
     "text": [
      "Memory usage of dataframe is 181.24 MB\n",
      "Memory usage after optimization is: 38.27 MB\n",
      "Decreased by 78.9%\n"
     ]
    }
   ],
   "source": [
    "# Loading reduced feature training set\n",
    "X_train = import_data('X_train_final.csv')\n",
    "y_train = pd.read_csv('y_train.final.csv')"
   ]
  },
  {
   "cell_type": "code",
   "execution_count": 5,
   "metadata": {},
   "outputs": [
    {
     "name": "stdout",
     "output_type": "stream",
     "text": [
      "Memory usage of dataframe is 60.41 MB\n",
      "Memory usage after optimization is: 12.76 MB\n",
      "Decreased by 78.9%\n"
     ]
    }
   ],
   "source": [
    "# Loading reduced feature test set\n",
    "X_test = import_data('X_test_final.csv')\n",
    "y_test = pd.read_csv('y_test.final.csv')"
   ]
  },
  {
   "cell_type": "markdown",
   "metadata": {},
   "source": [
    " ## Model_6: Random Forest Classifier with Tuned Hyperparameters using RandomSearch CV."
   ]
  },
  {
   "cell_type": "code",
   "execution_count": 6,
   "metadata": {},
   "outputs": [],
   "source": [
    "# Importing the Sklearn's roc_auc_score module\n",
    "from sklearn.metrics import roc_auc_score"
   ]
  },
  {
   "cell_type": "code",
   "execution_count": 7,
   "metadata": {},
   "outputs": [],
   "source": [
    "# Importing required Libraries\n",
    "from sklearn.model_selection import StratifiedKFold\n",
    "from sklearn.model_selection import cross_val_score"
   ]
  },
  {
   "cell_type": "code",
   "execution_count": 8,
   "metadata": {},
   "outputs": [],
   "source": [
    "# Instantiating the Stratified K fold object\n",
    "cv_strat = StratifiedKFold(5,random_state=42)"
   ]
  },
  {
   "cell_type": "code",
   "execution_count": 9,
   "metadata": {},
   "outputs": [],
   "source": [
    "# Importing Random Forest Classifier from  Sklearn\n",
    "from sklearn.ensemble import RandomForestClassifier"
   ]
  },
  {
   "cell_type": "code",
   "execution_count": 10,
   "metadata": {},
   "outputs": [],
   "source": [
    "# Instantiating the Random forest classifier\n",
    "rf_s = RandomForestClassifier(n_jobs=5, random_state=42)"
   ]
  },
  {
   "cell_type": "code",
   "execution_count": 11,
   "metadata": {},
   "outputs": [],
   "source": [
    "# Importing Randomized search CV object\n",
    "from sklearn.model_selection import RandomizedSearchCV"
   ]
  },
  {
   "cell_type": "code",
   "execution_count": 13,
   "metadata": {},
   "outputs": [],
   "source": [
    "# defining Class weights\n",
    "cl_weight = [None,'balanced',{0:1.0,1:12},{0:1.0,1:13},{0:1.0,1:14},{0:1.0,1:15},{0:1.0,1:16},\n",
    "            {0:1.0,1:17}]"
   ]
  },
  {
   "cell_type": "code",
   "execution_count": 14,
   "metadata": {},
   "outputs": [],
   "source": [
    "# Defining hyper-parameter space for the Random forest classifier \n",
    "params = {'max_depth':list(range(2,60)) + [None],'n_estimators':np.arange(100,1500,10),\n",
    "         'class_weight':cl_weight,'min_samples_leaf':[.00001,.0001,.001,.01,.05,.1]}\n"
   ]
  },
  {
   "cell_type": "code",
   "execution_count": 15,
   "metadata": {},
   "outputs": [],
   "source": [
    "# Defining Randomized Search CV object\n",
    "rand_cv = RandomizedSearchCV(rf_s, param_distributions=params, scoring='roc_auc', n_jobs=5,\n",
    "                                  cv=cv_strat, random_state=42, n_iter=50, return_train_score=True)"
   ]
  },
  {
   "cell_type": "code",
   "execution_count": 16,
   "metadata": {},
   "outputs": [
    {
     "data": {
      "text/plain": [
       "RandomizedSearchCV(cv=StratifiedKFold(n_splits=5, random_state=42, shuffle=False),\n",
       "                   estimator=RandomForestClassifier(n_jobs=5, random_state=42),\n",
       "                   n_iter=50, n_jobs=5,\n",
       "                   param_distributions={'class_weight': [None, 'balanced',\n",
       "                                                         {0: 1.0, 1: 12},\n",
       "                                                         {0: 1.0, 1: 13},\n",
       "                                                         {0: 1.0, 1: 14},\n",
       "                                                         {0: 1.0, 1: 15},\n",
       "                                                         {0: 1.0, 1: 16},\n",
       "                                                         {0: 1.0, 1: 17}],\n",
       "                                        'max_depth': [2, 3, 4, 5, 6, 7, 8, 9,\n",
       "                                                      10, 11, 12, 13, 14, 15,\n",
       "                                                      16, 17, 18, 19, 2...\n",
       "        870,  880,  890,  900,  910,  920,  930,  940,  950,  960,  970,\n",
       "        980,  990, 1000, 1010, 1020, 1030, 1040, 1050, 1060, 1070, 1080,\n",
       "       1090, 1100, 1110, 1120, 1130, 1140, 1150, 1160, 1170, 1180, 1190,\n",
       "       1200, 1210, 1220, 1230, 1240, 1250, 1260, 1270, 1280, 1290, 1300,\n",
       "       1310, 1320, 1330, 1340, 1350, 1360, 1370, 1380, 1390, 1400, 1410,\n",
       "       1420, 1430, 1440, 1450, 1460, 1470, 1480, 1490])},\n",
       "                   random_state=42, return_train_score=True, scoring='roc_auc')"
      ]
     },
     "execution_count": 16,
     "metadata": {},
     "output_type": "execute_result"
    }
   ],
   "source": [
    "# Fitting the randomized search CV object on the Training set.\n",
    "rand_cv.fit(X_train,y_train)"
   ]
  },
  {
   "cell_type": "code",
   "execution_count": 17,
   "metadata": {},
   "outputs": [
    {
     "data": {
      "text/plain": [
       "{'n_estimators': 1480,\n",
       " 'min_samples_leaf': 1e-05,\n",
       " 'max_depth': 47,\n",
       " 'class_weight': 'balanced'}"
      ]
     },
     "execution_count": 17,
     "metadata": {},
     "output_type": "execute_result"
    }
   ],
   "source": [
    "# Getting the the best hyper parameters of the Random Tree Classifier from Random Search CV study\n",
    "rand_cv.best_params_"
   ]
  },
  {
   "cell_type": "code",
   "execution_count": 18,
   "metadata": {},
   "outputs": [
    {
     "data": {
      "text/plain": [
       "0.7534642534966448"
      ]
     },
     "execution_count": 18,
     "metadata": {},
     "output_type": "execute_result"
    }
   ],
   "source": [
    "# Getting the study's best roc_auc score\n",
    "rand_cv.best_score_"
   ]
  },
  {
   "cell_type": "code",
   "execution_count": 19,
   "metadata": {},
   "outputs": [],
   "source": [
    "# Defining the function to calculate the roc_auc score for the feature sets\n",
    "def cal_roc_auc(X, y, cls, f_set, t_set, model_name):\n",
    "    ''' Calculates the roc auc score using the best study parameters \n",
    "        f_set : String: specifies 'full feature', 'Reduced feature'\n",
    "        t_set: String: specifies 'training', 'test'\n",
    "        model_name: String: specifies Name of the model '''\n",
    "        \n",
    "    y_pred = cls.predict_proba(X)\n",
    "    print('The roc_auc_score for the {} {} set using the best {} is '.format(f_set,t_set,model_name),roc_auc_score(y,y_pred[:,1]))"
   ]
  },
  {
   "cell_type": "code",
   "execution_count": 20,
   "metadata": {},
   "outputs": [
    {
     "name": "stdout",
     "output_type": "stream",
     "text": [
      "The roc_auc_score for the Reduced feature training set using the best Random Forest Classifier is  1.0\n"
     ]
    }
   ],
   "source": [
    "# Calculating the Reduced feature training set roc_auc score using the best study parameters\n",
    "cal_roc_auc(X_train, y_train, rand_cv, 'Reduced feature', 'training', 'Random Forest Classifier')"
   ]
  },
  {
   "cell_type": "code",
   "execution_count": 21,
   "metadata": {},
   "outputs": [
    {
     "name": "stdout",
     "output_type": "stream",
     "text": [
      "The roc_auc_score for the Reduced feature test set using the best Random Forest Classifier is  0.7592636813381282\n"
     ]
    }
   ],
   "source": [
    "# Calculating the Reduced feature test set roc_auc score using the best study parameters\n",
    "cal_roc_auc(X_test, y_test, rand_cv, 'Reduced feature', 'test', 'Random Forest Classifier')"
   ]
  },
  {
   "cell_type": "code",
   "execution_count": 56,
   "metadata": {},
   "outputs": [
    {
     "data": {
      "text/plain": [
       "['Rand_Forest_rand_search.joblib']"
      ]
     },
     "execution_count": 56,
     "metadata": {},
     "output_type": "execute_result"
    }
   ],
   "source": [
    "# Saving the best RF model tuned via Random seach CV\n",
    "import joblib\n",
    "rf_rand = rand_cv.best_estimator_\n",
    "joblib.dump(rf_rand,'Rand_Forest_rand_search.joblib')"
   ]
  },
  {
   "cell_type": "code",
   "execution_count": 23,
   "metadata": {},
   "outputs": [],
   "source": [
    "# Converting the RandomSearch CV study Results Dictionary to a Dataframe\n",
    "CV_Results = pd.DataFrame(rand_cv.cv_results_)"
   ]
  },
  {
   "cell_type": "code",
   "execution_count": 57,
   "metadata": {},
   "outputs": [],
   "source": [
    "# Saving the CV_Results dataframe as a csv file\n",
    "CV_Results.to_csv('Rand_Search_CV_Results.csv',index=False)"
   ]
  },
  {
   "cell_type": "code",
   "execution_count": 24,
   "metadata": {},
   "outputs": [
    {
     "data": {
      "text/html": [
       "<div>\n",
       "<style scoped>\n",
       "    .dataframe tbody tr th:only-of-type {\n",
       "        vertical-align: middle;\n",
       "    }\n",
       "\n",
       "    .dataframe tbody tr th {\n",
       "        vertical-align: top;\n",
       "    }\n",
       "\n",
       "    .dataframe thead th {\n",
       "        text-align: right;\n",
       "    }\n",
       "</style>\n",
       "<table border=\"1\" class=\"dataframe\">\n",
       "  <thead>\n",
       "    <tr style=\"text-align: right;\">\n",
       "      <th></th>\n",
       "      <th>mean_fit_time</th>\n",
       "      <th>std_fit_time</th>\n",
       "      <th>mean_score_time</th>\n",
       "      <th>std_score_time</th>\n",
       "      <th>param_n_estimators</th>\n",
       "      <th>param_min_samples_leaf</th>\n",
       "      <th>param_max_depth</th>\n",
       "      <th>param_class_weight</th>\n",
       "      <th>params</th>\n",
       "      <th>split0_test_score</th>\n",
       "      <th>split1_test_score</th>\n",
       "      <th>split2_test_score</th>\n",
       "      <th>split3_test_score</th>\n",
       "      <th>split4_test_score</th>\n",
       "      <th>mean_test_score</th>\n",
       "      <th>std_test_score</th>\n",
       "      <th>rank_test_score</th>\n",
       "      <th>split0_train_score</th>\n",
       "      <th>split1_train_score</th>\n",
       "      <th>split2_train_score</th>\n",
       "      <th>split3_train_score</th>\n",
       "      <th>split4_train_score</th>\n",
       "      <th>mean_train_score</th>\n",
       "      <th>std_train_score</th>\n",
       "    </tr>\n",
       "  </thead>\n",
       "  <tbody>\n",
       "    <tr>\n",
       "      <th>0</th>\n",
       "      <td>127.992223</td>\n",
       "      <td>0.776854</td>\n",
       "      <td>1.674527</td>\n",
       "      <td>0.126046</td>\n",
       "      <td>280</td>\n",
       "      <td>0.0001</td>\n",
       "      <td>29</td>\n",
       "      <td>{0: 1.0, 1: 12}</td>\n",
       "      <td>{'n_estimators': 280, 'min_samples_leaf': 0.00...</td>\n",
       "      <td>0.747507</td>\n",
       "      <td>0.748006</td>\n",
       "      <td>0.758541</td>\n",
       "      <td>0.754960</td>\n",
       "      <td>0.752441</td>\n",
       "      <td>0.752291</td>\n",
       "      <td>0.004182</td>\n",
       "      <td>5</td>\n",
       "      <td>0.980862</td>\n",
       "      <td>0.981005</td>\n",
       "      <td>0.981795</td>\n",
       "      <td>0.981210</td>\n",
       "      <td>0.981380</td>\n",
       "      <td>0.981250</td>\n",
       "      <td>0.000324</td>\n",
       "    </tr>\n",
       "    <tr>\n",
       "      <th>1</th>\n",
       "      <td>15.450197</td>\n",
       "      <td>0.465961</td>\n",
       "      <td>0.661445</td>\n",
       "      <td>0.253451</td>\n",
       "      <td>170</td>\n",
       "      <td>0.1</td>\n",
       "      <td>58</td>\n",
       "      <td>{0: 1.0, 1: 12}</td>\n",
       "      <td>{'n_estimators': 170, 'min_samples_leaf': 0.1,...</td>\n",
       "      <td>0.702065</td>\n",
       "      <td>0.702113</td>\n",
       "      <td>0.714198</td>\n",
       "      <td>0.708996</td>\n",
       "      <td>0.708642</td>\n",
       "      <td>0.707203</td>\n",
       "      <td>0.004616</td>\n",
       "      <td>41</td>\n",
       "      <td>0.710482</td>\n",
       "      <td>0.709662</td>\n",
       "      <td>0.708248</td>\n",
       "      <td>0.708989</td>\n",
       "      <td>0.709461</td>\n",
       "      <td>0.709368</td>\n",
       "      <td>0.000740</td>\n",
       "    </tr>\n",
       "    <tr>\n",
       "      <th>2</th>\n",
       "      <td>323.150645</td>\n",
       "      <td>0.879732</td>\n",
       "      <td>5.273709</td>\n",
       "      <td>0.171163</td>\n",
       "      <td>620</td>\n",
       "      <td>1e-05</td>\n",
       "      <td>41</td>\n",
       "      <td>{0: 1.0, 1: 12}</td>\n",
       "      <td>{'n_estimators': 620, 'min_samples_leaf': 1e-0...</td>\n",
       "      <td>0.747424</td>\n",
       "      <td>0.745974</td>\n",
       "      <td>0.757263</td>\n",
       "      <td>0.754105</td>\n",
       "      <td>0.749652</td>\n",
       "      <td>0.750884</td>\n",
       "      <td>0.004211</td>\n",
       "      <td>8</td>\n",
       "      <td>1.000000</td>\n",
       "      <td>1.000000</td>\n",
       "      <td>1.000000</td>\n",
       "      <td>1.000000</td>\n",
       "      <td>1.000000</td>\n",
       "      <td>1.000000</td>\n",
       "      <td>0.000000</td>\n",
       "    </tr>\n",
       "    <tr>\n",
       "      <th>3</th>\n",
       "      <td>63.166241</td>\n",
       "      <td>0.235521</td>\n",
       "      <td>1.071533</td>\n",
       "      <td>0.284719</td>\n",
       "      <td>280</td>\n",
       "      <td>0.01</td>\n",
       "      <td>24</td>\n",
       "      <td>{0: 1.0, 1: 17}</td>\n",
       "      <td>{'n_estimators': 280, 'min_samples_leaf': 0.01...</td>\n",
       "      <td>0.725403</td>\n",
       "      <td>0.726305</td>\n",
       "      <td>0.736997</td>\n",
       "      <td>0.733205</td>\n",
       "      <td>0.731884</td>\n",
       "      <td>0.730759</td>\n",
       "      <td>0.004352</td>\n",
       "      <td>32</td>\n",
       "      <td>0.742724</td>\n",
       "      <td>0.742477</td>\n",
       "      <td>0.740338</td>\n",
       "      <td>0.742173</td>\n",
       "      <td>0.741362</td>\n",
       "      <td>0.741815</td>\n",
       "      <td>0.000869</td>\n",
       "    </tr>\n",
       "    <tr>\n",
       "      <th>4</th>\n",
       "      <td>108.367339</td>\n",
       "      <td>0.519226</td>\n",
       "      <td>1.509065</td>\n",
       "      <td>0.367437</td>\n",
       "      <td>480</td>\n",
       "      <td>0.01</td>\n",
       "      <td>15</td>\n",
       "      <td>{0: 1.0, 1: 15}</td>\n",
       "      <td>{'n_estimators': 480, 'min_samples_leaf': 0.01...</td>\n",
       "      <td>0.726365</td>\n",
       "      <td>0.726636</td>\n",
       "      <td>0.737058</td>\n",
       "      <td>0.733833</td>\n",
       "      <td>0.732051</td>\n",
       "      <td>0.731189</td>\n",
       "      <td>0.004152</td>\n",
       "      <td>29</td>\n",
       "      <td>0.743204</td>\n",
       "      <td>0.742920</td>\n",
       "      <td>0.740760</td>\n",
       "      <td>0.742614</td>\n",
       "      <td>0.741517</td>\n",
       "      <td>0.742203</td>\n",
       "      <td>0.000920</td>\n",
       "    </tr>\n",
       "  </tbody>\n",
       "</table>\n",
       "</div>"
      ],
      "text/plain": [
       "   mean_fit_time  std_fit_time  mean_score_time  std_score_time  \\\n",
       "0     127.992223      0.776854         1.674527        0.126046   \n",
       "1      15.450197      0.465961         0.661445        0.253451   \n",
       "2     323.150645      0.879732         5.273709        0.171163   \n",
       "3      63.166241      0.235521         1.071533        0.284719   \n",
       "4     108.367339      0.519226         1.509065        0.367437   \n",
       "\n",
       "  param_n_estimators param_min_samples_leaf param_max_depth  \\\n",
       "0                280                 0.0001              29   \n",
       "1                170                    0.1              58   \n",
       "2                620                  1e-05              41   \n",
       "3                280                   0.01              24   \n",
       "4                480                   0.01              15   \n",
       "\n",
       "  param_class_weight                                             params  \\\n",
       "0    {0: 1.0, 1: 12}  {'n_estimators': 280, 'min_samples_leaf': 0.00...   \n",
       "1    {0: 1.0, 1: 12}  {'n_estimators': 170, 'min_samples_leaf': 0.1,...   \n",
       "2    {0: 1.0, 1: 12}  {'n_estimators': 620, 'min_samples_leaf': 1e-0...   \n",
       "3    {0: 1.0, 1: 17}  {'n_estimators': 280, 'min_samples_leaf': 0.01...   \n",
       "4    {0: 1.0, 1: 15}  {'n_estimators': 480, 'min_samples_leaf': 0.01...   \n",
       "\n",
       "   split0_test_score  split1_test_score  split2_test_score  split3_test_score  \\\n",
       "0           0.747507           0.748006           0.758541           0.754960   \n",
       "1           0.702065           0.702113           0.714198           0.708996   \n",
       "2           0.747424           0.745974           0.757263           0.754105   \n",
       "3           0.725403           0.726305           0.736997           0.733205   \n",
       "4           0.726365           0.726636           0.737058           0.733833   \n",
       "\n",
       "   split4_test_score  mean_test_score  std_test_score  rank_test_score  \\\n",
       "0           0.752441         0.752291        0.004182                5   \n",
       "1           0.708642         0.707203        0.004616               41   \n",
       "2           0.749652         0.750884        0.004211                8   \n",
       "3           0.731884         0.730759        0.004352               32   \n",
       "4           0.732051         0.731189        0.004152               29   \n",
       "\n",
       "   split0_train_score  split1_train_score  split2_train_score  \\\n",
       "0            0.980862            0.981005            0.981795   \n",
       "1            0.710482            0.709662            0.708248   \n",
       "2            1.000000            1.000000            1.000000   \n",
       "3            0.742724            0.742477            0.740338   \n",
       "4            0.743204            0.742920            0.740760   \n",
       "\n",
       "   split3_train_score  split4_train_score  mean_train_score  std_train_score  \n",
       "0            0.981210            0.981380          0.981250         0.000324  \n",
       "1            0.708989            0.709461          0.709368         0.000740  \n",
       "2            1.000000            1.000000          1.000000         0.000000  \n",
       "3            0.742173            0.741362          0.741815         0.000869  \n",
       "4            0.742614            0.741517          0.742203         0.000920  "
      ]
     },
     "execution_count": 24,
     "metadata": {},
     "output_type": "execute_result"
    }
   ],
   "source": [
    "# Viewing the head of the resulting dataframe\n",
    "CV_Results.head()"
   ]
  },
  {
   "cell_type": "code",
   "execution_count": 25,
   "metadata": {},
   "outputs": [],
   "source": [
    "# Sorting the CV_Results dataframe by the Test score Rank\n",
    "CV_Results = CV_Results.sort_values(by=['rank_test_score'])"
   ]
  },
  {
   "cell_type": "code",
   "execution_count": 27,
   "metadata": {},
   "outputs": [
    {
     "data": {
      "image/png": "[encoded data removed]",
      "text/plain": [
       "<Figure size 864x576 with 1 Axes>"
      ]
     },
     "metadata": {
      "needs_background": "light"
     },
     "output_type": "display_data"
    }
   ],
   "source": [
    "# Plotting the mean Training & mean Test 5 fold roc_auc scores for the training dataset vs rank_test_score \n",
    "# obtained from Random Search CV.\n",
    "plt.figure(figsize=(12,8))\n",
    "plt.plot('rank_test_score', 'mean_train_score', data=CV_Results, label='Train_roc_auc', marker='+', color='r')\n",
    "plt.plot('rank_test_score', 'mean_test_score', data=CV_Results, label='Test_roc_auc', marker='^',color='g')\n",
    "plt.legend()\n",
    "plt.title('Train/Test mean roc_auc scores for 5 Fold CV')\n",
    "plt.xlabel('Rank_Test_Score')\n",
    "plt.ylabel('Mean roc_auc_score')\n",
    "plt.show()"
   ]
  },
  {
   "cell_type": "code",
   "execution_count": 28,
   "metadata": {},
   "outputs": [
    {
     "data": {
      "image/png": "[encoded data removed]",
      "text/plain": [
       "<Figure size 864x576 with 1 Axes>"
      ]
     },
     "metadata": {
      "needs_background": "light"
     },
     "output_type": "display_data"
    }
   ],
   "source": [
    "# Plotting the Standard Deviation of the Training & Test 5 fold roc_auc scores for the training dataset \n",
    "# vs rank_test_score obtained from Random Search CV.\n",
    "plt.figure(figsize=(12,8))\n",
    "plt.plot('rank_test_score', 'std_train_score', data=CV_Results, label='Train_roc_auc_Std_Dev', marker='+', color='r')\n",
    "plt.plot('rank_test_score', 'std_test_score', data=CV_Results, label='Test_roc_auc_Std_Dev', marker='^', color='g')\n",
    "plt.xlabel('Rank_Test_Score')\n",
    "plt.ylabel('Std_Dev. of roc_auc_scores')\n",
    "plt.title('Train/Test roc_auc Std. Dev. for 5 Fold CV')\n",
    "plt.legend()\n",
    "plt.show()"
   ]
  },
  {
   "cell_type": "code",
   "execution_count": 31,
   "metadata": {},
   "outputs": [],
   "source": [
    "# Grouping by N_estimators to calculate variation of Training & Test set mean roc_auc score & their Std. Devs.\n",
    "df_N_est = CV_Results.groupby('param_n_estimators',as_index=False)[['mean_test_score','mean_train_score','std_test_score','std_train_score']].mean()"
   ]
  },
  {
   "cell_type": "code",
   "execution_count": 32,
   "metadata": {},
   "outputs": [
    {
     "data": {
      "text/html": [
       "<div>\n",
       "<style scoped>\n",
       "    .dataframe tbody tr th:only-of-type {\n",
       "        vertical-align: middle;\n",
       "    }\n",
       "\n",
       "    .dataframe tbody tr th {\n",
       "        vertical-align: top;\n",
       "    }\n",
       "\n",
       "    .dataframe thead th {\n",
       "        text-align: right;\n",
       "    }\n",
       "</style>\n",
       "<table border=\"1\" class=\"dataframe\">\n",
       "  <thead>\n",
       "    <tr style=\"text-align: right;\">\n",
       "      <th></th>\n",
       "      <th>param_n_estimators</th>\n",
       "      <th>mean_test_score</th>\n",
       "      <th>mean_train_score</th>\n",
       "      <th>std_test_score</th>\n",
       "      <th>std_train_score</th>\n",
       "    </tr>\n",
       "  </thead>\n",
       "  <tbody>\n",
       "    <tr>\n",
       "      <th>0</th>\n",
       "      <td>100</td>\n",
       "      <td>0.748680</td>\n",
       "      <td>0.974420</td>\n",
       "      <td>0.004234</td>\n",
       "      <td>0.000640</td>\n",
       "    </tr>\n",
       "    <tr>\n",
       "      <th>1</th>\n",
       "      <td>160</td>\n",
       "      <td>0.739343</td>\n",
       "      <td>0.770576</td>\n",
       "      <td>0.004217</td>\n",
       "      <td>0.000625</td>\n",
       "    </tr>\n",
       "    <tr>\n",
       "      <th>2</th>\n",
       "      <td>170</td>\n",
       "      <td>0.707203</td>\n",
       "      <td>0.709368</td>\n",
       "      <td>0.004616</td>\n",
       "      <td>0.000740</td>\n",
       "    </tr>\n",
       "    <tr>\n",
       "      <th>3</th>\n",
       "      <td>190</td>\n",
       "      <td>0.706698</td>\n",
       "      <td>0.708926</td>\n",
       "      <td>0.004349</td>\n",
       "      <td>0.000881</td>\n",
       "    </tr>\n",
       "    <tr>\n",
       "      <th>4</th>\n",
       "      <td>280</td>\n",
       "      <td>0.741525</td>\n",
       "      <td>0.861533</td>\n",
       "      <td>0.004267</td>\n",
       "      <td>0.000597</td>\n",
       "    </tr>\n",
       "  </tbody>\n",
       "</table>\n",
       "</div>"
      ],
      "text/plain": [
       "   param_n_estimators  mean_test_score  mean_train_score  std_test_score  \\\n",
       "0                 100         0.748680          0.974420        0.004234   \n",
       "1                 160         0.739343          0.770576        0.004217   \n",
       "2                 170         0.707203          0.709368        0.004616   \n",
       "3                 190         0.706698          0.708926        0.004349   \n",
       "4                 280         0.741525          0.861533        0.004267   \n",
       "\n",
       "   std_train_score  \n",
       "0         0.000640  \n",
       "1         0.000625  \n",
       "2         0.000740  \n",
       "3         0.000881  \n",
       "4         0.000597  "
      ]
     },
     "execution_count": 32,
     "metadata": {},
     "output_type": "execute_result"
    }
   ],
   "source": [
    "df_N_est.head()"
   ]
  },
  {
   "cell_type": "code",
   "execution_count": 34,
   "metadata": {},
   "outputs": [
    {
     "data": {
      "image/png": "[encoded data removed]",
      "text/plain": [
       "<Figure size 1080x720 with 1 Axes>"
      ]
     },
     "metadata": {
      "needs_background": "light"
     },
     "output_type": "display_data"
    }
   ],
   "source": [
    "# Plotting the Training & Test 5 fold mean roc_auc scores vs No. of Estimators for the dataset.\n",
    "plt.figure(figsize=(15,10))\n",
    "plt.plot('param_n_estimators', 'mean_train_score', data=df_N_est, label='Train_roc_auc', marker='+', color='r')\n",
    "plt.plot('param_n_estimators', 'mean_test_score', data=df_N_est, label='Test_roc_auc', marker='^',color='g')\n",
    "plt.xlabel('No. of Estimators')\n",
    "plt.ylabel('Mean roc_auc_score')\n",
    "plt.title('Train/Test mean roc_auc score vs. No. of estimators')\n",
    "plt.legend()\n",
    "plt.show()"
   ]
  },
  {
   "cell_type": "code",
   "execution_count": 36,
   "metadata": {},
   "outputs": [
    {
     "data": {
      "image/png": "[encoded data removed]",
      "text/plain": [
       "<Figure size 1080x720 with 1 Axes>"
      ]
     },
     "metadata": {
      "needs_background": "light"
     },
     "output_type": "display_data"
    }
   ],
   "source": [
    "# Plotting the Training & Test 5 fold mean roc_auc scores Std_Dev. vs No. of Estimators for the dataset.\n",
    "plt.figure(figsize=(15,10))\n",
    "plt.plot('param_n_estimators', 'std_train_score', data=df_N_est, label='Train_roc_auc', marker='+', color='r')\n",
    "plt.plot('param_n_estimators', 'std_test_score', data=df_N_est, label='Test_roc_auc', marker='^',color='g')\n",
    "plt.xlabel('No. of Estimators')\n",
    "plt.ylabel('Mean roc_auc_score Std. Dev.')\n",
    "plt.title('Train/Test mean roc_auc Std. Dev. vs. No. of estimators')\n",
    "plt.legend()\n",
    "plt.show()"
   ]
  },
  {
   "cell_type": "code",
   "execution_count": 37,
   "metadata": {},
   "outputs": [],
   "source": [
    "# Grouping by max_depths to calculate variation of Training & Test set mean roc_auc score & their Std. Devs.\n",
    "df_max_depth = CV_Results.groupby('param_max_depth',as_index=False)[['mean_test_score','mean_train_score','std_test_score','std_train_score']].mean()"
   ]
  },
  {
   "cell_type": "code",
   "execution_count": 38,
   "metadata": {},
   "outputs": [
    {
     "data": {
      "text/html": [
       "<div>\n",
       "<style scoped>\n",
       "    .dataframe tbody tr th:only-of-type {\n",
       "        vertical-align: middle;\n",
       "    }\n",
       "\n",
       "    .dataframe tbody tr th {\n",
       "        vertical-align: top;\n",
       "    }\n",
       "\n",
       "    .dataframe thead th {\n",
       "        text-align: right;\n",
       "    }\n",
       "</style>\n",
       "<table border=\"1\" class=\"dataframe\">\n",
       "  <thead>\n",
       "    <tr style=\"text-align: right;\">\n",
       "      <th></th>\n",
       "      <th>param_max_depth</th>\n",
       "      <th>mean_test_score</th>\n",
       "      <th>mean_train_score</th>\n",
       "      <th>std_test_score</th>\n",
       "      <th>std_train_score</th>\n",
       "    </tr>\n",
       "  </thead>\n",
       "  <tbody>\n",
       "    <tr>\n",
       "      <th>0</th>\n",
       "      <td>2</td>\n",
       "      <td>0.702757</td>\n",
       "      <td>0.705069</td>\n",
       "      <td>0.004250</td>\n",
       "      <td>0.001060</td>\n",
       "    </tr>\n",
       "    <tr>\n",
       "      <th>1</th>\n",
       "      <td>5</td>\n",
       "      <td>0.728863</td>\n",
       "      <td>0.739682</td>\n",
       "      <td>0.003888</td>\n",
       "      <td>0.000803</td>\n",
       "    </tr>\n",
       "    <tr>\n",
       "      <th>2</th>\n",
       "      <td>7</td>\n",
       "      <td>0.721589</td>\n",
       "      <td>0.737775</td>\n",
       "      <td>0.004211</td>\n",
       "      <td>0.000811</td>\n",
       "    </tr>\n",
       "    <tr>\n",
       "      <th>3</th>\n",
       "      <td>8</td>\n",
       "      <td>0.739343</td>\n",
       "      <td>0.770576</td>\n",
       "      <td>0.004217</td>\n",
       "      <td>0.000625</td>\n",
       "    </tr>\n",
       "    <tr>\n",
       "      <th>4</th>\n",
       "      <td>11</td>\n",
       "      <td>0.731683</td>\n",
       "      <td>0.742707</td>\n",
       "      <td>0.004123</td>\n",
       "      <td>0.000981</td>\n",
       "    </tr>\n",
       "  </tbody>\n",
       "</table>\n",
       "</div>"
      ],
      "text/plain": [
       "   param_max_depth  mean_test_score  mean_train_score  std_test_score  \\\n",
       "0                2         0.702757          0.705069        0.004250   \n",
       "1                5         0.728863          0.739682        0.003888   \n",
       "2                7         0.721589          0.737775        0.004211   \n",
       "3                8         0.739343          0.770576        0.004217   \n",
       "4               11         0.731683          0.742707        0.004123   \n",
       "\n",
       "   std_train_score  \n",
       "0         0.001060  \n",
       "1         0.000803  \n",
       "2         0.000811  \n",
       "3         0.000625  \n",
       "4         0.000981  "
      ]
     },
     "execution_count": 38,
     "metadata": {},
     "output_type": "execute_result"
    }
   ],
   "source": [
    "df_max_depth.head()"
   ]
  },
  {
   "cell_type": "code",
   "execution_count": 39,
   "metadata": {},
   "outputs": [
    {
     "data": {
      "image/png": "[encoded data removed]",
      "text/plain": [
       "<Figure size 1080x720 with 1 Axes>"
      ]
     },
     "metadata": {
      "needs_background": "light"
     },
     "output_type": "display_data"
    }
   ],
   "source": [
    "# Plotting the Training & Test 5 fold mean roc_auc scores vs Max_Depth of estimators for the dataset.\n",
    "plt.figure(figsize=(15,10))\n",
    "plt.plot('param_max_depth', 'mean_train_score', data=df_max_depth, label='Train_roc_auc', marker='+', color='r')\n",
    "plt.plot('param_max_depth', 'mean_test_score', data=df_max_depth, label='Test_roc_auc', marker='^',color='g')\n",
    "plt.xlabel('Max_Depth')\n",
    "plt.ylabel('Mean roc_auc_score')\n",
    "plt.title('Train/Test mean roc_auc score vs. Max_Depth of estimators')\n",
    "plt.legend()\n",
    "plt.show()"
   ]
  },
  {
   "cell_type": "code",
   "execution_count": 40,
   "metadata": {},
   "outputs": [
    {
     "data": {
      "image/png": "[encoded data removed]",
      "text/plain": [
       "<Figure size 1080x720 with 1 Axes>"
      ]
     },
     "metadata": {
      "needs_background": "light"
     },
     "output_type": "display_data"
    }
   ],
   "source": [
    "# Plotting the Training & Test 5 fold mean roc_auc scores Std_Dev. vs Max_Depth of estimators for the dataset.\n",
    "plt.figure(figsize=(15,10))\n",
    "plt.plot('param_max_depth', 'std_train_score', data=df_max_depth, label='Train_roc_auc', marker='+', color='r')\n",
    "plt.plot('param_max_depth', 'std_test_score', data=df_max_depth, label='Test_roc_auc', marker='^',color='g')\n",
    "plt.xlabel('Max_Depth')\n",
    "plt.ylabel('Mean roc_auc Std_Dev.')\n",
    "plt.title('Train/Test mean roc_auc Std_Dev. vs. Max_Depth of estimators')\n",
    "plt.legend()\n",
    "plt.show()"
   ]
  },
  {
   "cell_type": "markdown",
   "metadata": {},
   "source": [
    "## Observations:\n",
    "### 1) The training & test set roc_auc score for the best Random Forest classifier, obtained through Random Search CV are miles apart, indicating severe overfitting, which is typical of random forest classifiers. Thus this model can't be used for forecasting.\n",
    "### 2) The aforementioned overfitting is also clearly evident in the previous graphs, with 5 fold mean roc_auc scores for training folds being consistently greater than those of test folds & mean roc_auc Std_Devs of training folds being consistently lesser than those of corresponding test folds.\n",
    "### 3) Thus overfitting renders the above model useless, lets try tuning with optuna, a Bayesian hyperparameter tuner, which might give us a better model."
   ]
  },
  {
   "cell_type": "markdown",
   "metadata": {},
   "source": [
    "## Model_7: Random Forest Classifiers with Tuned Hyperparameters using Optuna."
   ]
  },
  {
   "cell_type": "code",
   "execution_count": 41,
   "metadata": {},
   "outputs": [],
   "source": [
    "# Importing  hyperparamater tuning optimizer optuna\n",
    "import optuna"
   ]
  },
  {
   "cell_type": "code",
   "execution_count": 164,
   "metadata": {},
   "outputs": [],
   "source": [
    "# Instantiating a new Random forest classifier\n",
    "rf_o = RandomForestClassifier(n_jobs=5, random_state=42)"
   ]
  },
  {
   "cell_type": "code",
   "execution_count": 43,
   "metadata": {},
   "outputs": [],
   "source": [
    "# Defining the appropriate objective function for the Random Forest classifier\n",
    "def objective_wrappper_rf(X_tr, y_tr, cls=None, cv_strat=None, cl_w=None):\n",
    "    '''\n",
    "    Optimizes Random Forest parameters on the given training set X_tr, y_tr\n",
    "    using cv_strat cross-validation & cl_w class weight objects.\n",
    "    \n",
    "    '''\n",
    "    \n",
    "    def objective(trial):\n",
    "        params = {\n",
    "        'max_depth': trial.suggest_categorical('max_depth',list(range(2,60))+ [None]),\n",
    "        'n_estimators':trial.suggest_int('n_estimators',100,2000,10),\n",
    "        'class_weight':trial.suggest_categorical('class_weight',cl_w),\n",
    "        'min_samples_leaf':trial.suggest_loguniform('min_samples_leaf',.00001,.1)\n",
    "          }\n",
    "        \n",
    "        cls.set_params(**params)#Initializing the model with the parameters \n",
    "    \n",
    "        return np.mean(cross_val_score(cls, X_tr, y_tr, cv=cv_strat, n_jobs=5, scoring='roc_auc'))  \n",
    "    return objective"
   ]
  },
  {
   "cell_type": "code",
   "execution_count": 44,
   "metadata": {},
   "outputs": [],
   "source": [
    "# Defining the evaluation function for study's best parameters\n",
    "def study_best_score_params(X_tr, y_tr, cls, obj_func, cv_strat, cl_w, n_trials=100):\n",
    "    ''' Computes the best hyper parameters of the classsifier and returns \n",
    "    Optuna's study's best score & clasifier parameters'''\n",
    "    study = optuna.create_study(direction='maximize')\n",
    "    study.optimize(obj_func(X_tr, y_tr, cls, cv_strat, cl_w), n_trials)\n",
    "    best_score = study.best_value\n",
    "    best_params = study.best_params\n",
    "    return (best_score,best_params)\n"
   ]
  },
  {
   "cell_type": "markdown",
   "metadata": {},
   "source": [
    "#### Computing the best hyperparameters for the Random Forest Classifier_1 using Optuna."
   ]
  },
  {
   "cell_type": "code",
   "execution_count": 45,
   "metadata": {},
   "outputs": [
    {
     "name": "stderr",
     "output_type": "stream",
     "text": [
      "\u001b[32m[I 2020-12-30 22:01:50,349]\u001b[0m A new study created in memory with name: no-name-98b4ef3a-3a1b-4ecf-8de8-732f7f5bbd89\u001b[0m\n",
      "\u001b[32m[I 2020-12-30 22:02:45,457]\u001b[0m Trial 0 finished with value: 0.725423120316778 and parameters: {'max_depth': 56, 'n_estimators': 280, 'class_weight': {0: 1.0, 1: 12}, 'min_samples_leaf': 0.02096126296423985}. Best is trial 0 with value: 0.725423120316778.\u001b[0m\n",
      "\u001b[32m[I 2020-12-30 22:09:10,157]\u001b[0m Trial 1 finished with value: 0.7332735759549537 and parameters: {'max_depth': 6, 'n_estimators': 1680, 'class_weight': None, 'min_samples_leaf': 1.0045187833622311e-05}. Best is trial 1 with value: 0.7332735759549537.\u001b[0m\n",
      "\u001b[32m[I 2020-12-30 22:09:37,192]\u001b[0m Trial 2 finished with value: 0.7059665831773371 and parameters: {'max_depth': 2, 'n_estimators': 280, 'class_weight': 'balanced', 'min_samples_leaf': 1.9600645446629556e-05}. Best is trial 1 with value: 0.7332735759549537.\u001b[0m\n",
      "\u001b[32m[I 2020-12-30 22:09:58,847]\u001b[0m Trial 3 finished with value: 0.7130625192234248 and parameters: {'max_depth': 3, 'n_estimators': 170, 'class_weight': {0: 1.0, 1: 15}, 'min_samples_leaf': 0.00010567349705022218}. Best is trial 1 with value: 0.7332735759549537.\u001b[0m\n",
      "\u001b[32m[I 2020-12-30 22:23:26,475]\u001b[0m Trial 4 finished with value: 0.7497794685679715 and parameters: {'max_depth': 56, 'n_estimators': 1920, 'class_weight': None, 'min_samples_leaf': 0.00045616247471495796}. Best is trial 4 with value: 0.7497794685679715.\u001b[0m\n",
      "\u001b[32m[I 2020-12-30 22:24:52,146]\u001b[0m Trial 5 finished with value: 0.7081365523662291 and parameters: {'max_depth': 40, 'n_estimators': 850, 'class_weight': {0: 1.0, 1: 16}, 'min_samples_leaf': 0.08519580648577021}. Best is trial 4 with value: 0.7497794685679715.\u001b[0m\n",
      "\u001b[32m[I 2020-12-30 22:29:19,863]\u001b[0m Trial 6 finished with value: 0.750566729058683 and parameters: {'max_depth': 17, 'n_estimators': 650, 'class_weight': {0: 1.0, 1: 12}, 'min_samples_leaf': 0.0003235327648044709}. Best is trial 6 with value: 0.750566729058683.\u001b[0m\n",
      "\u001b[32m[I 2020-12-30 22:38:26,159]\u001b[0m Trial 7 finished with value: 0.7512745420326056 and parameters: {'max_depth': 44, 'n_estimators': 1310, 'class_weight': 'balanced', 'min_samples_leaf': 0.00033626045949238176}. Best is trial 7 with value: 0.7512745420326056.\u001b[0m\n",
      "\u001b[32m[I 2020-12-30 22:41:49,832]\u001b[0m Trial 8 finished with value: 0.7351696870477757 and parameters: {'max_depth': 32, 'n_estimators': 790, 'class_weight': {0: 1.0, 1: 16}, 'min_samples_leaf': 0.0062056878818154}. Best is trial 7 with value: 0.7512745420326056.\u001b[0m\n",
      "\u001b[32m[I 2020-12-30 22:49:54,216]\u001b[0m Trial 9 finished with value: 0.7498682188585108 and parameters: {'max_depth': 16, 'n_estimators': 1090, 'class_weight': {0: 1.0, 1: 12}, 'min_samples_leaf': 9.572642697161881e-05}. Best is trial 7 with value: 0.7512745420326056.\u001b[0m\n",
      "\u001b[32m[I 2020-12-30 22:57:09,281]\u001b[0m Trial 10 finished with value: 0.7420451162111469 and parameters: {'max_depth': 44, 'n_estimators': 1400, 'class_weight': {0: 1.0, 1: 17}, 'min_samples_leaf': 0.0021818651932456567}. Best is trial 7 with value: 0.7512745420326056.\u001b[0m\n",
      "\u001b[32m[I 2020-12-30 23:01:25,816]\u001b[0m Trial 11 finished with value: 0.7495530894425514 and parameters: {'max_depth': 17, 'n_estimators': 640, 'class_weight': {0: 1.0, 1: 14}, 'min_samples_leaf': 0.0004312059212613837}. Best is trial 7 with value: 0.7512745420326056.\u001b[0m\n",
      "\u001b[32m[I 2020-12-30 23:05:30,364]\u001b[0m Trial 12 finished with value: 0.7274928606004479 and parameters: {'max_depth': 5, 'n_estimators': 1270, 'class_weight': {0: 1.0, 1: 13}, 'min_samples_leaf': 0.00012823460024281172}. Best is trial 7 with value: 0.7512745420326056.\u001b[0m\n",
      "\u001b[32m[I 2020-12-30 23:13:26,006]\u001b[0m Trial 13 finished with value: 0.7429868016437254 and parameters: {'max_depth': 10, 'n_estimators': 1530, 'class_weight': 'balanced', 'min_samples_leaf': 0.0013136797480765782}. Best is trial 7 with value: 0.7512745420326056.\u001b[0m\n",
      "\u001b[32m[I 2020-12-30 23:17:55,166]\u001b[0m Trial 14 finished with value: 0.7534951088622435 and parameters: {'max_depth': 52, 'n_estimators': 540, 'class_weight': 'balanced', 'min_samples_leaf': 4.983924163079207e-05}. Best is trial 14 with value: 0.7534951088622435.\u001b[0m\n",
      "\u001b[32m[I 2020-12-30 23:27:30,772]\u001b[0m Trial 15 finished with value: 0.7503118248918309 and parameters: {'max_depth': 22, 'n_estimators': 1130, 'class_weight': 'balanced', 'min_samples_leaf': 2.6892721376819427e-05}. Best is trial 14 with value: 0.7534951088622435.\u001b[0m\n",
      "\u001b[32m[I 2020-12-30 23:32:08,781]\u001b[0m Trial 16 finished with value: 0.7532886012024046 and parameters: {'max_depth': 44, 'n_estimators': 550, 'class_weight': 'balanced', 'min_samples_leaf': 3.8458698621052505e-05}. Best is trial 14 with value: 0.7534951088622435.\u001b[0m\n",
      "\u001b[32m[I 2020-12-30 23:36:41,833]\u001b[0m Trial 17 finished with value: 0.7531953228283033 and parameters: {'max_depth': 43, 'n_estimators': 530, 'class_weight': 'balanced', 'min_samples_leaf': 3.071148429230537e-05}. Best is trial 14 with value: 0.7534951088622435.\u001b[0m\n",
      "\u001b[32m[I 2020-12-30 23:40:35,141]\u001b[0m Trial 18 finished with value: 0.7523717853954626 and parameters: {'max_depth': 35, 'n_estimators': 470, 'class_weight': {0: 1.0, 1: 17}, 'min_samples_leaf': 5.365380644066461e-05}. Best is trial 14 with value: 0.7534951088622435.\u001b[0m\n",
      "\u001b[32m[I 2020-12-30 23:41:28,735]\u001b[0m Trial 19 finished with value: 0.7377397693795303 and parameters: {'max_depth': 52, 'n_estimators': 100, 'class_weight': {0: 1.0, 1: 14}, 'min_samples_leaf': 1.1319669140572066e-05}. Best is trial 14 with value: 0.7534951088622435.\u001b[0m\n",
      "\u001b[32m[I 2020-12-30 23:46:04,709]\u001b[0m Trial 20 finished with value: 0.7404263387424992 and parameters: {'max_depth': 9, 'n_estimators': 890, 'class_weight': {0: 1.0, 1: 15}, 'min_samples_leaf': 6.426018706952408e-05}. Best is trial 14 with value: 0.7534951088622435.\u001b[0m\n",
      "\u001b[32m[I 2020-12-30 23:50:53,240]\u001b[0m Trial 21 finished with value: 0.7532824559537576 and parameters: {'max_depth': 43, 'n_estimators': 560, 'class_weight': 'balanced', 'min_samples_leaf': 2.953501718439126e-05}. Best is trial 14 with value: 0.7534951088622435.\u001b[0m\n",
      "\u001b[32m[I 2020-12-30 23:54:31,139]\u001b[0m Trial 22 finished with value: 0.7506445287184034 and parameters: {'max_depth': 51, 'n_estimators': 410, 'class_weight': 'balanced', 'min_samples_leaf': 1.5312725940067636e-05}. Best is trial 14 with value: 0.7534951088622435.\u001b[0m\n",
      "\u001b[32m[I 2020-12-31 00:00:00,765]\u001b[0m Trial 23 finished with value: 0.7537009109886972 and parameters: {'max_depth': 54, 'n_estimators': 660, 'class_weight': 'balanced', 'min_samples_leaf': 4.902180895349266e-05}. Best is trial 23 with value: 0.7537009109886972.\u001b[0m\n",
      "\u001b[32m[I 2020-12-31 00:05:36,531]\u001b[0m Trial 24 finished with value: 0.7524027295006877 and parameters: {'max_depth': 54, 'n_estimators': 750, 'class_weight': 'balanced', 'min_samples_leaf': 0.00019158870878770962}. Best is trial 23 with value: 0.7537009109886972.\u001b[0m\n",
      "\u001b[32m[I 2020-12-31 00:12:23,527]\u001b[0m Trial 25 finished with value: 0.7445081247800337 and parameters: {'max_depth': 14, 'n_estimators': 950, 'class_weight': 'balanced', 'min_samples_leaf': 4.4405734885433864e-05}. Best is trial 23 with value: 0.7537009109886972.\u001b[0m\n",
      "\u001b[32m[I 2020-12-31 00:15:03,210]\u001b[0m Trial 26 finished with value: 0.7518119316999534 and parameters: {'max_depth': 31, 'n_estimators': 360, 'class_weight': {0: 1.0, 1: 13}, 'min_samples_leaf': 0.0001859347233986082}. Best is trial 23 with value: 0.7537009109886972.\u001b[0m\n",
      "\u001b[32m[I 2020-12-31 00:20:26,970]\u001b[0m Trial 27 finished with value: 0.7522512444562923 and parameters: {'max_depth': None, 'n_estimators': 610, 'class_weight': 'balanced', 'min_samples_leaf': 1.1435315945013412e-05}. Best is trial 23 with value: 0.7537009109886972.\u001b[0m\n",
      "\u001b[32m[I 2020-12-31 00:21:41,591]\u001b[0m Trial 28 finished with value: 0.7468503175327376 and parameters: {'max_depth': 54, 'n_estimators': 200, 'class_weight': 'balanced', 'min_samples_leaf': 0.000774421332660247}. Best is trial 23 with value: 0.7537009109886972.\u001b[0m\n",
      "\u001b[32m[I 2020-12-31 00:27:35,846]\u001b[0m Trial 29 finished with value: 0.7538203772211709 and parameters: {'max_depth': 34, 'n_estimators': 720, 'class_weight': 'balanced', 'min_samples_leaf': 6.127931933287502e-05}. Best is trial 29 with value: 0.7538203772211709.\u001b[0m\n",
      "\u001b[32m[I 2020-12-31 00:32:15,660]\u001b[0m Trial 30 finished with value: 0.7393773167532185 and parameters: {'max_depth': 34, 'n_estimators': 970, 'class_weight': {0: 1.0, 1: 14}, 'min_samples_leaf': 0.0034450004647882033}. Best is trial 29 with value: 0.7538203772211709.\u001b[0m\n"
     ]
    },
    {
     "name": "stderr",
     "output_type": "stream",
     "text": [
      "\u001b[32m[I 2020-12-31 00:38:07,677]\u001b[0m Trial 31 finished with value: 0.7508875803165 and parameters: {'max_depth': 19, 'n_estimators': 730, 'class_weight': 'balanced', 'min_samples_leaf': 5.9218711535559376e-05}. Best is trial 29 with value: 0.7538203772211709.\u001b[0m\n",
      "\u001b[32m[I 2020-12-31 00:41:35,480]\u001b[0m Trial 32 finished with value: 0.7450250360757111 and parameters: {'max_depth': 38, 'n_estimators': 370, 'class_weight': None, 'min_samples_leaf': 3.671812229848852e-05}. Best is trial 29 with value: 0.7538203772211709.\u001b[0m\n",
      "\u001b[32m[I 2020-12-31 00:45:47,626]\u001b[0m Trial 33 finished with value: 0.7523410284566404 and parameters: {'max_depth': 49, 'n_estimators': 480, 'class_weight': 'balanced', 'min_samples_leaf': 1.7548467052946596e-05}. Best is trial 29 with value: 0.7538203772211709.\u001b[0m\n",
      "\u001b[32m[I 2020-12-31 00:48:02,315]\u001b[0m Trial 34 finished with value: 0.7523345019587436 and parameters: {'max_depth': 48, 'n_estimators': 290, 'class_weight': 'balanced', 'min_samples_leaf': 0.00012477736291902577}. Best is trial 29 with value: 0.7538203772211709.\u001b[0m\n",
      "\u001b[32m[I 2020-12-31 00:52:27,629]\u001b[0m Trial 35 finished with value: 0.7424587039504866 and parameters: {'max_depth': 12, 'n_estimators': 690, 'class_weight': {0: 1.0, 1: 15}, 'min_samples_leaf': 7.117451999024912e-05}. Best is trial 29 with value: 0.7538203772211709.\u001b[0m\n",
      "\u001b[32m[I 2020-12-31 00:56:23,928]\u001b[0m Trial 36 finished with value: 0.7399949402644336 and parameters: {'max_depth': 8, 'n_estimators': 830, 'class_weight': None, 'min_samples_leaf': 1.0293775147972835e-05}. Best is trial 29 with value: 0.7538203772211709.\u001b[0m\n",
      "\u001b[32m[I 2020-12-31 00:57:30,317]\u001b[0m Trial 37 finished with value: 0.735356285518548 and parameters: {'max_depth': 7, 'n_estimators': 260, 'class_weight': {0: 1.0, 1: 16}, 'min_samples_leaf': 0.00019802029751511983}. Best is trial 29 with value: 0.7538203772211709.\u001b[0m\n",
      "\u001b[32m[I 2020-12-31 01:02:12,360]\u001b[0m Trial 38 finished with value: 0.7514353948573989 and parameters: {'max_depth': 26, 'n_estimators': 550, 'class_weight': {0: 1.0, 1: 12}, 'min_samples_leaf': 1.8949164122050068e-05}. Best is trial 29 with value: 0.7538203772211709.\u001b[0m\n",
      "\u001b[32m[I 2020-12-31 01:04:18,990]\u001b[0m Trial 39 finished with value: 0.7155219753621747 and parameters: {'max_depth': 4, 'n_estimators': 990, 'class_weight': 'balanced', 'min_samples_leaf': 0.049247072490324034}. Best is trial 29 with value: 0.7538203772211709.\u001b[0m\n",
      "\u001b[32m[I 2020-12-31 01:09:36,891]\u001b[0m Trial 40 finished with value: 0.7484717639594268 and parameters: {'max_depth': 15, 'n_estimators': 850, 'class_weight': 'balanced', 'min_samples_leaf': 0.0006585664702356335}. Best is trial 29 with value: 0.7538203772211709.\u001b[0m\n",
      "\u001b[32m[I 2020-12-31 01:14:07,098]\u001b[0m Trial 41 finished with value: 0.7522736163565946 and parameters: {'max_depth': 30, 'n_estimators': 520, 'class_weight': 'balanced', 'min_samples_leaf': 2.7021618921438037e-05}. Best is trial 29 with value: 0.7538203772211709.\u001b[0m\n",
      "\u001b[32m[I 2020-12-31 01:18:55,542]\u001b[0m Trial 42 finished with value: 0.7535007526587594 and parameters: {'max_depth': 33, 'n_estimators': 600, 'class_weight': 'balanced', 'min_samples_leaf': 8.231030594851692e-05}. Best is trial 29 with value: 0.7538203772211709.\u001b[0m\n",
      "\u001b[32m[I 2020-12-31 01:24:15,913]\u001b[0m Trial 43 finished with value: 0.7534090660300969 and parameters: {'max_depth': 33, 'n_estimators': 670, 'class_weight': 'balanced', 'min_samples_leaf': 8.778077897343086e-05}. Best is trial 29 with value: 0.7538203772211709.\u001b[0m\n",
      "\u001b[32m[I 2020-12-31 01:29:40,140]\u001b[0m Trial 44 finished with value: 0.7528461376027089 and parameters: {'max_depth': 36, 'n_estimators': 690, 'class_weight': {0: 1.0, 1: 17}, 'min_samples_leaf': 9.921198052085938e-05}. Best is trial 29 with value: 0.7538203772211709.\u001b[0m\n",
      "\u001b[32m[I 2020-12-31 01:35:06,687]\u001b[0m Trial 45 finished with value: 0.7513956619396532 and parameters: {'max_depth': 33, 'n_estimators': 770, 'class_weight': 'balanced', 'min_samples_leaf': 0.0002871674763668341}. Best is trial 29 with value: 0.7538203772211709.\u001b[0m\n",
      "\u001b[32m[I 2020-12-31 01:44:22,635]\u001b[0m Trial 46 finished with value: 0.7541648322752499 and parameters: {'max_depth': 41, 'n_estimators': 1160, 'class_weight': {0: 1.0, 1: 13}, 'min_samples_leaf': 7.585412943078375e-05}. Best is trial 46 with value: 0.7541648322752499.\u001b[0m\n",
      "\u001b[32m[I 2020-12-31 01:53:36,568]\u001b[0m Trial 47 finished with value: 0.7531878200745588 and parameters: {'max_depth': 41, 'n_estimators': 1220, 'class_weight': {0: 1.0, 1: 13}, 'min_samples_leaf': 0.00014263036220630638}. Best is trial 46 with value: 0.7541648322752499.\u001b[0m\n",
      "\u001b[32m[I 2020-12-31 02:02:31,348]\u001b[0m Trial 48 finished with value: 0.7536731023205754 and parameters: {'max_depth': 28, 'n_estimators': 1120, 'class_weight': {0: 1.0, 1: 13}, 'min_samples_leaf': 7.792605867618102e-05}. Best is trial 46 with value: 0.7541648322752499.\u001b[0m\n",
      "\u001b[32m[I 2020-12-31 02:12:20,925]\u001b[0m Trial 49 finished with value: 0.75161532205398 and parameters: {'max_depth': 23, 'n_estimators': 1390, 'class_weight': {0: 1.0, 1: 13}, 'min_samples_leaf': 0.00027442012247658713}. Best is trial 46 with value: 0.7541648322752499.\u001b[0m\n"
     ]
    }
   ],
   "source": [
    "# Extracting the best model parameters and best study score\n",
    "best_study_score,best_study_params = study_best_score_params(X_train, y_train, rf_o, objective_wrappper_rf, cv_strat,\n",
    "                                                            cl_weight, n_trials=50)"
   ]
  },
  {
   "cell_type": "code",
   "execution_count": 46,
   "metadata": {},
   "outputs": [
    {
     "name": "stdout",
     "output_type": "stream",
     "text": [
      "The best roc_auc_score for the study is:  0.7541648322752499\n"
     ]
    }
   ],
   "source": [
    "print('The best roc_auc_score for the study is: ',best_study_score)"
   ]
  },
  {
   "cell_type": "code",
   "execution_count": 47,
   "metadata": {},
   "outputs": [
    {
     "name": "stdout",
     "output_type": "stream",
     "text": [
      "The best study parameters for the classifier are:  {'max_depth': 41, 'n_estimators': 1160, 'class_weight': {0: 1.0, 1: 13}, 'min_samples_leaf': 7.585412943078375e-05}\n"
     ]
    }
   ],
   "source": [
    "print('The best study parameters for the classifier are: ',best_study_params)"
   ]
  },
  {
   "cell_type": "code",
   "execution_count": 48,
   "metadata": {},
   "outputs": [],
   "source": [
    "# Obtaining the best optuna tuned RF model by setting best study parameters.\n",
    "rf_o = rf_o.set_params(**best_study_params)"
   ]
  },
  {
   "cell_type": "code",
   "execution_count": 49,
   "metadata": {},
   "outputs": [
    {
     "data": {
      "text/plain": [
       "RandomForestClassifier(class_weight={0: 1.0, 1: 13}, max_depth=41,\n",
       "                       min_samples_leaf=7.585412943078375e-05,\n",
       "                       n_estimators=1160, n_jobs=5, random_state=42)"
      ]
     },
     "execution_count": 49,
     "metadata": {},
     "output_type": "execute_result"
    }
   ],
   "source": [
    "# fitting the best optima tuned Random Forest model on the training set\n",
    "rf_o.fit(X_train, y_train)"
   ]
  },
  {
   "cell_type": "code",
   "execution_count": 53,
   "metadata": {},
   "outputs": [
    {
     "name": "stdout",
     "output_type": "stream",
     "text": [
      "The roc_auc_score for the reduced feature training set using the best Optuna tuned Random Forest Clasiifier is  0.9840878957953668\n"
     ]
    }
   ],
   "source": [
    "# Calculating the reduced feature training set roc_auc score using the best study parameters\n",
    "cal_roc_auc(X_train, y_train, rf_o, 'reduced feature', 'training', 'Optuna tuned Random Forest Clasiifier')"
   ]
  },
  {
   "cell_type": "code",
   "execution_count": 73,
   "metadata": {},
   "outputs": [
    {
     "name": "stdout",
     "output_type": "stream",
     "text": [
      "The roc_auc_score for the reduced feature test set using the best Optuna tuned Random Forest Clasiifier is  0.7600334496125078\n"
     ]
    }
   ],
   "source": [
    "# Calculating the reduced feature test set roc_auc score using the best study parameters\n",
    "cal_roc_auc(X_test, y_test, rf_o, 'reduced feature', 'test', 'Optuna tuned Random Forest Clasiifier')"
   ]
  },
  {
   "cell_type": "code",
   "execution_count": 58,
   "metadata": {},
   "outputs": [
    {
     "data": {
      "text/plain": [
       "['Rand_Forest_optuna_1.joblib']"
      ]
     },
     "execution_count": 58,
     "metadata": {},
     "output_type": "execute_result"
    }
   ],
   "source": [
    "# Saving the best RF model tuned via Optuna\n",
    "import joblib\n",
    "joblib.dump(rf_o,'Rand_Forest_optuna_1.joblib')"
   ]
  },
  {
   "cell_type": "markdown",
   "metadata": {},
   "source": [
    "### Calculating R_R ratio for best Random forest Classifier tuned through Optuna."
   ]
  },
  {
   "cell_type": "code",
   "execution_count": 59,
   "metadata": {},
   "outputs": [],
   "source": [
    "# Computing the CV scores using sklearn's cross_val_score\n",
    "score_Rand_forest = cross_val_score(rf_o, X_train, y_train, cv=cv_strat, n_jobs=5, scoring='roc_auc')"
   ]
  },
  {
   "cell_type": "code",
   "execution_count": 60,
   "metadata": {},
   "outputs": [
    {
     "name": "stdout",
     "output_type": "stream",
     "text": [
      "The reward associated with the best optuna tuned Random Forest Classifier using roc_auc metric is:  0.7541648322752499\n"
     ]
    }
   ],
   "source": [
    "print('The reward associated with the best optuna tuned Random Forest Classifier using roc_auc metric is: ',np.mean(score_Rand_forest))"
   ]
  },
  {
   "cell_type": "code",
   "execution_count": 61,
   "metadata": {},
   "outputs": [
    {
     "name": "stdout",
     "output_type": "stream",
     "text": [
      "The risk associated with the best optuna tuned Random Forest Classifier using roc_auc metric is:  0.00424937719463016\n"
     ]
    }
   ],
   "source": [
    "print('The risk associated with the best optuna tuned Random Forest Classifier using roc_auc metric is: ',np.std(score_Rand_forest))"
   ]
  },
  {
   "cell_type": "code",
   "execution_count": 62,
   "metadata": {},
   "outputs": [],
   "source": [
    "R_R_Ratio_Rand_forest = np.mean(score_Rand_forest)/np.std(score_Rand_forest)"
   ]
  },
  {
   "cell_type": "code",
   "execution_count": 63,
   "metadata": {},
   "outputs": [
    {
     "name": "stdout",
     "output_type": "stream",
     "text": [
      "The reward risk ratio for the best optuna tuned Random Forest Classifier using roc_auc metric is:  177.47655661829\n"
     ]
    }
   ],
   "source": [
    "print('The reward risk ratio for the best optuna tuned Random Forest Classifier using roc_auc metric is: ',R_R_Ratio_Rand_forest)"
   ]
  },
  {
   "cell_type": "code",
   "execution_count": 64,
   "metadata": {},
   "outputs": [
    {
     "name": "stdout",
     "output_type": "stream",
     "text": [
      "5 fold CV roc_auc scores for the Random Forest classifier are:  [0.75036356 0.74880703 0.76041787 0.75699757 0.75423814]\n"
     ]
    }
   ],
   "source": [
    "print('5 fold CV roc_auc scores for the optuna tuned Random Forest classifier are: ',score_Rand_forest)"
   ]
  },
  {
   "cell_type": "markdown",
   "metadata": {},
   "source": [
    "#### R_R Ratio for the optuna tuned Random Forest classifier_1 using roc_auc metric is: 177.47655661829"
   ]
  },
  {
   "cell_type": "markdown",
   "metadata": {},
   "source": [
    "## Observation(s):\n",
    "### 1) The Optuna tuned Random Forest Classifier_1, rf_o,  is again severly overfitting , as can be viewed from the above results . Lets further try to reduce overfitting by incorporating more regularization."
   ]
  },
  {
   "cell_type": "code",
   "execution_count": 65,
   "metadata": {},
   "outputs": [],
   "source": [
    "# Instantiating a new Random forest classifier\n",
    "rf_o_1 = RandomForestClassifier(n_jobs=5, random_state=42)"
   ]
  },
  {
   "cell_type": "code",
   "execution_count": 66,
   "metadata": {},
   "outputs": [],
   "source": [
    "# Class weights for more regularized Rf classifier\n",
    "cl_weight_reg = ['balanced',{0:1.0,1:12},{0:1.0,1:13},{0:1.0,1:14},{0:1.0,1:15},{0:1.0,1:16},\n",
    "            {0:1.0,1:17}]"
   ]
  },
  {
   "cell_type": "code",
   "execution_count": 67,
   "metadata": {},
   "outputs": [],
   "source": [
    "# Defining the appropriate objective function for more regularized Random Forest classifier\n",
    "def objective_wrappper_rf_reg(X_tr, y_tr, cls=None, cv_strat=None, cl_w=None):\n",
    "    '''\n",
    "    Optimizes Random Forest parameters on the given training set X_tr,y_tr\n",
    "    using cv_strat cross-validation  & cl_w class weight objects.\n",
    "    \n",
    "    '''\n",
    "    \n",
    "    def objective(trial):\n",
    "        params = {\n",
    "        'max_depth': trial.suggest_categorical('max_depth',list(range(2,35))),\n",
    "        'n_estimators':trial.suggest_int('n_estimators',100,1200,10), # More regularization\n",
    "        'class_weight':trial.suggest_categorical('class_weight',cl_w), # More Regularization\n",
    "        'min_samples_leaf':trial.suggest_loguniform('min_samples_leaf',.0005,.1) # More Regularization\n",
    "          }\n",
    "        \n",
    "        cls.set_params(**params)#Initializing the model with the parameters \n",
    "    \n",
    "        return np.mean(cross_val_score(cls, X_tr, y_tr, cv=cv_strat, n_jobs=5, scoring='roc_auc'))  \n",
    "    return objective"
   ]
  },
  {
   "cell_type": "markdown",
   "metadata": {},
   "source": [
    "#### Computing the best hyperparameters for the Random Forest Classifier_2  using Optuna."
   ]
  },
  {
   "cell_type": "code",
   "execution_count": 68,
   "metadata": {},
   "outputs": [
    {
     "name": "stderr",
     "output_type": "stream",
     "text": [
      "\u001b[32m[I 2020-12-31 03:33:10,958]\u001b[0m A new study created in memory with name: no-name-104d2c47-bbbc-4dc2-86b4-151d97f5ef36\u001b[0m\n",
      "\u001b[32m[I 2020-12-31 03:39:34,003]\u001b[0m Trial 0 finished with value: 0.7448703589583614 and parameters: {'max_depth': 19, 'n_estimators': 1130, 'class_weight': 'balanced', 'min_samples_leaf': 0.0014868275641910663}. Best is trial 0 with value: 0.7448703589583614.\u001b[0m\n",
      "\u001b[32m[I 2020-12-31 03:41:49,910]\u001b[0m Trial 1 finished with value: 0.7157702182760699 and parameters: {'max_depth': 28, 'n_estimators': 1030, 'class_weight': 'balanced', 'min_samples_leaf': 0.05155741738991816}. Best is trial 0 with value: 0.7448703589583614.\u001b[0m\n",
      "\u001b[32m[I 2020-12-31 03:42:27,233]\u001b[0m Trial 2 finished with value: 0.7264948826222184 and parameters: {'max_depth': 5, 'n_estimators': 190, 'class_weight': {0: 1.0, 1: 17}, 'min_samples_leaf': 0.0015705319704820558}. Best is trial 0 with value: 0.7448703589583614.\u001b[0m\n",
      "\u001b[32m[I 2020-12-31 03:43:49,946]\u001b[0m Trial 3 finished with value: 0.7416874364649576 and parameters: {'max_depth': 13, 'n_estimators': 260, 'class_weight': {0: 1.0, 1: 17}, 'min_samples_leaf': 0.00200363422249862}. Best is trial 0 with value: 0.7448703589583614.\u001b[0m\n",
      "\u001b[32m[I 2020-12-31 03:45:18,924]\u001b[0m Trial 4 finished with value: 0.7321610622273248 and parameters: {'max_depth': 25, 'n_estimators': 370, 'class_weight': {0: 1.0, 1: 17}, 'min_samples_leaf': 0.008686156754805793}. Best is trial 0 with value: 0.7448703589583614.\u001b[0m\n",
      "\u001b[32m[I 2020-12-31 03:45:32,974]\u001b[0m Trial 5 finished with value: 0.7052563804132344 and parameters: {'max_depth': 2, 'n_estimators': 150, 'class_weight': 'balanced', 'min_samples_leaf': 0.012590141211529607}. Best is trial 0 with value: 0.7448703589583614.\u001b[0m\n",
      "\u001b[32m[I 2020-12-31 03:46:56,988]\u001b[0m Trial 6 finished with value: 0.7127669155803147 and parameters: {'max_depth': 3, 'n_estimators': 680, 'class_weight': {0: 1.0, 1: 17}, 'min_samples_leaf': 0.016168811556535472}. Best is trial 0 with value: 0.7448703589583614.\u001b[0m\n",
      "\u001b[32m[I 2020-12-31 03:47:22,658]\u001b[0m Trial 7 finished with value: 0.7053756419530985 and parameters: {'max_depth': 2, 'n_estimators': 280, 'class_weight': {0: 1.0, 1: 13}, 'min_samples_leaf': 0.01700094491821535}. Best is trial 0 with value: 0.7448703589583614.\u001b[0m\n",
      "\u001b[32m[I 2020-12-31 03:48:49,240]\u001b[0m Trial 8 finished with value: 0.737998413070357 and parameters: {'max_depth': 17, 'n_estimators': 310, 'class_weight': {0: 1.0, 1: 12}, 'min_samples_leaf': 0.004286613518182284}. Best is trial 0 with value: 0.7448703589583614.\u001b[0m\n",
      "\u001b[32m[I 2020-12-31 03:51:51,577]\u001b[0m Trial 9 finished with value: 0.7429469920922079 and parameters: {'max_depth': 18, 'n_estimators': 570, 'class_weight': {0: 1.0, 1: 13}, 'min_samples_leaf': 0.0019520649834279622}. Best is trial 0 with value: 0.7448703589583614.\u001b[0m\n",
      "\u001b[32m[I 2020-12-31 03:54:07,941]\u001b[0m Trial 10 finished with value: 0.7122178202931538 and parameters: {'max_depth': 29, 'n_estimators': 1140, 'class_weight': {0: 1.0, 1: 15}, 'min_samples_leaf': 0.061530440428061606}. Best is trial 0 with value: 0.7448703589583614.\u001b[0m\n",
      "\u001b[32m[I 2020-12-31 03:58:20,165]\u001b[0m Trial 11 finished with value: 0.7464165932116549 and parameters: {'max_depth': 18, 'n_estimators': 710, 'class_weight': {0: 1.0, 1: 14}, 'min_samples_leaf': 0.0010157190222447906}. Best is trial 11 with value: 0.7464165932116549.\u001b[0m\n",
      "\u001b[32m[I 2020-12-31 04:03:31,716]\u001b[0m Trial 12 finished with value: 0.7460270815753105 and parameters: {'max_depth': 19, 'n_estimators': 890, 'class_weight': {0: 1.0, 1: 14}, 'min_samples_leaf': 0.0011220789108271874}. Best is trial 11 with value: 0.7464165932116549.\u001b[0m\n",
      "\u001b[32m[I 2020-12-31 04:07:42,645]\u001b[0m Trial 13 finished with value: 0.7388285069932536 and parameters: {'max_depth': 31, 'n_estimators': 880, 'class_weight': {0: 1.0, 1: 14}, 'min_samples_leaf': 0.003715239159789776}. Best is trial 11 with value: 0.7464165932116549.\u001b[0m\n",
      "\u001b[32m[I 2020-12-31 04:11:04,873]\u001b[0m Trial 14 finished with value: 0.736398468794828 and parameters: {'max_depth': 7, 'n_estimators': 800, 'class_weight': {0: 1.0, 1: 14}, 'min_samples_leaf': 0.001084447516196552}. Best is trial 11 with value: 0.7464165932116549.\u001b[0m\n",
      "\u001b[32m[I 2020-12-31 04:13:51,061]\u001b[0m Trial 15 finished with value: 0.7383122833844314 and parameters: {'max_depth': 30, 'n_estimators': 590, 'class_weight': {0: 1.0, 1: 14}, 'min_samples_leaf': 0.003935091500033408}. Best is trial 11 with value: 0.7464165932116549.\u001b[0m\n",
      "\u001b[32m[I 2020-12-31 04:17:44,457]\u001b[0m Trial 16 finished with value: 0.7344406486542061 and parameters: {'max_depth': 19, 'n_estimators': 930, 'class_weight': {0: 1.0, 1: 16}, 'min_samples_leaf': 0.006711895549412184}. Best is trial 11 with value: 0.7464165932116549.\u001b[0m\n",
      "\u001b[32m[I 2020-12-31 04:22:11,612]\u001b[0m Trial 17 finished with value: 0.7456095011182566 and parameters: {'max_depth': 22, 'n_estimators': 770, 'class_weight': {0: 1.0, 1: 14}, 'min_samples_leaf': 0.001150947194486654}. Best is trial 11 with value: 0.7464165932116549.\u001b[0m\n",
      "\u001b[32m[I 2020-12-31 04:23:21,004]\u001b[0m Trial 18 finished with value: 0.7188179901519532 and parameters: {'max_depth': 15, 'n_estimators': 460, 'class_weight': {0: 1.0, 1: 14}, 'min_samples_leaf': 0.03756876500132205}. Best is trial 11 with value: 0.7464165932116549.\u001b[0m\n",
      "\u001b[32m[I 2020-12-31 04:28:03,583]\u001b[0m Trial 19 finished with value: 0.7397448779153268 and parameters: {'max_depth': 9, 'n_estimators': 1000, 'class_weight': {0: 1.0, 1: 12}, 'min_samples_leaf': 0.002553120691757071}. Best is trial 11 with value: 0.7464165932116549.\u001b[0m\n",
      "\u001b[32m[I 2020-12-31 04:32:10,975]\u001b[0m Trial 20 finished with value: 0.7458415266091479 and parameters: {'max_depth': 27, 'n_estimators': 710, 'class_weight': {0: 1.0, 1: 15}, 'min_samples_leaf': 0.0011184376287230624}. Best is trial 11 with value: 0.7464165932116549.\u001b[0m\n",
      "\u001b[32m[I 2020-12-31 04:34:45,339]\u001b[0m Trial 21 finished with value: 0.7320881063057685 and parameters: {'max_depth': 6, 'n_estimators': 690, 'class_weight': {0: 1.0, 1: 15}, 'min_samples_leaf': 0.0010917696806205513}. Best is trial 11 with value: 0.7464165932116549.\u001b[0m\n",
      "\u001b[32m[I 2020-12-31 04:39:25,833]\u001b[0m Trial 22 finished with value: 0.7459780708879036 and parameters: {'max_depth': 27, 'n_estimators': 800, 'class_weight': {0: 1.0, 1: 15}, 'min_samples_leaf': 0.0010731593163629915}. Best is trial 11 with value: 0.7464165932116549.\u001b[0m\n",
      "\u001b[32m[I 2020-12-31 04:43:37,337]\u001b[0m Trial 23 finished with value: 0.7405964073214406 and parameters: {'max_depth': 24, 'n_estimators': 840, 'class_weight': {0: 1.0, 1: 16}, 'min_samples_leaf': 0.0027602232472510074}. Best is trial 11 with value: 0.7464165932116549.\u001b[0m\n",
      "\u001b[32m[I 2020-12-31 04:48:50,754]\u001b[0m Trial 24 finished with value: 0.744098226056457 and parameters: {'max_depth': 21, 'n_estimators': 950, 'class_weight': {0: 1.0, 1: 15}, 'min_samples_leaf': 0.0015742485438108324}. Best is trial 11 with value: 0.7464165932116549.\u001b[0m\n",
      "\u001b[32m[I 2020-12-31 04:52:07,854]\u001b[0m Trial 25 finished with value: 0.745232528255685 and parameters: {'max_depth': 12, 'n_estimators': 580, 'class_weight': {0: 1.0, 1: 14}, 'min_samples_leaf': 0.0010385151171435185}. Best is trial 11 with value: 0.7464165932116549.\u001b[0m\n",
      "\u001b[32m[I 2020-12-31 04:56:02,547]\u001b[0m Trial 26 finished with value: 0.7413070611533038 and parameters: {'max_depth': 23, 'n_estimators': 770, 'class_weight': {0: 1.0, 1: 14}, 'min_samples_leaf': 0.0025333302175375495}. Best is trial 11 with value: 0.7464165932116549.\u001b[0m\n",
      "\u001b[32m[I 2020-12-31 05:00:43,295]\u001b[0m Trial 27 finished with value: 0.7367735899079249 and parameters: {'max_depth': 32, 'n_estimators': 1050, 'class_weight': {0: 1.0, 1: 15}, 'min_samples_leaf': 0.005035551672977485}. Best is trial 11 with value: 0.7464165932116549.\u001b[0m\n",
      "\u001b[32m[I 2020-12-31 05:03:12,606]\u001b[0m Trial 28 finished with value: 0.7231362140437249 and parameters: {'max_depth': 8, 'n_estimators': 880, 'class_weight': {0: 1.0, 1: 14}, 'min_samples_leaf': 0.02689775518572042}. Best is trial 11 with value: 0.7464165932116549.\u001b[0m\n",
      "\u001b[32m[I 2020-12-31 05:03:59,783]\u001b[0m Trial 29 finished with value: 0.7072789601177067 and parameters: {'max_depth': 27, 'n_estimators': 470, 'class_weight': {0: 1.0, 1: 16}, 'min_samples_leaf': 0.08720389187301564}. Best is trial 11 with value: 0.7464165932116549.\u001b[0m\n",
      "\u001b[32m[I 2020-12-31 05:10:07,220]\u001b[0m Trial 30 finished with value: 0.7442807376869792 and parameters: {'max_depth': 34, 'n_estimators': 1110, 'class_weight': {0: 1.0, 1: 12}, 'min_samples_leaf': 0.0015672739929972915}. Best is trial 11 with value: 0.7464165932116549.\u001b[0m\n"
     ]
    },
    {
     "name": "stderr",
     "output_type": "stream",
     "text": [
      "\u001b[32m[I 2020-12-31 05:14:25,279]\u001b[0m Trial 31 finished with value: 0.7462321267649864 and parameters: {'max_depth': 27, 'n_estimators': 720, 'class_weight': {0: 1.0, 1: 15}, 'min_samples_leaf': 0.0010022115128004443}. Best is trial 11 with value: 0.7464165932116549.\u001b[0m\n",
      "\u001b[32m[I 2020-12-31 05:18:37,058]\u001b[0m Trial 32 finished with value: 0.7448554307349707 and parameters: {'max_depth': 18, 'n_estimators': 740, 'class_weight': {0: 1.0, 1: 15}, 'min_samples_leaf': 0.001332319638362206}. Best is trial 11 with value: 0.7464165932116549.\u001b[0m\n",
      "\u001b[32m[I 2020-12-31 05:22:04,036]\u001b[0m Trial 33 finished with value: 0.742478293784837 and parameters: {'max_depth': 27, 'n_estimators': 650, 'class_weight': {0: 1.0, 1: 15}, 'min_samples_leaf': 0.00201872667460662}. Best is trial 11 with value: 0.7464165932116549.\u001b[0m\n",
      "\u001b[32m[I 2020-12-31 05:26:20,733]\u001b[0m Trial 34 finished with value: 0.7427909169102124 and parameters: {'max_depth': 10, 'n_estimators': 830, 'class_weight': 'balanced', 'min_samples_leaf': 0.0014846860707006977}. Best is trial 11 with value: 0.7464165932116549.\u001b[0m\n",
      "\u001b[32m[I 2020-12-31 05:31:18,207]\u001b[0m Trial 35 finished with value: 0.7429634761317774 and parameters: {'max_depth': 26, 'n_estimators': 930, 'class_weight': {0: 1.0, 1: 15}, 'min_samples_leaf': 0.0019119597161846545}. Best is trial 11 with value: 0.7464165932116549.\u001b[0m\n",
      "\u001b[32m[I 2020-12-31 05:34:22,351]\u001b[0m Trial 36 finished with value: 0.739915719078884 and parameters: {'max_depth': 11, 'n_estimators': 630, 'class_weight': {0: 1.0, 1: 14}, 'min_samples_leaf': 0.003006124308033747}. Best is trial 11 with value: 0.7464165932116549.\u001b[0m\n",
      "\u001b[32m[I 2020-12-31 05:37:23,893]\u001b[0m Trial 37 finished with value: 0.7465167248163099 and parameters: {'max_depth': 20, 'n_estimators': 510, 'class_weight': 'balanced', 'min_samples_leaf': 0.0010352869899183915}. Best is trial 37 with value: 0.7465167248163099.\u001b[0m\n",
      "\u001b[32m[I 2020-12-31 05:40:27,876]\u001b[0m Trial 38 finished with value: 0.7464594418061946 and parameters: {'max_depth': 14, 'n_estimators': 520, 'class_weight': 'balanced', 'min_samples_leaf': 0.0010012399641319042}. Best is trial 37 with value: 0.7465167248163099.\u001b[0m\n",
      "\u001b[32m[I 2020-12-31 05:42:49,752]\u001b[0m Trial 39 finished with value: 0.7445461856291876 and parameters: {'max_depth': 20, 'n_estimators': 420, 'class_weight': 'balanced', 'min_samples_leaf': 0.0014610822679881038}. Best is trial 37 with value: 0.7465167248163099.\u001b[0m\n",
      "\u001b[32m[I 2020-12-31 05:45:33,908]\u001b[0m Trial 40 finished with value: 0.7425964709972309 and parameters: {'max_depth': 14, 'n_estimators': 520, 'class_weight': 'balanced', 'min_samples_leaf': 0.0021592698158057963}. Best is trial 37 with value: 0.7465167248163099.\u001b[0m\n",
      "\u001b[32m[I 2020-12-31 05:47:41,158]\u001b[0m Trial 41 finished with value: 0.7452664037341992 and parameters: {'max_depth': 20, 'n_estimators': 370, 'class_weight': 'balanced', 'min_samples_leaf': 0.0012997350863144512}. Best is trial 37 with value: 0.7465167248163099.\u001b[0m\n",
      "\u001b[32m[I 2020-12-31 05:50:34,420]\u001b[0m Trial 42 finished with value: 0.7437195676938508 and parameters: {'max_depth': 33, 'n_estimators': 530, 'class_weight': 'balanced', 'min_samples_leaf': 0.0017513993175287312}. Best is trial 37 with value: 0.7465167248163099.\u001b[0m\n",
      "\u001b[32m[I 2020-12-31 05:54:22,775]\u001b[0m Trial 43 finished with value: 0.7463720413653091 and parameters: {'max_depth': 16, 'n_estimators': 640, 'class_weight': 'balanced', 'min_samples_leaf': 0.0010285783813821778}. Best is trial 37 with value: 0.7465167248163099.\u001b[0m\n",
      "\u001b[32m[I 2020-12-31 05:56:03,978]\u001b[0m Trial 44 finished with value: 0.7227260514877406 and parameters: {'max_depth': 4, 'n_estimators': 630, 'class_weight': 'balanced', 'min_samples_leaf': 0.0010316892156143733}. Best is trial 37 with value: 0.7465167248163099.\u001b[0m\n",
      "\u001b[32m[I 2020-12-31 05:59:00,033]\u001b[0m Trial 45 finished with value: 0.7454486607741714 and parameters: {'max_depth': 16, 'n_estimators': 510, 'class_weight': 'balanced', 'min_samples_leaf': 0.0012749264504208788}. Best is trial 37 with value: 0.7465167248163099.\u001b[0m\n",
      "\u001b[32m[I 2020-12-31 06:01:08,180]\u001b[0m Trial 46 finished with value: 0.7416975812916818 and parameters: {'max_depth': 16, 'n_estimators': 410, 'class_weight': {0: 1.0, 1: 17}, 'min_samples_leaf': 0.0022654033733571135}. Best is trial 37 with value: 0.7465167248163099.\u001b[0m\n",
      "\u001b[32m[I 2020-12-31 06:04:30,752]\u001b[0m Trial 47 finished with value: 0.746517873003846 and parameters: {'max_depth': 18, 'n_estimators': 570, 'class_weight': {0: 1.0, 1: 13}, 'min_samples_leaf': 0.0010028580411287713}. Best is trial 47 with value: 0.746517873003846.\u001b[0m\n",
      "\u001b[32m[I 2020-12-31 06:05:36,610]\u001b[0m Trial 48 finished with value: 0.7432152855374606 and parameters: {'max_depth': 18, 'n_estimators': 200, 'class_weight': {0: 1.0, 1: 13}, 'min_samples_leaf': 0.0017175412178022534}. Best is trial 47 with value: 0.746517873003846.\u001b[0m\n",
      "\u001b[32m[I 2020-12-31 06:07:40,915]\u001b[0m Trial 49 finished with value: 0.7303039147083423 and parameters: {'max_depth': 18, 'n_estimators': 560, 'class_weight': {0: 1.0, 1: 13}, 'min_samples_leaf': 0.01151949883905926}. Best is trial 47 with value: 0.746517873003846.\u001b[0m\n"
     ]
    }
   ],
   "source": [
    "# Extracting the best model parameters and best study score\n",
    "best_study_score,best_study_params = study_best_score_params(X_train, y_train, rf_o_1, objective_wrappper_rf_reg, cv_strat,\n",
    "                                                            cl_weight_reg, n_trials=50)"
   ]
  },
  {
   "cell_type": "code",
   "execution_count": 69,
   "metadata": {},
   "outputs": [
    {
     "name": "stdout",
     "output_type": "stream",
     "text": [
      "The best roc_auc_score for the study is:  0.746517873003846\n"
     ]
    }
   ],
   "source": [
    "print('The best roc_auc_score for the study is: ',best_study_score)"
   ]
  },
  {
   "cell_type": "code",
   "execution_count": 70,
   "metadata": {},
   "outputs": [
    {
     "name": "stdout",
     "output_type": "stream",
     "text": [
      "The best study parameters for the classifier are:  {'max_depth': 18, 'n_estimators': 570, 'class_weight': {0: 1.0, 1: 13}, 'min_samples_leaf': 0.0010028580411287713}\n"
     ]
    }
   ],
   "source": [
    "print('The best study parameters for the classifier are: ',best_study_params)"
   ]
  },
  {
   "cell_type": "code",
   "execution_count": 71,
   "metadata": {},
   "outputs": [],
   "source": [
    "# Obtaining the best optuna tuned RF model by setting best study parameters.\n",
    "rf_o_1 = rf_o_1.set_params(**best_study_params)"
   ]
  },
  {
   "cell_type": "code",
   "execution_count": 72,
   "metadata": {},
   "outputs": [
    {
     "data": {
      "text/plain": [
       "RandomForestClassifier(class_weight={0: 1.0, 1: 13}, max_depth=18,\n",
       "                       min_samples_leaf=0.0010028580411287713, n_estimators=570,\n",
       "                       n_jobs=5, random_state=42)"
      ]
     },
     "execution_count": 72,
     "metadata": {},
     "output_type": "execute_result"
    }
   ],
   "source": [
    "# fitting the best more regularized optima tuned Random Forest model on the training set\n",
    "rf_o_1.fit(X_train, y_train)"
   ]
  },
  {
   "cell_type": "code",
   "execution_count": 76,
   "metadata": {},
   "outputs": [
    {
     "name": "stdout",
     "output_type": "stream",
     "text": [
      "The roc_auc_score for the reduced feature training set using the best Optuna tuned more regualrized Random Forest Clasiifier_2 is  0.8019391919388983\n"
     ]
    }
   ],
   "source": [
    "# Calculating the reduced feature training set roc_auc score using the best study parameters\n",
    "cal_roc_auc(X_train, y_train, rf_o_1, 'reduced feature', 'training', 'Optuna tuned more regularized Random Forest Clasiifier_2')"
   ]
  },
  {
   "cell_type": "code",
   "execution_count": 77,
   "metadata": {},
   "outputs": [
    {
     "name": "stdout",
     "output_type": "stream",
     "text": [
      "The roc_auc_score for the reduced feature test set using the best Optuna tuned more regularized Random Forest Clasiifier_2 is  0.7516519945423706\n"
     ]
    }
   ],
   "source": [
    "# Calculating the reduced feature test set roc_auc score using the best study parameters\n",
    "cal_roc_auc(X_test, y_test, rf_o_1, 'reduced feature', 'test', 'Optuna tuned more regularized Random Forest Clasiifier_2')"
   ]
  },
  {
   "cell_type": "code",
   "execution_count": 78,
   "metadata": {},
   "outputs": [
    {
     "data": {
      "text/plain": [
       "['Rand_Forest_optuna_reg_2.joblib']"
      ]
     },
     "execution_count": 78,
     "metadata": {},
     "output_type": "execute_result"
    }
   ],
   "source": [
    "# Saving the best RF model tuned via Optuna\n",
    "import joblib\n",
    "joblib.dump(rf_o_1,'Rand_Forest_optuna_reg_2.joblib')"
   ]
  },
  {
   "cell_type": "markdown",
   "metadata": {},
   "source": [
    "### Calculating R_R ratio for regularized Random forest Classifier_2 tuned through Optuna."
   ]
  },
  {
   "cell_type": "code",
   "execution_count": 79,
   "metadata": {},
   "outputs": [],
   "source": [
    "# Computing the CV scores using sklearn's cross_val_score\n",
    "score_Rand_forest_2 = cross_val_score(rf_o_1, X_train, y_train, cv=cv_strat, n_jobs=5, scoring='roc_auc')"
   ]
  },
  {
   "cell_type": "code",
   "execution_count": 80,
   "metadata": {},
   "outputs": [
    {
     "name": "stdout",
     "output_type": "stream",
     "text": [
      "The reward associated with the best regularized optuna tuned Random Forest Classifier_2 using roc_auc metric is:  0.746517873003846\n"
     ]
    }
   ],
   "source": [
    "print('The reward associated with the best regularized optuna tuned Random Forest Classifier_2 using roc_auc metric is: ',np.mean(score_Rand_forest_2))"
   ]
  },
  {
   "cell_type": "code",
   "execution_count": 81,
   "metadata": {},
   "outputs": [
    {
     "name": "stdout",
     "output_type": "stream",
     "text": [
      "The risk associated with the best regularized tuned Random Forest Classifier_2 using roc_auc metric is:  0.004273470245644585\n"
     ]
    }
   ],
   "source": [
    "print('The risk associated with the best regularized tuned Random Forest Classifier_2 using roc_auc metric is: ',np.std(score_Rand_forest_2))"
   ]
  },
  {
   "cell_type": "code",
   "execution_count": 82,
   "metadata": {},
   "outputs": [],
   "source": [
    "R_R_Ratio_Rand_forest_2 = np.mean(score_Rand_forest_2)/np.std(score_Rand_forest_2)"
   ]
  },
  {
   "cell_type": "code",
   "execution_count": 83,
   "metadata": {},
   "outputs": [
    {
     "name": "stdout",
     "output_type": "stream",
     "text": [
      "The reward risk ratio for the best regularized optuna tuned Random Forest Classifier using roc_auc metric is:  174.68657322808752\n"
     ]
    }
   ],
   "source": [
    "print('The reward risk ratio for the best regularized optuna tuned Random Forest Classifier_2 using roc_auc metric is: ',R_R_Ratio_Rand_forest_2)"
   ]
  },
  {
   "cell_type": "code",
   "execution_count": 85,
   "metadata": {},
   "outputs": [
    {
     "name": "stdout",
     "output_type": "stream",
     "text": [
      "5 fold CV roc_auc scores for the optuna tuned regularized Random Forest classifier_2 are:  [0.74198364 0.74169125 0.75295654 0.74890931 0.74704863]\n"
     ]
    }
   ],
   "source": [
    "print('5 fold CV roc_auc scores for the optuna tuned regularized Random Forest classifier_2 are: ',score_Rand_forest_2)"
   ]
  },
  {
   "cell_type": "markdown",
   "metadata": {},
   "source": [
    "#### R_R Ratio for the Random Forest classifier_2 using roc_auc metric is: 174.68657322808752"
   ]
  },
  {
   "cell_type": "markdown",
   "metadata": {},
   "source": [
    "## Observation(s):\n",
    "### 1) The regularized  Random Forest Classifier_2 , rf_o_1, has reduced the overfitting by an appreciable amount, but test set roc_auc score & R_R ratio have suffered a bit as a result.  Lets try to increase both by further tuning, while keeping the overfitting under control."
   ]
  },
  {
   "cell_type": "code",
   "execution_count": 109,
   "metadata": {},
   "outputs": [],
   "source": [
    "# Instantiating a new Random forest classifier\n",
    "rf_o_2 = RandomForestClassifier(n_jobs=5, random_state=42)"
   ]
  },
  {
   "cell_type": "code",
   "execution_count": 110,
   "metadata": {},
   "outputs": [],
   "source": [
    "# Class weights for new regularized Rf classifier\n",
    "cl_weight_reg_2 = ['balanced',{0:1.0,1:12},{0:1.0,1:13},{0:1.0,1:14},{0:1.0,1:15},{0:1.0,1:16},\n",
    "            {0:1.0,1:17},{0:1.0,1:18}]"
   ]
  },
  {
   "cell_type": "code",
   "execution_count": 111,
   "metadata": {},
   "outputs": [],
   "source": [
    "# Defining the appropriate objective function for regularized Random Forest classifier\n",
    "def objective_wrappper_rf_reg_2(X_tr, y_tr, cls=None, cv_strat=None, cl_w=None):\n",
    "    '''\n",
    "    Optimizes Random Forest parameters on the given training set X_tr,y_tr\n",
    "    using cv_strat cross-validation & cl_w Class weights objects.\n",
    "    \n",
    "    '''\n",
    "    \n",
    "    def objective(trial):\n",
    "        params = {\n",
    "        'max_depth': trial.suggest_categorical('max_depth',list(range(2,35))),\n",
    "        'n_estimators':trial.suggest_int('n_estimators',400,2000,10),\n",
    "        'class_weight':trial.suggest_categorical('class_weight',cl_w),\n",
    "        'min_samples_leaf':trial.suggest_loguniform('min_samples_leaf',.0005,.1)\n",
    "          }\n",
    "        \n",
    "        cls.set_params(**params)#Initializing the model with the parameters \n",
    "    \n",
    "        return np.mean(cross_val_score(cls, X_tr, y_tr, cv=cv_strat, n_jobs=5, scoring='roc_auc'))  \n",
    "    return objective"
   ]
  },
  {
   "cell_type": "markdown",
   "metadata": {},
   "source": [
    "#### Computing the best hyperparameters for the Random Forest Classifier_3 using Optuna."
   ]
  },
  {
   "cell_type": "code",
   "execution_count": 112,
   "metadata": {},
   "outputs": [
    {
     "name": "stderr",
     "output_type": "stream",
     "text": [
      "\u001b[32m[I 2020-12-31 19:13:45,444]\u001b[0m A new study created in memory with name: no-name-12dad54c-2996-475f-9673-4642768e7e61\u001b[0m\n",
      "\u001b[32m[I 2020-12-31 19:16:52,701]\u001b[0m Trial 0 finished with value: 0.7142128341936669 and parameters: {'max_depth': 3, 'n_estimators': 1510, 'class_weight': 'balanced', 'min_samples_leaf': 0.0022116932852386285}. Best is trial 0 with value: 0.7142128341936669.\u001b[0m\n",
      "\u001b[32m[I 2020-12-31 19:19:19,360]\u001b[0m Trial 1 finished with value: 0.7379824094389383 and parameters: {'max_depth': 11, 'n_estimators': 530, 'class_weight': {0: 1.0, 1: 14}, 'min_samples_leaf': 0.004124759942579928}. Best is trial 1 with value: 0.7379824094389383.\u001b[0m\n",
      "\u001b[32m[I 2020-12-31 19:24:51,001]\u001b[0m Trial 2 finished with value: 0.746881681967061 and parameters: {'max_depth': 24, 'n_estimators': 920, 'class_weight': {0: 1.0, 1: 15}, 'min_samples_leaf': 0.0008873372493785122}. Best is trial 2 with value: 0.746881681967061.\u001b[0m\n",
      "\u001b[32m[I 2020-12-31 19:27:56,832]\u001b[0m Trial 3 finished with value: 0.7073230428092312 and parameters: {'max_depth': 16, 'n_estimators': 1840, 'class_weight': {0: 1.0, 1: 18}, 'min_samples_leaf': 0.08409703687916564}. Best is trial 2 with value: 0.746881681967061.\u001b[0m\n",
      "\u001b[32m[I 2020-12-31 19:30:29,270]\u001b[0m Trial 4 finished with value: 0.705205343088044 and parameters: {'max_depth': 24, 'n_estimators': 1660, 'class_weight': {0: 1.0, 1: 16}, 'min_samples_leaf': 0.09883578569066646}. Best is trial 2 with value: 0.746881681967061.\u001b[0m\n",
      "\u001b[32m[I 2020-12-31 19:37:09,580]\u001b[0m Trial 5 finished with value: 0.7320936584268238 and parameters: {'max_depth': 6, 'n_estimators': 1800, 'class_weight': {0: 1.0, 1: 14}, 'min_samples_leaf': 0.0014659634055728666}. Best is trial 2 with value: 0.746881681967061.\u001b[0m\n",
      "\u001b[32m[I 2020-12-31 19:39:33,938]\u001b[0m Trial 6 finished with value: 0.739775329687255 and parameters: {'max_depth': 8, 'n_estimators': 510, 'class_weight': 'balanced', 'min_samples_leaf': 0.0009931154529549016}. Best is trial 2 with value: 0.746881681967061.\u001b[0m\n",
      "\u001b[32m[I 2020-12-31 19:43:46,386]\u001b[0m Trial 7 finished with value: 0.7246313347372513 and parameters: {'max_depth': 29, 'n_estimators': 1360, 'class_weight': {0: 1.0, 1: 16}, 'min_samples_leaf': 0.020841189837625087}. Best is trial 2 with value: 0.746881681967061.\u001b[0m\n",
      "\u001b[32m[I 2020-12-31 19:46:54,488]\u001b[0m Trial 8 finished with value: 0.7472351639507333 and parameters: {'max_depth': 30, 'n_estimators': 500, 'class_weight': {0: 1.0, 1: 18}, 'min_samples_leaf': 0.00072796382452653}. Best is trial 8 with value: 0.7472351639507333.\u001b[0m\n",
      "\u001b[32m[I 2020-12-31 19:49:48,576]\u001b[0m Trial 9 finished with value: 0.7280295626550501 and parameters: {'max_depth': 5, 'n_estimators': 900, 'class_weight': {0: 1.0, 1: 12}, 'min_samples_leaf': 0.0018403971687953964}. Best is trial 8 with value: 0.7472351639507333.\u001b[0m\n",
      "\u001b[32m[I 2020-12-31 19:53:02,287]\u001b[0m Trial 10 finished with value: 0.7271295726643331 and parameters: {'max_depth': 30, 'n_estimators': 960, 'class_weight': {0: 1.0, 1: 18}, 'min_samples_leaf': 0.016212827511575493}. Best is trial 8 with value: 0.7472351639507333.\u001b[0m\n",
      "\u001b[32m[I 2020-12-31 19:58:27,981]\u001b[0m Trial 11 finished with value: 0.7484228987737657 and parameters: {'max_depth': 15, 'n_estimators': 850, 'class_weight': {0: 1.0, 1: 15}, 'min_samples_leaf': 0.0005416203778241607}. Best is trial 11 with value: 0.7484228987737657.\u001b[0m\n",
      "\u001b[32m[I 2020-12-31 20:01:05,226]\u001b[0m Trial 12 finished with value: 0.7479783868391734 and parameters: {'max_depth': 15, 'n_estimators': 410, 'class_weight': {0: 1.0, 1: 17}, 'min_samples_leaf': 0.0005478609751286197}. Best is trial 11 with value: 0.7484228987737657.\u001b[0m\n",
      "\u001b[32m[I 2020-12-31 20:05:35,179]\u001b[0m Trial 13 finished with value: 0.7481786775757346 and parameters: {'max_depth': 15, 'n_estimators': 700, 'class_weight': {0: 1.0, 1: 17}, 'min_samples_leaf': 0.0005061658402734108}. Best is trial 11 with value: 0.7484228987737657.\u001b[0m\n",
      "\u001b[32m[I 2020-12-31 20:10:45,765]\u001b[0m Trial 14 finished with value: 0.7487406849760704 and parameters: {'max_depth': 15, 'n_estimators': 810, 'class_weight': {0: 1.0, 1: 13}, 'min_samples_leaf': 0.0005320625377278416}. Best is trial 14 with value: 0.7487406849760704.\u001b[0m\n",
      "\u001b[32m[I 2020-12-31 20:15:55,514]\u001b[0m Trial 15 finished with value: 0.7365846708125288 and parameters: {'max_depth': 9, 'n_estimators': 1180, 'class_weight': {0: 1.0, 1: 13}, 'min_samples_leaf': 0.004862214470317872}. Best is trial 14 with value: 0.7487406849760704.\u001b[0m\n",
      "\u001b[32m[I 2020-12-31 20:20:17,097]\u001b[0m Trial 16 finished with value: 0.7319339659848951 and parameters: {'max_depth': 25, 'n_estimators': 1110, 'class_weight': {0: 1.0, 1: 15}, 'min_samples_leaf': 0.009094284516129389}. Best is trial 14 with value: 0.7487406849760704.\u001b[0m\n",
      "\u001b[32m[I 2020-12-31 20:24:53,261]\u001b[0m Trial 17 finished with value: 0.7493797350079858 and parameters: {'max_depth': 28, 'n_estimators': 700, 'class_weight': {0: 1.0, 1: 13}, 'min_samples_leaf': 0.0005054484721911392}. Best is trial 17 with value: 0.7493797350079858.\u001b[0m\n",
      "\u001b[32m[I 2020-12-31 20:28:19,597]\u001b[0m Trial 18 finished with value: 0.740031687419364 and parameters: {'max_depth': 28, 'n_estimators': 700, 'class_weight': {0: 1.0, 1: 13}, 'min_samples_leaf': 0.003184930487683639}. Best is trial 17 with value: 0.7493797350079858.\u001b[0m\n",
      "\u001b[32m[I 2020-12-31 20:30:04,155]\u001b[0m Trial 19 finished with value: 0.7198295055452074 and parameters: {'max_depth': 27, 'n_estimators': 670, 'class_weight': {0: 1.0, 1: 13}, 'min_samples_leaf': 0.03495364712605427}. Best is trial 17 with value: 0.7493797350079858.\u001b[0m\n",
      "\u001b[32m[I 2020-12-31 20:31:36,843]\u001b[0m Trial 20 finished with value: 0.7040119743666626 and parameters: {'max_depth': 2, 'n_estimators': 1020, 'class_weight': {0: 1.0, 1: 13}, 'min_samples_leaf': 0.0011829880906486711}. Best is trial 17 with value: 0.7493797350079858.\u001b[0m\n",
      "\u001b[32m[I 2020-12-31 20:36:44,146]\u001b[0m Trial 21 finished with value: 0.748495623800812 and parameters: {'max_depth': 23, 'n_estimators': 800, 'class_weight': {0: 1.0, 1: 15}, 'min_samples_leaf': 0.0006068523428964738}. Best is trial 17 with value: 0.7493797350079858.\u001b[0m\n",
      "\u001b[32m[I 2020-12-31 20:41:35,065]\u001b[0m Trial 22 finished with value: 0.7491134828768672 and parameters: {'max_depth': 23, 'n_estimators': 750, 'class_weight': {0: 1.0, 1: 13}, 'min_samples_leaf': 0.000572928037294152}. Best is trial 17 with value: 0.7493797350079858.\u001b[0m\n",
      "\u001b[32m[I 2020-12-31 20:45:23,456]\u001b[0m Trial 23 finished with value: 0.7468628472471498 and parameters: {'max_depth': 34, 'n_estimators': 630, 'class_weight': {0: 1.0, 1: 13}, 'min_samples_leaf': 0.0009025110480646335}. Best is trial 17 with value: 0.7493797350079858.\u001b[0m\n",
      "\u001b[32m[I 2020-12-31 20:51:01,441]\u001b[0m Trial 24 finished with value: 0.7420407638121311 and parameters: {'max_depth': 17, 'n_estimators': 1070, 'class_weight': {0: 1.0, 1: 13}, 'min_samples_leaf': 0.002308538743228104}. Best is trial 17 with value: 0.7493797350079858.\u001b[0m\n",
      "\u001b[32m[I 2020-12-31 20:59:41,394]\u001b[0m Trial 25 finished with value: 0.7494801102730937 and parameters: {'max_depth': 22, 'n_estimators': 1310, 'class_weight': {0: 1.0, 1: 13}, 'min_samples_leaf': 0.0005190142353280399}. Best is trial 25 with value: 0.7494801102730937.\u001b[0m\n",
      "\u001b[32m[I 2020-12-31 21:06:47,224]\u001b[0m Trial 26 finished with value: 0.7448149363657924 and parameters: {'max_depth': 22, 'n_estimators': 1270, 'class_weight': {0: 1.0, 1: 13}, 'min_samples_leaf': 0.001415599781365283}. Best is trial 25 with value: 0.7494801102730937.\u001b[0m\n",
      "\u001b[32m[I 2020-12-31 21:15:28,158]\u001b[0m Trial 27 finished with value: 0.7478599781408544 and parameters: {'max_depth': 26, 'n_estimators': 1410, 'class_weight': {0: 1.0, 1: 12}, 'min_samples_leaf': 0.0007749813466875507}. Best is trial 25 with value: 0.7494801102730937.\u001b[0m\n",
      "\u001b[32m[I 2020-12-31 21:21:53,535]\u001b[0m Trial 28 finished with value: 0.733881807967275 and parameters: {'max_depth': 20, 'n_estimators': 1550, 'class_weight': {0: 1.0, 1: 13}, 'min_samples_leaf': 0.007557303997673667}. Best is trial 25 with value: 0.7494801102730937.\u001b[0m\n",
      "\u001b[32m[I 2020-12-31 21:27:01,444]\u001b[0m Trial 29 finished with value: 0.7361608539929724 and parameters: {'max_depth': 7, 'n_estimators': 1230, 'class_weight': 'balanced', 'min_samples_leaf': 0.0021177613226918313}. Best is trial 25 with value: 0.7494801102730937.\u001b[0m\n"
     ]
    },
    {
     "name": "stderr",
     "output_type": "stream",
     "text": [
      "\u001b[32m[I 2020-12-31 21:37:09,085]\u001b[0m Trial 30 finished with value: 0.7407088679798781 and parameters: {'max_depth': 14, 'n_estimators': 2000, 'class_weight': {0: 1.0, 1: 13}, 'min_samples_leaf': 0.00287538690771354}. Best is trial 25 with value: 0.7494801102730937.\u001b[0m\n",
      "\u001b[32m[I 2020-12-31 21:42:16,550]\u001b[0m Trial 31 finished with value: 0.7492618713490031 and parameters: {'max_depth': 32, 'n_estimators': 780, 'class_weight': {0: 1.0, 1: 13}, 'min_samples_leaf': 0.0005155552287417162}. Best is trial 25 with value: 0.7494801102730937.\u001b[0m\n",
      "\u001b[32m[I 2020-12-31 21:45:52,128]\u001b[0m Trial 32 finished with value: 0.7480922140390531 and parameters: {'max_depth': 32, 'n_estimators': 570, 'class_weight': {0: 1.0, 1: 13}, 'min_samples_leaf': 0.0007209517753660815}. Best is trial 25 with value: 0.7494801102730937.\u001b[0m\n",
      "\u001b[32m[I 2020-12-31 21:50:20,535]\u001b[0m Trial 33 finished with value: 0.746269515018205 and parameters: {'max_depth': 23, 'n_estimators': 760, 'class_weight': {0: 1.0, 1: 14}, 'min_samples_leaf': 0.0010326402159462123}. Best is trial 25 with value: 0.7494801102730937.\u001b[0m\n",
      "\u001b[32m[I 2020-12-31 21:59:47,691]\u001b[0m Trial 34 finished with value: 0.749553463129595 and parameters: {'max_depth': 21, 'n_estimators': 1440, 'class_weight': {0: 1.0, 1: 13}, 'min_samples_leaf': 0.0005109567637031831}. Best is trial 34 with value: 0.749553463129595.\u001b[0m\n",
      "\u001b[32m[I 2020-12-31 22:03:36,649]\u001b[0m Trial 35 finished with value: 0.721672332700914 and parameters: {'max_depth': 4, 'n_estimators': 1440, 'class_weight': {0: 1.0, 1: 13}, 'min_samples_leaf': 0.0013910825210012242}. Best is trial 34 with value: 0.749553463129595.\u001b[0m\n",
      "\u001b[32m[I 2020-12-31 22:13:20,262]\u001b[0m Trial 36 finished with value: 0.7474354232541834 and parameters: {'max_depth': 21, 'n_estimators': 1580, 'class_weight': {0: 1.0, 1: 16}, 'min_samples_leaf': 0.0007590207945437162}. Best is trial 34 with value: 0.749553463129595.\u001b[0m\n",
      "\u001b[32m[I 2020-12-31 22:23:50,020]\u001b[0m Trial 37 finished with value: 0.7471686454966363 and parameters: {'max_depth': 12, 'n_estimators': 1710, 'class_weight': {0: 1.0, 1: 13}, 'min_samples_leaf': 0.0005047673880435315}. Best is trial 34 with value: 0.749553463129595.\u001b[0m\n",
      "\u001b[32m[I 2020-12-31 22:31:31,706]\u001b[0m Trial 38 finished with value: 0.7461978774276433 and parameters: {'max_depth': 21, 'n_estimators': 1320, 'class_weight': {0: 1.0, 1: 14}, 'min_samples_leaf': 0.001089578675596923}. Best is trial 34 with value: 0.749553463129595.\u001b[0m\n",
      "\u001b[32m[I 2020-12-31 22:39:37,414]\u001b[0m Trial 39 finished with value: 0.7443388903004524 and parameters: {'max_depth': 18, 'n_estimators': 1480, 'class_weight': 'balanced', 'min_samples_leaf': 0.00164506566280474}. Best is trial 34 with value: 0.749553463129595.\u001b[0m\n",
      "\u001b[32m[I 2020-12-31 22:41:48,777]\u001b[0m Trial 40 finished with value: 0.7118128338361384 and parameters: {'max_depth': 33, 'n_estimators': 1150, 'class_weight': {0: 1.0, 1: 12}, 'min_samples_leaf': 0.06702875363012283}. Best is trial 34 with value: 0.749553463129595.\u001b[0m\n",
      "\u001b[32m[I 2020-12-31 22:44:24,362]\u001b[0m Trial 41 finished with value: 0.748320476728046 and parameters: {'max_depth': 19, 'n_estimators': 410, 'class_weight': {0: 1.0, 1: 13}, 'min_samples_leaf': 0.0006534751160928716}. Best is trial 34 with value: 0.749553463129595.\u001b[0m\n",
      "\u001b[32m[I 2020-12-31 22:50:00,306]\u001b[0m Trial 42 finished with value: 0.7471704060092599 and parameters: {'max_depth': 31, 'n_estimators': 930, 'class_weight': {0: 1.0, 1: 13}, 'min_samples_leaf': 0.0008942777525925401}. Best is trial 34 with value: 0.749553463129595.\u001b[0m\n",
      "\u001b[32m[I 2020-12-31 22:53:37,367]\u001b[0m Trial 43 finished with value: 0.7486018464284799 and parameters: {'max_depth': 32, 'n_estimators': 570, 'class_weight': {0: 1.0, 1: 13}, 'min_samples_leaf': 0.0006404232707533146}. Best is trial 34 with value: 0.749553463129595.\u001b[0m\n",
      "\u001b[32m[I 2020-12-31 23:00:59,630]\u001b[0m Trial 44 finished with value: 0.7443700323752224 and parameters: {'max_depth': 10, 'n_estimators': 1350, 'class_weight': {0: 1.0, 1: 13}, 'min_samples_leaf': 0.0005043454154791128}. Best is trial 34 with value: 0.749553463129595.\u001b[0m\n",
      "\u001b[32m[I 2020-12-31 23:06:42,310]\u001b[0m Trial 45 finished with value: 0.7450863404517581 and parameters: {'max_depth': 22, 'n_estimators': 1000, 'class_weight': {0: 1.0, 1: 17}, 'min_samples_leaf': 0.0012261492081112252}. Best is trial 34 with value: 0.749553463129595.\u001b[0m\n",
      "\u001b[32m[I 2020-12-31 23:07:41,127]\u001b[0m Trial 46 finished with value: 0.7126891533976523 and parameters: {'max_depth': 3, 'n_estimators': 470, 'class_weight': {0: 1.0, 1: 18}, 'min_samples_leaf': 0.0008968810094217724}. Best is trial 34 with value: 0.749553463129595.\u001b[0m\n",
      "\u001b[32m[I 2020-12-31 23:16:02,983]\u001b[0m Trial 47 finished with value: 0.7492913449890646 and parameters: {'max_depth': 28, 'n_estimators': 1280, 'class_weight': {0: 1.0, 1: 16}, 'min_samples_leaf': 0.0005001505648104175}. Best is trial 34 with value: 0.749553463129595.\u001b[0m\n",
      "\u001b[32m[I 2020-12-31 23:24:04,629]\u001b[0m Trial 48 finished with value: 0.7476089464477007 and parameters: {'max_depth': 28, 'n_estimators': 1300, 'class_weight': {0: 1.0, 1: 16}, 'min_samples_leaf': 0.0007373057058447477}. Best is trial 34 with value: 0.749553463129595.\u001b[0m\n",
      "\u001b[32m[I 2020-12-31 23:34:39,285]\u001b[0m Trial 49 finished with value: 0.74918172072648 and parameters: {'max_depth': 28, 'n_estimators': 1630, 'class_weight': {0: 1.0, 1: 16}, 'min_samples_leaf': 0.0005339903704517761}. Best is trial 34 with value: 0.749553463129595.\u001b[0m\n"
     ]
    }
   ],
   "source": [
    "# Extracting the best model parameters and best study score\n",
    "best_study_score,best_study_params = study_best_score_params(X_train, y_train, rf_o_2, objective_wrappper_rf_reg_2, cv_strat,\n",
    "                                                            cl_weight_reg_2, n_trials=50)"
   ]
  },
  {
   "cell_type": "code",
   "execution_count": 113,
   "metadata": {},
   "outputs": [
    {
     "name": "stdout",
     "output_type": "stream",
     "text": [
      "The best roc_auc_score for the study is:  0.749553463129595\n"
     ]
    }
   ],
   "source": [
    "print('The best roc_auc_score for the study is: ',best_study_score)"
   ]
  },
  {
   "cell_type": "code",
   "execution_count": 114,
   "metadata": {},
   "outputs": [
    {
     "name": "stdout",
     "output_type": "stream",
     "text": [
      "The best study parameters for the classifier are:  {'max_depth': 21, 'n_estimators': 1440, 'class_weight': {0: 1.0, 1: 13}, 'min_samples_leaf': 0.0005109567637031831}\n"
     ]
    }
   ],
   "source": [
    "print('The best study parameters for the classifier are: ',best_study_params)"
   ]
  },
  {
   "cell_type": "code",
   "execution_count": 115,
   "metadata": {},
   "outputs": [],
   "source": [
    "# Obtaining the best optuna tuned RF model by setting best study parameters.\n",
    "rf_o_2 = rf_o_2.set_params(**best_study_params)"
   ]
  },
  {
   "cell_type": "code",
   "execution_count": 116,
   "metadata": {},
   "outputs": [
    {
     "data": {
      "text/plain": [
       "RandomForestClassifier(class_weight={0: 1.0, 1: 13}, max_depth=21,\n",
       "                       min_samples_leaf=0.0005109567637031831,\n",
       "                       n_estimators=1440, n_jobs=5, random_state=42)"
      ]
     },
     "execution_count": 116,
     "metadata": {},
     "output_type": "execute_result"
    }
   ],
   "source": [
    "# fitting the best regularized optima tuned Random Forest_3 model on the training set\n",
    "rf_o_2.fit(X_train, y_train)"
   ]
  },
  {
   "cell_type": "code",
   "execution_count": 117,
   "metadata": {},
   "outputs": [
    {
     "name": "stdout",
     "output_type": "stream",
     "text": [
      "The roc_auc_score for the reduced feature training set using the best Optuna tuned more regularized Random Forest Clasiifier_3 is  0.8429386882500551\n"
     ]
    }
   ],
   "source": [
    "# Calculating the reduced feature training set roc_auc score using the best study parameters\n",
    "cal_roc_auc(X_train, y_train, rf_o_2, 'reduced feature', 'training', 'Optuna tuned more regularized Random Forest Clasiifier_3')"
   ]
  },
  {
   "cell_type": "code",
   "execution_count": 118,
   "metadata": {},
   "outputs": [
    {
     "name": "stdout",
     "output_type": "stream",
     "text": [
      "The roc_auc_score for the reduced feature test set using the best Optuna tuned more regularized Random Forest Clasiifier_3 is  0.7548292754366334\n"
     ]
    }
   ],
   "source": [
    "# Calculating the reduced feature test set roc_auc score using the best study parameters\n",
    "cal_roc_auc(X_test, y_test, rf_o_2, 'reduced feature', 'test', 'Optuna tuned more regularized Random Forest Clasiifier_3')"
   ]
  },
  {
   "cell_type": "markdown",
   "metadata": {},
   "source": [
    "### Calculating R_R ratio for regularized Random forest Classifier_3 tuned through Optuna."
   ]
  },
  {
   "cell_type": "code",
   "execution_count": 119,
   "metadata": {},
   "outputs": [],
   "source": [
    "# Computing the CV scores using sklearn's cross_val_score\n",
    "score_Rand_forest_3 = cross_val_score(rf_o_2, X_train, y_train, cv=cv_strat, n_jobs=5, scoring='roc_auc')"
   ]
  },
  {
   "cell_type": "code",
   "execution_count": 120,
   "metadata": {},
   "outputs": [
    {
     "name": "stdout",
     "output_type": "stream",
     "text": [
      "The reward associated with the best regularized optuna tuned Random Forest Classifier_3 using roc_auc metric is:  0.749553463129595\n"
     ]
    }
   ],
   "source": [
    "print('The reward associated with the best regularized optuna tuned Random Forest Classifier_3 using roc_auc metric is: ',np.mean(score_Rand_forest_3))"
   ]
  },
  {
   "cell_type": "code",
   "execution_count": 121,
   "metadata": {},
   "outputs": [
    {
     "name": "stdout",
     "output_type": "stream",
     "text": [
      "The risk associated with the best regularized tuned Random Forest Classifier_3 using roc_auc metric is:  0.004400353555007669\n"
     ]
    }
   ],
   "source": [
    "print('The risk associated with the best regularized tuned Random Forest Classifier_3 using roc_auc metric is: ',np.std(score_Rand_forest_3))"
   ]
  },
  {
   "cell_type": "code",
   "execution_count": 122,
   "metadata": {},
   "outputs": [],
   "source": [
    "R_R_Ratio_Rand_forest_3 = np.mean(score_Rand_forest_3)/np.std(score_Rand_forest_3)"
   ]
  },
  {
   "cell_type": "code",
   "execution_count": 123,
   "metadata": {},
   "outputs": [
    {
     "name": "stdout",
     "output_type": "stream",
     "text": [
      "The reward risk ratio for the best regularized optuna tuned Random Forest Classifier_3 using roc_auc metric is:  170.3393724526048\n"
     ]
    }
   ],
   "source": [
    "print('The reward risk ratio for the best regularized optuna tuned Random Forest Classifier_3 using roc_auc metric is: ',R_R_Ratio_Rand_forest_3)"
   ]
  },
  {
   "cell_type": "code",
   "execution_count": 124,
   "metadata": {},
   "outputs": [
    {
     "name": "stdout",
     "output_type": "stream",
     "text": [
      "5 fold CV roc_auc scores for the optuna tuned regularized Random Forest classifier_3 are:  [0.74523614 0.74426064 0.75623491 0.75180266 0.75023296]\n"
     ]
    }
   ],
   "source": [
    "print('5 fold CV roc_auc scores for the optuna tuned regularized Random Forest classifier_3 are: ',score_Rand_forest_3)"
   ]
  },
  {
   "cell_type": "code",
   "execution_count": 125,
   "metadata": {},
   "outputs": [
    {
     "data": {
      "text/plain": [
       "['Rand_Forest_optuna_reg_3.joblib']"
      ]
     },
     "execution_count": 125,
     "metadata": {},
     "output_type": "execute_result"
    }
   ],
   "source": [
    "# Saving the best RF model tuned via Optuna\n",
    "import joblib\n",
    "joblib.dump(rf_o_2,'Rand_Forest_optuna_reg_3.joblib')"
   ]
  },
  {
   "cell_type": "markdown",
   "metadata": {},
   "source": [
    "#### R_R Ratio for the Random Forest classifier_3 using roc_auc metric is: 170.3393724526048"
   ]
  },
  {
   "cell_type": "markdown",
   "metadata": {},
   "source": [
    "## Observation(s):\n",
    "### 1) The previous Random Forest Classifier_3, rf_o_2 , has raised the test set roc_auc score at the cost of increased overfitting & reduced R_R ratio. \n",
    "### 2) Taking all the factors into consideration, Random Forest Classifier_2  has given the best results among all the Random Forest Classifiers variants."
   ]
  },
  {
   "cell_type": "markdown",
   "metadata": {},
   "source": [
    "## Model_8: Extra Trees Classifiers with Tuned Hyperparameters using Optuna."
   ]
  },
  {
   "cell_type": "code",
   "execution_count": 126,
   "metadata": {},
   "outputs": [],
   "source": [
    "# Defining the appropriate objective function for the Extra Trees classifier\n",
    "def objective_wrappper_ext(X_tr, y_tr, cls=None, cv_strat=None, cl_w=None):\n",
    "    '''\n",
    "    Optimizes Extra Trees parameters on the given training set X_tr,y_tr\n",
    "    using cross-validation cv_strat & cl_w class weight objects.\n",
    "    \n",
    "    '''\n",
    "    \n",
    "    def objective(trial):\n",
    "        params = {\n",
    "        'max_depth': trial.suggest_categorical('max_depth',list(range(2,50))+ [None]),\n",
    "        'n_estimators':trial.suggest_int('n_estimators',100,2000,10),\n",
    "        'class_weight':trial.suggest_categorical('class_weight',cl_w),\n",
    "        'min_samples_leaf':trial.suggest_loguniform('min_samples_leaf',.00001,.1)\n",
    "          }\n",
    "        \n",
    "        cls.set_params(**params)#Initializing the model with the parameters \n",
    "    \n",
    "        return np.mean(cross_val_score(cls, X_tr, y_tr, cv=cv_strat, n_jobs=5, scoring='roc_auc'))  \n",
    "    return objective"
   ]
  },
  {
   "cell_type": "code",
   "execution_count": 127,
   "metadata": {},
   "outputs": [],
   "source": [
    "# Importing Extra Trees Classifier from  Sklearn\n",
    "from sklearn.ensemble import ExtraTreesClassifier"
   ]
  },
  {
   "cell_type": "code",
   "execution_count": 128,
   "metadata": {},
   "outputs": [],
   "source": [
    "# Instantiating the Extra Trees classifier\n",
    "ext_s = ExtraTreesClassifier(n_jobs=5,random_state=42)"
   ]
  },
  {
   "cell_type": "markdown",
   "metadata": {},
   "source": [
    "#### Computing the best hyperparameters for the Extra Trees Classifier using Optuna."
   ]
  },
  {
   "cell_type": "code",
   "execution_count": 129,
   "metadata": {},
   "outputs": [
    {
     "name": "stderr",
     "output_type": "stream",
     "text": [
      "\u001b[32m[I 2021-01-01 00:41:42,581]\u001b[0m A new study created in memory with name: no-name-3ca351aa-1aa4-46dc-883f-a329a9c6eda8\u001b[0m\n",
      "\u001b[32m[I 2021-01-01 00:56:36,892]\u001b[0m Trial 0 finished with value: 0.7459640640962669 and parameters: {'max_depth': 24, 'n_estimators': 1770, 'class_weight': {0: 1.0, 1: 15}, 'min_samples_leaf': 4.5201780535857576e-05}. Best is trial 0 with value: 0.7459640640962669.\u001b[0m\n",
      "\u001b[32m[I 2021-01-01 01:00:10,788]\u001b[0m Trial 1 finished with value: 0.7455353538868094 and parameters: {'max_depth': 33, 'n_estimators': 390, 'class_weight': 'balanced', 'min_samples_leaf': 1.4001991807674805e-05}. Best is trial 0 with value: 0.7459640640962669.\u001b[0m\n",
      "\u001b[32m[I 2021-01-01 01:07:57,313]\u001b[0m Trial 2 finished with value: 0.7333643746780969 and parameters: {'max_depth': 23, 'n_estimators': 890, 'class_weight': 'balanced', 'min_samples_leaf': 1.5095259318685542e-05}. Best is trial 0 with value: 0.7459640640962669.\u001b[0m\n",
      "\u001b[32m[I 2021-01-01 01:21:11,773]\u001b[0m Trial 3 finished with value: 0.7469263738902048 and parameters: {'max_depth': 28, 'n_estimators': 1620, 'class_weight': {0: 1.0, 1: 17}, 'min_samples_leaf': 8.054225954502512e-05}. Best is trial 3 with value: 0.7469263738902048.\u001b[0m\n",
      "\u001b[32m[I 2021-01-01 01:23:18,083]\u001b[0m Trial 4 finished with value: 0.7453952360275504 and parameters: {'max_depth': 43, 'n_estimators': 260, 'class_weight': {0: 1.0, 1: 13}, 'min_samples_leaf': 8.821638345617794e-05}. Best is trial 3 with value: 0.7469263738902048.\u001b[0m\n",
      "\u001b[32m[I 2021-01-01 01:23:53,575]\u001b[0m Trial 5 finished with value: 0.731098239057349 and parameters: {'max_depth': 20, 'n_estimators': 130, 'class_weight': {0: 1.0, 1: 16}, 'min_samples_leaf': 0.00443023338726631}. Best is trial 3 with value: 0.7469263738902048.\u001b[0m\n",
      "\u001b[32m[I 2021-01-01 01:25:18,086]\u001b[0m Trial 6 finished with value: 0.7173196379432139 and parameters: {'max_depth': 13, 'n_estimators': 590, 'class_weight': {0: 1.0, 1: 15}, 'min_samples_leaf': 0.03806197835658636}. Best is trial 3 with value: 0.7469263738902048.\u001b[0m\n",
      "\u001b[32m[I 2021-01-01 01:36:11,414]\u001b[0m Trial 7 finished with value: 0.7387891174949978 and parameters: {'max_depth': 31, 'n_estimators': 1880, 'class_weight': 'balanced', 'min_samples_leaf': 0.0011225627104574456}. Best is trial 3 with value: 0.7469263738902048.\u001b[0m\n",
      "\u001b[32m[I 2021-01-01 01:36:33,823]\u001b[0m Trial 8 finished with value: 0.7163660830883989 and parameters: {'max_depth': 2, 'n_estimators': 350, 'class_weight': {0: 1.0, 1: 12}, 'min_samples_leaf': 0.0004330465450593469}. Best is trial 3 with value: 0.7469263738902048.\u001b[0m\n",
      "\u001b[32m[I 2021-01-01 01:43:24,599]\u001b[0m Trial 9 finished with value: 0.7363148179023118 and parameters: {'max_depth': 16, 'n_estimators': 1310, 'class_weight': 'balanced', 'min_samples_leaf': 0.0019669278190543285}. Best is trial 3 with value: 0.7469263738902048.\u001b[0m\n",
      "\u001b[32m[I 2021-01-01 01:54:54,239]\u001b[0m Trial 10 finished with value: 0.7459033948024653 and parameters: {'max_depth': 28, 'n_estimators': 1460, 'class_weight': {0: 1.0, 1: 17}, 'min_samples_leaf': 0.00011863934534828849}. Best is trial 3 with value: 0.7469263738902048.\u001b[0m\n",
      "\u001b[32m[I 2021-01-01 02:11:24,397]\u001b[0m Trial 11 finished with value: 0.7472779372605179 and parameters: {'max_depth': 28, 'n_estimators': 1980, 'class_weight': {0: 1.0, 1: 14}, 'min_samples_leaf': 6.153198769374516e-05}. Best is trial 11 with value: 0.7472779372605179.\u001b[0m\n",
      "\u001b[32m[I 2021-01-01 02:25:46,817]\u001b[0m Trial 12 finished with value: 0.7441896882335126 and parameters: {'max_depth': 40, 'n_estimators': 1970, 'class_weight': {0: 1.0, 1: 14}, 'min_samples_leaf': 0.0002375063212007391}. Best is trial 11 with value: 0.7472779372605179.\u001b[0m\n",
      "\u001b[32m[I 2021-01-01 02:39:43,695]\u001b[0m Trial 13 finished with value: 0.7467468123690469 and parameters: {'max_depth': 28, 'n_estimators': 1590, 'class_weight': {0: 1.0, 1: 17}, 'min_samples_leaf': 3.0363510803065126e-05}. Best is trial 11 with value: 0.7472779372605179.\u001b[0m\n",
      "\u001b[32m[I 2021-01-01 02:49:43,411]\u001b[0m Trial 14 finished with value: 0.7459090060643349 and parameters: {'max_depth': 28, 'n_estimators': 1200, 'class_weight': None, 'min_samples_leaf': 1.132470495900079e-05}. Best is trial 11 with value: 0.7472779372605179.\u001b[0m\n",
      "\u001b[32m[I 2021-01-01 03:01:45,695]\u001b[0m Trial 15 finished with value: 0.7428006932584177 and parameters: {'max_depth': 38, 'n_estimators': 1750, 'class_weight': {0: 1.0, 1: 14}, 'min_samples_leaf': 0.0003635719163796407}. Best is trial 11 with value: 0.7472779372605179.\u001b[0m\n",
      "\u001b[32m[I 2021-01-01 03:08:51,200]\u001b[0m Trial 16 finished with value: 0.7261598447390426 and parameters: {'max_depth': 45, 'n_estimators': 2000, 'class_weight': {0: 1.0, 1: 17}, 'min_samples_leaf': 0.011529091127519722}. Best is trial 11 with value: 0.7472779372605179.\u001b[0m\n",
      "\u001b[32m[I 2021-01-01 03:14:17,767]\u001b[0m Trial 17 finished with value: 0.7361242565178251 and parameters: {'max_depth': 12, 'n_estimators': 960, 'class_weight': {0: 1.0, 1: 14}, 'min_samples_leaf': 5.6097428231787475e-05}. Best is trial 11 with value: 0.7472779372605179.\u001b[0m\n",
      "\u001b[32m[I 2021-01-01 03:24:48,465]\u001b[0m Trial 18 finished with value: 0.7448559484248836 and parameters: {'max_depth': 48, 'n_estimators': 1540, 'class_weight': None, 'min_samples_leaf': 0.00017940712763399343}. Best is trial 11 with value: 0.7472779372605179.\u001b[0m\n",
      "\u001b[32m[I 2021-01-01 03:35:45,701]\u001b[0m Trial 19 finished with value: 0.7317166661887305 and parameters: {'max_depth': 14, 'n_estimators': 1690, 'class_weight': {0: 1.0, 1: 16}, 'min_samples_leaf': 3.2109387810560744e-05}. Best is trial 11 with value: 0.7472779372605179.\u001b[0m\n",
      "\u001b[32m[I 2021-01-01 03:42:58,505]\u001b[0m Trial 20 finished with value: 0.7403789648100947 and parameters: {'max_depth': 18, 'n_estimators': 1170, 'class_weight': {0: 1.0, 1: 13}, 'min_samples_leaf': 0.0006985470642972696}. Best is trial 11 with value: 0.7472779372605179.\u001b[0m\n",
      "\u001b[32m[I 2021-01-01 03:56:45,878]\u001b[0m Trial 21 finished with value: 0.7460983677748367 and parameters: {'max_depth': 28, 'n_estimators': 1560, 'class_weight': {0: 1.0, 1: 17}, 'min_samples_leaf': 2.6572485351565252e-05}. Best is trial 11 with value: 0.7472779372605179.\u001b[0m\n",
      "\u001b[32m[I 2021-01-01 04:04:22,803]\u001b[0m Trial 22 finished with value: 0.7358336861449624 and parameters: {'max_depth': 11, 'n_estimators': 1430, 'class_weight': {0: 1.0, 1: 17}, 'min_samples_leaf': 8.9533117025965e-05}. Best is trial 11 with value: 0.7472779372605179.\u001b[0m\n",
      "\u001b[32m[I 2021-01-01 04:08:55,317]\u001b[0m Trial 23 finished with value: 0.7246665552852687 and parameters: {'max_depth': 5, 'n_estimators': 1850, 'class_weight': {0: 1.0, 1: 17}, 'min_samples_leaf': 2.3684327800379813e-05}. Best is trial 11 with value: 0.7472779372605179.\u001b[0m\n",
      "\u001b[32m[I 2021-01-01 04:24:28,624]\u001b[0m Trial 24 finished with value: 0.7468776897924103 and parameters: {'max_depth': 46, 'n_estimators': 1650, 'class_weight': {0: 1.0, 1: 17}, 'min_samples_leaf': 1.0519334681268163e-05}. Best is trial 11 with value: 0.7472779372605179.\u001b[0m\n",
      "\u001b[32m[I 2021-01-01 04:32:06,097]\u001b[0m Trial 25 finished with value: 0.7316149040807423 and parameters: {'max_depth': 8, 'n_estimators': 1950, 'class_weight': {0: 1.0, 1: 14}, 'min_samples_leaf': 1.318028330351453e-05}. Best is trial 11 with value: 0.7472779372605179.\u001b[0m\n",
      "\u001b[32m[I 2021-01-01 04:45:56,874]\u001b[0m Trial 26 finished with value: 0.7475053269889405 and parameters: {'max_depth': 46, 'n_estimators': 1670, 'class_weight': {0: 1.0, 1: 12}, 'min_samples_leaf': 6.117030891179827e-05}. Best is trial 26 with value: 0.7475053269889405.\u001b[0m\n",
      "\u001b[32m[I 2021-01-01 04:56:14,315]\u001b[0m Trial 27 finished with value: 0.7459519332509319 and parameters: {'max_depth': 44, 'n_estimators': 1330, 'class_weight': {0: 1.0, 1: 12}, 'min_samples_leaf': 0.00013014183953285663}. Best is trial 26 with value: 0.7475053269889405.\u001b[0m\n",
      "\u001b[32m[I 2021-01-01 05:02:38,861]\u001b[0m Trial 28 finished with value: 0.7456699654161751 and parameters: {'max_depth': 22, 'n_estimators': 790, 'class_weight': {0: 1.0, 1: 12}, 'min_samples_leaf': 5.9485442440960195e-05}. Best is trial 26 with value: 0.7475053269889405.\u001b[0m\n",
      "\u001b[32m[I 2021-01-01 05:15:24,161]\u001b[0m Trial 29 finished with value: 0.743645740159616 and parameters: {'max_depth': 47, 'n_estimators': 1810, 'class_weight': {0: 1.0, 1: 12}, 'min_samples_leaf': 0.00028388062002159117}. Best is trial 26 with value: 0.7475053269889405.\u001b[0m\n"
     ]
    },
    {
     "name": "stderr",
     "output_type": "stream",
     "text": [
      "\u001b[32m[I 2021-01-01 05:30:14,650]\u001b[0m Trial 30 finished with value: 0.7471847686546262 and parameters: {'max_depth': 27, 'n_estimators': 1770, 'class_weight': {0: 1.0, 1: 15}, 'min_samples_leaf': 5.2957861034337425e-05}. Best is trial 26 with value: 0.7475053269889405.\u001b[0m\n",
      "\u001b[32m[I 2021-01-01 05:44:44,159]\u001b[0m Trial 31 finished with value: 0.7473917190417219 and parameters: {'max_depth': 27, 'n_estimators': 1720, 'class_weight': {0: 1.0, 1: 15}, 'min_samples_leaf': 4.7817948264639086e-05}. Best is trial 26 with value: 0.7475053269889405.\u001b[0m\n",
      "\u001b[32m[I 2021-01-01 05:59:43,581]\u001b[0m Trial 32 finished with value: 0.7473816388512617 and parameters: {'max_depth': 27, 'n_estimators': 1780, 'class_weight': {0: 1.0, 1: 15}, 'min_samples_leaf': 4.638816363162191e-05}. Best is trial 26 with value: 0.7475053269889405.\u001b[0m\n",
      "\u001b[32m[I 2021-01-01 06:16:32,604]\u001b[0m Trial 33 finished with value: 0.7437393312423033 and parameters: {'max_depth': 27, 'n_estimators': 1910, 'class_weight': {0: 1.0, 1: 15}, 'min_samples_leaf': 2.1476372118563715e-05}. Best is trial 26 with value: 0.7475053269889405.\u001b[0m\n",
      "\u001b[32m[I 2021-01-01 06:21:37,989]\u001b[0m Trial 34 finished with value: 0.7271295969578488 and parameters: {'max_depth': 6, 'n_estimators': 1750, 'class_weight': {0: 1.0, 1: 15}, 'min_samples_leaf': 3.9675942176483894e-05}. Best is trial 26 with value: 0.7475053269889405.\u001b[0m\n",
      "\u001b[32m[I 2021-01-01 06:32:31,386]\u001b[0m Trial 35 finished with value: 0.7455055200079544 and parameters: {'max_depth': 27, 'n_estimators': 1430, 'class_weight': {0: 1.0, 1: 15}, 'min_samples_leaf': 0.00014810669314191234}. Best is trial 26 with value: 0.7475053269889405.\u001b[0m\n",
      "\u001b[32m[I 2021-01-01 06:50:18,398]\u001b[0m Trial 36 finished with value: 0.7487431721429978 and parameters: {'max_depth': 46, 'n_estimators': 2000, 'class_weight': {0: 1.0, 1: 15}, 'min_samples_leaf': 1.7075630910980877e-05}. Best is trial 36 with value: 0.7487431721429978.\u001b[0m\n",
      "\u001b[32m[I 2021-01-01 07:05:15,818]\u001b[0m Trial 37 finished with value: 0.7479604670577845 and parameters: {'max_depth': 36, 'n_estimators': 1660, 'class_weight': {0: 1.0, 1: 15}, 'min_samples_leaf': 1.5968508165019555e-05}. Best is trial 36 with value: 0.7487431721429978.\u001b[0m\n",
      "\u001b[32m[I 2021-01-01 07:20:01,809]\u001b[0m Trial 38 finished with value: 0.7486435220100724 and parameters: {'max_depth': 46, 'n_estimators': 1660, 'class_weight': {0: 1.0, 1: 15}, 'min_samples_leaf': 1.764176230194152e-05}. Best is trial 36 with value: 0.7487431721429978.\u001b[0m\n",
      "\u001b[32m[I 2021-01-01 07:31:56,905]\u001b[0m Trial 39 finished with value: 0.7484465974490718 and parameters: {'max_depth': 46, 'n_estimators': 1340, 'class_weight': {0: 1.0, 1: 15}, 'min_samples_leaf': 1.7523577997707156e-05}. Best is trial 36 with value: 0.7487431721429978.\u001b[0m\n",
      "\u001b[32m[I 2021-01-01 07:43:51,196]\u001b[0m Trial 40 finished with value: 0.7477049884647855 and parameters: {'max_depth': 36, 'n_estimators': 1320, 'class_weight': {0: 1.0, 1: 15}, 'min_samples_leaf': 1.4420372033266564e-05}. Best is trial 36 with value: 0.7487431721429978.\u001b[0m\n",
      "\u001b[32m[I 2021-01-01 07:53:43,675]\u001b[0m Trial 41 finished with value: 0.7478954075946254 and parameters: {'max_depth': 36, 'n_estimators': 1110, 'class_weight': {0: 1.0, 1: 15}, 'min_samples_leaf': 1.690254728751174e-05}. Best is trial 36 with value: 0.7487431721429978.\u001b[0m\n",
      "\u001b[32m[I 2021-01-01 08:03:37,014]\u001b[0m Trial 42 finished with value: 0.7478954075946254 and parameters: {'max_depth': 36, 'n_estimators': 1110, 'class_weight': {0: 1.0, 1: 15}, 'min_samples_leaf': 1.741697148302643e-05}. Best is trial 36 with value: 0.7487431721429978.\u001b[0m\n",
      "\u001b[32m[I 2021-01-01 08:12:27,428]\u001b[0m Trial 43 finished with value: 0.7474057878980475 and parameters: {'max_depth': 46, 'n_estimators': 980, 'class_weight': {0: 1.0, 1: 15}, 'min_samples_leaf': 1.097188671655638e-05}. Best is trial 36 with value: 0.7487431721429978.\u001b[0m\n",
      "\u001b[32m[I 2021-01-01 08:19:17,869]\u001b[0m Trial 44 finished with value: 0.7468734053690761 and parameters: {'max_depth': 32, 'n_estimators': 770, 'class_weight': {0: 1.0, 1: 15}, 'min_samples_leaf': 1.6263908301876183e-05}. Best is trial 36 with value: 0.7487431721429978.\u001b[0m\n",
      "\u001b[32m[I 2021-01-01 08:21:10,433]\u001b[0m Trial 45 finished with value: 0.7184009278636639 and parameters: {'max_depth': 3, 'n_estimators': 1270, 'class_weight': {0: 1.0, 1: 15}, 'min_samples_leaf': 2.0544636056827842e-05}. Best is trial 36 with value: 0.7487431721429978.\u001b[0m\n",
      "\u001b[32m[I 2021-01-01 08:33:36,415]\u001b[0m Trial 46 finished with value: 0.7219878534752917 and parameters: {'max_depth': 21, 'n_estimators': 1490, 'class_weight': {0: 1.0, 1: 15}, 'min_samples_leaf': 1.1575432722392063e-05}. Best is trial 36 with value: 0.7487431721429978.\u001b[0m\n",
      "\u001b[32m[I 2021-01-01 08:43:18,403]\u001b[0m Trial 47 finished with value: 0.7464465461913694 and parameters: {'max_depth': 46, 'n_estimators': 1060, 'class_weight': {0: 1.0, 1: 15}, 'min_samples_leaf': 1.0289450678832882e-05}. Best is trial 36 with value: 0.7487431721429978.\u001b[0m\n",
      "\u001b[32m[I 2021-01-01 08:45:41,935]\u001b[0m Trial 48 finished with value: 0.7210892891414259 and parameters: {'max_depth': 4, 'n_estimators': 1230, 'class_weight': {0: 1.0, 1: 13}, 'min_samples_leaf': 9.276428072327058e-05}. Best is trial 36 with value: 0.7487431721429978.\u001b[0m\n",
      "\u001b[32m[I 2021-01-01 08:48:51,786]\u001b[0m Trial 49 finished with value: 0.7179044251523697 and parameters: {'max_depth': 7, 'n_estimators': 1390, 'class_weight': 'balanced', 'min_samples_leaf': 0.03992868207265171}. Best is trial 36 with value: 0.7487431721429978.\u001b[0m\n"
     ]
    }
   ],
   "source": [
    "# Extracting the best model parameters and best study score\n",
    "best_study_score,best_study_params = study_best_score_params(X_train, y_train, ext_s, objective_wrappper_ext, cv_strat,\n",
    "                                                            cl_weight, n_trials=50)"
   ]
  },
  {
   "cell_type": "code",
   "execution_count": 130,
   "metadata": {},
   "outputs": [
    {
     "name": "stdout",
     "output_type": "stream",
     "text": [
      "The best roc_auc_score for the study is:  0.7487431721429978\n"
     ]
    }
   ],
   "source": [
    "print('The best roc_auc_score for the study is: ',best_study_score)"
   ]
  },
  {
   "cell_type": "code",
   "execution_count": 131,
   "metadata": {},
   "outputs": [
    {
     "name": "stdout",
     "output_type": "stream",
     "text": [
      "The best study parameters for the classifier are:  {'max_depth': 46, 'n_estimators': 2000, 'class_weight': {0: 1.0, 1: 15}, 'min_samples_leaf': 1.7075630910980877e-05}\n"
     ]
    }
   ],
   "source": [
    "print('The best study parameters for the classifier are: ', best_study_params)"
   ]
  },
  {
   "cell_type": "code",
   "execution_count": 132,
   "metadata": {},
   "outputs": [],
   "source": [
    "# Obtaining the best reduced feature Extra Trees model by setting tuned best study parameters.\n",
    "extr_s = ext_s.set_params(**best_study_params)"
   ]
  },
  {
   "cell_type": "code",
   "execution_count": 133,
   "metadata": {},
   "outputs": [
    {
     "data": {
      "text/plain": [
       "ExtraTreesClassifier(class_weight={0: 1.0, 1: 15}, max_depth=46,\n",
       "                     min_samples_leaf=1.7075630910980877e-05, n_estimators=2000,\n",
       "                     n_jobs=5, random_state=42)"
      ]
     },
     "execution_count": 133,
     "metadata": {},
     "output_type": "execute_result"
    }
   ],
   "source": [
    "# fitting the best tuned Extra Trees model on the reduced feature training set\n",
    "extr_s.fit(X_train, y_train)"
   ]
  },
  {
   "cell_type": "code",
   "execution_count": 136,
   "metadata": {},
   "outputs": [
    {
     "name": "stdout",
     "output_type": "stream",
     "text": [
      "The roc_auc_score for the reduced feature training set using the best tuned Extra Trees Classifier is  1.0\n"
     ]
    }
   ],
   "source": [
    "# Calculating the reduced feature training set roc_auc score using the tuned best study parameters\n",
    "cal_roc_auc(X_train, y_train, extr_s, 'reduced feature', 'training', 'tuned Extra Trees Classifier')"
   ]
  },
  {
   "cell_type": "code",
   "execution_count": 137,
   "metadata": {},
   "outputs": [
    {
     "name": "stdout",
     "output_type": "stream",
     "text": [
      "The roc_auc_score for the reduced feature test set using the best tuned Extra Trees Classifier is  0.7545603594015475\n"
     ]
    }
   ],
   "source": [
    "# Calculating the reduced feature test set roc_auc score using the tuned best study parameters\n",
    "cal_roc_auc(X_test, y_test, extr_s, 'reduced feature', 'test', 'tuned Extra Trees Classifier')"
   ]
  },
  {
   "cell_type": "markdown",
   "metadata": {},
   "source": [
    "### Calculating R_R ratio for Extra Trees Classifier tuned through Optuna."
   ]
  },
  {
   "cell_type": "code",
   "execution_count": 138,
   "metadata": {},
   "outputs": [],
   "source": [
    "# Computing the CV scores using sklearn's cross_val_score\n",
    "score_Extra_Trees = cross_val_score(extr_s, X_train, y_train, cv=cv_strat, n_jobs=5, scoring='roc_auc')"
   ]
  },
  {
   "cell_type": "code",
   "execution_count": 139,
   "metadata": {},
   "outputs": [
    {
     "name": "stdout",
     "output_type": "stream",
     "text": [
      "The reward associated with the best tuned Extra Trees Classifier using roc_auc metric is:  0.7487431721429978\n"
     ]
    }
   ],
   "source": [
    "print('The reward associated with the best tuned Extra Trees Classifier using roc_auc metric is: ',np.mean(score_Extra_Trees))"
   ]
  },
  {
   "cell_type": "code",
   "execution_count": 140,
   "metadata": {},
   "outputs": [
    {
     "name": "stdout",
     "output_type": "stream",
     "text": [
      "The risk associated with the best Extra Trees Classifier using roc_auc metric is:  0.003743057844125743\n"
     ]
    }
   ],
   "source": [
    "print('The risk associated with the best Extra Trees Classifier using roc_auc metric is: ',np.std(score_Extra_Trees))"
   ]
  },
  {
   "cell_type": "code",
   "execution_count": 141,
   "metadata": {},
   "outputs": [],
   "source": [
    "R_R_Ratio_Extra_Trees = np.mean(score_Extra_Trees)/np.std(score_Extra_Trees)"
   ]
  },
  {
   "cell_type": "code",
   "execution_count": 142,
   "metadata": {},
   "outputs": [
    {
     "name": "stdout",
     "output_type": "stream",
     "text": [
      "The reward risk ratio for the best Extra trees Classifier using roc_auc metric is:  200.0351593064627\n"
     ]
    }
   ],
   "source": [
    "print('The reward risk ratio for the best Extra trees Classifier using roc_auc metric is: ',R_R_Ratio_Extra_Trees)"
   ]
  },
  {
   "cell_type": "code",
   "execution_count": 157,
   "metadata": {},
   "outputs": [
    {
     "name": "stdout",
     "output_type": "stream",
     "text": [
      "5 fold CV roc_auc scores for the optuna tuned Extra Trees classifier are:  [0.7438268  0.74759777 0.7552674  0.74948591 0.74753798]\n"
     ]
    }
   ],
   "source": [
    "print('5 fold CV roc_auc scores for the optuna tuned Extra Trees classifier are: ',score_Extra_Trees)"
   ]
  },
  {
   "cell_type": "code",
   "execution_count": 144,
   "metadata": {},
   "outputs": [
    {
     "data": {
      "text/plain": [
       "['Extra_Trees.joblib']"
      ]
     },
     "execution_count": 144,
     "metadata": {},
     "output_type": "execute_result"
    }
   ],
   "source": [
    "# Saving the Optuna tuned Extra Trees Classifier  \n",
    "joblib.dump(extr_s,'Extra_Trees.joblib')"
   ]
  },
  {
   "cell_type": "markdown",
   "metadata": {},
   "source": [
    "#### R_R Ratio for the Extra Trees classifier_1 using roc_auc metric is: 200.0351593064627"
   ]
  },
  {
   "cell_type": "markdown",
   "metadata": {},
   "source": [
    "## Observation(s):\n",
    "### 1) The Optuna tuned Extra Trees Classifier, extr_s, is  severely overfitting , as can be viewed from the above results . However , typical of an Extra Trees Classifier,  its R_R ratio is the highest we have seen so far of any classifier.  "
   ]
  },
  {
   "cell_type": "markdown",
   "metadata": {},
   "source": [
    "#### Lets try to reduce overfitting by incorporating more regularization & tuning another Extra Trees Classifier_1"
   ]
  },
  {
   "cell_type": "code",
   "execution_count": 145,
   "metadata": {},
   "outputs": [],
   "source": [
    "# Instantiating a new Extra Trees classifier\n",
    "ext_s_reg = ExtraTreesClassifier(n_jobs=5,random_state=42)"
   ]
  },
  {
   "cell_type": "code",
   "execution_count": 148,
   "metadata": {},
   "outputs": [],
   "source": [
    "# Defining the appropriate objective function for more regularized Extra Trees classifier\n",
    "def objective_wrappper_ext_reg(X_tr, y_tr, cls=None, cv_strat=None, cl_w=None):\n",
    "    '''\n",
    "    Optimizes Extra Trees parameters on the given training set X_tr,y_tr\n",
    "    using cv_strat cross-validation & cl_w class weight objects.\n",
    "    \n",
    "    '''\n",
    "    \n",
    "    def objective(trial):\n",
    "        params = {\n",
    "        'max_depth': trial.suggest_categorical('max_depth',list(range(2,35))),# More Regularization\n",
    "        'n_estimators':trial.suggest_int('n_estimators',500,1500,10),# More Regularization\n",
    "        'class_weight':trial.suggest_categorical('class_weight',cl_w),\n",
    "        'min_samples_leaf':trial.suggest_loguniform('min_samples_leaf',.0005,.1)# More Regularization\n",
    "          }\n",
    "        \n",
    "        cls.set_params(**params)#Initializing the model with the parameters \n",
    "    \n",
    "        return np.mean(cross_val_score(cls, X_tr, y_tr, cv=cv_strat, n_jobs=5, scoring='roc_auc'))  \n",
    "    return objective"
   ]
  },
  {
   "cell_type": "markdown",
   "metadata": {},
   "source": [
    "#### Computing the best hyperparameters for the regularized Extra Trees Classifier using Optuna."
   ]
  },
  {
   "cell_type": "code",
   "execution_count": 149,
   "metadata": {},
   "outputs": [
    {
     "name": "stderr",
     "output_type": "stream",
     "text": [
      "\u001b[32m[I 2021-01-01 19:04:42,883]\u001b[0m A new study created in memory with name: no-name-289e43cb-2e3b-46e8-810b-dcc43391be30\u001b[0m\n",
      "\u001b[32m[I 2021-01-01 19:06:07,805]\u001b[0m Trial 0 finished with value: 0.7243081480957138 and parameters: {'max_depth': 5, 'n_estimators': 540, 'class_weight': 'balanced', 'min_samples_leaf': 0.005005463296305543}. Best is trial 0 with value: 0.7243081480957138.\u001b[0m\n",
      "\u001b[32m[I 2021-01-01 19:11:10,884]\u001b[0m Trial 1 finished with value: 0.7289954039459501 and parameters: {'max_depth': 20, 'n_estimators': 1260, 'class_weight': {0: 1.0, 1: 14}, 'min_samples_leaf': 0.00782709643214022}. Best is trial 1 with value: 0.7289954039459501.\u001b[0m\n",
      "\u001b[32m[I 2021-01-01 19:20:57,942]\u001b[0m Trial 2 finished with value: 0.7415913311378238 and parameters: {'max_depth': 24, 'n_estimators': 1500, 'class_weight': {0: 1.0, 1: 15}, 'min_samples_leaf': 0.0005515213337460888}. Best is trial 2 with value: 0.7415913311378238.\u001b[0m\n",
      "\u001b[32m[I 2021-01-01 19:24:46,477]\u001b[0m Trial 3 finished with value: 0.7230107944553851 and parameters: {'max_depth': 17, 'n_estimators': 1290, 'class_weight': {0: 1.0, 1: 13}, 'min_samples_leaf': 0.02153105335046683}. Best is trial 2 with value: 0.7415913311378238.\u001b[0m\n",
      "\u001b[32m[I 2021-01-01 19:26:48,479]\u001b[0m Trial 4 finished with value: 0.7307710411056959 and parameters: {'max_depth': 8, 'n_estimators': 540, 'class_weight': {0: 1.0, 1: 15}, 'min_samples_leaf': 0.0027335981980969983}. Best is trial 2 with value: 0.7415913311378238.\u001b[0m\n",
      "\u001b[32m[I 2021-01-01 19:28:19,854]\u001b[0m Trial 5 finished with value: 0.7193587443284344 and parameters: {'max_depth': 4, 'n_estimators': 800, 'class_weight': {0: 1.0, 1: 12}, 'min_samples_leaf': 0.019774358389775183}. Best is trial 2 with value: 0.7415913311378238.\u001b[0m\n",
      "\u001b[32m[I 2021-01-01 19:30:07,887]\u001b[0m Trial 6 finished with value: 0.720243934258123 and parameters: {'max_depth': 4, 'n_estimators': 920, 'class_weight': {0: 1.0, 1: 17}, 'min_samples_leaf': 0.0024801671313637906}. Best is trial 2 with value: 0.7415913311378238.\u001b[0m\n",
      "\u001b[32m[I 2021-01-01 19:33:16,169]\u001b[0m Trial 7 finished with value: 0.718124237621103 and parameters: {'max_depth': 22, 'n_estimators': 1310, 'class_weight': {0: 1.0, 1: 12}, 'min_samples_leaf': 0.03771607085973855}. Best is trial 2 with value: 0.7415913311378238.\u001b[0m\n",
      "\u001b[32m[I 2021-01-01 19:38:05,024]\u001b[0m Trial 8 finished with value: 0.731259408232424 and parameters: {'max_depth': 34, 'n_estimators': 1110, 'class_weight': {0: 1.0, 1: 18}, 'min_samples_leaf': 0.00543120298694627}. Best is trial 2 with value: 0.7415913311378238.\u001b[0m\n",
      "\u001b[32m[I 2021-01-01 19:45:43,524]\u001b[0m Trial 9 finished with value: 0.7384871473526505 and parameters: {'max_depth': 24, 'n_estimators': 1330, 'class_weight': {0: 1.0, 1: 18}, 'min_samples_leaf': 0.0011963090601489123}. Best is trial 2 with value: 0.7415913311378238.\u001b[0m\n",
      "\u001b[32m[I 2021-01-01 19:55:10,550]\u001b[0m Trial 10 finished with value: 0.7407889726730317 and parameters: {'max_depth': 27, 'n_estimators': 1500, 'class_weight': {0: 1.0, 1: 15}, 'min_samples_leaf': 0.0006663851142726304}. Best is trial 2 with value: 0.7415913311378238.\u001b[0m\n",
      "\u001b[32m[I 2021-01-01 20:05:00,174]\u001b[0m Trial 11 finished with value: 0.7417565940944973 and parameters: {'max_depth': 27, 'n_estimators': 1500, 'class_weight': {0: 1.0, 1: 15}, 'min_samples_leaf': 0.0005123250348786321}. Best is trial 11 with value: 0.7417565940944973.\u001b[0m\n",
      "\u001b[32m[I 2021-01-01 20:14:06,508]\u001b[0m Trial 12 finished with value: 0.7400755106626548 and parameters: {'max_depth': 15, 'n_estimators': 1500, 'class_weight': {0: 1.0, 1: 16}, 'min_samples_leaf': 0.0005733370083808087}. Best is trial 11 with value: 0.7417565940944973.\u001b[0m\n",
      "\u001b[32m[I 2021-01-01 20:23:15,954]\u001b[0m Trial 13 finished with value: 0.7409028753958894 and parameters: {'max_depth': 16, 'n_estimators': 1460, 'class_weight': {0: 1.0, 1: 15}, 'min_samples_leaf': 0.0005018377831283956}. Best is trial 11 with value: 0.7417565940944973.\u001b[0m\n",
      "\u001b[32m[I 2021-01-01 20:26:21,473]\u001b[0m Trial 14 finished with value: 0.7267881464072679 and parameters: {'max_depth': 6, 'n_estimators': 1060, 'class_weight': {0: 1.0, 1: 15}, 'min_samples_leaf': 0.0012757318219607518}. Best is trial 11 with value: 0.7417565940944973.\u001b[0m\n",
      "\u001b[32m[I 2021-01-01 20:33:45,325]\u001b[0m Trial 15 finished with value: 0.7367924548757068 and parameters: {'max_depth': 12, 'n_estimators': 1430, 'class_weight': {0: 1.0, 1: 15}, 'min_samples_leaf': 0.0011467663380221118}. Best is trial 11 with value: 0.7417565940944973.\u001b[0m\n",
      "\u001b[32m[I 2021-01-01 20:41:33,224]\u001b[0m Trial 16 finished with value: 0.7416803931925807 and parameters: {'max_depth': 27, 'n_estimators': 1190, 'class_weight': {0: 1.0, 1: 13}, 'min_samples_leaf': 0.0005085484627772119}. Best is trial 11 with value: 0.7417565940944973.\u001b[0m\n",
      "\u001b[32m[I 2021-01-01 20:43:28,485]\u001b[0m Trial 17 finished with value: 0.7073868350853324 and parameters: {'max_depth': 27, 'n_estimators': 1170, 'class_weight': {0: 1.0, 1: 13}, 'min_samples_leaf': 0.0860763951584326}. Best is trial 11 with value: 0.7417565940944973.\u001b[0m\n",
      "\u001b[32m[I 2021-01-01 20:46:32,128]\u001b[0m Trial 18 finished with value: 0.7292314712089921 and parameters: {'max_depth': 7, 'n_estimators': 910, 'class_weight': {0: 1.0, 1: 13}, 'min_samples_leaf': 0.002449059934210341}. Best is trial 11 with value: 0.7417565940944973.\u001b[0m\n",
      "\u001b[32m[I 2021-01-01 20:50:53,334]\u001b[0m Trial 19 finished with value: 0.7398457327248394 and parameters: {'max_depth': 25, 'n_estimators': 720, 'class_weight': {0: 1.0, 1: 14}, 'min_samples_leaf': 0.0008714988363180535}. Best is trial 11 with value: 0.7417565940944973.\u001b[0m\n",
      "\u001b[32m[I 2021-01-01 20:57:23,711]\u001b[0m Trial 20 finished with value: 0.7366951133296091 and parameters: {'max_depth': 28, 'n_estimators': 1210, 'class_weight': {0: 1.0, 1: 17}, 'min_samples_leaf': 0.001735459604369887}. Best is trial 11 with value: 0.7417565940944973.\u001b[0m\n",
      "\u001b[32m[I 2021-01-01 21:06:28,898]\u001b[0m Trial 21 finished with value: 0.7416520577384101 and parameters: {'max_depth': 27, 'n_estimators': 1390, 'class_weight': {0: 1.0, 1: 15}, 'min_samples_leaf': 0.0005153308706243991}. Best is trial 11 with value: 0.7417565940944973.\u001b[0m\n",
      "\u001b[32m[I 2021-01-01 21:15:03,127]\u001b[0m Trial 22 finished with value: 0.7402502342101519 and parameters: {'max_depth': 27, 'n_estimators': 1390, 'class_weight': {0: 1.0, 1: 13}, 'min_samples_leaf': 0.0007638546991204151}. Best is trial 11 with value: 0.7417565940944973.\u001b[0m\n",
      "\u001b[32m[I 2021-01-01 21:24:10,962]\u001b[0m Trial 23 finished with value: 0.7417410360833919 and parameters: {'max_depth': 23, 'n_estimators': 1390, 'class_weight': 'balanced', 'min_samples_leaf': 0.000501754829538267}. Best is trial 11 with value: 0.7417565940944973.\u001b[0m\n",
      "\u001b[32m[I 2021-01-01 21:31:40,259]\u001b[0m Trial 24 finished with value: 0.7397112599721575 and parameters: {'max_depth': 23, 'n_estimators': 1220, 'class_weight': 'balanced', 'min_samples_leaf': 0.0009103225677125782}. Best is trial 11 with value: 0.7417565940944973.\u001b[0m\n",
      "\u001b[32m[I 2021-01-01 21:37:45,447]\u001b[0m Trial 25 finished with value: 0.7375243505253694 and parameters: {'max_depth': 33, 'n_estimators': 1100, 'class_weight': 'balanced', 'min_samples_leaf': 0.0015317234865521437}. Best is trial 11 with value: 0.7417565940944973.\u001b[0m\n",
      "\u001b[32m[I 2021-01-01 21:46:25,590]\u001b[0m Trial 26 finished with value: 0.7412790485701344 and parameters: {'max_depth': 18, 'n_estimators': 1350, 'class_weight': {0: 1.0, 1: 16}, 'min_samples_leaf': 0.0005422657548848426}. Best is trial 11 with value: 0.7417565940944973.\u001b[0m\n",
      "\u001b[32m[I 2021-01-01 21:53:30,457]\u001b[0m Trial 27 finished with value: 0.7401264835222512 and parameters: {'max_depth': 32, 'n_estimators': 1160, 'class_weight': 'balanced', 'min_samples_leaf': 0.0008290702835062159}. Best is trial 11 with value: 0.7417565940944973.\u001b[0m\n",
      "\u001b[32m[I 2021-01-01 21:58:07,752]\u001b[0m Trial 28 finished with value: 0.7331650267156025 and parameters: {'max_depth': 19, 'n_estimators': 990, 'class_weight': 'balanced', 'min_samples_leaf': 0.0037173916055043862}. Best is trial 11 with value: 0.7417565940944973.\u001b[0m\n",
      "\u001b[32m[I 2021-01-01 22:03:48,947]\u001b[0m Trial 29 finished with value: 0.729618259593913 and parameters: {'max_depth': 26, 'n_estimators': 1420, 'class_weight': {0: 1.0, 1: 13}, 'min_samples_leaf': 0.0074895364645736155}. Best is trial 11 with value: 0.7417565940944973.\u001b[0m\n"
     ]
    },
    {
     "name": "stderr",
     "output_type": "stream",
     "text": [
      "\u001b[32m[I 2021-01-01 22:08:08,771]\u001b[0m Trial 30 finished with value: 0.7264877295945456 and parameters: {'max_depth': 9, 'n_estimators': 1250, 'class_weight': 'balanced', 'min_samples_leaf': 0.010892911359690985}. Best is trial 11 with value: 0.7417565940944973.\u001b[0m\n",
      "\u001b[32m[I 2021-01-01 22:15:55,820]\u001b[0m Trial 31 finished with value: 0.7391383265853111 and parameters: {'max_depth': 13, 'n_estimators': 1360, 'class_weight': {0: 1.0, 1: 15}, 'min_samples_leaf': 0.0005473950281549241}. Best is trial 11 with value: 0.7417565940944973.\u001b[0m\n",
      "\u001b[32m[I 2021-01-01 22:23:25,638]\u001b[0m Trial 32 finished with value: 0.7368095191941213 and parameters: {'max_depth': 31, 'n_estimators': 1400, 'class_weight': {0: 1.0, 1: 14}, 'min_samples_leaf': 0.0018083198815433464}. Best is trial 11 with value: 0.7417565940944973.\u001b[0m\n",
      "\u001b[32m[I 2021-01-01 22:32:18,574]\u001b[0m Trial 33 finished with value: 0.7393314490515224 and parameters: {'max_depth': 27, 'n_estimators': 1500, 'class_weight': {0: 1.0, 1: 15}, 'min_samples_leaf': 0.0010093811588794484}. Best is trial 11 with value: 0.7417565940944973.\u001b[0m\n",
      "\u001b[32m[I 2021-01-01 22:39:07,772]\u001b[0m Trial 34 finished with value: 0.7367212819849357 and parameters: {'max_depth': 11, 'n_estimators': 1280, 'class_weight': {0: 1.0, 1: 15}, 'min_samples_leaf': 0.0006383826382621145}. Best is trial 11 with value: 0.7417565940944973.\u001b[0m\n",
      "\u001b[32m[I 2021-01-01 22:48:43,352]\u001b[0m Trial 35 finished with value: 0.7417207717311377 and parameters: {'max_depth': 23, 'n_estimators': 1460, 'class_weight': {0: 1.0, 1: 13}, 'min_samples_leaf': 0.0005029627719415241}. Best is trial 11 with value: 0.7417565940944973.\u001b[0m\n",
      "\u001b[32m[I 2021-01-01 22:57:52,792]\u001b[0m Trial 36 finished with value: 0.7407250546007933 and parameters: {'max_depth': 23, 'n_estimators': 1460, 'class_weight': {0: 1.0, 1: 13}, 'min_samples_leaf': 0.0006881022084549485}. Best is trial 11 with value: 0.7417565940944973.\u001b[0m\n",
      "\u001b[32m[I 2021-01-01 23:06:17,207]\u001b[0m Trial 37 finished with value: 0.7414941460226576 and parameters: {'max_depth': 23, 'n_estimators': 1290, 'class_weight': {0: 1.0, 1: 13}, 'min_samples_leaf': 0.000527218186185315}. Best is trial 11 with value: 0.7417565940944973.\u001b[0m\n",
      "\u001b[32m[I 2021-01-01 23:08:30,164]\u001b[0m Trial 38 finished with value: 0.7056232722859976 and parameters: {'max_depth': 10, 'n_estimators': 1460, 'class_weight': {0: 1.0, 1: 13}, 'min_samples_leaf': 0.09956261969374192}. Best is trial 11 with value: 0.7417565940944973.\u001b[0m\n",
      "\u001b[32m[I 2021-01-01 23:15:57,615]\u001b[0m Trial 39 finished with value: 0.7378452202231525 and parameters: {'max_depth': 30, 'n_estimators': 1340, 'class_weight': {0: 1.0, 1: 12}, 'min_samples_leaf': 0.0014301199251596066}. Best is trial 11 with value: 0.7417565940944973.\u001b[0m\n",
      "\u001b[32m[I 2021-01-01 23:20:13,442]\u001b[0m Trial 40 finished with value: 0.7265962988518598 and parameters: {'max_depth': 14, 'n_estimators': 1180, 'class_weight': {0: 1.0, 1: 17}, 'min_samples_leaf': 0.010996008662859092}. Best is trial 11 with value: 0.7417565940944973.\u001b[0m\n",
      "\u001b[32m[I 2021-01-01 23:28:49,279]\u001b[0m Trial 41 finished with value: 0.7402010990081506 and parameters: {'max_depth': 21, 'n_estimators': 1390, 'class_weight': {0: 1.0, 1: 18}, 'min_samples_leaf': 0.0007410860170343345}. Best is trial 11 with value: 0.7417565940944973.\u001b[0m\n",
      "\u001b[32m[I 2021-01-01 23:38:16,852]\u001b[0m Trial 42 finished with value: 0.7417691046915931 and parameters: {'max_depth': 29, 'n_estimators': 1440, 'class_weight': {0: 1.0, 1: 13}, 'min_samples_leaf': 0.0005035858131451156}. Best is trial 42 with value: 0.7417691046915931.\u001b[0m\n",
      "\u001b[32m[I 2021-01-01 23:39:50,545]\u001b[0m Trial 43 finished with value: 0.716184182442126 and parameters: {'max_depth': 2, 'n_estimators': 1500, 'class_weight': {0: 1.0, 1: 13}, 'min_samples_leaf': 0.0010449426975288267}. Best is trial 42 with value: 0.7417691046915931.\u001b[0m\n",
      "\u001b[32m[I 2021-01-01 23:48:59,128]\u001b[0m Trial 44 finished with value: 0.7408622711126709 and parameters: {'max_depth': 20, 'n_estimators': 1450, 'class_weight': {0: 1.0, 1: 13}, 'min_samples_leaf': 0.0006363445284047684}. Best is trial 42 with value: 0.7417691046915931.\u001b[0m\n",
      "\u001b[32m[I 2021-01-01 23:51:12,855]\u001b[0m Trial 45 finished with value: 0.7191747003435767 and parameters: {'max_depth': 3, 'n_estimators': 1500, 'class_weight': {0: 1.0, 1: 13}, 'min_samples_leaf': 0.000514415856056733}. Best is trial 42 with value: 0.7417691046915931.\u001b[0m\n",
      "\u001b[32m[I 2021-01-01 23:53:55,163]\u001b[0m Trial 46 finished with value: 0.7138044194937967 and parameters: {'max_depth': 29, 'n_estimators': 1310, 'class_weight': {0: 1.0, 1: 16}, 'min_samples_leaf': 0.05380384174788295}. Best is trial 42 with value: 0.7417691046915931.\u001b[0m\n",
      "\u001b[32m[I 2021-01-01 23:55:08,743]\u001b[0m Trial 47 finished with value: 0.7252690099015139 and parameters: {'max_depth': 5, 'n_estimators': 500, 'class_weight': {0: 1.0, 1: 12}, 'min_samples_leaf': 0.0005015491156864727}. Best is trial 42 with value: 0.7417691046915931.\u001b[0m\n",
      "\u001b[32m[I 2021-01-02 00:02:44,212]\u001b[0m Trial 48 finished with value: 0.7396806988829965 and parameters: {'max_depth': 29, 'n_estimators': 1260, 'class_weight': {0: 1.0, 1: 13}, 'min_samples_leaf': 0.0008924743812537022}. Best is trial 42 with value: 0.7417691046915931.\u001b[0m\n",
      "\u001b[32m[I 2021-01-02 00:09:21,213]\u001b[0m Trial 49 finished with value: 0.7341476950799348 and parameters: {'max_depth': 17, 'n_estimators': 1360, 'class_weight': {0: 1.0, 1: 18}, 'min_samples_leaf': 0.003093966856169102}. Best is trial 42 with value: 0.7417691046915931.\u001b[0m\n"
     ]
    }
   ],
   "source": [
    "# Extracting the best model parameters and best study score\n",
    "best_study_score,best_study_params = study_best_score_params(X_train, y_train, ext_s_reg, objective_wrappper_ext_reg, cv_strat,\n",
    "                                                            cl_weight_reg, n_trials=50)"
   ]
  },
  {
   "cell_type": "code",
   "execution_count": 150,
   "metadata": {},
   "outputs": [
    {
     "name": "stdout",
     "output_type": "stream",
     "text": [
      "The best roc_auc_score for the study is:  0.7417691046915931\n"
     ]
    }
   ],
   "source": [
    "print('The best roc_auc_score for the study is: ',best_study_score)"
   ]
  },
  {
   "cell_type": "code",
   "execution_count": 151,
   "metadata": {},
   "outputs": [
    {
     "name": "stdout",
     "output_type": "stream",
     "text": [
      "The best study parameters for the classifier are:  {'max_depth': 29, 'n_estimators': 1440, 'class_weight': {0: 1.0, 1: 13}, 'min_samples_leaf': 0.0005035858131451156}\n"
     ]
    }
   ],
   "source": [
    "print('The best study parameters for the classifier are: ', best_study_params)"
   ]
  },
  {
   "cell_type": "code",
   "execution_count": 152,
   "metadata": {},
   "outputs": [],
   "source": [
    "# Obtaining the best regularized Extra Trees model by setting tuned best study parameters.\n",
    "ext_s_reg = ext_s_reg.set_params(**best_study_params)"
   ]
  },
  {
   "cell_type": "code",
   "execution_count": 153,
   "metadata": {},
   "outputs": [
    {
     "data": {
      "text/plain": [
       "ExtraTreesClassifier(class_weight={0: 1.0, 1: 13}, max_depth=29,\n",
       "                     min_samples_leaf=0.0005035858131451156, n_estimators=1440,\n",
       "                     n_jobs=5, random_state=42)"
      ]
     },
     "execution_count": 153,
     "metadata": {},
     "output_type": "execute_result"
    }
   ],
   "source": [
    "# fitting the best regularized Extra Trees model on the reduced feature training set\n",
    "ext_s_reg.fit(X_train, y_train)"
   ]
  },
  {
   "cell_type": "code",
   "execution_count": 154,
   "metadata": {},
   "outputs": [
    {
     "name": "stdout",
     "output_type": "stream",
     "text": [
      "The roc_auc_score for the reduced feature training set using the best regularized Extra Trees Classifier is  0.8048057417779043\n"
     ]
    }
   ],
   "source": [
    "# Calculating the reduced feature training set roc_auc score using the tuned best study parameters\n",
    "cal_roc_auc(X_train, y_train, ext_s_reg, 'reduced feature', 'training', 'regularized Extra Trees Classifier')"
   ]
  },
  {
   "cell_type": "code",
   "execution_count": 155,
   "metadata": {},
   "outputs": [
    {
     "name": "stdout",
     "output_type": "stream",
     "text": [
      "The roc_auc_score for the reduced feature test set using the best regularized Extra Trees Classifier is  0.7463489011999241\n"
     ]
    }
   ],
   "source": [
    "# Calculating the reduced feature test set roc_auc score using the tuned best study parameters\n",
    "cal_roc_auc(X_test, y_test, ext_s_reg, 'reduced feature', 'test', 'regularized Extra Trees Classifier')"
   ]
  },
  {
   "cell_type": "markdown",
   "metadata": {},
   "source": [
    "### Calculating R_R ratio for regularized Extra Trees Classifier_1 tuned through Optuna."
   ]
  },
  {
   "cell_type": "code",
   "execution_count": 156,
   "metadata": {},
   "outputs": [],
   "source": [
    "# Computing the CV scores using sklearn's cross_val_score\n",
    "score_Extra_Trees_1 = cross_val_score(ext_s_reg, X_train, y_train, cv=cv_strat, n_jobs=5, scoring='roc_auc')"
   ]
  },
  {
   "cell_type": "code",
   "execution_count": 158,
   "metadata": {},
   "outputs": [
    {
     "name": "stdout",
     "output_type": "stream",
     "text": [
      "The reward associated with the best regularized Extra Trees Classifier_1 using roc_auc metric is:  0.7417691046915931\n"
     ]
    }
   ],
   "source": [
    "print('The reward associated with the best regularized Extra Trees Classifier_1 using roc_auc metric is: ',np.mean(score_Extra_Trees_1))"
   ]
  },
  {
   "cell_type": "code",
   "execution_count": 159,
   "metadata": {},
   "outputs": [
    {
     "name": "stdout",
     "output_type": "stream",
     "text": [
      "The risk associated with the best regularized Extra Trees Classifier using roc_auc metric is:  0.003826060533215682\n"
     ]
    }
   ],
   "source": [
    "print('The risk associated with the best regularized Extra Trees Classifier using roc_auc metric is: ',np.std(score_Extra_Trees_1))"
   ]
  },
  {
   "cell_type": "code",
   "execution_count": 160,
   "metadata": {},
   "outputs": [],
   "source": [
    "R_R_Ratio_Extra_Trees_1 = np.mean(score_Extra_Trees_1)/np.std(score_Extra_Trees_1)"
   ]
  },
  {
   "cell_type": "code",
   "execution_count": 161,
   "metadata": {},
   "outputs": [
    {
     "name": "stdout",
     "output_type": "stream",
     "text": [
      "The reward risk ratio for the best regularized Extra trees Classifier_1 using roc_auc metric is:  193.8728094477271\n"
     ]
    }
   ],
   "source": [
    "print('The reward risk ratio for the best regularized Extra trees Classifier_1 using roc_auc metric is: ',R_R_Ratio_Extra_Trees_1)"
   ]
  },
  {
   "cell_type": "code",
   "execution_count": 162,
   "metadata": {},
   "outputs": [
    {
     "name": "stdout",
     "output_type": "stream",
     "text": [
      "5 fold CV roc_auc scores for the optuna tuned Extra Trees classifier_1 are:  [0.73650949 0.74095577 0.74844313 0.74173813 0.74119901]\n"
     ]
    }
   ],
   "source": [
    "print('5 fold CV roc_auc scores for the optuna tuned Extra Trees classifier_1 are: ',score_Extra_Trees_1)"
   ]
  },
  {
   "cell_type": "code",
   "execution_count": 163,
   "metadata": {},
   "outputs": [
    {
     "data": {
      "text/plain": [
       "['Extra_Trees_Regularized.joblib']"
      ]
     },
     "execution_count": 163,
     "metadata": {},
     "output_type": "execute_result"
    }
   ],
   "source": [
    "# Saving the Optuna tuned regularized Extra Trees Classifier  \n",
    "joblib.dump(ext_s_reg,'Extra_Trees_Regularized.joblib')"
   ]
  },
  {
   "cell_type": "markdown",
   "metadata": {},
   "source": [
    "#### R_R Ratio for the regularized Extra Trees classifier_1 using roc_auc metric is: 193.8728094477271"
   ]
  },
  {
   "cell_type": "markdown",
   "metadata": {},
   "source": [
    "## Observation(s):\n",
    "### 1) As observed above, the Extra Trees classifier_1 has substantially reduced the overfitting , but the test set roc_auc score as well as the R_R ratio has also taken a beating.\n",
    "### 2) The Extra Trees Classifier_1 is making use of high number of estimators to achieve scores comparable to the best Random Forest Classifier, viz.  Random forest classifier_2, resulting in a more computationally expensive model.\n"
   ]
  },
  {
   "cell_type": "markdown",
   "metadata": {},
   "source": [
    "### Taking everything into consideration, viz. Overfitting, test set roc_auc score, R_R ratios & Computational costs, the best tree based bagging classifier is Random Forest classifier_2."
   ]
  },
  {
   "cell_type": "markdown",
   "metadata": {},
   "source": [
    "### R_R Ratio for the best Tree based bagging classifier using roc_auc score is:  200.0351593064627,  corresponding to Tuned Extra Trees classifier."
   ]
  },
  {
   "cell_type": "code",
   "execution_count": null,
   "metadata": {},
   "outputs": [],
   "source": []
  }
 ],
 "metadata": {
  "kernelspec": {
   "display_name": "Python 3",
   "language": "python",
   "name": "python3"
  },
  "language_info": {
   "codemirror_mode": {
    "name": "ipython",
    "version": 3
   },
   "file_extension": ".py",
   "mimetype": "text/x-python",
   "name": "python",
   "nbconvert_exporter": "python",
   "pygments_lexer": "ipython3",
   "version": "3.8.5"
  }
 },
 "nbformat": 4,
 "nbformat_minor": 4
}
