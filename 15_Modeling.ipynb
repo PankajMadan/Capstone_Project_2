{
 "cells": [
  {
   "cell_type": "code",
   "execution_count": 1,
   "metadata": {},
   "outputs": [],
   "source": [
    "# Importing all the relevant packages\n",
    "import pandas as pd\n",
    "import numpy as np\n",
    "import matplotlib.pyplot as plt\n",
    "import seaborn as sns\n",
    "import warnings\n",
    "warnings.filterwarnings(\"ignore\")\n",
    "pd.set_option('display.max_columns', None)# To see all the columns of a dataframe\n",
    "#pd.set_option('display.max_rows', None)"
   ]
  },
  {
   "cell_type": "code",
   "execution_count": 2,
   "metadata": {},
   "outputs": [],
   "source": [
    "# Function to reduce the memory usage of various Dataframes\n",
    "def reduce_mem_usage(df):\n",
    "    \"\"\" iterate through all the columns of a dataframe and modify the data type\n",
    "        to reduce memory usage.        \n",
    "       \n",
    "        1. Iterate over every column\n",
    "        2. Determine if the column is numeric\n",
    "        3. Determine if the column can be represented by an integer\n",
    "        4. Find the min and the max value\n",
    "        5. Determine and apply the smallest datatype that can fit the range of values\n",
    "\n",
    "    \"\"\"\n",
    "    start_mem = df.memory_usage().sum() / 1024**2\n",
    "    print('Memory usage of dataframe is {:.2f} MB'.format(start_mem))\n",
    "    \n",
    "    for col in df.columns:\n",
    "        col_type = df[col].dtype\n",
    "        \n",
    "        if col_type != object:\n",
    "            c_min = df[col].min()\n",
    "            c_max = df[col].max()\n",
    "            if str(col_type)[:3] == 'int':\n",
    "                if c_min > np.iinfo(np.int8).min and c_max < np.iinfo(np.int8).max:\n",
    "                    df[col] = df[col].astype(np.int8)\n",
    "                elif c_min > np.iinfo(np.int16).min and c_max < np.iinfo(np.int16).max:\n",
    "                    df[col] = df[col].astype(np.int16)\n",
    "                elif c_min > np.iinfo(np.int32).min and c_max < np.iinfo(np.int32).max:\n",
    "                    df[col] = df[col].astype(np.int32)\n",
    "                elif c_min > np.iinfo(np.int64).min and c_max < np.iinfo(np.int64).max:\n",
    "                    df[col] = df[col].astype(np.int64)  \n",
    "            else:\n",
    "                if c_min > np.finfo(np.float16).min and c_max < np.finfo(np.float16).max:\n",
    "                    df[col] = df[col].astype(np.float16)\n",
    "                elif c_min > np.finfo(np.float32).min and c_max < np.finfo(np.float32).max:\n",
    "                    df[col] = df[col].astype(np.float32)\n",
    "                else:\n",
    "                    df[col] = df[col].astype(np.float64)\n",
    "        else:\n",
    "            df[col] = df[col].astype('category')\n",
    "\n",
    "    end_mem = df.memory_usage().sum() / 1024**2\n",
    "    print('Memory usage after optimization is: {:.2f} MB'.format(end_mem))\n",
    "    print('Decreased by {:.1f}%'.format(100 * (start_mem - end_mem) / start_mem))\n",
    "    \n",
    "    return df\n"
   ]
  },
  {
   "cell_type": "code",
   "execution_count": 3,
   "metadata": {},
   "outputs": [],
   "source": [
    "def import_data(file):\n",
    "    \"\"\"create a dataframe and optimize its memory usage\"\"\"\n",
    "    df = pd.read_csv(file, parse_dates=True, keep_date_col=True)\n",
    "    df = reduce_mem_usage(df)\n",
    "    return df"
   ]
  },
  {
   "cell_type": "code",
   "execution_count": 4,
   "metadata": {},
   "outputs": [
    {
     "name": "stdout",
     "output_type": "stream",
     "text": [
      "Memory usage of dataframe is 181.24 MB\n",
      "Memory usage after optimization is: 38.27 MB\n",
      "Decreased by 78.9%\n"
     ]
    }
   ],
   "source": [
    "# Loadiing reduced feature training set\n",
    "X_train = import_data('X_train_final.csv')\n",
    "y_train = pd.read_csv('y_train.final.csv')"
   ]
  },
  {
   "cell_type": "code",
   "execution_count": 5,
   "metadata": {},
   "outputs": [
    {
     "name": "stdout",
     "output_type": "stream",
     "text": [
      "Memory usage of dataframe is 60.41 MB\n",
      "Memory usage after optimization is: 12.76 MB\n",
      "Decreased by 78.9%\n"
     ]
    }
   ],
   "source": [
    "# Loadiing reduced feature test set\n",
    "X_test = import_data('X_test_final.csv')\n",
    "y_test = pd.read_csv('y_test.final.csv')"
   ]
  },
  {
   "cell_type": "code",
   "execution_count": 6,
   "metadata": {},
   "outputs": [],
   "source": [
    "# Importing the Sklearn's roc_auc_score module\n",
    "from sklearn.metrics import roc_auc_score"
   ]
  },
  {
   "cell_type": "code",
   "execution_count": 7,
   "metadata": {},
   "outputs": [],
   "source": [
    "# Importing  hyperparamater tuning optimizer optuna\n",
    "import optuna"
   ]
  },
  {
   "cell_type": "code",
   "execution_count": 8,
   "metadata": {},
   "outputs": [],
   "source": [
    "# Importing required Libraries\n",
    "from sklearn.model_selection import StratifiedKFold\n",
    "from sklearn.model_selection import cross_val_score"
   ]
  },
  {
   "cell_type": "code",
   "execution_count": 9,
   "metadata": {},
   "outputs": [],
   "source": [
    "# Instantiating the Stratified K fold object\n",
    "cv_strat = StratifiedKFold(5,random_state=42)"
   ]
  },
  {
   "cell_type": "markdown",
   "metadata": {},
   "source": [
    "## Model_2  : Linear Discriminant Analysis Classifiers"
   ]
  },
  {
   "cell_type": "markdown",
   "metadata": {},
   "source": [
    "### Computing the test set roc_auc score using Vanilla LDA calssifier with SVD solver with no other hyperparameters to tune."
   ]
  },
  {
   "cell_type": "code",
   "execution_count": 10,
   "metadata": {},
   "outputs": [],
   "source": [
    "# Importing LDA Classifier\n",
    "from sklearn.discriminant_analysis import LinearDiscriminantAnalysis"
   ]
  },
  {
   "cell_type": "code",
   "execution_count": 11,
   "metadata": {},
   "outputs": [],
   "source": [
    "# Instantiating the classifier object \n",
    "lda_svd = LinearDiscriminantAnalysis(solver='svd')"
   ]
  },
  {
   "cell_type": "code",
   "execution_count": 12,
   "metadata": {},
   "outputs": [
    {
     "data": {
      "text/plain": [
       "LinearDiscriminantAnalysis()"
      ]
     },
     "execution_count": 12,
     "metadata": {},
     "output_type": "execute_result"
    }
   ],
   "source": [
    "# Fitting the classifier on the Training data directly as there are no hyperparameters to tune\n",
    "lda_svd.fit(X_train,y_train)"
   ]
  },
  {
   "cell_type": "code",
   "execution_count": 13,
   "metadata": {},
   "outputs": [],
   "source": [
    "# Defining the function to calculate the roc_auc score for the feature sets\n",
    "def cal_roc_auc(X, y, cls, f_set, t_set, model_name):\n",
    "    ''' Calculates the roc auc score using the best study parameters \n",
    "        f_set : String: specifies 'full feature', 'Reduced feature'\n",
    "        t_set: String: specifies 'training', 'test'\n",
    "        model_name: String: specifies Name of the model '''\n",
    "        \n",
    "    y_pred = cls.predict_proba(X)\n",
    "    print('The roc_auc_score for the {} {} set using the best {} is '.format(f_set, t_set, model_name), roc_auc_score(y, y_pred[:,1]))"
   ]
  },
  {
   "cell_type": "code",
   "execution_count": 14,
   "metadata": {},
   "outputs": [
    {
     "name": "stdout",
     "output_type": "stream",
     "text": [
      "The roc_auc_score for the Reduced feature training set using the best LDA_SVD Classifier is  0.752784029146089\n"
     ]
    }
   ],
   "source": [
    "# Calculating the Reduced feature training set roc_auc score.\n",
    "cal_roc_auc(X_train, y_train, lda_svd, 'Reduced feature', 'training', 'LDA_SVD Classifier')"
   ]
  },
  {
   "cell_type": "code",
   "execution_count": 15,
   "metadata": {},
   "outputs": [
    {
     "name": "stdout",
     "output_type": "stream",
     "text": [
      "The roc_auc_score for the Reduced feature test set using the best LDA_SVD Classifier is  0.7533073224907925\n"
     ]
    }
   ],
   "source": [
    "# Calculating the Reduced feature test set roc_auc score \n",
    "cal_roc_auc(X_test, y_test, lda_svd, 'Reduced feature', 'test', 'LDA_SVD Classifier')"
   ]
  },
  {
   "cell_type": "markdown",
   "metadata": {},
   "source": [
    "### Computing the best hyperparameters for the Linear Discriminant Classifier with ‘eigen’ solver using Reduced Feature Training Set."
   ]
  },
  {
   "cell_type": "code",
   "execution_count": 16,
   "metadata": {},
   "outputs": [],
   "source": [
    "# Instantiating the classifier object \n",
    "lda_eigen = LinearDiscriminantAnalysis(solver='eigen')"
   ]
  },
  {
   "cell_type": "code",
   "execution_count": 17,
   "metadata": {},
   "outputs": [],
   "source": [
    "# Defining the appropriate objective function for the LDA classifier\n",
    "def objective_wrappper_lda(X_tr, y_tr, cls=None, cv_strat=None):\n",
    "    '''\n",
    "    Optimizes Linear Discriminant Analysis parameters on the given training set X_tr,y_tr\n",
    "    using cv_strat cross-validation object\n",
    "    \n",
    "    '''\n",
    "    \n",
    "    def objective(trial):\n",
    "        params = {\n",
    "        'shrinkage': trial.suggest_uniform('shrinkage', 0, 1)\n",
    "        }\n",
    "        \n",
    "        cls.set_params(**params)#Initializing the model with the parameters \n",
    "    \n",
    "        return np.mean(cross_val_score(cls, X_tr, y_tr, cv=cv_strat, n_jobs=5, scoring='roc_auc'))  \n",
    "    return objective"
   ]
  },
  {
   "cell_type": "code",
   "execution_count": 18,
   "metadata": {},
   "outputs": [],
   "source": [
    "# Defining the evaluation function for study's best parameters\n",
    "def study_best_score_params(X_tr, y_tr, cls, obj_func, cv_strat, n_trials=100):\n",
    "    ''' Computes the best hyper parameters of the classsifier and returns \n",
    "    Optuna's study's best score & clasifier parameters'''\n",
    "    study = optuna.create_study(direction='maximize')\n",
    "    study.optimize(obj_func(X_tr, y_tr, cls, cv_strat), n_trials)\n",
    "    best_score = study.best_value\n",
    "    best_params = study.best_params\n",
    "    return (best_score,best_params)\n"
   ]
  },
  {
   "cell_type": "code",
   "execution_count": 19,
   "metadata": {},
   "outputs": [
    {
     "name": "stderr",
     "output_type": "stream",
     "text": [
      "\u001b[32m[I 2020-12-27 00:00:27,683]\u001b[0m A new study created in memory with name: no-name-10dbf9ab-fb61-48b2-b739-12d172a9d95e\u001b[0m\n",
      "\u001b[32m[I 2020-12-27 00:00:31,268]\u001b[0m Trial 0 finished with value: 0.747848919016227 and parameters: {'shrinkage': 0.25373611555814135}. Best is trial 0 with value: 0.747848919016227.\u001b[0m\n",
      "\u001b[32m[I 2020-12-27 00:00:33,625]\u001b[0m Trial 1 finished with value: 0.7321350288275011 and parameters: {'shrinkage': 0.7468270076530384}. Best is trial 0 with value: 0.747848919016227.\u001b[0m\n",
      "\u001b[32m[I 2020-12-27 00:00:35,906]\u001b[0m Trial 2 finished with value: 0.7358668246476705 and parameters: {'shrinkage': 0.6760662976360557}. Best is trial 0 with value: 0.747848919016227.\u001b[0m\n",
      "\u001b[32m[I 2020-12-27 00:00:38,163]\u001b[0m Trial 3 finished with value: 0.7496216968645756 and parameters: {'shrinkage': 0.14776624477196476}. Best is trial 3 with value: 0.7496216968645756.\u001b[0m\n",
      "\u001b[32m[I 2020-12-27 00:00:40,469]\u001b[0m Trial 4 finished with value: 0.7085589452499705 and parameters: {'shrinkage': 0.9713598223054516}. Best is trial 3 with value: 0.7496216968645756.\u001b[0m\n",
      "\u001b[32m[I 2020-12-27 00:00:42,811]\u001b[0m Trial 5 finished with value: 0.7501465812494764 and parameters: {'shrinkage': 0.11349419461595978}. Best is trial 5 with value: 0.7501465812494764.\u001b[0m\n",
      "\u001b[32m[I 2020-12-27 00:00:45,156]\u001b[0m Trial 6 finished with value: 0.7361979137929532 and parameters: {'shrinkage': 0.6688963832452585}. Best is trial 5 with value: 0.7501465812494764.\u001b[0m\n",
      "\u001b[32m[I 2020-12-27 00:00:47,501]\u001b[0m Trial 7 finished with value: 0.7467633807373059 and parameters: {'shrinkage': 0.31185816725416726}. Best is trial 5 with value: 0.7501465812494764.\u001b[0m\n",
      "\u001b[32m[I 2020-12-27 00:00:49,844]\u001b[0m Trial 8 finished with value: 0.7439998595909422 and parameters: {'shrinkage': 0.43791016058438603}. Best is trial 5 with value: 0.7501465812494764.\u001b[0m\n",
      "\u001b[32m[I 2020-12-27 00:00:52,109]\u001b[0m Trial 9 finished with value: 0.7444454994653122 and parameters: {'shrinkage': 0.4196958306313323}. Best is trial 5 with value: 0.7501465812494764.\u001b[0m\n",
      "\u001b[32m[I 2020-12-27 00:00:54,361]\u001b[0m Trial 10 finished with value: 0.7512634166135745 and parameters: {'shrinkage': 0.0004883505066630711}. Best is trial 10 with value: 0.7512634166135745.\u001b[0m\n",
      "\u001b[32m[I 2020-12-27 00:00:56,730]\u001b[0m Trial 11 finished with value: 0.7508416144233104 and parameters: {'shrinkage': 0.064605938013176}. Best is trial 10 with value: 0.7512634166135745.\u001b[0m\n",
      "\u001b[32m[I 2020-12-27 00:00:58,955]\u001b[0m Trial 12 finished with value: 0.7513446029823462 and parameters: {'shrinkage': 0.005467775048444812}. Best is trial 12 with value: 0.7513446029823462.\u001b[0m\n",
      "\u001b[32m[I 2020-12-27 00:01:01,281]\u001b[0m Trial 13 finished with value: 0.7513467517553404 and parameters: {'shrinkage': 0.005895486802125236}. Best is trial 13 with value: 0.7513467517553404.\u001b[0m\n",
      "\u001b[32m[I 2020-12-27 00:01:03,627]\u001b[0m Trial 14 finished with value: 0.7513423416986835 and parameters: {'shrinkage': 0.005178979559331822}. Best is trial 13 with value: 0.7513467517553404.\u001b[0m\n",
      "\u001b[32m[I 2020-12-27 00:01:05,938]\u001b[0m Trial 15 finished with value: 0.7478597879380859 and parameters: {'shrinkage': 0.25313753337979233}. Best is trial 13 with value: 0.7513467517553404.\u001b[0m\n",
      "\u001b[32m[I 2020-12-27 00:01:08,328]\u001b[0m Trial 16 finished with value: 0.749673168609502 and parameters: {'shrinkage': 0.1445298573471649}. Best is trial 13 with value: 0.7513467517553404.\u001b[0m\n",
      "\u001b[32m[I 2020-12-27 00:01:10,605]\u001b[0m Trial 17 finished with value: 0.751340449014495 and parameters: {'shrinkage': 0.004900015054249919}. Best is trial 13 with value: 0.7513467517553404.\u001b[0m\n",
      "\u001b[32m[I 2020-12-27 00:01:13,004]\u001b[0m Trial 18 finished with value: 0.7023515138751022 and parameters: {'shrinkage': 0.9954161853895058}. Best is trial 13 with value: 0.7513467517553404.\u001b[0m\n",
      "\u001b[32m[I 2020-12-27 00:01:15,486]\u001b[0m Trial 19 finished with value: 0.7413137761449536 and parameters: {'shrinkage': 0.5339291165939064}. Best is trial 13 with value: 0.7513467517553404.\u001b[0m\n",
      "\u001b[32m[I 2020-12-27 00:01:17,999]\u001b[0m Trial 20 finished with value: 0.748420990801779 and parameters: {'shrinkage': 0.22086095840053913}. Best is trial 13 with value: 0.7513467517553404.\u001b[0m\n",
      "\u001b[32m[I 2020-12-27 00:01:20,893]\u001b[0m Trial 21 finished with value: 0.7512956295392929 and parameters: {'shrinkage': 0.001655804827643461}. Best is trial 13 with value: 0.7513467517553404.\u001b[0m\n",
      "\u001b[32m[I 2020-12-27 00:01:23,244]\u001b[0m Trial 22 finished with value: 0.7509644510681834 and parameters: {'shrinkage': 0.05470702225724442}. Best is trial 13 with value: 0.7513467517553404.\u001b[0m\n",
      "\u001b[32m[I 2020-12-27 00:01:25,766]\u001b[0m Trial 23 finished with value: 0.7513543205322551 and parameters: {'shrinkage': 0.009101434102898598}. Best is trial 23 with value: 0.7513543205322551.\u001b[0m\n",
      "\u001b[32m[I 2020-12-27 00:01:28,173]\u001b[0m Trial 24 finished with value: 0.7501336287774157 and parameters: {'shrinkage': 0.1143417080129004}. Best is trial 23 with value: 0.7513543205322551.\u001b[0m\n",
      "\u001b[32m[I 2020-12-27 00:01:30,562]\u001b[0m Trial 25 finished with value: 0.7457781227502801 and parameters: {'shrinkage': 0.3604112627600755}. Best is trial 23 with value: 0.7513543205322551.\u001b[0m\n",
      "\u001b[32m[I 2020-12-27 00:01:33,033]\u001b[0m Trial 26 finished with value: 0.7487888724763676 and parameters: {'shrinkage': 0.19921236049834876}. Best is trial 23 with value: 0.7513543205322551.\u001b[0m\n",
      "\u001b[32m[I 2020-12-27 00:01:35,344]\u001b[0m Trial 27 finished with value: 0.7239568903721748 and parameters: {'shrinkage': 0.8577588580812741}. Best is trial 23 with value: 0.7513543205322551.\u001b[0m\n",
      "\u001b[32m[I 2020-12-27 00:01:37,753]\u001b[0m Trial 28 finished with value: 0.7508367760059281 and parameters: {'shrinkage': 0.06495624414282788}. Best is trial 23 with value: 0.7513543205322551.\u001b[0m\n",
      "\u001b[32m[I 2020-12-27 00:01:40,216]\u001b[0m Trial 29 finished with value: 0.74869564024761 and parameters: {'shrinkage': 0.20467047745114977}. Best is trial 23 with value: 0.7513543205322551.\u001b[0m\n",
      "\u001b[32m[I 2020-12-27 00:01:42,551]\u001b[0m Trial 30 finished with value: 0.7468986220224212 and parameters: {'shrinkage': 0.304942248085685}. Best is trial 23 with value: 0.7513543205322551.\u001b[0m\n",
      "\u001b[32m[I 2020-12-27 00:01:44,947]\u001b[0m Trial 31 finished with value: 0.7512549377403552 and parameters: {'shrinkage': 0.00022353489902903617}. Best is trial 23 with value: 0.7513543205322551.\u001b[0m\n",
      "\u001b[32m[I 2020-12-27 00:01:47,329]\u001b[0m Trial 32 finished with value: 0.7509832981915572 and parameters: {'shrinkage': 0.05321720038276741}. Best is trial 23 with value: 0.7513543205322551.\u001b[0m\n",
      "\u001b[32m[I 2020-12-27 00:01:49,673]\u001b[0m Trial 33 finished with value: 0.7513486916098344 and parameters: {'shrinkage': 0.006424504107134336}. Best is trial 23 with value: 0.7513543205322551.\u001b[0m\n",
      "\u001b[32m[I 2020-12-27 00:01:52,067]\u001b[0m Trial 34 finished with value: 0.7494678761123352 and parameters: {'shrinkage': 0.15752550174838262}. Best is trial 23 with value: 0.7513543205322551.\u001b[0m\n",
      "\u001b[32m[I 2020-12-27 00:01:54,515]\u001b[0m Trial 35 finished with value: 0.7504054051536087 and parameters: {'shrinkage': 0.09602005419659543}. Best is trial 23 with value: 0.7513543205322551.\u001b[0m\n",
      "\u001b[32m[I 2020-12-27 00:01:56,845]\u001b[0m Trial 36 finished with value: 0.7493281958874582 and parameters: {'shrinkage': 0.1662780827503012}. Best is trial 23 with value: 0.7513543205322551.\u001b[0m\n",
      "\u001b[32m[I 2020-12-27 00:01:59,157]\u001b[0m Trial 37 finished with value: 0.7399522192978335 and parameters: {'shrinkage': 0.5749603474336655}. Best is trial 23 with value: 0.7513543205322551.\u001b[0m\n",
      "\u001b[32m[I 2020-12-27 00:02:01,687]\u001b[0m Trial 38 finished with value: 0.7507417145609382 and parameters: {'shrinkage': 0.07217369700258694}. Best is trial 23 with value: 0.7513543205322551.\u001b[0m\n",
      "\u001b[32m[I 2020-12-27 00:02:04,017]\u001b[0m Trial 39 finished with value: 0.751313368078512 and parameters: {'shrinkage': 0.0025083414415709637}. Best is trial 23 with value: 0.7513543205322551.\u001b[0m\n",
      "\u001b[32m[I 2020-12-27 00:02:06,297]\u001b[0m Trial 40 finished with value: 0.7469111843963223 and parameters: {'shrinkage': 0.30430444462897255}. Best is trial 23 with value: 0.7513543205322551.\u001b[0m\n",
      "\u001b[32m[I 2020-12-27 00:02:08,829]\u001b[0m Trial 41 finished with value: 0.7513395951933414 and parameters: {'shrinkage': 0.004846896319114972}. Best is trial 23 with value: 0.7513543205322551.\u001b[0m\n",
      "\u001b[32m[I 2020-12-27 00:02:11,265]\u001b[0m Trial 42 finished with value: 0.7500956467680803 and parameters: {'shrinkage': 0.11683638345709171}. Best is trial 23 with value: 0.7513543205322551.\u001b[0m\n"
     ]
    },
    {
     "name": "stderr",
     "output_type": "stream",
     "text": [
      "\u001b[32m[I 2020-12-27 00:02:13,651]\u001b[0m Trial 43 finished with value: 0.7512311370318948 and parameters: {'shrinkage': 0.030692341568889506}. Best is trial 23 with value: 0.7513543205322551.\u001b[0m\n",
      "\u001b[32m[I 2020-12-27 00:02:16,111]\u001b[0m Trial 44 finished with value: 0.7505487201135097 and parameters: {'shrinkage': 0.08606679500444125}. Best is trial 23 with value: 0.7513543205322551.\u001b[0m\n",
      "\u001b[32m[I 2020-12-27 00:02:18,562]\u001b[0m Trial 45 finished with value: 0.7511243287781089 and parameters: {'shrinkage': 0.04143432837944776}. Best is trial 23 with value: 0.7513543205322551.\u001b[0m\n",
      "\u001b[32m[I 2020-12-27 00:02:20,968]\u001b[0m Trial 46 finished with value: 0.7496455499355122 and parameters: {'shrinkage': 0.1463092329712099}. Best is trial 23 with value: 0.7513543205322551.\u001b[0m\n",
      "\u001b[32m[I 2020-12-27 00:02:23,392]\u001b[0m Trial 47 finished with value: 0.750163996000839 and parameters: {'shrinkage': 0.11229682378557293}. Best is trial 23 with value: 0.7513543205322551.\u001b[0m\n",
      "\u001b[32m[I 2020-12-27 00:02:25,750]\u001b[0m Trial 48 finished with value: 0.7478602211280362 and parameters: {'shrinkage': 0.253112333629129}. Best is trial 23 with value: 0.7513543205322551.\u001b[0m\n",
      "\u001b[32m[I 2020-12-27 00:02:28,079]\u001b[0m Trial 49 finished with value: 0.7168851561526142 and parameters: {'shrinkage': 0.9216710083530564}. Best is trial 23 with value: 0.7513543205322551.\u001b[0m\n",
      "\u001b[32m[I 2020-12-27 00:02:30,484]\u001b[0m Trial 50 finished with value: 0.733138829089447 and parameters: {'shrinkage': 0.729386543969152}. Best is trial 23 with value: 0.7513543205322551.\u001b[0m\n",
      "\u001b[32m[I 2020-12-27 00:02:32,889]\u001b[0m Trial 51 finished with value: 0.7513374159045195 and parameters: {'shrinkage': 0.004440922408150567}. Best is trial 23 with value: 0.7513543205322551.\u001b[0m\n",
      "\u001b[32m[I 2020-12-27 00:02:35,249]\u001b[0m Trial 52 finished with value: 0.7512568700381086 and parameters: {'shrinkage': 0.027673738072347517}. Best is trial 23 with value: 0.7513543205322551.\u001b[0m\n",
      "\u001b[32m[I 2020-12-27 00:02:37,797]\u001b[0m Trial 53 finished with value: 0.751340858179676 and parameters: {'shrinkage': 0.0049374606555334915}. Best is trial 23 with value: 0.7513543205322551.\u001b[0m\n",
      "\u001b[32m[I 2020-12-27 00:02:40,186]\u001b[0m Trial 54 finished with value: 0.7511913943991569 and parameters: {'shrinkage': 0.03495868014837673}. Best is trial 23 with value: 0.7513543205322551.\u001b[0m\n",
      "\u001b[32m[I 2020-12-27 00:02:42,455]\u001b[0m Trial 55 finished with value: 0.7505228837362121 and parameters: {'shrinkage': 0.08791081716183666}. Best is trial 23 with value: 0.7513543205322551.\u001b[0m\n",
      "\u001b[32m[I 2020-12-27 00:02:44,937]\u001b[0m Trial 56 finished with value: 0.7512922332964107 and parameters: {'shrinkage': 0.0015074368019606264}. Best is trial 23 with value: 0.7513543205322551.\u001b[0m\n",
      "\u001b[32m[I 2020-12-27 00:02:47,394]\u001b[0m Trial 57 finished with value: 0.7492106775246254 and parameters: {'shrinkage': 0.17358802612292226}. Best is trial 23 with value: 0.7513543205322551.\u001b[0m\n",
      "\u001b[32m[I 2020-12-27 00:02:49,765]\u001b[0m Trial 58 finished with value: 0.7499407839170111 and parameters: {'shrinkage': 0.12714693406425723}. Best is trial 23 with value: 0.7513543205322551.\u001b[0m\n",
      "\u001b[32m[I 2020-12-27 00:02:52,174]\u001b[0m Trial 59 finished with value: 0.7510353744800735 and parameters: {'shrinkage': 0.049073276541322666}. Best is trial 23 with value: 0.7513543205322551.\u001b[0m\n",
      "\u001b[32m[I 2020-12-27 00:02:54,636]\u001b[0m Trial 60 finished with value: 0.7437058689485838 and parameters: {'shrinkage': 0.44945668885321294}. Best is trial 23 with value: 0.7513543205322551.\u001b[0m\n",
      "\u001b[32m[I 2020-12-27 00:02:57,392]\u001b[0m Trial 61 finished with value: 0.7512964893401708 and parameters: {'shrinkage': 0.02276276984310609}. Best is trial 23 with value: 0.7513543205322551.\u001b[0m\n",
      "\u001b[32m[I 2020-12-27 00:02:59,790]\u001b[0m Trial 62 finished with value: 0.7506029157080867 and parameters: {'shrinkage': 0.08227584241766092}. Best is trial 23 with value: 0.7513543205322551.\u001b[0m\n",
      "\u001b[32m[I 2020-12-27 00:03:02,316]\u001b[0m Trial 63 finished with value: 0.7513466174953851 and parameters: {'shrinkage': 0.00588507820711533}. Best is trial 23 with value: 0.7513543205322551.\u001b[0m\n",
      "\u001b[32m[I 2020-12-27 00:03:04,672]\u001b[0m Trial 64 finished with value: 0.7508647478553445 and parameters: {'shrinkage': 0.06278595733022699}. Best is trial 23 with value: 0.7513543205322551.\u001b[0m\n",
      "\u001b[32m[I 2020-12-27 00:03:07,299]\u001b[0m Trial 65 finished with value: 0.7512503787963206 and parameters: {'shrinkage': 0.028434667912075516}. Best is trial 23 with value: 0.7513543205322551.\u001b[0m\n",
      "\u001b[32m[I 2020-12-27 00:03:09,821]\u001b[0m Trial 66 finished with value: 0.7502863612099397 and parameters: {'shrinkage': 0.10397705775421134}. Best is trial 23 with value: 0.7513543205322551.\u001b[0m\n",
      "\u001b[32m[I 2020-12-27 00:03:12,386]\u001b[0m Trial 67 finished with value: 0.7491276505796876 and parameters: {'shrinkage': 0.1786848115492636}. Best is trial 23 with value: 0.7513543205322551.\u001b[0m\n",
      "\u001b[32m[I 2020-12-27 00:03:14,845]\u001b[0m Trial 68 finished with value: 0.7513150528350098 and parameters: {'shrinkage': 0.0025894994734704828}. Best is trial 23 with value: 0.7513543205322551.\u001b[0m\n",
      "\u001b[32m[I 2020-12-27 00:03:17,509]\u001b[0m Trial 69 finished with value: 0.7509347441242942 and parameters: {'shrinkage': 0.0570527289035431}. Best is trial 23 with value: 0.7513543205322551.\u001b[0m\n",
      "\u001b[32m[I 2020-12-27 00:03:20,346]\u001b[0m Trial 70 finished with value: 0.7498270998300307 and parameters: {'shrinkage': 0.1345343038832423}. Best is trial 23 with value: 0.7513543205322551.\u001b[0m\n",
      "\u001b[32m[I 2020-12-27 00:03:22,895]\u001b[0m Trial 71 finished with value: 0.7513175028812686 and parameters: {'shrinkage': 0.002753121921914556}. Best is trial 23 with value: 0.7513543205322551.\u001b[0m\n",
      "\u001b[32m[I 2020-12-27 00:03:25,379]\u001b[0m Trial 72 finished with value: 0.750683807607872 and parameters: {'shrinkage': 0.07646206377427524}. Best is trial 23 with value: 0.7513543205322551.\u001b[0m\n",
      "\u001b[32m[I 2020-12-27 00:03:27,923]\u001b[0m Trial 73 finished with value: 0.7512756282961417 and parameters: {'shrinkage': 0.0008585463757053843}. Best is trial 23 with value: 0.7513543205322551.\u001b[0m\n",
      "\u001b[32m[I 2020-12-27 00:03:30,301]\u001b[0m Trial 74 finished with value: 0.7512363452741546 and parameters: {'shrinkage': 0.030137942435650343}. Best is trial 23 with value: 0.7513543205322551.\u001b[0m\n",
      "\u001b[32m[I 2020-12-27 00:03:32,847]\u001b[0m Trial 75 finished with value: 0.7380370593806482 and parameters: {'shrinkage': 0.6260270294910631}. Best is trial 23 with value: 0.7513543205322551.\u001b[0m\n",
      "\u001b[32m[I 2020-12-27 00:03:35,378]\u001b[0m Trial 76 finished with value: 0.7509506374735164 and parameters: {'shrinkage': 0.055812221808165634}. Best is trial 23 with value: 0.7513543205322551.\u001b[0m\n",
      "\u001b[32m[I 2020-12-27 00:03:37,909]\u001b[0m Trial 77 finished with value: 0.7503398427261017 and parameters: {'shrinkage': 0.10037806265732381}. Best is trial 23 with value: 0.7513543205322551.\u001b[0m\n",
      "\u001b[32m[I 2020-12-27 00:03:40,410]\u001b[0m Trial 78 finished with value: 0.7482718738040937 and parameters: {'shrinkage': 0.22950638707920315}. Best is trial 23 with value: 0.7513543205322551.\u001b[0m\n",
      "\u001b[32m[I 2020-12-27 00:03:42,893]\u001b[0m Trial 79 finished with value: 0.7513176427548646 and parameters: {'shrinkage': 0.019543272765878444}. Best is trial 23 with value: 0.7513543205322551.\u001b[0m\n",
      "\u001b[32m[I 2020-12-27 00:03:45,420]\u001b[0m Trial 80 finished with value: 0.7498171328241782 and parameters: {'shrinkage': 0.13516060387766096}. Best is trial 23 with value: 0.7513543205322551.\u001b[0m\n",
      "\u001b[32m[I 2020-12-27 00:03:48,081]\u001b[0m Trial 81 finished with value: 0.7513242916073049 and parameters: {'shrinkage': 0.0032593632800890057}. Best is trial 23 with value: 0.7513543205322551.\u001b[0m\n",
      "\u001b[32m[I 2020-12-27 00:03:50,437]\u001b[0m Trial 82 finished with value: 0.7510762463726579 and parameters: {'shrinkage': 0.045714861584459976}. Best is trial 23 with value: 0.7513543205322551.\u001b[0m\n",
      "\u001b[32m[I 2020-12-27 00:03:52,916]\u001b[0m Trial 83 finished with value: 0.7506724093960613 and parameters: {'shrinkage': 0.07725829919376578}. Best is trial 23 with value: 0.7513543205322551.\u001b[0m\n",
      "\u001b[32m[I 2020-12-27 00:03:55,312]\u001b[0m Trial 84 finished with value: 0.7513175984484841 and parameters: {'shrinkage': 0.01956953946912804}. Best is trial 23 with value: 0.7513543205322551.\u001b[0m\n",
      "\u001b[32m[I 2020-12-27 00:03:57,640]\u001b[0m Trial 85 finished with value: 0.7510148125425095 and parameters: {'shrinkage': 0.050749502791985375}. Best is trial 23 with value: 0.7513543205322551.\u001b[0m\n"
     ]
    },
    {
     "name": "stderr",
     "output_type": "stream",
     "text": [
      "\u001b[32m[I 2020-12-27 00:04:00,111]\u001b[0m Trial 86 finished with value: 0.750284750045547 and parameters: {'shrinkage': 0.10407619321228036}. Best is trial 23 with value: 0.7513543205322551.\u001b[0m\n",
      "\u001b[32m[I 2020-12-27 00:04:02,548]\u001b[0m Trial 87 finished with value: 0.7513206255246633 and parameters: {'shrinkage': 0.0030037020173083254}. Best is trial 23 with value: 0.7513543205322551.\u001b[0m\n",
      "\u001b[32m[I 2020-12-27 00:04:04,921]\u001b[0m Trial 88 finished with value: 0.7506789273409764 and parameters: {'shrinkage': 0.0767946716569947}. Best is trial 23 with value: 0.7513543205322551.\u001b[0m\n",
      "\u001b[32m[I 2020-12-27 00:04:07,267]\u001b[0m Trial 89 finished with value: 0.7512771858543216 and parameters: {'shrinkage': 0.025329004623783662}. Best is trial 23 with value: 0.7513543205322551.\u001b[0m\n",
      "\u001b[32m[I 2020-12-27 00:04:09,676]\u001b[0m Trial 90 finished with value: 0.7453764208103999 and parameters: {'shrinkage': 0.3790438980060857}. Best is trial 23 with value: 0.7513543205322551.\u001b[0m\n",
      "\u001b[32m[I 2020-12-27 00:04:12,033]\u001b[0m Trial 91 finished with value: 0.7513529429205488 and parameters: {'shrinkage': 0.00819997707924822}. Best is trial 23 with value: 0.7513543205322551.\u001b[0m\n",
      "\u001b[32m[I 2020-12-27 00:04:14,510]\u001b[0m Trial 92 finished with value: 0.7512848262916874 and parameters: {'shrinkage': 0.0011897419893477559}. Best is trial 23 with value: 0.7513543205322551.\u001b[0m\n",
      "\u001b[32m[I 2020-12-27 00:04:16,949]\u001b[0m Trial 93 finished with value: 0.7511589256280125 and parameters: {'shrinkage': 0.0382700175808585}. Best is trial 23 with value: 0.7513543205322551.\u001b[0m\n",
      "\u001b[32m[I 2020-12-27 00:04:19,317]\u001b[0m Trial 94 finished with value: 0.7508628314816093 and parameters: {'shrinkage': 0.06292565943953615}. Best is trial 23 with value: 0.7513543205322551.\u001b[0m\n",
      "\u001b[32m[I 2020-12-27 00:04:21,681]\u001b[0m Trial 95 finished with value: 0.7513259609607393 and parameters: {'shrinkage': 0.017960721789371595}. Best is trial 23 with value: 0.7513543205322551.\u001b[0m\n",
      "\u001b[32m[I 2020-12-27 00:04:24,158]\u001b[0m Trial 96 finished with value: 0.7512485091050962 and parameters: {'shrinkage': 9.883681182588488e-05}. Best is trial 23 with value: 0.7513543205322551.\u001b[0m\n",
      "\u001b[32m[I 2020-12-27 00:04:26,517]\u001b[0m Trial 97 finished with value: 0.7510967094423318 and parameters: {'shrinkage': 0.043955206185823284}. Best is trial 23 with value: 0.7513543205322551.\u001b[0m\n",
      "\u001b[32m[I 2020-12-27 00:04:28,922]\u001b[0m Trial 98 finished with value: 0.7504347653457554 and parameters: {'shrinkage': 0.09405477211450122}. Best is trial 23 with value: 0.7513543205322551.\u001b[0m\n",
      "\u001b[32m[I 2020-12-27 00:04:31,302]\u001b[0m Trial 99 finished with value: 0.7500188340957212 and parameters: {'shrinkage': 0.1219606374000506}. Best is trial 23 with value: 0.7513543205322551.\u001b[0m\n",
      "\u001b[32m[I 2020-12-27 00:04:33,704]\u001b[0m Trial 100 finished with value: 0.7277679309390213 and parameters: {'shrinkage': 0.8122066909723541}. Best is trial 23 with value: 0.7513543205322551.\u001b[0m\n",
      "\u001b[32m[I 2020-12-27 00:04:36,095]\u001b[0m Trial 101 finished with value: 0.7513326619116882 and parameters: {'shrinkage': 0.016533994029665385}. Best is trial 23 with value: 0.7513543205322551.\u001b[0m\n",
      "\u001b[32m[I 2020-12-27 00:04:38,438]\u001b[0m Trial 102 finished with value: 0.7507933478990176 and parameters: {'shrinkage': 0.06830522078173026}. Best is trial 23 with value: 0.7513543205322551.\u001b[0m\n",
      "\u001b[32m[I 2020-12-27 00:04:40,846]\u001b[0m Trial 103 finished with value: 0.7513041029323001 and parameters: {'shrinkage': 0.0020551334235368746}. Best is trial 23 with value: 0.7513543205322551.\u001b[0m\n",
      "\u001b[32m[I 2020-12-27 00:04:43,236]\u001b[0m Trial 104 finished with value: 0.7512009874126631 and parameters: {'shrinkage': 0.034025720408599906}. Best is trial 23 with value: 0.7513543205322551.\u001b[0m\n",
      "\u001b[32m[I 2020-12-27 00:04:45,624]\u001b[0m Trial 105 finished with value: 0.7510009369350271 and parameters: {'shrinkage': 0.05190529630616354}. Best is trial 23 with value: 0.7513543205322551.\u001b[0m\n",
      "\u001b[32m[I 2020-12-27 00:04:48,015]\u001b[0m Trial 106 finished with value: 0.7513445652978595 and parameters: {'shrinkage': 0.014118764964132375}. Best is trial 23 with value: 0.7513543205322551.\u001b[0m\n",
      "\u001b[32m[I 2020-12-27 00:04:50,422]\u001b[0m Trial 107 finished with value: 0.7504891449051068 and parameters: {'shrinkage': 0.09031905436798801}. Best is trial 23 with value: 0.7513543205322551.\u001b[0m\n",
      "\u001b[32m[I 2020-12-27 00:04:52,916]\u001b[0m Trial 108 finished with value: 0.7513322933292007 and parameters: {'shrinkage': 0.016648787832972054}. Best is trial 23 with value: 0.7513543205322551.\u001b[0m\n",
      "\u001b[32m[I 2020-12-27 00:04:55,299]\u001b[0m Trial 109 finished with value: 0.7511722792539655 and parameters: {'shrinkage': 0.036956767018689086}. Best is trial 23 with value: 0.7513543205322551.\u001b[0m\n",
      "\u001b[32m[I 2020-12-27 00:04:57,610]\u001b[0m Trial 110 finished with value: 0.7507577130505435 and parameters: {'shrinkage': 0.07099935215557698}. Best is trial 23 with value: 0.7513543205322551.\u001b[0m\n",
      "\u001b[32m[I 2020-12-27 00:05:00,065]\u001b[0m Trial 111 finished with value: 0.7513360787689047 and parameters: {'shrinkage': 0.01576993186194325}. Best is trial 23 with value: 0.7513543205322551.\u001b[0m\n",
      "\u001b[32m[I 2020-12-27 00:05:02,376]\u001b[0m Trial 112 finished with value: 0.7513417360663562 and parameters: {'shrinkage': 0.005057937225838283}. Best is trial 23 with value: 0.7513543205322551.\u001b[0m\n",
      "\u001b[32m[I 2020-12-27 00:05:04,878]\u001b[0m Trial 113 finished with value: 0.7511150535712392 and parameters: {'shrinkage': 0.04231150355299304}. Best is trial 23 with value: 0.7513543205322551.\u001b[0m\n",
      "\u001b[32m[I 2020-12-27 00:05:07,313]\u001b[0m Trial 114 finished with value: 0.7509050284456099 and parameters: {'shrinkage': 0.0594460701666078}. Best is trial 23 with value: 0.7513543205322551.\u001b[0m\n",
      "\u001b[32m[I 2020-12-27 00:05:09,651]\u001b[0m Trial 115 finished with value: 0.7513178631145794 and parameters: {'shrinkage': 0.019518964391311462}. Best is trial 23 with value: 0.7513543205322551.\u001b[0m\n",
      "\u001b[32m[I 2020-12-27 00:05:12,080]\u001b[0m Trial 116 finished with value: 0.7513388515625261 and parameters: {'shrinkage': 0.004758570804470626}. Best is trial 23 with value: 0.7513543205322551.\u001b[0m\n",
      "\u001b[32m[I 2020-12-27 00:05:14,439]\u001b[0m Trial 117 finished with value: 0.7502367212371033 and parameters: {'shrinkage': 0.10727305204592238}. Best is trial 23 with value: 0.7513543205322551.\u001b[0m\n",
      "\u001b[32m[I 2020-12-27 00:05:16,874]\u001b[0m Trial 118 finished with value: 0.7495424191627549 and parameters: {'shrinkage': 0.15277858529105112}. Best is trial 23 with value: 0.7513543205322551.\u001b[0m\n",
      "\u001b[32m[I 2020-12-27 00:05:19,269]\u001b[0m Trial 119 finished with value: 0.751297655168221 and parameters: {'shrinkage': 0.0017832694659261333}. Best is trial 23 with value: 0.7513543205322551.\u001b[0m\n",
      "\u001b[32m[I 2020-12-27 00:05:21,692]\u001b[0m Trial 120 finished with value: 0.7506092525586954 and parameters: {'shrinkage': 0.08184424978219157}. Best is trial 23 with value: 0.7513543205322551.\u001b[0m\n",
      "\u001b[32m[I 2020-12-27 00:05:24,081]\u001b[0m Trial 121 finished with value: 0.7511921011307943 and parameters: {'shrinkage': 0.03490144089691479}. Best is trial 23 with value: 0.7513543205322551.\u001b[0m\n",
      "\u001b[32m[I 2020-12-27 00:05:26,576]\u001b[0m Trial 122 finished with value: 0.7513095956160412 and parameters: {'shrinkage': 0.0023163980902977215}. Best is trial 23 with value: 0.7513543205322551.\u001b[0m\n",
      "\u001b[32m[I 2020-12-27 00:05:29,057]\u001b[0m Trial 123 finished with value: 0.7512985538086564 and parameters: {'shrinkage': 0.022477151551945462}. Best is trial 23 with value: 0.7513543205322551.\u001b[0m\n",
      "\u001b[32m[I 2020-12-27 00:05:31,485]\u001b[0m Trial 124 finished with value: 0.7512495718571701 and parameters: {'shrinkage': 0.00011548794772270679}. Best is trial 23 with value: 0.7513543205322551.\u001b[0m\n",
      "\u001b[32m[I 2020-12-27 00:05:33,976]\u001b[0m Trial 125 finished with value: 0.7510140614657934 and parameters: {'shrinkage': 0.05081243412207069}. Best is trial 23 with value: 0.7513543205322551.\u001b[0m\n",
      "\u001b[32m[I 2020-12-27 00:05:36,473]\u001b[0m Trial 126 finished with value: 0.7512810108142743 and parameters: {'shrinkage': 0.0010527651303237967}. Best is trial 23 with value: 0.7513543205322551.\u001b[0m\n",
      "\u001b[32m[I 2020-12-27 00:05:38,984]\u001b[0m Trial 127 finished with value: 0.7512295031486605 and parameters: {'shrinkage': 0.030844493492369948}. Best is trial 23 with value: 0.7513543205322551.\u001b[0m\n",
      "\u001b[32m[I 2020-12-27 00:05:41,395]\u001b[0m Trial 128 finished with value: 0.7508074388392854 and parameters: {'shrinkage': 0.06722549976376582}. Best is trial 23 with value: 0.7513543205322551.\u001b[0m\n"
     ]
    },
    {
     "name": "stderr",
     "output_type": "stream",
     "text": [
      "\u001b[32m[I 2020-12-27 00:05:43,815]\u001b[0m Trial 129 finished with value: 0.7512580288839047 and parameters: {'shrinkage': 0.00033069472914988834}. Best is trial 23 with value: 0.7513543205322551.\u001b[0m\n",
      "\u001b[32m[I 2020-12-27 00:05:46,160]\u001b[0m Trial 130 finished with value: 0.7418746985328324 and parameters: {'shrinkage': 0.5156773633869715}. Best is trial 23 with value: 0.7513543205322551.\u001b[0m\n",
      "\u001b[32m[I 2020-12-27 00:05:48,656]\u001b[0m Trial 131 finished with value: 0.7513359039837628 and parameters: {'shrinkage': 0.015821933376454364}. Best is trial 23 with value: 0.7513543205322551.\u001b[0m\n",
      "\u001b[32m[I 2020-12-27 00:05:51,096]\u001b[0m Trial 132 finished with value: 0.7512582277845627 and parameters: {'shrinkage': 0.0003430259484581309}. Best is trial 23 with value: 0.7513543205322551.\u001b[0m\n",
      "\u001b[32m[I 2020-12-27 00:05:53,532]\u001b[0m Trial 133 finished with value: 0.7510273708383385 and parameters: {'shrinkage': 0.049706669260646416}. Best is trial 23 with value: 0.7513543205322551.\u001b[0m\n",
      "\u001b[32m[I 2020-12-27 00:05:55,920]\u001b[0m Trial 134 finished with value: 0.7511917857461141 and parameters: {'shrinkage': 0.034920929854158095}. Best is trial 23 with value: 0.7513543205322551.\u001b[0m\n",
      "\u001b[32m[I 2020-12-27 00:05:58,282]\u001b[0m Trial 135 finished with value: 0.7513264131139522 and parameters: {'shrinkage': 0.017841962186787106}. Best is trial 23 with value: 0.7513543205322551.\u001b[0m\n",
      "\u001b[32m[I 2020-12-27 00:06:00,705]\u001b[0m Trial 136 finished with value: 0.7508753632667873 and parameters: {'shrinkage': 0.06196253923920754}. Best is trial 23 with value: 0.7513543205322551.\u001b[0m\n",
      "\u001b[32m[I 2020-12-27 00:06:03,237]\u001b[0m Trial 137 finished with value: 0.7505076007544267 and parameters: {'shrinkage': 0.0889685891706741}. Best is trial 23 with value: 0.7513543205322551.\u001b[0m\n",
      "\u001b[32m[I 2020-12-27 00:06:05,571]\u001b[0m Trial 138 finished with value: 0.7512799606462435 and parameters: {'shrinkage': 0.0010132269704315319}. Best is trial 23 with value: 0.7513543205322551.\u001b[0m\n",
      "\u001b[32m[I 2020-12-27 00:06:07,876]\u001b[0m Trial 139 finished with value: 0.7511234282492341 and parameters: {'shrinkage': 0.04150252091473992}. Best is trial 23 with value: 0.7513543205322551.\u001b[0m\n",
      "\u001b[32m[I 2020-12-27 00:06:10,283]\u001b[0m Trial 140 finished with value: 0.7512963981448564 and parameters: {'shrinkage': 0.02277014236573968}. Best is trial 23 with value: 0.7513543205322551.\u001b[0m\n",
      "\u001b[32m[I 2020-12-27 00:06:12,737]\u001b[0m Trial 141 finished with value: 0.7512385926625841 and parameters: {'shrinkage': 4.0237413643951815e-05}. Best is trial 23 with value: 0.7513543205322551.\u001b[0m\n",
      "\u001b[32m[I 2020-12-27 00:06:15,062]\u001b[0m Trial 142 finished with value: 0.7513207418133139 and parameters: {'shrinkage': 0.019003894401345596}. Best is trial 23 with value: 0.7513543205322551.\u001b[0m\n",
      "\u001b[32m[I 2020-12-27 00:06:17,592]\u001b[0m Trial 143 finished with value: 0.7512959158313661 and parameters: {'shrinkage': 0.0016708175549385567}. Best is trial 23 with value: 0.7513543205322551.\u001b[0m\n",
      "\u001b[32m[I 2020-12-27 00:06:19,993]\u001b[0m Trial 144 finished with value: 0.7510760057154685 and parameters: {'shrinkage': 0.045731390550551185}. Best is trial 23 with value: 0.7513543205322551.\u001b[0m\n",
      "\u001b[32m[I 2020-12-27 00:06:22,408]\u001b[0m Trial 145 finished with value: 0.7512991921059345 and parameters: {'shrinkage': 0.02237389499252894}. Best is trial 23 with value: 0.7513543205322551.\u001b[0m\n",
      "\u001b[32m[I 2020-12-27 00:06:24,766]\u001b[0m Trial 146 finished with value: 0.7507845601752273 and parameters: {'shrinkage': 0.06903679532494505}. Best is trial 23 with value: 0.7513543205322551.\u001b[0m\n",
      "\u001b[32m[I 2020-12-27 00:06:27,099]\u001b[0m Trial 147 finished with value: 0.7512713706832967 and parameters: {'shrinkage': 0.0007223333843454464}. Best is trial 23 with value: 0.7513543205322551.\u001b[0m\n",
      "\u001b[32m[I 2020-12-27 00:06:29,514]\u001b[0m Trial 148 finished with value: 0.7511674650319324 and parameters: {'shrinkage': 0.03745597779390217}. Best is trial 23 with value: 0.7513543205322551.\u001b[0m\n",
      "\u001b[32m[I 2020-12-27 00:06:31,938]\u001b[0m Trial 149 finished with value: 0.751252464991841 and parameters: {'shrinkage': 0.00015966531402720596}. Best is trial 23 with value: 0.7513543205322551.\u001b[0m\n",
      "\u001b[32m[I 2020-12-27 00:06:34,406]\u001b[0m Trial 150 finished with value: 0.750981351437001 and parameters: {'shrinkage': 0.053377785748473384}. Best is trial 23 with value: 0.7513543205322551.\u001b[0m\n",
      "\u001b[32m[I 2020-12-27 00:06:36,933]\u001b[0m Trial 151 finished with value: 0.7513126527147318 and parameters: {'shrinkage': 0.020311021985105215}. Best is trial 23 with value: 0.7513543205322551.\u001b[0m\n",
      "\u001b[32m[I 2020-12-27 00:06:39,421]\u001b[0m Trial 152 finished with value: 0.7513322541341865 and parameters: {'shrinkage': 0.01672394595249392}. Best is trial 23 with value: 0.7513543205322551.\u001b[0m\n",
      "\u001b[32m[I 2020-12-27 00:06:41,860]\u001b[0m Trial 153 finished with value: 0.7513260534304985 and parameters: {'shrinkage': 0.017986541553445555}. Best is trial 23 with value: 0.7513543205322551.\u001b[0m\n",
      "\u001b[32m[I 2020-12-27 00:06:44,238]\u001b[0m Trial 154 finished with value: 0.7511862014869704 and parameters: {'shrinkage': 0.03553999694216378}. Best is trial 23 with value: 0.7513543205322551.\u001b[0m\n",
      "\u001b[32m[I 2020-12-27 00:06:46,703]\u001b[0m Trial 155 finished with value: 0.75061156031133 and parameters: {'shrinkage': 0.08167733922876055}. Best is trial 23 with value: 0.7513543205322551.\u001b[0m\n",
      "\u001b[32m[I 2020-12-27 00:06:49,186]\u001b[0m Trial 156 finished with value: 0.7513097083592287 and parameters: {'shrinkage': 0.0023199907828574465}. Best is trial 23 with value: 0.7513543205322551.\u001b[0m\n",
      "\u001b[32m[I 2020-12-27 00:06:51,611]\u001b[0m Trial 157 finished with value: 0.7508765703435678 and parameters: {'shrinkage': 0.06183383133849617}. Best is trial 23 with value: 0.7513543205322551.\u001b[0m\n",
      "\u001b[32m[I 2020-12-27 00:06:53,985]\u001b[0m Trial 158 finished with value: 0.7512668673721696 and parameters: {'shrinkage': 0.0005816894297864094}. Best is trial 23 with value: 0.7513543205322551.\u001b[0m\n",
      "\u001b[32m[I 2020-12-27 00:06:56,389]\u001b[0m Trial 159 finished with value: 0.7511835061948704 and parameters: {'shrinkage': 0.0358357748068964}. Best is trial 23 with value: 0.7513543205322551.\u001b[0m\n",
      "\u001b[32m[I 2020-12-27 00:06:58,796]\u001b[0m Trial 160 finished with value: 0.7513421907584229 and parameters: {'shrinkage': 0.014568804701658167}. Best is trial 23 with value: 0.7513543205322551.\u001b[0m\n",
      "\u001b[32m[I 2020-12-27 00:07:01,205]\u001b[0m Trial 161 finished with value: 0.7513374858225924 and parameters: {'shrinkage': 0.015502576280124733}. Best is trial 23 with value: 0.7513543205322551.\u001b[0m\n",
      "\u001b[32m[I 2020-12-27 00:07:03,550]\u001b[0m Trial 162 finished with value: 0.7510163451294511 and parameters: {'shrinkage': 0.050645417821174696}. Best is trial 23 with value: 0.7513543205322551.\u001b[0m\n",
      "\u001b[32m[I 2020-12-27 00:07:06,190]\u001b[0m Trial 163 finished with value: 0.751320085819294 and parameters: {'shrinkage': 0.01915975411780198}. Best is trial 23 with value: 0.7513543205322551.\u001b[0m\n",
      "\u001b[32m[I 2020-12-27 00:07:08,564]\u001b[0m Trial 164 finished with value: 0.751204818837895 and parameters: {'shrinkage': 0.03366706250796901}. Best is trial 23 with value: 0.7513543205322551.\u001b[0m\n",
      "\u001b[32m[I 2020-12-27 00:07:10,999]\u001b[0m Trial 165 finished with value: 0.7512888838747914 and parameters: {'shrinkage': 0.001352044950270421}. Best is trial 23 with value: 0.7513543205322551.\u001b[0m\n",
      "\u001b[32m[I 2020-12-27 00:07:13,361]\u001b[0m Trial 166 finished with value: 0.7463795373691517 and parameters: {'shrinkage': 0.3311667622719233}. Best is trial 23 with value: 0.7513543205322551.\u001b[0m\n",
      "\u001b[32m[I 2020-12-27 00:07:15,845]\u001b[0m Trial 167 finished with value: 0.751286623901738 and parameters: {'shrinkage': 0.0012707812229356698}. Best is trial 23 with value: 0.7513543205322551.\u001b[0m\n",
      "\u001b[32m[I 2020-12-27 00:07:18,392]\u001b[0m Trial 168 finished with value: 0.7507803943123813 and parameters: {'shrinkage': 0.06936375570231884}. Best is trial 23 with value: 0.7513543205322551.\u001b[0m\n",
      "\u001b[32m[I 2020-12-27 00:07:20,710]\u001b[0m Trial 169 finished with value: 0.7513047674010714 and parameters: {'shrinkage': 0.021574197601845778}. Best is trial 23 with value: 0.7513543205322551.\u001b[0m\n",
      "\u001b[32m[I 2020-12-27 00:07:23,154]\u001b[0m Trial 170 finished with value: 0.751052729422027 and parameters: {'shrinkage': 0.04761117499299214}. Best is trial 23 with value: 0.7513543205322551.\u001b[0m\n",
      "\u001b[32m[I 2020-12-27 00:07:25,530]\u001b[0m Trial 171 finished with value: 0.7512469144047149 and parameters: {'shrinkage': 8.593956588189271e-05}. Best is trial 23 with value: 0.7513543205322551.\u001b[0m\n"
     ]
    },
    {
     "name": "stderr",
     "output_type": "stream",
     "text": [
      "\u001b[32m[I 2020-12-27 00:07:27,938]\u001b[0m Trial 172 finished with value: 0.7513289816221205 and parameters: {'shrinkage': 0.017454736812988626}. Best is trial 23 with value: 0.7513543205322551.\u001b[0m\n",
      "\u001b[32m[I 2020-12-27 00:07:30,423]\u001b[0m Trial 173 finished with value: 0.7513230024124805 and parameters: {'shrinkage': 0.018520615831969053}. Best is trial 23 with value: 0.7513543205322551.\u001b[0m\n",
      "\u001b[32m[I 2020-12-27 00:07:32,799]\u001b[0m Trial 174 finished with value: 0.7511377254761438 and parameters: {'shrinkage': 0.040315953998022076}. Best is trial 23 with value: 0.7513543205322551.\u001b[0m\n",
      "\u001b[32m[I 2020-12-27 00:07:35,079]\u001b[0m Trial 175 finished with value: 0.751291694928966 and parameters: {'shrinkage': 0.0014825907829626138}. Best is trial 23 with value: 0.7513543205322551.\u001b[0m\n",
      "\u001b[32m[I 2020-12-27 00:07:37,558]\u001b[0m Trial 176 finished with value: 0.7509212409273105 and parameters: {'shrinkage': 0.05815967869984193}. Best is trial 23 with value: 0.7513543205322551.\u001b[0m\n",
      "\u001b[32m[I 2020-12-27 00:07:40,083]\u001b[0m Trial 177 finished with value: 0.7512357373123448 and parameters: {'shrinkage': 0.030188221568184424}. Best is trial 23 with value: 0.7513543205322551.\u001b[0m\n",
      "\u001b[32m[I 2020-12-27 00:07:42,418]\u001b[0m Trial 178 finished with value: 0.7513055381860606 and parameters: {'shrinkage': 0.0021132269653074314}. Best is trial 23 with value: 0.7513543205322551.\u001b[0m\n",
      "\u001b[32m[I 2020-12-27 00:07:45,298]\u001b[0m Trial 179 finished with value: 0.7504290605177949 and parameters: {'shrinkage': 0.0944910967769229}. Best is trial 23 with value: 0.7513543205322551.\u001b[0m\n",
      "\u001b[32m[I 2020-12-27 00:07:47,889]\u001b[0m Trial 180 finished with value: 0.7513271882121747 and parameters: {'shrinkage': 0.017715091471975482}. Best is trial 23 with value: 0.7513543205322551.\u001b[0m\n",
      "\u001b[32m[I 2020-12-27 00:07:50,237]\u001b[0m Trial 181 finished with value: 0.7513320224103726 and parameters: {'shrinkage': 0.016877380255921746}. Best is trial 23 with value: 0.7513543205322551.\u001b[0m\n",
      "\u001b[32m[I 2020-12-27 00:07:52,603]\u001b[0m Trial 182 finished with value: 0.7511292697302261 and parameters: {'shrinkage': 0.04103172852108773}. Best is trial 23 with value: 0.7513543205322551.\u001b[0m\n",
      "\u001b[32m[I 2020-12-27 00:07:55,017]\u001b[0m Trial 183 finished with value: 0.7512841675821421 and parameters: {'shrinkage': 0.0011673874076671212}. Best is trial 23 with value: 0.7513543205322551.\u001b[0m\n",
      "\u001b[32m[I 2020-12-27 00:07:57,362]\u001b[0m Trial 184 finished with value: 0.7512834619828267 and parameters: {'shrinkage': 0.0011435377929177645}. Best is trial 23 with value: 0.7513543205322551.\u001b[0m\n",
      "\u001b[32m[I 2020-12-27 00:07:59,698]\u001b[0m Trial 185 finished with value: 0.7512075913790954 and parameters: {'shrinkage': 0.03339596698834218}. Best is trial 23 with value: 0.7513543205322551.\u001b[0m\n",
      "\u001b[32m[I 2020-12-27 00:08:02,261]\u001b[0m Trial 186 finished with value: 0.7508612710197605 and parameters: {'shrinkage': 0.06305283131904837}. Best is trial 23 with value: 0.7513543205322551.\u001b[0m\n",
      "\u001b[32m[I 2020-12-27 00:08:04,547]\u001b[0m Trial 187 finished with value: 0.7513290804068354 and parameters: {'shrinkage': 0.017433548306246112}. Best is trial 23 with value: 0.7513543205322551.\u001b[0m\n",
      "\u001b[32m[I 2020-12-27 00:08:07,002]\u001b[0m Trial 188 finished with value: 0.7512858942050865 and parameters: {'shrinkage': 0.0012327971539694057}. Best is trial 23 with value: 0.7513543205322551.\u001b[0m\n",
      "\u001b[32m[I 2020-12-27 00:08:09,418]\u001b[0m Trial 189 finished with value: 0.7510625190174673 and parameters: {'shrinkage': 0.04683653969874114}. Best is trial 23 with value: 0.7513543205322551.\u001b[0m\n",
      "\u001b[32m[I 2020-12-27 00:08:11,719]\u001b[0m Trial 190 finished with value: 0.7394020883979683 and parameters: {'shrinkage': 0.5904228498922786}. Best is trial 23 with value: 0.7513543205322551.\u001b[0m\n",
      "\u001b[32m[I 2020-12-27 00:08:14,112]\u001b[0m Trial 191 finished with value: 0.7513121005055087 and parameters: {'shrinkage': 0.020376656136686377}. Best is trial 23 with value: 0.7513543205322551.\u001b[0m\n",
      "\u001b[32m[I 2020-12-27 00:08:16,634]\u001b[0m Trial 192 finished with value: 0.7513224198316453 and parameters: {'shrinkage': 0.018619409815994935}. Best is trial 23 with value: 0.7513543205322551.\u001b[0m\n",
      "\u001b[32m[I 2020-12-27 00:08:18,966]\u001b[0m Trial 193 finished with value: 0.7512403045407208 and parameters: {'shrinkage': 0.029694653964343565}. Best is trial 23 with value: 0.7513543205322551.\u001b[0m\n",
      "\u001b[32m[I 2020-12-27 00:08:21,348]\u001b[0m Trial 194 finished with value: 0.7512895717165128 and parameters: {'shrinkage': 0.0013797755120851483}. Best is trial 23 with value: 0.7513543205322551.\u001b[0m\n",
      "\u001b[32m[I 2020-12-27 00:08:23,853]\u001b[0m Trial 195 finished with value: 0.7510155851656019 and parameters: {'shrinkage': 0.05070247811289273}. Best is trial 23 with value: 0.7513543205322551.\u001b[0m\n",
      "\u001b[32m[I 2020-12-27 00:08:26,329]\u001b[0m Trial 196 finished with value: 0.7512884455551438 and parameters: {'shrinkage': 0.0013326013378413045}. Best is trial 23 with value: 0.7513543205322551.\u001b[0m\n",
      "\u001b[32m[I 2020-12-27 00:08:28,721]\u001b[0m Trial 197 finished with value: 0.7513195754364409 and parameters: {'shrinkage': 0.019228605812292396}. Best is trial 23 with value: 0.7513543205322551.\u001b[0m\n",
      "\u001b[32m[I 2020-12-27 00:08:31,095]\u001b[0m Trial 198 finished with value: 0.7345581113453425 and parameters: {'shrinkage': 0.7027615096985182}. Best is trial 23 with value: 0.7513543205322551.\u001b[0m\n",
      "\u001b[32m[I 2020-12-27 00:08:33,437]\u001b[0m Trial 199 finished with value: 0.7435890795196006 and parameters: {'shrinkage': 0.45398847270219256}. Best is trial 23 with value: 0.7513543205322551.\u001b[0m\n"
     ]
    }
   ],
   "source": [
    "# Extracting the best model parameters and best study score\n",
    "best_study_score,best_study_params = study_best_score_params(X_train, y_train, lda_eigen, objective_wrappper_lda, cv_strat, n_trials=200)"
   ]
  },
  {
   "cell_type": "code",
   "execution_count": 20,
   "metadata": {},
   "outputs": [
    {
     "name": "stdout",
     "output_type": "stream",
     "text": [
      "The best roc_auc_score for the study is:  0.7513543205322551\n"
     ]
    }
   ],
   "source": [
    "print('The best roc_auc_score for the study is: ',best_study_score)"
   ]
  },
  {
   "cell_type": "code",
   "execution_count": 21,
   "metadata": {},
   "outputs": [
    {
     "name": "stdout",
     "output_type": "stream",
     "text": [
      "The best study parameters for the classifier are:  {'shrinkage': 0.009101434102898598}\n"
     ]
    }
   ],
   "source": [
    "print('The best study parameters for the classifier are: ',best_study_params)"
   ]
  },
  {
   "cell_type": "code",
   "execution_count": 22,
   "metadata": {},
   "outputs": [],
   "source": [
    "# Obtaining the best LDA  model with eigen solver by setting best study parameters.\n",
    "lda_eigen = lda_eigen.set_params(**best_study_params)"
   ]
  },
  {
   "cell_type": "code",
   "execution_count": 23,
   "metadata": {},
   "outputs": [
    {
     "data": {
      "text/plain": [
       "LinearDiscriminantAnalysis(shrinkage=0.009101434102898598, solver='eigen')"
      ]
     },
     "execution_count": 23,
     "metadata": {},
     "output_type": "execute_result"
    }
   ],
   "source": [
    "# fitting the best LDA_eigen  model on the reduced feature training set\n",
    "lda_eigen.fit(X_train, y_train)"
   ]
  },
  {
   "cell_type": "code",
   "execution_count": 49,
   "metadata": {},
   "outputs": [
    {
     "name": "stdout",
     "output_type": "stream",
     "text": [
      "The roc_auc_score for the Reduced feature training set using the best LDA Classifier with eigen solver & tuned shrinkage is  0.7527559360951943\n"
     ]
    }
   ],
   "source": [
    "# Calculating the Reduced feature training set roc_auc score using the best study parameters\n",
    "cal_roc_auc(X_train, y_train, lda_eigen, 'Reduced feature', 'training', 'LDA Classifier with eigen solver & tuned shrinkage')"
   ]
  },
  {
   "cell_type": "code",
   "execution_count": 50,
   "metadata": {},
   "outputs": [
    {
     "name": "stdout",
     "output_type": "stream",
     "text": [
      "The roc_auc_score for the Reduced feature test set using the best LDA Classifier with eigen solver & tuned shrinkage is  0.7533710812916229\n"
     ]
    }
   ],
   "source": [
    "# Calculating the Reduced feature test set roc_auc score using the best study parameters\n",
    "cal_roc_auc(X_test, y_test, lda_eigen, 'Reduced feature', 'test', 'LDA Classifier with eigen solver & tuned shrinkage')"
   ]
  },
  {
   "cell_type": "markdown",
   "metadata": {},
   "source": [
    "###  Computing the test set roc_auc score using LDA classifier with eigen solver & shrinkage utilizing the Ledoit-Wolf lemma with no other hyperparameters to tune."
   ]
  },
  {
   "cell_type": "code",
   "execution_count": 26,
   "metadata": {},
   "outputs": [],
   "source": [
    "# Instantiating the LDA classifier object using  eigen solver utilizing shrinkage using the Ledoit-Wolf lemma\n",
    "lda_eigen_auto = LinearDiscriminantAnalysis(solver='eigen',shrinkage='auto')"
   ]
  },
  {
   "cell_type": "code",
   "execution_count": 27,
   "metadata": {},
   "outputs": [
    {
     "data": {
      "text/plain": [
       "LinearDiscriminantAnalysis(shrinkage='auto', solver='eigen')"
      ]
     },
     "execution_count": 27,
     "metadata": {},
     "output_type": "execute_result"
    }
   ],
   "source": [
    "# fitting the best LDA_eigen model with Ledoit-Wolf shrinkage on the reduced feature training set\n",
    "lda_eigen_auto.fit(X_train, y_train)"
   ]
  },
  {
   "cell_type": "code",
   "execution_count": 28,
   "metadata": {},
   "outputs": [
    {
     "name": "stdout",
     "output_type": "stream",
     "text": [
      "The roc_auc_score for the Reduced feature training set using the best LDA Classifier with Ledoit-Wolf shrinkage is  0.7528107805845184\n"
     ]
    }
   ],
   "source": [
    "# Calculating the Reduced feature training set roc_auc score using Ledoit-Wolf shrinkage\n",
    "cal_roc_auc(X_train , y_train, lda_eigen_auto, 'Reduced feature', 'training', 'LDA Classifier with Ledoit-Wolf shrinkage')"
   ]
  },
  {
   "cell_type": "code",
   "execution_count": 29,
   "metadata": {},
   "outputs": [
    {
     "name": "stdout",
     "output_type": "stream",
     "text": [
      "The roc_auc_score for the Reduced feature test set using the best LDA Classifier with Ledoit-Wolf shrinkage is  0.7532314840830818\n"
     ]
    }
   ],
   "source": [
    "# Calculating the Reduced feature test set roc_auc score using Ledoit-Wolf shrinkage\n",
    "cal_roc_auc( X_test, y_test, lda_eigen_auto, 'Reduced feature', 'test', 'LDA Classifier with Ledoit-Wolf shrinkage')"
   ]
  },
  {
   "cell_type": "markdown",
   "metadata": {},
   "source": [
    "### Calculating R_R ratio for Vanilla LDA Classifier using SVD solver"
   ]
  },
  {
   "cell_type": "code",
   "execution_count": 30,
   "metadata": {},
   "outputs": [],
   "source": [
    "# Computing the CV scores using sklearn's cross_val_score\n",
    "score_lda = cross_val_score(lda_svd, X_train, y_train, cv=cv_strat, n_jobs=5, scoring='roc_auc')"
   ]
  },
  {
   "cell_type": "code",
   "execution_count": 31,
   "metadata": {},
   "outputs": [
    {
     "name": "stdout",
     "output_type": "stream",
     "text": [
      "The reward associated with the vanilla lda Classifier using roc_auc metric is:  0.7512082151724193\n"
     ]
    }
   ],
   "source": [
    "print('The reward associated with the vanilla lda Classifier using roc_auc metric is: ',np.mean(score_lda))"
   ]
  },
  {
   "cell_type": "code",
   "execution_count": 32,
   "metadata": {},
   "outputs": [
    {
     "name": "stdout",
     "output_type": "stream",
     "text": [
      "The risk associated with the vanilla lda Classifier using roc_auc metric is:  0.005229724468151239\n"
     ]
    }
   ],
   "source": [
    "print('The risk associated with the vanilla lda Classifier using roc_auc metric is: ',np.std(score_lda))"
   ]
  },
  {
   "cell_type": "code",
   "execution_count": 33,
   "metadata": {},
   "outputs": [],
   "source": [
    "R_R_Ratio_lda = np.mean(score_lda)/np.std(score_lda)"
   ]
  },
  {
   "cell_type": "code",
   "execution_count": 34,
   "metadata": {},
   "outputs": [
    {
     "name": "stdout",
     "output_type": "stream",
     "text": [
      "The reward risk ratio for the vanilla lda Classifier using roc_auc metric is:  143.64202545415918\n"
     ]
    }
   ],
   "source": [
    "print('The reward risk ratio for the vanilla lda Classifier using roc_auc metric is: ',R_R_Ratio_lda)"
   ]
  },
  {
   "cell_type": "markdown",
   "metadata": {},
   "source": [
    "#### The R_R ratio for the vanilla lda Classifier using roc_auc metric is:  143.64202545415918"
   ]
  },
  {
   "cell_type": "markdown",
   "metadata": {},
   "source": [
    "### Calculating R_R ratio for the best  lda Classifier using eigen solver & tuned shrinkage"
   ]
  },
  {
   "cell_type": "code",
   "execution_count": 35,
   "metadata": {},
   "outputs": [],
   "source": [
    "# Computing the CV scores using sklearn's cross_val_score\n",
    "score_lda_eigen = cross_val_score(lda_eigen, X_train, y_train, cv=cv_strat, n_jobs=5, scoring='roc_auc')"
   ]
  },
  {
   "cell_type": "code",
   "execution_count": 36,
   "metadata": {},
   "outputs": [
    {
     "name": "stdout",
     "output_type": "stream",
     "text": [
      "The reward associated with the best lda classifier with eigen solver using roc_auc metric is:  0.7513543205322551\n"
     ]
    }
   ],
   "source": [
    "print('The reward associated with the best lda classifier with eigen solver using roc_auc metric is: ',np.mean(score_lda_eigen))"
   ]
  },
  {
   "cell_type": "code",
   "execution_count": 37,
   "metadata": {},
   "outputs": [
    {
     "name": "stdout",
     "output_type": "stream",
     "text": [
      "The risk associated with the best lda classifier with eigen solver using roc_auc metric is:  0.005278518854711489\n"
     ]
    }
   ],
   "source": [
    "print('The risk associated with the best lda classifier with eigen solver using roc_auc metric is: ',np.std(score_lda_eigen))"
   ]
  },
  {
   "cell_type": "code",
   "execution_count": 38,
   "metadata": {},
   "outputs": [],
   "source": [
    "R_R_Ratio_lda_eigen = np.mean(score_lda_eigen)/np.std(score_lda_eigen)"
   ]
  },
  {
   "cell_type": "code",
   "execution_count": 39,
   "metadata": {},
   "outputs": [
    {
     "name": "stdout",
     "output_type": "stream",
     "text": [
      "The reward risk ratio for the  best lda classifier with eigen solver using roc_auc metric is:  142.3418843832703\n"
     ]
    }
   ],
   "source": [
    "print('The reward risk ratio for the  best lda classifier with eigen solver using roc_auc metric is: ',R_R_Ratio_lda_eigen)"
   ]
  },
  {
   "cell_type": "markdown",
   "metadata": {},
   "source": [
    "#### The R_R ratio for the best lda classifier with eigen solver & tuned shrinkage using roc_auc metric is:  142.3418843832703"
   ]
  },
  {
   "cell_type": "markdown",
   "metadata": {},
   "source": [
    "### Calculating R_R ratio for the lda Classifier with eigen solver & shrinkage utilizing the Ledoit-Wolf lemma"
   ]
  },
  {
   "cell_type": "code",
   "execution_count": 40,
   "metadata": {},
   "outputs": [],
   "source": [
    "# Computing the CV scores using sklearn's cross_val_score\n",
    "score_lda_auto = cross_val_score(lda_eigen_auto, X_train, y_train, cv=cv_strat, n_jobs=5, scoring='roc_auc')"
   ]
  },
  {
   "cell_type": "code",
   "execution_count": 41,
   "metadata": {},
   "outputs": [
    {
     "name": "stdout",
     "output_type": "stream",
     "text": [
      "The reward associated with the lda Classifier utilizing LW lemma shrinkage using roc_auc metric is:  0.7513724571407809\n"
     ]
    }
   ],
   "source": [
    "print('The reward associated with the lda Classifier utilizing LW lemma shrinkage using roc_auc metric is: ',np.mean(score_lda_auto))"
   ]
  },
  {
   "cell_type": "code",
   "execution_count": 42,
   "metadata": {},
   "outputs": [
    {
     "name": "stdout",
     "output_type": "stream",
     "text": [
      "The risk associated with the lda Classifier utilizing LW lemma shrinkage using roc_auc metric is:  0.0052036900500323\n"
     ]
    }
   ],
   "source": [
    "print('The risk associated with the lda Classifier utilizing LW lemma shrinkage using roc_auc metric is: ',np.std(score_lda_auto))"
   ]
  },
  {
   "cell_type": "code",
   "execution_count": 43,
   "metadata": {},
   "outputs": [],
   "source": [
    "R_R_Ratio_lda_auto = np.mean(score_lda_auto)/np.std(score_lda_auto)"
   ]
  },
  {
   "cell_type": "code",
   "execution_count": 44,
   "metadata": {},
   "outputs": [
    {
     "name": "stdout",
     "output_type": "stream",
     "text": [
      "The reward risk ratio for the lda Classifier utilizing LW lemma shrinkage using roc_auc metric is:  144.39223895284022\n"
     ]
    }
   ],
   "source": [
    "print('The reward risk ratio for the lda Classifier utilizing LW lemma shrinkage using roc_auc metric is: ',R_R_Ratio_lda_auto)"
   ]
  },
  {
   "cell_type": "code",
   "execution_count": 57,
   "metadata": {},
   "outputs": [
    {
     "data": {
      "text/plain": [
       "['Lda_lw_lemma.joblib']"
      ]
     },
     "execution_count": 57,
     "metadata": {},
     "output_type": "execute_result"
    }
   ],
   "source": [
    "# Saving Various LDA models\n",
    "import joblib\n",
    "joblib.dump(lda_svd,'Vanilla_lda.joblib')\n",
    "joblib.dump(lda_eigen,'Lda_eigen.joblib')\n",
    "joblib.dump(lda_eigen_auto,'Lda_lw_lemma.joblib')"
   ]
  },
  {
   "cell_type": "markdown",
   "metadata": {},
   "source": [
    "#### The R_R ratio for the lda Classifier utilizing LW lemma shrinkage using roc_auc metric is: 144.3922389528402"
   ]
  },
  {
   "cell_type": "markdown",
   "metadata": {},
   "source": [
    "### R_R Ratio for the best LDA classifier using reduced feature set is:  144.3922389528402, corresponding to  LDA Classifier, utilizing LW lemma Shrinkage."
   ]
  },
  {
   "cell_type": "markdown",
   "metadata": {},
   "source": [
    "## Observations:\n",
    "### 1) All the LDA variants have fitted the dataset pretty well, with no signs of overfitting & test set roc_auc score were well above that of the baseline model.\n",
    "### 2) The  LDA model with highest test set roc_auc score corresponds to LDA with eigen solver & tuned shrinkage. This model  performed  worse than the tuned Logistic Regression Model on the test set. This was expected as the underlying feature space is not multivariate normal and doesn't have the same covariance matrix for both the classes ,which are the underlying assumption of the LDA models. Further the R_R ratio of the tuned Logistic Regression model was greater that of the LDA classifier using LW lemma Shrinkage.\n",
    "### 3) As discussed in point 2 , for this dataset, the Logistic Regression model completely dominates all the 3 LDA variants in all respects."
   ]
  },
  {
   "cell_type": "markdown",
   "metadata": {},
   "source": [
    "## Model_3 : Quadratic Discriminant Analysis Classifier"
   ]
  },
  {
   "cell_type": "markdown",
   "metadata": {},
   "source": [
    "### Computing the Reduced Feature test set roc_auc score using QDA classifier "
   ]
  },
  {
   "cell_type": "code",
   "execution_count": 10,
   "metadata": {},
   "outputs": [],
   "source": [
    "# Loading reduced feature training set again the usual way as QDA can't handle any data in float16 format\n",
    "X_train = pd.read_csv('X_train_final.csv')\n",
    "y_train = pd.read_csv('y_train.final.csv')"
   ]
  },
  {
   "cell_type": "code",
   "execution_count": 11,
   "metadata": {},
   "outputs": [],
   "source": [
    "# Loading reduced feature test set again the usual way as QDA can't handle any data in float16 format\n",
    "X_test = pd.read_csv('X_test_final.csv')\n",
    "y_test = pd.read_csv('y_test.final.csv')"
   ]
  },
  {
   "cell_type": "code",
   "execution_count": 12,
   "metadata": {},
   "outputs": [],
   "source": [
    "from sklearn.discriminant_analysis import QuadraticDiscriminantAnalysis"
   ]
  },
  {
   "cell_type": "code",
   "execution_count": 13,
   "metadata": {},
   "outputs": [],
   "source": [
    "# Instantiating the QDA classifier object \n",
    "QDA = QuadraticDiscriminantAnalysis()"
   ]
  },
  {
   "cell_type": "code",
   "execution_count": 14,
   "metadata": {},
   "outputs": [],
   "source": [
    "# Defining the appropriate objective function for the QDA classifier\n",
    "def objective_wrappper_qda(X_tr, y_tr, cls=None, cv_strat=None):\n",
    "    '''\n",
    "    Optimizes Quadratic Discriminant Analysis parameters on the given training set X_tr,y_tr\n",
    "    using cv_strat cross-validation object\n",
    "    \n",
    "    '''\n",
    "    \n",
    "    def objective(trial):\n",
    "        params = {\n",
    "        'reg_param': trial.suggest_uniform('reg_param', 0, 1)\n",
    "        }\n",
    "        \n",
    "        cls.set_params(**params)#Initializing the model with the parameters \n",
    "    \n",
    "        return np.mean(cross_val_score(cls, X_tr, y_tr, cv=cv_strat, n_jobs=5, scoring='roc_auc'))  \n",
    "    return objective"
   ]
  },
  {
   "cell_type": "code",
   "execution_count": 15,
   "metadata": {},
   "outputs": [],
   "source": [
    "# Defining the evaluation function for study's best parameters\n",
    "def study_best_score_params(X_tr, y_tr, cls, obj_func, cv_strat, n_trials=100):\n",
    "    ''' Computes the best hyper parameters of the classsifier and returns \n",
    "    Optuna's study's best score & clasifier parameters'''\n",
    "    study = optuna.create_study(direction='maximize')\n",
    "    study.optimize(obj_func(X_tr, y_tr, cls, cv_strat), n_trials)\n",
    "    best_score = study.best_value\n",
    "    best_params = study.best_params\n",
    "    return (best_score,best_params)\n"
   ]
  },
  {
   "cell_type": "code",
   "execution_count": 16,
   "metadata": {},
   "outputs": [
    {
     "name": "stderr",
     "output_type": "stream",
     "text": [
      "\u001b[32m[I 2020-12-27 18:03:12,127]\u001b[0m A new study created in memory with name: no-name-430111cf-7b37-46f8-8e8c-77d630328cc1\u001b[0m\n",
      "\u001b[32m[I 2020-12-27 18:03:16,891]\u001b[0m Trial 0 finished with value: 0.7113357888688814 and parameters: {'reg_param': 0.16578025941058006}. Best is trial 0 with value: 0.7113357888688814.\u001b[0m\n",
      "\u001b[32m[I 2020-12-27 18:03:20,601]\u001b[0m Trial 1 finished with value: 0.7166289060696854 and parameters: {'reg_param': 0.348181287123548}. Best is trial 1 with value: 0.7166289060696854.\u001b[0m\n",
      "\u001b[32m[I 2020-12-27 18:03:24,678]\u001b[0m Trial 2 finished with value: 0.7165870507863042 and parameters: {'reg_param': 0.9119226433188083}. Best is trial 1 with value: 0.7166289060696854.\u001b[0m\n",
      "\u001b[32m[I 2020-12-27 18:03:28,608]\u001b[0m Trial 3 finished with value: 0.7116133585941359 and parameters: {'reg_param': 0.17354396326429955}. Best is trial 1 with value: 0.7166289060696854.\u001b[0m\n",
      "\u001b[32m[I 2020-12-27 18:03:32,410]\u001b[0m Trial 4 finished with value: 0.7112541631024688 and parameters: {'reg_param': 0.9571423147769414}. Best is trial 1 with value: 0.7166289060696854.\u001b[0m\n",
      "\u001b[32m[I 2020-12-27 18:03:36,086]\u001b[0m Trial 5 finished with value: 0.7151883723192939 and parameters: {'reg_param': 0.9267455427295463}. Best is trial 1 with value: 0.7166289060696854.\u001b[0m\n",
      "\u001b[32m[I 2020-12-27 18:03:39,976]\u001b[0m Trial 6 finished with value: 0.7214099929312874 and parameters: {'reg_param': 0.5835591486125404}. Best is trial 6 with value: 0.7214099929312874.\u001b[0m\n",
      "\u001b[32m[I 2020-12-27 18:03:43,819]\u001b[0m Trial 7 finished with value: 0.7121008009030172 and parameters: {'reg_param': 0.1877567253091733}. Best is trial 6 with value: 0.7214099929312874.\u001b[0m\n",
      "\u001b[32m[I 2020-12-27 18:03:47,602]\u001b[0m Trial 8 finished with value: 0.7160385241011836 and parameters: {'reg_param': 0.32497234936027164}. Best is trial 6 with value: 0.7214099929312874.\u001b[0m\n",
      "\u001b[32m[I 2020-12-27 18:03:51,253]\u001b[0m Trial 9 finished with value: 0.7224727276943089 and parameters: {'reg_param': 0.7481521309162844}. Best is trial 9 with value: 0.7224727276943089.\u001b[0m\n",
      "\u001b[32m[I 2020-12-27 18:03:55,166]\u001b[0m Trial 10 finished with value: 0.7225110107848195 and parameters: {'reg_param': 0.6876487482285265}. Best is trial 10 with value: 0.7225110107848195.\u001b[0m\n",
      "\u001b[32m[I 2020-12-27 18:03:59,163]\u001b[0m Trial 11 finished with value: 0.7224918030192822 and parameters: {'reg_param': 0.683386849012115}. Best is trial 10 with value: 0.7225110107848195.\u001b[0m\n",
      "\u001b[32m[I 2020-12-27 18:04:02,957]\u001b[0m Trial 12 finished with value: 0.7221973531171726 and parameters: {'reg_param': 0.6449242590305424}. Best is trial 10 with value: 0.7225110107848195.\u001b[0m\n",
      "\u001b[32m[I 2020-12-27 18:04:06,695]\u001b[0m Trial 13 finished with value: 0.7223845195141998 and parameters: {'reg_param': 0.759312863728345}. Best is trial 10 with value: 0.7225110107848195.\u001b[0m\n",
      "\u001b[32m[I 2020-12-27 18:04:10,505]\u001b[0m Trial 14 finished with value: 0.719263648453175 and parameters: {'reg_param': 0.4642389336777246}. Best is trial 10 with value: 0.7225110107848195.\u001b[0m\n",
      "\u001b[32m[I 2020-12-27 18:04:14,616]\u001b[0m Trial 15 finished with value: 0.7223364040952562 and parameters: {'reg_param': 0.7640834291727707}. Best is trial 10 with value: 0.7225110107848195.\u001b[0m\n",
      "\u001b[32m[I 2020-12-27 18:04:18,389]\u001b[0m Trial 16 finished with value: 0.7197725965714863 and parameters: {'reg_param': 0.48973841318278405}. Best is trial 10 with value: 0.7225110107848195.\u001b[0m\n",
      "\u001b[32m[I 2020-12-27 18:04:22,037]\u001b[0m Trial 17 finished with value: 0.7221765335288491 and parameters: {'reg_param': 0.6428389991185381}. Best is trial 10 with value: 0.7225110107848195.\u001b[0m\n",
      "\u001b[32m[I 2020-12-27 18:04:25,943]\u001b[0m Trial 18 finished with value: 0.6871205086061322 and parameters: {'reg_param': 0.0040091987300922005}. Best is trial 10 with value: 0.7225110107848195.\u001b[0m\n",
      "\u001b[32m[I 2020-12-27 18:04:29,946]\u001b[0m Trial 19 finished with value: 0.7219865071410366 and parameters: {'reg_param': 0.7897910897527762}. Best is trial 10 with value: 0.7225110107848195.\u001b[0m\n",
      "\u001b[32m[I 2020-12-27 18:04:33,918]\u001b[0m Trial 20 finished with value: 0.7196104308960427 and parameters: {'reg_param': 0.8659237155099241}. Best is trial 10 with value: 0.7225110107848195.\u001b[0m\n",
      "\u001b[32m[I 2020-12-27 18:04:37,728]\u001b[0m Trial 21 finished with value: 0.7224952635041815 and parameters: {'reg_param': 0.6839001121873519}. Best is trial 10 with value: 0.7225110107848195.\u001b[0m\n",
      "\u001b[32m[I 2020-12-27 18:04:41,522]\u001b[0m Trial 22 finished with value: 0.7215862767299468 and parameters: {'reg_param': 0.5956975342091367}. Best is trial 10 with value: 0.7225110107848195.\u001b[0m\n",
      "\u001b[32m[I 2020-12-27 18:04:45,242]\u001b[0m Trial 23 finished with value: 0.7223232043876566 and parameters: {'reg_param': 0.6586271546918558}. Best is trial 10 with value: 0.7225110107848195.\u001b[0m\n",
      "\u001b[32m[I 2020-12-27 18:04:49,228]\u001b[0m Trial 24 finished with value: 0.7210807736046796 and parameters: {'reg_param': 0.8284840420088216}. Best is trial 10 with value: 0.7225110107848195.\u001b[0m\n",
      "\u001b[32m[I 2020-12-27 18:04:53,026]\u001b[0m Trial 25 finished with value: 0.7208828405953135 and parameters: {'reg_param': 0.5508448639596719}. Best is trial 10 with value: 0.7225110107848195.\u001b[0m\n",
      "\u001b[32m[I 2020-12-27 18:04:56,742]\u001b[0m Trial 26 finished with value: 0.7225575816405008 and parameters: {'reg_param': 0.7001081876581281}. Best is trial 26 with value: 0.7225575816405008.\u001b[0m\n",
      "\u001b[32m[I 2020-12-27 18:05:00,585]\u001b[0m Trial 27 finished with value: 0.7186552213853565 and parameters: {'reg_param': 0.4351460694665466}. Best is trial 26 with value: 0.7225575816405008.\u001b[0m\n",
      "\u001b[32m[I 2020-12-27 18:05:04,649]\u001b[0m Trial 28 finished with value: 0.722540435680283 and parameters: {'reg_param': 0.6952452523190361}. Best is trial 26 with value: 0.7225575816405008.\u001b[0m\n",
      "\u001b[32m[I 2020-12-27 18:05:08,522]\u001b[0m Trial 29 finished with value: 0.7034792477651657 and parameters: {'reg_param': 0.9920169818991739}. Best is trial 26 with value: 0.7225575816405008.\u001b[0m\n",
      "\u001b[32m[I 2020-12-27 18:05:12,164]\u001b[0m Trial 30 finished with value: 0.7205416046475851 and parameters: {'reg_param': 0.5309879381519185}. Best is trial 26 with value: 0.7225575816405008.\u001b[0m\n",
      "\u001b[32m[I 2020-12-27 18:05:15,862]\u001b[0m Trial 31 finished with value: 0.7225759505568072 and parameters: {'reg_param': 0.7117441804989759}. Best is trial 31 with value: 0.7225759505568072.\u001b[0m\n",
      "\u001b[32m[I 2020-12-27 18:05:19,962]\u001b[0m Trial 32 finished with value: 0.7201111495529138 and parameters: {'reg_param': 0.855014990829174}. Best is trial 31 with value: 0.7225759505568072.\u001b[0m\n",
      "\u001b[32m[I 2020-12-27 18:05:23,866]\u001b[0m Trial 33 finished with value: 0.7225773150147644 and parameters: {'reg_param': 0.7134145723917287}. Best is trial 33 with value: 0.7225773150147644.\u001b[0m\n",
      "\u001b[32m[I 2020-12-27 18:05:27,584]\u001b[0m Trial 34 finished with value: 0.7225629251771741 and parameters: {'reg_param': 0.7274074689296739}. Best is trial 33 with value: 0.7225773150147644.\u001b[0m\n",
      "\u001b[32m[I 2020-12-27 18:05:31,307]\u001b[0m Trial 35 finished with value: 0.72156478495001 and parameters: {'reg_param': 0.8105585893092593}. Best is trial 33 with value: 0.7225773150147644.\u001b[0m\n",
      "\u001b[32m[I 2020-12-27 18:05:35,241]\u001b[0m Trial 36 finished with value: 0.7178466742033919 and parameters: {'reg_param': 0.8957065880522868}. Best is trial 33 with value: 0.7225773150147644.\u001b[0m\n",
      "\u001b[32m[I 2020-12-27 18:05:39,315]\u001b[0m Trial 37 finished with value: 0.722557655184336 and parameters: {'reg_param': 0.729720516696992}. Best is trial 33 with value: 0.7225773150147644.\u001b[0m\n",
      "\u001b[32m[I 2020-12-27 18:05:43,132]\u001b[0m Trial 38 finished with value: 0.7217396430518972 and parameters: {'reg_param': 0.6068081821683792}. Best is trial 33 with value: 0.7225773150147644.\u001b[0m\n",
      "\u001b[32m[I 2020-12-27 18:05:46,837]\u001b[0m Trial 39 finished with value: 0.713298194764301 and parameters: {'reg_param': 0.9430008940107015}. Best is trial 33 with value: 0.7225773150147644.\u001b[0m\n",
      "\u001b[32m[I 2020-12-27 18:05:50,788]\u001b[0m Trial 40 finished with value: 0.7225362604752084 and parameters: {'reg_param': 0.7360827819603571}. Best is trial 33 with value: 0.7225773150147644.\u001b[0m\n",
      "\u001b[32m[I 2020-12-27 18:05:54,881]\u001b[0m Trial 41 finished with value: 0.7225305495505336 and parameters: {'reg_param': 0.7374103556171807}. Best is trial 33 with value: 0.7225773150147644.\u001b[0m\n",
      "\u001b[32m[I 2020-12-27 18:05:58,855]\u001b[0m Trial 42 finished with value: 0.7215228601430986 and parameters: {'reg_param': 0.8122845493940051}. Best is trial 33 with value: 0.7225773150147644.\u001b[0m\n"
     ]
    },
    {
     "name": "stderr",
     "output_type": "stream",
     "text": [
      "\u001b[32m[I 2020-12-27 18:06:02,654]\u001b[0m Trial 43 finished with value: 0.7225756595813831 and parameters: {'reg_param': 0.7191089736394167}. Best is trial 33 with value: 0.7225773150147644.\u001b[0m\n",
      "\u001b[32m[I 2020-12-27 18:06:06,561]\u001b[0m Trial 44 finished with value: 0.7179417611922239 and parameters: {'reg_param': 0.4030977699468633}. Best is trial 33 with value: 0.7225773150147644.\u001b[0m\n",
      "\u001b[32m[I 2020-12-27 18:06:10,272]\u001b[0m Trial 45 finished with value: 0.7218520885719387 and parameters: {'reg_param': 0.6152569673217062}. Best is trial 33 with value: 0.7225773150147644.\u001b[0m\n",
      "\u001b[32m[I 2020-12-27 18:06:14,134]\u001b[0m Trial 46 finished with value: 0.7208091946362456 and parameters: {'reg_param': 0.546460281251957}. Best is trial 33 with value: 0.7225773150147644.\u001b[0m\n",
      "\u001b[32m[I 2020-12-27 18:06:18,120]\u001b[0m Trial 47 finished with value: 0.7225642056254035 and parameters: {'reg_param': 0.7266305873897395}. Best is trial 33 with value: 0.7225773150147644.\u001b[0m\n",
      "\u001b[32m[I 2020-12-27 18:06:22,195]\u001b[0m Trial 48 finished with value: 0.7185766666601887 and parameters: {'reg_param': 0.8846049551168239}. Best is trial 33 with value: 0.7225773150147644.\u001b[0m\n",
      "\u001b[32m[I 2020-12-27 18:06:26,240]\u001b[0m Trial 49 finished with value: 0.7221555523037833 and parameters: {'reg_param': 0.7790740181391178}. Best is trial 33 with value: 0.7225773150147644.\u001b[0m\n",
      "\u001b[32m[I 2020-12-27 18:06:30,289]\u001b[0m Trial 50 finished with value: 0.7221295171882478 and parameters: {'reg_param': 0.6383770573951567}. Best is trial 33 with value: 0.7225773150147644.\u001b[0m\n",
      "\u001b[32m[I 2020-12-27 18:06:34,102]\u001b[0m Trial 51 finished with value: 0.7225630150831046 and parameters: {'reg_param': 0.7273253952687331}. Best is trial 33 with value: 0.7225773150147644.\u001b[0m\n",
      "\u001b[32m[I 2020-12-27 18:06:37,840]\u001b[0m Trial 52 finished with value: 0.7225757618563742 and parameters: {'reg_param': 0.711811327413171}. Best is trial 33 with value: 0.7225773150147644.\u001b[0m\n",
      "\u001b[32m[I 2020-12-27 18:06:41,667]\u001b[0m Trial 53 finished with value: 0.7205170972440723 and parameters: {'reg_param': 0.8450427677451767}. Best is trial 33 with value: 0.7225773150147644.\u001b[0m\n",
      "\u001b[32m[I 2020-12-27 18:06:45,663]\u001b[0m Trial 54 finished with value: 0.7221274666085329 and parameters: {'reg_param': 0.7810736590423321}. Best is trial 33 with value: 0.7225773150147644.\u001b[0m\n",
      "\u001b[32m[I 2020-12-27 18:06:49,646]\u001b[0m Trial 55 finished with value: 0.7223601524118296 and parameters: {'reg_param': 0.6631416182885426}. Best is trial 33 with value: 0.7225773150147644.\u001b[0m\n",
      "\u001b[32m[I 2020-12-27 18:06:53,776]\u001b[0m Trial 56 finished with value: 0.7225708009376207 and parameters: {'reg_param': 0.7074111477304287}. Best is trial 33 with value: 0.7225773150147644.\u001b[0m\n",
      "\u001b[32m[I 2020-12-27 18:06:57,828]\u001b[0m Trial 57 finished with value: 0.7215642993702389 and parameters: {'reg_param': 0.5941328143718476}. Best is trial 33 with value: 0.7225773150147644.\u001b[0m\n",
      "\u001b[32m[I 2020-12-27 18:07:01,836]\u001b[0m Trial 58 finished with value: 0.7146452614955058 and parameters: {'reg_param': 0.27257789772300756}. Best is trial 33 with value: 0.7225773150147644.\u001b[0m\n",
      "\u001b[32m[I 2020-12-27 18:07:05,988]\u001b[0m Trial 59 finished with value: 0.7212459272573014 and parameters: {'reg_param': 0.5730349614878875}. Best is trial 33 with value: 0.7225773150147644.\u001b[0m\n",
      "\u001b[32m[I 2020-12-27 18:07:10,101]\u001b[0m Trial 60 finished with value: 0.7225382962400502 and parameters: {'reg_param': 0.6944871576270243}. Best is trial 33 with value: 0.7225773150147644.\u001b[0m\n",
      "\u001b[32m[I 2020-12-27 18:07:14,065]\u001b[0m Trial 61 finished with value: 0.7223922406782775 and parameters: {'reg_param': 0.7584745434564841}. Best is trial 33 with value: 0.7225773150147644.\u001b[0m\n",
      "\u001b[32m[I 2020-12-27 18:07:18,165]\u001b[0m Trial 62 finished with value: 0.7225759085474771 and parameters: {'reg_param': 0.71052875143407}. Best is trial 33 with value: 0.7225773150147644.\u001b[0m\n",
      "\u001b[32m[I 2020-12-27 18:07:22,117]\u001b[0m Trial 63 finished with value: 0.7220315477355163 and parameters: {'reg_param': 0.6296984642164979}. Best is trial 33 with value: 0.7225773150147644.\u001b[0m\n",
      "\u001b[32m[I 2020-12-27 18:07:25,833]\u001b[0m Trial 64 finished with value: 0.7224423819283363 and parameters: {'reg_param': 0.6747172702294629}. Best is trial 33 with value: 0.7225773150147644.\u001b[0m\n",
      "\u001b[32m[I 2020-12-27 18:07:29,554]\u001b[0m Trial 65 finished with value: 0.7225725110460547 and parameters: {'reg_param': 0.7082953869335271}. Best is trial 33 with value: 0.7225773150147644.\u001b[0m\n",
      "\u001b[32m[I 2020-12-27 18:07:33,446]\u001b[0m Trial 66 finished with value: 0.7201932307307516 and parameters: {'reg_param': 0.5119673133041633}. Best is trial 33 with value: 0.7225773150147644.\u001b[0m\n",
      "\u001b[32m[I 2020-12-27 18:07:37,459]\u001b[0m Trial 67 finished with value: 0.7217714645676295 and parameters: {'reg_param': 0.801268181141358}. Best is trial 33 with value: 0.7225773150147644.\u001b[0m\n",
      "\u001b[32m[I 2020-12-27 18:07:41,416]\u001b[0m Trial 68 finished with value: 0.7225414540841847 and parameters: {'reg_param': 0.6955794204547461}. Best is trial 33 with value: 0.7225773150147644.\u001b[0m\n",
      "\u001b[32m[I 2020-12-27 18:07:45,058]\u001b[0m Trial 69 finished with value: 0.722280349846581 and parameters: {'reg_param': 0.6536827835637484}. Best is trial 33 with value: 0.7225773150147644.\u001b[0m\n",
      "\u001b[32m[I 2020-12-27 18:07:48,805]\u001b[0m Trial 70 finished with value: 0.7163547609284395 and parameters: {'reg_param': 0.9145738973499881}. Best is trial 33 with value: 0.7225773150147644.\u001b[0m\n",
      "\u001b[32m[I 2020-12-27 18:07:52,837]\u001b[0m Trial 71 finished with value: 0.72257558423832 and parameters: {'reg_param': 0.7102118930317142}. Best is trial 33 with value: 0.7225773150147644.\u001b[0m\n",
      "\u001b[32m[I 2020-12-27 18:07:56,644]\u001b[0m Trial 72 finished with value: 0.7225710998763878 and parameters: {'reg_param': 0.7075675047231297}. Best is trial 33 with value: 0.7225773150147644.\u001b[0m\n",
      "\u001b[32m[I 2020-12-27 18:08:00,292]\u001b[0m Trial 73 finished with value: 0.7223438884526785 and parameters: {'reg_param': 0.7632784082459712}. Best is trial 33 with value: 0.7225773150147644.\u001b[0m\n",
      "\u001b[32m[I 2020-12-27 18:08:03,955]\u001b[0m Trial 74 finished with value: 0.7212306985076137 and parameters: {'reg_param': 0.5720758032344231}. Best is trial 33 with value: 0.7225773150147644.\u001b[0m\n",
      "\u001b[32m[I 2020-12-27 18:08:07,901]\u001b[0m Trial 75 finished with value: 0.7223839463746202 and parameters: {'reg_param': 0.6661288792876101}. Best is trial 33 with value: 0.7225773150147644.\u001b[0m\n",
      "\u001b[32m[I 2020-12-27 18:08:11,992]\u001b[0m Trial 76 finished with value: 0.721275174851033 and parameters: {'reg_param': 0.821755933937818}. Best is trial 33 with value: 0.7225773150147644.\u001b[0m\n",
      "\u001b[32m[I 2020-12-27 18:08:15,943]\u001b[0m Trial 77 finished with value: 0.7219024930270067 and parameters: {'reg_param': 0.6192083621968685}. Best is trial 33 with value: 0.7225773150147644.\u001b[0m\n",
      "\u001b[32m[I 2020-12-27 18:08:19,650]\u001b[0m Trial 78 finished with value: 0.7223959796276438 and parameters: {'reg_param': 0.7580032279084157}. Best is trial 33 with value: 0.7225773150147644.\u001b[0m\n",
      "\u001b[32m[I 2020-12-27 18:08:23,363]\u001b[0m Trial 79 finished with value: 0.7218983370626466 and parameters: {'reg_param': 0.794829440550079}. Best is trial 33 with value: 0.7225773150147644.\u001b[0m\n",
      "\u001b[32m[I 2020-12-27 18:08:27,293]\u001b[0m Trial 80 finished with value: 0.7225776508980178 and parameters: {'reg_param': 0.7145911521336701}. Best is trial 80 with value: 0.7225776508980178.\u001b[0m\n",
      "\u001b[32m[I 2020-12-27 18:08:31,302]\u001b[0m Trial 81 finished with value: 0.7225773300956975 and parameters: {'reg_param': 0.7125646757946184}. Best is trial 80 with value: 0.7225776508980178.\u001b[0m\n",
      "\u001b[32m[I 2020-12-27 18:08:35,309]\u001b[0m Trial 82 finished with value: 0.7224350353370255 and parameters: {'reg_param': 0.6733845778380041}. Best is trial 80 with value: 0.7225776508980178.\u001b[0m\n",
      "\u001b[32m[I 2020-12-27 18:08:39,350]\u001b[0m Trial 83 finished with value: 0.7224657246673705 and parameters: {'reg_param': 0.7492704037149338}. Best is trial 80 with value: 0.7225776508980178.\u001b[0m\n",
      "\u001b[32m[I 2020-12-27 18:08:43,122]\u001b[0m Trial 84 finished with value: 0.7225759594284874 and parameters: {'reg_param': 0.711751626537878}. Best is trial 80 with value: 0.7225776508980178.\u001b[0m\n",
      "\u001b[32m[I 2020-12-27 18:08:46,840]\u001b[0m Trial 85 finished with value: 0.7206184074175044 and parameters: {'reg_param': 0.8422773065463665}. Best is trial 80 with value: 0.7225776508980178.\u001b[0m\n",
      "\u001b[32m[I 2020-12-27 18:08:50,694]\u001b[0m Trial 86 finished with value: 0.7036779527724144 and parameters: {'reg_param': 0.04699258797571487}. Best is trial 80 with value: 0.7225776508980178.\u001b[0m\n"
     ]
    },
    {
     "name": "stderr",
     "output_type": "stream",
     "text": [
      "\u001b[32m[I 2020-12-27 18:08:54,632]\u001b[0m Trial 87 finished with value: 0.722095519229032 and parameters: {'reg_param': 0.6352987130770652}. Best is trial 80 with value: 0.7225776508980178.\u001b[0m\n",
      "\u001b[32m[I 2020-12-27 18:08:58,646]\u001b[0m Trial 88 finished with value: 0.7220478251288421 and parameters: {'reg_param': 0.7862037874403628}. Best is trial 80 with value: 0.7225776508980178.\u001b[0m\n",
      "\u001b[32m[I 2020-12-27 18:09:02,480]\u001b[0m Trial 89 finished with value: 0.722509529549672 and parameters: {'reg_param': 0.7419988736480618}. Best is trial 80 with value: 0.7225776508980178.\u001b[0m\n",
      "\u001b[32m[I 2020-12-27 18:09:06,212]\u001b[0m Trial 90 finished with value: 0.7225704745952312 and parameters: {'reg_param': 0.7223274101962175}. Best is trial 80 with value: 0.7225776508980178.\u001b[0m\n",
      "\u001b[32m[I 2020-12-27 18:09:10,013]\u001b[0m Trial 91 finished with value: 0.7225755160205992 and parameters: {'reg_param': 0.7113759942220782}. Best is trial 80 with value: 0.7225776508980178.\u001b[0m\n",
      "\u001b[32m[I 2020-12-27 18:09:13,955]\u001b[0m Trial 92 finished with value: 0.7224644382032158 and parameters: {'reg_param': 0.6785578317615831}. Best is trial 80 with value: 0.7225776508980178.\u001b[0m\n",
      "\u001b[32m[I 2020-12-27 18:09:17,915]\u001b[0m Trial 93 finished with value: 0.7222128782241041 and parameters: {'reg_param': 0.6464795382609081}. Best is trial 80 with value: 0.7225776508980178.\u001b[0m\n",
      "\u001b[32m[I 2020-12-27 18:09:21,660]\u001b[0m Trial 94 finished with value: 0.7222759506285497 and parameters: {'reg_param': 0.7697470440643436}. Best is trial 80 with value: 0.7225776508980178.\u001b[0m\n",
      "\u001b[32m[I 2020-12-27 18:09:25,288]\u001b[0m Trial 95 finished with value: 0.7225760850666808 and parameters: {'reg_param': 0.7188729517569376}. Best is trial 80 with value: 0.7225776508980178.\u001b[0m\n",
      "\u001b[32m[I 2020-12-27 18:09:29,250]\u001b[0m Trial 96 finished with value: 0.7224914711819894 and parameters: {'reg_param': 0.6832841224374548}. Best is trial 80 with value: 0.7225776508980178.\u001b[0m\n",
      "\u001b[32m[I 2020-12-27 18:09:33,305]\u001b[0m Trial 97 finished with value: 0.7211385198621842 and parameters: {'reg_param': 0.8265386216673777}. Best is trial 80 with value: 0.7225776508980178.\u001b[0m\n",
      "\u001b[32m[I 2020-12-27 18:09:37,227]\u001b[0m Trial 98 finished with value: 0.7225325443164555 and parameters: {'reg_param': 0.7366836253699263}. Best is trial 80 with value: 0.7225776508980178.\u001b[0m\n",
      "\u001b[32m[I 2020-12-27 18:09:40,872]\u001b[0m Trial 99 finished with value: 0.71914591414209 and parameters: {'reg_param': 0.8748433735583255}. Best is trial 80 with value: 0.7225776508980178.\u001b[0m\n",
      "\u001b[32m[I 2020-12-27 18:09:44,724]\u001b[0m Trial 100 finished with value: 0.7218048849040052 and parameters: {'reg_param': 0.6116709446278705}. Best is trial 80 with value: 0.7225776508980178.\u001b[0m\n",
      "\u001b[32m[I 2020-12-27 18:09:48,501]\u001b[0m Trial 101 finished with value: 0.7225687384546341 and parameters: {'reg_param': 0.7243725815685053}. Best is trial 80 with value: 0.7225776508980178.\u001b[0m\n",
      "\u001b[32m[I 2020-12-27 18:09:52,386]\u001b[0m Trial 102 finished with value: 0.7225777079163622 and parameters: {'reg_param': 0.7147365625515147}. Best is trial 102 with value: 0.7225777079163622.\u001b[0m\n",
      "\u001b[32m[I 2020-12-27 18:09:56,029]\u001b[0m Trial 103 finished with value: 0.7222151031591284 and parameters: {'reg_param': 0.7748007561038334}. Best is trial 102 with value: 0.7225777079163622.\u001b[0m\n",
      "\u001b[32m[I 2020-12-27 18:09:59,716]\u001b[0m Trial 104 finished with value: 0.7225342226055285 and parameters: {'reg_param': 0.6935687186394811}. Best is trial 102 with value: 0.7225777079163622.\u001b[0m\n",
      "\u001b[32m[I 2020-12-27 18:10:03,695]\u001b[0m Trial 105 finished with value: 0.722315382845853 and parameters: {'reg_param': 0.6577282466276119}. Best is trial 102 with value: 0.7225777079163622.\u001b[0m\n",
      "\u001b[32m[I 2020-12-27 18:10:07,805]\u001b[0m Trial 106 finished with value: 0.7225773642872145 and parameters: {'reg_param': 0.7125421163230593}. Best is trial 102 with value: 0.7225777079163622.\u001b[0m\n",
      "\u001b[32m[I 2020-12-27 18:10:11,741]\u001b[0m Trial 107 finished with value: 0.7224851820166196 and parameters: {'reg_param': 0.7462114200191361}. Best is trial 102 with value: 0.7225777079163622.\u001b[0m\n",
      "\u001b[32m[I 2020-12-27 18:10:15,475]\u001b[0m Trial 108 finished with value: 0.7218650670783392 and parameters: {'reg_param': 0.7966223625306516}. Best is trial 102 with value: 0.7225777079163622.\u001b[0m\n",
      "\u001b[32m[I 2020-12-27 18:10:19,179]\u001b[0m Trial 109 finished with value: 0.722090707363691 and parameters: {'reg_param': 0.6348773211154527}. Best is trial 102 with value: 0.7225777079163622.\u001b[0m\n",
      "\u001b[32m[I 2020-12-27 18:10:23,068]\u001b[0m Trial 110 finished with value: 0.7215406538856212 and parameters: {'reg_param': 0.5924785771172445}. Best is trial 102 with value: 0.7225777079163622.\u001b[0m\n",
      "\u001b[32m[I 2020-12-27 18:10:27,102]\u001b[0m Trial 111 finished with value: 0.7225155542821937 and parameters: {'reg_param': 0.6885174544735968}. Best is trial 102 with value: 0.7225777079163622.\u001b[0m\n",
      "\u001b[32m[I 2020-12-27 18:10:31,101]\u001b[0m Trial 112 finished with value: 0.7225699572852801 and parameters: {'reg_param': 0.7070182321504727}. Best is trial 102 with value: 0.7225777079163622.\u001b[0m\n",
      "\u001b[32m[I 2020-12-27 18:10:34,805]\u001b[0m Trial 113 finished with value: 0.7223603930644553 and parameters: {'reg_param': 0.6631763150607317}. Best is trial 102 with value: 0.7225777079163622.\u001b[0m\n",
      "\u001b[32m[I 2020-12-27 18:10:38,474]\u001b[0m Trial 114 finished with value: 0.7225770235129954 and parameters: {'reg_param': 0.7181421000269307}. Best is trial 102 with value: 0.7225777079163622.\u001b[0m\n",
      "\u001b[32m[I 2020-12-27 18:10:42,366]\u001b[0m Trial 115 finished with value: 0.7224361180469653 and parameters: {'reg_param': 0.7533905755337784}. Best is trial 102 with value: 0.7225777079163622.\u001b[0m\n",
      "\u001b[32m[I 2020-12-27 18:10:46,320]\u001b[0m Trial 116 finished with value: 0.7225661282739433 and parameters: {'reg_param': 0.7259126328372862}. Best is trial 102 with value: 0.7225777079163622.\u001b[0m\n",
      "\u001b[32m[I 2020-12-27 18:10:50,313]\u001b[0m Trial 117 finished with value: 0.7223504152493968 and parameters: {'reg_param': 0.7626894115937256}. Best is trial 102 with value: 0.7225777079163622.\u001b[0m\n",
      "\u001b[32m[I 2020-12-27 18:10:54,032]\u001b[0m Trial 118 finished with value: 0.7224948797357237 and parameters: {'reg_param': 0.683842482386778}. Best is trial 102 with value: 0.7225777079163622.\u001b[0m\n",
      "\u001b[32m[I 2020-12-27 18:10:57,734]\u001b[0m Trial 119 finished with value: 0.721492215728928 and parameters: {'reg_param': 0.8135107357821222}. Best is trial 102 with value: 0.7225777079163622.\u001b[0m\n",
      "\u001b[32m[I 2020-12-27 18:11:01,728]\u001b[0m Trial 120 finished with value: 0.7221607352754871 and parameters: {'reg_param': 0.7787067197526648}. Best is trial 102 with value: 0.7225777079163622.\u001b[0m\n",
      "\u001b[32m[I 2020-12-27 18:11:05,773]\u001b[0m Trial 121 finished with value: 0.722574901485371 and parameters: {'reg_param': 0.7098548204306151}. Best is trial 102 with value: 0.7225777079163622.\u001b[0m\n",
      "\u001b[32m[I 2020-12-27 18:11:09,646]\u001b[0m Trial 122 finished with value: 0.7225231326875247 and parameters: {'reg_param': 0.7392305648734375}. Best is trial 102 with value: 0.7225777079163622.\u001b[0m\n",
      "\u001b[32m[I 2020-12-27 18:11:13,366]\u001b[0m Trial 123 finished with value: 0.7222726968129265 and parameters: {'reg_param': 0.6528150263720529}. Best is trial 102 with value: 0.7225777079163622.\u001b[0m\n",
      "\u001b[32m[I 2020-12-27 18:11:17,228]\u001b[0m Trial 124 finished with value: 0.722572464150279 and parameters: {'reg_param': 0.7082507533074904}. Best is trial 102 with value: 0.7225777079163622.\u001b[0m\n",
      "\u001b[32m[I 2020-12-27 18:11:21,038]\u001b[0m Trial 125 finished with value: 0.7224430557821736 and parameters: {'reg_param': 0.6747748977245328}. Best is trial 102 with value: 0.7225777079163622.\u001b[0m\n",
      "\u001b[32m[I 2020-12-27 18:11:25,023]\u001b[0m Trial 126 finished with value: 0.7225708760684814 and parameters: {'reg_param': 0.7219073110676465}. Best is trial 102 with value: 0.7225777079163622.\u001b[0m\n",
      "\u001b[32m[I 2020-12-27 18:11:29,215]\u001b[0m Trial 127 finished with value: 0.722488710729678 and parameters: {'reg_param': 0.7455379856172769}. Best is trial 102 with value: 0.7225777079163622.\u001b[0m\n",
      "\u001b[32m[I 2020-12-27 18:11:33,212]\u001b[0m Trial 128 finished with value: 0.7225057845060612 and parameters: {'reg_param': 0.6861801628552355}. Best is trial 102 with value: 0.7225777079163622.\u001b[0m\n",
      "\u001b[32m[I 2020-12-27 18:11:37,120]\u001b[0m Trial 129 finished with value: 0.7219311213604243 and parameters: {'reg_param': 0.6215276124414013}. Best is trial 102 with value: 0.7225777079163622.\u001b[0m\n"
     ]
    },
    {
     "name": "stderr",
     "output_type": "stream",
     "text": [
      "\u001b[32m[I 2020-12-27 18:11:40,993]\u001b[0m Trial 130 finished with value: 0.708214901306075 and parameters: {'reg_param': 0.973570428261257}. Best is trial 102 with value: 0.7225777079163622.\u001b[0m\n",
      "\u001b[32m[I 2020-12-27 18:11:44,832]\u001b[0m Trial 131 finished with value: 0.7225735559107582 and parameters: {'reg_param': 0.7201648742721842}. Best is trial 102 with value: 0.7225777079163622.\u001b[0m\n",
      "\u001b[32m[I 2020-12-27 18:11:48,551]\u001b[0m Trial 132 finished with value: 0.7225677859767671 and parameters: {'reg_param': 0.7047081171410158}. Best is trial 102 with value: 0.7225777079163622.\u001b[0m\n",
      "\u001b[32m[I 2020-12-27 18:11:52,446]\u001b[0m Trial 133 finished with value: 0.7223674521211721 and parameters: {'reg_param': 0.7610387161515068}. Best is trial 102 with value: 0.7225777079163622.\u001b[0m\n",
      "\u001b[32m[I 2020-12-27 18:11:56,523]\u001b[0m Trial 134 finished with value: 0.7223876386113576 and parameters: {'reg_param': 0.6666074203650527}. Best is trial 102 with value: 0.7225777079163622.\u001b[0m\n",
      "\u001b[32m[I 2020-12-27 18:12:00,366]\u001b[0m Trial 135 finished with value: 0.7225527440709552 and parameters: {'reg_param': 0.6985960758418673}. Best is trial 102 with value: 0.7225777079163622.\u001b[0m\n",
      "\u001b[32m[I 2020-12-27 18:12:04,102]\u001b[0m Trial 136 finished with value: 0.7225518773009361 and parameters: {'reg_param': 0.7317114565656833}. Best is trial 102 with value: 0.7225777079163622.\u001b[0m\n",
      "\u001b[32m[I 2020-12-27 18:12:07,859]\u001b[0m Trial 137 finished with value: 0.7221862586817471 and parameters: {'reg_param': 0.7768529774936488}. Best is trial 102 with value: 0.7225777079163622.\u001b[0m\n",
      "\u001b[32m[I 2020-12-27 18:12:11,752]\u001b[0m Trial 138 finished with value: 0.7221661621542299 and parameters: {'reg_param': 0.6417390534158133}. Best is trial 102 with value: 0.7225777079163622.\u001b[0m\n",
      "\u001b[32m[I 2020-12-27 18:12:15,753]\u001b[0m Trial 139 finished with value: 0.7218497841049418 and parameters: {'reg_param': 0.7973914911548505}. Best is trial 102 with value: 0.7225777079163622.\u001b[0m\n",
      "\u001b[32m[I 2020-12-27 18:12:19,604]\u001b[0m Trial 140 finished with value: 0.7225779680160584 and parameters: {'reg_param': 0.7160292735633996}. Best is trial 140 with value: 0.7225779680160584.\u001b[0m\n",
      "\u001b[32m[I 2020-12-27 18:12:23,353]\u001b[0m Trial 141 finished with value: 0.7225776502888662 and parameters: {'reg_param': 0.7173395139439576}. Best is trial 140 with value: 0.7225779680160584.\u001b[0m\n",
      "\u001b[32m[I 2020-12-27 18:12:27,258]\u001b[0m Trial 142 finished with value: 0.7224915212668555 and parameters: {'reg_param': 0.7451117942215298}. Best is trial 140 with value: 0.7225779680160584.\u001b[0m\n",
      "\u001b[32m[I 2020-12-27 18:12:31,159]\u001b[0m Trial 143 finished with value: 0.7225312116506964 and parameters: {'reg_param': 0.692630313944949}. Best is trial 140 with value: 0.7225779680160584.\u001b[0m\n",
      "\u001b[32m[I 2020-12-27 18:12:35,224]\u001b[0m Trial 144 finished with value: 0.722577800415015 and parameters: {'reg_param': 0.7148577277182429}. Best is trial 140 with value: 0.7225779680160584.\u001b[0m\n",
      "\u001b[32m[I 2020-12-27 18:12:39,226]\u001b[0m Trial 145 finished with value: 0.7225586734202138 and parameters: {'reg_param': 0.7293070404494929}. Best is trial 140 with value: 0.7225779680160584.\u001b[0m\n",
      "\u001b[32m[I 2020-12-27 18:12:43,054]\u001b[0m Trial 146 finished with value: 0.7223835043161281 and parameters: {'reg_param': 0.6660814997963407}. Best is trial 140 with value: 0.7225779680160584.\u001b[0m\n",
      "\u001b[32m[I 2020-12-27 18:12:46,803]\u001b[0m Trial 147 finished with value: 0.7225122648043363 and parameters: {'reg_param': 0.6878994599683169}. Best is trial 140 with value: 0.7225779680160584.\u001b[0m\n",
      "\u001b[32m[I 2020-12-27 18:12:50,663]\u001b[0m Trial 148 finished with value: 0.7224783677782186 and parameters: {'reg_param': 0.7473280922047328}. Best is trial 140 with value: 0.7225779680160584.\u001b[0m\n",
      "\u001b[32m[I 2020-12-27 18:12:54,664]\u001b[0m Trial 149 finished with value: 0.7223138726305625 and parameters: {'reg_param': 0.7663019634340734}. Best is trial 140 with value: 0.7225779680160584.\u001b[0m\n",
      "\u001b[32m[I 2020-12-27 18:12:58,657]\u001b[0m Trial 150 finished with value: 0.7225776141083109 and parameters: {'reg_param': 0.714022427632247}. Best is trial 140 with value: 0.7225779680160584.\u001b[0m\n",
      "\u001b[32m[I 2020-12-27 18:13:02,416]\u001b[0m Trial 151 finished with value: 0.7225757186382835 and parameters: {'reg_param': 0.7107102482770212}. Best is trial 140 with value: 0.7225779680160584.\u001b[0m\n",
      "\u001b[32m[I 2020-12-27 18:13:06,068]\u001b[0m Trial 152 finished with value: 0.7225780934632289 and parameters: {'reg_param': 0.7165934455253149}. Best is trial 152 with value: 0.7225780934632289.\u001b[0m\n",
      "\u001b[32m[I 2020-12-27 18:13:09,866]\u001b[0m Trial 153 finished with value: 0.7225458913465831 and parameters: {'reg_param': 0.7332100051355047}. Best is trial 152 with value: 0.7225780934632289.\u001b[0m\n",
      "\u001b[32m[I 2020-12-27 18:13:14,007]\u001b[0m Trial 154 finished with value: 0.7224538591380107 and parameters: {'reg_param': 0.676810137079234}. Best is trial 152 with value: 0.7225780934632289.\u001b[0m\n",
      "\u001b[32m[I 2020-12-27 18:13:17,942]\u001b[0m Trial 155 finished with value: 0.7222946769561698 and parameters: {'reg_param': 0.6552721035961422}. Best is trial 152 with value: 0.7225780934632289.\u001b[0m\n",
      "\u001b[32m[I 2020-12-27 18:13:21,912]\u001b[0m Trial 156 finished with value: 0.7225466285451267 and parameters: {'reg_param': 0.697007152085608}. Best is trial 152 with value: 0.7225780934632289.\u001b[0m\n",
      "\u001b[32m[I 2020-12-27 18:13:25,559]\u001b[0m Trial 157 finished with value: 0.7225738243764415 and parameters: {'reg_param': 0.7199593519051988}. Best is trial 152 with value: 0.7225780934632289.\u001b[0m\n",
      "\u001b[32m[I 2020-12-27 18:13:29,277]\u001b[0m Trial 158 finished with value: 0.7224711293198349 and parameters: {'reg_param': 0.7484385669690756}. Best is trial 152 with value: 0.7225780934632289.\u001b[0m\n",
      "\u001b[32m[I 2020-12-27 18:13:33,211]\u001b[0m Trial 159 finished with value: 0.722028088745083 and parameters: {'reg_param': 0.7873477669703149}. Best is trial 152 with value: 0.7225780934632289.\u001b[0m\n",
      "\u001b[32m[I 2020-12-27 18:13:37,290]\u001b[0m Trial 160 finished with value: 0.7224806779747709 and parameters: {'reg_param': 0.681160690778913}. Best is trial 152 with value: 0.7225780934632289.\u001b[0m\n",
      "\u001b[32m[I 2020-12-27 18:13:41,191]\u001b[0m Trial 161 finished with value: 0.722574877406555 and parameters: {'reg_param': 0.709896596621183}. Best is trial 152 with value: 0.7225780934632289.\u001b[0m\n",
      "\u001b[32m[I 2020-12-27 18:13:44,884]\u001b[0m Trial 162 finished with value: 0.7225777435507232 and parameters: {'reg_param': 0.7153804977824519}. Best is trial 152 with value: 0.7225780934632289.\u001b[0m\n",
      "\u001b[32m[I 2020-12-27 18:13:48,544]\u001b[0m Trial 163 finished with value: 0.7225459572003128 and parameters: {'reg_param': 0.7332517740050475}. Best is trial 152 with value: 0.7225780934632289.\u001b[0m\n",
      "\u001b[32m[I 2020-12-27 18:13:52,392]\u001b[0m Trial 164 finished with value: 0.7225524628592936 and parameters: {'reg_param': 0.6984719401863877}. Best is trial 152 with value: 0.7225780934632289.\u001b[0m\n",
      "\u001b[32m[I 2020-12-27 18:13:56,396]\u001b[0m Trial 165 finished with value: 0.7223771985242253 and parameters: {'reg_param': 0.7600820158645777}. Best is trial 152 with value: 0.7225780934632289.\u001b[0m\n",
      "\u001b[32m[I 2020-12-27 18:14:00,242]\u001b[0m Trial 166 finished with value: 0.7225767867268663 and parameters: {'reg_param': 0.7186597254888216}. Best is trial 152 with value: 0.7225780934632289.\u001b[0m\n",
      "\u001b[32m[I 2020-12-27 18:14:03,976]\u001b[0m Trial 167 finished with value: 0.7222093911840552 and parameters: {'reg_param': 0.6461241870993978}. Best is trial 152 with value: 0.7225780934632289.\u001b[0m\n",
      "\u001b[32m[I 2020-12-27 18:14:07,723]\u001b[0m Trial 168 finished with value: 0.7225700656164233 and parameters: {'reg_param': 0.7228373248848595}. Best is trial 152 with value: 0.7225780934632289.\u001b[0m\n",
      "\u001b[32m[I 2020-12-27 18:14:11,617]\u001b[0m Trial 169 finished with value: 0.7224353304599088 and parameters: {'reg_param': 0.6734789882858608}. Best is trial 152 with value: 0.7225780934632289.\u001b[0m\n",
      "\u001b[32m[I 2020-12-27 18:14:15,488]\u001b[0m Trial 170 finished with value: 0.7223090760070997 and parameters: {'reg_param': 0.7667149092610172}. Best is trial 152 with value: 0.7225780934632289.\u001b[0m\n",
      "\u001b[32m[I 2020-12-27 18:14:19,194]\u001b[0m Trial 171 finished with value: 0.7225775369253461 and parameters: {'reg_param': 0.7146513435157044}. Best is trial 152 with value: 0.7225780934632289.\u001b[0m\n",
      "\u001b[32m[I 2020-12-27 18:14:22,835]\u001b[0m Trial 172 finished with value: 0.7225117080647889 and parameters: {'reg_param': 0.7416120685215961}. Best is trial 152 with value: 0.7225780934632289.\u001b[0m\n"
     ]
    },
    {
     "name": "stderr",
     "output_type": "stream",
     "text": [
      "\u001b[32m[I 2020-12-27 18:14:26,824]\u001b[0m Trial 173 finished with value: 0.7225781299563067 and parameters: {'reg_param': 0.7155771107352454}. Best is trial 173 with value: 0.7225781299563067.\u001b[0m\n",
      "\u001b[32m[I 2020-12-27 18:14:30,800]\u001b[0m Trial 174 finished with value: 0.7225480092135115 and parameters: {'reg_param': 0.6974503823082697}. Best is trial 173 with value: 0.7225781299563067.\u001b[0m\n",
      "\u001b[32m[I 2020-12-27 18:14:34,471]\u001b[0m Trial 175 finished with value: 0.7225661067317323 and parameters: {'reg_param': 0.7258895039886075}. Best is trial 173 with value: 0.7225781299563067.\u001b[0m\n",
      "\u001b[32m[I 2020-12-27 18:14:38,240]\u001b[0m Trial 176 finished with value: 0.7224483585563186 and parameters: {'reg_param': 0.7518690144110949}. Best is trial 173 with value: 0.7225781299563067.\u001b[0m\n",
      "\u001b[32m[I 2020-12-27 18:14:42,110]\u001b[0m Trial 177 finished with value: 0.7225271404677814 and parameters: {'reg_param': 0.6914802328359675}. Best is trial 173 with value: 0.7225781299563067.\u001b[0m\n",
      "\u001b[32m[I 2020-12-27 18:14:46,187]\u001b[0m Trial 178 finished with value: 0.7223548489664328 and parameters: {'reg_param': 0.6624643791709011}. Best is trial 173 with value: 0.7225781299563067.\u001b[0m\n",
      "\u001b[32m[I 2020-12-27 18:14:50,086]\u001b[0m Trial 179 finished with value: 0.722575744020736 and parameters: {'reg_param': 0.711427875554056}. Best is trial 173 with value: 0.7225781299563067.\u001b[0m\n",
      "\u001b[32m[I 2020-12-27 18:14:53,896]\u001b[0m Trial 180 finished with value: 0.7225314259472863 and parameters: {'reg_param': 0.7369864046923544}. Best is trial 173 with value: 0.7225781299563067.\u001b[0m\n",
      "\u001b[32m[I 2020-12-27 18:14:57,632]\u001b[0m Trial 181 finished with value: 0.7225749103511184 and parameters: {'reg_param': 0.7098567212200919}. Best is trial 173 with value: 0.7225781299563067.\u001b[0m\n",
      "\u001b[32m[I 2020-12-27 18:15:01,567]\u001b[0m Trial 182 finished with value: 0.7224875813180803 and parameters: {'reg_param': 0.6826675784593296}. Best is trial 173 with value: 0.7225781299563067.\u001b[0m\n",
      "\u001b[32m[I 2020-12-27 18:15:05,513]\u001b[0m Trial 183 finished with value: 0.7225736496461803 and parameters: {'reg_param': 0.7202815821182992}. Best is trial 173 with value: 0.7225781299563067.\u001b[0m\n",
      "\u001b[32m[I 2020-12-27 18:15:09,435]\u001b[0m Trial 184 finished with value: 0.7221693203121442 and parameters: {'reg_param': 0.7780951085022126}. Best is trial 173 with value: 0.7225781299563067.\u001b[0m\n",
      "\u001b[32m[I 2020-12-27 18:15:13,085]\u001b[0m Trial 185 finished with value: 0.7224543329700809 and parameters: {'reg_param': 0.7509156473532853}. Best is trial 173 with value: 0.7225781299563067.\u001b[0m\n",
      "\u001b[32m[I 2020-12-27 18:15:16,805]\u001b[0m Trial 186 finished with value: 0.7225569102667639 and parameters: {'reg_param': 0.6998609699867476}. Best is trial 173 with value: 0.7225781299563067.\u001b[0m\n",
      "\u001b[32m[I 2020-12-27 18:15:20,759]\u001b[0m Trial 187 finished with value: 0.7225661231815022 and parameters: {'reg_param': 0.7257445918611458}. Best is trial 173 with value: 0.7225781299563067.\u001b[0m\n",
      "\u001b[32m[I 2020-12-27 18:15:24,820]\u001b[0m Trial 188 finished with value: 0.722463759272734 and parameters: {'reg_param': 0.6783946611022722}. Best is trial 173 with value: 0.7225781299563067.\u001b[0m\n",
      "\u001b[32m[I 2020-12-27 18:15:28,633]\u001b[0m Trial 189 finished with value: 0.722525783656248 and parameters: {'reg_param': 0.7387382865338974}. Best is trial 173 with value: 0.7225781299563067.\u001b[0m\n",
      "\u001b[32m[I 2020-12-27 18:15:32,411]\u001b[0m Trial 190 finished with value: 0.7225756475842886 and parameters: {'reg_param': 0.7102457055796325}. Best is trial 173 with value: 0.7225781299563067.\u001b[0m\n",
      "\u001b[32m[I 2020-12-27 18:15:36,210]\u001b[0m Trial 191 finished with value: 0.7225337285713301 and parameters: {'reg_param': 0.6934002940191115}. Best is trial 173 with value: 0.7225781299563067.\u001b[0m\n",
      "\u001b[32m[I 2020-12-27 18:15:40,163]\u001b[0m Trial 192 finished with value: 0.716735164020322 and parameters: {'reg_param': 0.35239912042554056}. Best is trial 173 with value: 0.7225781299563067.\u001b[0m\n",
      "\u001b[32m[I 2020-12-27 18:15:44,179]\u001b[0m Trial 193 finished with value: 0.7225773717052061 and parameters: {'reg_param': 0.7177095456224226}. Best is trial 173 with value: 0.7225781299563067.\u001b[0m\n",
      "\u001b[32m[I 2020-12-27 18:15:48,147]\u001b[0m Trial 194 finished with value: 0.7225717803627216 and parameters: {'reg_param': 0.721553335055118}. Best is trial 173 with value: 0.7225781299563067.\u001b[0m\n",
      "\u001b[32m[I 2020-12-27 18:15:51,825]\u001b[0m Trial 195 finished with value: 0.7223781497405941 and parameters: {'reg_param': 0.7599834457124661}. Best is trial 173 with value: 0.7225781299563067.\u001b[0m\n",
      "\u001b[32m[I 2020-12-27 18:15:55,596]\u001b[0m Trial 196 finished with value: 0.7224387428025831 and parameters: {'reg_param': 0.6740344569441397}. Best is trial 173 with value: 0.7225781299563067.\u001b[0m\n",
      "\u001b[32m[I 2020-12-27 18:15:59,539]\u001b[0m Trial 197 finished with value: 0.722514327356331 and parameters: {'reg_param': 0.7410735340438378}. Best is trial 173 with value: 0.7225781299563067.\u001b[0m\n",
      "\u001b[32m[I 2020-12-27 18:16:03,537]\u001b[0m Trial 198 finished with value: 0.7225651613711521 and parameters: {'reg_param': 0.7031024363317984}. Best is trial 173 with value: 0.7225781299563067.\u001b[0m\n",
      "\u001b[32m[I 2020-12-27 18:16:07,537]\u001b[0m Trial 199 finished with value: 0.7222887667844329 and parameters: {'reg_param': 0.6546685410216218}. Best is trial 173 with value: 0.7225781299563067.\u001b[0m\n"
     ]
    }
   ],
   "source": [
    "# Extracting the best model parameters and best study score\n",
    "best_study_score,best_study_params = study_best_score_params(X_train, y_train, QDA, objective_wrappper_qda, cv_strat, n_trials=200)"
   ]
  },
  {
   "cell_type": "code",
   "execution_count": 17,
   "metadata": {},
   "outputs": [
    {
     "name": "stdout",
     "output_type": "stream",
     "text": [
      "The best roc_auc_score for the study is:  0.7225781299563067\n"
     ]
    }
   ],
   "source": [
    "print('The best roc_auc_score for the study is: ',best_study_score)"
   ]
  },
  {
   "cell_type": "code",
   "execution_count": 18,
   "metadata": {},
   "outputs": [
    {
     "name": "stdout",
     "output_type": "stream",
     "text": [
      "The best study parameters for the classifier are:  {'reg_param': 0.7155771107352454}\n"
     ]
    }
   ],
   "source": [
    "print('The best study parameters for the classifier are: ',best_study_params)"
   ]
  },
  {
   "cell_type": "code",
   "execution_count": 19,
   "metadata": {},
   "outputs": [],
   "source": [
    "# Obtaining the best reduced feature QDA  model with eigen solver by setting best study parameters.\n",
    "QDA = QDA.set_params(**best_study_params)"
   ]
  },
  {
   "cell_type": "code",
   "execution_count": 20,
   "metadata": {},
   "outputs": [
    {
     "data": {
      "text/plain": [
       "QuadraticDiscriminantAnalysis(reg_param=0.7155771107352454)"
      ]
     },
     "execution_count": 20,
     "metadata": {},
     "output_type": "execute_result"
    }
   ],
   "source": [
    "# fitting the best QDA  model on the reduced feature training set\n",
    "QDA.fit(X_train,y_train)"
   ]
  },
  {
   "cell_type": "code",
   "execution_count": 24,
   "metadata": {},
   "outputs": [
    {
     "name": "stdout",
     "output_type": "stream",
     "text": [
      "The roc_auc_score for the Reduced feature training set using the best QDA classifier is  0.7258946495984695\n"
     ]
    }
   ],
   "source": [
    "# Calculating the Reduced feature training set roc_auc score using the best study parameters\n",
    "cal_roc_auc(X_train , y_train, QDA, 'Reduced feature', 'training', 'QDA classifier')"
   ]
  },
  {
   "cell_type": "code",
   "execution_count": 25,
   "metadata": {},
   "outputs": [
    {
     "name": "stdout",
     "output_type": "stream",
     "text": [
      "The roc_auc_score for the Reduced feature test set using the best QDA classifier is  0.7230740649171299\n"
     ]
    }
   ],
   "source": [
    "# Calculating the Reduced feature test set roc_auc score using the best study parameters\n",
    "cal_roc_auc(X_test, y_test, QDA, 'Reduced feature', 'test', 'QDA classifier')"
   ]
  },
  {
   "cell_type": "code",
   "execution_count": 26,
   "metadata": {},
   "outputs": [
    {
     "data": {
      "text/plain": [
       "['QDA.joblib']"
      ]
     },
     "execution_count": 26,
     "metadata": {},
     "output_type": "execute_result"
    }
   ],
   "source": [
    "# Saving the Reduced feature best QDA model \n",
    "import joblib\n",
    "joblib.dump(QDA,'QDA.joblib')"
   ]
  },
  {
   "cell_type": "markdown",
   "metadata": {},
   "source": [
    "### Calculating R_R ratio for best QDA Classifier."
   ]
  },
  {
   "cell_type": "code",
   "execution_count": 28,
   "metadata": {},
   "outputs": [],
   "source": [
    "# Computing the CV scores using sklearn's cross_val_score\n",
    "score_qda = cross_val_score(QDA, X_train, y_train, cv=cv_strat, n_jobs=5, scoring='roc_auc')"
   ]
  },
  {
   "cell_type": "code",
   "execution_count": 29,
   "metadata": {},
   "outputs": [
    {
     "name": "stdout",
     "output_type": "stream",
     "text": [
      "The reward associated with the best QDA Classifier using roc_auc metric is:  0.7225781299563067\n"
     ]
    }
   ],
   "source": [
    "print('The reward associated with the best QDA Classifier using roc_auc metric is: ',np.mean(score_qda))"
   ]
  },
  {
   "cell_type": "code",
   "execution_count": 30,
   "metadata": {},
   "outputs": [
    {
     "name": "stdout",
     "output_type": "stream",
     "text": [
      "The risk associated with the best QDA Classifier using roc_auc metric is:  0.006074359365354742\n"
     ]
    }
   ],
   "source": [
    "print('The risk associated with the best QDA Classifier using roc_auc metric is: ',np.std(score_qda))"
   ]
  },
  {
   "cell_type": "code",
   "execution_count": 31,
   "metadata": {},
   "outputs": [],
   "source": [
    "R_R_Ratio_qda = np.mean(score_qda)/np.std(score_qda)"
   ]
  },
  {
   "cell_type": "code",
   "execution_count": 32,
   "metadata": {},
   "outputs": [
    {
     "name": "stdout",
     "output_type": "stream",
     "text": [
      "The reward risk ratio for the best QDA Classifier using roc_auc metric is:  118.95544640930348\n"
     ]
    }
   ],
   "source": [
    "print('The reward risk ratio for the best QDA Classifier using roc_auc metric is: ',R_R_Ratio_qda)"
   ]
  },
  {
   "cell_type": "markdown",
   "metadata": {},
   "source": [
    "#### R_R Ratio for the best QDA classifier using roc_auc metric is:  118.95544640930348"
   ]
  },
  {
   "cell_type": "markdown",
   "metadata": {},
   "source": [
    "## Observations:\n",
    "### 1) The tuned QDA model has the worst test set roc_auc score as well as R_R ratio of all the fitted models till now. This was expected as the underlying Feature space is not multivariate normal, which is the underlying assumption of the QDA model. Any departure from normality affects the QDA more than the LDA, which is also observed here.\n",
    "### 2) Owing to both very low  R_R ratio and test set roc_auc, we can rule out the QDA model for this dataset."
   ]
  },
  {
   "cell_type": "markdown",
   "metadata": {},
   "source": [
    "### R_R Ratio for the best classifier  in Discriminant Analysis family utilizing  roc_auc metric is:   144.3922389528402, corresponding to LDA Classifier, with LW lemma Shrinkage."
   ]
  },
  {
   "cell_type": "markdown",
   "metadata": {},
   "source": [
    "## Thus keeping everything into account, the best discriminant classifier is Vanilla LDA classifier  with SVD solver for this dataset."
   ]
  },
  {
   "cell_type": "code",
   "execution_count": null,
   "metadata": {},
   "outputs": [],
   "source": []
  }
 ],
 "metadata": {
  "kernelspec": {
   "display_name": "Python 3",
   "language": "python",
   "name": "python3"
  },
  "language_info": {
   "codemirror_mode": {
    "name": "ipython",
    "version": 3
   },
   "file_extension": ".py",
   "mimetype": "text/x-python",
   "name": "python",
   "nbconvert_exporter": "python",
   "pygments_lexer": "ipython3",
   "version": "3.8.5"
  }
 },
 "nbformat": 4,
 "nbformat_minor": 4
}
