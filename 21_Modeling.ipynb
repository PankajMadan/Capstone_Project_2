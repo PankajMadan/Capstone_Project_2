{
 "cells": [
  {
   "cell_type": "code",
   "execution_count": 1,
   "metadata": {},
   "outputs": [],
   "source": [
    "# importing Required Packages\n",
    "import pandas as pd\n",
    "import numpy as np\n",
    "import matplotlib.pyplot as plt\n",
    "import seaborn as sns\n",
    "import warnings\n",
    "warnings.filterwarnings(\"ignore\")\n",
    "pd.set_option('display.max_columns', None)# To see all the columns of a dataframe\n",
    "#pd.set_option('display.max_rows', None)"
   ]
  },
  {
   "cell_type": "code",
   "execution_count": 2,
   "metadata": {},
   "outputs": [],
   "source": [
    "# Loading reduced feature training set\n",
    "X_train = pd.read_csv('X_train_final.csv')\n",
    "y_train = pd.read_csv('y_train.final.csv')"
   ]
  },
  {
   "cell_type": "code",
   "execution_count": 3,
   "metadata": {},
   "outputs": [],
   "source": [
    "# Loading reduced feature test set\n",
    "X_test = pd.read_csv('X_test_final.csv')\n",
    "y_test = pd.read_csv('y_test.final.csv')"
   ]
  },
  {
   "cell_type": "markdown",
   "metadata": {},
   "source": [
    "## Model_12: Keras Dense Model with Equal Neurons/layer, ELU Activation & RMS PropTuned learning rate."
   ]
  },
  {
   "cell_type": "code",
   "execution_count": 4,
   "metadata": {},
   "outputs": [],
   "source": [
    "# Importing Optuna , Tensorflow & Keras\n",
    "import optuna , tensorflow as tf"
   ]
  },
  {
   "cell_type": "code",
   "execution_count": 5,
   "metadata": {},
   "outputs": [],
   "source": [
    "# Importing Keras\n",
    "from tensorflow import keras"
   ]
  },
  {
   "cell_type": "code",
   "execution_count": 6,
   "metadata": {},
   "outputs": [],
   "source": [
    "# Importing the Sklearn's roc_auc_score module\n",
    "from sklearn.metrics import roc_auc_score"
   ]
  },
  {
   "cell_type": "code",
   "execution_count": 7,
   "metadata": {},
   "outputs": [],
   "source": [
    "# Importing train test split from Sklearn to produce validation set\n",
    "from sklearn.model_selection import train_test_split"
   ]
  },
  {
   "cell_type": "code",
   "execution_count": 8,
   "metadata": {},
   "outputs": [],
   "source": [
    "# Performing train_validation split with test size = .15 to provide more Training data to Neural Net\n",
    "X_train_1, X_val, y_train_1, y_val = train_test_split(X_train, y_train, test_size=0.15, random_state=42,\n",
    "                                                          stratify=y_train)"
   ]
  },
  {
   "cell_type": "code",
   "execution_count": 9,
   "metadata": {},
   "outputs": [],
   "source": [
    "# Defining class weight dictionary list for the imbalanced class\n",
    "cl_weight = [{0:1.0,1:11.38697},{0:1.0,1:12.0},{0:1.0,1:13.0},{0:1.0,1:14.0},{0:1.0,1:15.0},{0:1.0,1:16.0},\n",
    "             {0:1.0,1:17.0},{0:1.0,1:18.0}]"
   ]
  },
  {
   "cell_type": "code",
   "execution_count": 10,
   "metadata": {},
   "outputs": [],
   "source": [
    "# Defining best roc_auc score\n",
    "best_roc_auc = 0"
   ]
  },
  {
   "cell_type": "code",
   "execution_count": 11,
   "metadata": {},
   "outputs": [],
   "source": [
    "# defining the objective function\n",
    "def objective_wrappper_keras_eq_ELU(X_tr, y_tr, X_val, y_val, cl_w):\n",
    "    '''\n",
    "    Optimizes Keras ,neural net with equal no. of neurons in each layer , best parameters \n",
    "    on the given training set: X_tr, y_tr using validation set: X_val,y_val & class weights: cl_w\n",
    "    \n",
    "    '''\n",
    "\n",
    "    def objective(trial):\n",
    "        s = trial.suggest_int('step',2,6)\n",
    "        def exponential_decay_fn(epoch):\n",
    "            return 0.01 * 0.1**(epoch /s )\n",
    "              \n",
    "        # building model & searching for the best no. of neural units per layer.\n",
    "        no_units = trial.suggest_int('no._units',100,600)# No. of Neurons in each layer\n",
    "        model = keras.models.Sequential()\n",
    "        model.add(keras.layers.InputLayer(input_shape=X_tr.shape[1:]))\n",
    "        model.add(keras.layers.BatchNormalization())# For normalization\n",
    "        for i in range(trial.suggest_int('number',2,6)):\n",
    "            model.add(keras.layers.Dense(units=no_units,activation='elu',\n",
    "                                     kernel_initializer='he_normal'))\n",
    "            model.add(keras.layers.BatchNormalization())# Keras layer for normalization\n",
    "        model.add(keras.layers.Dense(units=1,activation='sigmoid'))\n",
    "    \n",
    "        # Searching for the best learning rate.\n",
    "        #lr = trial.suggest_float(\"lr\", 1e-5, 1e-1, log=True) \n",
    "    \n",
    "        # Compiling the model\n",
    "        model.compile(loss=\"binary_crossentropy\", optimizer=keras.optimizers.RMSprop(),\n",
    "                      metrics=[tf.keras.metrics.AUC(curve=\"ROC\")])\n",
    "    \n",
    "        # Defining the Callbacks\n",
    "        checkpoint_cb = keras.callbacks.ModelCheckpoint('best_model.h5',save_best_only=True) # 1st Callback\n",
    "        early_stopping_cb = keras.callbacks.EarlyStopping(patience=4) # 2nd Callback, Stop if validation score doen't improve for\n",
    "        # 4 epochs        \n",
    "        lr_scheduler_cb = keras.callbacks.LearningRateScheduler(exponential_decay_fn)# 3rd Callback\n",
    "        #tensorboard_cb = keras.callbacks.TensorBoard(get_run_logdir()) \n",
    "        \n",
    "        #Fitting the model\n",
    "        model.fit(X_tr, y_tr, epochs=50, validation_data=(X_val,y_val), batch_size=32,\n",
    "             class_weight=trial.suggest_categorical('best_weight',cl_w),\n",
    "             callbacks=[checkpoint_cb, early_stopping_cb, lr_scheduler_cb])#,tensorboard_cb])\n",
    "    \n",
    "        # Loading the best model \n",
    "        model_best = keras.models.load_model('best_model.h5')\n",
    "    \n",
    "        # Computing the roc_auc_score for the validation set\n",
    "        roc_auc_1 = roc_auc_score(y_val,model_best.predict_proba(X_val))\n",
    "        global best_roc_auc\n",
    "        # Updating best_roc_auc score\n",
    "        if roc_auc_1 > best_roc_auc:\n",
    "            best_roc_auc = roc_auc_1\n",
    "            model_best.save('Best_model_Elu_eq_Learn.h5')\n",
    "        \n",
    "        return roc_auc_1\n",
    "    \n",
    "    return objective"
   ]
  },
  {
   "cell_type": "code",
   "execution_count": 12,
   "metadata": {},
   "outputs": [],
   "source": [
    "# Defining the evaluation function for study's best parameters\n",
    "def study_best_score_params(X_tr, y_tr, X_v, y_v, obj_func, cl_w, n_trials=100):\n",
    "    ''' Computes the best hyper parameters of the Neural net using the Training set(X_tr,y_tr) & Validation set\n",
    "    (X_v,y_v), class weights cl_w & \n",
    "    returns Optuna's study's best score & clasifier parameters'''\n",
    "    \n",
    "    study = optuna.create_study(direction='maximize')\n",
    "    study.optimize(obj_func(X_tr, y_tr, X_v, y_v, cl_w),n_trials)\n",
    "    best_score = study.best_value\n",
    "    best_params = study.best_params\n",
    "    return (best_score,best_params)"
   ]
  },
  {
   "cell_type": "code",
   "execution_count": 13,
   "metadata": {},
   "outputs": [
    {
     "name": "stderr",
     "output_type": "stream",
     "text": [
      "\u001b[32m[I 2021-01-05 17:31:49,198]\u001b[0m A new study created in memory with name: no-name-39a97cbb-52fe-4f27-80ae-9109cc5b7f50\u001b[0m\n"
     ]
    },
    {
     "name": "stdout",
     "output_type": "stream",
     "text": [
      "WARNING:tensorflow:sample_weight modes were coerced from\n",
      "  ...\n",
      "    to  \n",
      "  ['...']\n",
      "WARNING:tensorflow:sample_weight modes were coerced from\n",
      "  ...\n",
      "    to  \n",
      "  ['...']\n",
      "Train on 196038 samples, validate on 34595 samples\n",
      "Epoch 1/50\n",
      "196038/196038 [==============================] - 34s 174us/sample - loss: 1.3700 - auc: 0.7060 - val_loss: 4140.6598 - val_auc: 0.7319\n",
      "Epoch 2/50\n",
      "196038/196038 [==============================] - 32s 165us/sample - loss: 1.3278 - auc: 0.7279 - val_loss: 1931764.7701 - val_auc: 0.7062\n",
      "Epoch 3/50\n",
      "196038/196038 [==============================] - 32s 165us/sample - loss: 1.3154 - auc: 0.7346 - val_loss: 3108750512.0442 - val_auc: 0.7042\n",
      "Epoch 4/50\n",
      "196038/196038 [==============================] - 33s 166us/sample - loss: 1.3118 - auc: 0.7359 - val_loss: 5366291157.3223 - val_auc: 0.6943\n",
      "Epoch 5/50\n",
      "196038/196038 [==============================] - 32s 165us/sample - loss: 1.3136 - auc: 0.7351 - val_loss: 801698.2132 - val_auc: 0.6862\n"
     ]
    },
    {
     "name": "stderr",
     "output_type": "stream",
     "text": [
      "\u001b[32m[I 2021-01-05 17:34:37,101]\u001b[0m Trial 0 finished with value: 0.7318557327041448 and parameters: {'step': 6, 'no._units': 166, 'number': 6, 'best_weight': {0: 1.0, 1: 16.0}}. Best is trial 0 with value: 0.7318557327041448.\u001b[0m\n"
     ]
    },
    {
     "name": "stdout",
     "output_type": "stream",
     "text": [
      "WARNING:tensorflow:sample_weight modes were coerced from\n",
      "  ...\n",
      "    to  \n",
      "  ['...']\n",
      "WARNING:tensorflow:sample_weight modes were coerced from\n",
      "  ...\n",
      "    to  \n",
      "  ['...']\n",
      "Train on 196038 samples, validate on 34595 samples\n",
      "Epoch 1/50\n",
      "196038/196038 [==============================] - 35s 179us/sample - loss: 1.1928 - auc_1: 0.7063 - val_loss: 1.2089 - val_auc_1: 0.7294\n",
      "Epoch 2/50\n",
      "196038/196038 [==============================] - 33s 168us/sample - loss: 1.1546 - auc_1: 0.7279 - val_loss: 53398.8370 - val_auc_1: 0.7200\n",
      "Epoch 3/50\n",
      "196038/196038 [==============================] - 33s 168us/sample - loss: 1.1436 - auc_1: 0.7347 - val_loss: 6193573.9642 - val_auc_1: 0.6905\n",
      "Epoch 4/50\n",
      "196038/196038 [==============================] - 33s 167us/sample - loss: 1.1355 - auc_1: 0.7396 - val_loss: 262056.0696 - val_auc_1: 0.6803\n",
      "Epoch 5/50\n",
      "196038/196038 [==============================] - 33s 169us/sample - loss: 1.1355 - auc_1: 0.7398 - val_loss: 12045.8039 - val_auc_1: 0.7370\n"
     ]
    },
    {
     "name": "stderr",
     "output_type": "stream",
     "text": [
      "\u001b[32m[I 2021-01-05 17:37:27,599]\u001b[0m Trial 1 finished with value: 0.729335771260831 and parameters: {'step': 3, 'no._units': 206, 'number': 6, 'best_weight': {0: 1.0, 1: 12.0}}. Best is trial 0 with value: 0.7318557327041448.\u001b[0m\n"
     ]
    },
    {
     "name": "stdout",
     "output_type": "stream",
     "text": [
      "WARNING:tensorflow:sample_weight modes were coerced from\n",
      "  ...\n",
      "    to  \n",
      "  ['...']\n",
      "WARNING:tensorflow:sample_weight modes were coerced from\n",
      "  ...\n",
      "    to  \n",
      "  ['...']\n",
      "Train on 196038 samples, validate on 34595 samples\n",
      "Epoch 1/50\n",
      "196038/196038 [==============================] - 25s 127us/sample - loss: 1.4055 - auc_2: 0.7144 - val_loss: 1.3711 - val_auc_2: 0.7288\n",
      "Epoch 2/50\n",
      "196038/196038 [==============================] - 23s 119us/sample - loss: 1.3574 - auc_2: 0.7324 - val_loss: 3.3007 - val_auc_2: 0.7336\n",
      "Epoch 3/50\n",
      "196038/196038 [==============================] - 24s 120us/sample - loss: 1.3416 - auc_2: 0.7401 - val_loss: 1.6648 - val_auc_2: 0.7348\n",
      "Epoch 4/50\n",
      "196038/196038 [==============================] - 23s 120us/sample - loss: 1.3398 - auc_2: 0.7406 - val_loss: 1.4302 - val_auc_2: 0.7371\n",
      "Epoch 5/50\n",
      "196038/196038 [==============================] - 23s 120us/sample - loss: 1.3363 - auc_2: 0.7426 - val_loss: 2.4002 - val_auc_2: 0.7375\n"
     ]
    },
    {
     "name": "stderr",
     "output_type": "stream",
     "text": [
      "\u001b[32m[I 2021-01-05 17:39:29,088]\u001b[0m Trial 2 finished with value: 0.7287221575730409 and parameters: {'step': 2, 'no._units': 265, 'number': 3, 'best_weight': {0: 1.0, 1: 17.0}}. Best is trial 0 with value: 0.7318557327041448.\u001b[0m\n"
     ]
    },
    {
     "name": "stdout",
     "output_type": "stream",
     "text": [
      "WARNING:tensorflow:sample_weight modes were coerced from\n",
      "  ...\n",
      "    to  \n",
      "  ['...']\n",
      "WARNING:tensorflow:sample_weight modes were coerced from\n",
      "  ...\n",
      "    to  \n",
      "  ['...']\n",
      "Train on 196038 samples, validate on 34595 samples\n",
      "Epoch 1/50\n",
      "196038/196038 [==============================] - 31s 159us/sample - loss: 1.4560 - auc_3: 0.7072 - val_loss: 10.6218 - val_auc_3: 0.7133\n",
      "Epoch 2/50\n",
      "196038/196038 [==============================] - 29s 149us/sample - loss: 1.3931 - auc_3: 0.7319 - val_loss: 769618.0408 - val_auc_3: 0.7311\n",
      "Epoch 3/50\n",
      "196038/196038 [==============================] - 29s 150us/sample - loss: 1.3799 - auc_3: 0.7382 - val_loss: 6491805.9943 - val_auc_3: 0.7277\n",
      "Epoch 4/50\n",
      "196038/196038 [==============================] - 29s 149us/sample - loss: 1.3734 - auc_3: 0.7412 - val_loss: 2005858.8311 - val_auc_3: 0.6995\n",
      "Epoch 5/50\n",
      "196038/196038 [==============================] - 29s 148us/sample - loss: 1.3723 - auc_3: 0.7419 - val_loss: 3571112.9196 - val_auc_3: 0.7182\n"
     ]
    },
    {
     "name": "stderr",
     "output_type": "stream",
     "text": [
      "\u001b[32m[I 2021-01-05 17:42:00,376]\u001b[0m Trial 3 finished with value: 0.7132889002403049 and parameters: {'step': 2, 'no._units': 304, 'number': 5, 'best_weight': {0: 1.0, 1: 18.0}}. Best is trial 0 with value: 0.7318557327041448.\u001b[0m\n"
     ]
    },
    {
     "name": "stdout",
     "output_type": "stream",
     "text": [
      "WARNING:tensorflow:sample_weight modes were coerced from\n",
      "  ...\n",
      "    to  \n",
      "  ['...']\n",
      "WARNING:tensorflow:sample_weight modes were coerced from\n",
      "  ...\n",
      "    to  \n",
      "  ['...']\n",
      "Train on 196038 samples, validate on 34595 samples\n",
      "Epoch 1/50\n",
      "196038/196038 [==============================] - 22s 114us/sample - loss: 1.4338 - auc_4: 0.7078 - val_loss: 1.3858 - val_auc_4: 0.7321\n",
      "Epoch 2/50\n",
      "196038/196038 [==============================] - 21s 107us/sample - loss: 1.3836 - auc_4: 0.7249 - val_loss: 1.5088 - val_auc_4: 0.7359\n",
      "Epoch 3/50\n",
      "196038/196038 [==============================] - 21s 108us/sample - loss: 1.3796 - auc_4: 0.7272 - val_loss: 3.2264 - val_auc_4: 0.7299\n",
      "Epoch 4/50\n",
      "196038/196038 [==============================] - 21s 107us/sample - loss: 1.3718 - auc_4: 0.7289 - val_loss: 1.4147 - val_auc_4: 0.7304\n",
      "Epoch 5/50\n",
      "196038/196038 [==============================] - 21s 108us/sample - loss: 1.3560 - auc_4: 0.7352 - val_loss: 2.1006 - val_auc_4: 0.7365\n"
     ]
    },
    {
     "name": "stderr",
     "output_type": "stream",
     "text": [
      "\u001b[32m[I 2021-01-05 17:43:48,974]\u001b[0m Trial 4 finished with value: 0.7320226658446272 and parameters: {'step': 6, 'no._units': 444, 'number': 2, 'best_weight': {0: 1.0, 1: 17.0}}. Best is trial 4 with value: 0.7320226658446272.\u001b[0m\n"
     ]
    },
    {
     "name": "stdout",
     "output_type": "stream",
     "text": [
      "WARNING:tensorflow:sample_weight modes were coerced from\n",
      "  ...\n",
      "    to  \n",
      "  ['...']\n",
      "WARNING:tensorflow:sample_weight modes were coerced from\n",
      "  ...\n",
      "    to  \n",
      "  ['...']\n",
      "Train on 196038 samples, validate on 34595 samples\n",
      "Epoch 1/50\n",
      "196038/196038 [==============================] - 26s 130us/sample - loss: 1.4756 - auc_5: 0.7065 - val_loss: 1.7630 - val_auc_5: 0.7340\n",
      "Epoch 2/50\n",
      "196038/196038 [==============================] - 25s 125us/sample - loss: 1.4112 - auc_5: 0.7278 - val_loss: 34.3253 - val_auc_5: 0.7272\n",
      "Epoch 3/50\n",
      "196038/196038 [==============================] - 25s 127us/sample - loss: 1.3965 - auc_5: 0.7331 - val_loss: 9.0509 - val_auc_5: 0.7301\n",
      "Epoch 4/50\n",
      "196038/196038 [==============================] - 24s 124us/sample - loss: 1.3906 - auc_5: 0.7360 - val_loss: 77.5074 - val_auc_5: 0.7158\n",
      "Epoch 5/50\n",
      "196038/196038 [==============================] - 24s 125us/sample - loss: 1.3860 - auc_5: 0.7377 - val_loss: 11.0711 - val_auc_5: 0.7324\n"
     ]
    },
    {
     "name": "stderr",
     "output_type": "stream",
     "text": [
      "\u001b[32m[I 2021-01-05 17:45:55,364]\u001b[0m Trial 5 finished with value: 0.7340170200988289 and parameters: {'step': 5, 'no._units': 501, 'number': 3, 'best_weight': {0: 1.0, 1: 18.0}}. Best is trial 5 with value: 0.7340170200988289.\u001b[0m\n"
     ]
    },
    {
     "name": "stdout",
     "output_type": "stream",
     "text": [
      "WARNING:tensorflow:sample_weight modes were coerced from\n",
      "  ...\n",
      "    to  \n",
      "  ['...']\n",
      "WARNING:tensorflow:sample_weight modes were coerced from\n",
      "  ...\n",
      "    to  \n",
      "  ['...']\n",
      "Train on 196038 samples, validate on 34595 samples\n",
      "Epoch 1/50\n",
      "196038/196038 [==============================] - 33s 166us/sample - loss: 1.4407 - auc_6: 0.7008 - val_loss: 401.7829 - val_auc_6: 0.7279\n",
      "Epoch 2/50\n",
      "196038/196038 [==============================] - 31s 157us/sample - loss: 1.3636 - auc_6: 0.7302 - val_loss: 8050055.2455 - val_auc_6: 0.6917\n",
      "Epoch 3/50\n",
      "196038/196038 [==============================] - 30s 155us/sample - loss: 1.3518 - auc_6: 0.7354 - val_loss: 1266268.8402 - val_auc_6: 0.7038\n",
      "Epoch 4/50\n",
      "196038/196038 [==============================] - 31s 156us/sample - loss: 1.3475 - auc_6: 0.7378 - val_loss: 3696233.1781 - val_auc_6: 0.7158\n",
      "Epoch 5/50\n",
      "196038/196038 [==============================] - 31s 156us/sample - loss: 1.3361 - auc_6: 0.7436 - val_loss: 679115.4280 - val_auc_6: 0.7127\n"
     ]
    },
    {
     "name": "stderr",
     "output_type": "stream",
     "text": [
      "\u001b[32m[I 2021-01-05 17:48:33,310]\u001b[0m Trial 6 finished with value: 0.7278104678894717 and parameters: {'step': 3, 'no._units': 524, 'number': 5, 'best_weight': {0: 1.0, 1: 17.0}}. Best is trial 5 with value: 0.7340170200988289.\u001b[0m\n"
     ]
    },
    {
     "name": "stdout",
     "output_type": "stream",
     "text": [
      "WARNING:tensorflow:sample_weight modes were coerced from\n",
      "  ...\n",
      "    to  \n",
      "  ['...']\n",
      "WARNING:tensorflow:sample_weight modes were coerced from\n",
      "  ...\n",
      "    to  \n",
      "  ['...']\n",
      "Train on 196038 samples, validate on 34595 samples\n",
      "Epoch 1/50\n",
      "196038/196038 [==============================] - 33s 170us/sample - loss: 1.2079 - auc_7: 0.7047 - val_loss: 1.1946 - val_auc_7: 0.7299\n",
      "Epoch 2/50\n",
      "196038/196038 [==============================] - 31s 159us/sample - loss: 1.1630 - auc_7: 0.7238 - val_loss: 17.6819 - val_auc_7: 0.7307\n",
      "Epoch 3/50\n",
      "196038/196038 [==============================] - 31s 160us/sample - loss: 1.1593 - auc_7: 0.7291 - val_loss: 958454.2115 - val_auc_7: 0.7187\n",
      "Epoch 4/50\n",
      "196038/196038 [==============================] - 31s 160us/sample - loss: 1.1533 - auc_7: 0.7308 - val_loss: 395268517.0673 - val_auc_7: 0.7047\n",
      "Epoch 5/50\n",
      "196038/196038 [==============================] - 31s 160us/sample - loss: 1.1459 - auc_7: 0.7345 - val_loss: 12494945.5436 - val_auc_7: 0.7128\n"
     ]
    },
    {
     "name": "stderr",
     "output_type": "stream",
     "text": [
      "\u001b[32m[I 2021-01-05 17:51:14,897]\u001b[0m Trial 7 finished with value: 0.729925190760869 and parameters: {'step': 6, 'no._units': 465, 'number': 5, 'best_weight': {0: 1.0, 1: 12.0}}. Best is trial 5 with value: 0.7340170200988289.\u001b[0m\n"
     ]
    },
    {
     "name": "stdout",
     "output_type": "stream",
     "text": [
      "WARNING:tensorflow:sample_weight modes were coerced from\n",
      "  ...\n",
      "    to  \n",
      "  ['...']\n",
      "WARNING:tensorflow:sample_weight modes were coerced from\n",
      "  ...\n",
      "    to  \n",
      "  ['...']\n",
      "Train on 196038 samples, validate on 34595 samples\n",
      "Epoch 1/50\n",
      "196038/196038 [==============================] - 35s 178us/sample - loss: 1.2825 - auc_8: 0.7091 - val_loss: 123442.5871 - val_auc_8: 0.7121\n",
      "Epoch 2/50\n",
      "196038/196038 [==============================] - 32s 164us/sample - loss: 1.2424 - auc_8: 0.7297 - val_loss: 5296.3534 - val_auc_8: 0.6939\n",
      "Epoch 3/50\n",
      "196038/196038 [==============================] - 33s 166us/sample - loss: 1.2341 - auc_8: 0.7342 - val_loss: 1457863.5838 - val_auc_8: 0.6999\n",
      "Epoch 4/50\n",
      "196038/196038 [==============================] - 33s 166us/sample - loss: 1.2335 - auc_8: 0.7342 - val_loss: 320967.7157 - val_auc_8: 0.7026\n",
      "Epoch 5/50\n",
      "196038/196038 [==============================] - 32s 164us/sample - loss: 1.2309 - auc_8: 0.7362 - val_loss: 45181361.1400 - val_auc_8: 0.6958\n",
      "Epoch 6/50\n",
      "196038/196038 [==============================] - 33s 166us/sample - loss: 1.2304 - auc_8: 0.7364 - val_loss: 24842860.2100 - val_auc_8: 0.6947\n"
     ]
    },
    {
     "name": "stderr",
     "output_type": "stream",
     "text": [
      "\u001b[32m[I 2021-01-05 17:54:35,396]\u001b[0m Trial 8 finished with value: 0.6939560611033725 and parameters: {'step': 4, 'no._units': 200, 'number': 6, 'best_weight': {0: 1.0, 1: 14.0}}. Best is trial 5 with value: 0.7340170200988289.\u001b[0m\n"
     ]
    },
    {
     "name": "stdout",
     "output_type": "stream",
     "text": [
      "WARNING:tensorflow:sample_weight modes were coerced from\n",
      "  ...\n",
      "    to  \n",
      "  ['...']\n",
      "WARNING:tensorflow:sample_weight modes were coerced from\n",
      "  ...\n",
      "    to  \n",
      "  ['...']\n",
      "Train on 196038 samples, validate on 34595 samples\n",
      "Epoch 1/50\n",
      "196038/196038 [==============================] - 33s 167us/sample - loss: 1.2636 - auc_9: 0.7012 - val_loss: 7.4424 - val_auc_9: 0.6915\n",
      "Epoch 2/50\n",
      "196038/196038 [==============================] - 31s 158us/sample - loss: 1.2134 - auc_9: 0.7213 - val_loss: 45517.5921 - val_auc_9: 0.6979\n",
      "Epoch 3/50\n",
      "196038/196038 [==============================] - 31s 158us/sample - loss: 1.1993 - auc_9: 0.7295 - val_loss: 242.0547 - val_auc_9: 0.7012\n",
      "Epoch 4/50\n",
      "196038/196038 [==============================] - 31s 159us/sample - loss: 1.1916 - auc_9: 0.7337 - val_loss: 1939.4738 - val_auc_9: 0.6746\n",
      "Epoch 5/50\n",
      "196038/196038 [==============================] - 31s 160us/sample - loss: 1.1837 - auc_9: 0.7389 - val_loss: 2737.8139 - val_auc_9: 0.6907\n"
     ]
    },
    {
     "name": "stderr",
     "output_type": "stream",
     "text": [
      "\u001b[32m[I 2021-01-05 17:57:15,990]\u001b[0m Trial 9 finished with value: 0.6917713338301866 and parameters: {'step': 5, 'no._units': 437, 'number': 5, 'best_weight': {0: 1.0, 1: 13.0}}. Best is trial 5 with value: 0.7340170200988289.\u001b[0m\n"
     ]
    },
    {
     "name": "stdout",
     "output_type": "stream",
     "text": [
      "WARNING:tensorflow:sample_weight modes were coerced from\n",
      "  ...\n",
      "    to  \n",
      "  ['...']\n",
      "WARNING:tensorflow:sample_weight modes were coerced from\n",
      "  ...\n",
      "    to  \n",
      "  ['...']\n",
      "Train on 196038 samples, validate on 34595 samples\n",
      "Epoch 1/50\n",
      "196038/196038 [==============================] - 22s 114us/sample - loss: 1.3746 - auc_10: 0.7030 - val_loss: 1.4951 - val_auc_10: 0.7053\n",
      "Epoch 2/50\n",
      "196038/196038 [==============================] - 21s 107us/sample - loss: 1.3198 - auc_10: 0.7221 - val_loss: 1.5008 - val_auc_10: 0.7144\n",
      "Epoch 3/50\n",
      "196038/196038 [==============================] - 21s 108us/sample - loss: 1.3058 - auc_10: 0.7273 - val_loss: 1.6158 - val_auc_10: 0.7275\n",
      "Epoch 4/50\n",
      "196038/196038 [==============================] - 21s 108us/sample - loss: 1.2978 - auc_10: 0.7312 - val_loss: 1.3630 - val_auc_10: 0.7284\n",
      "Epoch 5/50\n",
      "196038/196038 [==============================] - 21s 108us/sample - loss: 1.2850 - auc_10: 0.7353 - val_loss: 1.3168 - val_auc_10: 0.7351\n",
      "Epoch 6/50\n",
      "196038/196038 [==============================] - 21s 108us/sample - loss: 1.2810 - auc_10: 0.7371 - val_loss: 1.3047 - val_auc_10: 0.7382\n",
      "Epoch 7/50\n",
      "196038/196038 [==============================] - 21s 108us/sample - loss: 1.2730 - auc_10: 0.7388 - val_loss: 1.3085 - val_auc_10: 0.7381\n",
      "Epoch 8/50\n",
      "196038/196038 [==============================] - 21s 109us/sample - loss: 1.2694 - auc_10: 0.7405 - val_loss: 1.3315 - val_auc_10: 0.7375\n",
      "Epoch 9/50\n",
      "196038/196038 [==============================] - 21s 109us/sample - loss: 1.2643 - auc_10: 0.7422 - val_loss: 1.3636 - val_auc_10: 0.7396\n",
      "Epoch 10/50\n",
      "196038/196038 [==============================] - 22s 110us/sample - loss: 1.2655 - auc_10: 0.7418 - val_loss: 1.3096 - val_auc_10: 0.7401\n"
     ]
    },
    {
     "name": "stderr",
     "output_type": "stream",
     "text": [
      "\u001b[32m[I 2021-01-05 18:00:51,744]\u001b[0m Trial 10 finished with value: 0.7381681358922116 and parameters: {'step': 5, 'no._units': 570, 'number': 2, 'best_weight': {0: 1.0, 1: 15.0}}. Best is trial 10 with value: 0.7381681358922116.\u001b[0m\n"
     ]
    },
    {
     "name": "stdout",
     "output_type": "stream",
     "text": [
      "WARNING:tensorflow:sample_weight modes were coerced from\n",
      "  ...\n",
      "    to  \n",
      "  ['...']\n",
      "WARNING:tensorflow:sample_weight modes were coerced from\n",
      "  ...\n",
      "    to  \n",
      "  ['...']\n",
      "Train on 196038 samples, validate on 34595 samples\n",
      "Epoch 1/50\n",
      "196038/196038 [==============================] - 23s 116us/sample - loss: 1.3647 - auc_11: 0.7041 - val_loss: 3.9847 - val_auc_11: 0.7249\n",
      "Epoch 2/50\n",
      "196038/196038 [==============================] - 21s 109us/sample - loss: 1.3139 - auc_11: 0.7240 - val_loss: 2.5157 - val_auc_11: 0.7256\n",
      "Epoch 3/50\n",
      "196038/196038 [==============================] - 21s 109us/sample - loss: 1.2948 - auc_11: 0.7301 - val_loss: 1.8233 - val_auc_11: 0.7270\n",
      "Epoch 4/50\n",
      "196038/196038 [==============================] - 21s 109us/sample - loss: 1.2907 - auc_11: 0.7338 - val_loss: 1.6044 - val_auc_11: 0.7353\n",
      "Epoch 5/50\n",
      "196038/196038 [==============================] - 21s 110us/sample - loss: 1.2837 - auc_11: 0.7344 - val_loss: 1.4257 - val_auc_11: 0.7329\n",
      "Epoch 6/50\n",
      "196038/196038 [==============================] - 22s 110us/sample - loss: 1.2768 - auc_11: 0.7372 - val_loss: 1.5083 - val_auc_11: 0.7346\n",
      "Epoch 7/50\n",
      "196038/196038 [==============================] - 22s 110us/sample - loss: 1.2743 - auc_11: 0.7374 - val_loss: 1.3353 - val_auc_11: 0.7330\n",
      "Epoch 8/50\n",
      "196038/196038 [==============================] - 21s 109us/sample - loss: 1.2712 - auc_11: 0.7384 - val_loss: 1.3113 - val_auc_11: 0.7373\n",
      "Epoch 9/50\n",
      "196038/196038 [==============================] - 21s 110us/sample - loss: 1.2712 - auc_11: 0.7387 - val_loss: 1.2913 - val_auc_11: 0.7385\n",
      "Epoch 10/50\n",
      "196038/196038 [==============================] - 22s 110us/sample - loss: 1.2678 - auc_11: 0.7396 - val_loss: 1.3078 - val_auc_11: 0.7371\n",
      "Epoch 11/50\n",
      "196038/196038 [==============================] - 21s 110us/sample - loss: 1.2647 - auc_11: 0.7418 - val_loss: 1.3783 - val_auc_11: 0.7362\n",
      "Epoch 12/50\n",
      "196038/196038 [==============================] - 21s 110us/sample - loss: 1.2647 - auc_11: 0.7413 - val_loss: 1.3064 - val_auc_11: 0.7370\n",
      "Epoch 13/50\n",
      "196038/196038 [==============================] - 22s 110us/sample - loss: 1.2623 - auc_11: 0.7428 - val_loss: 1.3342 - val_auc_11: 0.7363\n"
     ]
    },
    {
     "name": "stderr",
     "output_type": "stream",
     "text": [
      "\u001b[32m[I 2021-01-05 18:05:34,481]\u001b[0m Trial 11 finished with value: 0.7384560962631902 and parameters: {'step': 5, 'no._units': 594, 'number': 2, 'best_weight': {0: 1.0, 1: 15.0}}. Best is trial 11 with value: 0.7384560962631902.\u001b[0m\n"
     ]
    },
    {
     "name": "stdout",
     "output_type": "stream",
     "text": [
      "WARNING:tensorflow:sample_weight modes were coerced from\n",
      "  ...\n",
      "    to  \n",
      "  ['...']\n",
      "WARNING:tensorflow:sample_weight modes were coerced from\n",
      "  ...\n",
      "    to  \n",
      "  ['...']\n",
      "Train on 196038 samples, validate on 34595 samples\n",
      "Epoch 1/50\n",
      "196038/196038 [==============================] - 23s 115us/sample - loss: 1.3773 - auc_12: 0.7045 - val_loss: 2.0562 - val_auc_12: 0.7143\n",
      "Epoch 2/50\n",
      "196038/196038 [==============================] - 21s 109us/sample - loss: 1.3180 - auc_12: 0.7229 - val_loss: 1.3949 - val_auc_12: 0.7311\n",
      "Epoch 3/50\n",
      "196038/196038 [==============================] - 21s 109us/sample - loss: 1.3105 - auc_12: 0.7241 - val_loss: 1.7087 - val_auc_12: 0.7306\n",
      "Epoch 4/50\n",
      "196038/196038 [==============================] - 21s 109us/sample - loss: 1.2942 - auc_12: 0.7301 - val_loss: 1.3607 - val_auc_12: 0.7357\n",
      "Epoch 5/50\n",
      "196038/196038 [==============================] - 21s 109us/sample - loss: 1.2814 - auc_12: 0.7335 - val_loss: 1.3501 - val_auc_12: 0.7350\n",
      "Epoch 6/50\n",
      "196038/196038 [==============================] - 21s 108us/sample - loss: 1.2775 - auc_12: 0.7349 - val_loss: 1.3026 - val_auc_12: 0.7391\n",
      "Epoch 7/50\n",
      "196038/196038 [==============================] - 21s 108us/sample - loss: 1.2718 - auc_12: 0.7376 - val_loss: 1.2865 - val_auc_12: 0.7371\n",
      "Epoch 8/50\n",
      "196038/196038 [==============================] - 21s 109us/sample - loss: 1.2694 - auc_12: 0.7384 - val_loss: 1.2818 - val_auc_12: 0.7377\n",
      "Epoch 9/50\n",
      "196038/196038 [==============================] - 21s 109us/sample - loss: 1.2686 - auc_12: 0.7389 - val_loss: 1.2999 - val_auc_12: 0.7355\n",
      "Epoch 10/50\n",
      "196038/196038 [==============================] - 21s 109us/sample - loss: 1.2663 - auc_12: 0.7400 - val_loss: 1.3119 - val_auc_12: 0.7375\n",
      "Epoch 11/50\n",
      "196038/196038 [==============================] - 21s 110us/sample - loss: 1.2660 - auc_12: 0.7400 - val_loss: 1.2970 - val_auc_12: 0.7390\n",
      "Epoch 12/50\n",
      "196038/196038 [==============================] - 21s 109us/sample - loss: 1.2643 - auc_12: 0.7410 - val_loss: 1.3194 - val_auc_12: 0.7374\n"
     ]
    },
    {
     "name": "stderr",
     "output_type": "stream",
     "text": [
      "\u001b[32m[I 2021-01-05 18:09:53,908]\u001b[0m Trial 12 finished with value: 0.7377579943101664 and parameters: {'step': 5, 'no._units': 594, 'number': 2, 'best_weight': {0: 1.0, 1: 15.0}}. Best is trial 11 with value: 0.7384560962631902.\u001b[0m\n"
     ]
    },
    {
     "name": "stdout",
     "output_type": "stream",
     "text": [
      "WARNING:tensorflow:sample_weight modes were coerced from\n",
      "  ...\n",
      "    to  \n",
      "  ['...']\n",
      "WARNING:tensorflow:sample_weight modes were coerced from\n",
      "  ...\n",
      "    to  \n",
      "  ['...']\n",
      "Train on 196038 samples, validate on 34595 samples\n",
      "Epoch 1/50\n",
      "196038/196038 [==============================] - 26s 135us/sample - loss: 1.3547 - auc_13: 0.7057 - val_loss: 20.4111 - val_auc_13: 0.7141\n",
      "Epoch 2/50\n",
      "196038/196038 [==============================] - 25s 127us/sample - loss: 1.2908 - auc_13: 0.7310 - val_loss: 878.7783 - val_auc_13: 0.6759\n",
      "Epoch 3/50\n",
      "196038/196038 [==============================] - 25s 127us/sample - loss: 1.2842 - auc_13: 0.7336 - val_loss: 118.3351 - val_auc_13: 0.7238\n",
      "Epoch 4/50\n",
      "196038/196038 [==============================] - 25s 127us/sample - loss: 1.2770 - auc_13: 0.7372 - val_loss: 174.6657 - val_auc_13: 0.7254\n",
      "Epoch 5/50\n",
      "196038/196038 [==============================] - 25s 127us/sample - loss: 1.2705 - auc_13: 0.7391 - val_loss: 67.4558 - val_auc_13: 0.7235\n"
     ]
    },
    {
     "name": "stderr",
     "output_type": "stream",
     "text": [
      "\u001b[32m[I 2021-01-05 18:12:02,190]\u001b[0m Trial 13 finished with value: 0.7141866971236477 and parameters: {'step': 4, 'no._units': 590, 'number': 3, 'best_weight': {0: 1.0, 1: 15.0}}. Best is trial 11 with value: 0.7384560962631902.\u001b[0m\n"
     ]
    },
    {
     "name": "stdout",
     "output_type": "stream",
     "text": [
      "WARNING:tensorflow:sample_weight modes were coerced from\n",
      "  ...\n",
      "    to  \n",
      "  ['...']\n",
      "WARNING:tensorflow:sample_weight modes were coerced from\n",
      "  ...\n",
      "    to  \n",
      "  ['...']\n",
      "Train on 196038 samples, validate on 34595 samples\n",
      "Epoch 1/50\n",
      "196038/196038 [==============================] - 21s 108us/sample - loss: 1.1653 - auc_14: 0.7124 - val_loss: 74.6275 - val_auc_14: 0.7275\n",
      "Epoch 2/50\n",
      "196038/196038 [==============================] - 20s 102us/sample - loss: 1.1397 - auc_14: 0.7264 - val_loss: 1.3704 - val_auc_14: 0.7228\n",
      "Epoch 3/50\n",
      "196038/196038 [==============================] - 20s 102us/sample - loss: 1.1285 - auc_14: 0.7319 - val_loss: 1.7589 - val_auc_14: 0.7393\n",
      "Epoch 4/50\n",
      "196038/196038 [==============================] - 20s 102us/sample - loss: 1.1223 - auc_14: 0.7337 - val_loss: 1.1644 - val_auc_14: 0.7355\n",
      "Epoch 5/50\n",
      "196038/196038 [==============================] - 20s 101us/sample - loss: 1.1168 - auc_14: 0.7360 - val_loss: 1.1476 - val_auc_14: 0.7361\n",
      "Epoch 6/50\n",
      "196038/196038 [==============================] - 20s 103us/sample - loss: 1.1151 - auc_14: 0.7363 - val_loss: 1.1459 - val_auc_14: 0.7363\n",
      "Epoch 7/50\n",
      "196038/196038 [==============================] - 20s 102us/sample - loss: 1.1096 - auc_14: 0.7389 - val_loss: 1.1382 - val_auc_14: 0.7368\n",
      "Epoch 8/50\n",
      "196038/196038 [==============================] - 20s 103us/sample - loss: 1.1087 - auc_14: 0.7394 - val_loss: 1.1352 - val_auc_14: 0.7393\n",
      "Epoch 9/50\n",
      "196038/196038 [==============================] - 20s 103us/sample - loss: 1.1045 - auc_14: 0.7418 - val_loss: 1.1490 - val_auc_14: 0.7382\n",
      "Epoch 10/50\n",
      "196038/196038 [==============================] - 20s 103us/sample - loss: 1.1062 - auc_14: 0.7403 - val_loss: 1.1327 - val_auc_14: 0.7397\n",
      "Epoch 11/50\n",
      "196038/196038 [==============================] - 20s 102us/sample - loss: 1.1029 - auc_14: 0.7424 - val_loss: 1.1393 - val_auc_14: 0.7388\n",
      "Epoch 12/50\n",
      "196038/196038 [==============================] - 20s 102us/sample - loss: 1.1044 - auc_14: 0.7421 - val_loss: 1.1244 - val_auc_14: 0.7392\n",
      "Epoch 13/50\n",
      "196038/196038 [==============================] - 20s 103us/sample - loss: 1.1033 - auc_14: 0.7422 - val_loss: 1.1525 - val_auc_14: 0.7391\n",
      "Epoch 14/50\n",
      "196038/196038 [==============================] - 20s 103us/sample - loss: 1.1038 - auc_14: 0.7421 - val_loss: 1.1320 - val_auc_14: 0.7388\n",
      "Epoch 15/50\n",
      "196038/196038 [==============================] - 20s 104us/sample - loss: 1.1019 - auc_14: 0.7432 - val_loss: 1.1566 - val_auc_14: 0.7393\n",
      "Epoch 16/50\n",
      "196038/196038 [==============================] - 20s 104us/sample - loss: 1.1023 - auc_14: 0.7433 - val_loss: 1.1395 - val_auc_14: 0.7383\n"
     ]
    },
    {
     "name": "stderr",
     "output_type": "stream",
     "text": [
      "\u001b[32m[I 2021-01-05 18:17:27,212]\u001b[0m Trial 14 finished with value: 0.7391890090252088 and parameters: {'step': 5, 'no._units': 368, 'number': 2, 'best_weight': {0: 1.0, 1: 11.38697}}. Best is trial 14 with value: 0.7391890090252088.\u001b[0m\n"
     ]
    },
    {
     "name": "stdout",
     "output_type": "stream",
     "text": [
      "WARNING:tensorflow:sample_weight modes were coerced from\n",
      "  ...\n",
      "    to  \n",
      "  ['...']\n",
      "WARNING:tensorflow:sample_weight modes were coerced from\n",
      "  ...\n",
      "    to  \n",
      "  ['...']\n",
      "Train on 196038 samples, validate on 34595 samples\n",
      "Epoch 1/50\n",
      "196038/196038 [==============================] - 25s 129us/sample - loss: 1.1620 - auc_15: 0.7119 - val_loss: 374.4576 - val_auc_15: 0.6489\n",
      "Epoch 2/50\n",
      "196038/196038 [==============================] - 24s 124us/sample - loss: 1.1202 - auc_15: 0.7336 - val_loss: 648.7883 - val_auc_15: 0.7262\n",
      "Epoch 3/50\n",
      "196038/196038 [==============================] - 24s 123us/sample - loss: 1.1173 - auc_15: 0.7343 - val_loss: 91.0879 - val_auc_15: 0.7239\n",
      "Epoch 4/50\n",
      "196038/196038 [==============================] - 24s 123us/sample - loss: 1.1125 - auc_15: 0.7375 - val_loss: 1570.8927 - val_auc_15: 0.7367\n",
      "Epoch 5/50\n",
      "196038/196038 [==============================] - 24s 123us/sample - loss: 1.1103 - auc_15: 0.7384 - val_loss: 2399.4290 - val_auc_15: 0.7253\n",
      "Epoch 6/50\n",
      "196038/196038 [==============================] - 24s 122us/sample - loss: 1.1093 - auc_15: 0.7384 - val_loss: 621.5119 - val_auc_15: 0.7244\n",
      "Epoch 7/50\n",
      "196038/196038 [==============================] - 24s 122us/sample - loss: 1.1090 - auc_15: 0.7390 - val_loss: 468.6241 - val_auc_15: 0.7340\n"
     ]
    },
    {
     "name": "stderr",
     "output_type": "stream",
     "text": [
      "\u001b[32m[I 2021-01-05 18:20:19,818]\u001b[0m Trial 15 finished with value: 0.7238975618315737 and parameters: {'step': 4, 'no._units': 368, 'number': 3, 'best_weight': {0: 1.0, 1: 11.38697}}. Best is trial 14 with value: 0.7391890090252088.\u001b[0m\n"
     ]
    },
    {
     "name": "stdout",
     "output_type": "stream",
     "text": [
      "WARNING:tensorflow:sample_weight modes were coerced from\n",
      "  ...\n",
      "    to  \n",
      "  ['...']\n",
      "WARNING:tensorflow:sample_weight modes were coerced from\n",
      "  ...\n",
      "    to  \n",
      "  ['...']\n",
      "Train on 196038 samples, validate on 34595 samples\n",
      "Epoch 1/50\n",
      "196038/196038 [==============================] - 29s 149us/sample - loss: 1.1685 - auc_16: 0.7088 - val_loss: 1.1462 - val_auc_16: 0.7254\n",
      "Epoch 2/50\n",
      "196038/196038 [==============================] - 27s 140us/sample - loss: 1.1278 - auc_16: 0.7275 - val_loss: 769.7373 - val_auc_16: 0.7287\n",
      "Epoch 3/50\n",
      "196038/196038 [==============================] - 27s 139us/sample - loss: 1.1173 - auc_16: 0.7346 - val_loss: 214.8357 - val_auc_16: 0.7415\n",
      "Epoch 4/50\n",
      "196038/196038 [==============================] - 27s 138us/sample - loss: 1.1111 - auc_16: 0.7381 - val_loss: 135.4285 - val_auc_16: 0.7319\n",
      "Epoch 5/50\n",
      "196038/196038 [==============================] - 27s 139us/sample - loss: 1.1108 - auc_16: 0.7380 - val_loss: 4791.3363 - val_auc_16: 0.7261\n"
     ]
    },
    {
     "name": "stderr",
     "output_type": "stream",
     "text": [
      "\u001b[32m[I 2021-01-05 18:22:40,661]\u001b[0m Trial 16 finished with value: 0.7252768106670044 and parameters: {'step': 5, 'no._units': 380, 'number': 4, 'best_weight': {0: 1.0, 1: 11.38697}}. Best is trial 14 with value: 0.7391890090252088.\u001b[0m\n"
     ]
    },
    {
     "name": "stdout",
     "output_type": "stream",
     "text": [
      "WARNING:tensorflow:sample_weight modes were coerced from\n",
      "  ...\n",
      "    to  \n",
      "  ['...']\n",
      "WARNING:tensorflow:sample_weight modes were coerced from\n",
      "  ...\n",
      "    to  \n",
      "  ['...']\n",
      "Train on 196038 samples, validate on 34595 samples\n",
      "Epoch 1/50\n",
      "196038/196038 [==============================] - 22s 111us/sample - loss: 1.1630 - auc_17: 0.7133 - val_loss: 1.2043 - val_auc_17: 0.7330\n",
      "Epoch 2/50\n",
      "196038/196038 [==============================] - 21s 105us/sample - loss: 1.1383 - auc_17: 0.7270 - val_loss: 1.5973 - val_auc_17: 0.7261\n",
      "Epoch 3/50\n",
      "196038/196038 [==============================] - 21s 105us/sample - loss: 1.1329 - auc_17: 0.7292 - val_loss: 1.2362 - val_auc_17: 0.7314\n",
      "Epoch 4/50\n",
      "196038/196038 [==============================] - 21s 105us/sample - loss: 1.1271 - auc_17: 0.7311 - val_loss: 1.1356 - val_auc_17: 0.7364\n",
      "Epoch 5/50\n",
      "196038/196038 [==============================] - 21s 105us/sample - loss: 1.1169 - auc_17: 0.7358 - val_loss: 1.1312 - val_auc_17: 0.7383\n",
      "Epoch 6/50\n",
      "196038/196038 [==============================] - 21s 105us/sample - loss: 1.1112 - auc_17: 0.7378 - val_loss: 1.1295 - val_auc_17: 0.7378\n",
      "Epoch 7/50\n",
      "196038/196038 [==============================] - 21s 105us/sample - loss: 1.1117 - auc_17: 0.7377 - val_loss: 1.1305 - val_auc_17: 0.7359\n",
      "Epoch 8/50\n",
      "196038/196038 [==============================] - 21s 105us/sample - loss: 1.1091 - auc_17: 0.7388 - val_loss: 1.1215 - val_auc_17: 0.7384\n",
      "Epoch 9/50\n",
      "196038/196038 [==============================] - 21s 105us/sample - loss: 1.1086 - auc_17: 0.7393 - val_loss: 1.1560 - val_auc_17: 0.7346\n",
      "Epoch 10/50\n",
      "196038/196038 [==============================] - 21s 105us/sample - loss: 1.1094 - auc_17: 0.7383 - val_loss: 1.1267 - val_auc_17: 0.7350\n",
      "Epoch 11/50\n",
      "196038/196038 [==============================] - 21s 105us/sample - loss: 1.1077 - auc_17: 0.7396 - val_loss: 1.2067 - val_auc_17: 0.7356\n",
      "Epoch 12/50\n",
      "196038/196038 [==============================] - 21s 108us/sample - loss: 1.1088 - auc_17: 0.7387 - val_loss: 1.1262 - val_auc_17: 0.7349\n"
     ]
    },
    {
     "name": "stderr",
     "output_type": "stream",
     "text": [
      "\u001b[32m[I 2021-01-05 18:26:51,699]\u001b[0m Trial 17 finished with value: 0.738374889806114 and parameters: {'step': 6, 'no._units': 292, 'number': 2, 'best_weight': {0: 1.0, 1: 11.38697}}. Best is trial 14 with value: 0.7391890090252088.\u001b[0m\n"
     ]
    },
    {
     "name": "stdout",
     "output_type": "stream",
     "text": [
      "WARNING:tensorflow:sample_weight modes were coerced from\n",
      "  ...\n",
      "    to  \n",
      "  ['...']\n",
      "WARNING:tensorflow:sample_weight modes were coerced from\n",
      "  ...\n",
      "    to  \n",
      "  ['...']\n",
      "Train on 196038 samples, validate on 34595 samples\n",
      "Epoch 1/50\n",
      "196038/196038 [==============================] - 29s 149us/sample - loss: 1.2694 - auc_18: 0.7148 - val_loss: 1.9450 - val_auc_18: 0.7332\n",
      "Epoch 2/50\n",
      "196038/196038 [==============================] - 27s 137us/sample - loss: 1.2372 - auc_18: 0.7328 - val_loss: 25.2604 - val_auc_18: 0.7359\n",
      "Epoch 3/50\n",
      "196038/196038 [==============================] - 27s 138us/sample - loss: 1.2270 - auc_18: 0.7385 - val_loss: 385.6509 - val_auc_18: 0.6997\n",
      "Epoch 4/50\n",
      "196038/196038 [==============================] - 27s 137us/sample - loss: 1.2234 - auc_18: 0.7399 - val_loss: 439.0656 - val_auc_18: 0.7108\n",
      "Epoch 5/50\n",
      "196038/196038 [==============================] - 27s 137us/sample - loss: 1.2213 - auc_18: 0.7412 - val_loss: 573.3114 - val_auc_18: 0.7057\n"
     ]
    },
    {
     "name": "stderr",
     "output_type": "stream",
     "text": [
      "\u001b[32m[I 2021-01-05 18:29:11,277]\u001b[0m Trial 18 finished with value: 0.733278292400573 and parameters: {'step': 3, 'no._units': 129, 'number': 4, 'best_weight': {0: 1.0, 1: 14.0}}. Best is trial 14 with value: 0.7391890090252088.\u001b[0m\n"
     ]
    },
    {
     "name": "stdout",
     "output_type": "stream",
     "text": [
      "WARNING:tensorflow:sample_weight modes were coerced from\n",
      "  ...\n",
      "    to  \n",
      "  ['...']\n",
      "WARNING:tensorflow:sample_weight modes were coerced from\n",
      "  ...\n",
      "    to  \n",
      "  ['...']\n",
      "Train on 196038 samples, validate on 34595 samples\n",
      "Epoch 1/50\n",
      "196038/196038 [==============================] - 22s 112us/sample - loss: 1.3500 - auc_19: 0.7183 - val_loss: 1.3768 - val_auc_19: 0.7257\n",
      "Epoch 2/50\n",
      "196038/196038 [==============================] - 21s 105us/sample - loss: 1.3249 - auc_19: 0.7306 - val_loss: 1.3254 - val_auc_19: 0.7375\n",
      "Epoch 3/50\n",
      "196038/196038 [==============================] - 21s 106us/sample - loss: 1.3173 - auc_19: 0.7338 - val_loss: 1.3969 - val_auc_19: 0.7346\n",
      "Epoch 4/50\n",
      "196038/196038 [==============================] - 21s 105us/sample - loss: 1.3126 - auc_19: 0.7367 - val_loss: 1.3924 - val_auc_19: 0.7328\n",
      "Epoch 5/50\n",
      "196038/196038 [==============================] - 21s 106us/sample - loss: 1.3124 - auc_19: 0.7359 - val_loss: 1.3564 - val_auc_19: 0.7365\n",
      "Epoch 6/50\n",
      "196038/196038 [==============================] - 21s 106us/sample - loss: 1.3083 - auc_19: 0.7380 - val_loss: 1.3580 - val_auc_19: 0.7397\n"
     ]
    },
    {
     "name": "stderr",
     "output_type": "stream",
     "text": [
      "\u001b[32m[I 2021-01-05 18:31:19,092]\u001b[0m Trial 19 finished with value: 0.7374074262713933 and parameters: {'step': 5, 'no._units': 101, 'number': 2, 'best_weight': {0: 1.0, 1: 16.0}}. Best is trial 14 with value: 0.7391890090252088.\u001b[0m\n"
     ]
    },
    {
     "name": "stdout",
     "output_type": "stream",
     "text": [
      "WARNING:tensorflow:sample_weight modes were coerced from\n",
      "  ...\n",
      "    to  \n",
      "  ['...']\n",
      "WARNING:tensorflow:sample_weight modes were coerced from\n",
      "  ...\n",
      "    to  \n",
      "  ['...']\n",
      "Train on 196038 samples, validate on 34595 samples\n",
      "Epoch 1/50\n",
      "196038/196038 [==============================] - 24s 125us/sample - loss: 1.2495 - auc_20: 0.7105 - val_loss: 1.3614 - val_auc_20: 0.7325\n",
      "Epoch 2/50\n",
      "196038/196038 [==============================] - 23s 118us/sample - loss: 1.2056 - auc_20: 0.7289 - val_loss: 1083.8532 - val_auc_20: 0.7316\n",
      "Epoch 3/50\n",
      "196038/196038 [==============================] - 23s 118us/sample - loss: 1.1948 - auc_20: 0.7342 - val_loss: 735.9749 - val_auc_20: 0.7197\n",
      "Epoch 4/50\n",
      "196038/196038 [==============================] - 23s 119us/sample - loss: 1.1890 - auc_20: 0.7372 - val_loss: 500.8281 - val_auc_20: 0.7257\n",
      "Epoch 5/50\n",
      "196038/196038 [==============================] - 23s 118us/sample - loss: 1.1856 - auc_20: 0.7396 - val_loss: 58.4204 - val_auc_20: 0.7375\n"
     ]
    },
    {
     "name": "stderr",
     "output_type": "stream",
     "text": [
      "\u001b[32m[I 2021-01-05 18:33:18,864]\u001b[0m Trial 20 finished with value: 0.7325305580246987 and parameters: {'step': 4, 'no._units': 386, 'number': 3, 'best_weight': {0: 1.0, 1: 13.0}}. Best is trial 14 with value: 0.7391890090252088.\u001b[0m\n"
     ]
    },
    {
     "name": "stdout",
     "output_type": "stream",
     "text": [
      "WARNING:tensorflow:sample_weight modes were coerced from\n",
      "  ...\n",
      "    to  \n",
      "  ['...']\n",
      "WARNING:tensorflow:sample_weight modes were coerced from\n",
      "  ...\n",
      "    to  \n",
      "  ['...']\n",
      "Train on 196038 samples, validate on 34595 samples\n",
      "Epoch 1/50\n",
      "196038/196038 [==============================] - 22s 110us/sample - loss: 1.1632 - auc_21: 0.7140 - val_loss: 1.1417 - val_auc_21: 0.7338\n",
      "Epoch 2/50\n",
      "196038/196038 [==============================] - 20s 104us/sample - loss: 1.1370 - auc_21: 0.7261 - val_loss: 1.3954 - val_auc_21: 0.7143\n",
      "Epoch 3/50\n",
      "196038/196038 [==============================] - 20s 104us/sample - loss: 1.1301 - auc_21: 0.7305 - val_loss: 2.0832 - val_auc_21: 0.7256\n",
      "Epoch 4/50\n",
      "196038/196038 [==============================] - 20s 105us/sample - loss: 1.1226 - auc_21: 0.7327 - val_loss: 1.1528 - val_auc_21: 0.7301\n",
      "Epoch 5/50\n",
      "196038/196038 [==============================] - 21s 105us/sample - loss: 1.1152 - auc_21: 0.7362 - val_loss: 1.1458 - val_auc_21: 0.7347\n"
     ]
    },
    {
     "name": "stderr",
     "output_type": "stream",
     "text": [
      "\u001b[32m[I 2021-01-05 18:35:04,938]\u001b[0m Trial 21 finished with value: 0.7338866146652624 and parameters: {'step': 6, 'no._units': 296, 'number': 2, 'best_weight': {0: 1.0, 1: 11.38697}}. Best is trial 14 with value: 0.7391890090252088.\u001b[0m\n"
     ]
    },
    {
     "name": "stdout",
     "output_type": "stream",
     "text": [
      "WARNING:tensorflow:sample_weight modes were coerced from\n",
      "  ...\n",
      "    to  \n",
      "  ['...']\n",
      "WARNING:tensorflow:sample_weight modes were coerced from\n",
      "  ...\n",
      "    to  \n",
      "  ['...']\n",
      "Train on 196038 samples, validate on 34595 samples\n",
      "Epoch 1/50\n",
      "196038/196038 [==============================] - 22s 112us/sample - loss: 1.1592 - auc_22: 0.7136 - val_loss: 1.3189 - val_auc_22: 0.7216\n",
      "Epoch 2/50\n",
      "196038/196038 [==============================] - 21s 106us/sample - loss: 1.1366 - auc_22: 0.7254 - val_loss: 1.3847 - val_auc_22: 0.7342\n",
      "Epoch 3/50\n",
      "196038/196038 [==============================] - 21s 105us/sample - loss: 1.1227 - auc_22: 0.7331 - val_loss: 1.3405 - val_auc_22: 0.7333\n",
      "Epoch 4/50\n",
      "196038/196038 [==============================] - 21s 105us/sample - loss: 1.1205 - auc_22: 0.7325 - val_loss: 1.1938 - val_auc_22: 0.7301\n",
      "Epoch 5/50\n",
      "196038/196038 [==============================] - 21s 106us/sample - loss: 1.1163 - auc_22: 0.7349 - val_loss: 1.1180 - val_auc_22: 0.7381\n",
      "Epoch 6/50\n",
      "196038/196038 [==============================] - 21s 106us/sample - loss: 1.1103 - auc_22: 0.7382 - val_loss: 1.5981 - val_auc_22: 0.7368\n",
      "Epoch 7/50\n",
      "196038/196038 [==============================] - 21s 106us/sample - loss: 1.1089 - auc_22: 0.7385 - val_loss: 1.1642 - val_auc_22: 0.7374\n",
      "Epoch 8/50\n",
      "196038/196038 [==============================] - 21s 106us/sample - loss: 1.1059 - auc_22: 0.7407 - val_loss: 2.3206 - val_auc_22: 0.7342\n",
      "Epoch 9/50\n",
      "196038/196038 [==============================] - 21s 107us/sample - loss: 1.1059 - auc_22: 0.7401 - val_loss: 1.6425 - val_auc_22: 0.7341\n"
     ]
    },
    {
     "name": "stderr",
     "output_type": "stream",
     "text": [
      "\u001b[32m[I 2021-01-05 18:38:15,364]\u001b[0m Trial 22 finished with value: 0.7381649497800039 and parameters: {'step': 6, 'no._units': 263, 'number': 2, 'best_weight': {0: 1.0, 1: 11.38697}}. Best is trial 14 with value: 0.7391890090252088.\u001b[0m\n"
     ]
    },
    {
     "name": "stdout",
     "output_type": "stream",
     "text": [
      "WARNING:tensorflow:sample_weight modes were coerced from\n",
      "  ...\n",
      "    to  \n",
      "  ['...']\n",
      "WARNING:tensorflow:sample_weight modes were coerced from\n",
      "  ...\n",
      "    to  \n",
      "  ['...']\n",
      "Train on 196038 samples, validate on 34595 samples\n",
      "Epoch 1/50\n",
      "196038/196038 [==============================] - 22s 110us/sample - loss: 1.1618 - auc_23: 0.7130 - val_loss: 1.2009 - val_auc_23: 0.7309\n",
      "Epoch 2/50\n",
      "196038/196038 [==============================] - 20s 104us/sample - loss: 1.1276 - auc_23: 0.7290 - val_loss: 1.2350 - val_auc_23: 0.7231\n",
      "Epoch 3/50\n",
      "196038/196038 [==============================] - 20s 104us/sample - loss: 1.1204 - auc_23: 0.7337 - val_loss: 1.2416 - val_auc_23: 0.7347\n",
      "Epoch 4/50\n",
      "196038/196038 [==============================] - 20s 104us/sample - loss: 1.1141 - auc_23: 0.7363 - val_loss: 1.1552 - val_auc_23: 0.7367\n",
      "Epoch 5/50\n",
      "196038/196038 [==============================] - 20s 104us/sample - loss: 1.1142 - auc_23: 0.7355 - val_loss: 1.3366 - val_auc_23: 0.7382\n",
      "Epoch 6/50\n",
      "196038/196038 [==============================] - 20s 104us/sample - loss: 1.1133 - auc_23: 0.7358 - val_loss: 1.2043 - val_auc_23: 0.7376\n",
      "Epoch 7/50\n",
      "196038/196038 [==============================] - 20s 104us/sample - loss: 1.1071 - auc_23: 0.7394 - val_loss: 1.1144 - val_auc_23: 0.7385\n",
      "Epoch 8/50\n",
      "196038/196038 [==============================] - 20s 104us/sample - loss: 1.1033 - auc_23: 0.7420 - val_loss: 1.3270 - val_auc_23: 0.7360\n",
      "Epoch 9/50\n",
      "196038/196038 [==============================] - 21s 105us/sample - loss: 1.1054 - auc_23: 0.7404 - val_loss: 1.1622 - val_auc_23: 0.7376\n",
      "Epoch 10/50\n",
      "196038/196038 [==============================] - 20s 104us/sample - loss: 1.1026 - auc_23: 0.7419 - val_loss: 1.3033 - val_auc_23: 0.7380\n",
      "Epoch 11/50\n",
      "196038/196038 [==============================] - 21s 105us/sample - loss: 1.1016 - auc_23: 0.7427 - val_loss: 1.2158 - val_auc_23: 0.7378\n"
     ]
    },
    {
     "name": "stderr",
     "output_type": "stream",
     "text": [
      "\u001b[32m[I 2021-01-05 18:42:03,787]\u001b[0m Trial 23 finished with value: 0.7384951120647982 and parameters: {'step': 5, 'no._units': 327, 'number': 2, 'best_weight': {0: 1.0, 1: 11.38697}}. Best is trial 14 with value: 0.7391890090252088.\u001b[0m\n"
     ]
    },
    {
     "name": "stdout",
     "output_type": "stream",
     "text": [
      "WARNING:tensorflow:sample_weight modes were coerced from\n",
      "  ...\n",
      "    to  \n",
      "  ['...']\n",
      "WARNING:tensorflow:sample_weight modes were coerced from\n",
      "  ...\n",
      "    to  \n",
      "  ['...']\n",
      "Train on 196038 samples, validate on 34595 samples\n",
      "Epoch 1/50\n",
      "196038/196038 [==============================] - 25s 129us/sample - loss: 1.3317 - auc_24: 0.7101 - val_loss: 3088.1863 - val_auc_24: 0.7003\n",
      "Epoch 2/50\n",
      "196038/196038 [==============================] - 24s 122us/sample - loss: 1.2896 - auc_24: 0.7284 - val_loss: 2058.8195 - val_auc_24: 0.7291\n",
      "Epoch 3/50\n",
      "196038/196038 [==============================] - 24s 122us/sample - loss: 1.2832 - auc_24: 0.7308 - val_loss: 18408.2528 - val_auc_24: 0.7196\n",
      "Epoch 4/50\n",
      "196038/196038 [==============================] - 24s 121us/sample - loss: 1.2758 - auc_24: 0.7342 - val_loss: 356.2942 - val_auc_24: 0.7371\n",
      "Epoch 5/50\n",
      "196038/196038 [==============================] - 24s 122us/sample - loss: 1.2741 - auc_24: 0.7352 - val_loss: 1053.5141 - val_auc_24: 0.7304\n",
      "Epoch 6/50\n",
      "196038/196038 [==============================] - 24s 122us/sample - loss: 1.2716 - auc_24: 0.7368 - val_loss: 93.5593 - val_auc_24: 0.7278\n",
      "Epoch 7/50\n",
      "196038/196038 [==============================] - 24s 122us/sample - loss: 1.2690 - auc_24: 0.7379 - val_loss: 905.4894 - val_auc_24: 0.7177\n",
      "Epoch 8/50\n",
      "196038/196038 [==============================] - 24s 125us/sample - loss: 1.2687 - auc_24: 0.7383 - val_loss: 758.5414 - val_auc_24: 0.7241\n",
      "Epoch 9/50\n",
      "196038/196038 [==============================] - 24s 120us/sample - loss: 1.2668 - auc_24: 0.7390 - val_loss: 162.7459 - val_auc_24: 0.7260\n",
      "Epoch 10/50\n",
      "196038/196038 [==============================] - 25s 126us/sample - loss: 1.2659 - auc_24: 0.7397 - val_loss: 569.7775 - val_auc_24: 0.7246\n"
     ]
    },
    {
     "name": "stderr",
     "output_type": "stream",
     "text": [
      "\u001b[32m[I 2021-01-05 18:46:07,788]\u001b[0m Trial 24 finished with value: 0.7277796706811906 and parameters: {'step': 5, 'no._units': 336, 'number': 3, 'best_weight': {0: 1.0, 1: 15.0}}. Best is trial 14 with value: 0.7391890090252088.\u001b[0m\n"
     ]
    },
    {
     "name": "stdout",
     "output_type": "stream",
     "text": [
      "WARNING:tensorflow:sample_weight modes were coerced from\n",
      "  ...\n",
      "    to  \n",
      "  ['...']\n",
      "WARNING:tensorflow:sample_weight modes were coerced from\n",
      "  ...\n",
      "    to  \n",
      "  ['...']\n",
      "Train on 196038 samples, validate on 34595 samples\n",
      "Epoch 1/50\n",
      "196038/196038 [==============================] - 21s 108us/sample - loss: 1.1737 - auc_25: 0.7091 - val_loss: 2.2565 - val_auc_25: 0.7202\n",
      "Epoch 2/50\n",
      "196038/196038 [==============================] - 20s 102us/sample - loss: 1.1443 - auc_25: 0.7247 - val_loss: 1.6254 - val_auc_25: 0.7322\n",
      "Epoch 3/50\n",
      "196038/196038 [==============================] - 20s 102us/sample - loss: 1.1319 - auc_25: 0.7306 - val_loss: 2.0950 - val_auc_25: 0.7330\n",
      "Epoch 4/50\n",
      "196038/196038 [==============================] - 21s 105us/sample - loss: 1.1258 - auc_25: 0.7331 - val_loss: 1.2105 - val_auc_25: 0.7358\n",
      "Epoch 5/50\n",
      "196038/196038 [==============================] - 20s 103us/sample - loss: 1.1181 - auc_25: 0.7358 - val_loss: 1.4149 - val_auc_25: 0.7353\n",
      "Epoch 6/50\n",
      "196038/196038 [==============================] - 20s 103us/sample - loss: 1.1145 - auc_25: 0.7375 - val_loss: 1.1359 - val_auc_25: 0.7330\n",
      "Epoch 7/50\n",
      "196038/196038 [==============================] - 20s 104us/sample - loss: 1.1097 - auc_25: 0.7395 - val_loss: 1.1726 - val_auc_25: 0.7352\n",
      "Epoch 8/50\n",
      "196038/196038 [==============================] - 20s 103us/sample - loss: 1.1093 - auc_25: 0.7399 - val_loss: 1.1308 - val_auc_25: 0.7383\n",
      "Epoch 9/50\n",
      "196038/196038 [==============================] - 20s 104us/sample - loss: 1.1079 - auc_25: 0.7402 - val_loss: 1.3210 - val_auc_25: 0.7377\n",
      "Epoch 10/50\n",
      "196038/196038 [==============================] - 20s 104us/sample - loss: 1.1035 - auc_25: 0.7429 - val_loss: 1.4232 - val_auc_25: 0.7366\n",
      "Epoch 11/50\n",
      "196038/196038 [==============================] - 20s 104us/sample - loss: 1.1054 - auc_25: 0.7410 - val_loss: 1.1490 - val_auc_25: 0.7384\n",
      "Epoch 12/50\n",
      "196038/196038 [==============================] - 20s 104us/sample - loss: 1.1048 - auc_25: 0.7418 - val_loss: 1.1948 - val_auc_25: 0.7383\n"
     ]
    },
    {
     "name": "stderr",
     "output_type": "stream",
     "text": [
      "\u001b[32m[I 2021-01-05 18:50:14,170]\u001b[0m Trial 25 finished with value: 0.7381827098224327 and parameters: {'step': 5, 'no._units': 409, 'number': 2, 'best_weight': {0: 1.0, 1: 11.38697}}. Best is trial 14 with value: 0.7391890090252088.\u001b[0m\n"
     ]
    },
    {
     "name": "stdout",
     "output_type": "stream",
     "text": [
      "WARNING:tensorflow:sample_weight modes were coerced from\n",
      "  ...\n",
      "    to  \n",
      "  ['...']\n",
      "WARNING:tensorflow:sample_weight modes were coerced from\n",
      "  ...\n",
      "    to  \n",
      "  ['...']\n",
      "Train on 196038 samples, validate on 34595 samples\n",
      "Epoch 1/50\n",
      "196038/196038 [==============================] - 27s 136us/sample - loss: 1.1761 - auc_26: 0.7084 - val_loss: 2285.6162 - val_auc_26: 0.7278\n",
      "Epoch 2/50\n",
      "196038/196038 [==============================] - 25s 126us/sample - loss: 1.1358 - auc_26: 0.7272 - val_loss: 1483.2651 - val_auc_26: 0.7244\n",
      "Epoch 3/50\n",
      "196038/196038 [==============================] - 24s 125us/sample - loss: 1.1296 - auc_26: 0.7324 - val_loss: 398721.2205 - val_auc_26: 0.7241\n",
      "Epoch 4/50\n",
      "196038/196038 [==============================] - 25s 126us/sample - loss: 1.1217 - auc_26: 0.7361 - val_loss: 8939.9709 - val_auc_26: 0.7273\n",
      "Epoch 5/50\n",
      "196038/196038 [==============================] - 24s 125us/sample - loss: 1.1211 - auc_26: 0.7377 - val_loss: 16084.5805 - val_auc_26: 0.7301\n",
      "Epoch 6/50\n",
      "196038/196038 [==============================] - 24s 124us/sample - loss: 1.1212 - auc_26: 0.7377 - val_loss: 95272.1411 - val_auc_26: 0.7245\n"
     ]
    },
    {
     "name": "stderr",
     "output_type": "stream",
     "text": [
      "\u001b[32m[I 2021-01-05 18:52:45,898]\u001b[0m Trial 26 finished with value: 0.7243502993695798 and parameters: {'step': 4, 'no._units': 535, 'number': 3, 'best_weight': {0: 1.0, 1: 11.38697}}. Best is trial 14 with value: 0.7391890090252088.\u001b[0m\n"
     ]
    },
    {
     "name": "stdout",
     "output_type": "stream",
     "text": [
      "WARNING:tensorflow:sample_weight modes were coerced from\n",
      "  ...\n",
      "    to  \n",
      "  ['...']\n",
      "WARNING:tensorflow:sample_weight modes were coerced from\n",
      "  ...\n",
      "    to  \n",
      "  ['...']\n",
      "Train on 196038 samples, validate on 34595 samples\n",
      "Epoch 1/50\n",
      "196038/196038 [==============================] - 22s 111us/sample - loss: 1.3392 - auc_27: 0.7103 - val_loss: 1.4834 - val_auc_27: 0.7286\n",
      "Epoch 2/50\n",
      "196038/196038 [==============================] - 20s 105us/sample - loss: 1.3004 - auc_27: 0.7271 - val_loss: 1.3714 - val_auc_27: 0.7297\n",
      "Epoch 3/50\n",
      "196038/196038 [==============================] - 20s 104us/sample - loss: 1.2872 - auc_27: 0.7307 - val_loss: 1.3049 - val_auc_27: 0.7378\n",
      "Epoch 4/50\n",
      "196038/196038 [==============================] - 20s 104us/sample - loss: 1.2751 - auc_27: 0.7370 - val_loss: 2.5939 - val_auc_27: 0.7354\n",
      "Epoch 5/50\n",
      "196038/196038 [==============================] - 20s 104us/sample - loss: 1.2734 - auc_27: 0.7369 - val_loss: 1.3614 - val_auc_27: 0.7366\n",
      "Epoch 6/50\n",
      "196038/196038 [==============================] - 20s 104us/sample - loss: 1.2704 - auc_27: 0.7393 - val_loss: 1.3003 - val_auc_27: 0.7359\n",
      "Epoch 7/50\n",
      "196038/196038 [==============================] - 20s 104us/sample - loss: 1.2672 - auc_27: 0.7399 - val_loss: 1.2914 - val_auc_27: 0.7373\n",
      "Epoch 8/50\n",
      "196038/196038 [==============================] - 20s 104us/sample - loss: 1.2658 - auc_27: 0.7408 - val_loss: 1.3223 - val_auc_27: 0.7342\n",
      "Epoch 9/50\n",
      "196038/196038 [==============================] - 20s 104us/sample - loss: 1.2665 - auc_27: 0.7400 - val_loss: 1.2906 - val_auc_27: 0.7358\n",
      "Epoch 10/50\n",
      "196038/196038 [==============================] - 21s 105us/sample - loss: 1.2635 - auc_27: 0.7415 - val_loss: 1.2944 - val_auc_27: 0.7362\n",
      "Epoch 11/50\n",
      "196038/196038 [==============================] - 21s 106us/sample - loss: 1.2649 - auc_27: 0.7407 - val_loss: 1.3031 - val_auc_27: 0.7362\n",
      "Epoch 12/50\n",
      "196038/196038 [==============================] - 21s 105us/sample - loss: 1.2638 - auc_27: 0.7411 - val_loss: 1.2968 - val_auc_27: 0.7361\n",
      "Epoch 13/50\n",
      "196038/196038 [==============================] - 21s 106us/sample - loss: 1.2646 - auc_27: 0.7405 - val_loss: 1.3023 - val_auc_27: 0.7354\n"
     ]
    },
    {
     "name": "stderr",
     "output_type": "stream",
     "text": [
      "\u001b[32m[I 2021-01-05 18:57:15,734]\u001b[0m Trial 27 finished with value: 0.7358763755138787 and parameters: {'step': 5, 'no._units': 334, 'number': 2, 'best_weight': {0: 1.0, 1: 15.0}}. Best is trial 14 with value: 0.7391890090252088.\u001b[0m\n"
     ]
    },
    {
     "name": "stdout",
     "output_type": "stream",
     "text": [
      "WARNING:tensorflow:sample_weight modes were coerced from\n",
      "  ...\n",
      "    to  \n",
      "  ['...']\n",
      "WARNING:tensorflow:sample_weight modes were coerced from\n",
      "  ...\n",
      "    to  \n",
      "  ['...']\n",
      "Train on 196038 samples, validate on 34595 samples\n",
      "Epoch 1/50\n",
      "196038/196038 [==============================] - 29s 147us/sample - loss: 1.1571 - auc_28: 0.7111 - val_loss: 2.0769 - val_auc_28: 0.5799\n",
      "Epoch 2/50\n",
      "196038/196038 [==============================] - 27s 136us/sample - loss: 1.1197 - auc_28: 0.7327 - val_loss: 111.2422 - val_auc_28: 0.7156\n",
      "Epoch 3/50\n",
      "196038/196038 [==============================] - 27s 136us/sample - loss: 1.1151 - auc_28: 0.7349 - val_loss: 197.8230 - val_auc_28: 0.7372\n",
      "Epoch 4/50\n",
      "196038/196038 [==============================] - 27s 138us/sample - loss: 1.1100 - auc_28: 0.7379 - val_loss: 41806.7948 - val_auc_28: 0.7339\n",
      "Epoch 5/50\n",
      "196038/196038 [==============================] - 28s 142us/sample - loss: 1.1086 - auc_28: 0.7382 - val_loss: 1274.2541 - val_auc_28: 0.7259\n"
     ]
    },
    {
     "name": "stderr",
     "output_type": "stream",
     "text": [
      "\u001b[32m[I 2021-01-05 18:59:36,027]\u001b[0m Trial 28 finished with value: 0.5799969278222644 and parameters: {'step': 5, 'no._units': 239, 'number': 4, 'best_weight': {0: 1.0, 1: 11.38697}}. Best is trial 14 with value: 0.7391890090252088.\u001b[0m\n"
     ]
    },
    {
     "name": "stdout",
     "output_type": "stream",
     "text": [
      "WARNING:tensorflow:sample_weight modes were coerced from\n",
      "  ...\n",
      "    to  \n",
      "  ['...']\n",
      "WARNING:tensorflow:sample_weight modes were coerced from\n",
      "  ...\n",
      "    to  \n",
      "  ['...']\n",
      "Train on 196038 samples, validate on 34595 samples\n",
      "Epoch 1/50\n",
      "196038/196038 [==============================] - 20s 104us/sample - loss: 1.3571 - auc_29: 0.7161 - val_loss: 1.3636 - val_auc_29: 0.7341\n",
      "Epoch 2/50\n",
      "196038/196038 [==============================] - 19s 98us/sample - loss: 1.3280 - auc_29: 0.7321 - val_loss: 1.3447 - val_auc_29: 0.7316\n",
      "Epoch 3/50\n",
      "196038/196038 [==============================] - 19s 99us/sample - loss: 1.3242 - auc_29: 0.7339 - val_loss: 1.3775 - val_auc_29: 0.7330\n",
      "Epoch 4/50\n",
      "196038/196038 [==============================] - 19s 98us/sample - loss: 1.3185 - auc_29: 0.7347 - val_loss: 1.4081 - val_auc_29: 0.7357\n",
      "Epoch 5/50\n",
      "196038/196038 [==============================] - 19s 99us/sample - loss: 1.3156 - auc_29: 0.7360 - val_loss: 1.3310 - val_auc_29: 0.7384\n",
      "Epoch 6/50\n",
      "196038/196038 [==============================] - 19s 99us/sample - loss: 1.3123 - auc_29: 0.7376 - val_loss: 1.8546 - val_auc_29: 0.7388\n",
      "Epoch 7/50\n",
      "196038/196038 [==============================] - 19s 98us/sample - loss: 1.3113 - auc_29: 0.7373 - val_loss: 1.3595 - val_auc_29: 0.7414\n",
      "Epoch 8/50\n",
      "196038/196038 [==============================] - 19s 98us/sample - loss: 1.3073 - auc_29: 0.7396 - val_loss: 1.4078 - val_auc_29: 0.7401\n",
      "Epoch 9/50\n",
      "196038/196038 [==============================] - 19s 99us/sample - loss: 1.3061 - auc_29: 0.7400 - val_loss: 1.5748 - val_auc_29: 0.7384\n"
     ]
    },
    {
     "name": "stderr",
     "output_type": "stream",
     "text": [
      "\u001b[32m[I 2021-01-05 19:02:33,267]\u001b[0m Trial 29 finished with value: 0.7384580608447457 and parameters: {'step': 6, 'no._units': 169, 'number': 2, 'best_weight': {0: 1.0, 1: 16.0}}. Best is trial 14 with value: 0.7391890090252088.\u001b[0m\n"
     ]
    },
    {
     "name": "stdout",
     "output_type": "stream",
     "text": [
      "WARNING:tensorflow:sample_weight modes were coerced from\n",
      "  ...\n",
      "    to  \n",
      "  ['...']\n",
      "WARNING:tensorflow:sample_weight modes were coerced from\n",
      "  ...\n",
      "    to  \n",
      "  ['...']\n",
      "Train on 196038 samples, validate on 34595 samples\n",
      "Epoch 1/50\n",
      "196038/196038 [==============================] - 25s 127us/sample - loss: 1.3586 - auc_30: 0.7136 - val_loss: 1.3357 - val_auc_30: 0.7237\n",
      "Epoch 2/50\n",
      "196038/196038 [==============================] - 23s 117us/sample - loss: 1.3224 - auc_30: 0.7314 - val_loss: 5.4606 - val_auc_30: 0.7312\n",
      "Epoch 3/50\n",
      "196038/196038 [==============================] - 23s 117us/sample - loss: 1.3132 - auc_30: 0.7360 - val_loss: 12.9814 - val_auc_30: 0.7270\n",
      "Epoch 4/50\n",
      "196038/196038 [==============================] - 23s 117us/sample - loss: 1.3103 - auc_30: 0.7368 - val_loss: 50.1488 - val_auc_30: 0.7337\n",
      "Epoch 5/50\n",
      "196038/196038 [==============================] - 23s 117us/sample - loss: 1.3070 - auc_30: 0.7388 - val_loss: 8.3281 - val_auc_30: 0.7194\n"
     ]
    },
    {
     "name": "stderr",
     "output_type": "stream",
     "text": [
      "\u001b[32m[I 2021-01-05 19:04:32,444]\u001b[0m Trial 30 finished with value: 0.7237273299954136 and parameters: {'step': 6, 'no._units': 170, 'number': 3, 'best_weight': {0: 1.0, 1: 16.0}}. Best is trial 14 with value: 0.7391890090252088.\u001b[0m\n"
     ]
    },
    {
     "name": "stdout",
     "output_type": "stream",
     "text": [
      "WARNING:tensorflow:sample_weight modes were coerced from\n",
      "  ...\n",
      "    to  \n",
      "  ['...']\n",
      "WARNING:tensorflow:sample_weight modes were coerced from\n",
      "  ...\n",
      "    to  \n",
      "  ['...']\n",
      "Train on 196038 samples, validate on 34595 samples\n",
      "Epoch 1/50\n",
      "196038/196038 [==============================] - 21s 107us/sample - loss: 1.3584 - auc_31: 0.7151 - val_loss: 1.4062 - val_auc_31: 0.7334\n",
      "Epoch 2/50\n",
      "196038/196038 [==============================] - 20s 101us/sample - loss: 1.3315 - auc_31: 0.7295 - val_loss: 1.4047 - val_auc_31: 0.7324\n",
      "Epoch 3/50\n",
      "196038/196038 [==============================] - 20s 103us/sample - loss: 1.3236 - auc_31: 0.7317 - val_loss: 1.4929 - val_auc_31: 0.7345\n",
      "Epoch 4/50\n",
      "196038/196038 [==============================] - 20s 103us/sample - loss: 1.3152 - auc_31: 0.7358 - val_loss: 1.3675 - val_auc_31: 0.7357\n",
      "Epoch 5/50\n",
      "196038/196038 [==============================] - 20s 103us/sample - loss: 1.3130 - auc_31: 0.7363 - val_loss: 1.4263 - val_auc_31: 0.7354\n",
      "Epoch 6/50\n",
      "196038/196038 [==============================] - 20s 103us/sample - loss: 1.3109 - auc_31: 0.7375 - val_loss: 1.3532 - val_auc_31: 0.7335\n",
      "Epoch 7/50\n",
      "196038/196038 [==============================] - 20s 104us/sample - loss: 1.3089 - auc_31: 0.7379 - val_loss: 1.3785 - val_auc_31: 0.7350\n",
      "Epoch 8/50\n",
      "196038/196038 [==============================] - 20s 104us/sample - loss: 1.3106 - auc_31: 0.7366 - val_loss: 1.3464 - val_auc_31: 0.7341\n",
      "Epoch 9/50\n",
      "196038/196038 [==============================] - 20s 104us/sample - loss: 1.3075 - auc_31: 0.7385 - val_loss: 1.3300 - val_auc_31: 0.7353\n",
      "Epoch 10/50\n",
      "196038/196038 [==============================] - 20s 104us/sample - loss: 1.3052 - auc_31: 0.7398 - val_loss: 1.3389 - val_auc_31: 0.7359\n",
      "Epoch 11/50\n",
      "196038/196038 [==============================] - 20s 103us/sample - loss: 1.3052 - auc_31: 0.7395 - val_loss: 1.3575 - val_auc_31: 0.7348\n",
      "Epoch 12/50\n",
      "196038/196038 [==============================] - 20s 103us/sample - loss: 1.3061 - auc_31: 0.7391 - val_loss: 1.3367 - val_auc_31: 0.7360\n",
      "Epoch 13/50\n",
      "196038/196038 [==============================] - 20s 103us/sample - loss: 1.3059 - auc_31: 0.7392 - val_loss: 1.3342 - val_auc_31: 0.7363\n"
     ]
    },
    {
     "name": "stderr",
     "output_type": "stream",
     "text": [
      "\u001b[32m[I 2021-01-05 19:08:58,783]\u001b[0m Trial 31 finished with value: 0.7353431858280468 and parameters: {'step': 6, 'no._units': 143, 'number': 2, 'best_weight': {0: 1.0, 1: 16.0}}. Best is trial 14 with value: 0.7391890090252088.\u001b[0m\n"
     ]
    },
    {
     "name": "stdout",
     "output_type": "stream",
     "text": [
      "WARNING:tensorflow:sample_weight modes were coerced from\n",
      "  ...\n",
      "    to  \n",
      "  ['...']\n",
      "WARNING:tensorflow:sample_weight modes were coerced from\n",
      "  ...\n",
      "    to  \n",
      "  ['...']\n",
      "Train on 196038 samples, validate on 34595 samples\n",
      "Epoch 1/50\n",
      "196038/196038 [==============================] - 21s 107us/sample - loss: 1.3631 - auc_32: 0.7156 - val_loss: 1.3506 - val_auc_32: 0.7309\n",
      "Epoch 2/50\n",
      "196038/196038 [==============================] - 20s 101us/sample - loss: 1.3279 - auc_32: 0.7302 - val_loss: 1.3483 - val_auc_32: 0.7329\n",
      "Epoch 3/50\n",
      "196038/196038 [==============================] - 20s 101us/sample - loss: 1.3202 - auc_32: 0.7336 - val_loss: 1.5035 - val_auc_32: 0.7276\n",
      "Epoch 4/50\n",
      "196038/196038 [==============================] - 20s 101us/sample - loss: 1.3163 - auc_32: 0.7349 - val_loss: 1.3441 - val_auc_32: 0.7349\n",
      "Epoch 5/50\n",
      "196038/196038 [==============================] - 20s 101us/sample - loss: 1.3174 - auc_32: 0.7341 - val_loss: 1.3320 - val_auc_32: 0.7372\n",
      "Epoch 6/50\n",
      "196038/196038 [==============================] - 20s 101us/sample - loss: 1.3124 - auc_32: 0.7369 - val_loss: 1.3762 - val_auc_32: 0.7371\n",
      "Epoch 7/50\n",
      "196038/196038 [==============================] - 20s 101us/sample - loss: 1.3092 - auc_32: 0.7381 - val_loss: 1.3232 - val_auc_32: 0.7367\n",
      "Epoch 8/50\n",
      "196038/196038 [==============================] - 20s 102us/sample - loss: 1.3057 - auc_32: 0.7398 - val_loss: 1.3205 - val_auc_32: 0.7374\n",
      "Epoch 9/50\n",
      "196038/196038 [==============================] - 19s 99us/sample - loss: 1.3058 - auc_32: 0.7396 - val_loss: 1.3655 - val_auc_32: 0.7399\n",
      "Epoch 10/50\n",
      "196038/196038 [==============================] - 20s 100us/sample - loss: 1.3026 - auc_32: 0.7415 - val_loss: 1.3186 - val_auc_32: 0.7396\n",
      "Epoch 11/50\n",
      "196038/196038 [==============================] - 20s 100us/sample - loss: 1.3029 - auc_32: 0.7414 - val_loss: 1.3209 - val_auc_32: 0.7389\n",
      "Epoch 12/50\n",
      "196038/196038 [==============================] - 20s 100us/sample - loss: 1.3028 - auc_32: 0.7412 - val_loss: 1.3530 - val_auc_32: 0.7397\n",
      "Epoch 13/50\n",
      "196038/196038 [==============================] - 20s 100us/sample - loss: 1.3021 - auc_32: 0.7417 - val_loss: 1.3123 - val_auc_32: 0.7395\n",
      "Epoch 14/50\n",
      "196038/196038 [==============================] - 19s 98us/sample - loss: 1.3024 - auc_32: 0.7412 - val_loss: 1.3235 - val_auc_32: 0.7383\n",
      "Epoch 15/50\n",
      "196038/196038 [==============================] - 19s 98us/sample - loss: 1.3037 - auc_32: 0.7412 - val_loss: 1.3164 - val_auc_32: 0.7398\n",
      "Epoch 16/50\n",
      "196038/196038 [==============================] - 20s 101us/sample - loss: 1.2973 - auc_32: 0.7437 - val_loss: 1.3188 - val_auc_32: 0.7397\n",
      "Epoch 17/50\n",
      "196038/196038 [==============================] - 20s 101us/sample - loss: 1.2997 - auc_32: 0.7430 - val_loss: 1.3117 - val_auc_32: 0.7398\n",
      "Epoch 18/50\n",
      "196038/196038 [==============================] - 19s 99us/sample - loss: 1.3020 - auc_32: 0.7414 - val_loss: 1.3114 - val_auc_32: 0.7390\n",
      "Epoch 19/50\n",
      "196038/196038 [==============================] - 19s 99us/sample - loss: 1.3024 - auc_32: 0.7418 - val_loss: 1.3177 - val_auc_32: 0.7396\n",
      "Epoch 20/50\n",
      "196038/196038 [==============================] - 20s 100us/sample - loss: 1.2999 - auc_32: 0.7424 - val_loss: 1.3099 - val_auc_32: 0.7396\n",
      "Epoch 21/50\n",
      "196038/196038 [==============================] - 20s 100us/sample - loss: 1.3009 - auc_32: 0.7418 - val_loss: 1.3413 - val_auc_32: 0.7396\n",
      "Epoch 22/50\n",
      "196038/196038 [==============================] - 19s 99us/sample - loss: 1.3019 - auc_32: 0.7418 - val_loss: 1.3385 - val_auc_32: 0.7398\n",
      "Epoch 23/50\n",
      "196038/196038 [==============================] - 19s 98us/sample - loss: 1.3003 - auc_32: 0.7425 - val_loss: 1.3118 - val_auc_32: 0.7399\n",
      "Epoch 24/50\n",
      "196038/196038 [==============================] - 20s 100us/sample - loss: 1.3013 - auc_32: 0.7419 - val_loss: 1.3122 - val_auc_32: 0.7392\n"
     ]
    },
    {
     "name": "stderr",
     "output_type": "stream",
     "text": [
      "\u001b[32m[I 2021-01-05 19:16:53,459]\u001b[0m Trial 32 finished with value: 0.7396496893270397 and parameters: {'step': 5, 'no._units': 209, 'number': 2, 'best_weight': {0: 1.0, 1: 16.0}}. Best is trial 32 with value: 0.7396496893270397.\u001b[0m\n"
     ]
    },
    {
     "name": "stdout",
     "output_type": "stream",
     "text": [
      "WARNING:tensorflow:sample_weight modes were coerced from\n",
      "  ...\n",
      "    to  \n",
      "  ['...']\n",
      "WARNING:tensorflow:sample_weight modes were coerced from\n",
      "  ...\n",
      "    to  \n",
      "  ['...']\n",
      "Train on 196038 samples, validate on 34595 samples\n",
      "Epoch 1/50\n",
      "196038/196038 [==============================] - 22s 110us/sample - loss: 1.3673 - auc_33: 0.7137 - val_loss: 1.7078 - val_auc_33: 0.7280\n",
      "Epoch 2/50\n",
      "196038/196038 [==============================] - 21s 105us/sample - loss: 1.3367 - auc_33: 0.7288 - val_loss: 1.3933 - val_auc_33: 0.7284\n",
      "Epoch 3/50\n",
      "196038/196038 [==============================] - 21s 105us/sample - loss: 1.3191 - auc_33: 0.7347 - val_loss: 1.3382 - val_auc_33: 0.7370\n",
      "Epoch 4/50\n",
      "196038/196038 [==============================] - 20s 103us/sample - loss: 1.3171 - auc_33: 0.7348 - val_loss: 2.9197 - val_auc_33: 0.7351\n",
      "Epoch 5/50\n",
      "196038/196038 [==============================] - 20s 103us/sample - loss: 1.3075 - auc_33: 0.7397 - val_loss: 1.6554 - val_auc_33: 0.7374\n",
      "Epoch 6/50\n",
      "196038/196038 [==============================] - 20s 103us/sample - loss: 1.3032 - auc_33: 0.7418 - val_loss: 1.6101 - val_auc_33: 0.7347\n",
      "Epoch 7/50\n",
      "196038/196038 [==============================] - 21s 105us/sample - loss: 1.3046 - auc_33: 0.7404 - val_loss: 2.1687 - val_auc_33: 0.7366\n"
     ]
    },
    {
     "name": "stderr",
     "output_type": "stream",
     "text": [
      "\u001b[32m[I 2021-01-05 19:19:19,345]\u001b[0m Trial 33 finished with value: 0.736947798625009 and parameters: {'step': 4, 'no._units': 195, 'number': 2, 'best_weight': {0: 1.0, 1: 16.0}}. Best is trial 32 with value: 0.7396496893270397.\u001b[0m\n"
     ]
    },
    {
     "name": "stdout",
     "output_type": "stream",
     "text": [
      "WARNING:tensorflow:sample_weight modes were coerced from\n",
      "  ...\n",
      "    to  \n",
      "  ['...']\n",
      "WARNING:tensorflow:sample_weight modes were coerced from\n",
      "  ...\n",
      "    to  \n",
      "  ['...']\n",
      "Train on 196038 samples, validate on 34595 samples\n",
      "Epoch 1/50\n",
      "196038/196038 [==============================] - 22s 111us/sample - loss: 1.3656 - auc_34: 0.7153 - val_loss: 1.4607 - val_auc_34: 0.7169\n",
      "Epoch 2/50\n",
      "196038/196038 [==============================] - 21s 106us/sample - loss: 1.3357 - auc_34: 0.7281 - val_loss: 1.5357 - val_auc_34: 0.7270\n",
      "Epoch 3/50\n",
      "196038/196038 [==============================] - 20s 104us/sample - loss: 1.3240 - auc_34: 0.7323 - val_loss: 1.3531 - val_auc_34: 0.7303\n",
      "Epoch 4/50\n",
      "196038/196038 [==============================] - 21s 105us/sample - loss: 1.3188 - auc_34: 0.7340 - val_loss: 1.3371 - val_auc_34: 0.7326\n",
      "Epoch 5/50\n",
      "196038/196038 [==============================] - 21s 107us/sample - loss: 1.3121 - auc_34: 0.7364 - val_loss: 1.5322 - val_auc_34: 0.7333\n",
      "Epoch 6/50\n",
      "196038/196038 [==============================] - 21s 106us/sample - loss: 1.3106 - auc_34: 0.7368 - val_loss: 1.9823 - val_auc_34: 0.7362\n",
      "Epoch 7/50\n",
      "196038/196038 [==============================] - 21s 105us/sample - loss: 1.3086 - auc_34: 0.7380 - val_loss: 1.3760 - val_auc_34: 0.7370\n",
      "Epoch 8/50\n",
      "196038/196038 [==============================] - 20s 104us/sample - loss: 1.3063 - auc_34: 0.7399 - val_loss: 1.5534 - val_auc_34: 0.7373\n"
     ]
    },
    {
     "name": "stderr",
     "output_type": "stream",
     "text": [
      "\u001b[32m[I 2021-01-05 19:22:07,886]\u001b[0m Trial 34 finished with value: 0.7326434961328591 and parameters: {'step': 6, 'no._units': 231, 'number': 2, 'best_weight': {0: 1.0, 1: 16.0}}. Best is trial 32 with value: 0.7396496893270397.\u001b[0m\n"
     ]
    },
    {
     "name": "stdout",
     "output_type": "stream",
     "text": [
      "WARNING:tensorflow:sample_weight modes were coerced from\n",
      "  ...\n",
      "    to  \n",
      "  ['...']\n",
      "WARNING:tensorflow:sample_weight modes were coerced from\n",
      "  ...\n",
      "    to  \n",
      "  ['...']\n",
      "Train on 196038 samples, validate on 34595 samples\n",
      "Epoch 1/50\n",
      "196038/196038 [==============================] - 25s 129us/sample - loss: 1.3560 - auc_35: 0.7159 - val_loss: 1.5582 - val_auc_35: 0.6922\n",
      "Epoch 2/50\n",
      "196038/196038 [==============================] - 24s 122us/sample - loss: 1.3230 - auc_35: 0.7315 - val_loss: 31.4770 - val_auc_35: 0.7273\n",
      "Epoch 3/50\n",
      "196038/196038 [==============================] - 24s 122us/sample - loss: 1.3171 - auc_35: 0.7341 - val_loss: 23.6045 - val_auc_35: 0.7147\n",
      "Epoch 4/50\n",
      "196038/196038 [==============================] - 24s 121us/sample - loss: 1.3121 - auc_35: 0.7360 - val_loss: 80.3656 - val_auc_35: 0.7053\n",
      "Epoch 5/50\n",
      "196038/196038 [==============================] - 24s 121us/sample - loss: 1.3112 - auc_35: 0.7368 - val_loss: 22.5785 - val_auc_35: 0.7331\n"
     ]
    },
    {
     "name": "stderr",
     "output_type": "stream",
     "text": [
      "\u001b[32m[I 2021-01-05 19:24:11,405]\u001b[0m Trial 35 finished with value: 0.6921702620985969 and parameters: {'step': 6, 'no._units': 162, 'number': 3, 'best_weight': {0: 1.0, 1: 16.0}}. Best is trial 32 with value: 0.7396496893270397.\u001b[0m\n"
     ]
    },
    {
     "name": "stdout",
     "output_type": "stream",
     "text": [
      "WARNING:tensorflow:sample_weight modes were coerced from\n",
      "  ...\n",
      "    to  \n",
      "  ['...']\n",
      "WARNING:tensorflow:sample_weight modes were coerced from\n",
      "  ...\n",
      "    to  \n",
      "  ['...']\n",
      "Train on 196038 samples, validate on 34595 samples\n",
      "Epoch 1/50\n",
      "196038/196038 [==============================] - 22s 110us/sample - loss: 1.1724 - auc_36: 0.7194 - val_loss: 1.2181 - val_auc_36: 0.7307\n",
      "Epoch 2/50\n",
      "196038/196038 [==============================] - 20s 104us/sample - loss: 1.1496 - auc_36: 0.7324 - val_loss: 1.2271 - val_auc_36: 0.7406\n",
      "Epoch 3/50\n",
      "196038/196038 [==============================] - 21s 105us/sample - loss: 1.1465 - auc_36: 0.7349 - val_loss: 1.1805 - val_auc_36: 0.7388\n",
      "Epoch 4/50\n",
      "196038/196038 [==============================] - 21s 105us/sample - loss: 1.1423 - auc_36: 0.7365 - val_loss: 1.1818 - val_auc_36: 0.7315\n",
      "Epoch 5/50\n",
      "196038/196038 [==============================] - 21s 105us/sample - loss: 1.1416 - auc_36: 0.7371 - val_loss: 1.1757 - val_auc_36: 0.7381\n",
      "Epoch 6/50\n",
      "196038/196038 [==============================] - 21s 105us/sample - loss: 1.1368 - auc_36: 0.7393 - val_loss: 1.1935 - val_auc_36: 0.7380\n",
      "Epoch 7/50\n",
      "196038/196038 [==============================] - 21s 105us/sample - loss: 1.1354 - auc_36: 0.7404 - val_loss: 1.1536 - val_auc_36: 0.7408\n",
      "Epoch 8/50\n",
      "196038/196038 [==============================] - 21s 105us/sample - loss: 1.1329 - auc_36: 0.7419 - val_loss: 1.1553 - val_auc_36: 0.7392\n",
      "Epoch 9/50\n",
      "196038/196038 [==============================] - 20s 105us/sample - loss: 1.1323 - auc_36: 0.7421 - val_loss: 1.1910 - val_auc_36: 0.7380\n",
      "Epoch 10/50\n",
      "196038/196038 [==============================] - 20s 104us/sample - loss: 1.1319 - auc_36: 0.7425 - val_loss: 1.2332 - val_auc_36: 0.7386\n",
      "Epoch 11/50\n",
      "196038/196038 [==============================] - 20s 104us/sample - loss: 1.1328 - auc_36: 0.7418 - val_loss: 1.1660 - val_auc_36: 0.7379\n"
     ]
    },
    {
     "name": "stderr",
     "output_type": "stream",
     "text": [
      "\u001b[32m[I 2021-01-05 19:28:00,208]\u001b[0m Trial 36 finished with value: 0.7408516980052888 and parameters: {'step': 5, 'no._units': 102, 'number': 2, 'best_weight': {0: 1.0, 1: 12.0}}. Best is trial 36 with value: 0.7408516980052888.\u001b[0m\n"
     ]
    },
    {
     "name": "stdout",
     "output_type": "stream",
     "text": [
      "WARNING:tensorflow:sample_weight modes were coerced from\n",
      "  ...\n",
      "    to  \n",
      "  ['...']\n",
      "WARNING:tensorflow:sample_weight modes were coerced from\n",
      "  ...\n",
      "    to  \n",
      "  ['...']\n",
      "Train on 196038 samples, validate on 34595 samples\n",
      "Epoch 1/50\n",
      "196038/196038 [==============================] - 26s 132us/sample - loss: 1.1928 - auc_37: 0.7106 - val_loss: 97.9873 - val_auc_37: 0.7308\n",
      "Epoch 2/50\n",
      "196038/196038 [==============================] - 24s 123us/sample - loss: 1.1524 - auc_37: 0.7319 - val_loss: 93.6355 - val_auc_37: 0.6988\n",
      "Epoch 3/50\n",
      "196038/196038 [==============================] - 24s 123us/sample - loss: 1.1438 - auc_37: 0.7368 - val_loss: 8684.5979 - val_auc_37: 0.7197\n",
      "Epoch 4/50\n",
      "196038/196038 [==============================] - 24s 122us/sample - loss: 1.1349 - auc_37: 0.7413 - val_loss: 170.5344 - val_auc_37: 0.7339\n",
      "Epoch 5/50\n",
      "196038/196038 [==============================] - 24s 123us/sample - loss: 1.1359 - auc_37: 0.7406 - val_loss: 311.5477 - val_auc_37: 0.7359\n",
      "Epoch 6/50\n",
      "196038/196038 [==============================] - 24s 123us/sample - loss: 1.1327 - auc_37: 0.7422 - val_loss: 15.0515 - val_auc_37: 0.7340\n",
      "Epoch 7/50\n",
      "196038/196038 [==============================] - 24s 124us/sample - loss: 1.1316 - auc_37: 0.7426 - val_loss: 3.5176 - val_auc_37: 0.7359\n",
      "Epoch 8/50\n",
      "196038/196038 [==============================] - 24s 124us/sample - loss: 1.1294 - auc_37: 0.7441 - val_loss: 28.9341 - val_auc_37: 0.7301\n",
      "Epoch 9/50\n",
      "196038/196038 [==============================] - 24s 124us/sample - loss: 1.1305 - auc_37: 0.7427 - val_loss: 33.6366 - val_auc_37: 0.7302\n",
      "Epoch 10/50\n",
      "196038/196038 [==============================] - 24s 123us/sample - loss: 1.1269 - auc_37: 0.7447 - val_loss: 86.3376 - val_auc_37: 0.7308\n",
      "Epoch 11/50\n",
      "196038/196038 [==============================] - 24s 124us/sample - loss: 1.1276 - auc_37: 0.7446 - val_loss: 142.2827 - val_auc_37: 0.7257\n"
     ]
    },
    {
     "name": "stderr",
     "output_type": "stream",
     "text": [
      "\u001b[32m[I 2021-01-05 19:32:30,379]\u001b[0m Trial 37 finished with value: 0.7358355696350942 and parameters: {'step': 5, 'no._units': 320, 'number': 3, 'best_weight': {0: 1.0, 1: 12.0}}. Best is trial 36 with value: 0.7408516980052888.\u001b[0m\n"
     ]
    },
    {
     "name": "stdout",
     "output_type": "stream",
     "text": [
      "WARNING:tensorflow:sample_weight modes were coerced from\n",
      "  ...\n",
      "    to  \n",
      "  ['...']\n",
      "WARNING:tensorflow:sample_weight modes were coerced from\n",
      "  ...\n",
      "    to  \n",
      "  ['...']\n",
      "Train on 196038 samples, validate on 34595 samples\n",
      "Epoch 1/50\n",
      "196038/196038 [==============================] - 22s 111us/sample - loss: 1.1714 - auc_38: 0.7207 - val_loss: 1.1835 - val_auc_38: 0.7329\n",
      "Epoch 2/50\n",
      "196038/196038 [==============================] - 21s 105us/sample - loss: 1.1524 - auc_38: 0.7313 - val_loss: 2.1853 - val_auc_38: 0.7302\n",
      "Epoch 3/50\n",
      "196038/196038 [==============================] - 20s 104us/sample - loss: 1.1471 - auc_38: 0.7344 - val_loss: 1.3952 - val_auc_38: 0.7362\n",
      "Epoch 4/50\n",
      "196038/196038 [==============================] - 20s 103us/sample - loss: 1.1407 - auc_38: 0.7375 - val_loss: 3.4785 - val_auc_38: 0.7396\n",
      "Epoch 5/50\n",
      "196038/196038 [==============================] - 20s 104us/sample - loss: 1.1395 - auc_38: 0.7386 - val_loss: 1.6798 - val_auc_38: 0.7386\n"
     ]
    },
    {
     "name": "stderr",
     "output_type": "stream",
     "text": [
      "\u001b[32m[I 2021-01-05 19:34:16,429]\u001b[0m Trial 38 finished with value: 0.7328195260177359 and parameters: {'step': 5, 'no._units': 115, 'number': 2, 'best_weight': {0: 1.0, 1: 12.0}}. Best is trial 36 with value: 0.7408516980052888.\u001b[0m\n"
     ]
    },
    {
     "name": "stdout",
     "output_type": "stream",
     "text": [
      "WARNING:tensorflow:sample_weight modes were coerced from\n",
      "  ...\n",
      "    to  \n",
      "  ['...']\n",
      "WARNING:tensorflow:sample_weight modes were coerced from\n",
      "  ...\n",
      "    to  \n",
      "  ['...']\n",
      "Train on 196038 samples, validate on 34595 samples\n",
      "Epoch 1/50\n",
      "196038/196038 [==============================] - 25s 126us/sample - loss: 1.4454 - auc_39: 0.7125 - val_loss: 210.6203 - val_auc_39: 0.7099\n",
      "Epoch 2/50\n",
      "196038/196038 [==============================] - 24s 120us/sample - loss: 1.4027 - auc_39: 0.7300 - val_loss: 14556.5435 - val_auc_39: 0.7175\n",
      "Epoch 3/50\n",
      "196038/196038 [==============================] - 23s 120us/sample - loss: 1.3911 - auc_39: 0.7354 - val_loss: 1648.1446 - val_auc_39: 0.7184\n",
      "Epoch 4/50\n",
      "196038/196038 [==============================] - 23s 119us/sample - loss: 1.3927 - auc_39: 0.7338 - val_loss: 1673.1075 - val_auc_39: 0.7247\n",
      "Epoch 5/50\n",
      "196038/196038 [==============================] - 23s 119us/sample - loss: 1.3890 - auc_39: 0.7353 - val_loss: 1460.4422 - val_auc_39: 0.7279\n"
     ]
    },
    {
     "name": "stderr",
     "output_type": "stream",
     "text": [
      "\u001b[32m[I 2021-01-05 19:36:17,372]\u001b[0m Trial 39 finished with value: 0.7098978917461749 and parameters: {'step': 4, 'no._units': 270, 'number': 3, 'best_weight': {0: 1.0, 1: 18.0}}. Best is trial 36 with value: 0.7408516980052888.\u001b[0m\n"
     ]
    },
    {
     "name": "stdout",
     "output_type": "stream",
     "text": [
      "WARNING:tensorflow:sample_weight modes were coerced from\n",
      "  ...\n",
      "    to  \n",
      "  ['...']\n",
      "WARNING:tensorflow:sample_weight modes were coerced from\n",
      "  ...\n",
      "    to  \n",
      "  ['...']\n",
      "Train on 196038 samples, validate on 34595 samples\n",
      "Epoch 1/50\n",
      "196038/196038 [==============================] - 37s 189us/sample - loss: 1.2133 - auc_40: 0.7028 - val_loss: 22672836.6064 - val_auc_40: 0.7297\n",
      "Epoch 2/50\n",
      "196038/196038 [==============================] - 34s 174us/sample - loss: 1.1502 - auc_40: 0.7313 - val_loss: 120380486395043.4531 - val_auc_40: 0.7352\n",
      "Epoch 3/50\n",
      "196038/196038 [==============================] - 35s 177us/sample - loss: 1.1433 - auc_40: 0.7356 - val_loss: 157980176476167.5000 - val_auc_40: 0.7073\n",
      "Epoch 4/50\n",
      "196038/196038 [==============================] - 34s 176us/sample - loss: 1.1390 - auc_40: 0.7376 - val_loss: 52152624301921.2266 - val_auc_40: 0.7358\n",
      "Epoch 5/50\n",
      "196038/196038 [==============================] - 34s 174us/sample - loss: 1.1388 - auc_40: 0.7381 - val_loss: 47070773919337.8984 - val_auc_40: 0.7072\n"
     ]
    },
    {
     "name": "stderr",
     "output_type": "stream",
     "text": [
      "\u001b[32m[I 2021-01-05 19:39:15,716]\u001b[0m Trial 40 finished with value: 0.729743447264878 and parameters: {'step': 3, 'no._units': 444, 'number': 6, 'best_weight': {0: 1.0, 1: 12.0}}. Best is trial 36 with value: 0.7408516980052888.\u001b[0m\n"
     ]
    },
    {
     "name": "stdout",
     "output_type": "stream",
     "text": [
      "WARNING:tensorflow:sample_weight modes were coerced from\n",
      "  ...\n",
      "    to  \n",
      "  ['...']\n",
      "WARNING:tensorflow:sample_weight modes were coerced from\n",
      "  ...\n",
      "    to  \n",
      "  ['...']\n",
      "Train on 196038 samples, validate on 34595 samples\n",
      "Epoch 1/50\n",
      "196038/196038 [==============================] - 22s 113us/sample - loss: 1.4027 - auc_41: 0.7142 - val_loss: 1.3970 - val_auc_41: 0.7300\n",
      "Epoch 2/50\n",
      "196038/196038 [==============================] - 21s 106us/sample - loss: 1.3683 - auc_41: 0.7308 - val_loss: 1.3648 - val_auc_41: 0.7340\n",
      "Epoch 3/50\n",
      "196038/196038 [==============================] - 21s 106us/sample - loss: 1.3640 - auc_41: 0.7331 - val_loss: 1.3808 - val_auc_41: 0.7359\n",
      "Epoch 4/50\n",
      "196038/196038 [==============================] - 21s 107us/sample - loss: 1.3544 - auc_41: 0.7368 - val_loss: 1.6578 - val_auc_41: 0.7368\n",
      "Epoch 5/50\n",
      "196038/196038 [==============================] - 21s 109us/sample - loss: 1.3504 - auc_41: 0.7378 - val_loss: 1.3539 - val_auc_41: 0.7389\n",
      "Epoch 6/50\n",
      "196038/196038 [==============================] - 21s 107us/sample - loss: 1.3455 - auc_41: 0.7395 - val_loss: 1.4442 - val_auc_41: 0.7377\n",
      "Epoch 7/50\n",
      "196038/196038 [==============================] - 21s 107us/sample - loss: 1.3432 - auc_41: 0.7405 - val_loss: 1.5180 - val_auc_41: 0.7328\n",
      "Epoch 8/50\n",
      "196038/196038 [==============================] - 21s 108us/sample - loss: 1.3435 - auc_41: 0.7401 - val_loss: 2.1416 - val_auc_41: 0.7332\n",
      "Epoch 9/50\n",
      "196038/196038 [==============================] - 21s 106us/sample - loss: 1.3441 - auc_41: 0.7396 - val_loss: 1.4465 - val_auc_41: 0.7344\n"
     ]
    },
    {
     "name": "stderr",
     "output_type": "stream",
     "text": [
      "\u001b[32m[I 2021-01-05 19:42:28,336]\u001b[0m Trial 41 finished with value: 0.7389259070844567 and parameters: {'step': 5, 'no._units': 226, 'number': 2, 'best_weight': {0: 1.0, 1: 17.0}}. Best is trial 36 with value: 0.7408516980052888.\u001b[0m\n"
     ]
    },
    {
     "name": "stdout",
     "output_type": "stream",
     "text": [
      "WARNING:tensorflow:sample_weight modes were coerced from\n",
      "  ...\n",
      "    to  \n",
      "  ['...']\n",
      "WARNING:tensorflow:sample_weight modes were coerced from\n",
      "  ...\n",
      "    to  \n",
      "  ['...']\n",
      "Train on 196038 samples, validate on 34595 samples\n",
      "Epoch 1/50\n",
      "196038/196038 [==============================] - 21s 109us/sample - loss: 1.4046 - auc_42: 0.7152 - val_loss: 1.4235 - val_auc_42: 0.7274\n",
      "Epoch 2/50\n",
      "196038/196038 [==============================] - 20s 103us/sample - loss: 1.3663 - auc_42: 0.7310 - val_loss: 1.6437 - val_auc_42: 0.7336\n",
      "Epoch 3/50\n",
      "196038/196038 [==============================] - 20s 102us/sample - loss: 1.3609 - auc_42: 0.7330 - val_loss: 1.4267 - val_auc_42: 0.7330\n",
      "Epoch 4/50\n",
      "196038/196038 [==============================] - 20s 102us/sample - loss: 1.3521 - auc_42: 0.7364 - val_loss: 1.4348 - val_auc_42: 0.7352\n",
      "Epoch 5/50\n",
      "196038/196038 [==============================] - 20s 102us/sample - loss: 1.3496 - auc_42: 0.7377 - val_loss: 1.3922 - val_auc_42: 0.7360\n",
      "Epoch 6/50\n",
      "196038/196038 [==============================] - 20s 102us/sample - loss: 1.3462 - auc_42: 0.7388 - val_loss: 2.0302 - val_auc_42: 0.7387\n",
      "Epoch 7/50\n",
      "196038/196038 [==============================] - 20s 103us/sample - loss: 1.3411 - auc_42: 0.7418 - val_loss: 2.8534 - val_auc_42: 0.7369\n",
      "Epoch 8/50\n",
      "196038/196038 [==============================] - 20s 103us/sample - loss: 1.3427 - auc_42: 0.7405 - val_loss: 1.9002 - val_auc_42: 0.7373\n",
      "Epoch 9/50\n",
      "196038/196038 [==============================] - 20s 103us/sample - loss: 1.3425 - auc_42: 0.7402 - val_loss: 1.3712 - val_auc_42: 0.7371\n",
      "Epoch 10/50\n",
      "196038/196038 [==============================] - 20s 103us/sample - loss: 1.3408 - auc_42: 0.7416 - val_loss: 1.3704 - val_auc_42: 0.7368\n",
      "Epoch 11/50\n",
      "196038/196038 [==============================] - 20s 103us/sample - loss: 1.3405 - auc_42: 0.7416 - val_loss: 1.4190 - val_auc_42: 0.7370\n",
      "Epoch 12/50\n",
      "196038/196038 [==============================] - 20s 103us/sample - loss: 1.3395 - auc_42: 0.7418 - val_loss: 1.3928 - val_auc_42: 0.7362\n",
      "Epoch 13/50\n",
      "196038/196038 [==============================] - 20s 102us/sample - loss: 1.3407 - auc_42: 0.7409 - val_loss: 2.2715 - val_auc_42: 0.7362\n",
      "Epoch 14/50\n",
      "196038/196038 [==============================] - 20s 102us/sample - loss: 1.3413 - auc_42: 0.7416 - val_loss: 2.1446 - val_auc_42: 0.7369\n"
     ]
    },
    {
     "name": "stderr",
     "output_type": "stream",
     "text": [
      "\u001b[32m[I 2021-01-05 19:47:13,261]\u001b[0m Trial 42 finished with value: 0.7368315955962119 and parameters: {'step': 5, 'no._units': 217, 'number': 2, 'best_weight': {0: 1.0, 1: 17.0}}. Best is trial 36 with value: 0.7408516980052888.\u001b[0m\n"
     ]
    },
    {
     "name": "stdout",
     "output_type": "stream",
     "text": [
      "WARNING:tensorflow:sample_weight modes were coerced from\n",
      "  ...\n",
      "    to  \n",
      "  ['...']\n",
      "WARNING:tensorflow:sample_weight modes were coerced from\n",
      "  ...\n",
      "    to  \n",
      "  ['...']\n",
      "Train on 196038 samples, validate on 34595 samples\n",
      "Epoch 1/50\n",
      "196038/196038 [==============================] - 22s 113us/sample - loss: 1.4270 - auc_43: 0.7099 - val_loss: 1.6872 - val_auc_43: 0.7301\n",
      "Epoch 2/50\n",
      "196038/196038 [==============================] - 21s 106us/sample - loss: 1.3861 - auc_43: 0.7270 - val_loss: 2.0382 - val_auc_43: 0.7346\n",
      "Epoch 3/50\n",
      "196038/196038 [==============================] - 21s 106us/sample - loss: 1.3755 - auc_43: 0.7312 - val_loss: 1.5108 - val_auc_43: 0.7348\n",
      "Epoch 4/50\n",
      "196038/196038 [==============================] - 21s 105us/sample - loss: 1.3715 - auc_43: 0.7333 - val_loss: 1.7732 - val_auc_43: 0.7338\n",
      "Epoch 5/50\n",
      "196038/196038 [==============================] - 21s 106us/sample - loss: 1.3591 - auc_43: 0.7374 - val_loss: 1.4963 - val_auc_43: 0.7377\n",
      "Epoch 6/50\n",
      "196038/196038 [==============================] - 21s 106us/sample - loss: 1.3512 - auc_43: 0.7385 - val_loss: 1.4831 - val_auc_43: 0.7383\n",
      "Epoch 7/50\n",
      "196038/196038 [==============================] - 21s 106us/sample - loss: 1.3492 - auc_43: 0.7389 - val_loss: 1.4823 - val_auc_43: 0.7376\n",
      "Epoch 8/50\n",
      "196038/196038 [==============================] - 21s 106us/sample - loss: 1.3450 - auc_43: 0.7402 - val_loss: 1.3952 - val_auc_43: 0.7378\n",
      "Epoch 9/50\n",
      "196038/196038 [==============================] - 21s 106us/sample - loss: 1.3451 - auc_43: 0.7404 - val_loss: 1.3985 - val_auc_43: 0.7372\n",
      "Epoch 10/50\n",
      "196038/196038 [==============================] - 21s 105us/sample - loss: 1.3417 - auc_43: 0.7414 - val_loss: 1.3854 - val_auc_43: 0.7378\n",
      "Epoch 11/50\n",
      "196038/196038 [==============================] - 21s 107us/sample - loss: 1.3402 - auc_43: 0.7425 - val_loss: 1.3667 - val_auc_43: 0.7380\n",
      "Epoch 12/50\n",
      "196038/196038 [==============================] - 21s 107us/sample - loss: 1.3384 - auc_43: 0.7424 - val_loss: 1.3831 - val_auc_43: 0.7373\n",
      "Epoch 13/50\n",
      "196038/196038 [==============================] - 21s 107us/sample - loss: 1.3401 - auc_43: 0.7422 - val_loss: 1.3773 - val_auc_43: 0.7375\n",
      "Epoch 14/50\n",
      "196038/196038 [==============================] - 21s 106us/sample - loss: 1.3374 - auc_43: 0.7433 - val_loss: 1.3759 - val_auc_43: 0.7376\n",
      "Epoch 15/50\n",
      "196038/196038 [==============================] - 21s 106us/sample - loss: 1.3393 - auc_43: 0.7425 - val_loss: 1.3845 - val_auc_43: 0.7383\n"
     ]
    },
    {
     "name": "stderr",
     "output_type": "stream",
     "text": [
      "\u001b[32m[I 2021-01-05 19:52:28,339]\u001b[0m Trial 43 finished with value: 0.7380616825919363 and parameters: {'step': 5, 'no._units': 361, 'number': 2, 'best_weight': {0: 1.0, 1: 17.0}}. Best is trial 36 with value: 0.7408516980052888.\u001b[0m\n"
     ]
    },
    {
     "name": "stdout",
     "output_type": "stream",
     "text": [
      "WARNING:tensorflow:sample_weight modes were coerced from\n",
      "  ...\n",
      "    to  \n",
      "  ['...']\n",
      "WARNING:tensorflow:sample_weight modes were coerced from\n",
      "  ...\n",
      "    to  \n",
      "  ['...']\n",
      "Train on 196038 samples, validate on 34595 samples\n",
      "Epoch 1/50\n",
      "196038/196038 [==============================] - 23s 117us/sample - loss: 1.4378 - auc_44: 0.7072 - val_loss: 1.5817 - val_auc_44: 0.7314\n",
      "Epoch 2/50\n",
      "196038/196038 [==============================] - 21s 107us/sample - loss: 1.3795 - auc_44: 0.7272 - val_loss: 1.7586 - val_auc_44: 0.7334\n",
      "Epoch 3/50\n",
      "196038/196038 [==============================] - 21s 106us/sample - loss: 1.3717 - auc_44: 0.7313 - val_loss: 1.7156 - val_auc_44: 0.7367\n",
      "Epoch 4/50\n",
      "196038/196038 [==============================] - 21s 106us/sample - loss: 1.3629 - auc_44: 0.7337 - val_loss: 1.3860 - val_auc_44: 0.7357\n",
      "Epoch 5/50\n",
      "196038/196038 [==============================] - 21s 106us/sample - loss: 1.3549 - auc_44: 0.7352 - val_loss: 1.3962 - val_auc_44: 0.7317\n",
      "Epoch 6/50\n",
      "196038/196038 [==============================] - 21s 107us/sample - loss: 1.3498 - auc_44: 0.7373 - val_loss: 1.3516 - val_auc_44: 0.7380\n",
      "Epoch 7/50\n",
      "196038/196038 [==============================] - 21s 108us/sample - loss: 1.3457 - auc_44: 0.7393 - val_loss: 1.3999 - val_auc_44: 0.7354\n",
      "Epoch 8/50\n",
      "196038/196038 [==============================] - 21s 107us/sample - loss: 1.3448 - auc_44: 0.7393 - val_loss: 1.3981 - val_auc_44: 0.7365\n",
      "Epoch 9/50\n",
      "196038/196038 [==============================] - 21s 107us/sample - loss: 1.3442 - auc_44: 0.7395 - val_loss: 1.3852 - val_auc_44: 0.7368\n",
      "Epoch 10/50\n",
      "196038/196038 [==============================] - 21s 107us/sample - loss: 1.3428 - auc_44: 0.7405 - val_loss: 1.4137 - val_auc_44: 0.7374\n"
     ]
    },
    {
     "name": "stderr",
     "output_type": "stream",
     "text": [
      "\u001b[32m[I 2021-01-05 19:56:02,066]\u001b[0m Trial 44 finished with value: 0.7380034093877457 and parameters: {'step': 5, 'no._units': 406, 'number': 2, 'best_weight': {0: 1.0, 1: 17.0}}. Best is trial 36 with value: 0.7408516980052888.\u001b[0m\n"
     ]
    },
    {
     "name": "stdout",
     "output_type": "stream",
     "text": [
      "WARNING:tensorflow:sample_weight modes were coerced from\n",
      "  ...\n",
      "    to  \n",
      "  ['...']\n",
      "WARNING:tensorflow:sample_weight modes were coerced from\n",
      "  ...\n",
      "    to  \n",
      "  ['...']\n",
      "Train on 196038 samples, validate on 34595 samples\n",
      "Epoch 1/50\n",
      "196038/196038 [==============================] - 21s 109us/sample - loss: 1.1869 - auc_45: 0.7147 - val_loss: 1.2684 - val_auc_45: 0.7304\n",
      "Epoch 2/50\n",
      "196038/196038 [==============================] - 20s 103us/sample - loss: 1.1593 - auc_45: 0.7315 - val_loss: 1.1680 - val_auc_45: 0.7389\n",
      "Epoch 3/50\n",
      "196038/196038 [==============================] - 20s 103us/sample - loss: 1.1513 - auc_45: 0.7329 - val_loss: 1.1817 - val_auc_45: 0.7378\n",
      "Epoch 4/50\n",
      "196038/196038 [==============================] - 20s 103us/sample - loss: 1.1468 - auc_45: 0.7342 - val_loss: 1.2827 - val_auc_45: 0.7351\n",
      "Epoch 5/50\n",
      "196038/196038 [==============================] - 20s 104us/sample - loss: 1.1391 - auc_45: 0.7387 - val_loss: 1.2062 - val_auc_45: 0.7362\n",
      "Epoch 6/50\n",
      "196038/196038 [==============================] - 20s 104us/sample - loss: 1.1361 - auc_45: 0.7399 - val_loss: 1.2119 - val_auc_45: 0.7359\n"
     ]
    },
    {
     "name": "stderr",
     "output_type": "stream",
     "text": [
      "\u001b[32m[I 2021-01-05 19:58:06,948]\u001b[0m Trial 45 finished with value: 0.7388997426859755 and parameters: {'step': 4, 'no._units': 247, 'number': 2, 'best_weight': {0: 1.0, 1: 12.0}}. Best is trial 36 with value: 0.7408516980052888.\u001b[0m\n"
     ]
    },
    {
     "name": "stdout",
     "output_type": "stream",
     "text": [
      "WARNING:tensorflow:sample_weight modes were coerced from\n",
      "  ...\n",
      "    to  \n",
      "  ['...']\n",
      "WARNING:tensorflow:sample_weight modes were coerced from\n",
      "  ...\n",
      "    to  \n",
      "  ['...']\n",
      "Train on 196038 samples, validate on 34595 samples\n",
      "Epoch 1/50\n",
      "196038/196038 [==============================] - 22s 111us/sample - loss: 1.1862 - auc_46: 0.7157 - val_loss: 1.9156 - val_auc_46: 0.7260\n",
      "Epoch 2/50\n",
      "196038/196038 [==============================] - 21s 106us/sample - loss: 1.1578 - auc_46: 0.7308 - val_loss: 1.2060 - val_auc_46: 0.7369\n",
      "Epoch 3/50\n",
      "196038/196038 [==============================] - 21s 105us/sample - loss: 1.1490 - auc_46: 0.7351 - val_loss: 1.1880 - val_auc_46: 0.7397\n",
      "Epoch 4/50\n",
      "196038/196038 [==============================] - 21s 105us/sample - loss: 1.1388 - auc_46: 0.7391 - val_loss: 1.1820 - val_auc_46: 0.7356\n",
      "Epoch 5/50\n",
      "196038/196038 [==============================] - 21s 105us/sample - loss: 1.1375 - auc_46: 0.7394 - val_loss: 1.2869 - val_auc_46: 0.7402\n",
      "Epoch 6/50\n",
      "196038/196038 [==============================] - 21s 105us/sample - loss: 1.1342 - auc_46: 0.7413 - val_loss: 1.1557 - val_auc_46: 0.7407\n",
      "Epoch 7/50\n",
      "196038/196038 [==============================] - 21s 106us/sample - loss: 1.1332 - auc_46: 0.7414 - val_loss: 1.2520 - val_auc_46: 0.7361\n",
      "Epoch 8/50\n",
      "196038/196038 [==============================] - 21s 106us/sample - loss: 1.1335 - auc_46: 0.7415 - val_loss: 2.2785 - val_auc_46: 0.7394\n",
      "Epoch 9/50\n",
      "196038/196038 [==============================] - 21s 105us/sample - loss: 1.1335 - auc_46: 0.7413 - val_loss: 2.3578 - val_auc_46: 0.7381\n",
      "Epoch 10/50\n",
      "196038/196038 [==============================] - 21s 106us/sample - loss: 1.1332 - auc_46: 0.7417 - val_loss: 1.5567 - val_auc_46: 0.7382\n"
     ]
    },
    {
     "name": "stderr",
     "output_type": "stream",
     "text": [
      "\u001b[32m[I 2021-01-05 20:01:36,951]\u001b[0m Trial 46 finished with value: 0.7407491907556453 and parameters: {'step': 4, 'no._units': 254, 'number': 2, 'best_weight': {0: 1.0, 1: 12.0}}. Best is trial 36 with value: 0.7408516980052888.\u001b[0m\n"
     ]
    },
    {
     "name": "stdout",
     "output_type": "stream",
     "text": [
      "WARNING:tensorflow:sample_weight modes were coerced from\n",
      "  ...\n",
      "    to  \n",
      "  ['...']\n",
      "WARNING:tensorflow:sample_weight modes were coerced from\n",
      "  ...\n",
      "    to  \n",
      "  ['...']\n",
      "Train on 196038 samples, validate on 34595 samples\n",
      "Epoch 1/50\n",
      "196038/196038 [==============================] - 25s 127us/sample - loss: 1.1796 - auc_47: 0.7157 - val_loss: 1.3407 - val_auc_47: 0.7323\n",
      "Epoch 2/50\n",
      "196038/196038 [==============================] - 23s 118us/sample - loss: 1.1443 - auc_47: 0.7347 - val_loss: 6.2681 - val_auc_47: 0.7156\n",
      "Epoch 3/50\n",
      "196038/196038 [==============================] - 23s 117us/sample - loss: 1.1348 - auc_47: 0.7404 - val_loss: 4.3170 - val_auc_47: 0.7158\n",
      "Epoch 4/50\n",
      "196038/196038 [==============================] - 23s 118us/sample - loss: 1.1330 - auc_47: 0.7415 - val_loss: 59.9919 - val_auc_47: 0.7184\n",
      "Epoch 5/50\n",
      "196038/196038 [==============================] - 23s 117us/sample - loss: 1.1291 - auc_47: 0.7439 - val_loss: 32.7070 - val_auc_47: 0.7150\n"
     ]
    },
    {
     "name": "stderr",
     "output_type": "stream",
     "text": [
      "\u001b[32m[I 2021-01-05 20:03:37,264]\u001b[0m Trial 47 finished with value: 0.7323069785111704 and parameters: {'step': 2, 'no._units': 184, 'number': 3, 'best_weight': {0: 1.0, 1: 12.0}}. Best is trial 36 with value: 0.7408516980052888.\u001b[0m\n"
     ]
    },
    {
     "name": "stdout",
     "output_type": "stream",
     "text": [
      "WARNING:tensorflow:sample_weight modes were coerced from\n",
      "  ...\n",
      "    to  \n",
      "  ['...']\n",
      "WARNING:tensorflow:sample_weight modes were coerced from\n",
      "  ...\n",
      "    to  \n",
      "  ['...']\n",
      "Train on 196038 samples, validate on 34595 samples\n",
      "Epoch 1/50\n",
      "196038/196038 [==============================] - 22s 111us/sample - loss: 1.1908 - auc_48: 0.7140 - val_loss: 1.3497 - val_auc_48: 0.7318\n",
      "Epoch 2/50\n",
      "196038/196038 [==============================] - 21s 105us/sample - loss: 1.1591 - auc_48: 0.7308 - val_loss: 1.4091 - val_auc_48: 0.7317\n",
      "Epoch 3/50\n",
      "196038/196038 [==============================] - 21s 105us/sample - loss: 1.1479 - auc_48: 0.7365 - val_loss: 1.2021 - val_auc_48: 0.7382\n",
      "Epoch 4/50\n",
      "196038/196038 [==============================] - 21s 106us/sample - loss: 1.1456 - auc_48: 0.7365 - val_loss: 1.1927 - val_auc_48: 0.7381\n",
      "Epoch 5/50\n",
      "196038/196038 [==============================] - 21s 105us/sample - loss: 1.1371 - auc_48: 0.7401 - val_loss: 1.2559 - val_auc_48: 0.7365\n",
      "Epoch 6/50\n",
      "196038/196038 [==============================] - 21s 106us/sample - loss: 1.1369 - auc_48: 0.7404 - val_loss: 1.2420 - val_auc_48: 0.7381\n",
      "Epoch 7/50\n",
      "196038/196038 [==============================] - 21s 106us/sample - loss: 1.1351 - auc_48: 0.7409 - val_loss: 1.4776 - val_auc_48: 0.7385\n",
      "Epoch 8/50\n",
      "196038/196038 [==============================] - 21s 106us/sample - loss: 1.1345 - auc_48: 0.7418 - val_loss: 1.2722 - val_auc_48: 0.7376\n"
     ]
    },
    {
     "name": "stderr",
     "output_type": "stream",
     "text": [
      "\u001b[32m[I 2021-01-05 20:06:25,907]\u001b[0m Trial 48 finished with value: 0.7380896708426351 and parameters: {'step': 3, 'no._units': 275, 'number': 2, 'best_weight': {0: 1.0, 1: 12.0}}. Best is trial 36 with value: 0.7408516980052888.\u001b[0m\n"
     ]
    },
    {
     "name": "stdout",
     "output_type": "stream",
     "text": [
      "WARNING:tensorflow:sample_weight modes were coerced from\n",
      "  ...\n",
      "    to  \n",
      "  ['...']\n",
      "WARNING:tensorflow:sample_weight modes were coerced from\n",
      "  ...\n",
      "    to  \n",
      "  ['...']\n",
      "Train on 196038 samples, validate on 34595 samples\n",
      "Epoch 1/50\n",
      "196038/196038 [==============================] - 22s 112us/sample - loss: 1.4084 - auc_49: 0.7144 - val_loss: 1.5301 - val_auc_49: 0.7280\n",
      "Epoch 2/50\n",
      "196038/196038 [==============================] - 21s 105us/sample - loss: 1.3668 - auc_49: 0.7308 - val_loss: 1.4261 - val_auc_49: 0.7370\n",
      "Epoch 3/50\n",
      "196038/196038 [==============================] - 21s 106us/sample - loss: 1.3587 - auc_49: 0.7346 - val_loss: 1.8232 - val_auc_49: 0.7336\n",
      "Epoch 4/50\n",
      "196038/196038 [==============================] - 21s 105us/sample - loss: 1.3521 - auc_49: 0.7370 - val_loss: 1.7679 - val_auc_49: 0.7365\n",
      "Epoch 5/50\n",
      "196038/196038 [==============================] - 21s 106us/sample - loss: 1.3517 - auc_49: 0.7372 - val_loss: 1.9321 - val_auc_49: 0.7373\n",
      "Epoch 6/50\n",
      "196038/196038 [==============================] - 21s 105us/sample - loss: 1.3447 - auc_49: 0.7399 - val_loss: 1.8334 - val_auc_49: 0.7357\n"
     ]
    },
    {
     "name": "stderr",
     "output_type": "stream",
     "text": [
      "\u001b[32m[I 2021-01-05 20:08:33,431]\u001b[0m Trial 49 finished with value: 0.7370289544195239 and parameters: {'step': 4, 'no._units': 221, 'number': 2, 'best_weight': {0: 1.0, 1: 17.0}}. Best is trial 36 with value: 0.7408516980052888.\u001b[0m\n"
     ]
    }
   ],
   "source": [
    "# Extracting the best model parameters and best study score\n",
    "best_study_score,best_study_params = study_best_score_params(X_train_1, y_train_1, X_val, y_val, objective_wrappper_keras_eq_ELU, cl_weight,\n",
    "                                                            n_trials=50)"
   ]
  },
  {
   "cell_type": "code",
   "execution_count": 14,
   "metadata": {},
   "outputs": [
    {
     "name": "stdout",
     "output_type": "stream",
     "text": [
      "The best roc_auc_score for the study is:  0.7408516980052888\n"
     ]
    }
   ],
   "source": [
    "print('The best roc_auc_score for the study is: ',best_study_score)"
   ]
  },
  {
   "cell_type": "code",
   "execution_count": 15,
   "metadata": {},
   "outputs": [
    {
     "name": "stdout",
     "output_type": "stream",
     "text": [
      "The best study parameters for the classifier are:  {'step': 5, 'no._units': 102, 'number': 2, 'best_weight': {0: 1.0, 1: 12.0}}\n"
     ]
    }
   ],
   "source": [
    "print('The best study parameters for the classifier are: ',best_study_params)"
   ]
  },
  {
   "cell_type": "code",
   "execution_count": 17,
   "metadata": {},
   "outputs": [],
   "source": [
    "# loading the best Neural Network\n",
    "Best_Model_elu = keras.models.load_model('Best_model_Elu_eq_Learn.h5')"
   ]
  },
  {
   "cell_type": "code",
   "execution_count": 18,
   "metadata": {},
   "outputs": [
    {
     "name": "stdout",
     "output_type": "stream",
     "text": [
      "Model: \"sequential_36\"\n",
      "_________________________________________________________________\n",
      "Layer (type)                 Output Shape              Param #   \n",
      "=================================================================\n",
      "batch_normalization_147 (Bat (None, 103)               412       \n",
      "_________________________________________________________________\n",
      "dense_147 (Dense)            (None, 102)               10608     \n",
      "_________________________________________________________________\n",
      "batch_normalization_148 (Bat (None, 102)               408       \n",
      "_________________________________________________________________\n",
      "dense_148 (Dense)            (None, 102)               10506     \n",
      "_________________________________________________________________\n",
      "batch_normalization_149 (Bat (None, 102)               408       \n",
      "_________________________________________________________________\n",
      "dense_149 (Dense)            (None, 1)                 103       \n",
      "=================================================================\n",
      "Total params: 22,445\n",
      "Trainable params: 21,831\n",
      "Non-trainable params: 614\n",
      "_________________________________________________________________\n"
     ]
    }
   ],
   "source": [
    "# Printing its summary\n",
    "Best_Model_elu.summary()"
   ]
  },
  {
   "cell_type": "code",
   "execution_count": 19,
   "metadata": {},
   "outputs": [],
   "source": [
    "# Defining the function to calculate the roc_auc score for the feature sets\n",
    "def cal_roc_auc(X, y, cls, f_set, t_set, model_name):\n",
    "    ''' Calculates the roc auc score using the best study parameters \n",
    "        f_set : String: specifies 'full feature', 'Reduced feature'\n",
    "        t_set: String: specifies 'training', 'test'\n",
    "        model_name: String: specifies Name of the model '''\n",
    "        \n",
    "    y_pred = cls.predict_proba(X)\n",
    "    print('The roc_auc_score for the {} {} set using the best {} classifier is '.format(f_set,t_set,model_name),roc_auc_score(y,y_pred))"
   ]
  },
  {
   "cell_type": "code",
   "execution_count": 21,
   "metadata": {},
   "outputs": [
    {
     "name": "stdout",
     "output_type": "stream",
     "text": [
      "The roc_auc_score for the Reduced feature training set using the best Dense Neural Network using ELU activation classifier is  0.7455322275775218\n"
     ]
    }
   ],
   "source": [
    "# Calculating the Reduced feature training set roc_auc score using the pretrained Neural Network having \n",
    "# best study parameters & weights\n",
    "cal_roc_auc(X_train, y_train, Best_Model_elu, 'Reduced feature', 'training', 'Dense Neural Network using ELU activation')"
   ]
  },
  {
   "cell_type": "code",
   "execution_count": 22,
   "metadata": {},
   "outputs": [
    {
     "name": "stdout",
     "output_type": "stream",
     "text": [
      "The roc_auc_score for the Reduced feature test set using the best Dense Neural Network using ELU activation classifier is  0.7453847568202309\n"
     ]
    }
   ],
   "source": [
    "# Calculating the Reduced feature test set roc_auc score using the pretrained Neural Network having \n",
    "# best study parameters & weights\n",
    "cal_roc_auc(X_test, y_test, Best_Model_elu, 'Reduced feature', 'test', 'Dense Neural Network using ELU activation')"
   ]
  },
  {
   "cell_type": "markdown",
   "metadata": {},
   "source": [
    "### Calculating R_R ratio for Best Dense Neural Network with ELU activation & RMS Optimizer"
   ]
  },
  {
   "cell_type": "code",
   "execution_count": 55,
   "metadata": {},
   "outputs": [],
   "source": [
    "# Defining the exponential decay learning rate with step 5.\n",
    "def exponential_decay_fn(epoch):\n",
    "            return 0.01 * 0.1**(epoch /5 )"
   ]
  },
  {
   "cell_type": "code",
   "execution_count": 57,
   "metadata": {},
   "outputs": [],
   "source": [
    "from sklearn.model_selection import StratifiedKFold\n",
    "cv_strat = StratifiedKFold(5,random_state=42)"
   ]
  },
  {
   "cell_type": "code",
   "execution_count": 59,
   "metadata": {},
   "outputs": [
    {
     "name": "stdout",
     "output_type": "stream",
     "text": [
      "WARNING:tensorflow:sample_weight modes were coerced from\n",
      "  ...\n",
      "    to  \n",
      "  ['...']\n",
      "WARNING:tensorflow:sample_weight modes were coerced from\n",
      "  ...\n",
      "    to  \n",
      "  ['...']\n",
      "Train on 156830 samples, validate on 27676 samples\n",
      "Epoch 1/50\n",
      "156830/156830 [==============================] - 19s 121us/sample - loss: 1.1571 - auc_151: 0.7286 - val_loss: 1.1630 - val_auc_151: 0.7339\n",
      "Epoch 2/50\n",
      "156830/156830 [==============================] - 18s 113us/sample - loss: 1.1452 - auc_151: 0.7356 - val_loss: 1.1719 - val_auc_151: 0.7380\n",
      "Epoch 3/50\n",
      "156830/156830 [==============================] - 18s 116us/sample - loss: 1.1378 - auc_151: 0.7399 - val_loss: 1.1306 - val_auc_151: 0.7432\n",
      "Epoch 4/50\n",
      "156830/156830 [==============================] - 18s 113us/sample - loss: 1.1328 - auc_151: 0.7423 - val_loss: 1.1427 - val_auc_151: 0.7415\n",
      "Epoch 5/50\n",
      "156830/156830 [==============================] - 18s 113us/sample - loss: 1.1334 - auc_151: 0.7419 - val_loss: 1.5397 - val_auc_151: 0.7420\n",
      "Epoch 6/50\n",
      "156830/156830 [==============================] - 18s 113us/sample - loss: 1.1320 - auc_151: 0.7420 - val_loss: 1.8849 - val_auc_151: 0.7403\n",
      "Epoch 7/50\n",
      "156830/156830 [==============================] - 18s 112us/sample - loss: 1.1299 - auc_151: 0.7433 - val_loss: 1.1958 - val_auc_151: 0.7398\n",
      "WARNING:tensorflow:sample_weight modes were coerced from\n",
      "  ...\n",
      "    to  \n",
      "  ['...']\n",
      "WARNING:tensorflow:sample_weight modes were coerced from\n",
      "  ...\n",
      "    to  \n",
      "  ['...']\n",
      "Train on 156830 samples, validate on 27676 samples\n",
      "Epoch 1/50\n",
      "156830/156830 [==============================] - 19s 122us/sample - loss: 1.1566 - auc_152: 0.7284 - val_loss: 1.1781 - val_auc_152: 0.7372\n",
      "Epoch 2/50\n",
      "156830/156830 [==============================] - 18s 114us/sample - loss: 1.1504 - auc_152: 0.7324 - val_loss: 1.1822 - val_auc_152: 0.7446\n",
      "Epoch 3/50\n",
      "156830/156830 [==============================] - 18s 117us/sample - loss: 1.1401 - auc_152: 0.7378 - val_loss: 1.1358 - val_auc_152: 0.7454\n",
      "Epoch 4/50\n",
      "156830/156830 [==============================] - 18s 114us/sample - loss: 1.1373 - auc_152: 0.7394 - val_loss: 1.1452 - val_auc_152: 0.7461\n",
      "Epoch 5/50\n",
      "156830/156830 [==============================] - 18s 113us/sample - loss: 1.1411 - auc_152: 0.7365 - val_loss: 1.1440 - val_auc_152: 0.7473\n",
      "Epoch 6/50\n",
      "156830/156830 [==============================] - 18s 114us/sample - loss: 1.1391 - auc_152: 0.7380 - val_loss: 1.1461 - val_auc_152: 0.7468\n",
      "Epoch 7/50\n",
      "156830/156830 [==============================] - 18s 115us/sample - loss: 1.1346 - auc_152: 0.7405 - val_loss: 1.1816 - val_auc_152: 0.7444\n",
      "WARNING:tensorflow:sample_weight modes were coerced from\n",
      "  ...\n",
      "    to  \n",
      "  ['...']\n",
      "WARNING:tensorflow:sample_weight modes were coerced from\n",
      "  ...\n",
      "    to  \n",
      "  ['...']\n",
      "Train on 156830 samples, validate on 27676 samples\n",
      "Epoch 1/50\n",
      "156830/156830 [==============================] - 18s 116us/sample - loss: 1.1639 - auc_153: 0.7237 - val_loss: 1.1467 - val_auc_153: 0.7446\n",
      "Epoch 2/50\n",
      "156830/156830 [==============================] - 17s 107us/sample - loss: 1.1538 - auc_153: 0.7308 - val_loss: 1.2051 - val_auc_153: 0.7407\n",
      "Epoch 3/50\n",
      "156830/156830 [==============================] - 17s 107us/sample - loss: 1.1505 - auc_153: 0.7318 - val_loss: 1.1547 - val_auc_153: 0.7454\n",
      "Epoch 4/50\n",
      "156830/156830 [==============================] - 17s 107us/sample - loss: 1.1435 - auc_153: 0.7353 - val_loss: 1.1517 - val_auc_153: 0.7446\n",
      "Epoch 5/50\n",
      "156830/156830 [==============================] - 17s 108us/sample - loss: 1.1437 - auc_153: 0.7353 - val_loss: 1.1630 - val_auc_153: 0.7457\n",
      "WARNING:tensorflow:sample_weight modes were coerced from\n",
      "  ...\n",
      "    to  \n",
      "  ['...']\n",
      "WARNING:tensorflow:sample_weight modes were coerced from\n",
      "  ...\n",
      "    to  \n",
      "  ['...']\n",
      "Train on 156830 samples, validate on 27677 samples\n",
      "Epoch 1/50\n",
      "156830/156830 [==============================] - 18s 115us/sample - loss: 1.1591 - auc_154: 0.7268 - val_loss: 2.0120 - val_auc_154: 0.7403\n",
      "Epoch 2/50\n",
      "156830/156830 [==============================] - 17s 109us/sample - loss: 1.1532 - auc_154: 0.7314 - val_loss: 1.1609 - val_auc_154: 0.7371\n",
      "Epoch 3/50\n",
      "156830/156830 [==============================] - 17s 109us/sample - loss: 1.1444 - auc_154: 0.7363 - val_loss: 1.2145 - val_auc_154: 0.7459\n",
      "Epoch 4/50\n",
      "156830/156830 [==============================] - 17s 108us/sample - loss: 1.1403 - auc_154: 0.7379 - val_loss: 6.6342 - val_auc_154: 0.7455\n",
      "Epoch 5/50\n",
      "156830/156830 [==============================] - 16s 105us/sample - loss: 1.1386 - auc_154: 0.7384 - val_loss: 1.1612 - val_auc_154: 0.7467\n",
      "Epoch 6/50\n",
      "156830/156830 [==============================] - 17s 107us/sample - loss: 1.1356 - auc_154: 0.7400 - val_loss: 1.5977 - val_auc_154: 0.7450\n",
      "WARNING:tensorflow:sample_weight modes were coerced from\n",
      "  ...\n",
      "    to  \n",
      "  ['...']\n",
      "WARNING:tensorflow:sample_weight modes were coerced from\n",
      "  ...\n",
      "    to  \n",
      "  ['...']\n",
      "Train on 156830 samples, validate on 27677 samples\n",
      "Epoch 1/50\n",
      "156830/156830 [==============================] - 18s 112us/sample - loss: 1.1649 - auc_155: 0.7235 - val_loss: 1.1372 - val_auc_155: 0.7478\n",
      "Epoch 2/50\n",
      "156830/156830 [==============================] - 17s 105us/sample - loss: 1.1467 - auc_155: 0.7342 - val_loss: 1.1219 - val_auc_155: 0.7486\n",
      "Epoch 3/50\n",
      "156830/156830 [==============================] - 16s 104us/sample - loss: 1.1458 - auc_155: 0.7342 - val_loss: 1.1239 - val_auc_155: 0.7507\n",
      "Epoch 4/50\n",
      "156830/156830 [==============================] - 16s 105us/sample - loss: 1.1401 - auc_155: 0.7378 - val_loss: 1.1317 - val_auc_155: 0.7475\n",
      "Epoch 5/50\n",
      "156830/156830 [==============================] - 16s 105us/sample - loss: 1.1394 - auc_155: 0.7376 - val_loss: 1.1259 - val_auc_155: 0.7497\n",
      "Epoch 6/50\n",
      "156830/156830 [==============================] - 16s 104us/sample - loss: 1.1363 - auc_155: 0.7395 - val_loss: 1.1313 - val_auc_155: 0.7494\n"
     ]
    }
   ],
   "source": [
    "# Computing  5 fold  CV predictions on the training set for the Neural Network with ELU activation & RMS Optimizer\n",
    "scores_neural = []\n",
    "for train_index, test_index in cv_strat.split(X_train, y_train):\n",
    "    # Creating  Folds\n",
    "    X_tr, X_tst = X_train.loc[train_index], X_train.loc[test_index]\n",
    "    y_tr, y_tst = y_train.loc[train_index], y_train.loc[test_index]\n",
    "    \n",
    "    # Splitting the Training set further into training & validation set.\n",
    "    X_tr_r, X_val, y_tr_r, y_val = train_test_split(X_tr, y_tr, test_size=0.15, random_state=42, stratify=y_tr)\n",
    "    \n",
    "    # Loading fresh best keras dense model with ELU activation & RMS Optimizer for training on 4 folds\n",
    "    neural = keras.models.load_model('Best_model_Elu_eq_Learn.h5')\n",
    "    \n",
    "    # comiling & Training the Neural Net\n",
    "    neural.compile(loss=\"binary_crossentropy\", optimizer=keras.optimizers.RMSprop(),\n",
    "                   metrics=[tf.keras.metrics.AUC(curve=\"ROC\")])\n",
    "    \n",
    "    # defining Checkpoints\n",
    "    checkpoint_cb = keras.callbacks.ModelCheckpoint('best_model.h5',save_best_only=True) # 1st Callback\n",
    "    early_stopping_cb = keras.callbacks.EarlyStopping(patience=4)# 2nd Callback\n",
    "    lr_scheduler_cb = keras.callbacks.LearningRateScheduler(exponential_decay_fn)# 3rd Callback\n",
    "    \n",
    "    # Fitting The model\n",
    "    neural.fit(X_tr_r, y_tr_r, epochs=50, validation_data=(X_val,y_val),batch_size=32,\n",
    "    class_weight={0: 1.0, 1: 12},callbacks=[checkpoint_cb,early_stopping_cb,lr_scheduler_cb])\n",
    "    \n",
    "    # Loading the best Neural model after training & before making predictions\n",
    "    neural_best = keras.models.load_model('best_model.h5')    \n",
    "    \n",
    "    # Saving the predictions for every fold in the scores list\n",
    "    y_pred = neural_best.predict_proba(X_tst)\n",
    "    scores_neural.append(roc_auc_score(y_tst,y_pred))\n",
    "      "
   ]
  },
  {
   "cell_type": "code",
   "execution_count": 64,
   "metadata": {},
   "outputs": [
    {
     "name": "stdout",
     "output_type": "stream",
     "text": [
      "The reward associated with the best Dense Neural Classifier (with ELU activation & RMS Optimizer) using roc_auc metric is:  0.7389628876551522\n"
     ]
    }
   ],
   "source": [
    "print('The reward associated with the best Dense Neural Classifier (with ELU activation & RMS Optimizer) using roc_auc metric is: ',np.mean(scores_neural))"
   ]
  },
  {
   "cell_type": "code",
   "execution_count": 65,
   "metadata": {},
   "outputs": [
    {
     "name": "stdout",
     "output_type": "stream",
     "text": [
      "The risk associated with the best Dense Neural Classifier (with ELU activation & RMS Optimizer) using roc_auc metric is:  0.0036465761343255983\n"
     ]
    }
   ],
   "source": [
    "print('The risk associated with the best Dense Neural Classifier (with ELU activation & RMS Optimizer) using roc_auc metric is: ',np.std(scores_neural))"
   ]
  },
  {
   "cell_type": "code",
   "execution_count": 63,
   "metadata": {},
   "outputs": [],
   "source": [
    "R_R_Ratio_elu_rms = np.mean(scores_neural)/np.std(scores_neural)"
   ]
  },
  {
   "cell_type": "code",
   "execution_count": 66,
   "metadata": {},
   "outputs": [
    {
     "name": "stdout",
     "output_type": "stream",
     "text": [
      "The reward risk ratio for the best Dense Neural Classifier(with ELU activation & RMS Optimizer) using roc_auc metric is:  202.64567650164165\n"
     ]
    }
   ],
   "source": [
    "print('The reward risk ratio for the best Dense Neural Classifier(with ELU activation & RMS Optimizer) using roc_auc metric is: ',R_R_Ratio_elu_rms)"
   ]
  },
  {
   "cell_type": "code",
   "execution_count": 91,
   "metadata": {},
   "outputs": [
    {
     "name": "stdout",
     "output_type": "stream",
     "text": [
      "5 fold CV roc_auc scores for the best Dense Neural Classifier(with ELU activation & RMS Optimizer) are:  [0.7340358172122319, 0.7392319218339563, 0.7449286066261093, 0.7366216866620908, 0.739996405941373]\n"
     ]
    }
   ],
   "source": [
    "print('5 fold CV roc_auc scores for the best Dense Neural Classifier(with ELU activation & RMS Optimizer) are: ',scores_neural)"
   ]
  },
  {
   "cell_type": "markdown",
   "metadata": {},
   "source": [
    "#### R_R Ratio for the best Dense Neural Classifier (with ELU activation & RMS Optimizer) classifier using roc_auc metric is:  202.64567650164165"
   ]
  },
  {
   "cell_type": "markdown",
   "metadata": {},
   "source": [
    "## Observations:\n",
    "### 1)  The Dense Neural Network(with ELU activation & RMS Optimizer) classifier has fitted the Training set very well, with no overfitting at all . Though it has the highest R_R ratio of all the models fitted till now, its test set roc_auc score is the one of the smallest of the lot.\n",
    "### 2) ELU activation function has clearly well fitted the dataset . May be trying a better optimizer such as Nadam may result in better test set roc_auc score."
   ]
  },
  {
   "cell_type": "markdown",
   "metadata": {},
   "source": [
    "## Model_13: Keras Dense Model with Equal Neurons/layer, ELU Activation, Nadam optimizer & Tuned learning rate."
   ]
  },
  {
   "cell_type": "code",
   "execution_count": 23,
   "metadata": {},
   "outputs": [],
   "source": [
    "# Defining best roc_auc score\n",
    "best_roc_auc = 0"
   ]
  },
  {
   "cell_type": "code",
   "execution_count": 24,
   "metadata": {},
   "outputs": [],
   "source": [
    "# defining the objective function\n",
    "def objective_wrappper_keras_eq_Nadam(X_tr, y_tr, X_val, y_val, cl_w):\n",
    "    '''\n",
    "    Optimizes Keras ,neural net with equal no. of neurons in each layer , best parameters \n",
    "    on the given training set: X_tr, y_tr using validation set: X_val,y_val & class weights: cl_w\n",
    "    \n",
    "    '''\n",
    "\n",
    "    def objective(trial):\n",
    "        s = trial.suggest_int('step',2,6)\n",
    "        def exponential_decay_fn(epoch):\n",
    "            return 0.01 * 0.1**(epoch /s )\n",
    "              \n",
    "        # building model & searching for the best no. of neural units per layer.\n",
    "        no_units = trial.suggest_int('no._units',100,600)# No. of Neurons in each layer\n",
    "        model = keras.models.Sequential()\n",
    "        model.add(keras.layers.InputLayer(input_shape=X_tr.shape[1:]))\n",
    "        model.add(keras.layers.BatchNormalization())# For normalization\n",
    "        for i in range(trial.suggest_int('number',2,6)):\n",
    "            model.add(keras.layers.Dense(units=no_units,activation='elu',\n",
    "                                     kernel_initializer='he_normal'))\n",
    "            model.add(keras.layers.BatchNormalization())# For normalization\n",
    "        model.add(keras.layers.Dense(units=1,activation='sigmoid'))\n",
    "    \n",
    "        # Searching for the best learning rate.\n",
    "        #lr = trial.suggest_float(\"lr\", 1e-5, 1e-1, log=True) \n",
    "    \n",
    "        # Compiling the model\n",
    "        model.compile(loss=\"binary_crossentropy\", optimizer=keras.optimizers.Nadam(beta_1=0.9, beta_2=0.999),\n",
    "                      metrics=[tf.keras.metrics.AUC(curve=\"ROC\")])\n",
    "    \n",
    "        # Defining the Callbacks\n",
    "        checkpoint_cb = keras.callbacks.ModelCheckpoint('best_model.h5',save_best_only=True) # 1st Callback\n",
    "        early_stopping_cb = keras.callbacks.EarlyStopping(patience=4,restore_best_weights=True) # 2nd Callback, Stop if validation score doen't improve for\n",
    "        # 4 epochs        \n",
    "        lr_scheduler_cb = keras.callbacks.LearningRateScheduler(exponential_decay_fn)# 3rd Callback\n",
    "        #tensorboard_cb = keras.callbacks.TensorBoard(get_run_logdir()) \n",
    "        \n",
    "        #Fitting the model\n",
    "        model.fit(X_tr, y_tr, epochs=50, validation_data=(X_val,y_val), batch_size=32,\n",
    "             class_weight=trial.suggest_categorical('best_weight',cl_w),\n",
    "             callbacks=[checkpoint_cb, early_stopping_cb, lr_scheduler_cb])#,tensorboard_cb])\n",
    "    \n",
    "        # Loading the best model \n",
    "        model_best = keras.models.load_model('best_model.h5')\n",
    "    \n",
    "        # Computing the roc_auc_score for the validation set\n",
    "        roc_auc_1 = roc_auc_score(y_val,model_best.predict_proba(X_val))\n",
    "        global best_roc_auc\n",
    "        # Updating best_roc_auc score\n",
    "        if roc_auc_1 > best_roc_auc:\n",
    "            best_roc_auc = roc_auc_1\n",
    "            model_best.save('Best_model_Elu_eq_Learn_nadam.h5')\n",
    "        \n",
    "        return roc_auc_1\n",
    "    \n",
    "    return objective"
   ]
  },
  {
   "cell_type": "code",
   "execution_count": 25,
   "metadata": {},
   "outputs": [
    {
     "name": "stderr",
     "output_type": "stream",
     "text": [
      "\u001b[32m[I 2021-01-05 23:19:25,516]\u001b[0m A new study created in memory with name: no-name-8eacc11f-b1f0-41c8-9efb-5b40f409705d\u001b[0m\n"
     ]
    },
    {
     "name": "stdout",
     "output_type": "stream",
     "text": [
      "WARNING:tensorflow:sample_weight modes were coerced from\n",
      "  ...\n",
      "    to  \n",
      "  ['...']\n",
      "WARNING:tensorflow:sample_weight modes were coerced from\n",
      "  ...\n",
      "    to  \n",
      "  ['...']\n",
      "Train on 196038 samples, validate on 34595 samples\n",
      "Epoch 1/50\n",
      "196038/196038 [==============================] - 44s 227us/sample - loss: 1.1541 - auc: 0.7215 - val_loss: 1.1242 - val_auc: 0.7429\n",
      "Epoch 2/50\n",
      "196038/196038 [==============================] - 43s 217us/sample - loss: 1.1006 - auc: 0.7441 - val_loss: 1.1796 - val_auc: 0.7509\n",
      "Epoch 3/50\n",
      "196038/196038 [==============================] - 42s 214us/sample - loss: 1.0872 - auc: 0.7518 - val_loss: 1.1380 - val_auc: 0.7547\n",
      "Epoch 4/50\n",
      "196038/196038 [==============================] - 42s 214us/sample - loss: 1.0730 - auc: 0.7598 - val_loss: 1.1439 - val_auc: 0.7557\n",
      "Epoch 5/50\n",
      "196038/196038 [==============================] - 42s 213us/sample - loss: 1.0646 - auc: 0.7647 - val_loss: 1.2415 - val_auc: 0.7567\n"
     ]
    },
    {
     "name": "stderr",
     "output_type": "stream",
     "text": [
      "\u001b[32m[I 2021-01-05 23:23:02,880]\u001b[0m Trial 0 finished with value: 0.742829778318869 and parameters: {'step': 4, 'no._units': 475, 'number': 6, 'best_weight': {0: 1.0, 1: 11.38697}}. Best is trial 0 with value: 0.742829778318869.\u001b[0m\n"
     ]
    },
    {
     "name": "stdout",
     "output_type": "stream",
     "text": [
      "WARNING:tensorflow:sample_weight modes were coerced from\n",
      "  ...\n",
      "    to  \n",
      "  ['...']\n",
      "WARNING:tensorflow:sample_weight modes were coerced from\n",
      "  ...\n",
      "    to  \n",
      "  ['...']\n",
      "Train on 196038 samples, validate on 34595 samples\n",
      "Epoch 1/50\n",
      "196038/196038 [==============================] - 38s 191us/sample - loss: 1.2881 - auc_1: 0.7298 - val_loss: 1.3115 - val_auc_1: 0.7387\n",
      "Epoch 2/50\n",
      "196038/196038 [==============================] - 35s 180us/sample - loss: 1.2516 - auc_1: 0.7474 - val_loss: 1.2611 - val_auc_1: 0.7483\n",
      "Epoch 3/50\n",
      "196038/196038 [==============================] - 36s 181us/sample - loss: 1.2399 - auc_1: 0.7534 - val_loss: 3.6865 - val_auc_1: 0.7524\n",
      "Epoch 4/50\n",
      "196038/196038 [==============================] - 36s 182us/sample - loss: 1.2297 - auc_1: 0.7581 - val_loss: 9.6753 - val_auc_1: 0.7465\n",
      "Epoch 5/50\n",
      "196038/196038 [==============================] - 36s 181us/sample - loss: 1.2215 - auc_1: 0.7620 - val_loss: 4.2302 - val_auc_1: 0.7537\n",
      "Epoch 6/50\n",
      "196038/196038 [==============================] - 36s 185us/sample - loss: 1.2196 - auc_1: 0.7629 - val_loss: 17.3467 - val_auc_1: 0.7432\n"
     ]
    },
    {
     "name": "stderr",
     "output_type": "stream",
     "text": [
      "\u001b[32m[I 2021-01-05 23:26:42,346]\u001b[0m Trial 1 finished with value: 0.7482424369295579 and parameters: {'step': 3, 'no._units': 192, 'number': 5, 'best_weight': {0: 1.0, 1: 15.0}}. Best is trial 1 with value: 0.7482424369295579.\u001b[0m\n"
     ]
    },
    {
     "name": "stdout",
     "output_type": "stream",
     "text": [
      "WARNING:tensorflow:sample_weight modes were coerced from\n",
      "  ...\n",
      "    to  \n",
      "  ['...']\n",
      "WARNING:tensorflow:sample_weight modes were coerced from\n",
      "  ...\n",
      "    to  \n",
      "  ['...']\n",
      "Train on 196038 samples, validate on 34595 samples\n",
      "Epoch 1/50\n",
      "196038/196038 [==============================] - 35s 180us/sample - loss: 1.3106 - auc_2: 0.7274 - val_loss: 1.2836 - val_auc_2: 0.7420\n",
      "Epoch 2/50\n",
      "196038/196038 [==============================] - 33s 171us/sample - loss: 1.2496 - auc_2: 0.7486 - val_loss: 1.2896 - val_auc_2: 0.7537\n",
      "Epoch 3/50\n",
      "196038/196038 [==============================] - 33s 170us/sample - loss: 1.2321 - auc_2: 0.7572 - val_loss: 1.2543 - val_auc_2: 0.7542\n",
      "Epoch 4/50\n",
      "196038/196038 [==============================] - 33s 169us/sample - loss: 1.2211 - auc_2: 0.7624 - val_loss: 1.2691 - val_auc_2: 0.7555\n",
      "Epoch 5/50\n",
      "196038/196038 [==============================] - 33s 169us/sample - loss: 1.2166 - auc_2: 0.7645 - val_loss: 1.2509 - val_auc_2: 0.7564\n",
      "Epoch 6/50\n",
      "196038/196038 [==============================] - 33s 170us/sample - loss: 1.2168 - auc_2: 0.7638 - val_loss: 1.2662 - val_auc_2: 0.7541\n",
      "Epoch 7/50\n",
      "196038/196038 [==============================] - 33s 170us/sample - loss: 1.2161 - auc_2: 0.7649 - val_loss: 1.2689 - val_auc_2: 0.7554\n",
      "Epoch 8/50\n",
      "196038/196038 [==============================] - 33s 169us/sample - loss: 1.2160 - auc_2: 0.7647 - val_loss: 1.2496 - val_auc_2: 0.7553\n",
      "Epoch 9/50\n",
      "196038/196038 [==============================] - 33s 170us/sample - loss: 1.2140 - auc_2: 0.7656 - val_loss: 1.2415 - val_auc_2: 0.7556\n",
      "Epoch 10/50\n",
      "196038/196038 [==============================] - 33s 169us/sample - loss: 1.2149 - auc_2: 0.7652 - val_loss: 1.2479 - val_auc_2: 0.7557\n",
      "Epoch 11/50\n",
      "196038/196038 [==============================] - 33s 170us/sample - loss: 1.2155 - auc_2: 0.7647 - val_loss: 1.2398 - val_auc_2: 0.7563\n",
      "Epoch 12/50\n",
      "196038/196038 [==============================] - 33s 168us/sample - loss: 1.2157 - auc_2: 0.7650 - val_loss: 1.2493 - val_auc_2: 0.7548\n",
      "Epoch 13/50\n",
      "196038/196038 [==============================] - 33s 169us/sample - loss: 1.2153 - auc_2: 0.7654 - val_loss: 1.2464 - val_auc_2: 0.7543\n",
      "Epoch 14/50\n",
      "196038/196038 [==============================] - 34s 172us/sample - loss: 1.2156 - auc_2: 0.7649 - val_loss: 1.2485 - val_auc_2: 0.7547\n",
      "Epoch 15/50\n",
      "196038/196038 [==============================] - 34s 171us/sample - loss: 1.2134 - auc_2: 0.7662 - val_loss: 1.2492 - val_auc_2: 0.7558\n"
     ]
    },
    {
     "name": "stderr",
     "output_type": "stream",
     "text": [
      "\u001b[32m[I 2021-01-05 23:35:06,809]\u001b[0m Trial 2 finished with value: 0.7563420520449515 and parameters: {'step': 2, 'no._units': 499, 'number': 4, 'best_weight': {0: 1.0, 1: 15.0}}. Best is trial 2 with value: 0.7563420520449515.\u001b[0m\n"
     ]
    },
    {
     "name": "stdout",
     "output_type": "stream",
     "text": [
      "WARNING:tensorflow:sample_weight modes were coerced from\n",
      "  ...\n",
      "    to  \n",
      "  ['...']\n",
      "WARNING:tensorflow:sample_weight modes were coerced from\n",
      "  ...\n",
      "    to  \n",
      "  ['...']\n",
      "Train on 196038 samples, validate on 34595 samples\n",
      "Epoch 1/50\n",
      "196038/196038 [==============================] - 43s 220us/sample - loss: 1.3508 - auc_3: 0.7226 - val_loss: 1.3338 - val_auc_3: 0.7437\n",
      "Epoch 2/50\n",
      "196038/196038 [==============================] - 42s 215us/sample - loss: 1.2963 - auc_3: 0.7455 - val_loss: 1.3241 - val_auc_3: 0.7491\n",
      "Epoch 3/50\n",
      "196038/196038 [==============================] - 41s 207us/sample - loss: 1.2809 - auc_3: 0.7525 - val_loss: 2231.0200 - val_auc_3: 0.7533\n",
      "Epoch 4/50\n",
      "196038/196038 [==============================] - 41s 210us/sample - loss: 1.2655 - auc_3: 0.7597 - val_loss: 611.4851 - val_auc_3: 0.7518\n",
      "Epoch 5/50\n",
      "196038/196038 [==============================] - 41s 209us/sample - loss: 1.2548 - auc_3: 0.7647 - val_loss: 3867663.0739 - val_auc_3: 0.7408\n",
      "Epoch 6/50\n",
      "196038/196038 [==============================] - 41s 208us/sample - loss: 1.2454 - auc_3: 0.7685 - val_loss: 17816796.2648 - val_auc_3: 0.7415\n"
     ]
    },
    {
     "name": "stderr",
     "output_type": "stream",
     "text": [
      "\u001b[32m[I 2021-01-05 23:39:19,555]\u001b[0m Trial 3 finished with value: 0.7490536458659474 and parameters: {'step': 4, 'no._units': 387, 'number': 6, 'best_weight': {0: 1.0, 1: 16.0}}. Best is trial 2 with value: 0.7563420520449515.\u001b[0m\n"
     ]
    },
    {
     "name": "stdout",
     "output_type": "stream",
     "text": [
      "WARNING:tensorflow:sample_weight modes were coerced from\n",
      "  ...\n",
      "    to  \n",
      "  ['...']\n",
      "WARNING:tensorflow:sample_weight modes were coerced from\n",
      "  ...\n",
      "    to  \n",
      "  ['...']\n",
      "Train on 196038 samples, validate on 34595 samples\n",
      "Epoch 1/50\n",
      "196038/196038 [==============================] - 34s 173us/sample - loss: 1.2203 - auc_4: 0.7239 - val_loss: 1.2071 - val_auc_4: 0.7393\n",
      "Epoch 2/50\n",
      "196038/196038 [==============================] - 32s 164us/sample - loss: 1.1750 - auc_4: 0.7450 - val_loss: 1.1992 - val_auc_4: 0.7529\n",
      "Epoch 3/50\n",
      "196038/196038 [==============================] - 32s 164us/sample - loss: 1.1571 - auc_4: 0.7540 - val_loss: 1.2066 - val_auc_4: 0.7551\n",
      "Epoch 4/50\n",
      "196038/196038 [==============================] - 32s 164us/sample - loss: 1.1464 - auc_4: 0.7595 - val_loss: 1.3911 - val_auc_4: 0.7543\n",
      "Epoch 5/50\n",
      "196038/196038 [==============================] - 32s 164us/sample - loss: 1.1354 - auc_4: 0.7654 - val_loss: 1.1697 - val_auc_4: 0.7540\n",
      "Epoch 6/50\n",
      "196038/196038 [==============================] - 32s 164us/sample - loss: 1.1281 - auc_4: 0.7690 - val_loss: 147.5548 - val_auc_4: 0.7557\n",
      "Epoch 7/50\n",
      "196038/196038 [==============================] - 32s 164us/sample - loss: 1.1206 - auc_4: 0.7726 - val_loss: 65.8069 - val_auc_4: 0.7542\n",
      "Epoch 8/50\n",
      "196038/196038 [==============================] - 32s 162us/sample - loss: 1.1135 - auc_4: 0.7763 - val_loss: 9.9998 - val_auc_4: 0.7525\n",
      "Epoch 9/50\n",
      "196038/196038 [==============================] - 32s 165us/sample - loss: 1.1118 - auc_4: 0.7770 - val_loss: 157.0260 - val_auc_4: 0.7518\n"
     ]
    },
    {
     "name": "stderr",
     "output_type": "stream",
     "text": [
      "\u001b[32m[I 2021-01-05 23:44:13,764]\u001b[0m Trial 4 finished with value: 0.7539990155251028 and parameters: {'step': 5, 'no._units': 449, 'number': 4, 'best_weight': {0: 1.0, 1: 13.0}}. Best is trial 2 with value: 0.7563420520449515.\u001b[0m\n"
     ]
    },
    {
     "name": "stdout",
     "output_type": "stream",
     "text": [
      "WARNING:tensorflow:sample_weight modes were coerced from\n",
      "  ...\n",
      "    to  \n",
      "  ['...']\n",
      "WARNING:tensorflow:sample_weight modes were coerced from\n",
      "  ...\n",
      "    to  \n",
      "  ['...']\n",
      "Train on 196038 samples, validate on 34595 samples\n",
      "Epoch 1/50\n",
      "196038/196038 [==============================] - 31s 156us/sample - loss: 1.3035 - auc_5: 0.7275 - val_loss: 1.3272 - val_auc_5: 0.7487\n",
      "Epoch 2/50\n",
      "196038/196038 [==============================] - 29s 149us/sample - loss: 1.2509 - auc_5: 0.7484 - val_loss: 1.2609 - val_auc_5: 0.7509\n",
      "Epoch 3/50\n",
      "196038/196038 [==============================] - 29s 149us/sample - loss: 1.2337 - auc_5: 0.7567 - val_loss: 1.3440 - val_auc_5: 0.7518\n",
      "Epoch 4/50\n",
      "196038/196038 [==============================] - 29s 149us/sample - loss: 1.2206 - auc_5: 0.7626 - val_loss: 1.2974 - val_auc_5: 0.7537\n",
      "Epoch 5/50\n",
      "196038/196038 [==============================] - 29s 149us/sample - loss: 1.2098 - auc_5: 0.7678 - val_loss: 1.3463 - val_auc_5: 0.7543\n",
      "Epoch 6/50\n",
      "196038/196038 [==============================] - 29s 149us/sample - loss: 1.2043 - auc_5: 0.7703 - val_loss: 1.4631 - val_auc_5: 0.7536\n"
     ]
    },
    {
     "name": "stderr",
     "output_type": "stream",
     "text": [
      "\u001b[32m[I 2021-01-05 23:47:12,979]\u001b[0m Trial 5 finished with value: 0.7509153092421369 and parameters: {'step': 3, 'no._units': 499, 'number': 3, 'best_weight': {0: 1.0, 1: 15.0}}. Best is trial 2 with value: 0.7563420520449515.\u001b[0m\n"
     ]
    },
    {
     "name": "stdout",
     "output_type": "stream",
     "text": [
      "WARNING:tensorflow:sample_weight modes were coerced from\n",
      "  ...\n",
      "    to  \n",
      "  ['...']\n",
      "WARNING:tensorflow:sample_weight modes were coerced from\n",
      "  ...\n",
      "    to  \n",
      "  ['...']\n",
      "Train on 196038 samples, validate on 34595 samples\n",
      "Epoch 1/50\n",
      "196038/196038 [==============================] - 42s 214us/sample - loss: 1.1326 - auc_6: 0.7268 - val_loss: 1.0938 - val_auc_6: 0.7489\n",
      "Epoch 2/50\n",
      "196038/196038 [==============================] - 39s 201us/sample - loss: 1.0947 - auc_6: 0.7482 - val_loss: 87032.9278 - val_auc_6: 0.7501\n",
      "Epoch 3/50\n",
      "196038/196038 [==============================] - 40s 204us/sample - loss: 1.0820 - auc_6: 0.7546 - val_loss: 8942.6586 - val_auc_6: 0.7553\n",
      "Epoch 4/50\n",
      "196038/196038 [==============================] - 40s 204us/sample - loss: 1.0709 - auc_6: 0.7609 - val_loss: 4617624.2525 - val_auc_6: 0.7449\n",
      "Epoch 5/50\n",
      "196038/196038 [==============================] - 40s 202us/sample - loss: 1.0638 - auc_6: 0.7649 - val_loss: 9310.2585 - val_auc_6: 0.7572\n"
     ]
    },
    {
     "name": "stderr",
     "output_type": "stream",
     "text": [
      "\u001b[32m[I 2021-01-05 23:50:37,627]\u001b[0m Trial 6 finished with value: 0.7488811004394741 and parameters: {'step': 4, 'no._units': 237, 'number': 6, 'best_weight': {0: 1.0, 1: 11.38697}}. Best is trial 2 with value: 0.7563420520449515.\u001b[0m\n"
     ]
    },
    {
     "name": "stdout",
     "output_type": "stream",
     "text": [
      "WARNING:tensorflow:sample_weight modes were coerced from\n",
      "  ...\n",
      "    to  \n",
      "  ['...']\n",
      "WARNING:tensorflow:sample_weight modes were coerced from\n",
      "  ...\n",
      "    to  \n",
      "  ['...']\n",
      "Train on 196038 samples, validate on 34595 samples\n",
      "Epoch 1/50\n",
      "196038/196038 [==============================] - 38s 193us/sample - loss: 1.1683 - auc_7: 0.7262 - val_loss: 1.2450 - val_auc_7: 0.7437\n",
      "Epoch 2/50\n",
      "196038/196038 [==============================] - 35s 179us/sample - loss: 1.1294 - auc_7: 0.7446 - val_loss: 3987.8473 - val_auc_7: 0.7495\n",
      "Epoch 3/50\n",
      "196038/196038 [==============================] - 35s 179us/sample - loss: 1.1191 - auc_7: 0.7502 - val_loss: 22261.4778 - val_auc_7: 0.7556\n",
      "Epoch 4/50\n",
      "196038/196038 [==============================] - 36s 182us/sample - loss: 1.1064 - auc_7: 0.7567 - val_loss: 97910.1626 - val_auc_7: 0.7479\n",
      "Epoch 5/50\n",
      "196038/196038 [==============================] - 36s 184us/sample - loss: 1.0965 - auc_7: 0.7623 - val_loss: 318951.3008 - val_auc_7: 0.7475\n"
     ]
    },
    {
     "name": "stderr",
     "output_type": "stream",
     "text": [
      "\u001b[32m[I 2021-01-05 23:53:40,773]\u001b[0m Trial 7 finished with value: 0.7435830855765195 and parameters: {'step': 5, 'no._units': 338, 'number': 5, 'best_weight': {0: 1.0, 1: 12.0}}. Best is trial 2 with value: 0.7563420520449515.\u001b[0m\n"
     ]
    },
    {
     "name": "stdout",
     "output_type": "stream",
     "text": [
      "WARNING:tensorflow:sample_weight modes were coerced from\n",
      "  ...\n",
      "    to  \n",
      "  ['...']\n",
      "WARNING:tensorflow:sample_weight modes were coerced from\n",
      "  ...\n",
      "    to  \n",
      "  ['...']\n",
      "Train on 196038 samples, validate on 34595 samples\n",
      "Epoch 1/50\n",
      "196038/196038 [==============================] - 30s 153us/sample - loss: 1.2514 - auc_8: 0.7285 - val_loss: 1.2583 - val_auc_8: 0.7413\n",
      "Epoch 2/50\n",
      "196038/196038 [==============================] - 28s 145us/sample - loss: 1.2155 - auc_8: 0.7456 - val_loss: 1.8039 - val_auc_8: 0.7457\n",
      "Epoch 3/50\n",
      "196038/196038 [==============================] - 28s 143us/sample - loss: 1.2002 - auc_8: 0.7531 - val_loss: 1.7188 - val_auc_8: 0.7542\n",
      "Epoch 4/50\n",
      "196038/196038 [==============================] - 28s 142us/sample - loss: 1.1918 - auc_8: 0.7577 - val_loss: 162.4152 - val_auc_8: 0.7501\n",
      "Epoch 5/50\n",
      "196038/196038 [==============================] - 28s 145us/sample - loss: 1.1806 - auc_8: 0.7635 - val_loss: 4.3961 - val_auc_8: 0.7554\n"
     ]
    },
    {
     "name": "stderr",
     "output_type": "stream",
     "text": [
      "\u001b[32m[I 2021-01-05 23:56:06,460]\u001b[0m Trial 8 finished with value: 0.7413319002808575 and parameters: {'step': 6, 'no._units': 324, 'number': 3, 'best_weight': {0: 1.0, 1: 14.0}}. Best is trial 2 with value: 0.7563420520449515.\u001b[0m\n"
     ]
    },
    {
     "name": "stdout",
     "output_type": "stream",
     "text": [
      "WARNING:tensorflow:sample_weight modes were coerced from\n",
      "  ...\n",
      "    to  \n",
      "  ['...']\n",
      "WARNING:tensorflow:sample_weight modes were coerced from\n",
      "  ...\n",
      "    to  \n",
      "  ['...']\n",
      "Train on 196038 samples, validate on 34595 samples\n",
      "Epoch 1/50\n",
      "196038/196038 [==============================] - 42s 212us/sample - loss: 1.2228 - auc_9: 0.7249 - val_loss: 1.2146 - val_auc_9: 0.7476\n",
      "Epoch 2/50\n",
      "196038/196038 [==============================] - 39s 199us/sample - loss: 1.1646 - auc_9: 0.7495 - val_loss: 1.1786 - val_auc_9: 0.7548\n",
      "Epoch 3/50\n",
      "196038/196038 [==============================] - 39s 199us/sample - loss: 1.1483 - auc_9: 0.7582 - val_loss: 1.1597 - val_auc_9: 0.7565\n",
      "Epoch 4/50\n",
      "196038/196038 [==============================] - 39s 199us/sample - loss: 1.1398 - auc_9: 0.7630 - val_loss: 1.2779 - val_auc_9: 0.7572\n",
      "Epoch 5/50\n",
      "196038/196038 [==============================] - 39s 200us/sample - loss: 1.1338 - auc_9: 0.7657 - val_loss: 1.1539 - val_auc_9: 0.7569\n",
      "Epoch 6/50\n",
      "196038/196038 [==============================] - 39s 200us/sample - loss: 1.1325 - auc_9: 0.7664 - val_loss: 1.1532 - val_auc_9: 0.7569\n",
      "Epoch 7/50\n",
      "196038/196038 [==============================] - 39s 200us/sample - loss: 1.1328 - auc_9: 0.7666 - val_loss: 1.1919 - val_auc_9: 0.7564\n",
      "Epoch 8/50\n",
      "196038/196038 [==============================] - 39s 200us/sample - loss: 1.1300 - auc_9: 0.7678 - val_loss: 1.1538 - val_auc_9: 0.7569\n",
      "Epoch 9/50\n",
      "196038/196038 [==============================] - 39s 198us/sample - loss: 1.1317 - auc_9: 0.7667 - val_loss: 1.1713 - val_auc_9: 0.7568\n",
      "Epoch 10/50\n",
      "196038/196038 [==============================] - 39s 199us/sample - loss: 1.1309 - auc_9: 0.7674 - val_loss: 1.1566 - val_auc_9: 0.7567\n"
     ]
    },
    {
     "name": "stderr",
     "output_type": "stream",
     "text": [
      "\u001b[32m[I 2021-01-06 00:02:43,808]\u001b[0m Trial 9 finished with value: 0.756947942506684 and parameters: {'step': 2, 'no._units': 561, 'number': 5, 'best_weight': {0: 1.0, 1: 13.0}}. Best is trial 9 with value: 0.756947942506684.\u001b[0m\n"
     ]
    },
    {
     "name": "stdout",
     "output_type": "stream",
     "text": [
      "WARNING:tensorflow:sample_weight modes were coerced from\n",
      "  ...\n",
      "    to  \n",
      "  ['...']\n",
      "WARNING:tensorflow:sample_weight modes were coerced from\n",
      "  ...\n",
      "    to  \n",
      "  ['...']\n",
      "Train on 196038 samples, validate on 34595 samples\n",
      "Epoch 1/50\n",
      "196038/196038 [==============================] - 26s 133us/sample - loss: 1.4252 - auc_10: 0.7261 - val_loss: 1.4167 - val_auc_10: 0.7467\n",
      "Epoch 2/50\n",
      "196038/196038 [==============================] - 25s 127us/sample - loss: 1.3581 - auc_10: 0.7491 - val_loss: 1.4301 - val_auc_10: 0.7496\n",
      "Epoch 3/50\n",
      "196038/196038 [==============================] - 25s 125us/sample - loss: 1.3381 - auc_10: 0.7577 - val_loss: 1.3828 - val_auc_10: 0.7539\n",
      "Epoch 4/50\n",
      "196038/196038 [==============================] - 25s 127us/sample - loss: 1.3287 - auc_10: 0.7621 - val_loss: 1.4179 - val_auc_10: 0.7555\n",
      "Epoch 5/50\n",
      "196038/196038 [==============================] - 25s 127us/sample - loss: 1.3257 - auc_10: 0.7630 - val_loss: 1.3710 - val_auc_10: 0.7550\n",
      "Epoch 6/50\n",
      "196038/196038 [==============================] - 25s 128us/sample - loss: 1.3220 - auc_10: 0.7647 - val_loss: 1.3622 - val_auc_10: 0.7550\n",
      "Epoch 7/50\n",
      "196038/196038 [==============================] - 25s 128us/sample - loss: 1.3218 - auc_10: 0.7648 - val_loss: 1.3675 - val_auc_10: 0.7546\n",
      "Epoch 8/50\n",
      "196038/196038 [==============================] - 25s 127us/sample - loss: 1.3213 - auc_10: 0.7653 - val_loss: 1.3755 - val_auc_10: 0.7545\n",
      "Epoch 9/50\n",
      "196038/196038 [==============================] - 25s 126us/sample - loss: 1.3221 - auc_10: 0.7645 - val_loss: 1.3689 - val_auc_10: 0.7553\n",
      "Epoch 10/50\n",
      "196038/196038 [==============================] - 25s 125us/sample - loss: 1.3231 - auc_10: 0.7640 - val_loss: 1.3686 - val_auc_10: 0.7550\n"
     ]
    },
    {
     "name": "stderr",
     "output_type": "stream",
     "text": [
      "\u001b[32m[I 2021-01-06 00:06:55,645]\u001b[0m Trial 10 finished with value: 0.7550142088220273 and parameters: {'step': 2, 'no._units': 593, 'number': 2, 'best_weight': {0: 1.0, 1: 18.0}}. Best is trial 9 with value: 0.756947942506684.\u001b[0m\n"
     ]
    },
    {
     "name": "stdout",
     "output_type": "stream",
     "text": [
      "WARNING:tensorflow:sample_weight modes were coerced from\n",
      "  ...\n",
      "    to  \n",
      "  ['...']\n",
      "WARNING:tensorflow:sample_weight modes were coerced from\n",
      "  ...\n",
      "    to  \n",
      "  ['...']\n",
      "Train on 196038 samples, validate on 34595 samples\n",
      "Epoch 1/50\n",
      "196038/196038 [==============================] - 36s 183us/sample - loss: 1.3952 - auc_11: 0.7247 - val_loss: 1.4347 - val_auc_11: 0.7465\n",
      "Epoch 2/50\n",
      "196038/196038 [==============================] - 34s 171us/sample - loss: 1.3280 - auc_11: 0.7474 - val_loss: 1.3322 - val_auc_11: 0.7509\n",
      "Epoch 3/50\n",
      "196038/196038 [==============================] - 33s 171us/sample - loss: 1.3077 - auc_11: 0.7564 - val_loss: 1.3147 - val_auc_11: 0.7556\n",
      "Epoch 4/50\n",
      "196038/196038 [==============================] - 33s 171us/sample - loss: 1.2948 - auc_11: 0.7625 - val_loss: 1.3156 - val_auc_11: 0.7546\n",
      "Epoch 5/50\n",
      "196038/196038 [==============================] - 34s 171us/sample - loss: 1.2895 - auc_11: 0.7645 - val_loss: 1.3156 - val_auc_11: 0.7545\n",
      "Epoch 6/50\n",
      "196038/196038 [==============================] - 34s 171us/sample - loss: 1.2879 - auc_11: 0.7652 - val_loss: 1.3282 - val_auc_11: 0.7548\n",
      "Epoch 7/50\n",
      "196038/196038 [==============================] - 34s 172us/sample - loss: 1.2878 - auc_11: 0.7653 - val_loss: 1.3158 - val_auc_11: 0.7543\n"
     ]
    },
    {
     "name": "stderr",
     "output_type": "stream",
     "text": [
      "\u001b[32m[I 2021-01-06 00:10:56,096]\u001b[0m Trial 11 finished with value: 0.7556316616061522 and parameters: {'step': 2, 'no._units': 599, 'number': 4, 'best_weight': {0: 1.0, 1: 17.0}}. Best is trial 9 with value: 0.756947942506684.\u001b[0m\n"
     ]
    },
    {
     "name": "stdout",
     "output_type": "stream",
     "text": [
      "WARNING:tensorflow:sample_weight modes were coerced from\n",
      "  ...\n",
      "    to  \n",
      "  ['...']\n",
      "WARNING:tensorflow:sample_weight modes were coerced from\n",
      "  ...\n",
      "    to  \n",
      "  ['...']\n",
      "Train on 196038 samples, validate on 34595 samples\n",
      "Epoch 1/50\n",
      "196038/196038 [==============================] - 41s 210us/sample - loss: 1.2288 - auc_12: 0.7225 - val_loss: 1.2410 - val_auc_12: 0.7412\n",
      "Epoch 2/50\n",
      "196038/196038 [==============================] - 39s 198us/sample - loss: 1.1667 - auc_12: 0.7487 - val_loss: 3.5554 - val_auc_12: 0.7518\n",
      "Epoch 3/50\n",
      "196038/196038 [==============================] - 39s 198us/sample - loss: 1.1533 - auc_12: 0.7553 - val_loss: 4.4874 - val_auc_12: 0.7504\n",
      "Epoch 4/50\n",
      "196038/196038 [==============================] - 39s 198us/sample - loss: 1.1439 - auc_12: 0.7605 - val_loss: 5.7640 - val_auc_12: 0.7518\n",
      "Epoch 5/50\n",
      "196038/196038 [==============================] - 39s 198us/sample - loss: 1.1394 - auc_12: 0.7627 - val_loss: 2.3271 - val_auc_12: 0.7517\n"
     ]
    },
    {
     "name": "stderr",
     "output_type": "stream",
     "text": [
      "\u001b[32m[I 2021-01-06 00:14:15,979]\u001b[0m Trial 12 finished with value: 0.7411860202493079 and parameters: {'step': 2, 'no._units': 544, 'number': 5, 'best_weight': {0: 1.0, 1: 13.0}}. Best is trial 9 with value: 0.756947942506684.\u001b[0m\n"
     ]
    },
    {
     "name": "stdout",
     "output_type": "stream",
     "text": [
      "WARNING:tensorflow:sample_weight modes were coerced from\n",
      "  ...\n",
      "    to  \n",
      "  ['...']\n",
      "WARNING:tensorflow:sample_weight modes were coerced from\n",
      "  ...\n",
      "    to  \n",
      "  ['...']\n",
      "Train on 196038 samples, validate on 34595 samples\n",
      "Epoch 1/50\n",
      "196038/196038 [==============================] - 31s 159us/sample - loss: 1.3180 - auc_13: 0.7249 - val_loss: 1.2727 - val_auc_13: 0.7467\n",
      "Epoch 2/50\n",
      "196038/196038 [==============================] - 29s 148us/sample - loss: 1.2543 - auc_13: 0.7469 - val_loss: 88.3716 - val_auc_13: 0.7460\n",
      "Epoch 3/50\n",
      "196038/196038 [==============================] - 29s 148us/sample - loss: 1.2346 - auc_13: 0.7561 - val_loss: 2.4572 - val_auc_13: 0.7557\n",
      "Epoch 4/50\n",
      "196038/196038 [==============================] - 29s 149us/sample - loss: 1.2199 - auc_13: 0.7628 - val_loss: 4.9547 - val_auc_13: 0.7580\n",
      "Epoch 5/50\n",
      "196038/196038 [==============================] - 29s 147us/sample - loss: 1.2105 - auc_13: 0.7671 - val_loss: 4.0281 - val_auc_13: 0.7537\n"
     ]
    },
    {
     "name": "stderr",
     "output_type": "stream",
     "text": [
      "\u001b[32m[I 2021-01-06 00:16:45,864]\u001b[0m Trial 13 finished with value: 0.7466875128471812 and parameters: {'step': 3, 'no._units': 600, 'number': 3, 'best_weight': {0: 1.0, 1: 15.0}}. Best is trial 9 with value: 0.756947942506684.\u001b[0m\n"
     ]
    },
    {
     "name": "stdout",
     "output_type": "stream",
     "text": [
      "WARNING:tensorflow:sample_weight modes were coerced from\n",
      "  ...\n",
      "    to  \n",
      "  ['...']\n",
      "WARNING:tensorflow:sample_weight modes were coerced from\n",
      "  ...\n",
      "    to  \n",
      "  ['...']\n",
      "Train on 196038 samples, validate on 34595 samples\n",
      "Epoch 1/50\n",
      "196038/196038 [==============================] - 38s 195us/sample - loss: 1.2198 - auc_14: 0.7264 - val_loss: 1.1950 - val_auc_14: 0.7458\n",
      "Epoch 2/50\n",
      "196038/196038 [==============================] - 36s 181us/sample - loss: 1.1641 - auc_14: 0.7502 - val_loss: 1.1704 - val_auc_14: 0.7531\n",
      "Epoch 3/50\n",
      "196038/196038 [==============================] - 36s 183us/sample - loss: 1.1478 - auc_14: 0.7587 - val_loss: 1.1670 - val_auc_14: 0.7549\n",
      "Epoch 4/50\n",
      "196038/196038 [==============================] - 37s 189us/sample - loss: 1.1377 - auc_14: 0.7641 - val_loss: 1.1560 - val_auc_14: 0.7562\n",
      "Epoch 5/50\n",
      "196038/196038 [==============================] - 36s 185us/sample - loss: 1.1328 - auc_14: 0.7664 - val_loss: 1.1640 - val_auc_14: 0.7551\n",
      "Epoch 6/50\n",
      "196038/196038 [==============================] - 37s 186us/sample - loss: 1.1336 - auc_14: 0.7660 - val_loss: 1.1587 - val_auc_14: 0.7562\n",
      "Epoch 7/50\n",
      "196038/196038 [==============================] - 37s 187us/sample - loss: 1.1312 - auc_14: 0.7673 - val_loss: 1.1608 - val_auc_14: 0.7556\n",
      "Epoch 8/50\n",
      "196038/196038 [==============================] - 37s 186us/sample - loss: 1.1303 - auc_14: 0.7679 - val_loss: 1.1704 - val_auc_14: 0.7570\n"
     ]
    },
    {
     "name": "stderr",
     "output_type": "stream",
     "text": [
      "\u001b[32m[I 2021-01-06 00:21:42,122]\u001b[0m Trial 14 finished with value: 0.7561703847695459 and parameters: {'step': 2, 'no._units': 408, 'number': 5, 'best_weight': {0: 1.0, 1: 13.0}}. Best is trial 9 with value: 0.756947942506684.\u001b[0m\n"
     ]
    },
    {
     "name": "stdout",
     "output_type": "stream",
     "text": [
      "WARNING:tensorflow:sample_weight modes were coerced from\n",
      "  ...\n",
      "    to  \n",
      "  ['...']\n",
      "WARNING:tensorflow:sample_weight modes were coerced from\n",
      "  ...\n",
      "    to  \n",
      "  ['...']\n",
      "Train on 196038 samples, validate on 34595 samples\n",
      "Epoch 1/50\n",
      "196038/196038 [==============================] - 36s 185us/sample - loss: 1.1772 - auc_15: 0.7259 - val_loss: 1.2068 - val_auc_15: 0.7425\n",
      "Epoch 2/50\n",
      "196038/196038 [==============================] - 34s 173us/sample - loss: 1.1258 - auc_15: 0.7465 - val_loss: 1.1325 - val_auc_15: 0.7481\n",
      "Epoch 3/50\n",
      "196038/196038 [==============================] - 34s 173us/sample - loss: 1.1092 - auc_15: 0.7555 - val_loss: 1.1147 - val_auc_15: 0.7570\n",
      "Epoch 4/50\n",
      "196038/196038 [==============================] - 34s 173us/sample - loss: 1.0954 - auc_15: 0.7632 - val_loss: 1.1466 - val_auc_15: 0.7566\n",
      "Epoch 5/50\n",
      "196038/196038 [==============================] - 34s 173us/sample - loss: 1.0871 - auc_15: 0.7676 - val_loss: 1.2817 - val_auc_15: 0.7558\n",
      "Epoch 6/50\n",
      "196038/196038 [==============================] - 34s 172us/sample - loss: 1.0830 - auc_15: 0.7696 - val_loss: 1.1703 - val_auc_15: 0.7554\n",
      "Epoch 7/50\n",
      "196038/196038 [==============================] - 34s 171us/sample - loss: 1.0801 - auc_15: 0.7709 - val_loss: 1.2568 - val_auc_15: 0.7543\n"
     ]
    },
    {
     "name": "stderr",
     "output_type": "stream",
     "text": [
      "\u001b[32m[I 2021-01-06 00:25:44,368]\u001b[0m Trial 15 finished with value: 0.7570504441271543 and parameters: {'step': 3, 'no._units': 526, 'number': 4, 'best_weight': {0: 1.0, 1: 12.0}}. Best is trial 15 with value: 0.7570504441271543.\u001b[0m\n"
     ]
    },
    {
     "name": "stdout",
     "output_type": "stream",
     "text": [
      "WARNING:tensorflow:sample_weight modes were coerced from\n",
      "  ...\n",
      "    to  \n",
      "  ['...']\n",
      "WARNING:tensorflow:sample_weight modes were coerced from\n",
      "  ...\n",
      "    to  \n",
      "  ['...']\n",
      "Train on 196038 samples, validate on 34595 samples\n",
      "Epoch 1/50\n",
      "196038/196038 [==============================] - 41s 209us/sample - loss: 1.1787 - auc_16: 0.7237 - val_loss: 1.5662 - val_auc_16: 0.7362\n",
      "Epoch 2/50\n",
      "196038/196038 [==============================] - 38s 195us/sample - loss: 1.1243 - auc_16: 0.7470 - val_loss: 672.8440 - val_auc_16: 0.7481\n",
      "Epoch 3/50\n",
      "196038/196038 [==============================] - 38s 194us/sample - loss: 1.1123 - auc_16: 0.7539 - val_loss: 470386.8845 - val_auc_16: 0.7516\n",
      "Epoch 4/50\n",
      "196038/196038 [==============================] - 38s 192us/sample - loss: 1.0988 - auc_16: 0.7613 - val_loss: 60238645.2244 - val_auc_16: 0.7571\n",
      "Epoch 5/50\n",
      "196038/196038 [==============================] - 38s 194us/sample - loss: 1.0917 - auc_16: 0.7648 - val_loss: 61916953.9769 - val_auc_16: 0.7473\n"
     ]
    },
    {
     "name": "stderr",
     "output_type": "stream",
     "text": [
      "\u001b[32m[I 2021-01-06 00:29:01,132]\u001b[0m Trial 16 finished with value: 0.7361985950348483 and parameters: {'step': 3, 'no._units': 543, 'number': 5, 'best_weight': {0: 1.0, 1: 12.0}}. Best is trial 15 with value: 0.7570504441271543.\u001b[0m\n"
     ]
    },
    {
     "name": "stdout",
     "output_type": "stream",
     "text": [
      "WARNING:tensorflow:sample_weight modes were coerced from\n",
      "  ...\n",
      "    to  \n",
      "  ['...']\n",
      "WARNING:tensorflow:sample_weight modes were coerced from\n",
      "  ...\n",
      "    to  \n",
      "  ['...']\n",
      "Train on 196038 samples, validate on 34595 samples\n",
      "Epoch 1/50\n",
      "196038/196038 [==============================] - 25s 126us/sample - loss: 1.1733 - auc_17: 0.7277 - val_loss: 1.1857 - val_auc_17: 0.7329\n",
      "Epoch 2/50\n",
      "196038/196038 [==============================] - 24s 121us/sample - loss: 1.1236 - auc_17: 0.7478 - val_loss: 1.1808 - val_auc_17: 0.7558\n",
      "Epoch 3/50\n",
      "196038/196038 [==============================] - 24s 121us/sample - loss: 1.1059 - auc_17: 0.7575 - val_loss: 1.1096 - val_auc_17: 0.7570\n",
      "Epoch 4/50\n",
      "196038/196038 [==============================] - 23s 120us/sample - loss: 1.0946 - auc_17: 0.7636 - val_loss: 1.1154 - val_auc_17: 0.7557\n",
      "Epoch 5/50\n",
      "196038/196038 [==============================] - 24s 120us/sample - loss: 1.0852 - auc_17: 0.7683 - val_loss: 1.1101 - val_auc_17: 0.7566\n",
      "Epoch 6/50\n",
      "196038/196038 [==============================] - 23s 119us/sample - loss: 1.0800 - auc_17: 0.7709 - val_loss: 1.1179 - val_auc_17: 0.7564\n",
      "Epoch 7/50\n",
      "196038/196038 [==============================] - 24s 120us/sample - loss: 1.0778 - auc_17: 0.7720 - val_loss: 1.1172 - val_auc_17: 0.7562\n"
     ]
    },
    {
     "name": "stderr",
     "output_type": "stream",
     "text": [
      "\u001b[32m[I 2021-01-06 00:31:49,584]\u001b[0m Trial 17 finished with value: 0.756993054703205 and parameters: {'step': 3, 'no._units': 551, 'number': 2, 'best_weight': {0: 1.0, 1: 12.0}}. Best is trial 15 with value: 0.7570504441271543.\u001b[0m\n"
     ]
    },
    {
     "name": "stdout",
     "output_type": "stream",
     "text": [
      "WARNING:tensorflow:sample_weight modes were coerced from\n",
      "  ...\n",
      "    to  \n",
      "  ['...']\n",
      "WARNING:tensorflow:sample_weight modes were coerced from\n",
      "  ...\n",
      "    to  \n",
      "  ['...']\n",
      "Train on 196038 samples, validate on 34595 samples\n",
      "Epoch 1/50\n",
      "196038/196038 [==============================] - 24s 124us/sample - loss: 1.1575 - auc_18: 0.7312 - val_loss: 1.4111 - val_auc_18: 0.7418\n",
      "Epoch 2/50\n",
      "196038/196038 [==============================] - 23s 115us/sample - loss: 1.1176 - auc_18: 0.7503 - val_loss: 1.1270 - val_auc_18: 0.7502\n",
      "Epoch 3/50\n",
      "196038/196038 [==============================] - 22s 114us/sample - loss: 1.1036 - auc_18: 0.7585 - val_loss: 1.1210 - val_auc_18: 0.7557\n",
      "Epoch 4/50\n",
      "196038/196038 [==============================] - 22s 114us/sample - loss: 1.0947 - auc_18: 0.7633 - val_loss: 1.1292 - val_auc_18: 0.7580\n",
      "Epoch 5/50\n",
      "196038/196038 [==============================] - 22s 114us/sample - loss: 1.0884 - auc_18: 0.7667 - val_loss: 1.1113 - val_auc_18: 0.7566\n",
      "Epoch 6/50\n",
      "196038/196038 [==============================] - 22s 114us/sample - loss: 1.0845 - auc_18: 0.7685 - val_loss: 1.1315 - val_auc_18: 0.7560\n",
      "Epoch 7/50\n",
      "196038/196038 [==============================] - 22s 115us/sample - loss: 1.0831 - auc_18: 0.7694 - val_loss: 1.1575 - val_auc_18: 0.7566\n",
      "Epoch 8/50\n",
      "196038/196038 [==============================] - 22s 115us/sample - loss: 1.0814 - auc_18: 0.7703 - val_loss: 1.1334 - val_auc_18: 0.7564\n",
      "Epoch 9/50\n",
      "196038/196038 [==============================] - 22s 114us/sample - loss: 1.0818 - auc_18: 0.7699 - val_loss: 1.1193 - val_auc_18: 0.7557\n"
     ]
    },
    {
     "name": "stderr",
     "output_type": "stream",
     "text": [
      "\u001b[32m[I 2021-01-06 00:35:15,298]\u001b[0m Trial 18 finished with value: 0.7564949516558699 and parameters: {'step': 3, 'no._units': 270, 'number': 2, 'best_weight': {0: 1.0, 1: 12.0}}. Best is trial 15 with value: 0.7570504441271543.\u001b[0m\n"
     ]
    },
    {
     "name": "stdout",
     "output_type": "stream",
     "text": [
      "WARNING:tensorflow:sample_weight modes were coerced from\n",
      "  ...\n",
      "    to  \n",
      "  ['...']\n",
      "WARNING:tensorflow:sample_weight modes were coerced from\n",
      "  ...\n",
      "    to  \n",
      "  ['...']\n",
      "Train on 196038 samples, validate on 34595 samples\n",
      "Epoch 1/50\n",
      "196038/196038 [==============================] - 29s 147us/sample - loss: 1.1685 - auc_19: 0.7276 - val_loss: 1.1670 - val_auc_19: 0.7451\n",
      "Epoch 2/50\n",
      "196038/196038 [==============================] - 27s 139us/sample - loss: 1.1264 - auc_19: 0.7457 - val_loss: 59.0143 - val_auc_19: 0.7453\n",
      "Epoch 3/50\n",
      "196038/196038 [==============================] - 27s 139us/sample - loss: 1.1120 - auc_19: 0.7539 - val_loss: 1.8245 - val_auc_19: 0.7543\n",
      "Epoch 4/50\n",
      "196038/196038 [==============================] - 27s 139us/sample - loss: 1.0984 - auc_19: 0.7614 - val_loss: 47.6529 - val_auc_19: 0.7587\n",
      "Epoch 5/50\n",
      "196038/196038 [==============================] - 27s 137us/sample - loss: 1.0898 - auc_19: 0.7660 - val_loss: 4.8061 - val_auc_19: 0.7536\n"
     ]
    },
    {
     "name": "stderr",
     "output_type": "stream",
     "text": [
      "\u001b[32m[I 2021-01-06 00:37:35,767]\u001b[0m Trial 19 finished with value: 0.7450866715964716 and parameters: {'step': 5, 'no._units': 439, 'number': 3, 'best_weight': {0: 1.0, 1: 12.0}}. Best is trial 15 with value: 0.7570504441271543.\u001b[0m\n"
     ]
    },
    {
     "name": "stdout",
     "output_type": "stream",
     "text": [
      "WARNING:tensorflow:sample_weight modes were coerced from\n",
      "  ...\n",
      "    to  \n",
      "  ['...']\n",
      "WARNING:tensorflow:sample_weight modes were coerced from\n",
      "  ...\n",
      "    to  \n",
      "  ['...']\n",
      "Train on 196038 samples, validate on 34595 samples\n",
      "Epoch 1/50\n",
      "196038/196038 [==============================] - 25s 128us/sample - loss: 1.1475 - auc_20: 0.7337 - val_loss: 1.1317 - val_auc_20: 0.7452\n",
      "Epoch 2/50\n",
      "196038/196038 [==============================] - 24s 121us/sample - loss: 1.1192 - auc_20: 0.7495 - val_loss: 1.1354 - val_auc_20: 0.7531\n",
      "Epoch 3/50\n",
      "196038/196038 [==============================] - 23s 119us/sample - loss: 1.1031 - auc_20: 0.7585 - val_loss: 1.1349 - val_auc_20: 0.7570\n",
      "Epoch 4/50\n",
      "196038/196038 [==============================] - 23s 120us/sample - loss: 1.1002 - auc_20: 0.7601 - val_loss: 1.1112 - val_auc_20: 0.7578\n",
      "Epoch 5/50\n",
      "196038/196038 [==============================] - 23s 120us/sample - loss: 1.0927 - auc_20: 0.7640 - val_loss: 1.1070 - val_auc_20: 0.7583\n",
      "Epoch 6/50\n",
      "196038/196038 [==============================] - 24s 120us/sample - loss: 1.0892 - auc_20: 0.7659 - val_loss: 1.5074 - val_auc_20: 0.7591\n",
      "Epoch 7/50\n",
      "196038/196038 [==============================] - 24s 120us/sample - loss: 1.0895 - auc_20: 0.7655 - val_loss: 1.1330 - val_auc_20: 0.7591\n",
      "Epoch 8/50\n",
      "196038/196038 [==============================] - 23s 119us/sample - loss: 1.0900 - auc_20: 0.7653 - val_loss: 1.4674 - val_auc_20: 0.7591\n",
      "Epoch 9/50\n",
      "196038/196038 [==============================] - 24s 121us/sample - loss: 1.0875 - auc_20: 0.7667 - val_loss: 1.2038 - val_auc_20: 0.7583\n"
     ]
    },
    {
     "name": "stderr",
     "output_type": "stream",
     "text": [
      "\u001b[32m[I 2021-01-06 00:41:11,679]\u001b[0m Trial 20 finished with value: 0.7583781353623936 and parameters: {'step': 3, 'no._units': 107, 'number': 2, 'best_weight': {0: 1.0, 1: 12.0}}. Best is trial 20 with value: 0.7583781353623936.\u001b[0m\n"
     ]
    },
    {
     "name": "stdout",
     "output_type": "stream",
     "text": [
      "WARNING:tensorflow:sample_weight modes were coerced from\n",
      "  ...\n",
      "    to  \n",
      "  ['...']\n",
      "WARNING:tensorflow:sample_weight modes were coerced from\n",
      "  ...\n",
      "    to  \n",
      "  ['...']\n",
      "Train on 196038 samples, validate on 34595 samples\n",
      "Epoch 1/50\n",
      "196038/196038 [==============================] - 25s 127us/sample - loss: 1.1494 - auc_21: 0.7331 - val_loss: 1.1672 - val_auc_21: 0.7386\n",
      "Epoch 2/50\n",
      "196038/196038 [==============================] - 24s 120us/sample - loss: 1.1182 - auc_21: 0.7501 - val_loss: 1.1188 - val_auc_21: 0.7535\n",
      "Epoch 3/50\n",
      "196038/196038 [==============================] - 24s 120us/sample - loss: 1.1040 - auc_21: 0.7583 - val_loss: 1.1141 - val_auc_21: 0.7546\n",
      "Epoch 4/50\n",
      "196038/196038 [==============================] - 23s 120us/sample - loss: 1.0965 - auc_21: 0.7621 - val_loss: 1.1116 - val_auc_21: 0.7569\n",
      "Epoch 5/50\n",
      "196038/196038 [==============================] - 23s 119us/sample - loss: 1.0900 - auc_21: 0.7656 - val_loss: 1.1445 - val_auc_21: 0.7569\n",
      "Epoch 6/50\n",
      "196038/196038 [==============================] - 23s 119us/sample - loss: 1.0873 - auc_21: 0.7673 - val_loss: 1.1258 - val_auc_21: 0.7567\n",
      "Epoch 7/50\n",
      "196038/196038 [==============================] - 24s 120us/sample - loss: 1.0861 - auc_21: 0.7676 - val_loss: 1.1174 - val_auc_21: 0.7560\n",
      "Epoch 8/50\n",
      "196038/196038 [==============================] - 24s 120us/sample - loss: 1.0869 - auc_21: 0.7676 - val_loss: 1.1160 - val_auc_21: 0.7560\n"
     ]
    },
    {
     "name": "stderr",
     "output_type": "stream",
     "text": [
      "\u001b[32m[I 2021-01-06 00:44:23,259]\u001b[0m Trial 21 finished with value: 0.7568699559368561 and parameters: {'step': 3, 'no._units': 139, 'number': 2, 'best_weight': {0: 1.0, 1: 12.0}}. Best is trial 20 with value: 0.7583781353623936.\u001b[0m\n"
     ]
    },
    {
     "name": "stdout",
     "output_type": "stream",
     "text": [
      "WARNING:tensorflow:sample_weight modes were coerced from\n",
      "  ...\n",
      "    to  \n",
      "  ['...']\n",
      "WARNING:tensorflow:sample_weight modes were coerced from\n",
      "  ...\n",
      "    to  \n",
      "  ['...']\n",
      "Train on 196038 samples, validate on 34595 samples\n",
      "Epoch 1/50\n",
      "196038/196038 [==============================] - 25s 128us/sample - loss: 1.1457 - auc_22: 0.7352 - val_loss: 1.1792 - val_auc_22: 0.7373\n",
      "Epoch 2/50\n",
      "196038/196038 [==============================] - 23s 117us/sample - loss: 1.1196 - auc_22: 0.7494 - val_loss: 1.1297 - val_auc_22: 0.7525\n",
      "Epoch 3/50\n",
      "196038/196038 [==============================] - 23s 118us/sample - loss: 1.1073 - auc_22: 0.7560 - val_loss: 1.1248 - val_auc_22: 0.7569\n",
      "Epoch 4/50\n",
      "196038/196038 [==============================] - 23s 119us/sample - loss: 1.0983 - auc_22: 0.7613 - val_loss: 1.1191 - val_auc_22: 0.7585\n",
      "Epoch 5/50\n",
      "196038/196038 [==============================] - 23s 119us/sample - loss: 1.0961 - auc_22: 0.7626 - val_loss: 1.1084 - val_auc_22: 0.7589\n",
      "Epoch 6/50\n",
      "196038/196038 [==============================] - 24s 123us/sample - loss: 1.0931 - auc_22: 0.7638 - val_loss: 1.1128 - val_auc_22: 0.7587\n",
      "Epoch 7/50\n",
      "196038/196038 [==============================] - 24s 122us/sample - loss: 1.0896 - auc_22: 0.7656 - val_loss: 1.1110 - val_auc_22: 0.7581\n",
      "Epoch 8/50\n",
      "196038/196038 [==============================] - 24s 122us/sample - loss: 1.0905 - auc_22: 0.7649 - val_loss: 1.1116 - val_auc_22: 0.7580\n",
      "Epoch 9/50\n",
      "196038/196038 [==============================] - 24s 122us/sample - loss: 1.0902 - auc_22: 0.7653 - val_loss: 1.1121 - val_auc_22: 0.7582\n"
     ]
    },
    {
     "name": "stderr",
     "output_type": "stream",
     "text": [
      "\u001b[32m[I 2021-01-06 00:47:59,186]\u001b[0m Trial 22 finished with value: 0.7588774036486459 and parameters: {'step': 3, 'no._units': 107, 'number': 2, 'best_weight': {0: 1.0, 1: 12.0}}. Best is trial 22 with value: 0.7588774036486459.\u001b[0m\n"
     ]
    },
    {
     "name": "stdout",
     "output_type": "stream",
     "text": [
      "WARNING:tensorflow:sample_weight modes were coerced from\n",
      "  ...\n",
      "    to  \n",
      "  ['...']\n",
      "WARNING:tensorflow:sample_weight modes were coerced from\n",
      "  ...\n",
      "    to  \n",
      "  ['...']\n",
      "Train on 196038 samples, validate on 34595 samples\n",
      "Epoch 1/50\n",
      "196038/196038 [==============================] - 29s 149us/sample - loss: 1.1481 - auc_23: 0.7340 - val_loss: 1.1481 - val_auc_23: 0.7435\n",
      "Epoch 2/50\n",
      "196038/196038 [==============================] - 28s 142us/sample - loss: 1.1217 - auc_23: 0.7485 - val_loss: 1.1195 - val_auc_23: 0.7525\n",
      "Epoch 3/50\n",
      "196038/196038 [==============================] - 28s 142us/sample - loss: 1.1117 - auc_23: 0.7540 - val_loss: 1.1271 - val_auc_23: 0.7540\n",
      "Epoch 4/50\n",
      "196038/196038 [==============================] - 28s 143us/sample - loss: 1.1026 - auc_23: 0.7593 - val_loss: 1.1177 - val_auc_23: 0.7548\n",
      "Epoch 5/50\n",
      "196038/196038 [==============================] - 29s 146us/sample - loss: 1.0978 - auc_23: 0.7621 - val_loss: 1.1150 - val_auc_23: 0.7547\n",
      "Epoch 6/50\n",
      "196038/196038 [==============================] - 29s 150us/sample - loss: 1.0918 - auc_23: 0.7650 - val_loss: 1.1108 - val_auc_23: 0.7555\n",
      "Epoch 7/50\n",
      "196038/196038 [==============================] - 31s 157us/sample - loss: 1.0909 - auc_23: 0.7657 - val_loss: 1.1133 - val_auc_23: 0.7554\n",
      "Epoch 8/50\n",
      "196038/196038 [==============================] - 28s 142us/sample - loss: 1.0869 - auc_23: 0.7680 - val_loss: 1.1115 - val_auc_23: 0.7566\n",
      "Epoch 9/50\n",
      "196038/196038 [==============================] - 28s 142us/sample - loss: 1.0872 - auc_23: 0.7674 - val_loss: 1.1147 - val_auc_23: 0.7549\n",
      "Epoch 10/50\n",
      "196038/196038 [==============================] - 28s 142us/sample - loss: 1.0863 - auc_23: 0.7680 - val_loss: 1.1159 - val_auc_23: 0.7553\n"
     ]
    },
    {
     "name": "stderr",
     "output_type": "stream",
     "text": [
      "\u001b[32m[I 2021-01-06 00:52:47,474]\u001b[0m Trial 23 finished with value: 0.755443883636157 and parameters: {'step': 4, 'no._units': 103, 'number': 3, 'best_weight': {0: 1.0, 1: 12.0}}. Best is trial 22 with value: 0.7588774036486459.\u001b[0m\n"
     ]
    },
    {
     "name": "stdout",
     "output_type": "stream",
     "text": [
      "WARNING:tensorflow:sample_weight modes were coerced from\n",
      "  ...\n",
      "    to  \n",
      "  ['...']\n",
      "WARNING:tensorflow:sample_weight modes were coerced from\n",
      "  ...\n",
      "    to  \n",
      "  ['...']\n",
      "Train on 196038 samples, validate on 34595 samples\n",
      "Epoch 1/50\n",
      "196038/196038 [==============================] - 34s 174us/sample - loss: 1.1501 - auc_24: 0.7325 - val_loss: 1.1367 - val_auc_24: 0.7433\n",
      "Epoch 2/50\n",
      "196038/196038 [==============================] - 32s 163us/sample - loss: 1.1189 - auc_24: 0.7503 - val_loss: 1.1239 - val_auc_24: 0.7502\n",
      "Epoch 3/50\n",
      "196038/196038 [==============================] - 32s 162us/sample - loss: 1.1079 - auc_24: 0.7562 - val_loss: 1.1926 - val_auc_24: 0.7570\n",
      "Epoch 4/50\n",
      "196038/196038 [==============================] - 32s 164us/sample - loss: 1.0983 - auc_24: 0.7614 - val_loss: 1.2418 - val_auc_24: 0.7583\n",
      "Epoch 5/50\n",
      "196038/196038 [==============================] - 32s 163us/sample - loss: 1.0954 - auc_24: 0.7629 - val_loss: 1.2389 - val_auc_24: 0.7594\n",
      "Epoch 6/50\n",
      "196038/196038 [==============================] - 32s 164us/sample - loss: 1.0917 - auc_24: 0.7650 - val_loss: 1.3224 - val_auc_24: 0.7584\n"
     ]
    },
    {
     "name": "stderr",
     "output_type": "stream",
     "text": [
      "\u001b[32m[I 2021-01-06 00:56:04,782]\u001b[0m Trial 24 finished with value: 0.7502314885023117 and parameters: {'step': 3, 'no._units': 110, 'number': 4, 'best_weight': {0: 1.0, 1: 12.0}}. Best is trial 22 with value: 0.7588774036486459.\u001b[0m\n"
     ]
    },
    {
     "name": "stdout",
     "output_type": "stream",
     "text": [
      "WARNING:tensorflow:sample_weight modes were coerced from\n",
      "  ...\n",
      "    to  \n",
      "  ['...']\n",
      "WARNING:tensorflow:sample_weight modes were coerced from\n",
      "  ...\n",
      "    to  \n",
      "  ['...']\n",
      "Train on 196038 samples, validate on 34595 samples\n",
      "Epoch 1/50\n",
      "196038/196038 [==============================] - 25s 127us/sample - loss: 1.3625 - auc_25: 0.7317 - val_loss: 1.3867 - val_auc_25: 0.7450\n",
      "Epoch 2/50\n",
      "196038/196038 [==============================] - 24s 121us/sample - loss: 1.3263 - auc_25: 0.7477 - val_loss: 1.3570 - val_auc_25: 0.7519\n",
      "Epoch 3/50\n",
      "196038/196038 [==============================] - 24s 121us/sample - loss: 1.3136 - auc_25: 0.7539 - val_loss: 1.4551 - val_auc_25: 0.7551\n",
      "Epoch 4/50\n",
      "196038/196038 [==============================] - 24s 120us/sample - loss: 1.2998 - auc_25: 0.7602 - val_loss: 1.3161 - val_auc_25: 0.7557\n",
      "Epoch 5/50\n",
      "196038/196038 [==============================] - 24s 121us/sample - loss: 1.2919 - auc_25: 0.7630 - val_loss: 1.3478 - val_auc_25: 0.7567\n",
      "Epoch 6/50\n",
      "196038/196038 [==============================] - 24s 121us/sample - loss: 1.2853 - auc_25: 0.7660 - val_loss: 1.3241 - val_auc_25: 0.7551\n",
      "Epoch 7/50\n",
      "196038/196038 [==============================] - 24s 121us/sample - loss: 1.2811 - auc_25: 0.7677 - val_loss: 1.3229 - val_auc_25: 0.7543\n",
      "Epoch 8/50\n",
      "196038/196038 [==============================] - 24s 121us/sample - loss: 1.2767 - auc_25: 0.7697 - val_loss: 1.3211 - val_auc_25: 0.7557\n"
     ]
    },
    {
     "name": "stderr",
     "output_type": "stream",
     "text": [
      "\u001b[32m[I 2021-01-06 00:59:18,524]\u001b[0m Trial 25 finished with value: 0.7556500858910553 and parameters: {'step': 4, 'no._units': 160, 'number': 2, 'best_weight': {0: 1.0, 1: 17.0}}. Best is trial 22 with value: 0.7588774036486459.\u001b[0m\n"
     ]
    },
    {
     "name": "stdout",
     "output_type": "stream",
     "text": [
      "WARNING:tensorflow:sample_weight modes were coerced from\n",
      "  ...\n",
      "    to  \n",
      "  ['...']\n",
      "WARNING:tensorflow:sample_weight modes were coerced from\n",
      "  ...\n",
      "    to  \n",
      "  ['...']\n",
      "Train on 196038 samples, validate on 34595 samples\n",
      "Epoch 1/50\n",
      "196038/196038 [==============================] - 29s 149us/sample - loss: 1.2438 - auc_26: 0.7318 - val_loss: 1.2574 - val_auc_26: 0.7440\n",
      "Epoch 2/50\n",
      "196038/196038 [==============================] - 27s 140us/sample - loss: 1.2109 - auc_26: 0.7474 - val_loss: 1.2608 - val_auc_26: 0.7504\n",
      "Epoch 3/50\n",
      "196038/196038 [==============================] - 27s 140us/sample - loss: 1.1947 - auc_26: 0.7559 - val_loss: 1.2740 - val_auc_26: 0.7514\n",
      "Epoch 4/50\n",
      "196038/196038 [==============================] - 28s 142us/sample - loss: 1.1862 - auc_26: 0.7602 - val_loss: 1.2386 - val_auc_26: 0.7524\n",
      "Epoch 5/50\n",
      "196038/196038 [==============================] - 27s 140us/sample - loss: 1.1823 - auc_26: 0.7621 - val_loss: 1.2275 - val_auc_26: 0.7528\n",
      "Epoch 6/50\n",
      "196038/196038 [==============================] - 28s 141us/sample - loss: 1.1777 - auc_26: 0.7641 - val_loss: 1.2174 - val_auc_26: 0.7529\n",
      "Epoch 7/50\n",
      "196038/196038 [==============================] - 28s 141us/sample - loss: 1.1737 - auc_26: 0.7658 - val_loss: 1.2352 - val_auc_26: 0.7518\n",
      "Epoch 8/50\n",
      "196038/196038 [==============================] - 28s 141us/sample - loss: 1.1721 - auc_26: 0.7666 - val_loss: 1.2227 - val_auc_26: 0.7531\n",
      "Epoch 9/50\n",
      "196038/196038 [==============================] - 28s 141us/sample - loss: 1.1725 - auc_26: 0.7665 - val_loss: 1.2559 - val_auc_26: 0.7537\n",
      "Epoch 10/50\n",
      "196038/196038 [==============================] - 28s 141us/sample - loss: 1.1727 - auc_26: 0.7666 - val_loss: 1.2376 - val_auc_26: 0.7517\n"
     ]
    },
    {
     "name": "stderr",
     "output_type": "stream",
     "text": [
      "\u001b[32m[I 2021-01-06 01:03:59,157]\u001b[0m Trial 26 finished with value: 0.7528738844694998 and parameters: {'step': 3, 'no._units': 201, 'number': 3, 'best_weight': {0: 1.0, 1: 14.0}}. Best is trial 22 with value: 0.7588774036486459.\u001b[0m\n"
     ]
    },
    {
     "name": "stdout",
     "output_type": "stream",
     "text": [
      "WARNING:tensorflow:sample_weight modes were coerced from\n",
      "  ...\n",
      "    to  \n",
      "  ['...']\n",
      "WARNING:tensorflow:sample_weight modes were coerced from\n",
      "  ...\n",
      "    to  \n",
      "  ['...']\n",
      "Train on 196038 samples, validate on 34595 samples\n",
      "Epoch 1/50\n",
      "196038/196038 [==============================] - 26s 135us/sample - loss: 1.4136 - auc_27: 0.7291 - val_loss: 1.4129 - val_auc_27: 0.7406\n",
      "Epoch 2/50\n",
      "196038/196038 [==============================] - 24s 122us/sample - loss: 1.3610 - auc_27: 0.7483 - val_loss: 1.8074 - val_auc_27: 0.7462\n",
      "Epoch 3/50\n",
      "196038/196038 [==============================] - 24s 122us/sample - loss: 1.3451 - auc_27: 0.7551 - val_loss: 1.5798 - val_auc_27: 0.7540\n",
      "Epoch 4/50\n",
      "196038/196038 [==============================] - 24s 123us/sample - loss: 1.3312 - auc_27: 0.7607 - val_loss: 1.4041 - val_auc_27: 0.7577\n",
      "Epoch 5/50\n",
      "196038/196038 [==============================] - 24s 122us/sample - loss: 1.3221 - auc_27: 0.7648 - val_loss: 1.4322 - val_auc_27: 0.7574\n",
      "Epoch 6/50\n",
      "196038/196038 [==============================] - 24s 123us/sample - loss: 1.3199 - auc_27: 0.7658 - val_loss: 1.4265 - val_auc_27: 0.7559\n",
      "Epoch 7/50\n",
      "196038/196038 [==============================] - 24s 122us/sample - loss: 1.3151 - auc_27: 0.7681 - val_loss: 1.4253 - val_auc_27: 0.7563\n",
      "Epoch 8/50\n",
      "196038/196038 [==============================] - 24s 123us/sample - loss: 1.3152 - auc_27: 0.7676 - val_loss: 1.3799 - val_auc_27: 0.7554\n",
      "Epoch 9/50\n",
      "196038/196038 [==============================] - 24s 123us/sample - loss: 1.3150 - auc_27: 0.7681 - val_loss: 1.4480 - val_auc_27: 0.7541\n",
      "Epoch 10/50\n",
      "196038/196038 [==============================] - 24s 121us/sample - loss: 1.3125 - auc_27: 0.7691 - val_loss: 1.4017 - val_auc_27: 0.7555\n",
      "Epoch 11/50\n",
      "196038/196038 [==============================] - 24s 124us/sample - loss: 1.3153 - auc_27: 0.7676 - val_loss: 1.4121 - val_auc_27: 0.7553\n",
      "Epoch 12/50\n",
      "196038/196038 [==============================] - 24s 122us/sample - loss: 1.3148 - auc_27: 0.7677 - val_loss: 1.4175 - val_auc_27: 0.7559\n"
     ]
    },
    {
     "name": "stderr",
     "output_type": "stream",
     "text": [
      "\u001b[32m[I 2021-01-06 01:08:51,726]\u001b[0m Trial 27 finished with value: 0.7554302779237798 and parameters: {'step': 3, 'no._units': 298, 'number': 2, 'best_weight': {0: 1.0, 1: 18.0}}. Best is trial 22 with value: 0.7588774036486459.\u001b[0m\n"
     ]
    },
    {
     "name": "stdout",
     "output_type": "stream",
     "text": [
      "WARNING:tensorflow:sample_weight modes were coerced from\n",
      "  ...\n",
      "    to  \n",
      "  ['...']\n",
      "WARNING:tensorflow:sample_weight modes were coerced from\n",
      "  ...\n",
      "    to  \n",
      "  ['...']\n",
      "Train on 196038 samples, validate on 34595 samples\n",
      "Epoch 1/50\n",
      "196038/196038 [==============================] - 34s 173us/sample - loss: 1.3256 - auc_28: 0.7312 - val_loss: 1.3998 - val_auc_28: 0.7425\n",
      "Epoch 2/50\n",
      "196038/196038 [==============================] - 31s 160us/sample - loss: 1.2907 - auc_28: 0.7475 - val_loss: 1.4062 - val_auc_28: 0.7470\n",
      "Epoch 3/50\n",
      "196038/196038 [==============================] - 32s 162us/sample - loss: 1.2769 - auc_28: 0.7538 - val_loss: 1.2963 - val_auc_28: 0.7537\n",
      "Epoch 4/50\n",
      "196038/196038 [==============================] - 32s 162us/sample - loss: 1.2639 - auc_28: 0.7600 - val_loss: 1.3673 - val_auc_28: 0.7505\n",
      "Epoch 5/50\n",
      "196038/196038 [==============================] - 32s 162us/sample - loss: 1.2545 - auc_28: 0.7639 - val_loss: 1.8293 - val_auc_28: 0.7477\n",
      "Epoch 6/50\n",
      "196038/196038 [==============================] - 32s 162us/sample - loss: 1.2485 - auc_28: 0.7664 - val_loss: 1.6277 - val_auc_28: 0.7481\n",
      "Epoch 7/50\n",
      "196038/196038 [==============================] - 32s 162us/sample - loss: 1.2450 - auc_28: 0.7682 - val_loss: 3.4568 - val_auc_28: 0.7533\n"
     ]
    },
    {
     "name": "stderr",
     "output_type": "stream",
     "text": [
      "\u001b[32m[I 2021-01-06 01:12:39,172]\u001b[0m Trial 28 finished with value: 0.7536935484245035 and parameters: {'step': 4, 'no._units': 147, 'number': 4, 'best_weight': {0: 1.0, 1: 16.0}}. Best is trial 22 with value: 0.7588774036486459.\u001b[0m\n"
     ]
    },
    {
     "name": "stdout",
     "output_type": "stream",
     "text": [
      "WARNING:tensorflow:sample_weight modes were coerced from\n",
      "  ...\n",
      "    to  \n",
      "  ['...']\n",
      "WARNING:tensorflow:sample_weight modes were coerced from\n",
      "  ...\n",
      "    to  \n",
      "  ['...']\n",
      "Train on 196038 samples, validate on 34595 samples\n",
      "Epoch 1/50\n",
      "196038/196038 [==============================] - 30s 151us/sample - loss: 1.1253 - auc_29: 0.7317 - val_loss: 1.1128 - val_auc_29: 0.7431\n",
      "Epoch 2/50\n",
      "196038/196038 [==============================] - 28s 142us/sample - loss: 1.0930 - auc_29: 0.7485 - val_loss: 1.1020 - val_auc_29: 0.7536\n",
      "Epoch 3/50\n",
      "196038/196038 [==============================] - 28s 142us/sample - loss: 1.0791 - auc_29: 0.7562 - val_loss: 1.9648 - val_auc_29: 0.7559\n",
      "Epoch 4/50\n",
      "196038/196038 [==============================] - 28s 142us/sample - loss: 1.0692 - auc_29: 0.7623 - val_loss: 1.7869 - val_auc_29: 0.7568\n",
      "Epoch 5/50\n",
      "196038/196038 [==============================] - 27s 140us/sample - loss: 1.0617 - auc_29: 0.7657 - val_loss: 15.4687 - val_auc_29: 0.7539\n",
      "Epoch 6/50\n",
      "196038/196038 [==============================] - 27s 139us/sample - loss: 1.0564 - auc_29: 0.7689 - val_loss: 3.8984 - val_auc_29: 0.7553\n"
     ]
    },
    {
     "name": "stderr",
     "output_type": "stream",
     "text": [
      "\u001b[32m[I 2021-01-06 01:15:29,697]\u001b[0m Trial 29 finished with value: 0.7535559376488423 and parameters: {'step': 4, 'no._units': 236, 'number': 3, 'best_weight': {0: 1.0, 1: 11.38697}}. Best is trial 22 with value: 0.7588774036486459.\u001b[0m\n"
     ]
    },
    {
     "name": "stdout",
     "output_type": "stream",
     "text": [
      "WARNING:tensorflow:sample_weight modes were coerced from\n",
      "  ...\n",
      "    to  \n",
      "  ['...']\n",
      "WARNING:tensorflow:sample_weight modes were coerced from\n",
      "  ...\n",
      "    to  \n",
      "  ['...']\n",
      "Train on 196038 samples, validate on 34595 samples\n",
      "Epoch 1/50\n",
      "196038/196038 [==============================] - 25s 128us/sample - loss: 1.1658 - auc_30: 0.7286 - val_loss: 1.2353 - val_auc_30: 0.7302\n",
      "Epoch 2/50\n",
      "196038/196038 [==============================] - 24s 121us/sample - loss: 1.1182 - auc_30: 0.7506 - val_loss: 1.1797 - val_auc_30: 0.7501\n",
      "Epoch 3/50\n",
      "196038/196038 [==============================] - 24s 121us/sample - loss: 1.1031 - auc_30: 0.7586 - val_loss: 1.2193 - val_auc_30: 0.7530\n",
      "Epoch 4/50\n",
      "196038/196038 [==============================] - 24s 121us/sample - loss: 1.0966 - auc_30: 0.7619 - val_loss: 1.1567 - val_auc_30: 0.7558\n",
      "Epoch 5/50\n",
      "196038/196038 [==============================] - 24s 121us/sample - loss: 1.0926 - auc_30: 0.7641 - val_loss: 1.2514 - val_auc_30: 0.7547\n",
      "Epoch 6/50\n",
      "196038/196038 [==============================] - 23s 119us/sample - loss: 1.0927 - auc_30: 0.7638 - val_loss: 1.2210 - val_auc_30: 0.7552\n",
      "Epoch 7/50\n",
      "196038/196038 [==============================] - 23s 120us/sample - loss: 1.0892 - auc_30: 0.7659 - val_loss: 1.2064 - val_auc_30: 0.7562\n",
      "Epoch 8/50\n",
      "196038/196038 [==============================] - 24s 121us/sample - loss: 1.0903 - auc_30: 0.7653 - val_loss: 1.2478 - val_auc_30: 0.7553\n"
     ]
    },
    {
     "name": "stderr",
     "output_type": "stream",
     "text": [
      "\u001b[32m[I 2021-01-06 01:18:42,828]\u001b[0m Trial 30 finished with value: 0.7557883721675379 and parameters: {'step': 2, 'no._units': 367, 'number': 2, 'best_weight': {0: 1.0, 1: 12.0}}. Best is trial 22 with value: 0.7588774036486459.\u001b[0m\n"
     ]
    },
    {
     "name": "stdout",
     "output_type": "stream",
     "text": [
      "WARNING:tensorflow:sample_weight modes were coerced from\n",
      "  ...\n",
      "    to  \n",
      "  ['...']\n",
      "WARNING:tensorflow:sample_weight modes were coerced from\n",
      "  ...\n",
      "    to  \n",
      "  ['...']\n",
      "Train on 196038 samples, validate on 34595 samples\n",
      "Epoch 1/50\n",
      "196038/196038 [==============================] - 25s 125us/sample - loss: 1.1649 - auc_31: 0.7297 - val_loss: 1.4446 - val_auc_31: 0.7337\n",
      "Epoch 2/50\n",
      "196038/196038 [==============================] - 23s 119us/sample - loss: 1.1190 - auc_31: 0.7499 - val_loss: 1.5807 - val_auc_31: 0.7506\n",
      "Epoch 3/50\n",
      "196038/196038 [==============================] - 23s 119us/sample - loss: 1.1042 - auc_31: 0.7581 - val_loss: 1.6641 - val_auc_31: 0.7562\n",
      "Epoch 4/50\n",
      "196038/196038 [==============================] - 23s 119us/sample - loss: 1.0892 - auc_31: 0.7663 - val_loss: 1.3191 - val_auc_31: 0.7574\n",
      "Epoch 5/50\n",
      "196038/196038 [==============================] - 23s 118us/sample - loss: 1.0860 - auc_31: 0.7678 - val_loss: 1.2857 - val_auc_31: 0.7558\n",
      "Epoch 6/50\n",
      "196038/196038 [==============================] - 23s 118us/sample - loss: 1.0784 - auc_31: 0.7721 - val_loss: 1.2553 - val_auc_31: 0.7543\n",
      "Epoch 7/50\n",
      "196038/196038 [==============================] - 23s 118us/sample - loss: 1.0759 - auc_31: 0.7734 - val_loss: 1.2787 - val_auc_31: 0.7556\n",
      "Epoch 8/50\n",
      "196038/196038 [==============================] - 23s 119us/sample - loss: 1.0761 - auc_31: 0.7730 - val_loss: 1.5771 - val_auc_31: 0.7527\n",
      "Epoch 9/50\n",
      "196038/196038 [==============================] - 23s 119us/sample - loss: 1.0750 - auc_31: 0.7735 - val_loss: 1.6483 - val_auc_31: 0.7532\n",
      "Epoch 10/50\n",
      "196038/196038 [==============================] - 23s 119us/sample - loss: 1.0737 - auc_31: 0.7742 - val_loss: 1.4131 - val_auc_31: 0.7529\n"
     ]
    },
    {
     "name": "stderr",
     "output_type": "stream",
     "text": [
      "\u001b[32m[I 2021-01-06 01:22:39,070]\u001b[0m Trial 31 finished with value: 0.7543561359218436 and parameters: {'step': 3, 'no._units': 514, 'number': 2, 'best_weight': {0: 1.0, 1: 12.0}}. Best is trial 22 with value: 0.7588774036486459.\u001b[0m\n"
     ]
    },
    {
     "name": "stdout",
     "output_type": "stream",
     "text": [
      "WARNING:tensorflow:sample_weight modes were coerced from\n",
      "  ...\n",
      "    to  \n",
      "  ['...']\n",
      "WARNING:tensorflow:sample_weight modes were coerced from\n",
      "  ...\n",
      "    to  \n",
      "  ['...']\n",
      "Train on 196038 samples, validate on 34595 samples\n",
      "Epoch 1/50\n",
      "196038/196038 [==============================] - 25s 128us/sample - loss: 1.1747 - auc_32: 0.7264 - val_loss: 3.5002 - val_auc_32: 0.7458\n",
      "Epoch 2/50\n",
      "196038/196038 [==============================] - 23s 118us/sample - loss: 1.1206 - auc_32: 0.7486 - val_loss: 1.2116 - val_auc_32: 0.7537\n",
      "Epoch 3/50\n",
      "196038/196038 [==============================] - 23s 118us/sample - loss: 1.1070 - auc_32: 0.7567 - val_loss: 1.2365 - val_auc_32: 0.7555\n",
      "Epoch 4/50\n",
      "196038/196038 [==============================] - 23s 119us/sample - loss: 1.0937 - auc_32: 0.7640 - val_loss: 1.8073 - val_auc_32: 0.7543\n",
      "Epoch 5/50\n",
      "196038/196038 [==============================] - 23s 119us/sample - loss: 1.0860 - auc_32: 0.7675 - val_loss: 1.4052 - val_auc_32: 0.7552\n",
      "Epoch 6/50\n",
      "196038/196038 [==============================] - 23s 118us/sample - loss: 1.0812 - auc_32: 0.7701 - val_loss: 1.1919 - val_auc_32: 0.7541\n",
      "Epoch 7/50\n",
      "196038/196038 [==============================] - 23s 119us/sample - loss: 1.0783 - auc_32: 0.7718 - val_loss: 1.3420 - val_auc_32: 0.7538\n",
      "Epoch 8/50\n",
      "196038/196038 [==============================] - 23s 119us/sample - loss: 1.0770 - auc_32: 0.7721 - val_loss: 1.3577 - val_auc_32: 0.7527\n",
      "Epoch 9/50\n",
      "196038/196038 [==============================] - 23s 119us/sample - loss: 1.0761 - auc_32: 0.7729 - val_loss: 1.4331 - val_auc_32: 0.7532\n",
      "Epoch 10/50\n",
      "196038/196038 [==============================] - 23s 119us/sample - loss: 1.0769 - auc_32: 0.7719 - val_loss: 1.2157 - val_auc_32: 0.7532\n"
     ]
    },
    {
     "name": "stderr",
     "output_type": "stream",
     "text": [
      "\u001b[32m[I 2021-01-06 01:26:35,814]\u001b[0m Trial 32 finished with value: 0.7540376654304326 and parameters: {'step': 3, 'no._units': 565, 'number': 2, 'best_weight': {0: 1.0, 1: 12.0}}. Best is trial 22 with value: 0.7588774036486459.\u001b[0m\n"
     ]
    },
    {
     "name": "stdout",
     "output_type": "stream",
     "text": [
      "WARNING:tensorflow:sample_weight modes were coerced from\n",
      "  ...\n",
      "    to  \n",
      "  ['...']\n",
      "WARNING:tensorflow:sample_weight modes were coerced from\n",
      "  ...\n",
      "    to  \n",
      "  ['...']\n",
      "Train on 196038 samples, validate on 34595 samples\n",
      "Epoch 1/50\n",
      "196038/196038 [==============================] - 29s 149us/sample - loss: 1.1719 - auc_33: 0.7273 - val_loss: 1.1428 - val_auc_33: 0.7459\n",
      "Epoch 2/50\n",
      "196038/196038 [==============================] - 27s 138us/sample - loss: 1.1213 - auc_33: 0.7493 - val_loss: 9.3702 - val_auc_33: 0.7471\n",
      "Epoch 3/50\n",
      "196038/196038 [==============================] - 28s 142us/sample - loss: 1.1065 - auc_33: 0.7570 - val_loss: 5.9108 - val_auc_33: 0.7518\n",
      "Epoch 4/50\n",
      "196038/196038 [==============================] - 28s 140us/sample - loss: 1.0957 - auc_33: 0.7629 - val_loss: 1.7128 - val_auc_33: 0.7545\n",
      "Epoch 5/50\n",
      "196038/196038 [==============================] - 27s 140us/sample - loss: 1.0880 - auc_33: 0.7669 - val_loss: 3.5028 - val_auc_33: 0.7520\n"
     ]
    },
    {
     "name": "stderr",
     "output_type": "stream",
     "text": [
      "\u001b[32m[I 2021-01-06 01:28:57,777]\u001b[0m Trial 33 finished with value: 0.7458595514904216 and parameters: {'step': 3, 'no._units': 476, 'number': 3, 'best_weight': {0: 1.0, 1: 12.0}}. Best is trial 22 with value: 0.7588774036486459.\u001b[0m\n"
     ]
    },
    {
     "name": "stdout",
     "output_type": "stream",
     "text": [
      "WARNING:tensorflow:sample_weight modes were coerced from\n",
      "  ...\n",
      "    to  \n",
      "  ['...']\n",
      "WARNING:tensorflow:sample_weight modes were coerced from\n",
      "  ...\n",
      "    to  \n",
      "  ['...']\n",
      "Train on 196038 samples, validate on 34595 samples\n",
      "Epoch 1/50\n",
      "196038/196038 [==============================] - 25s 126us/sample - loss: 1.1508 - auc_34: 0.7340 - val_loss: 1.1547 - val_auc_34: 0.7453\n",
      "Epoch 2/50\n",
      "196038/196038 [==============================] - 23s 118us/sample - loss: 1.1191 - auc_34: 0.7498 - val_loss: 1.4611 - val_auc_34: 0.7414\n",
      "Epoch 3/50\n",
      "196038/196038 [==============================] - 23s 118us/sample - loss: 1.1076 - auc_34: 0.7558 - val_loss: 1.1299 - val_auc_34: 0.7542\n",
      "Epoch 4/50\n",
      "196038/196038 [==============================] - 23s 118us/sample - loss: 1.0981 - auc_34: 0.7618 - val_loss: 1.1241 - val_auc_34: 0.7557\n",
      "Epoch 5/50\n",
      "196038/196038 [==============================] - 23s 119us/sample - loss: 1.0933 - auc_34: 0.7643 - val_loss: 1.1172 - val_auc_34: 0.7552\n",
      "Epoch 6/50\n",
      "196038/196038 [==============================] - 23s 118us/sample - loss: 1.0881 - auc_34: 0.7671 - val_loss: 1.1593 - val_auc_34: 0.7543\n",
      "Epoch 7/50\n",
      "196038/196038 [==============================] - 24s 122us/sample - loss: 1.0867 - auc_34: 0.7674 - val_loss: 1.1192 - val_auc_34: 0.7544\n",
      "Epoch 8/50\n",
      "196038/196038 [==============================] - 24s 121us/sample - loss: 1.0854 - auc_34: 0.7681 - val_loss: 1.1317 - val_auc_34: 0.7548\n",
      "Epoch 9/50\n",
      "196038/196038 [==============================] - 24s 121us/sample - loss: 1.0855 - auc_34: 0.7680 - val_loss: 1.1323 - val_auc_34: 0.7550\n"
     ]
    },
    {
     "name": "stderr",
     "output_type": "stream",
     "text": [
      "\u001b[32m[I 2021-01-06 01:32:32,266]\u001b[0m Trial 34 finished with value: 0.7551864164980898 and parameters: {'step': 3, 'no._units': 179, 'number': 2, 'best_weight': {0: 1.0, 1: 12.0}}. Best is trial 22 with value: 0.7588774036486459.\u001b[0m\n"
     ]
    },
    {
     "name": "stdout",
     "output_type": "stream",
     "text": [
      "WARNING:tensorflow:sample_weight modes were coerced from\n",
      "  ...\n",
      "    to  \n",
      "  ['...']\n",
      "WARNING:tensorflow:sample_weight modes were coerced from\n",
      "  ...\n",
      "    to  \n",
      "  ['...']\n",
      "Train on 196038 samples, validate on 34595 samples\n",
      "Epoch 1/50\n",
      "196038/196038 [==============================] - 34s 172us/sample - loss: 1.1498 - auc_35: 0.7324 - val_loss: 1.1412 - val_auc_35: 0.7427\n",
      "Epoch 2/50\n",
      "196038/196038 [==============================] - 32s 162us/sample - loss: 1.1201 - auc_35: 0.7496 - val_loss: 1.1581 - val_auc_35: 0.7511\n",
      "Epoch 3/50\n",
      "196038/196038 [==============================] - 32s 162us/sample - loss: 1.1084 - auc_35: 0.7559 - val_loss: 1.1240 - val_auc_35: 0.7538\n",
      "Epoch 4/50\n",
      "196038/196038 [==============================] - 31s 160us/sample - loss: 1.1041 - auc_35: 0.7579 - val_loss: 1.1135 - val_auc_35: 0.7549\n",
      "Epoch 5/50\n",
      "196038/196038 [==============================] - 32s 162us/sample - loss: 1.1017 - auc_35: 0.7594 - val_loss: 1.1126 - val_auc_35: 0.7547\n",
      "Epoch 6/50\n",
      "196038/196038 [==============================] - 32s 162us/sample - loss: 1.1014 - auc_35: 0.7597 - val_loss: 1.1125 - val_auc_35: 0.7550\n",
      "Epoch 7/50\n",
      "196038/196038 [==============================] - 32s 163us/sample - loss: 1.0980 - auc_35: 0.7614 - val_loss: 1.1122 - val_auc_35: 0.7551\n",
      "Epoch 8/50\n",
      "196038/196038 [==============================] - 32s 162us/sample - loss: 1.0999 - auc_35: 0.7603 - val_loss: 1.1139 - val_auc_35: 0.7547\n",
      "Epoch 9/50\n",
      "196038/196038 [==============================] - 32s 163us/sample - loss: 1.1008 - auc_35: 0.7598 - val_loss: 1.1125 - val_auc_35: 0.7549\n",
      "Epoch 10/50\n",
      "196038/196038 [==============================] - 32s 162us/sample - loss: 1.1001 - auc_35: 0.7601 - val_loss: 1.1116 - val_auc_35: 0.7552\n",
      "Epoch 11/50\n",
      "196038/196038 [==============================] - 32s 163us/sample - loss: 1.1005 - auc_35: 0.7600 - val_loss: 1.1126 - val_auc_35: 0.7553\n",
      "Epoch 12/50\n",
      "196038/196038 [==============================] - 32s 162us/sample - loss: 1.0997 - auc_35: 0.7605 - val_loss: 1.1106 - val_auc_35: 0.7548\n",
      "Epoch 13/50\n",
      "196038/196038 [==============================] - 32s 162us/sample - loss: 1.1004 - auc_35: 0.7602 - val_loss: 1.1116 - val_auc_35: 0.7553\n",
      "Epoch 14/50\n",
      "196038/196038 [==============================] - 32s 161us/sample - loss: 1.0995 - auc_35: 0.7604 - val_loss: 1.1301 - val_auc_35: 0.7558\n",
      "Epoch 15/50\n",
      "196038/196038 [==============================] - 32s 161us/sample - loss: 1.1002 - auc_35: 0.7603 - val_loss: 1.1110 - val_auc_35: 0.7555\n",
      "Epoch 16/50\n",
      "196038/196038 [==============================] - 31s 160us/sample - loss: 1.1019 - auc_35: 0.7592 - val_loss: 1.1125 - val_auc_35: 0.7548\n"
     ]
    },
    {
     "name": "stderr",
     "output_type": "stream",
     "text": [
      "\u001b[32m[I 2021-01-06 01:41:05,682]\u001b[0m Trial 35 finished with value: 0.7548464650805592 and parameters: {'step': 2, 'no._units': 119, 'number': 4, 'best_weight': {0: 1.0, 1: 12.0}}. Best is trial 22 with value: 0.7588774036486459.\u001b[0m\n"
     ]
    },
    {
     "name": "stdout",
     "output_type": "stream",
     "text": [
      "WARNING:tensorflow:sample_weight modes were coerced from\n",
      "  ...\n",
      "    to  \n",
      "  ['...']\n",
      "WARNING:tensorflow:sample_weight modes were coerced from\n",
      "  ...\n",
      "    to  \n",
      "  ['...']\n",
      "Train on 196038 samples, validate on 34595 samples\n",
      "Epoch 1/50\n",
      "196038/196038 [==============================] - 25s 129us/sample - loss: 1.3466 - auc_36: 0.7265 - val_loss: 1.3439 - val_auc_36: 0.7409\n",
      "Epoch 2/50\n",
      "196038/196038 [==============================] - 24s 122us/sample - loss: 1.2856 - auc_36: 0.7495 - val_loss: 1.3132 - val_auc_36: 0.7505\n",
      "Epoch 3/50\n",
      "196038/196038 [==============================] - 24s 122us/sample - loss: 1.2679 - auc_36: 0.7576 - val_loss: 1.3130 - val_auc_36: 0.7568\n",
      "Epoch 4/50\n",
      "196038/196038 [==============================] - 24s 121us/sample - loss: 1.2564 - auc_36: 0.7633 - val_loss: 1.3017 - val_auc_36: 0.7575\n",
      "Epoch 5/50\n",
      "196038/196038 [==============================] - 24s 121us/sample - loss: 1.2472 - auc_36: 0.7674 - val_loss: 1.3384 - val_auc_36: 0.7563\n",
      "Epoch 6/50\n",
      "196038/196038 [==============================] - 24s 120us/sample - loss: 1.2413 - auc_36: 0.7704 - val_loss: 1.3000 - val_auc_36: 0.7553\n",
      "Epoch 7/50\n",
      "196038/196038 [==============================] - 24s 121us/sample - loss: 1.2386 - auc_36: 0.7714 - val_loss: 1.3230 - val_auc_36: 0.7545\n",
      "Epoch 8/50\n",
      "196038/196038 [==============================] - 24s 121us/sample - loss: 1.2348 - auc_36: 0.7727 - val_loss: 1.3088 - val_auc_36: 0.7542\n",
      "Epoch 9/50\n",
      "196038/196038 [==============================] - 24s 121us/sample - loss: 1.2352 - auc_36: 0.7727 - val_loss: 1.3270 - val_auc_36: 0.7552\n",
      "Epoch 10/50\n",
      "196038/196038 [==============================] - 24s 121us/sample - loss: 1.2339 - auc_36: 0.7730 - val_loss: 1.3241 - val_auc_36: 0.7547\n"
     ]
    },
    {
     "name": "stderr",
     "output_type": "stream",
     "text": [
      "\u001b[32m[I 2021-01-06 01:45:07,084]\u001b[0m Trial 36 finished with value: 0.7553378919281097 and parameters: {'step': 3, 'no._units': 426, 'number': 2, 'best_weight': {0: 1.0, 1: 16.0}}. Best is trial 22 with value: 0.7588774036486459.\u001b[0m\n"
     ]
    },
    {
     "name": "stdout",
     "output_type": "stream",
     "text": [
      "WARNING:tensorflow:sample_weight modes were coerced from\n",
      "  ...\n",
      "    to  \n",
      "  ['...']\n",
      "WARNING:tensorflow:sample_weight modes were coerced from\n",
      "  ...\n",
      "    to  \n",
      "  ['...']\n",
      "Train on 196038 samples, validate on 34595 samples\n",
      "Epoch 1/50\n",
      "196038/196038 [==============================] - 30s 153us/sample - loss: 1.1730 - auc_37: 0.7257 - val_loss: 1.1606 - val_auc_37: 0.7473\n",
      "Epoch 2/50\n",
      "196038/196038 [==============================] - 28s 143us/sample - loss: 1.1284 - auc_37: 0.7451 - val_loss: 1.4900 - val_auc_37: 0.7515\n",
      "Epoch 3/50\n",
      "196038/196038 [==============================] - 29s 146us/sample - loss: 1.1126 - auc_37: 0.7539 - val_loss: 55.2539 - val_auc_37: 0.7477\n",
      "Epoch 4/50\n",
      "196038/196038 [==============================] - 28s 145us/sample - loss: 1.0987 - auc_37: 0.7613 - val_loss: 153.4773 - val_auc_37: 0.7485\n",
      "Epoch 5/50\n",
      "196038/196038 [==============================] - 28s 145us/sample - loss: 1.0910 - auc_37: 0.7651 - val_loss: 257.2473 - val_auc_37: 0.7474\n"
     ]
    },
    {
     "name": "stderr",
     "output_type": "stream",
     "text": [
      "\u001b[32m[I 2021-01-06 01:47:33,476]\u001b[0m Trial 37 finished with value: 0.7473541083160613 and parameters: {'step': 4, 'no._units': 510, 'number': 3, 'best_weight': {0: 1.0, 1: 12.0}}. Best is trial 22 with value: 0.7588774036486459.\u001b[0m\n"
     ]
    },
    {
     "name": "stdout",
     "output_type": "stream",
     "text": [
      "WARNING:tensorflow:sample_weight modes were coerced from\n",
      "  ...\n",
      "    to  \n",
      "  ['...']\n",
      "WARNING:tensorflow:sample_weight modes were coerced from\n",
      "  ...\n",
      "    to  \n",
      "  ['...']\n",
      "Train on 196038 samples, validate on 34595 samples\n",
      "Epoch 1/50\n",
      "196038/196038 [==============================] - 34s 175us/sample - loss: 1.1431 - auc_38: 0.7260 - val_loss: 1.1397 - val_auc_38: 0.7457\n",
      "Epoch 2/50\n",
      "196038/196038 [==============================] - 32s 166us/sample - loss: 1.0981 - auc_38: 0.7461 - val_loss: 168.7453 - val_auc_38: 0.7372\n",
      "Epoch 3/50\n",
      "196038/196038 [==============================] - 32s 165us/sample - loss: 1.0870 - auc_38: 0.7524 - val_loss: 16.2127 - val_auc_38: 0.7528\n",
      "Epoch 4/50\n",
      "196038/196038 [==============================] - 32s 165us/sample - loss: 1.0728 - auc_38: 0.7602 - val_loss: 280.1787 - val_auc_38: 0.7520\n",
      "Epoch 5/50\n",
      "196038/196038 [==============================] - 33s 166us/sample - loss: 1.0656 - auc_38: 0.7641 - val_loss: 90.4261 - val_auc_38: 0.7532\n"
     ]
    },
    {
     "name": "stderr",
     "output_type": "stream",
     "text": [
      "\u001b[32m[I 2021-01-06 01:50:20,784]\u001b[0m Trial 38 finished with value: 0.74568558188305 and parameters: {'step': 4, 'no._units': 475, 'number': 4, 'best_weight': {0: 1.0, 1: 11.38697}}. Best is trial 22 with value: 0.7588774036486459.\u001b[0m\n"
     ]
    },
    {
     "name": "stdout",
     "output_type": "stream",
     "text": [
      "WARNING:tensorflow:sample_weight modes were coerced from\n",
      "  ...\n",
      "    to  \n",
      "  ['...']\n",
      "WARNING:tensorflow:sample_weight modes were coerced from\n",
      "  ...\n",
      "    to  \n",
      "  ['...']\n",
      "Train on 196038 samples, validate on 34595 samples\n",
      "Epoch 1/50\n",
      "196038/196038 [==============================] - 25s 130us/sample - loss: 1.2428 - auc_39: 0.7332 - val_loss: 1.2412 - val_auc_39: 0.7456\n",
      "Epoch 2/50\n",
      "196038/196038 [==============================] - 24s 124us/sample - loss: 1.2054 - auc_39: 0.7498 - val_loss: 1.2270 - val_auc_39: 0.7534\n",
      "Epoch 3/50\n",
      "196038/196038 [==============================] - 24s 123us/sample - loss: 1.1898 - auc_39: 0.7584 - val_loss: 1.2373 - val_auc_39: 0.7585\n",
      "Epoch 4/50\n",
      "196038/196038 [==============================] - 24s 123us/sample - loss: 1.1821 - auc_39: 0.7620 - val_loss: 1.3062 - val_auc_39: 0.7578\n",
      "Epoch 5/50\n",
      "196038/196038 [==============================] - 24s 124us/sample - loss: 1.1742 - auc_39: 0.7659 - val_loss: 1.2270 - val_auc_39: 0.7590\n",
      "Epoch 6/50\n",
      "196038/196038 [==============================] - 24s 120us/sample - loss: 1.1704 - auc_39: 0.7676 - val_loss: 1.2627 - val_auc_39: 0.7575\n",
      "Epoch 7/50\n",
      "196038/196038 [==============================] - 24s 121us/sample - loss: 1.1652 - auc_39: 0.7699 - val_loss: 1.2535 - val_auc_39: 0.7576\n",
      "Epoch 8/50\n",
      "196038/196038 [==============================] - 24s 121us/sample - loss: 1.1678 - auc_39: 0.7689 - val_loss: 1.2919 - val_auc_39: 0.7570\n",
      "Epoch 9/50\n",
      "196038/196038 [==============================] - 24s 121us/sample - loss: 1.1657 - auc_39: 0.7701 - val_loss: 1.2788 - val_auc_39: 0.7588\n"
     ]
    },
    {
     "name": "stderr",
     "output_type": "stream",
     "text": [
      "\u001b[32m[I 2021-01-06 01:54:00,576]\u001b[0m Trial 39 finished with value: 0.7590064130471813 and parameters: {'step': 3, 'no._units': 237, 'number': 2, 'best_weight': {0: 1.0, 1: 14.0}}. Best is trial 39 with value: 0.7590064130471813.\u001b[0m\n"
     ]
    },
    {
     "name": "stdout",
     "output_type": "stream",
     "text": [
      "WARNING:tensorflow:sample_weight modes were coerced from\n",
      "  ...\n",
      "    to  \n",
      "  ['...']\n",
      "WARNING:tensorflow:sample_weight modes were coerced from\n",
      "  ...\n",
      "    to  \n",
      "  ['...']\n",
      "Train on 196038 samples, validate on 34595 samples\n",
      "Epoch 1/50\n",
      "196038/196038 [==============================] - 42s 213us/sample - loss: 1.2475 - auc_40: 0.7294 - val_loss: 1.3272 - val_auc_40: 0.7405\n",
      "Epoch 2/50\n",
      "196038/196038 [==============================] - 39s 200us/sample - loss: 1.2084 - auc_40: 0.7488 - val_loss: 1.2084 - val_auc_40: 0.7551\n",
      "Epoch 3/50\n",
      "196038/196038 [==============================] - 39s 199us/sample - loss: 1.1916 - auc_40: 0.7573 - val_loss: 1.1928 - val_auc_40: 0.7571\n",
      "Epoch 4/50\n",
      "196038/196038 [==============================] - 39s 200us/sample - loss: 1.1835 - auc_40: 0.7617 - val_loss: 1.1910 - val_auc_40: 0.7580\n",
      "Epoch 5/50\n",
      "196038/196038 [==============================] - 39s 200us/sample - loss: 1.1817 - auc_40: 0.7624 - val_loss: 1.1924 - val_auc_40: 0.7573\n",
      "Epoch 6/50\n",
      "196038/196038 [==============================] - 39s 199us/sample - loss: 1.1795 - auc_40: 0.7635 - val_loss: 1.1915 - val_auc_40: 0.7580\n",
      "Epoch 7/50\n",
      "196038/196038 [==============================] - 39s 197us/sample - loss: 1.1796 - auc_40: 0.7635 - val_loss: 1.1925 - val_auc_40: 0.7570\n",
      "Epoch 8/50\n",
      "196038/196038 [==============================] - 39s 198us/sample - loss: 1.1790 - auc_40: 0.7637 - val_loss: 1.1929 - val_auc_40: 0.7569\n"
     ]
    },
    {
     "name": "stderr",
     "output_type": "stream",
     "text": [
      "\u001b[32m[I 2021-01-06 01:59:19,509]\u001b[0m Trial 40 finished with value: 0.7579830912237064 and parameters: {'step': 2, 'no._units': 211, 'number': 6, 'best_weight': {0: 1.0, 1: 14.0}}. Best is trial 39 with value: 0.7590064130471813.\u001b[0m\n"
     ]
    },
    {
     "name": "stdout",
     "output_type": "stream",
     "text": [
      "WARNING:tensorflow:sample_weight modes were coerced from\n",
      "  ...\n",
      "    to  \n",
      "  ['...']\n",
      "WARNING:tensorflow:sample_weight modes were coerced from\n",
      "  ...\n",
      "    to  \n",
      "  ['...']\n",
      "Train on 196038 samples, validate on 34595 samples\n",
      "Epoch 1/50\n",
      "196038/196038 [==============================] - 42s 212us/sample - loss: 1.2521 - auc_41: 0.7279 - val_loss: 1.7790 - val_auc_41: 0.7423\n",
      "Epoch 2/50\n",
      "196038/196038 [==============================] - 39s 199us/sample - loss: 1.2078 - auc_41: 0.7492 - val_loss: 1.2114 - val_auc_41: 0.7538\n",
      "Epoch 3/50\n",
      "196038/196038 [==============================] - 39s 198us/sample - loss: 1.1923 - auc_41: 0.7573 - val_loss: 1.2017 - val_auc_41: 0.7565\n",
      "Epoch 4/50\n",
      "196038/196038 [==============================] - 39s 199us/sample - loss: 1.1839 - auc_41: 0.7613 - val_loss: 1.1964 - val_auc_41: 0.7561\n",
      "Epoch 5/50\n",
      "196038/196038 [==============================] - 39s 200us/sample - loss: 1.1798 - auc_41: 0.7635 - val_loss: 1.1962 - val_auc_41: 0.7564\n",
      "Epoch 6/50\n",
      "196038/196038 [==============================] - 39s 199us/sample - loss: 1.1782 - auc_41: 0.7638 - val_loss: 1.1959 - val_auc_41: 0.7563\n",
      "Epoch 7/50\n",
      "196038/196038 [==============================] - 39s 200us/sample - loss: 1.1752 - auc_41: 0.7657 - val_loss: 1.1982 - val_auc_41: 0.7571\n",
      "Epoch 8/50\n",
      "196038/196038 [==============================] - 39s 199us/sample - loss: 1.1749 - auc_41: 0.7658 - val_loss: 1.1963 - val_auc_41: 0.7562\n",
      "Epoch 9/50\n",
      "196038/196038 [==============================] - 39s 197us/sample - loss: 1.1763 - auc_41: 0.7650 - val_loss: 1.1961 - val_auc_41: 0.7561\n",
      "Epoch 10/50\n",
      "196038/196038 [==============================] - 39s 199us/sample - loss: 1.1753 - auc_41: 0.7658 - val_loss: 1.1974 - val_auc_41: 0.7560\n"
     ]
    },
    {
     "name": "stderr",
     "output_type": "stream",
     "text": [
      "\u001b[32m[I 2021-01-06 02:05:56,837]\u001b[0m Trial 41 finished with value: 0.7562179794315855 and parameters: {'step': 2, 'no._units': 247, 'number': 6, 'best_weight': {0: 1.0, 1: 14.0}}. Best is trial 39 with value: 0.7590064130471813.\u001b[0m\n"
     ]
    },
    {
     "name": "stdout",
     "output_type": "stream",
     "text": [
      "WARNING:tensorflow:sample_weight modes were coerced from\n",
      "  ...\n",
      "    to  \n",
      "  ['...']\n",
      "WARNING:tensorflow:sample_weight modes were coerced from\n",
      "  ...\n",
      "    to  \n",
      "  ['...']\n",
      "Train on 196038 samples, validate on 34595 samples\n",
      "Epoch 1/50\n",
      "196038/196038 [==============================] - 39s 201us/sample - loss: 1.2499 - auc_42: 0.7298 - val_loss: 1.2613 - val_auc_42: 0.7456\n",
      "Epoch 2/50\n",
      "196038/196038 [==============================] - 37s 191us/sample - loss: 1.2097 - auc_42: 0.7482 - val_loss: 1.2121 - val_auc_42: 0.7536\n",
      "Epoch 3/50\n",
      "196038/196038 [==============================] - 38s 195us/sample - loss: 1.1913 - auc_42: 0.7574 - val_loss: 1.2159 - val_auc_42: 0.7576\n",
      "Epoch 4/50\n",
      "196038/196038 [==============================] - 39s 198us/sample - loss: 1.1838 - auc_42: 0.7614 - val_loss: 1.1962 - val_auc_42: 0.7576\n",
      "Epoch 5/50\n",
      "196038/196038 [==============================] - 38s 196us/sample - loss: 1.1806 - auc_42: 0.7632 - val_loss: 1.1967 - val_auc_42: 0.7574\n",
      "Epoch 6/50\n",
      "196038/196038 [==============================] - 38s 196us/sample - loss: 1.1794 - auc_42: 0.7635 - val_loss: 1.2187 - val_auc_42: 0.7584\n",
      "Epoch 7/50\n",
      "196038/196038 [==============================] - 39s 197us/sample - loss: 1.1803 - auc_42: 0.7631 - val_loss: 1.2254 - val_auc_42: 0.7584\n",
      "Epoch 8/50\n",
      "196038/196038 [==============================] - 39s 197us/sample - loss: 1.1786 - auc_42: 0.7638 - val_loss: 1.2115 - val_auc_42: 0.7581\n"
     ]
    },
    {
     "name": "stderr",
     "output_type": "stream",
     "text": [
      "\u001b[32m[I 2021-01-06 02:11:08,653]\u001b[0m Trial 42 finished with value: 0.7576159846731566 and parameters: {'step': 2, 'no._units': 206, 'number': 6, 'best_weight': {0: 1.0, 1: 14.0}}. Best is trial 39 with value: 0.7590064130471813.\u001b[0m\n"
     ]
    },
    {
     "name": "stdout",
     "output_type": "stream",
     "text": [
      "WARNING:tensorflow:sample_weight modes were coerced from\n",
      "  ...\n",
      "    to  \n",
      "  ['...']\n",
      "WARNING:tensorflow:sample_weight modes were coerced from\n",
      "  ...\n",
      "    to  \n",
      "  ['...']\n",
      "Train on 196038 samples, validate on 34595 samples\n",
      "Epoch 1/50\n",
      "196038/196038 [==============================] - 43s 220us/sample - loss: 1.2546 - auc_43: 0.7255 - val_loss: 1.2854 - val_auc_43: 0.7443\n",
      "Epoch 2/50\n",
      "196038/196038 [==============================] - 39s 201us/sample - loss: 1.2095 - auc_43: 0.7482 - val_loss: 1.2195 - val_auc_43: 0.7529\n",
      "Epoch 3/50\n",
      "196038/196038 [==============================] - 40s 203us/sample - loss: 1.1952 - auc_43: 0.7555 - val_loss: 1.1994 - val_auc_43: 0.7551\n",
      "Epoch 4/50\n",
      "196038/196038 [==============================] - 40s 204us/sample - loss: 1.1850 - auc_43: 0.7606 - val_loss: 1.1995 - val_auc_43: 0.7557\n",
      "Epoch 5/50\n",
      "196038/196038 [==============================] - 40s 205us/sample - loss: 1.1823 - auc_43: 0.7616 - val_loss: 1.2006 - val_auc_43: 0.7564\n",
      "Epoch 6/50\n",
      "196038/196038 [==============================] - 40s 202us/sample - loss: 1.1827 - auc_43: 0.7619 - val_loss: 1.1994 - val_auc_43: 0.7556\n",
      "Epoch 7/50\n",
      "196038/196038 [==============================] - 40s 204us/sample - loss: 1.1829 - auc_43: 0.7616 - val_loss: 1.1998 - val_auc_43: 0.7556\n"
     ]
    },
    {
     "name": "stderr",
     "output_type": "stream",
     "text": [
      "\u001b[32m[I 2021-01-06 02:15:54,798]\u001b[0m Trial 43 finished with value: 0.7551449463768309 and parameters: {'step': 2, 'no._units': 211, 'number': 6, 'best_weight': {0: 1.0, 1: 14.0}}. Best is trial 39 with value: 0.7590064130471813.\u001b[0m\n"
     ]
    },
    {
     "name": "stdout",
     "output_type": "stream",
     "text": [
      "WARNING:tensorflow:sample_weight modes were coerced from\n",
      "  ...\n",
      "    to  \n",
      "  ['...']\n",
      "WARNING:tensorflow:sample_weight modes were coerced from\n",
      "  ...\n",
      "    to  \n",
      "  ['...']\n",
      "Train on 196038 samples, validate on 34595 samples\n",
      "Epoch 1/50\n",
      "196038/196038 [==============================] - 43s 218us/sample - loss: 1.2489 - auc_44: 0.7285 - val_loss: 1.2764 - val_auc_44: 0.7414\n",
      "Epoch 2/50\n",
      "196038/196038 [==============================] - 40s 203us/sample - loss: 1.2094 - auc_44: 0.7485 - val_loss: 1.2160 - val_auc_44: 0.7525\n",
      "Epoch 3/50\n",
      "196038/196038 [==============================] - 40s 204us/sample - loss: 1.1965 - auc_44: 0.7549 - val_loss: 1.2055 - val_auc_44: 0.7538\n",
      "Epoch 4/50\n",
      "196038/196038 [==============================] - 40s 204us/sample - loss: 1.1882 - auc_44: 0.7591 - val_loss: 1.2068 - val_auc_44: 0.7549\n",
      "Epoch 5/50\n",
      "196038/196038 [==============================] - 40s 205us/sample - loss: 1.1848 - auc_44: 0.7608 - val_loss: 1.2012 - val_auc_44: 0.7543\n",
      "Epoch 6/50\n",
      "196038/196038 [==============================] - 40s 205us/sample - loss: 1.1832 - auc_44: 0.7614 - val_loss: 1.2019 - val_auc_44: 0.7544\n",
      "Epoch 7/50\n",
      "196038/196038 [==============================] - 40s 204us/sample - loss: 1.1823 - auc_44: 0.7618 - val_loss: 1.2063 - val_auc_44: 0.7546\n",
      "Epoch 8/50\n",
      "196038/196038 [==============================] - 40s 205us/sample - loss: 1.1812 - auc_44: 0.7625 - val_loss: 1.2162 - val_auc_44: 0.7545\n",
      "Epoch 9/50\n",
      "196038/196038 [==============================] - 40s 203us/sample - loss: 1.1820 - auc_44: 0.7622 - val_loss: 1.2007 - val_auc_44: 0.7538\n",
      "Epoch 10/50\n",
      "196038/196038 [==============================] - 40s 205us/sample - loss: 1.1839 - auc_44: 0.7612 - val_loss: 1.2040 - val_auc_44: 0.7545\n",
      "Epoch 11/50\n",
      "196038/196038 [==============================] - 41s 207us/sample - loss: 1.1826 - auc_44: 0.7621 - val_loss: 1.2087 - val_auc_44: 0.7546\n",
      "Epoch 12/50\n",
      "196038/196038 [==============================] - 40s 206us/sample - loss: 1.1785 - auc_44: 0.7637 - val_loss: 1.2043 - val_auc_44: 0.7543\n",
      "Epoch 13/50\n",
      "196038/196038 [==============================] - 41s 207us/sample - loss: 1.1834 - auc_44: 0.7617 - val_loss: 1.2018 - val_auc_44: 0.7545\n"
     ]
    },
    {
     "name": "stderr",
     "output_type": "stream",
     "text": [
      "\u001b[32m[I 2021-01-06 02:24:43,467]\u001b[0m Trial 44 finished with value: 0.7538408695244719 and parameters: {'step': 2, 'no._units': 174, 'number': 6, 'best_weight': {0: 1.0, 1: 14.0}}. Best is trial 39 with value: 0.7590064130471813.\u001b[0m\n"
     ]
    },
    {
     "name": "stdout",
     "output_type": "stream",
     "text": [
      "WARNING:tensorflow:sample_weight modes were coerced from\n",
      "  ...\n",
      "    to  \n",
      "  ['...']\n",
      "WARNING:tensorflow:sample_weight modes were coerced from\n",
      "  ...\n",
      "    to  \n",
      "  ['...']\n",
      "Train on 196038 samples, validate on 34595 samples\n",
      "Epoch 1/50\n",
      "196038/196038 [==============================] - 44s 223us/sample - loss: 1.2568 - auc_45: 0.7262 - val_loss: 1.2937 - val_auc_45: 0.7395\n",
      "Epoch 2/50\n",
      "196038/196038 [==============================] - 40s 204us/sample - loss: 1.2091 - auc_45: 0.7486 - val_loss: 1.3832 - val_auc_45: 0.7511\n",
      "Epoch 3/50\n",
      "196038/196038 [==============================] - 40s 205us/sample - loss: 1.1929 - auc_45: 0.7568 - val_loss: 1.5350 - val_auc_45: 0.7468\n",
      "Epoch 4/50\n",
      "196038/196038 [==============================] - 40s 204us/sample - loss: 1.1837 - auc_45: 0.7612 - val_loss: 1.5874 - val_auc_45: 0.7481\n",
      "Epoch 5/50\n",
      "196038/196038 [==============================] - 40s 204us/sample - loss: 1.1807 - auc_45: 0.7631 - val_loss: 1.7187 - val_auc_45: 0.7456\n"
     ]
    },
    {
     "name": "stderr",
     "output_type": "stream",
     "text": [
      "\u001b[32m[I 2021-01-06 02:28:11,542]\u001b[0m Trial 45 finished with value: 0.739260285620211 and parameters: {'step': 2, 'no._units': 294, 'number': 6, 'best_weight': {0: 1.0, 1: 14.0}}. Best is trial 39 with value: 0.7590064130471813.\u001b[0m\n"
     ]
    },
    {
     "name": "stdout",
     "output_type": "stream",
     "text": [
      "WARNING:tensorflow:sample_weight modes were coerced from\n",
      "  ...\n",
      "    to  \n",
      "  ['...']\n",
      "WARNING:tensorflow:sample_weight modes were coerced from\n",
      "  ...\n",
      "    to  \n",
      "  ['...']\n",
      "Train on 196038 samples, validate on 34595 samples\n",
      "Epoch 1/50\n",
      "196038/196038 [==============================] - 43s 218us/sample - loss: 1.2474 - auc_46: 0.7287 - val_loss: 1.3103 - val_auc_46: 0.7332\n",
      "Epoch 2/50\n",
      "196038/196038 [==============================] - 40s 205us/sample - loss: 1.2158 - auc_46: 0.7452 - val_loss: 3.7234 - val_auc_46: 0.7377\n",
      "Epoch 3/50\n",
      "196038/196038 [==============================] - 40s 204us/sample - loss: 1.2044 - auc_46: 0.7514 - val_loss: 1.7916 - val_auc_46: 0.7511\n",
      "Epoch 4/50\n",
      "196038/196038 [==============================] - 40s 205us/sample - loss: 1.1925 - auc_46: 0.7571 - val_loss: 1.8669 - val_auc_46: 0.7563\n",
      "Epoch 5/50\n",
      "196038/196038 [==============================] - 40s 206us/sample - loss: 1.1846 - auc_46: 0.7612 - val_loss: 2.8860 - val_auc_46: 0.7565\n"
     ]
    },
    {
     "name": "stderr",
     "output_type": "stream",
     "text": [
      "\u001b[32m[I 2021-01-06 02:31:38,966]\u001b[0m Trial 46 finished with value: 0.7331969958767204 and parameters: {'step': 5, 'no._units': 135, 'number': 6, 'best_weight': {0: 1.0, 1: 14.0}}. Best is trial 39 with value: 0.7590064130471813.\u001b[0m\n"
     ]
    },
    {
     "name": "stdout",
     "output_type": "stream",
     "text": [
      "WARNING:tensorflow:sample_weight modes were coerced from\n",
      "  ...\n",
      "    to  \n",
      "  ['...']\n",
      "WARNING:tensorflow:sample_weight modes were coerced from\n",
      "  ...\n",
      "    to  \n",
      "  ['...']\n",
      "Train on 196038 samples, validate on 34595 samples\n",
      "Epoch 1/50\n",
      "196038/196038 [==============================] - 43s 219us/sample - loss: 1.2527 - auc_47: 0.7269 - val_loss: 1.2323 - val_auc_47: 0.7451\n",
      "Epoch 2/50\n",
      "196038/196038 [==============================] - 40s 204us/sample - loss: 1.2082 - auc_47: 0.7489 - val_loss: 1.2398 - val_auc_47: 0.7496\n",
      "Epoch 3/50\n",
      "196038/196038 [==============================] - 40s 203us/sample - loss: 1.1970 - auc_47: 0.7547 - val_loss: 1.2109 - val_auc_47: 0.7534\n",
      "Epoch 4/50\n",
      "196038/196038 [==============================] - 40s 203us/sample - loss: 1.1883 - auc_47: 0.7590 - val_loss: 1.2062 - val_auc_47: 0.7537\n",
      "Epoch 5/50\n",
      "196038/196038 [==============================] - 40s 203us/sample - loss: 1.1866 - auc_47: 0.7601 - val_loss: 1.2221 - val_auc_47: 0.7535\n",
      "Epoch 6/50\n",
      "196038/196038 [==============================] - 39s 200us/sample - loss: 1.1869 - auc_47: 0.7596 - val_loss: 1.3287 - val_auc_47: 0.7546\n",
      "Epoch 7/50\n",
      "196038/196038 [==============================] - 40s 204us/sample - loss: 1.1839 - auc_47: 0.7612 - val_loss: 1.6140 - val_auc_47: 0.7549\n",
      "Epoch 8/50\n",
      "196038/196038 [==============================] - 40s 204us/sample - loss: 1.1847 - auc_47: 0.7611 - val_loss: 1.2332 - val_auc_47: 0.7538\n"
     ]
    },
    {
     "name": "stderr",
     "output_type": "stream",
     "text": [
      "\u001b[32m[I 2021-01-06 02:37:04,847]\u001b[0m Trial 47 finished with value: 0.7537201462693452 and parameters: {'step': 2, 'no._units': 223, 'number': 6, 'best_weight': {0: 1.0, 1: 14.0}}. Best is trial 39 with value: 0.7590064130471813.\u001b[0m\n"
     ]
    },
    {
     "name": "stdout",
     "output_type": "stream",
     "text": [
      "WARNING:tensorflow:sample_weight modes were coerced from\n",
      "  ...\n",
      "    to  \n",
      "  ['...']\n",
      "WARNING:tensorflow:sample_weight modes were coerced from\n",
      "  ...\n",
      "    to  \n",
      "  ['...']\n",
      "Train on 196038 samples, validate on 34595 samples\n",
      "Epoch 1/50\n",
      "196038/196038 [==============================] - 38s 193us/sample - loss: 1.2517 - auc_48: 0.7286 - val_loss: 1.2642 - val_auc_48: 0.7465\n",
      "Epoch 2/50\n",
      "196038/196038 [==============================] - 36s 183us/sample - loss: 1.2065 - auc_48: 0.7501 - val_loss: 1.2053 - val_auc_48: 0.7509\n",
      "Epoch 3/50\n",
      "196038/196038 [==============================] - 36s 184us/sample - loss: 1.1953 - auc_48: 0.7555 - val_loss: 1.2031 - val_auc_48: 0.7552\n",
      "Epoch 4/50\n",
      "196038/196038 [==============================] - 36s 183us/sample - loss: 1.1836 - auc_48: 0.7617 - val_loss: 1.1989 - val_auc_48: 0.7544\n",
      "Epoch 5/50\n",
      "196038/196038 [==============================] - 36s 183us/sample - loss: 1.1831 - auc_48: 0.7619 - val_loss: 1.1994 - val_auc_48: 0.7537\n",
      "Epoch 6/50\n",
      "196038/196038 [==============================] - 36s 186us/sample - loss: 1.1786 - auc_48: 0.7645 - val_loss: 1.2049 - val_auc_48: 0.7544\n",
      "Epoch 7/50\n",
      "196038/196038 [==============================] - 36s 185us/sample - loss: 1.1793 - auc_48: 0.7638 - val_loss: 1.1993 - val_auc_48: 0.7540\n",
      "Epoch 8/50\n",
      "196038/196038 [==============================] - 36s 184us/sample - loss: 1.1771 - auc_48: 0.7652 - val_loss: 1.2009 - val_auc_48: 0.7532\n"
     ]
    },
    {
     "name": "stderr",
     "output_type": "stream",
     "text": [
      "\u001b[32m[I 2021-01-06 02:41:59,007]\u001b[0m Trial 48 finished with value: 0.7544346910381958 and parameters: {'step': 2, 'no._units': 262, 'number': 5, 'best_weight': {0: 1.0, 1: 14.0}}. Best is trial 39 with value: 0.7590064130471813.\u001b[0m\n"
     ]
    },
    {
     "name": "stdout",
     "output_type": "stream",
     "text": [
      "WARNING:tensorflow:sample_weight modes were coerced from\n",
      "  ...\n",
      "    to  \n",
      "  ['...']\n",
      "WARNING:tensorflow:sample_weight modes were coerced from\n",
      "  ...\n",
      "    to  \n",
      "  ['...']\n",
      "Train on 196038 samples, validate on 34595 samples\n",
      "Epoch 1/50\n",
      "196038/196038 [==============================] - 38s 194us/sample - loss: 1.2925 - auc_49: 0.7284 - val_loss: 1.2819 - val_auc_49: 0.7415\n",
      "Epoch 2/50\n",
      "196038/196038 [==============================] - 36s 183us/sample - loss: 1.2475 - auc_49: 0.7497 - val_loss: 1.2596 - val_auc_49: 0.7543\n",
      "Epoch 3/50\n",
      "196038/196038 [==============================] - 35s 181us/sample - loss: 1.2309 - auc_49: 0.7580 - val_loss: 1.2412 - val_auc_49: 0.7566\n",
      "Epoch 4/50\n",
      "196038/196038 [==============================] - 36s 182us/sample - loss: 1.2226 - auc_49: 0.7620 - val_loss: 1.2644 - val_auc_49: 0.7578\n",
      "Epoch 5/50\n",
      "196038/196038 [==============================] - 36s 182us/sample - loss: 1.2195 - auc_49: 0.7636 - val_loss: 1.2514 - val_auc_49: 0.7574\n",
      "Epoch 6/50\n",
      "196038/196038 [==============================] - 35s 180us/sample - loss: 1.2181 - auc_49: 0.7640 - val_loss: 1.2379 - val_auc_49: 0.7568\n",
      "Epoch 7/50\n",
      "196038/196038 [==============================] - 35s 180us/sample - loss: 1.2186 - auc_49: 0.7639 - val_loss: 1.2456 - val_auc_49: 0.7571\n",
      "Epoch 8/50\n",
      "196038/196038 [==============================] - 36s 181us/sample - loss: 1.2186 - auc_49: 0.7639 - val_loss: 1.2364 - val_auc_49: 0.7571\n",
      "Epoch 9/50\n",
      "196038/196038 [==============================] - 36s 183us/sample - loss: 1.2170 - auc_49: 0.7645 - val_loss: 1.2377 - val_auc_49: 0.7567\n",
      "Epoch 10/50\n",
      "196038/196038 [==============================] - 36s 182us/sample - loss: 1.2189 - auc_49: 0.7637 - val_loss: 1.2363 - val_auc_49: 0.7569\n",
      "Epoch 11/50\n",
      "196038/196038 [==============================] - 36s 183us/sample - loss: 1.2200 - auc_49: 0.7632 - val_loss: 1.2347 - val_auc_49: 0.7570\n",
      "Epoch 12/50\n",
      "196038/196038 [==============================] - 35s 181us/sample - loss: 1.2191 - auc_49: 0.7637 - val_loss: 1.2581 - val_auc_49: 0.7576\n",
      "Epoch 13/50\n",
      "196038/196038 [==============================] - 36s 184us/sample - loss: 1.2180 - auc_49: 0.7642 - val_loss: 1.2432 - val_auc_49: 0.7575\n",
      "Epoch 14/50\n",
      "196038/196038 [==============================] - 36s 184us/sample - loss: 1.2176 - auc_49: 0.7642 - val_loss: 1.2372 - val_auc_49: 0.7568\n",
      "Epoch 15/50\n",
      "196038/196038 [==============================] - 36s 182us/sample - loss: 1.2203 - auc_49: 0.7631 - val_loss: 1.2362 - val_auc_49: 0.7567\n"
     ]
    },
    {
     "name": "stderr",
     "output_type": "stream",
     "text": [
      "\u001b[32m[I 2021-01-06 02:51:01,192]\u001b[0m Trial 49 finished with value: 0.7570586402037869 and parameters: {'step': 2, 'no._units': 185, 'number': 5, 'best_weight': {0: 1.0, 1: 15.0}}. Best is trial 39 with value: 0.7590064130471813.\u001b[0m\n"
     ]
    }
   ],
   "source": [
    "# Extracting the best model parameters and best study score\n",
    "best_study_score,best_study_params = study_best_score_params(X_train_1, y_train_1, X_val, y_val, objective_wrappper_keras_eq_Nadam, cl_weight,\n",
    "                                                            n_trials=50)"
   ]
  },
  {
   "cell_type": "code",
   "execution_count": 26,
   "metadata": {},
   "outputs": [
    {
     "name": "stdout",
     "output_type": "stream",
     "text": [
      "The best roc_auc_score for the study is:  0.7590064130471813\n"
     ]
    }
   ],
   "source": [
    "print('The best roc_auc_score for the study is: ',best_study_score)"
   ]
  },
  {
   "cell_type": "code",
   "execution_count": 27,
   "metadata": {},
   "outputs": [
    {
     "name": "stdout",
     "output_type": "stream",
     "text": [
      "The best study parameters for the classifier are:  {'step': 3, 'no._units': 237, 'number': 2, 'best_weight': {0: 1.0, 1: 14.0}}\n"
     ]
    }
   ],
   "source": [
    "print('The best study parameters for the classifier are: ',best_study_params)"
   ]
  },
  {
   "cell_type": "code",
   "execution_count": 28,
   "metadata": {},
   "outputs": [],
   "source": [
    "# loading the best Neural Network\n",
    "Best_Model_elu = keras.models.load_model('Best_model_Elu_eq_Learn_nadam.h5')"
   ]
  },
  {
   "cell_type": "code",
   "execution_count": 29,
   "metadata": {},
   "outputs": [
    {
     "name": "stdout",
     "output_type": "stream",
     "text": [
      "Model: \"sequential_39\"\n",
      "_________________________________________________________________\n",
      "Layer (type)                 Output Shape              Param #   \n",
      "=================================================================\n",
      "batch_normalization_172 (Bat (None, 103)               412       \n",
      "_________________________________________________________________\n",
      "dense_172 (Dense)            (None, 237)               24648     \n",
      "_________________________________________________________________\n",
      "batch_normalization_173 (Bat (None, 237)               948       \n",
      "_________________________________________________________________\n",
      "dense_173 (Dense)            (None, 237)               56406     \n",
      "_________________________________________________________________\n",
      "batch_normalization_174 (Bat (None, 237)               948       \n",
      "_________________________________________________________________\n",
      "dense_174 (Dense)            (None, 1)                 238       \n",
      "=================================================================\n",
      "Total params: 83,600\n",
      "Trainable params: 82,446\n",
      "Non-trainable params: 1,154\n",
      "_________________________________________________________________\n"
     ]
    }
   ],
   "source": [
    "# Printing its summary\n",
    "Best_Model_elu.summary()"
   ]
  },
  {
   "cell_type": "code",
   "execution_count": 32,
   "metadata": {},
   "outputs": [
    {
     "name": "stdout",
     "output_type": "stream",
     "text": [
      "The roc_auc_score for the Reduced feature training set using the best Dense Neural Network using ELU activation classifier is  0.7727873525704507\n"
     ]
    }
   ],
   "source": [
    "# Calculating the Reduced feature training set roc_auc score using the pretrained Neural Network having \n",
    "# best study parameters & weights\n",
    "cal_roc_auc(X_train, y_train, Best_Model_elu, 'Reduced feature', 'training', 'Dense Neural Network using ELU activation')"
   ]
  },
  {
   "cell_type": "code",
   "execution_count": 33,
   "metadata": {},
   "outputs": [
    {
     "name": "stdout",
     "output_type": "stream",
     "text": [
      "The roc_auc_score for the Reduced feature test set using the best Dense Neural Network using ELU activation classifier is  0.7627502861257128\n"
     ]
    }
   ],
   "source": [
    "# Calculating the Reduced feature test set roc_auc score using the pretrained Neural Network having \n",
    "# best study parameters & weights\n",
    "cal_roc_auc(X_test, y_test, Best_Model_elu, 'Reduced feature', 'test', 'Dense Neural Network using ELU activation')"
   ]
  },
  {
   "cell_type": "markdown",
   "metadata": {},
   "source": [
    "### Calculating R_R ratio for Best Dense Neural Network with ELU activation & Nadam Optimizer"
   ]
  },
  {
   "cell_type": "code",
   "execution_count": 67,
   "metadata": {},
   "outputs": [],
   "source": [
    "# Defining the exponential decay learning rate with step 3.\n",
    "def exponential_decay_fn(epoch):\n",
    "            return 0.01 * 0.1**(epoch /3 )"
   ]
  },
  {
   "cell_type": "code",
   "execution_count": 68,
   "metadata": {},
   "outputs": [
    {
     "name": "stdout",
     "output_type": "stream",
     "text": [
      "WARNING:tensorflow:sample_weight modes were coerced from\n",
      "  ...\n",
      "    to  \n",
      "  ['...']\n",
      "WARNING:tensorflow:sample_weight modes were coerced from\n",
      "  ...\n",
      "    to  \n",
      "  ['...']\n",
      "Train on 156830 samples, validate on 27676 samples\n",
      "Epoch 1/50\n",
      "156830/156830 [==============================] - 22s 138us/sample - loss: 1.2058 - auc_156: 0.7502 - val_loss: 1.2193 - val_auc_156: 0.7572\n",
      "Epoch 2/50\n",
      "156830/156830 [==============================] - 20s 126us/sample - loss: 1.1882 - auc_156: 0.7597 - val_loss: 1.1920 - val_auc_156: 0.7624\n",
      "Epoch 3/50\n",
      "156830/156830 [==============================] - 20s 126us/sample - loss: 1.1738 - auc_156: 0.7662 - val_loss: 1.1758 - val_auc_156: 0.7645\n",
      "Epoch 4/50\n",
      "156830/156830 [==============================] - 20s 125us/sample - loss: 1.1644 - auc_156: 0.7712 - val_loss: 1.1798 - val_auc_156: 0.7636\n",
      "Epoch 5/50\n",
      "156830/156830 [==============================] - 20s 127us/sample - loss: 1.1553 - auc_156: 0.7751 - val_loss: 1.1815 - val_auc_156: 0.7630\n",
      "Epoch 6/50\n",
      "156830/156830 [==============================] - 20s 129us/sample - loss: 1.1518 - auc_156: 0.7770 - val_loss: 1.1819 - val_auc_156: 0.7638\n",
      "Epoch 7/50\n",
      "156830/156830 [==============================] - 22s 138us/sample - loss: 1.1504 - auc_156: 0.7775 - val_loss: 1.2993 - val_auc_156: 0.7646\n",
      "WARNING:tensorflow:sample_weight modes were coerced from\n",
      "  ...\n",
      "    to  \n",
      "  ['...']\n",
      "WARNING:tensorflow:sample_weight modes were coerced from\n",
      "  ...\n",
      "    to  \n",
      "  ['...']\n",
      "Train on 156830 samples, validate on 27676 samples\n",
      "Epoch 1/50\n",
      "156830/156830 [==============================] - 21s 132us/sample - loss: 1.2096 - auc_157: 0.7481 - val_loss: 1.2326 - val_auc_157: 0.7630\n",
      "Epoch 2/50\n",
      "156830/156830 [==============================] - 19s 123us/sample - loss: 1.1922 - auc_157: 0.7572 - val_loss: 1.1901 - val_auc_157: 0.7685\n",
      "Epoch 3/50\n",
      "156830/156830 [==============================] - 19s 124us/sample - loss: 1.1772 - auc_157: 0.7649 - val_loss: 1.2238 - val_auc_157: 0.7674\n",
      "Epoch 4/50\n",
      "156830/156830 [==============================] - 19s 122us/sample - loss: 1.1667 - auc_157: 0.7700 - val_loss: 1.1966 - val_auc_157: 0.7695\n",
      "Epoch 5/50\n",
      "156830/156830 [==============================] - 19s 118us/sample - loss: 1.1602 - auc_157: 0.7731 - val_loss: 1.2294 - val_auc_157: 0.7683\n",
      "Epoch 6/50\n",
      "156830/156830 [==============================] - 19s 120us/sample - loss: 1.1573 - auc_157: 0.7742 - val_loss: 1.2166 - val_auc_157: 0.7684\n",
      "WARNING:tensorflow:sample_weight modes were coerced from\n",
      "  ...\n",
      "    to  \n",
      "  ['...']\n",
      "WARNING:tensorflow:sample_weight modes were coerced from\n",
      "  ...\n",
      "    to  \n",
      "  ['...']\n",
      "Train on 156830 samples, validate on 27676 samples\n",
      "Epoch 1/50\n",
      "156830/156830 [==============================] - 22s 138us/sample - loss: 1.2146 - auc_158: 0.7457 - val_loss: 1.2050 - val_auc_158: 0.7666\n",
      "Epoch 2/50\n",
      "156830/156830 [==============================] - 20s 126us/sample - loss: 1.1949 - auc_158: 0.7551 - val_loss: 1.1733 - val_auc_158: 0.7678\n",
      "Epoch 3/50\n",
      "156830/156830 [==============================] - 22s 141us/sample - loss: 1.1819 - auc_158: 0.7618 - val_loss: 1.2689 - val_auc_158: 0.7691\n",
      "Epoch 4/50\n",
      "156830/156830 [==============================] - 20s 130us/sample - loss: 1.1734 - auc_158: 0.7660 - val_loss: 1.1854 - val_auc_158: 0.7708\n",
      "Epoch 5/50\n",
      "156830/156830 [==============================] - 21s 132us/sample - loss: 1.1666 - auc_158: 0.7693 - val_loss: 1.1710 - val_auc_158: 0.7713\n",
      "Epoch 6/50\n",
      "156830/156830 [==============================] - 21s 133us/sample - loss: 1.1605 - auc_158: 0.7722 - val_loss: 1.1662 - val_auc_158: 0.7722\n",
      "Epoch 7/50\n",
      "156830/156830 [==============================] - 24s 152us/sample - loss: 1.1601 - auc_158: 0.7726 - val_loss: 1.1800 - val_auc_158: 0.7713\n",
      "Epoch 8/50\n",
      "156830/156830 [==============================] - 22s 142us/sample - loss: 1.1599 - auc_158: 0.7722 - val_loss: 1.1789 - val_auc_158: 0.7713\n",
      "Epoch 9/50\n",
      "156830/156830 [==============================] - 21s 134us/sample - loss: 1.1618 - auc_158: 0.7712 - val_loss: 1.1720 - val_auc_158: 0.7717\n",
      "Epoch 10/50\n",
      "156830/156830 [==============================] - 21s 134us/sample - loss: 1.1601 - auc_158: 0.7723 - val_loss: 1.1747 - val_auc_158: 0.7715\n",
      "WARNING:tensorflow:sample_weight modes were coerced from\n",
      "  ...\n",
      "    to  \n",
      "  ['...']\n",
      "WARNING:tensorflow:sample_weight modes were coerced from\n",
      "  ...\n",
      "    to  \n",
      "  ['...']\n",
      "Train on 156830 samples, validate on 27677 samples\n",
      "Epoch 1/50\n",
      "156830/156830 [==============================] - 23s 149us/sample - loss: 1.2119 - auc_159: 0.7474 - val_loss: 1.3287 - val_auc_159: 0.7635\n",
      "Epoch 2/50\n",
      "156830/156830 [==============================] - 22s 139us/sample - loss: 1.1951 - auc_159: 0.7555 - val_loss: 1.3671 - val_auc_159: 0.7651\n",
      "Epoch 3/50\n",
      "156830/156830 [==============================] - 21s 132us/sample - loss: 1.1818 - auc_159: 0.7628 - val_loss: 1.3576 - val_auc_159: 0.7694\n",
      "Epoch 4/50\n",
      "156830/156830 [==============================] - 21s 132us/sample - loss: 1.1706 - auc_159: 0.7680 - val_loss: 1.2390 - val_auc_159: 0.7708\n",
      "Epoch 5/50\n",
      "156830/156830 [==============================] - 20s 130us/sample - loss: 1.1633 - auc_159: 0.7715 - val_loss: 1.3099 - val_auc_159: 0.7683\n",
      "Epoch 6/50\n",
      "156830/156830 [==============================] - 20s 125us/sample - loss: 1.1587 - auc_159: 0.7735 - val_loss: 1.2538 - val_auc_159: 0.7684\n",
      "Epoch 7/50\n",
      "156830/156830 [==============================] - 20s 126us/sample - loss: 1.1608 - auc_159: 0.7725 - val_loss: 1.2339 - val_auc_159: 0.7696\n",
      "Epoch 8/50\n",
      "156830/156830 [==============================] - 20s 129us/sample - loss: 1.1575 - auc_159: 0.7743 - val_loss: 1.2134 - val_auc_159: 0.7688\n",
      "Epoch 9/50\n",
      "156830/156830 [==============================] - 21s 135us/sample - loss: 1.1566 - auc_159: 0.7746 - val_loss: 1.2769 - val_auc_159: 0.7690\n",
      "Epoch 10/50\n",
      "156830/156830 [==============================] - 21s 133us/sample - loss: 1.1553 - auc_159: 0.7752 - val_loss: 1.2809 - val_auc_159: 0.7690\n",
      "Epoch 11/50\n",
      "156830/156830 [==============================] - 21s 133us/sample - loss: 1.1560 - auc_159: 0.7749 - val_loss: 1.2979 - val_auc_159: 0.7681\n",
      "Epoch 12/50\n",
      "156830/156830 [==============================] - 21s 133us/sample - loss: 1.1584 - auc_159: 0.7739 - val_loss: 1.3325 - val_auc_159: 0.7680\n",
      "WARNING:tensorflow:sample_weight modes were coerced from\n",
      "  ...\n",
      "    to  \n",
      "  ['...']\n",
      "WARNING:tensorflow:sample_weight modes were coerced from\n",
      "  ...\n",
      "    to  \n",
      "  ['...']\n",
      "Train on 156830 samples, validate on 27677 samples\n",
      "Epoch 1/50\n",
      "156830/156830 [==============================] - 22s 141us/sample - loss: 1.2131 - auc_160: 0.7464 - val_loss: 1.1887 - val_auc_160: 0.7658\n",
      "Epoch 2/50\n",
      "156830/156830 [==============================] - 21s 132us/sample - loss: 1.1937 - auc_160: 0.7567 - val_loss: 1.7305 - val_auc_160: 0.7705\n",
      "Epoch 3/50\n",
      "156830/156830 [==============================] - 21s 133us/sample - loss: 1.1789 - auc_160: 0.7640 - val_loss: 1.6537 - val_auc_160: 0.7735\n",
      "Epoch 4/50\n",
      "156830/156830 [==============================] - 21s 137us/sample - loss: 1.1703 - auc_160: 0.7684 - val_loss: 1.7318 - val_auc_160: 0.7715\n",
      "Epoch 5/50\n",
      "156830/156830 [==============================] - 21s 134us/sample - loss: 1.1653 - auc_160: 0.7709 - val_loss: 1.9280 - val_auc_160: 0.7708\n"
     ]
    }
   ],
   "source": [
    "# Computing  5 fold  CV predictions on the training set for the Neural Network with ELU activation & Nadam Optimizer\n",
    "scores_neural_nadam = []\n",
    "for train_index, test_index in cv_strat.split(X_train, y_train):\n",
    "    # Creating  Folds\n",
    "    X_tr, X_tst = X_train.loc[train_index], X_train.loc[test_index]\n",
    "    y_tr, y_tst = y_train.loc[train_index], y_train.loc[test_index]\n",
    "    \n",
    "    # Splitting the Training set further into training & validation set.\n",
    "    X_tr_r, X_val, y_tr_r, y_val = train_test_split(X_tr, y_tr, test_size=0.15, random_state=42, stratify=y_tr)\n",
    "    \n",
    "    # Loading fresh best keras dense model with ELU activation & Nadam Optimizer for training on 4 folds\n",
    "    neural = keras.models.load_model('Best_model_Elu_eq_Learn_nadam.h5')\n",
    "    \n",
    "    # comiling & Training the Neural Net\n",
    "    neural.compile(loss=\"binary_crossentropy\", optimizer=keras.optimizers.Nadam(beta_1=0.9, beta_2=0.999),\n",
    "                   metrics=[tf.keras.metrics.AUC(curve=\"ROC\")])\n",
    "    \n",
    "    # defining Checkpoints\n",
    "    checkpoint_cb = keras.callbacks.ModelCheckpoint('best_model.h5',save_best_only=True) # 1st Callback\n",
    "    early_stopping_cb = keras.callbacks.EarlyStopping(patience=4,restore_best_weights=True)# 2nd Callback\n",
    "    lr_scheduler_cb = keras.callbacks.LearningRateScheduler(exponential_decay_fn)# 3rd Callback\n",
    "    \n",
    "    # Fitting The model\n",
    "    neural.fit(X_tr_r, y_tr_r, epochs=50, validation_data=(X_val,y_val),batch_size=32,\n",
    "    class_weight={0: 1.0, 1: 14},callbacks=[checkpoint_cb,early_stopping_cb,lr_scheduler_cb])\n",
    "    \n",
    "    # Loading the best Neural model after training & before making predictions\n",
    "    neural_best = keras.models.load_model('best_model.h5')    \n",
    "    \n",
    "    # Saving the predictions for every fold in the scores list\n",
    "    y_pred = neural_best.predict_proba(X_tst)\n",
    "    scores_neural_nadam.append(roc_auc_score(y_tst,y_pred))\n",
    "      "
   ]
  },
  {
   "cell_type": "code",
   "execution_count": 69,
   "metadata": {},
   "outputs": [
    {
     "name": "stdout",
     "output_type": "stream",
     "text": [
      "The reward associated with the best Dense Neural Classifier (with ELU activation & Nadam Optimizer) using roc_auc metric is:  0.7592933689511144\n"
     ]
    }
   ],
   "source": [
    "print('The reward associated with the best Dense Neural Classifier (with ELU activation & Nadam Optimizer) using roc_auc metric is: ',np.mean(scores_neural_nadam))"
   ]
  },
  {
   "cell_type": "code",
   "execution_count": 70,
   "metadata": {},
   "outputs": [
    {
     "name": "stdout",
     "output_type": "stream",
     "text": [
      "The risk associated with the best Dense Neural Classifier (with ELU activation & Nadam Optimizer) using roc_auc metric is:  0.0050777337467766874\n"
     ]
    }
   ],
   "source": [
    "print('The risk associated with the best Dense Neural Classifier (with ELU activation & Nadam Optimizer) using roc_auc metric is: ',np.std(scores_neural_nadam))"
   ]
  },
  {
   "cell_type": "code",
   "execution_count": 71,
   "metadata": {},
   "outputs": [],
   "source": [
    "R_R_Ratio_elu_nadam = np.mean(scores_neural_nadam)/np.std(scores_neural_nadam)"
   ]
  },
  {
   "cell_type": "code",
   "execution_count": 72,
   "metadata": {},
   "outputs": [
    {
     "name": "stdout",
     "output_type": "stream",
     "text": [
      "The reward risk ratio for the best Dense Neural Classifier(with ELU activation & Nadam Optimizer) using roc_auc metric is:  149.5339076085092\n"
     ]
    }
   ],
   "source": [
    "print('The reward risk ratio for the best Dense Neural Classifier(with ELU activation & Nadam Optimizer) using roc_auc metric is: ',R_R_Ratio_elu_nadam)"
   ]
  },
  {
   "cell_type": "code",
   "execution_count": 92,
   "metadata": {},
   "outputs": [
    {
     "name": "stdout",
     "output_type": "stream",
     "text": [
      "5 fold CV roc_auc scores for the best Dense Neural Classifier(with ELU activation & Nadam Optimizer) are:  [0.7551102987489511, 0.7560758435889806, 0.76775648030497, 0.7625619551685514, 0.7549622669441196]\n"
     ]
    }
   ],
   "source": [
    "print('5 fold CV roc_auc scores for the best Dense Neural Classifier(with ELU activation & Nadam Optimizer) are: ',scores_neural_nadam)"
   ]
  },
  {
   "cell_type": "markdown",
   "metadata": {},
   "source": [
    "#### R_R Ratio for the best Dense Neural Classifier (with ELU activation & Nadam Optimizer) classifier using roc_auc metric is:  149.5339076085092"
   ]
  },
  {
   "cell_type": "markdown",
   "metadata": {},
   "source": [
    "## Observations:\n",
    "### 1)  The Dense Neural Classifier (with ELU activation & Nadam Optimizer)  has beautifully fitted the Training set, with no signs of overfitting. But though its test set roc_auc score is better than the previous dense neural net (with ELU activation & RMS Optimizer), its R_R ratio is much less than that of the latter.\n",
    "\n",
    "### 2) May be trying a different activation function  such as Leaky RELU may result in comparable/better test set roc_auc score & R_R ratio."
   ]
  },
  {
   "cell_type": "markdown",
   "metadata": {},
   "source": [
    "## Model_14: Keras Dense Model with Equal Neurons/layer, Leaky RELU Activation, Nadam optimizer & Tuned learning rate."
   ]
  },
  {
   "cell_type": "code",
   "execution_count": 34,
   "metadata": {},
   "outputs": [],
   "source": [
    "# Defining best roc_auc score\n",
    "best_roc_auc = 0"
   ]
  },
  {
   "cell_type": "code",
   "execution_count": 35,
   "metadata": {},
   "outputs": [],
   "source": [
    "# defining the objective function\n",
    "def objective_wrappper_keras_eq_leaky(X_tr, y_tr, X_val, y_val, cl_w):\n",
    "    '''\n",
    "    Optimizes Keras ,neural net with equal no. of neurons in each layer , best parameters \n",
    "    on the given training set: X_tr, y_tr using validation set: X_val,y_val & class weights: cl_w\n",
    "    \n",
    "    '''\n",
    "\n",
    "    def objective(trial):\n",
    "        s = trial.suggest_int('step',2,6)\n",
    "        def exponential_decay_fn(epoch):\n",
    "            return 0.01 * 0.1**(epoch /s )\n",
    "              \n",
    "        # building model & searching for the best no. of neural units per layer.\n",
    "        no_units = trial.suggest_int('no._units',100,600)# No. of Neurons in each layer\n",
    "        model = keras.models.Sequential()\n",
    "        model.add(keras.layers.InputLayer(input_shape=X_tr.shape[1:]))\n",
    "        model.add(keras.layers.BatchNormalization())# For normalization\n",
    "        for i in range(trial.suggest_int('number',2,5)):\n",
    "            model.add(keras.layers.Dense(units=no_units, kernel_initializer='he_normal'))\n",
    "            model.add(keras.layers.LeakyReLU(alpha=.2))\n",
    "            model.add(keras.layers.BatchNormalization())# For normalization\n",
    "        model.add(keras.layers.Dense(units=1,activation='sigmoid'))\n",
    "    \n",
    "        # Searching for the best learning rate.\n",
    "        #lr = trial.suggest_float(\"lr\", 1e-5, 1e-1, log=True) \n",
    "    \n",
    "        # Compiling the model\n",
    "        model.compile(loss=\"binary_crossentropy\", optimizer=keras.optimizers.Nadam(beta_1=0.9, beta_2=0.999),\n",
    "                      metrics=[tf.keras.metrics.AUC(curve=\"ROC\")])\n",
    "    \n",
    "        # Defining the Callbacks\n",
    "        checkpoint_cb = keras.callbacks.ModelCheckpoint('best_model.h5',save_best_only=True) # 1st Callback\n",
    "        early_stopping_cb = keras.callbacks.EarlyStopping(patience=4,restore_best_weights=True) # 2nd Callback, Stop if validation score doen't improve for\n",
    "        # 4 epochs        \n",
    "        lr_scheduler_cb = keras.callbacks.LearningRateScheduler(exponential_decay_fn)# 3rd Callback\n",
    "        #tensorboard_cb = keras.callbacks.TensorBoard(get_run_logdir()) \n",
    "        \n",
    "        #Fitting the model\n",
    "        model.fit(X_tr, y_tr, epochs=50, validation_data=(X_val,y_val), batch_size=32,\n",
    "             class_weight=trial.suggest_categorical('best_weight',cl_w),\n",
    "             callbacks=[checkpoint_cb, early_stopping_cb, lr_scheduler_cb])#,tensorboard_cb])\n",
    "    \n",
    "        # Loading the best model \n",
    "        model_best = keras.models.load_model('best_model.h5')\n",
    "    \n",
    "        # Computing the roc_auc_score for the validation set\n",
    "        roc_auc_1 = roc_auc_score(y_val,model_best.predict_proba(X_val))\n",
    "        global best_roc_auc\n",
    "        # Updating best_roc_auc score\n",
    "        if roc_auc_1 > best_roc_auc:\n",
    "            best_roc_auc = roc_auc_1\n",
    "            model_best.save('Best_model_Elu_eq_Learn_leaky.h5')\n",
    "        \n",
    "        return roc_auc_1\n",
    "    \n",
    "    return objective"
   ]
  },
  {
   "cell_type": "code",
   "execution_count": 36,
   "metadata": {},
   "outputs": [
    {
     "name": "stderr",
     "output_type": "stream",
     "text": [
      "\u001b[32m[I 2021-01-06 03:18:03,434]\u001b[0m A new study created in memory with name: no-name-4a0ddc42-a0c9-442a-9fab-575320ac69b5\u001b[0m\n"
     ]
    },
    {
     "name": "stdout",
     "output_type": "stream",
     "text": [
      "WARNING:tensorflow:sample_weight modes were coerced from\n",
      "  ...\n",
      "    to  \n",
      "  ['...']\n",
      "WARNING:tensorflow:sample_weight modes were coerced from\n",
      "  ...\n",
      "    to  \n",
      "  ['...']\n",
      "Train on 196038 samples, validate on 34595 samples\n",
      "Epoch 1/50\n",
      "196038/196038 [==============================] - 35s 179us/sample - loss: 1.3941 - auc_50: 0.7254 - val_loss: 1.3443 - val_auc_50: 0.7459\n",
      "Epoch 2/50\n",
      "196038/196038 [==============================] - 34s 171us/sample - loss: 1.3347 - auc_50: 0.7441 - val_loss: 1.3254 - val_auc_50: 0.7520\n",
      "Epoch 3/50\n",
      "196038/196038 [==============================] - 33s 171us/sample - loss: 1.3221 - auc_50: 0.7498 - val_loss: 1.3325 - val_auc_50: 0.7510\n",
      "Epoch 4/50\n",
      "196038/196038 [==============================] - 34s 172us/sample - loss: 1.3144 - auc_50: 0.7530 - val_loss: 1.3253 - val_auc_50: 0.7555\n",
      "Epoch 5/50\n",
      "196038/196038 [==============================] - 34s 172us/sample - loss: 1.3056 - auc_50: 0.7571 - val_loss: 1.3144 - val_auc_50: 0.7567\n",
      "Epoch 6/50\n",
      "196038/196038 [==============================] - 34s 172us/sample - loss: 1.2968 - auc_50: 0.7611 - val_loss: 1.3109 - val_auc_50: 0.7583\n",
      "Epoch 7/50\n",
      "196038/196038 [==============================] - 33s 171us/sample - loss: 1.2891 - auc_50: 0.7647 - val_loss: 1.3107 - val_auc_50: 0.7582\n",
      "Epoch 8/50\n",
      "196038/196038 [==============================] - 34s 174us/sample - loss: 1.2866 - auc_50: 0.7658 - val_loss: 1.3114 - val_auc_50: 0.7574\n",
      "Epoch 9/50\n",
      "196038/196038 [==============================] - 37s 188us/sample - loss: 1.2851 - auc_50: 0.7665 - val_loss: 1.3060 - val_auc_50: 0.7579\n",
      "Epoch 10/50\n",
      "196038/196038 [==============================] - 34s 173us/sample - loss: 1.2864 - auc_50: 0.7657 - val_loss: 1.3102 - val_auc_50: 0.7583\n",
      "Epoch 11/50\n",
      "196038/196038 [==============================] - 34s 173us/sample - loss: 1.2841 - auc_50: 0.7666 - val_loss: 1.3070 - val_auc_50: 0.7576\n",
      "Epoch 12/50\n",
      "196038/196038 [==============================] - 34s 173us/sample - loss: 1.2815 - auc_50: 0.7678 - val_loss: 1.3089 - val_auc_50: 0.7578\n",
      "Epoch 13/50\n",
      "196038/196038 [==============================] - 34s 173us/sample - loss: 1.2797 - auc_50: 0.7688 - val_loss: 1.3081 - val_auc_50: 0.7575\n"
     ]
    },
    {
     "name": "stderr",
     "output_type": "stream",
     "text": [
      "\u001b[32m[I 2021-01-06 03:25:30,279]\u001b[0m Trial 0 finished with value: 0.7578955969798178 and parameters: {'step': 5, 'no._units': 503, 'number': 4, 'best_weight': {0: 1.0, 1: 17.0}}. Best is trial 0 with value: 0.7578955969798178.\u001b[0m\n"
     ]
    },
    {
     "name": "stdout",
     "output_type": "stream",
     "text": [
      "WARNING:tensorflow:sample_weight modes were coerced from\n",
      "  ...\n",
      "    to  \n",
      "  ['...']\n",
      "WARNING:tensorflow:sample_weight modes were coerced from\n",
      "  ...\n",
      "    to  \n",
      "  ['...']\n",
      "Train on 196038 samples, validate on 34595 samples\n",
      "Epoch 1/50\n",
      "196038/196038 [==============================] - 29s 148us/sample - loss: 1.2896 - auc_51: 0.7317 - val_loss: 1.3333 - val_auc_51: 0.7455\n",
      "Epoch 2/50\n",
      "196038/196038 [==============================] - 28s 141us/sample - loss: 1.2542 - auc_51: 0.7456 - val_loss: 1.2749 - val_auc_51: 0.7477\n",
      "Epoch 3/50\n",
      "196038/196038 [==============================] - 27s 139us/sample - loss: 1.2451 - auc_51: 0.7505 - val_loss: 1.2853 - val_auc_51: 0.7541\n",
      "Epoch 4/50\n",
      "196038/196038 [==============================] - 28s 141us/sample - loss: 1.2361 - auc_51: 0.7545 - val_loss: 1.2436 - val_auc_51: 0.7538\n",
      "Epoch 5/50\n",
      "196038/196038 [==============================] - 28s 141us/sample - loss: 1.2300 - auc_51: 0.7579 - val_loss: 1.2470 - val_auc_51: 0.7566\n",
      "Epoch 6/50\n",
      "196038/196038 [==============================] - 28s 141us/sample - loss: 1.2280 - auc_51: 0.7587 - val_loss: 1.2346 - val_auc_51: 0.7573\n",
      "Epoch 7/50\n",
      "196038/196038 [==============================] - 28s 141us/sample - loss: 1.2215 - auc_51: 0.7622 - val_loss: 1.2412 - val_auc_51: 0.7574\n",
      "Epoch 8/50\n",
      "196038/196038 [==============================] - 28s 141us/sample - loss: 1.2165 - auc_51: 0.7645 - val_loss: 1.2394 - val_auc_51: 0.7559\n",
      "Epoch 9/50\n",
      "196038/196038 [==============================] - 28s 140us/sample - loss: 1.2153 - auc_51: 0.7648 - val_loss: 1.2354 - val_auc_51: 0.7563\n",
      "Epoch 10/50\n",
      "196038/196038 [==============================] - 28s 140us/sample - loss: 1.2132 - auc_51: 0.7658 - val_loss: 1.2464 - val_auc_51: 0.7571\n"
     ]
    },
    {
     "name": "stderr",
     "output_type": "stream",
     "text": [
      "\u001b[32m[I 2021-01-06 03:30:10,432]\u001b[0m Trial 1 finished with value: 0.7573424068404996 and parameters: {'step': 5, 'no._units': 301, 'number': 3, 'best_weight': {0: 1.0, 1: 15.0}}. Best is trial 0 with value: 0.7578955969798178.\u001b[0m\n"
     ]
    },
    {
     "name": "stdout",
     "output_type": "stream",
     "text": [
      "WARNING:tensorflow:sample_weight modes were coerced from\n",
      "  ...\n",
      "    to  \n",
      "  ['...']\n",
      "WARNING:tensorflow:sample_weight modes were coerced from\n",
      "  ...\n",
      "    to  \n",
      "  ['...']\n",
      "Train on 196038 samples, validate on 34595 samples\n",
      "Epoch 1/50\n",
      "196038/196038 [==============================] - 34s 173us/sample - loss: 1.2109 - auc_52: 0.7283 - val_loss: 1.1851 - val_auc_52: 0.7433\n",
      "Epoch 2/50\n",
      "196038/196038 [==============================] - 32s 161us/sample - loss: 1.1756 - auc_52: 0.7436 - val_loss: 1.1688 - val_auc_52: 0.7498\n",
      "Epoch 3/50\n",
      "196038/196038 [==============================] - 31s 160us/sample - loss: 1.1629 - auc_52: 0.7502 - val_loss: 1.2045 - val_auc_52: 0.7539\n",
      "Epoch 4/50\n",
      "196038/196038 [==============================] - 32s 162us/sample - loss: 1.1573 - auc_52: 0.7531 - val_loss: 1.1541 - val_auc_52: 0.7563\n",
      "Epoch 5/50\n",
      "196038/196038 [==============================] - 32s 162us/sample - loss: 1.1495 - auc_52: 0.7572 - val_loss: 1.1799 - val_auc_52: 0.7573\n",
      "Epoch 6/50\n",
      "196038/196038 [==============================] - 32s 162us/sample - loss: 1.1441 - auc_52: 0.7600 - val_loss: 1.1562 - val_auc_52: 0.7545\n",
      "Epoch 7/50\n",
      "196038/196038 [==============================] - 31s 160us/sample - loss: 1.1391 - auc_52: 0.7627 - val_loss: 1.1551 - val_auc_52: 0.7562\n",
      "Epoch 8/50\n",
      "196038/196038 [==============================] - 32s 161us/sample - loss: 1.1368 - auc_52: 0.7640 - val_loss: 1.1562 - val_auc_52: 0.7571\n"
     ]
    },
    {
     "name": "stderr",
     "output_type": "stream",
     "text": [
      "\u001b[32m[I 2021-01-06 03:34:29,855]\u001b[0m Trial 2 finished with value: 0.7562890196013001 and parameters: {'step': 6, 'no._units': 388, 'number': 4, 'best_weight': {0: 1.0, 1: 13.0}}. Best is trial 0 with value: 0.7578955969798178.\u001b[0m\n"
     ]
    },
    {
     "name": "stdout",
     "output_type": "stream",
     "text": [
      "WARNING:tensorflow:sample_weight modes were coerced from\n",
      "  ...\n",
      "    to  \n",
      "  ['...']\n",
      "WARNING:tensorflow:sample_weight modes were coerced from\n",
      "  ...\n",
      "    to  \n",
      "  ['...']\n",
      "Train on 196038 samples, validate on 34595 samples\n",
      "Epoch 1/50\n",
      "196038/196038 [==============================] - 37s 189us/sample - loss: 1.1546 - auc_53: 0.7311 - val_loss: 1.1462 - val_auc_53: 0.7447\n",
      "Epoch 2/50\n",
      "196038/196038 [==============================] - 35s 177us/sample - loss: 1.1266 - auc_53: 0.7452 - val_loss: 1.1371 - val_auc_53: 0.7484\n",
      "Epoch 3/50\n",
      "196038/196038 [==============================] - 34s 176us/sample - loss: 1.1174 - auc_53: 0.7507 - val_loss: 1.1114 - val_auc_53: 0.7554\n",
      "Epoch 4/50\n",
      "196038/196038 [==============================] - 34s 175us/sample - loss: 1.1062 - auc_53: 0.7568 - val_loss: 1.1127 - val_auc_53: 0.7543\n",
      "Epoch 5/50\n",
      "196038/196038 [==============================] - 35s 178us/sample - loss: 1.1034 - auc_53: 0.7583 - val_loss: 1.1117 - val_auc_53: 0.7560\n",
      "Epoch 6/50\n",
      "196038/196038 [==============================] - 35s 177us/sample - loss: 1.0977 - auc_53: 0.7614 - val_loss: 1.1228 - val_auc_53: 0.7583\n",
      "Epoch 7/50\n",
      "196038/196038 [==============================] - 35s 179us/sample - loss: 1.0943 - auc_53: 0.7634 - val_loss: 1.1078 - val_auc_53: 0.7587\n",
      "Epoch 8/50\n",
      "196038/196038 [==============================] - 36s 184us/sample - loss: 1.0912 - auc_53: 0.7648 - val_loss: 1.1064 - val_auc_53: 0.7580\n",
      "Epoch 9/50\n",
      "196038/196038 [==============================] - 36s 182us/sample - loss: 1.0919 - auc_53: 0.7646 - val_loss: 1.1062 - val_auc_53: 0.7581\n",
      "Epoch 10/50\n",
      "196038/196038 [==============================] - 36s 183us/sample - loss: 1.0905 - auc_53: 0.7654 - val_loss: 1.1048 - val_auc_53: 0.7582\n",
      "Epoch 11/50\n",
      "196038/196038 [==============================] - 36s 184us/sample - loss: 1.0896 - auc_53: 0.7659 - val_loss: 1.1045 - val_auc_53: 0.7583\n",
      "Epoch 12/50\n",
      "196038/196038 [==============================] - 36s 184us/sample - loss: 1.0895 - auc_53: 0.7660 - val_loss: 1.1062 - val_auc_53: 0.7581\n",
      "Epoch 13/50\n",
      "196038/196038 [==============================] - 36s 182us/sample - loss: 1.0899 - auc_53: 0.7656 - val_loss: 1.1065 - val_auc_53: 0.7582\n",
      "Epoch 14/50\n",
      "196038/196038 [==============================] - 36s 184us/sample - loss: 1.0881 - auc_53: 0.7670 - val_loss: 1.1067 - val_auc_53: 0.7583\n",
      "Epoch 15/50\n",
      "196038/196038 [==============================] - 36s 185us/sample - loss: 1.0892 - auc_53: 0.7661 - val_loss: 1.1082 - val_auc_53: 0.7578\n"
     ]
    },
    {
     "name": "stderr",
     "output_type": "stream",
     "text": [
      "\u001b[32m[I 2021-01-06 03:43:26,672]\u001b[0m Trial 3 finished with value: 0.7582419318801104 and parameters: {'step': 5, 'no._units': 154, 'number': 5, 'best_weight': {0: 1.0, 1: 12.0}}. Best is trial 3 with value: 0.7582419318801104.\u001b[0m\n"
     ]
    },
    {
     "name": "stdout",
     "output_type": "stream",
     "text": [
      "WARNING:tensorflow:sample_weight modes were coerced from\n",
      "  ...\n",
      "    to  \n",
      "  ['...']\n",
      "WARNING:tensorflow:sample_weight modes were coerced from\n",
      "  ...\n",
      "    to  \n",
      "  ['...']\n",
      "Train on 196038 samples, validate on 34595 samples\n",
      "Epoch 1/50\n",
      "196038/196038 [==============================] - 30s 153us/sample - loss: 1.3099 - auc_54: 0.7281 - val_loss: 1.2940 - val_auc_54: 0.7435\n",
      "Epoch 2/50\n",
      "196038/196038 [==============================] - 28s 144us/sample - loss: 1.2565 - auc_54: 0.7448 - val_loss: 1.2570 - val_auc_54: 0.7505\n",
      "Epoch 3/50\n",
      "196038/196038 [==============================] - 28s 144us/sample - loss: 1.2438 - auc_54: 0.7512 - val_loss: 1.2622 - val_auc_54: 0.7527\n",
      "Epoch 4/50\n",
      "196038/196038 [==============================] - 28s 143us/sample - loss: 1.2345 - auc_54: 0.7558 - val_loss: 1.2604 - val_auc_54: 0.7552\n",
      "Epoch 5/50\n",
      "196038/196038 [==============================] - 28s 144us/sample - loss: 1.2275 - auc_54: 0.7589 - val_loss: 1.2359 - val_auc_54: 0.7561\n",
      "Epoch 6/50\n",
      "196038/196038 [==============================] - 28s 143us/sample - loss: 1.2231 - auc_54: 0.7611 - val_loss: 1.2505 - val_auc_54: 0.7586\n",
      "Epoch 7/50\n",
      "196038/196038 [==============================] - 28s 142us/sample - loss: 1.2189 - auc_54: 0.7630 - val_loss: 1.2780 - val_auc_54: 0.7585\n",
      "Epoch 8/50\n",
      "196038/196038 [==============================] - 28s 143us/sample - loss: 1.2149 - auc_54: 0.7651 - val_loss: 1.2392 - val_auc_54: 0.7582\n",
      "Epoch 9/50\n",
      "196038/196038 [==============================] - 28s 142us/sample - loss: 1.2154 - auc_54: 0.7650 - val_loss: 1.2335 - val_auc_54: 0.7574\n",
      "Epoch 10/50\n",
      "196038/196038 [==============================] - 28s 144us/sample - loss: 1.2148 - auc_54: 0.7650 - val_loss: 1.2340 - val_auc_54: 0.7575\n",
      "Epoch 11/50\n",
      "196038/196038 [==============================] - 28s 143us/sample - loss: 1.2145 - auc_54: 0.7654 - val_loss: 1.2341 - val_auc_54: 0.7573\n",
      "Epoch 12/50\n",
      "196038/196038 [==============================] - 28s 143us/sample - loss: 1.2133 - auc_54: 0.7660 - val_loss: 1.2381 - val_auc_54: 0.7578\n",
      "Epoch 13/50\n",
      "196038/196038 [==============================] - 28s 142us/sample - loss: 1.2133 - auc_54: 0.7658 - val_loss: 1.2343 - val_auc_54: 0.7573\n"
     ]
    },
    {
     "name": "stderr",
     "output_type": "stream",
     "text": [
      "\u001b[32m[I 2021-01-06 03:49:36,757]\u001b[0m Trial 4 finished with value: 0.7574267656347424 and parameters: {'step': 4, 'no._units': 568, 'number': 3, 'best_weight': {0: 1.0, 1: 15.0}}. Best is trial 3 with value: 0.7582419318801104.\u001b[0m\n"
     ]
    },
    {
     "name": "stdout",
     "output_type": "stream",
     "text": [
      "WARNING:tensorflow:sample_weight modes were coerced from\n",
      "  ...\n",
      "    to  \n",
      "  ['...']\n",
      "WARNING:tensorflow:sample_weight modes were coerced from\n",
      "  ...\n",
      "    to  \n",
      "  ['...']\n",
      "Train on 196038 samples, validate on 34595 samples\n",
      "Epoch 1/50\n",
      "196038/196038 [==============================] - 36s 182us/sample - loss: 1.4328 - auc_55: 0.7248 - val_loss: 1.3753 - val_auc_55: 0.7463\n",
      "Epoch 2/50\n",
      "196038/196038 [==============================] - 34s 172us/sample - loss: 1.3722 - auc_55: 0.7431 - val_loss: 1.3734 - val_auc_55: 0.7495\n",
      "Epoch 3/50\n",
      "196038/196038 [==============================] - 33s 170us/sample - loss: 1.3608 - auc_55: 0.7480 - val_loss: 1.3710 - val_auc_55: 0.7539\n",
      "Epoch 4/50\n",
      "196038/196038 [==============================] - 34s 171us/sample - loss: 1.3482 - auc_55: 0.7537 - val_loss: 1.3489 - val_auc_55: 0.7549\n",
      "Epoch 5/50\n",
      "196038/196038 [==============================] - 34s 171us/sample - loss: 1.3414 - auc_55: 0.7568 - val_loss: 1.3484 - val_auc_55: 0.7565\n",
      "Epoch 6/50\n",
      "196038/196038 [==============================] - 34s 172us/sample - loss: 1.3358 - auc_55: 0.7589 - val_loss: 1.3546 - val_auc_55: 0.7559\n",
      "Epoch 7/50\n",
      "196038/196038 [==============================] - 34s 171us/sample - loss: 1.3300 - auc_55: 0.7616 - val_loss: 1.3515 - val_auc_55: 0.7561\n",
      "Epoch 8/50\n",
      "196038/196038 [==============================] - 33s 170us/sample - loss: 1.3267 - auc_55: 0.7636 - val_loss: 1.3520 - val_auc_55: 0.7586\n",
      "Epoch 9/50\n",
      "196038/196038 [==============================] - 34s 172us/sample - loss: 1.3195 - auc_55: 0.7663 - val_loss: 1.3455 - val_auc_55: 0.7572\n",
      "Epoch 10/50\n",
      "196038/196038 [==============================] - 34s 172us/sample - loss: 1.3187 - auc_55: 0.7668 - val_loss: 1.3421 - val_auc_55: 0.7572\n",
      "Epoch 11/50\n",
      "196038/196038 [==============================] - 34s 171us/sample - loss: 1.3164 - auc_55: 0.7674 - val_loss: 1.3448 - val_auc_55: 0.7564\n",
      "Epoch 12/50\n",
      "196038/196038 [==============================] - 33s 169us/sample - loss: 1.3160 - auc_55: 0.7681 - val_loss: 1.3457 - val_auc_55: 0.7562\n",
      "Epoch 13/50\n",
      "196038/196038 [==============================] - 33s 170us/sample - loss: 1.3153 - auc_55: 0.7682 - val_loss: 1.3465 - val_auc_55: 0.7561\n",
      "Epoch 14/50\n",
      "196038/196038 [==============================] - 34s 172us/sample - loss: 1.3119 - auc_55: 0.7694 - val_loss: 1.3452 - val_auc_55: 0.7564\n"
     ]
    },
    {
     "name": "stderr",
     "output_type": "stream",
     "text": [
      "\u001b[32m[I 2021-01-06 03:57:32,640]\u001b[0m Trial 5 finished with value: 0.7571489096302166 and parameters: {'step': 6, 'no._units': 588, 'number': 4, 'best_weight': {0: 1.0, 1: 18.0}}. Best is trial 3 with value: 0.7582419318801104.\u001b[0m\n"
     ]
    },
    {
     "name": "stdout",
     "output_type": "stream",
     "text": [
      "WARNING:tensorflow:sample_weight modes were coerced from\n",
      "  ...\n",
      "    to  \n",
      "  ['...']\n",
      "WARNING:tensorflow:sample_weight modes were coerced from\n",
      "  ...\n",
      "    to  \n",
      "  ['...']\n",
      "Train on 196038 samples, validate on 34595 samples\n",
      "Epoch 1/50\n",
      "196038/196038 [==============================] - 29s 146us/sample - loss: 1.3602 - auc_56: 0.7325 - val_loss: 1.3871 - val_auc_56: 0.7413\n",
      "Epoch 2/50\n",
      "196038/196038 [==============================] - 27s 140us/sample - loss: 1.3278 - auc_56: 0.7466 - val_loss: 1.3367 - val_auc_56: 0.7487\n",
      "Epoch 3/50\n",
      "196038/196038 [==============================] - 27s 139us/sample - loss: 1.3205 - auc_56: 0.7503 - val_loss: 1.3184 - val_auc_56: 0.7526\n",
      "Epoch 4/50\n",
      "196038/196038 [==============================] - 27s 138us/sample - loss: 1.3117 - auc_56: 0.7544 - val_loss: 1.3247 - val_auc_56: 0.7543\n",
      "Epoch 5/50\n",
      "196038/196038 [==============================] - 27s 139us/sample - loss: 1.3051 - auc_56: 0.7573 - val_loss: 1.3257 - val_auc_56: 0.7573\n",
      "Epoch 6/50\n",
      "196038/196038 [==============================] - 27s 139us/sample - loss: 1.2979 - auc_56: 0.7607 - val_loss: 1.3568 - val_auc_56: 0.7575\n",
      "Epoch 7/50\n",
      "196038/196038 [==============================] - 27s 138us/sample - loss: 1.2952 - auc_56: 0.7619 - val_loss: 1.3126 - val_auc_56: 0.7576\n",
      "Epoch 8/50\n",
      "196038/196038 [==============================] - 27s 138us/sample - loss: 1.2915 - auc_56: 0.7634 - val_loss: 1.3088 - val_auc_56: 0.7582\n",
      "Epoch 9/50\n",
      "196038/196038 [==============================] - 27s 140us/sample - loss: 1.2900 - auc_56: 0.7640 - val_loss: 1.3090 - val_auc_56: 0.7573\n",
      "Epoch 10/50\n",
      "196038/196038 [==============================] - 27s 139us/sample - loss: 1.2867 - auc_56: 0.7654 - val_loss: 1.3090 - val_auc_56: 0.7581\n",
      "Epoch 11/50\n",
      "196038/196038 [==============================] - 27s 139us/sample - loss: 1.2848 - auc_56: 0.7665 - val_loss: 1.3084 - val_auc_56: 0.7578\n",
      "Epoch 12/50\n",
      "196038/196038 [==============================] - 27s 139us/sample - loss: 1.2859 - auc_56: 0.7659 - val_loss: 1.3249 - val_auc_56: 0.7586\n",
      "Epoch 13/50\n",
      "196038/196038 [==============================] - 27s 138us/sample - loss: 1.2843 - auc_56: 0.7667 - val_loss: 1.3098 - val_auc_56: 0.7575\n",
      "Epoch 14/50\n",
      "196038/196038 [==============================] - 27s 139us/sample - loss: 1.2842 - auc_56: 0.7668 - val_loss: 1.3096 - val_auc_56: 0.7571\n",
      "Epoch 15/50\n",
      "196038/196038 [==============================] - 27s 138us/sample - loss: 1.2831 - auc_56: 0.7672 - val_loss: 1.3112 - val_auc_56: 0.7576\n"
     ]
    },
    {
     "name": "stderr",
     "output_type": "stream",
     "text": [
      "\u001b[32m[I 2021-01-06 04:04:25,141]\u001b[0m Trial 6 finished with value: 0.757768963092504 and parameters: {'step': 6, 'no._units': 182, 'number': 3, 'best_weight': {0: 1.0, 1: 17.0}}. Best is trial 3 with value: 0.7582419318801104.\u001b[0m\n"
     ]
    },
    {
     "name": "stdout",
     "output_type": "stream",
     "text": [
      "WARNING:tensorflow:sample_weight modes were coerced from\n",
      "  ...\n",
      "    to  \n",
      "  ['...']\n",
      "WARNING:tensorflow:sample_weight modes were coerced from\n",
      "  ...\n",
      "    to  \n",
      "  ['...']\n",
      "Train on 196038 samples, validate on 34595 samples\n",
      "Epoch 1/50\n",
      "196038/196038 [==============================] - 29s 147us/sample - loss: 1.3609 - auc_57: 0.7328 - val_loss: 1.3898 - val_auc_57: 0.7426\n",
      "Epoch 2/50\n",
      "196038/196038 [==============================] - 27s 139us/sample - loss: 1.3275 - auc_57: 0.7465 - val_loss: 1.3824 - val_auc_57: 0.7511\n",
      "Epoch 3/50\n",
      "196038/196038 [==============================] - 27s 139us/sample - loss: 1.3167 - auc_57: 0.7516 - val_loss: 1.3712 - val_auc_57: 0.7543\n",
      "Epoch 4/50\n",
      "196038/196038 [==============================] - 27s 139us/sample - loss: 1.3068 - auc_57: 0.7562 - val_loss: 1.3177 - val_auc_57: 0.7544\n",
      "Epoch 5/50\n",
      "196038/196038 [==============================] - 27s 139us/sample - loss: 1.3025 - auc_57: 0.7582 - val_loss: 1.3121 - val_auc_57: 0.7571\n",
      "Epoch 6/50\n",
      "196038/196038 [==============================] - 27s 139us/sample - loss: 1.2960 - auc_57: 0.7616 - val_loss: 1.3098 - val_auc_57: 0.7575\n",
      "Epoch 7/50\n",
      "196038/196038 [==============================] - 27s 139us/sample - loss: 1.2961 - auc_57: 0.7612 - val_loss: 1.3147 - val_auc_57: 0.7583\n",
      "Epoch 8/50\n",
      "196038/196038 [==============================] - 27s 139us/sample - loss: 1.2924 - auc_57: 0.7627 - val_loss: 1.3078 - val_auc_57: 0.7581\n",
      "Epoch 9/50\n",
      "196038/196038 [==============================] - 27s 139us/sample - loss: 1.2919 - auc_57: 0.7634 - val_loss: 1.3448 - val_auc_57: 0.7595\n",
      "Epoch 10/50\n",
      "196038/196038 [==============================] - 27s 139us/sample - loss: 1.2923 - auc_57: 0.7634 - val_loss: 1.3101 - val_auc_57: 0.7583\n",
      "Epoch 11/50\n",
      "196038/196038 [==============================] - 27s 139us/sample - loss: 1.2925 - auc_57: 0.7633 - val_loss: 1.3144 - val_auc_57: 0.7585\n",
      "Epoch 12/50\n",
      "196038/196038 [==============================] - 27s 137us/sample - loss: 1.2898 - auc_57: 0.7642 - val_loss: 1.3074 - val_auc_57: 0.7580\n",
      "Epoch 13/50\n",
      "196038/196038 [==============================] - 27s 138us/sample - loss: 1.2912 - auc_57: 0.7637 - val_loss: 1.3091 - val_auc_57: 0.7582\n",
      "Epoch 14/50\n",
      "196038/196038 [==============================] - 27s 138us/sample - loss: 1.2909 - auc_57: 0.7640 - val_loss: 1.3094 - val_auc_57: 0.7579\n",
      "Epoch 15/50\n",
      "196038/196038 [==============================] - 27s 139us/sample - loss: 1.2926 - auc_57: 0.7628 - val_loss: 1.3404 - val_auc_57: 0.7591\n",
      "Epoch 16/50\n",
      "196038/196038 [==============================] - 27s 139us/sample - loss: 1.2916 - auc_57: 0.7634 - val_loss: 1.3099 - val_auc_57: 0.7581\n"
     ]
    },
    {
     "name": "stderr",
     "output_type": "stream",
     "text": [
      "\u001b[32m[I 2021-01-06 04:11:44,689]\u001b[0m Trial 7 finished with value: 0.7580158980469311 and parameters: {'step': 4, 'no._units': 189, 'number': 3, 'best_weight': {0: 1.0, 1: 17.0}}. Best is trial 3 with value: 0.7582419318801104.\u001b[0m\n"
     ]
    },
    {
     "name": "stdout",
     "output_type": "stream",
     "text": [
      "WARNING:tensorflow:sample_weight modes were coerced from\n",
      "  ...\n",
      "    to  \n",
      "  ['...']\n",
      "WARNING:tensorflow:sample_weight modes were coerced from\n",
      "  ...\n",
      "    to  \n",
      "  ['...']\n",
      "Train on 196038 samples, validate on 34595 samples\n",
      "Epoch 1/50\n",
      "196038/196038 [==============================] - 24s 121us/sample - loss: 1.2882 - auc_58: 0.7315 - val_loss: 1.4387 - val_auc_58: 0.7001\n",
      "Epoch 2/50\n",
      "196038/196038 [==============================] - 22s 114us/sample - loss: 1.2505 - auc_58: 0.7480 - val_loss: 1.2501 - val_auc_58: 0.7541\n",
      "Epoch 3/50\n",
      "196038/196038 [==============================] - 22s 114us/sample - loss: 1.2357 - auc_58: 0.7551 - val_loss: 1.2428 - val_auc_58: 0.7541\n",
      "Epoch 4/50\n",
      "196038/196038 [==============================] - 23s 115us/sample - loss: 1.2320 - auc_58: 0.7566 - val_loss: 1.2339 - val_auc_58: 0.7572\n",
      "Epoch 5/50\n",
      "196038/196038 [==============================] - 23s 115us/sample - loss: 1.2259 - auc_58: 0.7595 - val_loss: 1.2660 - val_auc_58: 0.7582\n",
      "Epoch 6/50\n",
      "196038/196038 [==============================] - 22s 115us/sample - loss: 1.2213 - auc_58: 0.7622 - val_loss: 1.2987 - val_auc_58: 0.7589\n",
      "Epoch 7/50\n",
      "196038/196038 [==============================] - 22s 114us/sample - loss: 1.2191 - auc_58: 0.7629 - val_loss: 1.2385 - val_auc_58: 0.7576\n",
      "Epoch 8/50\n",
      "196038/196038 [==============================] - 23s 115us/sample - loss: 1.2190 - auc_58: 0.7629 - val_loss: 1.2364 - val_auc_58: 0.7575\n"
     ]
    },
    {
     "name": "stderr",
     "output_type": "stream",
     "text": [
      "\u001b[32m[I 2021-01-06 04:14:47,936]\u001b[0m Trial 8 finished with value: 0.7571358668351906 and parameters: {'step': 3, 'no._units': 233, 'number': 2, 'best_weight': {0: 1.0, 1: 15.0}}. Best is trial 3 with value: 0.7582419318801104.\u001b[0m\n"
     ]
    },
    {
     "name": "stdout",
     "output_type": "stream",
     "text": [
      "WARNING:tensorflow:sample_weight modes were coerced from\n",
      "  ...\n",
      "    to  \n",
      "  ['...']\n",
      "WARNING:tensorflow:sample_weight modes were coerced from\n",
      "  ...\n",
      "    to  \n",
      "  ['...']\n",
      "Train on 196038 samples, validate on 34595 samples\n",
      "Epoch 1/50\n",
      "196038/196038 [==============================] - 26s 133us/sample - loss: 1.3905 - auc_59: 0.7264 - val_loss: 1.3751 - val_auc_59: 0.7460\n",
      "Epoch 2/50\n",
      "196038/196038 [==============================] - 25s 125us/sample - loss: 1.3330 - auc_59: 0.7441 - val_loss: 1.3935 - val_auc_59: 0.7460\n",
      "Epoch 3/50\n",
      "196038/196038 [==============================] - 25s 125us/sample - loss: 1.3163 - auc_59: 0.7517 - val_loss: 1.3211 - val_auc_59: 0.7526\n",
      "Epoch 4/50\n",
      "196038/196038 [==============================] - 25s 126us/sample - loss: 1.3108 - auc_59: 0.7550 - val_loss: 1.3308 - val_auc_59: 0.7561\n",
      "Epoch 5/50\n",
      "196038/196038 [==============================] - 25s 125us/sample - loss: 1.3017 - auc_59: 0.7589 - val_loss: 1.3147 - val_auc_59: 0.7563\n",
      "Epoch 6/50\n",
      "196038/196038 [==============================] - 25s 126us/sample - loss: 1.2943 - auc_59: 0.7621 - val_loss: 1.3169 - val_auc_59: 0.7577\n",
      "Epoch 7/50\n",
      "196038/196038 [==============================] - 25s 126us/sample - loss: 1.2917 - auc_59: 0.7634 - val_loss: 1.3266 - val_auc_59: 0.7583\n",
      "Epoch 8/50\n",
      "196038/196038 [==============================] - 25s 126us/sample - loss: 1.2862 - auc_59: 0.7655 - val_loss: 1.3133 - val_auc_59: 0.7574\n",
      "Epoch 9/50\n",
      "196038/196038 [==============================] - 25s 126us/sample - loss: 1.2864 - auc_59: 0.7654 - val_loss: 1.3403 - val_auc_59: 0.7584\n",
      "Epoch 10/50\n",
      "196038/196038 [==============================] - 25s 125us/sample - loss: 1.2864 - auc_59: 0.7659 - val_loss: 1.3162 - val_auc_59: 0.7577\n",
      "Epoch 11/50\n",
      "196038/196038 [==============================] - 24s 124us/sample - loss: 1.2846 - auc_59: 0.7664 - val_loss: 1.3222 - val_auc_59: 0.7581\n",
      "Epoch 12/50\n",
      "196038/196038 [==============================] - 25s 126us/sample - loss: 1.2859 - auc_59: 0.7659 - val_loss: 1.3119 - val_auc_59: 0.7572\n",
      "Epoch 13/50\n",
      "196038/196038 [==============================] - 25s 126us/sample - loss: 1.2868 - auc_59: 0.7655 - val_loss: 1.3114 - val_auc_59: 0.7571\n",
      "Epoch 14/50\n",
      "196038/196038 [==============================] - 25s 126us/sample - loss: 1.2837 - auc_59: 0.7670 - val_loss: 1.3117 - val_auc_59: 0.7575\n",
      "Epoch 15/50\n",
      "196038/196038 [==============================] - 25s 125us/sample - loss: 1.2847 - auc_59: 0.7661 - val_loss: 1.3122 - val_auc_59: 0.7574\n",
      "Epoch 16/50\n",
      "196038/196038 [==============================] - 25s 126us/sample - loss: 1.2824 - auc_59: 0.7669 - val_loss: 1.3214 - val_auc_59: 0.7577\n",
      "Epoch 17/50\n",
      "196038/196038 [==============================] - 25s 125us/sample - loss: 1.2830 - auc_59: 0.7671 - val_loss: 1.3102 - val_auc_59: 0.7573\n",
      "Epoch 18/50\n",
      "196038/196038 [==============================] - 25s 126us/sample - loss: 1.2841 - auc_59: 0.7667 - val_loss: 1.3134 - val_auc_59: 0.7578\n",
      "Epoch 19/50\n",
      "196038/196038 [==============================] - 25s 126us/sample - loss: 1.2842 - auc_59: 0.7667 - val_loss: 1.3144 - val_auc_59: 0.7572\n",
      "Epoch 20/50\n",
      "196038/196038 [==============================] - 25s 126us/sample - loss: 1.2855 - auc_59: 0.7660 - val_loss: 1.3152 - val_auc_59: 0.7573\n",
      "Epoch 21/50\n",
      "196038/196038 [==============================] - 25s 126us/sample - loss: 1.2842 - auc_59: 0.7664 - val_loss: 1.3135 - val_auc_59: 0.7574\n"
     ]
    },
    {
     "name": "stderr",
     "output_type": "stream",
     "text": [
      "\u001b[32m[I 2021-01-06 04:23:29,921]\u001b[0m Trial 9 finished with value: 0.7572388131603682 and parameters: {'step': 4, 'no._units': 593, 'number': 2, 'best_weight': {0: 1.0, 1: 17.0}}. Best is trial 3 with value: 0.7582419318801104.\u001b[0m\n"
     ]
    },
    {
     "name": "stdout",
     "output_type": "stream",
     "text": [
      "WARNING:tensorflow:sample_weight modes were coerced from\n",
      "  ...\n",
      "    to  \n",
      "  ['...']\n",
      "WARNING:tensorflow:sample_weight modes were coerced from\n",
      "  ...\n",
      "    to  \n",
      "  ['...']\n",
      "Train on 196038 samples, validate on 34595 samples\n",
      "Epoch 1/50\n",
      "196038/196038 [==============================] - 37s 188us/sample - loss: 1.1505 - auc_60: 0.7322 - val_loss: 1.1353 - val_auc_60: 0.7477\n",
      "Epoch 2/50\n",
      "196038/196038 [==============================] - 35s 179us/sample - loss: 1.1210 - auc_60: 0.7483 - val_loss: 1.1222 - val_auc_60: 0.7509\n",
      "Epoch 3/50\n",
      "196038/196038 [==============================] - 35s 181us/sample - loss: 1.1104 - auc_60: 0.7545 - val_loss: 1.1136 - val_auc_60: 0.7534\n",
      "Epoch 4/50\n",
      "196038/196038 [==============================] - 38s 192us/sample - loss: 1.1062 - auc_60: 0.7566 - val_loss: 1.1130 - val_auc_60: 0.7535\n",
      "Epoch 5/50\n",
      "196038/196038 [==============================] - 36s 185us/sample - loss: 1.1052 - auc_60: 0.7571 - val_loss: 1.1152 - val_auc_60: 0.7544\n",
      "Epoch 6/50\n",
      "196038/196038 [==============================] - 37s 186us/sample - loss: 1.1044 - auc_60: 0.7576 - val_loss: 1.1144 - val_auc_60: 0.7541\n",
      "Epoch 7/50\n",
      "196038/196038 [==============================] - 36s 186us/sample - loss: 1.1047 - auc_60: 0.7574 - val_loss: 1.1307 - val_auc_60: 0.7549\n",
      "Epoch 8/50\n",
      "196038/196038 [==============================] - 37s 186us/sample - loss: 1.1032 - auc_60: 0.7581 - val_loss: 1.1198 - val_auc_60: 0.7545\n"
     ]
    },
    {
     "name": "stderr",
     "output_type": "stream",
     "text": [
      "\u001b[32m[I 2021-01-06 04:28:24,771]\u001b[0m Trial 10 finished with value: 0.7535229394337182 and parameters: {'step': 2, 'no._units': 101, 'number': 5, 'best_weight': {0: 1.0, 1: 12.0}}. Best is trial 3 with value: 0.7582419318801104.\u001b[0m\n"
     ]
    },
    {
     "name": "stdout",
     "output_type": "stream",
     "text": [
      "WARNING:tensorflow:sample_weight modes were coerced from\n",
      "  ...\n",
      "    to  \n",
      "  ['...']\n",
      "WARNING:tensorflow:sample_weight modes were coerced from\n",
      "  ...\n",
      "    to  \n",
      "  ['...']\n",
      "Train on 196038 samples, validate on 34595 samples\n",
      "Epoch 1/50\n",
      "196038/196038 [==============================] - 37s 189us/sample - loss: 1.2389 - auc_61: 0.7325 - val_loss: 1.2224 - val_auc_61: 0.7473\n",
      "Epoch 2/50\n",
      "196038/196038 [==============================] - 36s 182us/sample - loss: 1.2129 - auc_61: 0.7457 - val_loss: 1.2094 - val_auc_61: 0.7493\n",
      "Epoch 3/50\n",
      "196038/196038 [==============================] - 36s 183us/sample - loss: 1.2036 - auc_61: 0.7509 - val_loss: 1.1991 - val_auc_61: 0.7541\n",
      "Epoch 4/50\n",
      "196038/196038 [==============================] - 36s 184us/sample - loss: 1.1954 - auc_61: 0.7548 - val_loss: 1.2060 - val_auc_61: 0.7547\n",
      "Epoch 5/50\n",
      "196038/196038 [==============================] - 35s 180us/sample - loss: 1.1878 - auc_61: 0.7594 - val_loss: 1.1972 - val_auc_61: 0.7555\n",
      "Epoch 6/50\n",
      "196038/196038 [==============================] - 35s 179us/sample - loss: 1.1858 - auc_61: 0.7600 - val_loss: 1.1927 - val_auc_61: 0.7572\n",
      "Epoch 7/50\n",
      "196038/196038 [==============================] - 36s 183us/sample - loss: 1.1823 - auc_61: 0.7616 - val_loss: 1.1917 - val_auc_61: 0.7582\n",
      "Epoch 8/50\n",
      "196038/196038 [==============================] - 36s 182us/sample - loss: 1.1803 - auc_61: 0.7630 - val_loss: 1.1928 - val_auc_61: 0.7573\n",
      "Epoch 9/50\n",
      "196038/196038 [==============================] - 36s 183us/sample - loss: 1.1785 - auc_61: 0.7639 - val_loss: 1.1920 - val_auc_61: 0.7577\n",
      "Epoch 10/50\n",
      "196038/196038 [==============================] - 36s 183us/sample - loss: 1.1765 - auc_61: 0.7647 - val_loss: 1.1916 - val_auc_61: 0.7575\n",
      "Epoch 11/50\n",
      "196038/196038 [==============================] - 36s 183us/sample - loss: 1.1787 - auc_61: 0.7636 - val_loss: 1.1922 - val_auc_61: 0.7582\n",
      "Epoch 12/50\n",
      "196038/196038 [==============================] - 35s 180us/sample - loss: 1.1763 - auc_61: 0.7650 - val_loss: 1.1916 - val_auc_61: 0.7584\n",
      "Epoch 13/50\n",
      "196038/196038 [==============================] - 35s 178us/sample - loss: 1.1757 - auc_61: 0.7651 - val_loss: 1.1915 - val_auc_61: 0.7578\n",
      "Epoch 14/50\n",
      "196038/196038 [==============================] - 35s 179us/sample - loss: 1.1771 - auc_61: 0.7644 - val_loss: 1.1917 - val_auc_61: 0.7574\n",
      "Epoch 15/50\n",
      "196038/196038 [==============================] - 36s 185us/sample - loss: 1.1750 - auc_61: 0.7656 - val_loss: 1.1921 - val_auc_61: 0.7572\n",
      "Epoch 16/50\n",
      "196038/196038 [==============================] - 37s 186us/sample - loss: 1.1741 - auc_61: 0.7660 - val_loss: 1.1957 - val_auc_61: 0.7591\n",
      "Epoch 17/50\n",
      "196038/196038 [==============================] - 36s 184us/sample - loss: 1.1731 - auc_61: 0.7664 - val_loss: 1.1920 - val_auc_61: 0.7576\n"
     ]
    },
    {
     "name": "stderr",
     "output_type": "stream",
     "text": [
      "\u001b[32m[I 2021-01-06 04:38:37,239]\u001b[0m Trial 11 finished with value: 0.7578575719127479 and parameters: {'step': 5, 'no._units': 107, 'number': 5, 'best_weight': {0: 1.0, 1: 14.0}}. Best is trial 3 with value: 0.7582419318801104.\u001b[0m\n"
     ]
    },
    {
     "name": "stdout",
     "output_type": "stream",
     "text": [
      "WARNING:tensorflow:sample_weight modes were coerced from\n",
      "  ...\n",
      "    to  \n",
      "  ['...']\n",
      "WARNING:tensorflow:sample_weight modes were coerced from\n",
      "  ...\n",
      "    to  \n",
      "  ['...']\n",
      "Train on 196038 samples, validate on 34595 samples\n",
      "Epoch 1/50\n",
      "196038/196038 [==============================] - 38s 196us/sample - loss: 1.1224 - auc_62: 0.7327 - val_loss: 1.1370 - val_auc_62: 0.7465\n",
      "Epoch 2/50\n",
      "196038/196038 [==============================] - 36s 181us/sample - loss: 1.0940 - auc_62: 0.7474 - val_loss: 1.1065 - val_auc_62: 0.7503\n",
      "Epoch 3/50\n",
      "196038/196038 [==============================] - 36s 182us/sample - loss: 1.0842 - auc_62: 0.7528 - val_loss: 1.0987 - val_auc_62: 0.7547\n",
      "Epoch 4/50\n",
      "196038/196038 [==============================] - 36s 182us/sample - loss: 1.0782 - auc_62: 0.7562 - val_loss: 1.0839 - val_auc_62: 0.7556\n",
      "Epoch 5/50\n",
      "196038/196038 [==============================] - 35s 181us/sample - loss: 1.0733 - auc_62: 0.7590 - val_loss: 1.0807 - val_auc_62: 0.7565\n",
      "Epoch 6/50\n",
      "196038/196038 [==============================] - 35s 179us/sample - loss: 1.0699 - auc_62: 0.7611 - val_loss: 1.0816 - val_auc_62: 0.7568\n",
      "Epoch 7/50\n",
      "196038/196038 [==============================] - 36s 182us/sample - loss: 1.0696 - auc_62: 0.7614 - val_loss: 1.0826 - val_auc_62: 0.7567\n",
      "Epoch 8/50\n",
      "196038/196038 [==============================] - 36s 181us/sample - loss: 1.0676 - auc_62: 0.7622 - val_loss: 1.0845 - val_auc_62: 0.7568\n",
      "Epoch 9/50\n",
      "196038/196038 [==============================] - 35s 181us/sample - loss: 1.0683 - auc_62: 0.7620 - val_loss: 1.0806 - val_auc_62: 0.7566\n",
      "Epoch 10/50\n",
      "196038/196038 [==============================] - 36s 181us/sample - loss: 1.0667 - auc_62: 0.7628 - val_loss: 1.0954 - val_auc_62: 0.7573\n",
      "Epoch 11/50\n",
      "196038/196038 [==============================] - 35s 181us/sample - loss: 1.0684 - auc_62: 0.7622 - val_loss: 1.0827 - val_auc_62: 0.7570\n",
      "Epoch 12/50\n",
      "196038/196038 [==============================] - 35s 180us/sample - loss: 1.0689 - auc_62: 0.7616 - val_loss: 1.0802 - val_auc_62: 0.7564\n",
      "Epoch 13/50\n",
      "196038/196038 [==============================] - 35s 177us/sample - loss: 1.0683 - auc_62: 0.7620 - val_loss: 1.0898 - val_auc_62: 0.7573\n",
      "Epoch 14/50\n",
      "196038/196038 [==============================] - 35s 179us/sample - loss: 1.0675 - auc_62: 0.7626 - val_loss: 1.0878 - val_auc_62: 0.7572\n",
      "Epoch 15/50\n",
      "196038/196038 [==============================] - 35s 179us/sample - loss: 1.0677 - auc_62: 0.7628 - val_loss: 1.0795 - val_auc_62: 0.7567\n",
      "Epoch 16/50\n",
      "196038/196038 [==============================] - 35s 179us/sample - loss: 1.0682 - auc_62: 0.7620 - val_loss: 1.1129 - val_auc_62: 0.7578\n",
      "Epoch 17/50\n",
      "196038/196038 [==============================] - 38s 193us/sample - loss: 1.0683 - auc_62: 0.7619 - val_loss: 1.0800 - val_auc_62: 0.7567\n",
      "Epoch 18/50\n",
      "196038/196038 [==============================] - 35s 178us/sample - loss: 1.0690 - auc_62: 0.7617 - val_loss: 1.0823 - val_auc_62: 0.7569\n",
      "Epoch 19/50\n",
      "196038/196038 [==============================] - 35s 178us/sample - loss: 1.0695 - auc_62: 0.7612 - val_loss: 1.0810 - val_auc_62: 0.7568\n"
     ]
    },
    {
     "name": "stderr",
     "output_type": "stream",
     "text": [
      "\u001b[32m[I 2021-01-06 04:49:58,803]\u001b[0m Trial 12 finished with value: 0.7566350786720907 and parameters: {'step': 3, 'no._units': 177, 'number': 5, 'best_weight': {0: 1.0, 1: 11.38697}}. Best is trial 3 with value: 0.7582419318801104.\u001b[0m\n"
     ]
    },
    {
     "name": "stdout",
     "output_type": "stream",
     "text": [
      "WARNING:tensorflow:sample_weight modes were coerced from\n",
      "  ...\n",
      "    to  \n",
      "  ['...']\n",
      "WARNING:tensorflow:sample_weight modes were coerced from\n",
      "  ...\n",
      "    to  \n",
      "  ['...']\n",
      "Train on 196038 samples, validate on 34595 samples\n",
      "Epoch 1/50\n",
      "196038/196038 [==============================] - 29s 148us/sample - loss: 1.3287 - auc_63: 0.7314 - val_loss: 1.2976 - val_auc_63: 0.7473\n",
      "Epoch 2/50\n",
      "196038/196038 [==============================] - 27s 139us/sample - loss: 1.2916 - auc_63: 0.7466 - val_loss: 1.2979 - val_auc_63: 0.7488\n",
      "Epoch 3/50\n",
      "196038/196038 [==============================] - 27s 140us/sample - loss: 1.2811 - auc_63: 0.7514 - val_loss: 1.3031 - val_auc_63: 0.7542\n",
      "Epoch 4/50\n",
      "196038/196038 [==============================] - 27s 140us/sample - loss: 1.2706 - auc_63: 0.7563 - val_loss: 1.2796 - val_auc_63: 0.7540\n",
      "Epoch 5/50\n",
      "196038/196038 [==============================] - 27s 140us/sample - loss: 1.2651 - auc_63: 0.7592 - val_loss: 1.2746 - val_auc_63: 0.7553\n",
      "Epoch 6/50\n",
      "196038/196038 [==============================] - 27s 139us/sample - loss: 1.2584 - auc_63: 0.7622 - val_loss: 1.2893 - val_auc_63: 0.7572\n",
      "Epoch 7/50\n",
      "196038/196038 [==============================] - 27s 140us/sample - loss: 1.2579 - auc_63: 0.7624 - val_loss: 1.2770 - val_auc_63: 0.7560\n",
      "Epoch 8/50\n",
      "196038/196038 [==============================] - 28s 140us/sample - loss: 1.2590 - auc_63: 0.7618 - val_loss: 1.2751 - val_auc_63: 0.7558\n",
      "Epoch 9/50\n",
      "196038/196038 [==============================] - 27s 140us/sample - loss: 1.2566 - auc_63: 0.7634 - val_loss: 1.2752 - val_auc_63: 0.7560\n"
     ]
    },
    {
     "name": "stderr",
     "output_type": "stream",
     "text": [
      "\u001b[32m[I 2021-01-06 04:54:09,806]\u001b[0m Trial 13 finished with value: 0.7552960896856136 and parameters: {'step': 3, 'no._units': 287, 'number': 3, 'best_weight': {0: 1.0, 1: 16.0}}. Best is trial 3 with value: 0.7582419318801104.\u001b[0m\n"
     ]
    },
    {
     "name": "stdout",
     "output_type": "stream",
     "text": [
      "WARNING:tensorflow:sample_weight modes were coerced from\n",
      "  ...\n",
      "    to  \n",
      "  ['...']\n",
      "WARNING:tensorflow:sample_weight modes were coerced from\n",
      "  ...\n",
      "    to  \n",
      "  ['...']\n",
      "Train on 196038 samples, validate on 34595 samples\n",
      "Epoch 1/50\n",
      "196038/196038 [==============================] - 25s 129us/sample - loss: 1.1586 - auc_64: 0.7306 - val_loss: 1.3345 - val_auc_64: 0.7296\n",
      "Epoch 2/50\n",
      "196038/196038 [==============================] - 24s 122us/sample - loss: 1.1274 - auc_64: 0.7449 - val_loss: 1.1221 - val_auc_64: 0.7495\n",
      "Epoch 3/50\n",
      "196038/196038 [==============================] - 24s 122us/sample - loss: 1.1164 - auc_64: 0.7512 - val_loss: 1.1184 - val_auc_64: 0.7537\n",
      "Epoch 4/50\n",
      "196038/196038 [==============================] - 24s 122us/sample - loss: 1.1074 - auc_64: 0.7563 - val_loss: 1.1092 - val_auc_64: 0.7565\n",
      "Epoch 5/50\n",
      "196038/196038 [==============================] - 24s 122us/sample - loss: 1.1015 - auc_64: 0.7594 - val_loss: 1.1251 - val_auc_64: 0.7579\n",
      "Epoch 6/50\n",
      "196038/196038 [==============================] - 24s 121us/sample - loss: 1.0955 - auc_64: 0.7628 - val_loss: 1.1073 - val_auc_64: 0.7574\n",
      "Epoch 7/50\n",
      "196038/196038 [==============================] - 24s 122us/sample - loss: 1.0939 - auc_64: 0.7637 - val_loss: 1.1063 - val_auc_64: 0.7583\n",
      "Epoch 8/50\n",
      "196038/196038 [==============================] - 24s 122us/sample - loss: 1.0909 - auc_64: 0.7652 - val_loss: 1.1069 - val_auc_64: 0.7586\n",
      "Epoch 9/50\n",
      "196038/196038 [==============================] - 24s 121us/sample - loss: 1.0890 - auc_64: 0.7661 - val_loss: 1.1069 - val_auc_64: 0.7584\n",
      "Epoch 10/50\n",
      "196038/196038 [==============================] - 24s 122us/sample - loss: 1.0883 - auc_64: 0.7667 - val_loss: 1.1078 - val_auc_64: 0.7576\n",
      "Epoch 11/50\n",
      "196038/196038 [==============================] - 24s 122us/sample - loss: 1.0880 - auc_64: 0.7669 - val_loss: 1.1074 - val_auc_64: 0.7576\n"
     ]
    },
    {
     "name": "stderr",
     "output_type": "stream",
     "text": [
      "\u001b[32m[I 2021-01-06 04:58:36,610]\u001b[0m Trial 14 finished with value: 0.7583467245741998 and parameters: {'step': 5, 'no._units': 407, 'number': 2, 'best_weight': {0: 1.0, 1: 12.0}}. Best is trial 14 with value: 0.7583467245741998.\u001b[0m\n"
     ]
    },
    {
     "name": "stdout",
     "output_type": "stream",
     "text": [
      "WARNING:tensorflow:sample_weight modes were coerced from\n",
      "  ...\n",
      "    to  \n",
      "  ['...']\n",
      "WARNING:tensorflow:sample_weight modes were coerced from\n",
      "  ...\n",
      "    to  \n",
      "  ['...']\n",
      "Train on 196038 samples, validate on 34595 samples\n",
      "Epoch 1/50\n",
      "196038/196038 [==============================] - 25s 128us/sample - loss: 1.1578 - auc_65: 0.7317 - val_loss: 1.1525 - val_auc_65: 0.7388\n",
      "Epoch 2/50\n",
      "196038/196038 [==============================] - 24s 121us/sample - loss: 1.1242 - auc_65: 0.7465 - val_loss: 1.1547 - val_auc_65: 0.7490\n",
      "Epoch 3/50\n",
      "196038/196038 [==============================] - 24s 121us/sample - loss: 1.1175 - auc_65: 0.7502 - val_loss: 1.1294 - val_auc_65: 0.7528\n",
      "Epoch 4/50\n",
      "196038/196038 [==============================] - 24s 121us/sample - loss: 1.1061 - auc_65: 0.7569 - val_loss: 1.1184 - val_auc_65: 0.7552\n",
      "Epoch 5/50\n",
      "196038/196038 [==============================] - 24s 121us/sample - loss: 1.1018 - auc_65: 0.7594 - val_loss: 1.1252 - val_auc_65: 0.7567\n",
      "Epoch 6/50\n",
      "196038/196038 [==============================] - 24s 122us/sample - loss: 1.0958 - auc_65: 0.7626 - val_loss: 1.1122 - val_auc_65: 0.7568\n",
      "Epoch 7/50\n",
      "196038/196038 [==============================] - 24s 122us/sample - loss: 1.0947 - auc_65: 0.7630 - val_loss: 1.1077 - val_auc_65: 0.7573\n",
      "Epoch 8/50\n",
      "196038/196038 [==============================] - 24s 121us/sample - loss: 1.0888 - auc_65: 0.7667 - val_loss: 1.1107 - val_auc_65: 0.7587\n",
      "Epoch 9/50\n",
      "196038/196038 [==============================] - 24s 122us/sample - loss: 1.0867 - auc_65: 0.7672 - val_loss: 1.1198 - val_auc_65: 0.7591\n",
      "Epoch 10/50\n",
      "196038/196038 [==============================] - 24s 121us/sample - loss: 1.0855 - auc_65: 0.7682 - val_loss: 1.1082 - val_auc_65: 0.7578\n",
      "Epoch 11/50\n",
      "196038/196038 [==============================] - 24s 120us/sample - loss: 1.0868 - auc_65: 0.7670 - val_loss: 1.1098 - val_auc_65: 0.7585\n"
     ]
    },
    {
     "name": "stderr",
     "output_type": "stream",
     "text": [
      "\u001b[32m[I 2021-01-06 05:03:02,046]\u001b[0m Trial 15 finished with value: 0.7573305067676964 and parameters: {'step': 5, 'no._units': 416, 'number': 2, 'best_weight': {0: 1.0, 1: 12.0}}. Best is trial 14 with value: 0.7583467245741998.\u001b[0m\n"
     ]
    },
    {
     "name": "stdout",
     "output_type": "stream",
     "text": [
      "WARNING:tensorflow:sample_weight modes were coerced from\n",
      "  ...\n",
      "    to  \n",
      "  ['...']\n",
      "WARNING:tensorflow:sample_weight modes were coerced from\n",
      "  ...\n",
      "    to  \n",
      "  ['...']\n",
      "Train on 196038 samples, validate on 34595 samples\n",
      "Epoch 1/50\n",
      "196038/196038 [==============================] - 34s 174us/sample - loss: 1.1684 - auc_66: 0.7281 - val_loss: 1.1449 - val_auc_66: 0.7433\n",
      "Epoch 2/50\n",
      "196038/196038 [==============================] - 32s 165us/sample - loss: 1.1279 - auc_66: 0.7449 - val_loss: 1.1623 - val_auc_66: 0.7487\n",
      "Epoch 3/50\n",
      "196038/196038 [==============================] - 32s 164us/sample - loss: 1.1191 - auc_66: 0.7498 - val_loss: 1.1257 - val_auc_66: 0.7548\n",
      "Epoch 4/50\n",
      "196038/196038 [==============================] - 32s 162us/sample - loss: 1.1101 - auc_66: 0.7548 - val_loss: 1.1307 - val_auc_66: 0.7558\n",
      "Epoch 5/50\n",
      "196038/196038 [==============================] - 32s 164us/sample - loss: 1.1026 - auc_66: 0.7589 - val_loss: 1.1108 - val_auc_66: 0.7574\n",
      "Epoch 6/50\n",
      "196038/196038 [==============================] - 32s 163us/sample - loss: 1.0969 - auc_66: 0.7619 - val_loss: 1.1123 - val_auc_66: 0.7594\n",
      "Epoch 7/50\n",
      "196038/196038 [==============================] - 32s 163us/sample - loss: 1.0923 - auc_66: 0.7645 - val_loss: 1.1053 - val_auc_66: 0.7586\n",
      "Epoch 8/50\n",
      "196038/196038 [==============================] - 32s 163us/sample - loss: 1.0898 - auc_66: 0.7659 - val_loss: 1.1077 - val_auc_66: 0.7579\n",
      "Epoch 9/50\n",
      "196038/196038 [==============================] - 32s 162us/sample - loss: 1.0868 - auc_66: 0.7675 - val_loss: 1.1060 - val_auc_66: 0.7574\n",
      "Epoch 10/50\n",
      "196038/196038 [==============================] - 32s 165us/sample - loss: 1.0863 - auc_66: 0.7679 - val_loss: 1.1060 - val_auc_66: 0.7577\n",
      "Epoch 11/50\n",
      "196038/196038 [==============================] - 32s 164us/sample - loss: 1.0845 - auc_66: 0.7686 - val_loss: 1.1066 - val_auc_66: 0.7581\n"
     ]
    },
    {
     "name": "stderr",
     "output_type": "stream",
     "text": [
      "\u001b[32m[I 2021-01-06 05:09:00,223]\u001b[0m Trial 16 finished with value: 0.7586002287741148 and parameters: {'step': 5, 'no._units': 464, 'number': 4, 'best_weight': {0: 1.0, 1: 12.0}}. Best is trial 16 with value: 0.7586002287741148.\u001b[0m\n"
     ]
    },
    {
     "name": "stdout",
     "output_type": "stream",
     "text": [
      "WARNING:tensorflow:sample_weight modes were coerced from\n",
      "  ...\n",
      "    to  \n",
      "  ['...']\n",
      "WARNING:tensorflow:sample_weight modes were coerced from\n",
      "  ...\n",
      "    to  \n",
      "  ['...']\n",
      "Train on 196038 samples, validate on 34595 samples\n",
      "Epoch 1/50\n",
      "196038/196038 [==============================] - 35s 180us/sample - loss: 1.1732 - auc_67: 0.7262 - val_loss: 1.1767 - val_auc_67: 0.7408\n",
      "Epoch 2/50\n",
      "196038/196038 [==============================] - 32s 163us/sample - loss: 1.1302 - auc_67: 0.7440 - val_loss: 1.1212 - val_auc_67: 0.7498\n",
      "Epoch 3/50\n",
      "196038/196038 [==============================] - 32s 164us/sample - loss: 1.1202 - auc_67: 0.7495 - val_loss: 1.1193 - val_auc_67: 0.7530\n",
      "Epoch 4/50\n",
      "196038/196038 [==============================] - 32s 161us/sample - loss: 1.1105 - auc_67: 0.7549 - val_loss: 1.1201 - val_auc_67: 0.7551\n",
      "Epoch 5/50\n",
      "196038/196038 [==============================] - 32s 163us/sample - loss: 1.1042 - auc_67: 0.7581 - val_loss: 1.1116 - val_auc_67: 0.7572\n",
      "Epoch 6/50\n",
      "196038/196038 [==============================] - 32s 163us/sample - loss: 1.0957 - auc_67: 0.7632 - val_loss: 1.1404 - val_auc_67: 0.7576\n",
      "Epoch 7/50\n",
      "196038/196038 [==============================] - 32s 163us/sample - loss: 1.0943 - auc_67: 0.7637 - val_loss: 1.1099 - val_auc_67: 0.7590\n",
      "Epoch 8/50\n",
      "196038/196038 [==============================] - 32s 163us/sample - loss: 1.0881 - auc_67: 0.7668 - val_loss: 1.1056 - val_auc_67: 0.7584\n",
      "Epoch 9/50\n",
      "196038/196038 [==============================] - 32s 163us/sample - loss: 1.0871 - auc_67: 0.7676 - val_loss: 1.1077 - val_auc_67: 0.7581\n",
      "Epoch 10/50\n",
      "196038/196038 [==============================] - 32s 163us/sample - loss: 1.0869 - auc_67: 0.7676 - val_loss: 1.1086 - val_auc_67: 0.7574\n",
      "Epoch 11/50\n",
      "196038/196038 [==============================] - 32s 161us/sample - loss: 1.0856 - auc_67: 0.7683 - val_loss: 1.1090 - val_auc_67: 0.7580\n",
      "Epoch 12/50\n",
      "196038/196038 [==============================] - 32s 163us/sample - loss: 1.0831 - auc_67: 0.7698 - val_loss: 1.1100 - val_auc_67: 0.7570\n"
     ]
    },
    {
     "name": "stderr",
     "output_type": "stream",
     "text": [
      "\u001b[32m[I 2021-01-06 05:15:29,636]\u001b[0m Trial 17 finished with value: 0.7584655001352916 and parameters: {'step': 6, 'no._units': 476, 'number': 4, 'best_weight': {0: 1.0, 1: 12.0}}. Best is trial 16 with value: 0.7586002287741148.\u001b[0m\n"
     ]
    },
    {
     "name": "stdout",
     "output_type": "stream",
     "text": [
      "WARNING:tensorflow:sample_weight modes were coerced from\n",
      "  ...\n",
      "    to  \n",
      "  ['...']\n",
      "WARNING:tensorflow:sample_weight modes were coerced from\n",
      "  ...\n",
      "    to  \n",
      "  ['...']\n",
      "Train on 196038 samples, validate on 34595 samples\n",
      "Epoch 1/50\n",
      "196038/196038 [==============================] - 35s 179us/sample - loss: 1.1670 - auc_68: 0.7287 - val_loss: 1.1446 - val_auc_68: 0.7440\n",
      "Epoch 2/50\n",
      "196038/196038 [==============================] - 33s 168us/sample - loss: 1.1294 - auc_68: 0.7439 - val_loss: 1.1178 - val_auc_68: 0.7515\n",
      "Epoch 3/50\n",
      "196038/196038 [==============================] - 33s 168us/sample - loss: 1.1195 - auc_68: 0.7498 - val_loss: 1.1284 - val_auc_68: 0.7529\n",
      "Epoch 4/50\n",
      "196038/196038 [==============================] - 33s 166us/sample - loss: 1.1127 - auc_68: 0.7532 - val_loss: 1.1135 - val_auc_68: 0.7559\n",
      "Epoch 5/50\n",
      "196038/196038 [==============================] - 33s 168us/sample - loss: 1.1027 - auc_68: 0.7589 - val_loss: 1.1092 - val_auc_68: 0.7584\n",
      "Epoch 6/50\n",
      "196038/196038 [==============================] - 33s 168us/sample - loss: 1.0971 - auc_68: 0.7620 - val_loss: 1.1105 - val_auc_68: 0.7578\n",
      "Epoch 7/50\n",
      "196038/196038 [==============================] - 33s 168us/sample - loss: 1.0934 - auc_68: 0.7643 - val_loss: 1.1188 - val_auc_68: 0.7567\n",
      "Epoch 8/50\n",
      "196038/196038 [==============================] - 33s 166us/sample - loss: 1.0896 - auc_68: 0.7661 - val_loss: 1.1055 - val_auc_68: 0.7577\n",
      "Epoch 9/50\n",
      "196038/196038 [==============================] - 33s 169us/sample - loss: 1.0863 - auc_68: 0.7678 - val_loss: 1.1084 - val_auc_68: 0.7571\n",
      "Epoch 10/50\n",
      "196038/196038 [==============================] - 33s 168us/sample - loss: 1.0859 - auc_68: 0.7683 - val_loss: 1.1069 - val_auc_68: 0.7572\n",
      "Epoch 11/50\n",
      "196038/196038 [==============================] - 33s 167us/sample - loss: 1.0843 - auc_68: 0.7691 - val_loss: 1.1070 - val_auc_68: 0.7578\n",
      "Epoch 12/50\n",
      "196038/196038 [==============================] - 33s 166us/sample - loss: 1.0827 - auc_68: 0.7699 - val_loss: 1.1084 - val_auc_68: 0.7571\n"
     ]
    },
    {
     "name": "stderr",
     "output_type": "stream",
     "text": [
      "\u001b[32m[I 2021-01-06 05:22:09,513]\u001b[0m Trial 18 finished with value: 0.7577873029398043 and parameters: {'step': 6, 'no._units': 491, 'number': 4, 'best_weight': {0: 1.0, 1: 12.0}}. Best is trial 16 with value: 0.7586002287741148.\u001b[0m\n"
     ]
    },
    {
     "name": "stdout",
     "output_type": "stream",
     "text": [
      "WARNING:tensorflow:sample_weight modes were coerced from\n",
      "  ...\n",
      "    to  \n",
      "  ['...']\n",
      "WARNING:tensorflow:sample_weight modes were coerced from\n",
      "  ...\n",
      "    to  \n",
      "  ['...']\n",
      "Train on 196038 samples, validate on 34595 samples\n",
      "Epoch 1/50\n",
      "196038/196038 [==============================] - 34s 176us/sample - loss: 1.2607 - auc_69: 0.7280 - val_loss: 1.2197 - val_auc_69: 0.7464\n",
      "Epoch 2/50\n",
      "196038/196038 [==============================] - 32s 163us/sample - loss: 1.2196 - auc_69: 0.7439 - val_loss: 1.2143 - val_auc_69: 0.7510\n",
      "Epoch 3/50\n",
      "196038/196038 [==============================] - 32s 165us/sample - loss: 1.2077 - auc_69: 0.7490 - val_loss: 1.2051 - val_auc_69: 0.7540\n",
      "Epoch 4/50\n",
      "196038/196038 [==============================] - 32s 166us/sample - loss: 1.2001 - auc_69: 0.7532 - val_loss: 1.1988 - val_auc_69: 0.7548\n",
      "Epoch 5/50\n",
      "196038/196038 [==============================] - 32s 165us/sample - loss: 1.1932 - auc_69: 0.7565 - val_loss: 1.2046 - val_auc_69: 0.7583\n",
      "Epoch 6/50\n",
      "196038/196038 [==============================] - 32s 165us/sample - loss: 1.1863 - auc_69: 0.7601 - val_loss: 1.1986 - val_auc_69: 0.7581\n",
      "Epoch 7/50\n",
      "196038/196038 [==============================] - 32s 165us/sample - loss: 1.1807 - auc_69: 0.7625 - val_loss: 1.1978 - val_auc_69: 0.7589\n",
      "Epoch 8/50\n",
      "196038/196038 [==============================] - 32s 164us/sample - loss: 1.1792 - auc_69: 0.7636 - val_loss: 1.1954 - val_auc_69: 0.7582\n",
      "Epoch 9/50\n",
      "196038/196038 [==============================] - 32s 165us/sample - loss: 1.1746 - auc_69: 0.7661 - val_loss: 1.1934 - val_auc_69: 0.7576\n",
      "Epoch 10/50\n",
      "196038/196038 [==============================] - 32s 165us/sample - loss: 1.1710 - auc_69: 0.7674 - val_loss: 1.1951 - val_auc_69: 0.7572\n",
      "Epoch 11/50\n",
      "196038/196038 [==============================] - 32s 163us/sample - loss: 1.1695 - auc_69: 0.7682 - val_loss: 1.1958 - val_auc_69: 0.7579\n",
      "Epoch 12/50\n",
      "196038/196038 [==============================] - 32s 163us/sample - loss: 1.1676 - auc_69: 0.7695 - val_loss: 1.1946 - val_auc_69: 0.7570\n",
      "Epoch 13/50\n",
      "196038/196038 [==============================] - 32s 164us/sample - loss: 1.1665 - auc_69: 0.7696 - val_loss: 1.1947 - val_auc_69: 0.7576\n"
     ]
    },
    {
     "name": "stderr",
     "output_type": "stream",
     "text": [
      "\u001b[32m[I 2021-01-06 05:29:14,367]\u001b[0m Trial 19 finished with value: 0.7575453498039347 and parameters: {'step': 6, 'no._units': 486, 'number': 4, 'best_weight': {0: 1.0, 1: 14.0}}. Best is trial 16 with value: 0.7586002287741148.\u001b[0m\n"
     ]
    },
    {
     "name": "stdout",
     "output_type": "stream",
     "text": [
      "WARNING:tensorflow:sample_weight modes were coerced from\n",
      "  ...\n",
      "    to  \n",
      "  ['...']\n",
      "WARNING:tensorflow:sample_weight modes were coerced from\n",
      "  ...\n",
      "    to  \n",
      "  ['...']\n",
      "Train on 196038 samples, validate on 34595 samples\n",
      "Epoch 1/50\n",
      "196038/196038 [==============================] - 33s 166us/sample - loss: 1.1297 - auc_70: 0.7313 - val_loss: 1.1137 - val_auc_70: 0.7442\n",
      "Epoch 2/50\n",
      "196038/196038 [==============================] - 31s 157us/sample - loss: 1.1007 - auc_70: 0.7436 - val_loss: 1.1110 - val_auc_70: 0.7478\n",
      "Epoch 3/50\n",
      "196038/196038 [==============================] - 31s 156us/sample - loss: 1.0909 - auc_70: 0.7499 - val_loss: 1.0917 - val_auc_70: 0.7538\n",
      "Epoch 4/50\n",
      "196038/196038 [==============================] - 31s 156us/sample - loss: 1.0820 - auc_70: 0.7544 - val_loss: 1.0849 - val_auc_70: 0.7566\n",
      "Epoch 5/50\n",
      "196038/196038 [==============================] - 31s 156us/sample - loss: 1.0751 - auc_70: 0.7584 - val_loss: 1.0986 - val_auc_70: 0.7570\n",
      "Epoch 6/50\n",
      "196038/196038 [==============================] - 30s 155us/sample - loss: 1.0709 - auc_70: 0.7608 - val_loss: 1.0833 - val_auc_70: 0.7568\n",
      "Epoch 7/50\n",
      "196038/196038 [==============================] - 31s 156us/sample - loss: 1.0679 - auc_70: 0.7628 - val_loss: 1.0805 - val_auc_70: 0.7573\n",
      "Epoch 8/50\n",
      "196038/196038 [==============================] - 31s 156us/sample - loss: 1.0630 - auc_70: 0.7652 - val_loss: 1.0793 - val_auc_70: 0.7575\n",
      "Epoch 9/50\n",
      "196038/196038 [==============================] - 30s 155us/sample - loss: 1.0610 - auc_70: 0.7664 - val_loss: 1.0829 - val_auc_70: 0.7565\n",
      "Epoch 10/50\n",
      "196038/196038 [==============================] - 31s 156us/sample - loss: 1.0610 - auc_70: 0.7664 - val_loss: 1.0794 - val_auc_70: 0.7571\n",
      "Epoch 11/50\n",
      "196038/196038 [==============================] - 31s 156us/sample - loss: 1.0587 - auc_70: 0.7677 - val_loss: 1.0808 - val_auc_70: 0.7561\n",
      "Epoch 12/50\n",
      "196038/196038 [==============================] - 31s 156us/sample - loss: 1.0557 - auc_70: 0.7695 - val_loss: 1.0803 - val_auc_70: 0.7569\n"
     ]
    },
    {
     "name": "stderr",
     "output_type": "stream",
     "text": [
      "\u001b[32m[I 2021-01-06 05:35:27,697]\u001b[0m Trial 20 finished with value: 0.7574702904043329 and parameters: {'step': 6, 'no._units': 457, 'number': 4, 'best_weight': {0: 1.0, 1: 11.38697}}. Best is trial 16 with value: 0.7586002287741148.\u001b[0m\n"
     ]
    },
    {
     "name": "stdout",
     "output_type": "stream",
     "text": [
      "WARNING:tensorflow:sample_weight modes were coerced from\n",
      "  ...\n",
      "    to  \n",
      "  ['...']\n",
      "WARNING:tensorflow:sample_weight modes were coerced from\n",
      "  ...\n",
      "    to  \n",
      "  ['...']\n",
      "Train on 196038 samples, validate on 34595 samples\n",
      "Epoch 1/50\n",
      "196038/196038 [==============================] - 33s 170us/sample - loss: 1.1592 - auc_71: 0.7306 - val_loss: 1.1483 - val_auc_71: 0.7455\n",
      "Epoch 2/50\n",
      "196038/196038 [==============================] - 32s 162us/sample - loss: 1.1267 - auc_71: 0.7457 - val_loss: 1.1285 - val_auc_71: 0.7494\n",
      "Epoch 3/50\n",
      "196038/196038 [==============================] - 32s 161us/sample - loss: 1.1172 - auc_71: 0.7507 - val_loss: 1.1409 - val_auc_71: 0.7512\n",
      "Epoch 4/50\n",
      "196038/196038 [==============================] - 32s 162us/sample - loss: 1.1078 - auc_71: 0.7559 - val_loss: 1.1176 - val_auc_71: 0.7542\n",
      "Epoch 5/50\n",
      "196038/196038 [==============================] - 32s 162us/sample - loss: 1.1028 - auc_71: 0.7585 - val_loss: 1.1070 - val_auc_71: 0.7578\n",
      "Epoch 6/50\n",
      "196038/196038 [==============================] - 32s 162us/sample - loss: 1.0959 - auc_71: 0.7621 - val_loss: 1.1210 - val_auc_71: 0.7585\n",
      "Epoch 7/50\n",
      "196038/196038 [==============================] - 32s 161us/sample - loss: 1.0949 - auc_71: 0.7629 - val_loss: 1.1065 - val_auc_71: 0.7580\n",
      "Epoch 8/50\n",
      "196038/196038 [==============================] - 32s 161us/sample - loss: 1.0901 - auc_71: 0.7656 - val_loss: 1.1064 - val_auc_71: 0.7574\n",
      "Epoch 9/50\n",
      "196038/196038 [==============================] - 32s 161us/sample - loss: 1.0899 - auc_71: 0.7657 - val_loss: 1.1095 - val_auc_71: 0.7594\n",
      "Epoch 10/50\n",
      "196038/196038 [==============================] - 32s 161us/sample - loss: 1.0895 - auc_71: 0.7659 - val_loss: 1.1052 - val_auc_71: 0.7584\n",
      "Epoch 11/50\n",
      "196038/196038 [==============================] - 32s 162us/sample - loss: 1.0876 - auc_71: 0.7671 - val_loss: 1.1055 - val_auc_71: 0.7585\n",
      "Epoch 12/50\n",
      "196038/196038 [==============================] - 31s 160us/sample - loss: 1.0876 - auc_71: 0.7667 - val_loss: 1.1060 - val_auc_71: 0.7581\n",
      "Epoch 13/50\n",
      "196038/196038 [==============================] - 32s 162us/sample - loss: 1.0851 - auc_71: 0.7681 - val_loss: 1.1060 - val_auc_71: 0.7584\n",
      "Epoch 14/50\n",
      "196038/196038 [==============================] - 32s 161us/sample - loss: 1.0849 - auc_71: 0.7684 - val_loss: 1.1085 - val_auc_71: 0.7590\n"
     ]
    },
    {
     "name": "stderr",
     "output_type": "stream",
     "text": [
      "\u001b[32m[I 2021-01-06 05:42:55,894]\u001b[0m Trial 21 finished with value: 0.7584050428117785 and parameters: {'step': 5, 'no._units': 353, 'number': 4, 'best_weight': {0: 1.0, 1: 12.0}}. Best is trial 16 with value: 0.7586002287741148.\u001b[0m\n"
     ]
    },
    {
     "name": "stdout",
     "output_type": "stream",
     "text": [
      "WARNING:tensorflow:sample_weight modes were coerced from\n",
      "  ...\n",
      "    to  \n",
      "  ['...']\n",
      "WARNING:tensorflow:sample_weight modes were coerced from\n",
      "  ...\n",
      "    to  \n",
      "  ['...']\n",
      "Train on 196038 samples, validate on 34595 samples\n",
      "Epoch 1/50\n",
      "196038/196038 [==============================] - 34s 173us/sample - loss: 1.1616 - auc_72: 0.7300 - val_loss: 1.1608 - val_auc_72: 0.7457\n",
      "Epoch 2/50\n",
      "196038/196038 [==============================] - 32s 164us/sample - loss: 1.1287 - auc_72: 0.7441 - val_loss: 1.1240 - val_auc_72: 0.7502\n",
      "Epoch 3/50\n",
      "196038/196038 [==============================] - 32s 163us/sample - loss: 1.1171 - auc_72: 0.7506 - val_loss: 1.1147 - val_auc_72: 0.7544\n",
      "Epoch 4/50\n",
      "196038/196038 [==============================] - 32s 163us/sample - loss: 1.1109 - auc_72: 0.7544 - val_loss: 1.1123 - val_auc_72: 0.7540\n",
      "Epoch 5/50\n",
      "196038/196038 [==============================] - 32s 163us/sample - loss: 1.1051 - auc_72: 0.7576 - val_loss: 1.1122 - val_auc_72: 0.7546\n",
      "Epoch 6/50\n",
      "196038/196038 [==============================] - 32s 162us/sample - loss: 1.0988 - auc_72: 0.7612 - val_loss: 1.1150 - val_auc_72: 0.7574\n",
      "Epoch 7/50\n",
      "196038/196038 [==============================] - 32s 164us/sample - loss: 1.0949 - auc_72: 0.7631 - val_loss: 1.1288 - val_auc_72: 0.7581\n",
      "Epoch 8/50\n",
      "196038/196038 [==============================] - 32s 163us/sample - loss: 1.0919 - auc_72: 0.7647 - val_loss: 1.1323 - val_auc_72: 0.7583\n",
      "Epoch 9/50\n",
      "196038/196038 [==============================] - 32s 163us/sample - loss: 1.0896 - auc_72: 0.7659 - val_loss: 1.1084 - val_auc_72: 0.7570\n",
      "Epoch 10/50\n",
      "196038/196038 [==============================] - 32s 162us/sample - loss: 1.0909 - auc_72: 0.7652 - val_loss: 1.1079 - val_auc_72: 0.7565\n",
      "Epoch 11/50\n",
      "196038/196038 [==============================] - 32s 162us/sample - loss: 1.0869 - auc_72: 0.7672 - val_loss: 1.1145 - val_auc_72: 0.7571\n",
      "Epoch 12/50\n",
      "196038/196038 [==============================] - 32s 163us/sample - loss: 1.0881 - auc_72: 0.7666 - val_loss: 1.1089 - val_auc_72: 0.7566\n",
      "Epoch 13/50\n",
      "196038/196038 [==============================] - 32s 163us/sample - loss: 1.0880 - auc_72: 0.7666 - val_loss: 1.1085 - val_auc_72: 0.7565\n",
      "Epoch 14/50\n",
      "196038/196038 [==============================] - 32s 163us/sample - loss: 1.0869 - auc_72: 0.7671 - val_loss: 1.1091 - val_auc_72: 0.7563\n"
     ]
    },
    {
     "name": "stderr",
     "output_type": "stream",
     "text": [
      "\u001b[32m[I 2021-01-06 05:50:28,687]\u001b[0m Trial 22 finished with value: 0.7564928744908441 and parameters: {'step': 5, 'no._units': 351, 'number': 4, 'best_weight': {0: 1.0, 1: 12.0}}. Best is trial 16 with value: 0.7586002287741148.\u001b[0m\n"
     ]
    },
    {
     "name": "stdout",
     "output_type": "stream",
     "text": [
      "WARNING:tensorflow:sample_weight modes were coerced from\n",
      "  ...\n",
      "    to  \n",
      "  ['...']\n",
      "WARNING:tensorflow:sample_weight modes were coerced from\n",
      "  ...\n",
      "    to  \n",
      "  ['...']\n",
      "Train on 196038 samples, validate on 34595 samples\n",
      "Epoch 1/50\n",
      "196038/196038 [==============================] - 35s 176us/sample - loss: 1.1721 - auc_73: 0.7265 - val_loss: 1.1587 - val_auc_73: 0.7391\n",
      "Epoch 2/50\n",
      "196038/196038 [==============================] - 32s 163us/sample - loss: 1.1274 - auc_73: 0.7446 - val_loss: 1.1261 - val_auc_73: 0.7501\n",
      "Epoch 3/50\n",
      "196038/196038 [==============================] - 32s 165us/sample - loss: 1.1169 - auc_73: 0.7512 - val_loss: 1.1236 - val_auc_73: 0.7517\n",
      "Epoch 4/50\n",
      "196038/196038 [==============================] - 32s 165us/sample - loss: 1.1071 - auc_73: 0.7564 - val_loss: 1.1273 - val_auc_73: 0.7554\n",
      "Epoch 5/50\n",
      "196038/196038 [==============================] - 32s 164us/sample - loss: 1.1009 - auc_73: 0.7596 - val_loss: 1.1095 - val_auc_73: 0.7571\n",
      "Epoch 6/50\n",
      "196038/196038 [==============================] - 32s 165us/sample - loss: 1.0955 - auc_73: 0.7628 - val_loss: 1.1082 - val_auc_73: 0.7574\n",
      "Epoch 7/50\n",
      "196038/196038 [==============================] - 32s 163us/sample - loss: 1.0916 - auc_73: 0.7646 - val_loss: 1.1098 - val_auc_73: 0.7571\n",
      "Epoch 8/50\n",
      "196038/196038 [==============================] - 32s 165us/sample - loss: 1.0911 - auc_73: 0.7651 - val_loss: 1.1072 - val_auc_73: 0.7578\n",
      "Epoch 9/50\n",
      "196038/196038 [==============================] - 32s 165us/sample - loss: 1.0895 - auc_73: 0.7659 - val_loss: 1.1076 - val_auc_73: 0.7574\n",
      "Epoch 10/50\n",
      "196038/196038 [==============================] - 32s 163us/sample - loss: 1.0883 - auc_73: 0.7665 - val_loss: 1.1071 - val_auc_73: 0.7574\n",
      "Epoch 11/50\n",
      "196038/196038 [==============================] - 32s 163us/sample - loss: 1.0890 - auc_73: 0.7662 - val_loss: 1.1126 - val_auc_73: 0.7579\n",
      "Epoch 12/50\n",
      "196038/196038 [==============================] - 32s 163us/sample - loss: 1.0907 - auc_73: 0.7652 - val_loss: 1.1068 - val_auc_73: 0.7574\n",
      "Epoch 13/50\n",
      "196038/196038 [==============================] - 32s 165us/sample - loss: 1.0894 - auc_73: 0.7660 - val_loss: 1.1077 - val_auc_73: 0.7574\n",
      "Epoch 14/50\n",
      "196038/196038 [==============================] - 32s 165us/sample - loss: 1.0866 - auc_73: 0.7675 - val_loss: 1.1080 - val_auc_73: 0.7574\n",
      "Epoch 15/50\n",
      "196038/196038 [==============================] - 32s 163us/sample - loss: 1.0861 - auc_73: 0.7679 - val_loss: 1.1070 - val_auc_73: 0.7573\n",
      "Epoch 16/50\n",
      "196038/196038 [==============================] - 32s 165us/sample - loss: 1.0877 - auc_73: 0.7671 - val_loss: 1.1085 - val_auc_73: 0.7574\n"
     ]
    },
    {
     "name": "stderr",
     "output_type": "stream",
     "text": [
      "\u001b[32m[I 2021-01-06 05:59:09,078]\u001b[0m Trial 23 finished with value: 0.757368672564104 and parameters: {'step': 4, 'no._units': 534, 'number': 4, 'best_weight': {0: 1.0, 1: 12.0}}. Best is trial 16 with value: 0.7586002287741148.\u001b[0m\n"
     ]
    },
    {
     "name": "stdout",
     "output_type": "stream",
     "text": [
      "WARNING:tensorflow:sample_weight modes were coerced from\n",
      "  ...\n",
      "    to  \n",
      "  ['...']\n",
      "WARNING:tensorflow:sample_weight modes were coerced from\n",
      "  ...\n",
      "    to  \n",
      "  ['...']\n",
      "Train on 196038 samples, validate on 34595 samples\n",
      "Epoch 1/50\n",
      "196038/196038 [==============================] - 38s 194us/sample - loss: 1.1673 - auc_74: 0.7293 - val_loss: 1.3846 - val_auc_74: 0.7464\n",
      "Epoch 2/50\n",
      "196038/196038 [==============================] - 36s 184us/sample - loss: 1.1285 - auc_74: 0.7450 - val_loss: 1.2958 - val_auc_74: 0.7510\n",
      "Epoch 3/50\n",
      "196038/196038 [==============================] - 36s 183us/sample - loss: 1.1182 - auc_74: 0.7506 - val_loss: 1.1138 - val_auc_74: 0.7546\n",
      "Epoch 4/50\n",
      "196038/196038 [==============================] - 36s 183us/sample - loss: 1.1084 - auc_74: 0.7557 - val_loss: 1.1125 - val_auc_74: 0.7558\n",
      "Epoch 5/50\n",
      "196038/196038 [==============================] - 36s 183us/sample - loss: 1.1037 - auc_74: 0.7584 - val_loss: 1.1138 - val_auc_74: 0.7560\n",
      "Epoch 6/50\n",
      "196038/196038 [==============================] - 36s 185us/sample - loss: 1.0981 - auc_74: 0.7614 - val_loss: 1.1099 - val_auc_74: 0.7565\n",
      "Epoch 7/50\n",
      "196038/196038 [==============================] - 36s 184us/sample - loss: 1.0955 - auc_74: 0.7628 - val_loss: 1.1473 - val_auc_74: 0.7596\n",
      "Epoch 8/50\n",
      "196038/196038 [==============================] - 36s 183us/sample - loss: 1.0908 - auc_74: 0.7655 - val_loss: 1.1075 - val_auc_74: 0.7582\n",
      "Epoch 9/50\n",
      "196038/196038 [==============================] - 36s 183us/sample - loss: 1.0906 - auc_74: 0.7658 - val_loss: 1.1062 - val_auc_74: 0.7576\n",
      "Epoch 10/50\n",
      "196038/196038 [==============================] - 36s 182us/sample - loss: 1.0895 - auc_74: 0.7661 - val_loss: 1.1077 - val_auc_74: 0.7582\n",
      "Epoch 11/50\n",
      "196038/196038 [==============================] - 36s 182us/sample - loss: 1.0896 - auc_74: 0.7659 - val_loss: 1.1249 - val_auc_74: 0.7593\n",
      "Epoch 12/50\n",
      "196038/196038 [==============================] - 36s 183us/sample - loss: 1.0885 - auc_74: 0.7665 - val_loss: 1.1066 - val_auc_74: 0.7573\n",
      "Epoch 13/50\n",
      "196038/196038 [==============================] - 36s 184us/sample - loss: 1.0871 - auc_74: 0.7673 - val_loss: 1.1075 - val_auc_74: 0.7572\n"
     ]
    },
    {
     "name": "stderr",
     "output_type": "stream",
     "text": [
      "\u001b[32m[I 2021-01-06 06:07:03,046]\u001b[0m Trial 24 finished with value: 0.7576514934996668 and parameters: {'step': 5, 'no._units': 450, 'number': 5, 'best_weight': {0: 1.0, 1: 12.0}}. Best is trial 16 with value: 0.7586002287741148.\u001b[0m\n"
     ]
    },
    {
     "name": "stdout",
     "output_type": "stream",
     "text": [
      "WARNING:tensorflow:sample_weight modes were coerced from\n",
      "  ...\n",
      "    to  \n",
      "  ['...']\n",
      "WARNING:tensorflow:sample_weight modes were coerced from\n",
      "  ...\n",
      "    to  \n",
      "  ['...']\n",
      "Train on 196038 samples, validate on 34595 samples\n",
      "Epoch 1/50\n",
      "196038/196038 [==============================] - 33s 170us/sample - loss: 1.2115 - auc_75: 0.7290 - val_loss: 1.2285 - val_auc_75: 0.7467\n",
      "Epoch 2/50\n",
      "196038/196038 [==============================] - 31s 160us/sample - loss: 1.1733 - auc_75: 0.7449 - val_loss: 1.1938 - val_auc_75: 0.7483\n",
      "Epoch 3/50\n",
      "196038/196038 [==============================] - 31s 160us/sample - loss: 1.1634 - auc_75: 0.7504 - val_loss: 1.1829 - val_auc_75: 0.7530\n",
      "Epoch 4/50\n",
      "196038/196038 [==============================] - 31s 161us/sample - loss: 1.1555 - auc_75: 0.7541 - val_loss: 1.1600 - val_auc_75: 0.7554\n",
      "Epoch 5/50\n",
      "196038/196038 [==============================] - 31s 157us/sample - loss: 1.1496 - auc_75: 0.7572 - val_loss: 1.1628 - val_auc_75: 0.7549\n",
      "Epoch 6/50\n",
      "196038/196038 [==============================] - 31s 157us/sample - loss: 1.1459 - auc_75: 0.7591 - val_loss: 1.1605 - val_auc_75: 0.7562\n",
      "Epoch 7/50\n",
      "196038/196038 [==============================] - 31s 160us/sample - loss: 1.1407 - auc_75: 0.7621 - val_loss: 1.1606 - val_auc_75: 0.7565\n",
      "Epoch 8/50\n",
      "196038/196038 [==============================] - 31s 160us/sample - loss: 1.1357 - auc_75: 0.7648 - val_loss: 1.1517 - val_auc_75: 0.7572\n",
      "Epoch 9/50\n",
      "196038/196038 [==============================] - 31s 160us/sample - loss: 1.1355 - auc_75: 0.7648 - val_loss: 1.1517 - val_auc_75: 0.7572\n",
      "Epoch 10/50\n",
      "196038/196038 [==============================] - 31s 158us/sample - loss: 1.1316 - auc_75: 0.7668 - val_loss: 1.1528 - val_auc_75: 0.7568\n",
      "Epoch 11/50\n",
      "196038/196038 [==============================] - 31s 158us/sample - loss: 1.1310 - auc_75: 0.7670 - val_loss: 1.1509 - val_auc_75: 0.7573\n",
      "Epoch 12/50\n",
      "196038/196038 [==============================] - 31s 158us/sample - loss: 1.1301 - auc_75: 0.7675 - val_loss: 1.1547 - val_auc_75: 0.7575\n",
      "Epoch 13/50\n",
      "196038/196038 [==============================] - 31s 160us/sample - loss: 1.1294 - auc_75: 0.7679 - val_loss: 1.1517 - val_auc_75: 0.7570\n",
      "Epoch 14/50\n",
      "196038/196038 [==============================] - 31s 160us/sample - loss: 1.1259 - auc_75: 0.7696 - val_loss: 1.1525 - val_auc_75: 0.7566\n",
      "Epoch 15/50\n",
      "196038/196038 [==============================] - 31s 160us/sample - loss: 1.1285 - auc_75: 0.7683 - val_loss: 1.1525 - val_auc_75: 0.7569\n"
     ]
    },
    {
     "name": "stderr",
     "output_type": "stream",
     "text": [
      "\u001b[32m[I 2021-01-06 06:14:57,258]\u001b[0m Trial 25 finished with value: 0.7573102980347903 and parameters: {'step': 6, 'no._units': 360, 'number': 4, 'best_weight': {0: 1.0, 1: 13.0}}. Best is trial 16 with value: 0.7586002287741148.\u001b[0m\n"
     ]
    },
    {
     "name": "stdout",
     "output_type": "stream",
     "text": [
      "WARNING:tensorflow:sample_weight modes were coerced from\n",
      "  ...\n",
      "    to  \n",
      "  ['...']\n",
      "WARNING:tensorflow:sample_weight modes were coerced from\n",
      "  ...\n",
      "    to  \n",
      "  ['...']\n",
      "Train on 196038 samples, validate on 34595 samples\n",
      "Epoch 1/50\n",
      "196038/196038 [==============================] - 35s 181us/sample - loss: 1.3457 - auc_76: 0.7280 - val_loss: 1.3272 - val_auc_76: 0.7355\n",
      "Epoch 2/50\n",
      "196038/196038 [==============================] - 33s 170us/sample - loss: 1.2952 - auc_76: 0.7444 - val_loss: 1.2901 - val_auc_76: 0.7511\n",
      "Epoch 3/50\n",
      "196038/196038 [==============================] - 33s 170us/sample - loss: 1.2837 - auc_76: 0.7507 - val_loss: 1.2851 - val_auc_76: 0.7533\n",
      "Epoch 4/50\n",
      "196038/196038 [==============================] - 33s 170us/sample - loss: 1.2759 - auc_76: 0.7539 - val_loss: 1.2756 - val_auc_76: 0.7548\n",
      "Epoch 5/50\n",
      "196038/196038 [==============================] - 33s 170us/sample - loss: 1.2671 - auc_76: 0.7584 - val_loss: 1.2751 - val_auc_76: 0.7560\n",
      "Epoch 6/50\n",
      "196038/196038 [==============================] - 33s 170us/sample - loss: 1.2613 - auc_76: 0.7615 - val_loss: 1.2804 - val_auc_76: 0.7572\n",
      "Epoch 7/50\n",
      "196038/196038 [==============================] - 33s 170us/sample - loss: 1.2557 - auc_76: 0.7634 - val_loss: 1.2710 - val_auc_76: 0.7580\n",
      "Epoch 8/50\n",
      "196038/196038 [==============================] - 33s 168us/sample - loss: 1.2544 - auc_76: 0.7641 - val_loss: 1.2726 - val_auc_76: 0.7577\n",
      "Epoch 9/50\n",
      "196038/196038 [==============================] - 33s 170us/sample - loss: 1.2501 - auc_76: 0.7658 - val_loss: 1.2728 - val_auc_76: 0.7577\n",
      "Epoch 10/50\n",
      "196038/196038 [==============================] - 33s 170us/sample - loss: 1.2500 - auc_76: 0.7663 - val_loss: 1.2724 - val_auc_76: 0.7583\n",
      "Epoch 11/50\n",
      "196038/196038 [==============================] - 33s 170us/sample - loss: 1.2465 - auc_76: 0.7679 - val_loss: 1.2834 - val_auc_76: 0.7586\n"
     ]
    },
    {
     "name": "stderr",
     "output_type": "stream",
     "text": [
      "\u001b[32m[I 2021-01-06 06:21:09,340]\u001b[0m Trial 26 finished with value: 0.7580061314308888 and parameters: {'step': 5, 'no._units': 543, 'number': 4, 'best_weight': {0: 1.0, 1: 16.0}}. Best is trial 16 with value: 0.7586002287741148.\u001b[0m\n"
     ]
    },
    {
     "name": "stdout",
     "output_type": "stream",
     "text": [
      "WARNING:tensorflow:sample_weight modes were coerced from\n",
      "  ...\n",
      "    to  \n",
      "  ['...']\n",
      "WARNING:tensorflow:sample_weight modes were coerced from\n",
      "  ...\n",
      "    to  \n",
      "  ['...']\n",
      "Train on 196038 samples, validate on 34595 samples\n",
      "Epoch 1/50\n",
      "196038/196038 [==============================] - 29s 147us/sample - loss: 1.1582 - auc_77: 0.7306 - val_loss: 1.1486 - val_auc_77: 0.7433\n",
      "Epoch 2/50\n",
      "196038/196038 [==============================] - 27s 139us/sample - loss: 1.1252 - auc_77: 0.7463 - val_loss: 1.1184 - val_auc_77: 0.7513\n",
      "Epoch 3/50\n",
      "196038/196038 [==============================] - 27s 140us/sample - loss: 1.1129 - auc_77: 0.7532 - val_loss: 1.1155 - val_auc_77: 0.7548\n",
      "Epoch 4/50\n",
      "196038/196038 [==============================] - 27s 139us/sample - loss: 1.1075 - auc_77: 0.7561 - val_loss: 1.1083 - val_auc_77: 0.7567\n",
      "Epoch 5/50\n",
      "196038/196038 [==============================] - 27s 139us/sample - loss: 1.1003 - auc_77: 0.7603 - val_loss: 1.1094 - val_auc_77: 0.7570\n",
      "Epoch 6/50\n",
      "196038/196038 [==============================] - 27s 139us/sample - loss: 1.0956 - auc_77: 0.7627 - val_loss: 1.1068 - val_auc_77: 0.7577\n",
      "Epoch 7/50\n",
      "196038/196038 [==============================] - 27s 140us/sample - loss: 1.0929 - auc_77: 0.7642 - val_loss: 1.1069 - val_auc_77: 0.7576\n",
      "Epoch 8/50\n",
      "196038/196038 [==============================] - 27s 139us/sample - loss: 1.0929 - auc_77: 0.7644 - val_loss: 1.1187 - val_auc_77: 0.7587\n",
      "Epoch 9/50\n",
      "196038/196038 [==============================] - 27s 139us/sample - loss: 1.0916 - auc_77: 0.7648 - val_loss: 1.1088 - val_auc_77: 0.7581\n",
      "Epoch 10/50\n",
      "196038/196038 [==============================] - 27s 140us/sample - loss: 1.0901 - auc_77: 0.7658 - val_loss: 1.1070 - val_auc_77: 0.7572\n"
     ]
    },
    {
     "name": "stderr",
     "output_type": "stream",
     "text": [
      "\u001b[32m[I 2021-01-06 06:25:47,173]\u001b[0m Trial 27 finished with value: 0.7576405278696665 and parameters: {'step': 4, 'no._units': 305, 'number': 3, 'best_weight': {0: 1.0, 1: 12.0}}. Best is trial 16 with value: 0.7586002287741148.\u001b[0m\n"
     ]
    },
    {
     "name": "stdout",
     "output_type": "stream",
     "text": [
      "WARNING:tensorflow:sample_weight modes were coerced from\n",
      "  ...\n",
      "    to  \n",
      "  ['...']\n",
      "WARNING:tensorflow:sample_weight modes were coerced from\n",
      "  ...\n",
      "    to  \n",
      "  ['...']\n",
      "Train on 196038 samples, validate on 34595 samples\n",
      "Epoch 1/50\n",
      "196038/196038 [==============================] - 39s 197us/sample - loss: 1.4191 - auc_78: 0.7269 - val_loss: 1.4353 - val_auc_78: 0.7428\n",
      "Epoch 2/50\n",
      "196038/196038 [==============================] - 36s 184us/sample - loss: 1.3726 - auc_78: 0.7424 - val_loss: 1.3817 - val_auc_78: 0.7492\n",
      "Epoch 3/50\n",
      "196038/196038 [==============================] - 36s 185us/sample - loss: 1.3576 - auc_78: 0.7496 - val_loss: 1.3704 - val_auc_78: 0.7531\n",
      "Epoch 4/50\n",
      "196038/196038 [==============================] - 36s 183us/sample - loss: 1.3475 - auc_78: 0.7538 - val_loss: 1.3498 - val_auc_78: 0.7553\n",
      "Epoch 5/50\n",
      "196038/196038 [==============================] - 36s 184us/sample - loss: 1.3386 - auc_78: 0.7576 - val_loss: 1.3455 - val_auc_78: 0.7565\n",
      "Epoch 6/50\n",
      "196038/196038 [==============================] - 36s 184us/sample - loss: 1.3311 - auc_78: 0.7609 - val_loss: 1.3479 - val_auc_78: 0.7569\n",
      "Epoch 7/50\n",
      "196038/196038 [==============================] - 36s 183us/sample - loss: 1.3270 - auc_78: 0.7633 - val_loss: 1.3454 - val_auc_78: 0.7584\n",
      "Epoch 8/50\n",
      "196038/196038 [==============================] - 36s 185us/sample - loss: 1.3209 - auc_78: 0.7656 - val_loss: 1.3440 - val_auc_78: 0.7575\n",
      "Epoch 9/50\n",
      "196038/196038 [==============================] - 36s 185us/sample - loss: 1.3195 - auc_78: 0.7659 - val_loss: 1.3528 - val_auc_78: 0.7587\n",
      "Epoch 10/50\n",
      "196038/196038 [==============================] - 36s 183us/sample - loss: 1.3177 - auc_78: 0.7668 - val_loss: 1.3437 - val_auc_78: 0.7571\n",
      "Epoch 11/50\n",
      "196038/196038 [==============================] - 36s 182us/sample - loss: 1.3134 - auc_78: 0.7689 - val_loss: 1.3520 - val_auc_78: 0.7587\n",
      "Epoch 12/50\n",
      "196038/196038 [==============================] - 36s 182us/sample - loss: 1.3112 - auc_78: 0.7695 - val_loss: 1.3503 - val_auc_78: 0.7587\n",
      "Epoch 13/50\n",
      "196038/196038 [==============================] - 36s 184us/sample - loss: 1.3114 - auc_78: 0.7696 - val_loss: 1.3452 - val_auc_78: 0.7569\n",
      "Epoch 14/50\n",
      "196038/196038 [==============================] - 36s 182us/sample - loss: 1.3118 - auc_78: 0.7693 - val_loss: 1.3457 - val_auc_78: 0.7570\n"
     ]
    },
    {
     "name": "stderr",
     "output_type": "stream",
     "text": [
      "\u001b[32m[I 2021-01-06 06:34:18,902]\u001b[0m Trial 28 finished with value: 0.7571282167883886 and parameters: {'step': 6, 'no._units': 445, 'number': 5, 'best_weight': {0: 1.0, 1: 18.0}}. Best is trial 16 with value: 0.7586002287741148.\u001b[0m\n"
     ]
    },
    {
     "name": "stdout",
     "output_type": "stream",
     "text": [
      "WARNING:tensorflow:sample_weight modes were coerced from\n",
      "  ...\n",
      "    to  \n",
      "  ['...']\n",
      "WARNING:tensorflow:sample_weight modes were coerced from\n",
      "  ...\n",
      "    to  \n",
      "  ['...']\n",
      "Train on 196038 samples, validate on 34595 samples\n",
      "Epoch 1/50\n",
      "196038/196038 [==============================] - 35s 177us/sample - loss: 1.1700 - auc_79: 0.7283 - val_loss: 1.1453 - val_auc_79: 0.7469\n",
      "Epoch 2/50\n",
      "196038/196038 [==============================] - 33s 167us/sample - loss: 1.1275 - auc_79: 0.7451 - val_loss: 1.1578 - val_auc_79: 0.7441\n",
      "Epoch 3/50\n",
      "196038/196038 [==============================] - 33s 167us/sample - loss: 1.1172 - auc_79: 0.7510 - val_loss: 1.1424 - val_auc_79: 0.7544\n",
      "Epoch 4/50\n",
      "196038/196038 [==============================] - 33s 167us/sample - loss: 1.1108 - auc_79: 0.7541 - val_loss: 1.1134 - val_auc_79: 0.7570\n",
      "Epoch 5/50\n",
      "196038/196038 [==============================] - 32s 165us/sample - loss: 1.1017 - auc_79: 0.7598 - val_loss: 1.1134 - val_auc_79: 0.7572\n",
      "Epoch 6/50\n",
      "196038/196038 [==============================] - 33s 167us/sample - loss: 1.0970 - auc_79: 0.7623 - val_loss: 1.1066 - val_auc_79: 0.7589\n",
      "Epoch 7/50\n",
      "196038/196038 [==============================] - 33s 167us/sample - loss: 1.0947 - auc_79: 0.7633 - val_loss: 1.1073 - val_auc_79: 0.7582\n",
      "Epoch 8/50\n",
      "196038/196038 [==============================] - 33s 167us/sample - loss: 1.0915 - auc_79: 0.7649 - val_loss: 1.1105 - val_auc_79: 0.7583\n",
      "Epoch 9/50\n",
      "196038/196038 [==============================] - 33s 167us/sample - loss: 1.0895 - auc_79: 0.7664 - val_loss: 1.1084 - val_auc_79: 0.7581\n",
      "Epoch 10/50\n",
      "196038/196038 [==============================] - 33s 167us/sample - loss: 1.0876 - auc_79: 0.7672 - val_loss: 1.1083 - val_auc_79: 0.7589\n"
     ]
    },
    {
     "name": "stderr",
     "output_type": "stream",
     "text": [
      "\u001b[32m[I 2021-01-06 06:39:51,319]\u001b[0m Trial 29 finished with value: 0.759045592094821 and parameters: {'step': 5, 'no._units': 520, 'number': 4, 'best_weight': {0: 1.0, 1: 12.0}}. Best is trial 29 with value: 0.759045592094821.\u001b[0m\n"
     ]
    },
    {
     "name": "stdout",
     "output_type": "stream",
     "text": [
      "WARNING:tensorflow:sample_weight modes were coerced from\n",
      "  ...\n",
      "    to  \n",
      "  ['...']\n",
      "WARNING:tensorflow:sample_weight modes were coerced from\n",
      "  ...\n",
      "    to  \n",
      "  ['...']\n",
      "Train on 196038 samples, validate on 34595 samples\n",
      "Epoch 1/50\n",
      "196038/196038 [==============================] - 35s 181us/sample - loss: 1.1724 - auc_80: 0.7278 - val_loss: 1.2552 - val_auc_80: 0.7465\n",
      "Epoch 2/50\n",
      "196038/196038 [==============================] - 33s 168us/sample - loss: 1.1300 - auc_80: 0.7439 - val_loss: 1.1274 - val_auc_80: 0.7504\n",
      "Epoch 3/50\n",
      "196038/196038 [==============================] - 33s 169us/sample - loss: 1.1180 - auc_80: 0.7506 - val_loss: 1.1268 - val_auc_80: 0.7523\n",
      "Epoch 4/50\n",
      "196038/196038 [==============================] - 33s 169us/sample - loss: 1.1090 - auc_80: 0.7550 - val_loss: 1.1161 - val_auc_80: 0.7572\n",
      "Epoch 5/50\n",
      "196038/196038 [==============================] - 33s 169us/sample - loss: 1.1033 - auc_80: 0.7583 - val_loss: 1.1082 - val_auc_80: 0.7571\n",
      "Epoch 6/50\n",
      "196038/196038 [==============================] - 33s 170us/sample - loss: 1.0972 - auc_80: 0.7618 - val_loss: 1.1114 - val_auc_80: 0.7591\n",
      "Epoch 7/50\n",
      "196038/196038 [==============================] - 33s 170us/sample - loss: 1.0941 - auc_80: 0.7639 - val_loss: 1.1062 - val_auc_80: 0.7585\n",
      "Epoch 8/50\n",
      "196038/196038 [==============================] - 33s 170us/sample - loss: 1.0902 - auc_80: 0.7654 - val_loss: 1.1062 - val_auc_80: 0.7593\n",
      "Epoch 9/50\n",
      "196038/196038 [==============================] - 33s 168us/sample - loss: 1.0895 - auc_80: 0.7660 - val_loss: 1.1044 - val_auc_80: 0.7585\n",
      "Epoch 10/50\n",
      "196038/196038 [==============================] - 33s 168us/sample - loss: 1.0904 - auc_80: 0.7656 - val_loss: 1.1103 - val_auc_80: 0.7589\n",
      "Epoch 11/50\n",
      "196038/196038 [==============================] - 33s 170us/sample - loss: 1.0864 - auc_80: 0.7676 - val_loss: 1.1050 - val_auc_80: 0.7581\n",
      "Epoch 12/50\n",
      "196038/196038 [==============================] - 33s 170us/sample - loss: 1.0860 - auc_80: 0.7677 - val_loss: 1.1052 - val_auc_80: 0.7581\n",
      "Epoch 13/50\n",
      "196038/196038 [==============================] - 33s 170us/sample - loss: 1.0834 - auc_80: 0.7693 - val_loss: 1.1063 - val_auc_80: 0.7585\n"
     ]
    },
    {
     "name": "stderr",
     "output_type": "stream",
     "text": [
      "\u001b[32m[I 2021-01-06 06:47:08,303]\u001b[0m Trial 30 finished with value: 0.7585213471656986 and parameters: {'step': 5, 'no._units': 522, 'number': 4, 'best_weight': {0: 1.0, 1: 12.0}}. Best is trial 29 with value: 0.759045592094821.\u001b[0m\n"
     ]
    },
    {
     "name": "stdout",
     "output_type": "stream",
     "text": [
      "WARNING:tensorflow:sample_weight modes were coerced from\n",
      "  ...\n",
      "    to  \n",
      "  ['...']\n",
      "WARNING:tensorflow:sample_weight modes were coerced from\n",
      "  ...\n",
      "    to  \n",
      "  ['...']\n",
      "Train on 196038 samples, validate on 34595 samples\n",
      "Epoch 1/50\n",
      "196038/196038 [==============================] - 35s 179us/sample - loss: 1.1731 - auc_81: 0.7281 - val_loss: 1.1537 - val_auc_81: 0.7459\n",
      "Epoch 2/50\n",
      "196038/196038 [==============================] - 33s 170us/sample - loss: 1.1302 - auc_81: 0.7437 - val_loss: 1.1338 - val_auc_81: 0.7521\n",
      "Epoch 3/50\n",
      "196038/196038 [==============================] - 33s 170us/sample - loss: 1.1179 - auc_81: 0.7504 - val_loss: 1.1172 - val_auc_81: 0.7523\n",
      "Epoch 4/50\n",
      "196038/196038 [==============================] - 33s 169us/sample - loss: 1.1105 - auc_81: 0.7541 - val_loss: 1.1087 - val_auc_81: 0.7568\n",
      "Epoch 5/50\n",
      "196038/196038 [==============================] - 33s 170us/sample - loss: 1.1017 - auc_81: 0.7593 - val_loss: 1.1094 - val_auc_81: 0.7575\n",
      "Epoch 6/50\n",
      "196038/196038 [==============================] - 33s 169us/sample - loss: 1.0974 - auc_81: 0.7616 - val_loss: 1.1152 - val_auc_81: 0.7591\n",
      "Epoch 7/50\n",
      "196038/196038 [==============================] - 33s 169us/sample - loss: 1.0935 - auc_81: 0.7640 - val_loss: 1.1128 - val_auc_81: 0.7583\n",
      "Epoch 8/50\n",
      "196038/196038 [==============================] - 33s 168us/sample - loss: 1.0909 - auc_81: 0.7654 - val_loss: 1.1110 - val_auc_81: 0.7577\n"
     ]
    },
    {
     "name": "stderr",
     "output_type": "stream",
     "text": [
      "\u001b[32m[I 2021-01-06 06:51:39,510]\u001b[0m Trial 31 finished with value: 0.7567708712247074 and parameters: {'step': 5, 'no._units': 515, 'number': 4, 'best_weight': {0: 1.0, 1: 12.0}}. Best is trial 29 with value: 0.759045592094821.\u001b[0m\n"
     ]
    },
    {
     "name": "stdout",
     "output_type": "stream",
     "text": [
      "WARNING:tensorflow:sample_weight modes were coerced from\n",
      "  ...\n",
      "    to  \n",
      "  ['...']\n",
      "WARNING:tensorflow:sample_weight modes were coerced from\n",
      "  ...\n",
      "    to  \n",
      "  ['...']\n",
      "Train on 196038 samples, validate on 34595 samples\n",
      "Epoch 1/50\n",
      "196038/196038 [==============================] - 36s 181us/sample - loss: 1.1699 - auc_82: 0.7276 - val_loss: 1.1327 - val_auc_82: 0.7464\n",
      "Epoch 2/50\n",
      "196038/196038 [==============================] - 33s 171us/sample - loss: 1.1294 - auc_82: 0.7441 - val_loss: 1.1293 - val_auc_82: 0.7499\n",
      "Epoch 3/50\n",
      "196038/196038 [==============================] - 34s 171us/sample - loss: 1.1186 - auc_82: 0.7500 - val_loss: 1.1345 - val_auc_82: 0.7540\n",
      "Epoch 4/50\n",
      "196038/196038 [==============================] - 33s 171us/sample - loss: 1.1112 - auc_82: 0.7541 - val_loss: 1.1457 - val_auc_82: 0.7565\n",
      "Epoch 5/50\n",
      "196038/196038 [==============================] - 34s 172us/sample - loss: 1.1019 - auc_82: 0.7593 - val_loss: 1.1171 - val_auc_82: 0.7578\n",
      "Epoch 6/50\n",
      "196038/196038 [==============================] - 34s 171us/sample - loss: 1.0981 - auc_82: 0.7617 - val_loss: 1.1050 - val_auc_82: 0.7585\n",
      "Epoch 7/50\n",
      "196038/196038 [==============================] - 34s 171us/sample - loss: 1.0945 - auc_82: 0.7635 - val_loss: 1.1072 - val_auc_82: 0.7582\n",
      "Epoch 8/50\n",
      "196038/196038 [==============================] - 33s 171us/sample - loss: 1.0938 - auc_82: 0.7638 - val_loss: 1.1051 - val_auc_82: 0.7588\n",
      "Epoch 9/50\n",
      "196038/196038 [==============================] - 34s 171us/sample - loss: 1.0895 - auc_82: 0.7660 - val_loss: 1.1067 - val_auc_82: 0.7583\n",
      "Epoch 10/50\n",
      "196038/196038 [==============================] - 33s 171us/sample - loss: 1.0872 - auc_82: 0.7673 - val_loss: 1.1085 - val_auc_82: 0.7586\n"
     ]
    },
    {
     "name": "stderr",
     "output_type": "stream",
     "text": [
      "\u001b[32m[I 2021-01-06 06:57:21,686]\u001b[0m Trial 32 finished with value: 0.7584561782239565 and parameters: {'step': 5, 'no._units': 552, 'number': 4, 'best_weight': {0: 1.0, 1: 12.0}}. Best is trial 29 with value: 0.759045592094821.\u001b[0m\n"
     ]
    },
    {
     "name": "stdout",
     "output_type": "stream",
     "text": [
      "WARNING:tensorflow:sample_weight modes were coerced from\n",
      "  ...\n",
      "    to  \n",
      "  ['...']\n",
      "WARNING:tensorflow:sample_weight modes were coerced from\n",
      "  ...\n",
      "    to  \n",
      "  ['...']\n",
      "Train on 196038 samples, validate on 34595 samples\n",
      "Epoch 1/50\n",
      "196038/196038 [==============================] - 35s 178us/sample - loss: 1.1706 - auc_83: 0.7279 - val_loss: 1.2581 - val_auc_83: 0.7448\n",
      "Epoch 2/50\n",
      "196038/196038 [==============================] - 33s 169us/sample - loss: 1.1277 - auc_83: 0.7451 - val_loss: 1.1372 - val_auc_83: 0.7515\n",
      "Epoch 3/50\n",
      "196038/196038 [==============================] - 33s 167us/sample - loss: 1.1169 - auc_83: 0.7511 - val_loss: 1.1162 - val_auc_83: 0.7546\n",
      "Epoch 4/50\n",
      "196038/196038 [==============================] - 33s 167us/sample - loss: 1.1080 - auc_83: 0.7557 - val_loss: 1.1074 - val_auc_83: 0.7571\n",
      "Epoch 5/50\n",
      "196038/196038 [==============================] - 33s 169us/sample - loss: 1.1016 - auc_83: 0.7594 - val_loss: 1.1057 - val_auc_83: 0.7579\n",
      "Epoch 6/50\n",
      "196038/196038 [==============================] - 33s 167us/sample - loss: 1.0969 - auc_83: 0.7621 - val_loss: 1.1088 - val_auc_83: 0.7579\n",
      "Epoch 7/50\n",
      "196038/196038 [==============================] - 33s 168us/sample - loss: 1.0923 - auc_83: 0.7644 - val_loss: 1.1074 - val_auc_83: 0.7580\n",
      "Epoch 8/50\n",
      "196038/196038 [==============================] - 33s 169us/sample - loss: 1.0912 - auc_83: 0.7651 - val_loss: 1.1047 - val_auc_83: 0.7576\n",
      "Epoch 9/50\n",
      "196038/196038 [==============================] - 33s 168us/sample - loss: 1.0905 - auc_83: 0.7654 - val_loss: 1.1064 - val_auc_83: 0.7576\n",
      "Epoch 10/50\n",
      "196038/196038 [==============================] - 33s 169us/sample - loss: 1.0889 - auc_83: 0.7661 - val_loss: 1.1088 - val_auc_83: 0.7578\n",
      "Epoch 11/50\n",
      "196038/196038 [==============================] - 33s 168us/sample - loss: 1.0895 - auc_83: 0.7660 - val_loss: 1.1064 - val_auc_83: 0.7577\n",
      "Epoch 12/50\n",
      "196038/196038 [==============================] - 33s 166us/sample - loss: 1.0889 - auc_83: 0.7664 - val_loss: 1.1065 - val_auc_83: 0.7578\n"
     ]
    },
    {
     "name": "stderr",
     "output_type": "stream",
     "text": [
      "\u001b[32m[I 2021-01-06 07:04:02,279]\u001b[0m Trial 33 finished with value: 0.757647654403332 and parameters: {'step': 4, 'no._units': 511, 'number': 4, 'best_weight': {0: 1.0, 1: 12.0}}. Best is trial 29 with value: 0.759045592094821.\u001b[0m\n"
     ]
    },
    {
     "name": "stdout",
     "output_type": "stream",
     "text": [
      "WARNING:tensorflow:sample_weight modes were coerced from\n",
      "  ...\n",
      "    to  \n",
      "  ['...']\n",
      "WARNING:tensorflow:sample_weight modes were coerced from\n",
      "  ...\n",
      "    to  \n",
      "  ['...']\n",
      "Train on 196038 samples, validate on 34595 samples\n",
      "Epoch 1/50\n",
      "196038/196038 [==============================] - 29s 147us/sample - loss: 1.2055 - auc_84: 0.7315 - val_loss: 1.2001 - val_auc_84: 0.7459\n",
      "Epoch 2/50\n",
      "196038/196038 [==============================] - 27s 138us/sample - loss: 1.1750 - auc_84: 0.7441 - val_loss: 1.1723 - val_auc_84: 0.7490\n",
      "Epoch 3/50\n",
      "196038/196038 [==============================] - 27s 137us/sample - loss: 1.1641 - auc_84: 0.7494 - val_loss: 1.1617 - val_auc_84: 0.7532\n",
      "Epoch 4/50\n",
      "196038/196038 [==============================] - 27s 138us/sample - loss: 1.1549 - auc_84: 0.7547 - val_loss: 1.1649 - val_auc_84: 0.7562\n",
      "Epoch 5/50\n",
      "196038/196038 [==============================] - 27s 138us/sample - loss: 1.1452 - auc_84: 0.7598 - val_loss: 1.1808 - val_auc_84: 0.7580\n",
      "Epoch 6/50\n",
      "196038/196038 [==============================] - 27s 137us/sample - loss: 1.1410 - auc_84: 0.7616 - val_loss: 1.1514 - val_auc_84: 0.7571\n",
      "Epoch 7/50\n",
      "196038/196038 [==============================] - 27s 137us/sample - loss: 1.1358 - auc_84: 0.7645 - val_loss: 1.1513 - val_auc_84: 0.7576\n",
      "Epoch 8/50\n",
      "196038/196038 [==============================] - 27s 138us/sample - loss: 1.1319 - auc_84: 0.7667 - val_loss: 1.1532 - val_auc_84: 0.7566\n",
      "Epoch 9/50\n",
      "196038/196038 [==============================] - 27s 138us/sample - loss: 1.1322 - auc_84: 0.7665 - val_loss: 1.1535 - val_auc_84: 0.7575\n",
      "Epoch 10/50\n",
      "196038/196038 [==============================] - 27s 137us/sample - loss: 1.1295 - auc_84: 0.7677 - val_loss: 1.1531 - val_auc_84: 0.7572\n",
      "Epoch 11/50\n",
      "196038/196038 [==============================] - 27s 138us/sample - loss: 1.1292 - auc_84: 0.7679 - val_loss: 1.1528 - val_auc_84: 0.7571\n"
     ]
    },
    {
     "name": "stderr",
     "output_type": "stream",
     "text": [
      "\u001b[32m[I 2021-01-06 07:09:03,767]\u001b[0m Trial 34 finished with value: 0.757647192811104 and parameters: {'step': 5, 'no._units': 478, 'number': 3, 'best_weight': {0: 1.0, 1: 13.0}}. Best is trial 29 with value: 0.759045592094821.\u001b[0m\n"
     ]
    },
    {
     "name": "stdout",
     "output_type": "stream",
     "text": [
      "WARNING:tensorflow:sample_weight modes were coerced from\n",
      "  ...\n",
      "    to  \n",
      "  ['...']\n",
      "WARNING:tensorflow:sample_weight modes were coerced from\n",
      "  ...\n",
      "    to  \n",
      "  ['...']\n",
      "Train on 196038 samples, validate on 34595 samples\n",
      "Epoch 1/50\n",
      "196038/196038 [==============================] - 38s 195us/sample - loss: 1.1676 - auc_85: 0.7266 - val_loss: 1.1386 - val_auc_85: 0.7420\n",
      "Epoch 2/50\n",
      "196038/196038 [==============================] - 36s 184us/sample - loss: 1.1333 - auc_85: 0.7418 - val_loss: 1.1384 - val_auc_85: 0.7515\n",
      "Epoch 3/50\n",
      "196038/196038 [==============================] - 36s 183us/sample - loss: 1.1200 - auc_85: 0.7492 - val_loss: 1.1663 - val_auc_85: 0.7480\n",
      "Epoch 4/50\n",
      "196038/196038 [==============================] - 36s 184us/sample - loss: 1.1113 - auc_85: 0.7539 - val_loss: 1.1105 - val_auc_85: 0.7572\n",
      "Epoch 5/50\n",
      "196038/196038 [==============================] - 36s 183us/sample - loss: 1.1048 - auc_85: 0.7576 - val_loss: 1.1115 - val_auc_85: 0.7570\n",
      "Epoch 6/50\n",
      "196038/196038 [==============================] - 36s 183us/sample - loss: 1.1001 - auc_85: 0.7603 - val_loss: 1.1078 - val_auc_85: 0.7587\n",
      "Epoch 7/50\n",
      "196038/196038 [==============================] - 36s 184us/sample - loss: 1.0957 - auc_85: 0.7627 - val_loss: 1.1072 - val_auc_85: 0.7576\n",
      "Epoch 8/50\n",
      "196038/196038 [==============================] - 36s 184us/sample - loss: 1.0914 - auc_85: 0.7649 - val_loss: 1.1140 - val_auc_85: 0.7592\n",
      "Epoch 9/50\n",
      "196038/196038 [==============================] - 36s 183us/sample - loss: 1.0892 - auc_85: 0.7662 - val_loss: 1.1213 - val_auc_85: 0.7599\n",
      "Epoch 10/50\n",
      "196038/196038 [==============================] - 36s 184us/sample - loss: 1.0875 - auc_85: 0.7672 - val_loss: 1.1070 - val_auc_85: 0.7570\n",
      "Epoch 11/50\n",
      "196038/196038 [==============================] - 36s 182us/sample - loss: 1.0876 - auc_85: 0.7671 - val_loss: 1.1055 - val_auc_85: 0.7578\n",
      "Epoch 12/50\n",
      "196038/196038 [==============================] - 36s 184us/sample - loss: 1.0860 - auc_85: 0.7679 - val_loss: 1.1056 - val_auc_85: 0.7577\n",
      "Epoch 13/50\n",
      "196038/196038 [==============================] - 36s 184us/sample - loss: 1.0830 - auc_85: 0.7692 - val_loss: 1.1060 - val_auc_85: 0.7588\n",
      "Epoch 14/50\n",
      "196038/196038 [==============================] - 36s 182us/sample - loss: 1.0860 - auc_85: 0.7676 - val_loss: 1.1055 - val_auc_85: 0.7582\n",
      "Epoch 15/50\n",
      "196038/196038 [==============================] - 36s 184us/sample - loss: 1.0835 - auc_85: 0.7689 - val_loss: 1.1064 - val_auc_85: 0.7575\n",
      "Epoch 16/50\n",
      "196038/196038 [==============================] - 36s 182us/sample - loss: 1.0850 - auc_85: 0.7683 - val_loss: 1.1057 - val_auc_85: 0.7580\n",
      "Epoch 17/50\n",
      "196038/196038 [==============================] - 36s 181us/sample - loss: 1.0830 - auc_85: 0.7696 - val_loss: 1.1065 - val_auc_85: 0.7575\n",
      "Epoch 18/50\n",
      "196038/196038 [==============================] - 36s 184us/sample - loss: 1.0855 - auc_85: 0.7682 - val_loss: 1.1057 - val_auc_85: 0.7578\n"
     ]
    },
    {
     "name": "stderr",
     "output_type": "stream",
     "text": [
      "\u001b[32m[I 2021-01-06 07:19:57,005]\u001b[0m Trial 35 finished with value: 0.7582968669844086 and parameters: {'step': 6, 'no._units': 427, 'number': 5, 'best_weight': {0: 1.0, 1: 12.0}}. Best is trial 29 with value: 0.759045592094821.\u001b[0m\n"
     ]
    },
    {
     "name": "stdout",
     "output_type": "stream",
     "text": [
      "WARNING:tensorflow:sample_weight modes were coerced from\n",
      "  ...\n",
      "    to  \n",
      "  ['...']\n",
      "WARNING:tensorflow:sample_weight modes were coerced from\n",
      "  ...\n",
      "    to  \n",
      "  ['...']\n",
      "Train on 196038 samples, validate on 34595 samples\n",
      "Epoch 1/50\n",
      "196038/196038 [==============================] - 35s 181us/sample - loss: 1.4290 - auc_86: 0.7261 - val_loss: 1.3965 - val_auc_86: 0.7407\n",
      "Epoch 2/50\n",
      "196038/196038 [==============================] - 34s 172us/sample - loss: 1.3747 - auc_86: 0.7415 - val_loss: 1.4962 - val_auc_86: 0.7503\n",
      "Epoch 3/50\n",
      "196038/196038 [==============================] - 34s 172us/sample - loss: 1.3607 - auc_86: 0.7484 - val_loss: 1.3578 - val_auc_86: 0.7523\n",
      "Epoch 4/50\n",
      "196038/196038 [==============================] - 34s 172us/sample - loss: 1.3487 - auc_86: 0.7534 - val_loss: 1.3531 - val_auc_86: 0.7547\n",
      "Epoch 5/50\n",
      "196038/196038 [==============================] - 34s 172us/sample - loss: 1.3411 - auc_86: 0.7568 - val_loss: 1.3648 - val_auc_86: 0.7566\n",
      "Epoch 6/50\n",
      "196038/196038 [==============================] - 34s 172us/sample - loss: 1.3331 - auc_86: 0.7607 - val_loss: 1.3496 - val_auc_86: 0.7558\n",
      "Epoch 7/50\n",
      "196038/196038 [==============================] - 34s 172us/sample - loss: 1.3293 - auc_86: 0.7620 - val_loss: 1.3501 - val_auc_86: 0.7559\n",
      "Epoch 8/50\n",
      "196038/196038 [==============================] - 34s 172us/sample - loss: 1.3240 - auc_86: 0.7645 - val_loss: 1.3595 - val_auc_86: 0.7566\n",
      "Epoch 9/50\n",
      "196038/196038 [==============================] - 33s 170us/sample - loss: 1.3182 - auc_86: 0.7669 - val_loss: 1.3470 - val_auc_86: 0.7568\n",
      "Epoch 10/50\n",
      "196038/196038 [==============================] - 34s 172us/sample - loss: 1.3161 - auc_86: 0.7682 - val_loss: 1.3490 - val_auc_86: 0.7561\n",
      "Epoch 11/50\n",
      "196038/196038 [==============================] - 33s 171us/sample - loss: 1.3154 - auc_86: 0.7682 - val_loss: 1.3559 - val_auc_86: 0.7562\n",
      "Epoch 12/50\n",
      "196038/196038 [==============================] - 34s 172us/sample - loss: 1.3124 - auc_86: 0.7692 - val_loss: 1.3546 - val_auc_86: 0.7553\n",
      "Epoch 13/50\n",
      "196038/196038 [==============================] - 34s 173us/sample - loss: 1.3112 - auc_86: 0.7698 - val_loss: 1.3660 - val_auc_86: 0.7563\n"
     ]
    },
    {
     "name": "stderr",
     "output_type": "stream",
     "text": [
      "\u001b[32m[I 2021-01-06 07:27:20,643]\u001b[0m Trial 36 finished with value: 0.7568649290849104 and parameters: {'step': 6, 'no._units': 563, 'number': 4, 'best_weight': {0: 1.0, 1: 18.0}}. Best is trial 29 with value: 0.759045592094821.\u001b[0m\n"
     ]
    },
    {
     "name": "stdout",
     "output_type": "stream",
     "text": [
      "WARNING:tensorflow:sample_weight modes were coerced from\n",
      "  ...\n",
      "    to  \n",
      "  ['...']\n",
      "WARNING:tensorflow:sample_weight modes were coerced from\n",
      "  ...\n",
      "    to  \n",
      "  ['...']\n",
      "Train on 196038 samples, validate on 34595 samples\n",
      "Epoch 1/50\n",
      "196038/196038 [==============================] - 35s 180us/sample - loss: 1.3034 - auc_87: 0.7277 - val_loss: 1.2678 - val_auc_87: 0.7405\n",
      "Epoch 2/50\n",
      "196038/196038 [==============================] - 32s 164us/sample - loss: 1.2570 - auc_87: 0.7444 - val_loss: 1.2613 - val_auc_87: 0.7497\n",
      "Epoch 3/50\n",
      "196038/196038 [==============================] - 32s 164us/sample - loss: 1.2434 - auc_87: 0.7515 - val_loss: 1.2448 - val_auc_87: 0.7547\n",
      "Epoch 4/50\n",
      "196038/196038 [==============================] - 32s 163us/sample - loss: 1.2330 - auc_87: 0.7566 - val_loss: 1.2521 - val_auc_87: 0.7562\n",
      "Epoch 5/50\n",
      "196038/196038 [==============================] - 32s 164us/sample - loss: 1.2262 - auc_87: 0.7596 - val_loss: 1.2382 - val_auc_87: 0.7576\n",
      "Epoch 6/50\n",
      "196038/196038 [==============================] - 32s 164us/sample - loss: 1.2226 - auc_87: 0.7616 - val_loss: 1.2673 - val_auc_87: 0.7598\n",
      "Epoch 7/50\n",
      "196038/196038 [==============================] - 32s 163us/sample - loss: 1.2175 - auc_87: 0.7639 - val_loss: 1.2403 - val_auc_87: 0.7579\n",
      "Epoch 8/50\n",
      "196038/196038 [==============================] - 32s 164us/sample - loss: 1.2161 - auc_87: 0.7646 - val_loss: 1.2351 - val_auc_87: 0.7583\n",
      "Epoch 9/50\n",
      "196038/196038 [==============================] - 32s 163us/sample - loss: 1.2136 - auc_87: 0.7658 - val_loss: 1.2436 - val_auc_87: 0.7588\n",
      "Epoch 10/50\n",
      "196038/196038 [==============================] - 32s 163us/sample - loss: 1.2163 - auc_87: 0.7647 - val_loss: 1.2357 - val_auc_87: 0.7580\n",
      "Epoch 11/50\n",
      "196038/196038 [==============================] - 32s 164us/sample - loss: 1.2133 - auc_87: 0.7661 - val_loss: 1.2368 - val_auc_87: 0.7581\n",
      "Epoch 12/50\n",
      "196038/196038 [==============================] - 32s 164us/sample - loss: 1.2141 - auc_87: 0.7657 - val_loss: 1.2380 - val_auc_87: 0.7585\n"
     ]
    },
    {
     "name": "stderr",
     "output_type": "stream",
     "text": [
      "\u001b[32m[I 2021-01-06 07:33:52,752]\u001b[0m Trial 37 finished with value: 0.7583171939299584 and parameters: {'step': 4, 'no._units': 392, 'number': 4, 'best_weight': {0: 1.0, 1: 15.0}}. Best is trial 29 with value: 0.759045592094821.\u001b[0m\n"
     ]
    },
    {
     "name": "stdout",
     "output_type": "stream",
     "text": [
      "WARNING:tensorflow:sample_weight modes were coerced from\n",
      "  ...\n",
      "    to  \n",
      "  ['...']\n",
      "WARNING:tensorflow:sample_weight modes were coerced from\n",
      "  ...\n",
      "    to  \n",
      "  ['...']\n",
      "Train on 196038 samples, validate on 34595 samples\n",
      "Epoch 1/50\n",
      "196038/196038 [==============================] - 36s 182us/sample - loss: 1.1727 - auc_88: 0.7269 - val_loss: 1.1388 - val_auc_88: 0.7461\n",
      "Epoch 2/50\n",
      "196038/196038 [==============================] - 34s 172us/sample - loss: 1.1302 - auc_88: 0.7435 - val_loss: 1.1521 - val_auc_88: 0.7486\n",
      "Epoch 3/50\n",
      "196038/196038 [==============================] - 34s 172us/sample - loss: 1.1197 - auc_88: 0.7494 - val_loss: 1.1238 - val_auc_88: 0.7530\n",
      "Epoch 4/50\n",
      "196038/196038 [==============================] - 34s 172us/sample - loss: 1.1112 - auc_88: 0.7543 - val_loss: 1.1094 - val_auc_88: 0.7558\n",
      "Epoch 5/50\n",
      "196038/196038 [==============================] - 34s 172us/sample - loss: 1.1043 - auc_88: 0.7580 - val_loss: 1.1095 - val_auc_88: 0.7571\n",
      "Epoch 6/50\n",
      "196038/196038 [==============================] - 34s 172us/sample - loss: 1.0974 - auc_88: 0.7615 - val_loss: 1.1137 - val_auc_88: 0.7557\n",
      "Epoch 7/50\n",
      "196038/196038 [==============================] - 34s 173us/sample - loss: 1.0938 - auc_88: 0.7638 - val_loss: 1.1085 - val_auc_88: 0.7565\n",
      "Epoch 8/50\n",
      "196038/196038 [==============================] - 34s 172us/sample - loss: 1.0915 - auc_88: 0.7650 - val_loss: 1.1098 - val_auc_88: 0.7572\n",
      "Epoch 9/50\n",
      "196038/196038 [==============================] - 33s 171us/sample - loss: 1.0888 - auc_88: 0.7664 - val_loss: 1.1098 - val_auc_88: 0.7573\n",
      "Epoch 10/50\n",
      "196038/196038 [==============================] - 34s 173us/sample - loss: 1.0890 - auc_88: 0.7662 - val_loss: 1.1080 - val_auc_88: 0.7566\n",
      "Epoch 11/50\n",
      "196038/196038 [==============================] - 34s 173us/sample - loss: 1.0884 - auc_88: 0.7664 - val_loss: 1.1086 - val_auc_88: 0.7565\n",
      "Epoch 12/50\n",
      "196038/196038 [==============================] - 34s 172us/sample - loss: 1.0865 - auc_88: 0.7678 - val_loss: 1.1089 - val_auc_88: 0.7566\n",
      "Epoch 13/50\n",
      "196038/196038 [==============================] - 34s 172us/sample - loss: 1.0864 - auc_88: 0.7679 - val_loss: 1.1098 - val_auc_88: 0.7562\n",
      "Epoch 14/50\n",
      "196038/196038 [==============================] - 33s 170us/sample - loss: 1.0851 - auc_88: 0.7687 - val_loss: 1.1086 - val_auc_88: 0.7565\n"
     ]
    },
    {
     "name": "stderr",
     "output_type": "stream",
     "text": [
      "\u001b[32m[I 2021-01-06 07:41:50,345]\u001b[0m Trial 38 finished with value: 0.7566384618053709 and parameters: {'step': 5, 'no._units': 600, 'number': 4, 'best_weight': {0: 1.0, 1: 12.0}}. Best is trial 29 with value: 0.759045592094821.\u001b[0m\n"
     ]
    },
    {
     "name": "stdout",
     "output_type": "stream",
     "text": [
      "WARNING:tensorflow:sample_weight modes were coerced from\n",
      "  ...\n",
      "    to  \n",
      "  ['...']\n",
      "WARNING:tensorflow:sample_weight modes were coerced from\n",
      "  ...\n",
      "    to  \n",
      "  ['...']\n",
      "Train on 196038 samples, validate on 34595 samples\n",
      "Epoch 1/50\n",
      "196038/196038 [==============================] - 30s 151us/sample - loss: 1.3382 - auc_89: 0.7292 - val_loss: 1.4549 - val_auc_89: 0.7443\n",
      "Epoch 2/50\n",
      "196038/196038 [==============================] - 28s 141us/sample - loss: 1.2989 - auc_89: 0.7428 - val_loss: 1.3150 - val_auc_89: 0.7472\n",
      "Epoch 3/50\n",
      "196038/196038 [==============================] - 28s 141us/sample - loss: 1.2855 - auc_89: 0.7490 - val_loss: 1.3147 - val_auc_89: 0.7533\n",
      "Epoch 4/50\n",
      "196038/196038 [==============================] - 28s 142us/sample - loss: 1.2788 - auc_89: 0.7529 - val_loss: 1.2844 - val_auc_89: 0.7546\n",
      "Epoch 5/50\n",
      "196038/196038 [==============================] - 28s 141us/sample - loss: 1.2709 - auc_89: 0.7564 - val_loss: 1.2724 - val_auc_89: 0.7570\n",
      "Epoch 6/50\n",
      "196038/196038 [==============================] - 28s 141us/sample - loss: 1.2655 - auc_89: 0.7590 - val_loss: 1.2741 - val_auc_89: 0.7582\n",
      "Epoch 7/50\n",
      "196038/196038 [==============================] - 27s 139us/sample - loss: 1.2598 - auc_89: 0.7618 - val_loss: 1.2721 - val_auc_89: 0.7577\n",
      "Epoch 8/50\n",
      "196038/196038 [==============================] - 27s 139us/sample - loss: 1.2561 - auc_89: 0.7637 - val_loss: 1.2694 - val_auc_89: 0.7579\n",
      "Epoch 9/50\n",
      "196038/196038 [==============================] - 28s 141us/sample - loss: 1.2524 - auc_89: 0.7649 - val_loss: 1.2707 - val_auc_89: 0.7572\n",
      "Epoch 10/50\n",
      "196038/196038 [==============================] - 28s 140us/sample - loss: 1.2489 - auc_89: 0.7667 - val_loss: 1.2699 - val_auc_89: 0.7583\n",
      "Epoch 11/50\n",
      "196038/196038 [==============================] - 28s 141us/sample - loss: 1.2472 - auc_89: 0.7677 - val_loss: 1.2703 - val_auc_89: 0.7579\n",
      "Epoch 12/50\n",
      "196038/196038 [==============================] - 28s 141us/sample - loss: 1.2468 - auc_89: 0.7681 - val_loss: 1.2706 - val_auc_89: 0.7576\n"
     ]
    },
    {
     "name": "stderr",
     "output_type": "stream",
     "text": [
      "\u001b[32m[I 2021-01-06 07:47:26,454]\u001b[0m Trial 39 finished with value: 0.7578879975955773 and parameters: {'step': 6, 'no._units': 467, 'number': 3, 'best_weight': {0: 1.0, 1: 16.0}}. Best is trial 29 with value: 0.759045592094821.\u001b[0m\n"
     ]
    },
    {
     "name": "stdout",
     "output_type": "stream",
     "text": [
      "WARNING:tensorflow:sample_weight modes were coerced from\n",
      "  ...\n",
      "    to  \n",
      "  ['...']\n",
      "WARNING:tensorflow:sample_weight modes were coerced from\n",
      "  ...\n",
      "    to  \n",
      "  ['...']\n",
      "Train on 196038 samples, validate on 34595 samples\n",
      "Epoch 1/50\n",
      "196038/196038 [==============================] - 30s 151us/sample - loss: 1.1372 - auc_90: 0.7301 - val_loss: 1.1390 - val_auc_90: 0.7478\n",
      "Epoch 2/50\n",
      "196038/196038 [==============================] - 28s 145us/sample - loss: 1.0994 - auc_90: 0.7446 - val_loss: 1.1061 - val_auc_90: 0.7499\n",
      "Epoch 3/50\n",
      "196038/196038 [==============================] - 28s 144us/sample - loss: 1.0878 - auc_90: 0.7511 - val_loss: 1.0929 - val_auc_90: 0.7561\n",
      "Epoch 4/50\n",
      "196038/196038 [==============================] - 28s 142us/sample - loss: 1.0795 - auc_90: 0.7563 - val_loss: 1.0897 - val_auc_90: 0.7566\n",
      "Epoch 5/50\n",
      "196038/196038 [==============================] - 28s 142us/sample - loss: 1.0736 - auc_90: 0.7593 - val_loss: 1.0852 - val_auc_90: 0.7568\n",
      "Epoch 6/50\n",
      "196038/196038 [==============================] - 28s 144us/sample - loss: 1.0695 - auc_90: 0.7616 - val_loss: 1.0787 - val_auc_90: 0.7565\n",
      "Epoch 7/50\n",
      "196038/196038 [==============================] - 28s 144us/sample - loss: 1.0644 - auc_90: 0.7644 - val_loss: 1.0798 - val_auc_90: 0.7568\n",
      "Epoch 8/50\n",
      "196038/196038 [==============================] - 28s 144us/sample - loss: 1.0625 - auc_90: 0.7658 - val_loss: 1.0809 - val_auc_90: 0.7597\n",
      "Epoch 9/50\n",
      "196038/196038 [==============================] - 28s 142us/sample - loss: 1.0604 - auc_90: 0.7667 - val_loss: 1.0770 - val_auc_90: 0.7588\n",
      "Epoch 10/50\n",
      "196038/196038 [==============================] - 28s 143us/sample - loss: 1.0600 - auc_90: 0.7671 - val_loss: 1.0763 - val_auc_90: 0.7578\n",
      "Epoch 11/50\n",
      "196038/196038 [==============================] - 28s 142us/sample - loss: 1.0589 - auc_90: 0.7676 - val_loss: 1.0773 - val_auc_90: 0.7581\n",
      "Epoch 12/50\n",
      "196038/196038 [==============================] - 28s 144us/sample - loss: 1.0567 - auc_90: 0.7686 - val_loss: 1.0765 - val_auc_90: 0.7582\n",
      "Epoch 13/50\n",
      "196038/196038 [==============================] - 28s 144us/sample - loss: 1.0588 - auc_90: 0.7674 - val_loss: 1.0772 - val_auc_90: 0.7589\n",
      "Epoch 14/50\n",
      "196038/196038 [==============================] - 28s 144us/sample - loss: 1.0576 - auc_90: 0.7683 - val_loss: 1.0769 - val_auc_90: 0.7584\n"
     ]
    },
    {
     "name": "stderr",
     "output_type": "stream",
     "text": [
      "\u001b[32m[I 2021-01-06 07:54:04,981]\u001b[0m Trial 40 finished with value: 0.7578440506379733 and parameters: {'step': 5, 'no._units': 520, 'number': 3, 'best_weight': {0: 1.0, 1: 11.38697}}. Best is trial 29 with value: 0.759045592094821.\u001b[0m\n"
     ]
    },
    {
     "name": "stdout",
     "output_type": "stream",
     "text": [
      "WARNING:tensorflow:sample_weight modes were coerced from\n",
      "  ...\n",
      "    to  \n",
      "  ['...']\n",
      "WARNING:tensorflow:sample_weight modes were coerced from\n",
      "  ...\n",
      "    to  \n",
      "  ['...']\n",
      "Train on 196038 samples, validate on 34595 samples\n",
      "Epoch 1/50\n",
      "196038/196038 [==============================] - 36s 183us/sample - loss: 1.1778 - auc_91: 0.7262 - val_loss: 1.4756 - val_auc_91: 0.7362\n",
      "Epoch 2/50\n",
      "196038/196038 [==============================] - 34s 173us/sample - loss: 1.1288 - auc_91: 0.7443 - val_loss: 1.1332 - val_auc_91: 0.7480\n",
      "Epoch 3/50\n",
      "196038/196038 [==============================] - 34s 173us/sample - loss: 1.1182 - auc_91: 0.7504 - val_loss: 1.1257 - val_auc_91: 0.7547\n",
      "Epoch 4/50\n",
      "196038/196038 [==============================] - 34s 173us/sample - loss: 1.1092 - auc_91: 0.7555 - val_loss: 1.1120 - val_auc_91: 0.7559\n",
      "Epoch 5/50\n",
      "196038/196038 [==============================] - 34s 173us/sample - loss: 1.1028 - auc_91: 0.7589 - val_loss: 1.1211 - val_auc_91: 0.7581\n",
      "Epoch 6/50\n",
      "196038/196038 [==============================] - 34s 172us/sample - loss: 1.0973 - auc_91: 0.7617 - val_loss: 1.1074 - val_auc_91: 0.7573\n",
      "Epoch 7/50\n",
      "196038/196038 [==============================] - 34s 173us/sample - loss: 1.0931 - auc_91: 0.7641 - val_loss: 1.1080 - val_auc_91: 0.7585\n",
      "Epoch 8/50\n",
      "196038/196038 [==============================] - 34s 173us/sample - loss: 1.0902 - auc_91: 0.7657 - val_loss: 1.1051 - val_auc_91: 0.7586\n",
      "Epoch 9/50\n",
      "196038/196038 [==============================] - 34s 172us/sample - loss: 1.0888 - auc_91: 0.7664 - val_loss: 1.1050 - val_auc_91: 0.7583\n",
      "Epoch 10/50\n",
      "196038/196038 [==============================] - 34s 172us/sample - loss: 1.0872 - auc_91: 0.7673 - val_loss: 1.1059 - val_auc_91: 0.7580\n",
      "Epoch 11/50\n",
      "196038/196038 [==============================] - 34s 173us/sample - loss: 1.0863 - auc_91: 0.7679 - val_loss: 1.1064 - val_auc_91: 0.7580\n",
      "Epoch 12/50\n",
      "196038/196038 [==============================] - 34s 173us/sample - loss: 1.0844 - auc_91: 0.7688 - val_loss: 1.1055 - val_auc_91: 0.7587\n",
      "Epoch 13/50\n",
      "196038/196038 [==============================] - 34s 172us/sample - loss: 1.0853 - auc_91: 0.7683 - val_loss: 1.1064 - val_auc_91: 0.7579\n"
     ]
    },
    {
     "name": "stderr",
     "output_type": "stream",
     "text": [
      "\u001b[32m[I 2021-01-06 08:01:30,772]\u001b[0m Trial 41 finished with value: 0.7582845672402863 and parameters: {'step': 5, 'no._units': 563, 'number': 4, 'best_weight': {0: 1.0, 1: 12.0}}. Best is trial 29 with value: 0.759045592094821.\u001b[0m\n"
     ]
    },
    {
     "name": "stdout",
     "output_type": "stream",
     "text": [
      "WARNING:tensorflow:sample_weight modes were coerced from\n",
      "  ...\n",
      "    to  \n",
      "  ['...']\n",
      "WARNING:tensorflow:sample_weight modes were coerced from\n",
      "  ...\n",
      "    to  \n",
      "  ['...']\n",
      "Train on 196038 samples, validate on 34595 samples\n",
      "Epoch 1/50\n",
      "196038/196038 [==============================] - 37s 189us/sample - loss: 1.1735 - auc_92: 0.7269 - val_loss: 1.1430 - val_auc_92: 0.7464\n",
      "Epoch 2/50\n",
      "196038/196038 [==============================] - 34s 173us/sample - loss: 1.1295 - auc_92: 0.7442 - val_loss: 1.1507 - val_auc_92: 0.7493\n",
      "Epoch 3/50\n",
      "196038/196038 [==============================] - 34s 173us/sample - loss: 1.1179 - auc_92: 0.7508 - val_loss: 1.1201 - val_auc_92: 0.7513\n",
      "Epoch 4/50\n",
      "196038/196038 [==============================] - 34s 171us/sample - loss: 1.1086 - auc_92: 0.7556 - val_loss: 1.1544 - val_auc_92: 0.7557\n",
      "Epoch 5/50\n",
      "196038/196038 [==============================] - 34s 173us/sample - loss: 1.1032 - auc_92: 0.7585 - val_loss: 1.1083 - val_auc_92: 0.7567\n",
      "Epoch 6/50\n",
      "196038/196038 [==============================] - 34s 173us/sample - loss: 1.0978 - auc_92: 0.7615 - val_loss: 1.1290 - val_auc_92: 0.7584\n",
      "Epoch 7/50\n",
      "196038/196038 [==============================] - 34s 172us/sample - loss: 1.0962 - auc_92: 0.7623 - val_loss: 1.1077 - val_auc_92: 0.7570\n",
      "Epoch 8/50\n",
      "196038/196038 [==============================] - 34s 173us/sample - loss: 1.0929 - auc_92: 0.7640 - val_loss: 1.1125 - val_auc_92: 0.7576\n",
      "Epoch 9/50\n",
      "196038/196038 [==============================] - 34s 173us/sample - loss: 1.0942 - auc_92: 0.7633 - val_loss: 1.1185 - val_auc_92: 0.7581\n",
      "Epoch 10/50\n",
      "196038/196038 [==============================] - 34s 173us/sample - loss: 1.0901 - auc_92: 0.7656 - val_loss: 1.1090 - val_auc_92: 0.7572\n",
      "Epoch 11/50\n",
      "196038/196038 [==============================] - 34s 172us/sample - loss: 1.0899 - auc_92: 0.7657 - val_loss: 1.1089 - val_auc_92: 0.7572\n"
     ]
    },
    {
     "name": "stderr",
     "output_type": "stream",
     "text": [
      "\u001b[32m[I 2021-01-06 08:07:50,020]\u001b[0m Trial 42 finished with value: 0.757004149804196 and parameters: {'step': 4, 'no._units': 551, 'number': 4, 'best_weight': {0: 1.0, 1: 12.0}}. Best is trial 29 with value: 0.759045592094821.\u001b[0m\n"
     ]
    },
    {
     "name": "stdout",
     "output_type": "stream",
     "text": [
      "WARNING:tensorflow:sample_weight modes were coerced from\n",
      "  ...\n",
      "    to  \n",
      "  ['...']\n",
      "WARNING:tensorflow:sample_weight modes were coerced from\n",
      "  ...\n",
      "    to  \n",
      "  ['...']\n",
      "Train on 196038 samples, validate on 34595 samples\n",
      "Epoch 1/50\n",
      "196038/196038 [==============================] - 36s 181us/sample - loss: 1.1723 - auc_93: 0.7274 - val_loss: 1.1324 - val_auc_93: 0.7460\n",
      "Epoch 2/50\n",
      "196038/196038 [==============================] - 34s 172us/sample - loss: 1.1317 - auc_93: 0.7429 - val_loss: 1.1413 - val_auc_93: 0.7503\n",
      "Epoch 3/50\n",
      "196038/196038 [==============================] - 34s 173us/sample - loss: 1.1164 - auc_93: 0.7516 - val_loss: 1.1220 - val_auc_93: 0.7526\n",
      "Epoch 4/50\n",
      "196038/196038 [==============================] - 33s 171us/sample - loss: 1.1088 - auc_93: 0.7554 - val_loss: 1.1247 - val_auc_93: 0.7559\n",
      "Epoch 5/50\n",
      "196038/196038 [==============================] - 34s 173us/sample - loss: 1.1032 - auc_93: 0.7588 - val_loss: 1.1153 - val_auc_93: 0.7583\n",
      "Epoch 6/50\n",
      "196038/196038 [==============================] - 34s 173us/sample - loss: 1.0982 - auc_93: 0.7616 - val_loss: 1.1097 - val_auc_93: 0.7576\n",
      "Epoch 7/50\n",
      "196038/196038 [==============================] - 34s 173us/sample - loss: 1.0936 - auc_93: 0.7639 - val_loss: 1.1085 - val_auc_93: 0.7578\n",
      "Epoch 8/50\n",
      "196038/196038 [==============================] - 34s 172us/sample - loss: 1.0924 - auc_93: 0.7645 - val_loss: 1.1073 - val_auc_93: 0.7589\n",
      "Epoch 9/50\n",
      "196038/196038 [==============================] - 34s 172us/sample - loss: 1.0896 - auc_93: 0.7659 - val_loss: 1.1074 - val_auc_93: 0.7586\n",
      "Epoch 10/50\n",
      "196038/196038 [==============================] - 34s 172us/sample - loss: 1.0891 - auc_93: 0.7663 - val_loss: 1.1079 - val_auc_93: 0.7580\n",
      "Epoch 11/50\n",
      "196038/196038 [==============================] - 33s 170us/sample - loss: 1.0861 - auc_93: 0.7676 - val_loss: 1.1076 - val_auc_93: 0.7579\n",
      "Epoch 12/50\n",
      "196038/196038 [==============================] - 34s 173us/sample - loss: 1.0873 - auc_93: 0.7674 - val_loss: 1.1061 - val_auc_93: 0.7574\n",
      "Epoch 13/50\n",
      "196038/196038 [==============================] - 34s 171us/sample - loss: 1.0854 - auc_93: 0.7681 - val_loss: 1.1065 - val_auc_93: 0.7574\n",
      "Epoch 14/50\n",
      "196038/196038 [==============================] - 33s 171us/sample - loss: 1.0848 - auc_93: 0.7687 - val_loss: 1.1068 - val_auc_93: 0.7575\n",
      "Epoch 15/50\n",
      "196038/196038 [==============================] - 34s 171us/sample - loss: 1.0857 - auc_93: 0.7681 - val_loss: 1.1093 - val_auc_93: 0.7578\n",
      "Epoch 16/50\n",
      "196038/196038 [==============================] - 34s 173us/sample - loss: 1.0867 - auc_93: 0.7676 - val_loss: 1.1067 - val_auc_93: 0.7578\n"
     ]
    },
    {
     "name": "stderr",
     "output_type": "stream",
     "text": [
      "\u001b[32m[I 2021-01-06 08:16:54,744]\u001b[0m Trial 43 finished with value: 0.7574947829382812 and parameters: {'step': 5, 'no._units': 582, 'number': 4, 'best_weight': {0: 1.0, 1: 12.0}}. Best is trial 29 with value: 0.759045592094821.\u001b[0m\n"
     ]
    },
    {
     "name": "stdout",
     "output_type": "stream",
     "text": [
      "WARNING:tensorflow:sample_weight modes were coerced from\n",
      "  ...\n",
      "    to  \n",
      "  ['...']\n",
      "WARNING:tensorflow:sample_weight modes were coerced from\n",
      "  ...\n",
      "    to  \n",
      "  ['...']\n",
      "Train on 196038 samples, validate on 34595 samples\n",
      "Epoch 1/50\n",
      "196038/196038 [==============================] - 34s 175us/sample - loss: 1.3845 - auc_94: 0.7278 - val_loss: 1.3526 - val_auc_94: 0.7447\n",
      "Epoch 2/50\n",
      "196038/196038 [==============================] - 33s 166us/sample - loss: 1.3341 - auc_94: 0.7444 - val_loss: 1.3291 - val_auc_94: 0.7481\n",
      "Epoch 3/50\n",
      "196038/196038 [==============================] - 33s 166us/sample - loss: 1.3206 - auc_94: 0.7505 - val_loss: 1.3202 - val_auc_94: 0.7529\n",
      "Epoch 4/50\n",
      "196038/196038 [==============================] - 32s 166us/sample - loss: 1.3115 - auc_94: 0.7540 - val_loss: 1.3167 - val_auc_94: 0.7564\n",
      "Epoch 5/50\n",
      "196038/196038 [==============================] - 32s 165us/sample - loss: 1.3049 - auc_94: 0.7573 - val_loss: 1.3139 - val_auc_94: 0.7570\n",
      "Epoch 6/50\n",
      "196038/196038 [==============================] - 32s 165us/sample - loss: 1.2972 - auc_94: 0.7609 - val_loss: 1.3347 - val_auc_94: 0.7580\n",
      "Epoch 7/50\n",
      "196038/196038 [==============================] - 32s 164us/sample - loss: 1.2913 - auc_94: 0.7639 - val_loss: 1.3100 - val_auc_94: 0.7571\n",
      "Epoch 8/50\n",
      "196038/196038 [==============================] - 32s 165us/sample - loss: 1.2911 - auc_94: 0.7634 - val_loss: 1.3101 - val_auc_94: 0.7569\n",
      "Epoch 9/50\n",
      "196038/196038 [==============================] - 32s 164us/sample - loss: 1.2872 - auc_94: 0.7655 - val_loss: 1.3145 - val_auc_94: 0.7570\n",
      "Epoch 10/50\n",
      "196038/196038 [==============================] - 33s 166us/sample - loss: 1.2859 - auc_94: 0.7659 - val_loss: 1.3097 - val_auc_94: 0.7567\n",
      "Epoch 11/50\n",
      "196038/196038 [==============================] - 32s 165us/sample - loss: 1.2830 - auc_94: 0.7669 - val_loss: 1.3095 - val_auc_94: 0.7567\n",
      "Epoch 12/50\n",
      "196038/196038 [==============================] - 32s 165us/sample - loss: 1.2821 - auc_94: 0.7676 - val_loss: 1.3121 - val_auc_94: 0.7566\n",
      "Epoch 13/50\n",
      "196038/196038 [==============================] - 32s 166us/sample - loss: 1.2833 - auc_94: 0.7669 - val_loss: 1.3314 - val_auc_94: 0.7576\n",
      "Epoch 14/50\n",
      "196038/196038 [==============================] - 32s 165us/sample - loss: 1.2825 - auc_94: 0.7674 - val_loss: 1.3115 - val_auc_94: 0.7565\n",
      "Epoch 15/50\n",
      "196038/196038 [==============================] - 32s 163us/sample - loss: 1.2818 - auc_94: 0.7677 - val_loss: 1.3105 - val_auc_94: 0.7562\n"
     ]
    },
    {
     "name": "stderr",
     "output_type": "stream",
     "text": [
      "\u001b[32m[I 2021-01-06 08:25:05,801]\u001b[0m Trial 44 finished with value: 0.7567223421198652 and parameters: {'step': 5, 'no._units': 496, 'number': 4, 'best_weight': {0: 1.0, 1: 17.0}}. Best is trial 29 with value: 0.759045592094821.\u001b[0m\n"
     ]
    },
    {
     "name": "stdout",
     "output_type": "stream",
     "text": [
      "WARNING:tensorflow:sample_weight modes were coerced from\n",
      "  ...\n",
      "    to  \n",
      "  ['...']\n",
      "WARNING:tensorflow:sample_weight modes were coerced from\n",
      "  ...\n",
      "    to  \n",
      "  ['...']\n",
      "Train on 196038 samples, validate on 34595 samples\n",
      "Epoch 1/50\n",
      "196038/196038 [==============================] - 40s 204us/sample - loss: 1.2749 - auc_95: 0.7250 - val_loss: 1.2467 - val_auc_95: 0.7450\n",
      "Epoch 2/50\n",
      "196038/196038 [==============================] - 38s 192us/sample - loss: 1.2176 - auc_95: 0.7444 - val_loss: 1.3522 - val_auc_95: 0.7479\n",
      "Epoch 3/50\n",
      "196038/196038 [==============================] - 38s 192us/sample - loss: 1.2059 - auc_95: 0.7500 - val_loss: 1.2179 - val_auc_95: 0.7510\n",
      "Epoch 4/50\n",
      "196038/196038 [==============================] - 38s 192us/sample - loss: 1.1989 - auc_95: 0.7537 - val_loss: 1.2026 - val_auc_95: 0.7548\n",
      "Epoch 5/50\n",
      "196038/196038 [==============================] - 38s 193us/sample - loss: 1.1889 - auc_95: 0.7585 - val_loss: 1.2247 - val_auc_95: 0.7591\n",
      "Epoch 6/50\n",
      "196038/196038 [==============================] - 38s 192us/sample - loss: 1.1856 - auc_95: 0.7602 - val_loss: 1.2012 - val_auc_95: 0.7569\n",
      "Epoch 7/50\n",
      "196038/196038 [==============================] - 38s 192us/sample - loss: 1.1785 - auc_95: 0.7641 - val_loss: 1.1918 - val_auc_95: 0.7582\n",
      "Epoch 8/50\n",
      "196038/196038 [==============================] - 38s 192us/sample - loss: 1.1767 - auc_95: 0.7650 - val_loss: 1.1930 - val_auc_95: 0.7582\n",
      "Epoch 9/50\n",
      "196038/196038 [==============================] - 38s 191us/sample - loss: 1.1723 - auc_95: 0.7670 - val_loss: 1.1949 - val_auc_95: 0.7581\n",
      "Epoch 10/50\n",
      "196038/196038 [==============================] - 37s 191us/sample - loss: 1.1709 - auc_95: 0.7678 - val_loss: 1.1931 - val_auc_95: 0.7585\n",
      "Epoch 11/50\n",
      "196038/196038 [==============================] - 38s 192us/sample - loss: 1.1701 - auc_95: 0.7679 - val_loss: 1.1925 - val_auc_95: 0.7582\n"
     ]
    },
    {
     "name": "stderr",
     "output_type": "stream",
     "text": [
      "\u001b[32m[I 2021-01-06 08:32:06,493]\u001b[0m Trial 45 finished with value: 0.7582236426953717 and parameters: {'step': 5, 'no._units': 530, 'number': 5, 'best_weight': {0: 1.0, 1: 14.0}}. Best is trial 29 with value: 0.759045592094821.\u001b[0m\n"
     ]
    },
    {
     "name": "stdout",
     "output_type": "stream",
     "text": [
      "WARNING:tensorflow:sample_weight modes were coerced from\n",
      "  ...\n",
      "    to  \n",
      "  ['...']\n",
      "WARNING:tensorflow:sample_weight modes were coerced from\n",
      "  ...\n",
      "    to  \n",
      "  ['...']\n",
      "Train on 196038 samples, validate on 34595 samples\n",
      "Epoch 1/50\n",
      "196038/196038 [==============================] - 36s 182us/sample - loss: 1.1808 - auc_96: 0.7260 - val_loss: 1.1846 - val_auc_96: 0.7471\n",
      "Epoch 2/50\n",
      "196038/196038 [==============================] - 34s 172us/sample - loss: 1.1313 - auc_96: 0.7434 - val_loss: 1.1512 - val_auc_96: 0.7511\n",
      "Epoch 3/50\n",
      "196038/196038 [==============================] - 34s 172us/sample - loss: 1.1243 - auc_96: 0.7467 - val_loss: 1.1157 - val_auc_96: 0.7530\n",
      "Epoch 4/50\n",
      "196038/196038 [==============================] - 33s 171us/sample - loss: 1.1120 - auc_96: 0.7539 - val_loss: 1.1114 - val_auc_96: 0.7551\n",
      "Epoch 5/50\n",
      "196038/196038 [==============================] - 33s 170us/sample - loss: 1.1042 - auc_96: 0.7579 - val_loss: 1.1104 - val_auc_96: 0.7565\n",
      "Epoch 6/50\n",
      "196038/196038 [==============================] - 33s 170us/sample - loss: 1.1000 - auc_96: 0.7606 - val_loss: 1.1060 - val_auc_96: 0.7572\n",
      "Epoch 7/50\n",
      "196038/196038 [==============================] - 34s 171us/sample - loss: 1.0948 - auc_96: 0.7633 - val_loss: 1.1232 - val_auc_96: 0.7589\n",
      "Epoch 8/50\n",
      "196038/196038 [==============================] - 34s 172us/sample - loss: 1.0909 - auc_96: 0.7655 - val_loss: 1.1083 - val_auc_96: 0.7571\n",
      "Epoch 9/50\n",
      "196038/196038 [==============================] - 34s 171us/sample - loss: 1.0874 - auc_96: 0.7672 - val_loss: 1.1073 - val_auc_96: 0.7587\n",
      "Epoch 10/50\n",
      "196038/196038 [==============================] - 34s 171us/sample - loss: 1.0880 - auc_96: 0.7669 - val_loss: 1.1051 - val_auc_96: 0.7582\n",
      "Epoch 11/50\n",
      "196038/196038 [==============================] - 34s 171us/sample - loss: 1.0840 - auc_96: 0.7689 - val_loss: 1.1057 - val_auc_96: 0.7574\n",
      "Epoch 12/50\n",
      "196038/196038 [==============================] - 33s 170us/sample - loss: 1.0821 - auc_96: 0.7697 - val_loss: 1.1058 - val_auc_96: 0.7574\n",
      "Epoch 13/50\n",
      "196038/196038 [==============================] - 34s 171us/sample - loss: 1.0813 - auc_96: 0.7703 - val_loss: 1.1064 - val_auc_96: 0.7576\n",
      "Epoch 14/50\n",
      "196038/196038 [==============================] - 34s 172us/sample - loss: 1.0829 - auc_96: 0.7696 - val_loss: 1.1080 - val_auc_96: 0.7567\n"
     ]
    },
    {
     "name": "stderr",
     "output_type": "stream",
     "text": [
      "\u001b[32m[I 2021-01-06 08:40:02,116]\u001b[0m Trial 46 finished with value: 0.7582507696825234 and parameters: {'step': 6, 'no._units': 576, 'number': 4, 'best_weight': {0: 1.0, 1: 12.0}}. Best is trial 29 with value: 0.759045592094821.\u001b[0m\n"
     ]
    },
    {
     "name": "stdout",
     "output_type": "stream",
     "text": [
      "WARNING:tensorflow:sample_weight modes were coerced from\n",
      "  ...\n",
      "    to  \n",
      "  ['...']\n",
      "WARNING:tensorflow:sample_weight modes were coerced from\n",
      "  ...\n",
      "    to  \n",
      "  ['...']\n",
      "Train on 196038 samples, validate on 34595 samples\n",
      "Epoch 1/50\n",
      "196038/196038 [==============================] - 35s 181us/sample - loss: 1.3042 - auc_97: 0.7288 - val_loss: 1.2567 - val_auc_97: 0.7467\n",
      "Epoch 2/50\n",
      "196038/196038 [==============================] - 32s 163us/sample - loss: 1.2564 - auc_97: 0.7446 - val_loss: 1.2678 - val_auc_97: 0.7476\n",
      "Epoch 3/50\n",
      "196038/196038 [==============================] - 32s 161us/sample - loss: 1.2434 - auc_97: 0.7513 - val_loss: 1.2424 - val_auc_97: 0.7546\n",
      "Epoch 4/50\n",
      "196038/196038 [==============================] - 32s 163us/sample - loss: 1.2331 - auc_97: 0.7563 - val_loss: 1.2367 - val_auc_97: 0.7555\n",
      "Epoch 5/50\n",
      "196038/196038 [==============================] - 32s 163us/sample - loss: 1.2269 - auc_97: 0.7595 - val_loss: 1.2370 - val_auc_97: 0.7574\n",
      "Epoch 6/50\n",
      "196038/196038 [==============================] - 31s 161us/sample - loss: 1.2223 - auc_97: 0.7614 - val_loss: 1.2361 - val_auc_97: 0.7583\n",
      "Epoch 7/50\n",
      "196038/196038 [==============================] - 32s 163us/sample - loss: 1.2195 - auc_97: 0.7629 - val_loss: 1.2365 - val_auc_97: 0.7581\n",
      "Epoch 8/50\n",
      "196038/196038 [==============================] - 32s 161us/sample - loss: 1.2178 - auc_97: 0.7639 - val_loss: 1.2319 - val_auc_97: 0.7579\n",
      "Epoch 9/50\n",
      "196038/196038 [==============================] - 32s 163us/sample - loss: 1.2161 - auc_97: 0.7645 - val_loss: 1.2381 - val_auc_97: 0.7588\n",
      "Epoch 10/50\n",
      "196038/196038 [==============================] - 32s 163us/sample - loss: 1.2152 - auc_97: 0.7654 - val_loss: 1.2399 - val_auc_97: 0.7587\n",
      "Epoch 11/50\n",
      "196038/196038 [==============================] - 32s 163us/sample - loss: 1.2143 - auc_97: 0.7653 - val_loss: 1.2335 - val_auc_97: 0.7575\n",
      "Epoch 12/50\n",
      "196038/196038 [==============================] - 32s 161us/sample - loss: 1.2123 - auc_97: 0.7664 - val_loss: 1.2410 - val_auc_97: 0.7586\n"
     ]
    },
    {
     "name": "stderr",
     "output_type": "stream",
     "text": [
      "\u001b[32m[I 2021-01-06 08:46:30,977]\u001b[0m Trial 47 finished with value: 0.7579011191990326 and parameters: {'step': 4, 'no._units': 435, 'number': 4, 'best_weight': {0: 1.0, 1: 15.0}}. Best is trial 29 with value: 0.759045592094821.\u001b[0m\n"
     ]
    },
    {
     "name": "stdout",
     "output_type": "stream",
     "text": [
      "WARNING:tensorflow:sample_weight modes were coerced from\n",
      "  ...\n",
      "    to  \n",
      "  ['...']\n",
      "WARNING:tensorflow:sample_weight modes were coerced from\n",
      "  ...\n",
      "    to  \n",
      "  ['...']\n",
      "Train on 196038 samples, validate on 34595 samples\n",
      "Epoch 1/50\n",
      "196038/196038 [==============================] - 31s 156us/sample - loss: 1.1650 - auc_98: 0.7292 - val_loss: 1.1509 - val_auc_98: 0.7472\n",
      "Epoch 2/50\n",
      "196038/196038 [==============================] - 29s 148us/sample - loss: 1.1272 - auc_98: 0.7454 - val_loss: 1.1507 - val_auc_98: 0.7507\n",
      "Epoch 3/50\n",
      "196038/196038 [==============================] - 29s 148us/sample - loss: 1.1152 - auc_98: 0.7519 - val_loss: 1.1179 - val_auc_98: 0.7553\n",
      "Epoch 4/50\n",
      "196038/196038 [==============================] - 29s 148us/sample - loss: 1.1103 - auc_98: 0.7548 - val_loss: 1.1248 - val_auc_98: 0.7565\n",
      "Epoch 5/50\n",
      "196038/196038 [==============================] - 29s 148us/sample - loss: 1.1028 - auc_98: 0.7587 - val_loss: 1.1101 - val_auc_98: 0.7571\n",
      "Epoch 6/50\n",
      "196038/196038 [==============================] - 29s 148us/sample - loss: 1.0986 - auc_98: 0.7612 - val_loss: 1.1076 - val_auc_98: 0.7576\n",
      "Epoch 7/50\n",
      "196038/196038 [==============================] - 29s 148us/sample - loss: 1.0940 - auc_98: 0.7635 - val_loss: 1.1063 - val_auc_98: 0.7576\n",
      "Epoch 8/50\n",
      "196038/196038 [==============================] - 29s 148us/sample - loss: 1.0903 - auc_98: 0.7653 - val_loss: 1.1091 - val_auc_98: 0.7571\n",
      "Epoch 9/50\n",
      "196038/196038 [==============================] - 29s 147us/sample - loss: 1.0875 - auc_98: 0.7667 - val_loss: 1.1102 - val_auc_98: 0.7583\n",
      "Epoch 10/50\n",
      "196038/196038 [==============================] - 29s 147us/sample - loss: 1.0874 - auc_98: 0.7674 - val_loss: 1.1074 - val_auc_98: 0.7579\n",
      "Epoch 11/50\n",
      "196038/196038 [==============================] - 29s 147us/sample - loss: 1.0862 - auc_98: 0.7677 - val_loss: 1.1079 - val_auc_98: 0.7572\n"
     ]
    },
    {
     "name": "stderr",
     "output_type": "stream",
     "text": [
      "\u001b[32m[I 2021-01-06 08:51:53,944]\u001b[0m Trial 48 finished with value: 0.7576101922536133 and parameters: {'step': 5, 'no._units': 502, 'number': 3, 'best_weight': {0: 1.0, 1: 12.0}}. Best is trial 29 with value: 0.759045592094821.\u001b[0m\n"
     ]
    },
    {
     "name": "stdout",
     "output_type": "stream",
     "text": [
      "WARNING:tensorflow:sample_weight modes were coerced from\n",
      "  ...\n",
      "    to  \n",
      "  ['...']\n",
      "WARNING:tensorflow:sample_weight modes were coerced from\n",
      "  ...\n",
      "    to  \n",
      "  ['...']\n",
      "Train on 196038 samples, validate on 34595 samples\n",
      "Epoch 1/50\n",
      "196038/196038 [==============================] - 39s 197us/sample - loss: 1.1732 - auc_99: 0.7271 - val_loss: 1.1894 - val_auc_99: 0.7206\n",
      "Epoch 2/50\n",
      "196038/196038 [==============================] - 37s 186us/sample - loss: 1.1317 - auc_99: 0.7428 - val_loss: 1.1962 - val_auc_99: 0.7496\n",
      "Epoch 3/50\n",
      "196038/196038 [==============================] - 36s 184us/sample - loss: 1.1217 - auc_99: 0.7484 - val_loss: 1.1177 - val_auc_99: 0.7535\n",
      "Epoch 4/50\n",
      "196038/196038 [==============================] - 36s 184us/sample - loss: 1.1109 - auc_99: 0.7544 - val_loss: 1.1162 - val_auc_99: 0.7567\n",
      "Epoch 5/50\n",
      "196038/196038 [==============================] - 36s 185us/sample - loss: 1.1051 - auc_99: 0.7577 - val_loss: 1.1113 - val_auc_99: 0.7547\n",
      "Epoch 6/50\n",
      "196038/196038 [==============================] - 37s 186us/sample - loss: 1.0981 - auc_99: 0.7617 - val_loss: 1.1061 - val_auc_99: 0.7574\n",
      "Epoch 7/50\n",
      "196038/196038 [==============================] - 36s 186us/sample - loss: 1.0953 - auc_99: 0.7629 - val_loss: 1.1068 - val_auc_99: 0.7575\n",
      "Epoch 8/50\n",
      "196038/196038 [==============================] - 36s 184us/sample - loss: 1.0898 - auc_99: 0.7660 - val_loss: 1.1056 - val_auc_99: 0.7574\n",
      "Epoch 9/50\n",
      "196038/196038 [==============================] - 36s 186us/sample - loss: 1.0901 - auc_99: 0.7658 - val_loss: 1.1059 - val_auc_99: 0.7575\n",
      "Epoch 10/50\n",
      "196038/196038 [==============================] - 36s 185us/sample - loss: 1.0874 - auc_99: 0.7673 - val_loss: 1.1064 - val_auc_99: 0.7579\n",
      "Epoch 11/50\n",
      "196038/196038 [==============================] - 36s 186us/sample - loss: 1.0858 - auc_99: 0.7680 - val_loss: 1.1062 - val_auc_99: 0.7572\n",
      "Epoch 12/50\n",
      "196038/196038 [==============================] - 36s 186us/sample - loss: 1.0840 - auc_99: 0.7690 - val_loss: 1.1066 - val_auc_99: 0.7573\n"
     ]
    },
    {
     "name": "stderr",
     "output_type": "stream",
     "text": [
      "\u001b[32m[I 2021-01-06 08:59:16,420]\u001b[0m Trial 49 finished with value: 0.757412079121051 and parameters: {'step': 6, 'no._units': 472, 'number': 5, 'best_weight': {0: 1.0, 1: 12.0}}. Best is trial 29 with value: 0.759045592094821.\u001b[0m\n"
     ]
    }
   ],
   "source": [
    "# Extracting the best model parameters and best study score\n",
    "best_study_score,best_study_params = study_best_score_params(X_train_1, y_train_1, X_val, y_val, objective_wrappper_keras_eq_leaky, cl_weight,\n",
    "                                                            n_trials=50)"
   ]
  },
  {
   "cell_type": "code",
   "execution_count": 37,
   "metadata": {},
   "outputs": [
    {
     "name": "stdout",
     "output_type": "stream",
     "text": [
      "The best roc_auc_score for the study is:  0.759045592094821\n"
     ]
    }
   ],
   "source": [
    "print('The best roc_auc_score for the study is: ',best_study_score)"
   ]
  },
  {
   "cell_type": "code",
   "execution_count": 38,
   "metadata": {},
   "outputs": [
    {
     "name": "stdout",
     "output_type": "stream",
     "text": [
      "The best study parameters for the classifier are:  {'step': 5, 'no._units': 520, 'number': 4, 'best_weight': {0: 1.0, 1: 12.0}}\n"
     ]
    }
   ],
   "source": [
    "print('The best study parameters for the classifier are: ',best_study_params)"
   ]
  },
  {
   "cell_type": "code",
   "execution_count": 74,
   "metadata": {},
   "outputs": [],
   "source": [
    "# loading the best Neural Network\n",
    "Best_Model_relu_leaky = keras.models.load_model('Best_model_Elu_eq_Learn_leaky.h5')"
   ]
  },
  {
   "cell_type": "code",
   "execution_count": 40,
   "metadata": {},
   "outputs": [
    {
     "name": "stdout",
     "output_type": "stream",
     "text": [
      "Model: \"sequential_79\"\n",
      "_________________________________________________________________\n",
      "Layer (type)                 Output Shape              Param #   \n",
      "=================================================================\n",
      "batch_normalization_380 (Bat (None, 103)               412       \n",
      "_________________________________________________________________\n",
      "dense_380 (Dense)            (None, 520)               54080     \n",
      "_________________________________________________________________\n",
      "leaky_re_lu_108 (LeakyReLU)  (None, 520)               0         \n",
      "_________________________________________________________________\n",
      "batch_normalization_381 (Bat (None, 520)               2080      \n",
      "_________________________________________________________________\n",
      "dense_381 (Dense)            (None, 520)               270920    \n",
      "_________________________________________________________________\n",
      "leaky_re_lu_109 (LeakyReLU)  (None, 520)               0         \n",
      "_________________________________________________________________\n",
      "batch_normalization_382 (Bat (None, 520)               2080      \n",
      "_________________________________________________________________\n",
      "dense_382 (Dense)            (None, 520)               270920    \n",
      "_________________________________________________________________\n",
      "leaky_re_lu_110 (LeakyReLU)  (None, 520)               0         \n",
      "_________________________________________________________________\n",
      "batch_normalization_383 (Bat (None, 520)               2080      \n",
      "_________________________________________________________________\n",
      "dense_383 (Dense)            (None, 520)               270920    \n",
      "_________________________________________________________________\n",
      "leaky_re_lu_111 (LeakyReLU)  (None, 520)               0         \n",
      "_________________________________________________________________\n",
      "batch_normalization_384 (Bat (None, 520)               2080      \n",
      "_________________________________________________________________\n",
      "dense_384 (Dense)            (None, 1)                 521       \n",
      "=================================================================\n",
      "Total params: 876,093\n",
      "Trainable params: 871,727\n",
      "Non-trainable params: 4,366\n",
      "_________________________________________________________________\n"
     ]
    }
   ],
   "source": [
    "# Printing its summary\n",
    "Best_Model_relu_leaky.summary()"
   ]
  },
  {
   "cell_type": "code",
   "execution_count": 41,
   "metadata": {},
   "outputs": [
    {
     "name": "stdout",
     "output_type": "stream",
     "text": [
      "The roc_auc_score for the Reduced feature training set using the best Dense Neural Network using Leaky RELU activation classifier is  0.7683335420626638\n"
     ]
    }
   ],
   "source": [
    "# Calculating the Reduced feature training set roc_auc score using the pretrained Neural Network having \n",
    "# best study parameters & weights\n",
    "cal_roc_auc(X_train, y_train, Best_Model_relu_leaky, 'Reduced feature', 'training', 'Dense Neural Network using Leaky RELU activation')"
   ]
  },
  {
   "cell_type": "code",
   "execution_count": 42,
   "metadata": {},
   "outputs": [
    {
     "name": "stdout",
     "output_type": "stream",
     "text": [
      "The roc_auc_score for the Reduced feature test set using the best Dense Neural Network using Leaky RELU activation classifier is  0.7622685941311187\n"
     ]
    }
   ],
   "source": [
    "# Calculating the Reduced feature test set roc_auc score using the pretrained Neural Network having \n",
    "# best study parameters & weights\n",
    "cal_roc_auc(X_test, y_test, Best_Model_relu_leaky, 'Reduced feature', 'test', 'Dense Neural Network using Leaky RELU activation')"
   ]
  },
  {
   "cell_type": "markdown",
   "metadata": {},
   "source": [
    "### Calculating R_R ratio for Best Dense Neural Network with Leaky RELU activation & Nadam Optimizer"
   ]
  },
  {
   "cell_type": "code",
   "execution_count": 76,
   "metadata": {},
   "outputs": [],
   "source": [
    "# Defining the exponential decay learning rate with step 5.\n",
    "def exponential_decay_fn(epoch):\n",
    "            return 0.01 * 0.1**(epoch /5 )"
   ]
  },
  {
   "cell_type": "code",
   "execution_count": 77,
   "metadata": {},
   "outputs": [
    {
     "name": "stdout",
     "output_type": "stream",
     "text": [
      "WARNING:tensorflow:sample_weight modes were coerced from\n",
      "  ...\n",
      "    to  \n",
      "  ['...']\n",
      "WARNING:tensorflow:sample_weight modes were coerced from\n",
      "  ...\n",
      "    to  \n",
      "  ['...']\n",
      "Train on 156830 samples, validate on 27676 samples\n",
      "Epoch 1/50\n",
      "156830/156830 [==============================] - 30s 192us/sample - loss: 1.1271 - auc_165: 0.7462 - val_loss: 1.1869 - val_auc_165: 0.7583\n",
      "Epoch 2/50\n",
      "156830/156830 [==============================] - 27s 173us/sample - loss: 1.1137 - auc_165: 0.7539 - val_loss: 1.1248 - val_auc_165: 0.7613\n",
      "Epoch 3/50\n",
      "156830/156830 [==============================] - 28s 181us/sample - loss: 1.1026 - auc_165: 0.7595 - val_loss: 1.0976 - val_auc_165: 0.7633\n",
      "Epoch 4/50\n",
      "156830/156830 [==============================] - 29s 185us/sample - loss: 1.0945 - auc_165: 0.7640 - val_loss: 1.0911 - val_auc_165: 0.7657\n",
      "Epoch 5/50\n",
      "156830/156830 [==============================] - 27s 172us/sample - loss: 1.0878 - auc_165: 0.7673 - val_loss: 1.1010 - val_auc_165: 0.7675\n",
      "Epoch 6/50\n",
      "156830/156830 [==============================] - 28s 177us/sample - loss: 1.0839 - auc_165: 0.7696 - val_loss: 1.0899 - val_auc_165: 0.7683\n",
      "Epoch 7/50\n",
      "156830/156830 [==============================] - 28s 176us/sample - loss: 1.0804 - auc_165: 0.7713 - val_loss: 1.0895 - val_auc_165: 0.7665\n",
      "Epoch 8/50\n",
      "156830/156830 [==============================] - 27s 173us/sample - loss: 1.0779 - auc_165: 0.7724 - val_loss: 1.0883 - val_auc_165: 0.7664\n",
      "Epoch 9/50\n",
      "156830/156830 [==============================] - 27s 174us/sample - loss: 1.0756 - auc_165: 0.7738 - val_loss: 1.0881 - val_auc_165: 0.7665\n",
      "Epoch 10/50\n",
      "156830/156830 [==============================] - 28s 177us/sample - loss: 1.0782 - auc_165: 0.7725 - val_loss: 1.0861 - val_auc_165: 0.7680\n",
      "Epoch 11/50\n",
      "156830/156830 [==============================] - 27s 170us/sample - loss: 1.0748 - auc_165: 0.7742 - val_loss: 1.0883 - val_auc_165: 0.7665\n",
      "Epoch 12/50\n",
      "156830/156830 [==============================] - 28s 178us/sample - loss: 1.0746 - auc_165: 0.7744 - val_loss: 1.0876 - val_auc_165: 0.7669\n",
      "Epoch 13/50\n",
      "156830/156830 [==============================] - 28s 177us/sample - loss: 1.0743 - auc_165: 0.7744 - val_loss: 1.0885 - val_auc_165: 0.7663\n",
      "Epoch 14/50\n",
      "156830/156830 [==============================] - 27s 174us/sample - loss: 1.0734 - auc_165: 0.7750 - val_loss: 1.0886 - val_auc_165: 0.7662\n",
      "WARNING:tensorflow:sample_weight modes were coerced from\n",
      "  ...\n",
      "    to  \n",
      "  ['...']\n",
      "WARNING:tensorflow:sample_weight modes were coerced from\n",
      "  ...\n",
      "    to  \n",
      "  ['...']\n",
      "Train on 156830 samples, validate on 27676 samples\n",
      "Epoch 1/50\n",
      "156830/156830 [==============================] - 31s 199us/sample - loss: 1.1297 - auc_166: 0.7458 - val_loss: 1.1090 - val_auc_166: 0.7646\n",
      "Epoch 2/50\n",
      "156830/156830 [==============================] - 30s 189us/sample - loss: 1.1169 - auc_166: 0.7522 - val_loss: 1.1116 - val_auc_166: 0.7652\n",
      "Epoch 3/50\n",
      "156830/156830 [==============================] - 29s 183us/sample - loss: 1.1059 - auc_166: 0.7577 - val_loss: 1.0974 - val_auc_166: 0.7647\n",
      "Epoch 4/50\n",
      "156830/156830 [==============================] - 29s 184us/sample - loss: 1.0967 - auc_166: 0.7625 - val_loss: 1.0905 - val_auc_166: 0.7701\n",
      "Epoch 5/50\n",
      "156830/156830 [==============================] - 28s 182us/sample - loss: 1.0911 - auc_166: 0.7653 - val_loss: 1.0835 - val_auc_166: 0.7719\n",
      "Epoch 6/50\n",
      "156830/156830 [==============================] - 28s 180us/sample - loss: 1.0845 - auc_166: 0.7691 - val_loss: 1.0917 - val_auc_166: 0.7715\n",
      "Epoch 7/50\n",
      "156830/156830 [==============================] - 28s 181us/sample - loss: 1.0827 - auc_166: 0.7702 - val_loss: 1.0791 - val_auc_166: 0.7725\n",
      "Epoch 8/50\n",
      "156830/156830 [==============================] - 28s 180us/sample - loss: 1.0812 - auc_166: 0.7709 - val_loss: 1.0803 - val_auc_166: 0.7722\n",
      "Epoch 9/50\n",
      "156830/156830 [==============================] - 28s 179us/sample - loss: 1.0807 - auc_166: 0.7712 - val_loss: 1.0787 - val_auc_166: 0.7724\n",
      "Epoch 10/50\n",
      "156830/156830 [==============================] - 29s 184us/sample - loss: 1.0769 - auc_166: 0.7732 - val_loss: 1.0758 - val_auc_166: 0.7736\n",
      "Epoch 11/50\n",
      "156830/156830 [==============================] - 28s 177us/sample - loss: 1.0762 - auc_166: 0.7734 - val_loss: 1.0758 - val_auc_166: 0.7736\n",
      "Epoch 12/50\n",
      "156830/156830 [==============================] - 29s 188us/sample - loss: 1.0759 - auc_166: 0.7738 - val_loss: 1.0783 - val_auc_166: 0.7723\n",
      "Epoch 13/50\n",
      "156830/156830 [==============================] - 28s 177us/sample - loss: 1.0763 - auc_166: 0.7735 - val_loss: 1.0777 - val_auc_166: 0.7728\n",
      "Epoch 14/50\n",
      "156830/156830 [==============================] - 29s 186us/sample - loss: 1.0775 - auc_166: 0.7728 - val_loss: 1.0786 - val_auc_166: 0.7723\n",
      "Epoch 15/50\n",
      "156830/156830 [==============================] - 28s 180us/sample - loss: 1.0784 - auc_166: 0.7725 - val_loss: 1.0785 - val_auc_166: 0.7723\n",
      "WARNING:tensorflow:sample_weight modes were coerced from\n",
      "  ...\n",
      "    to  \n",
      "  ['...']\n",
      "WARNING:tensorflow:sample_weight modes were coerced from\n",
      "  ...\n",
      "    to  \n",
      "  ['...']\n",
      "Train on 156830 samples, validate on 27676 samples\n",
      "Epoch 1/50\n",
      "156830/156830 [==============================] - 30s 191us/sample - loss: 1.1311 - auc_167: 0.7432 - val_loss: 1.1222 - val_auc_167: 0.7610\n",
      "Epoch 2/50\n",
      "156830/156830 [==============================] - 28s 180us/sample - loss: 1.1230 - auc_167: 0.7485 - val_loss: 1.0953 - val_auc_167: 0.7661\n",
      "Epoch 3/50\n",
      "156830/156830 [==============================] - 28s 176us/sample - loss: 1.1134 - auc_167: 0.7532 - val_loss: 1.0856 - val_auc_167: 0.7687\n",
      "Epoch 4/50\n",
      "156830/156830 [==============================] - 27s 174us/sample - loss: 1.1018 - auc_167: 0.7595 - val_loss: 1.0797 - val_auc_167: 0.7736\n",
      "Epoch 5/50\n",
      "156830/156830 [==============================] - 28s 180us/sample - loss: 1.0950 - auc_167: 0.7629 - val_loss: 1.0783 - val_auc_167: 0.7732\n",
      "Epoch 6/50\n",
      "156830/156830 [==============================] - 28s 179us/sample - loss: 1.0923 - auc_167: 0.7647 - val_loss: 1.0783 - val_auc_167: 0.7744\n",
      "Epoch 7/50\n",
      "156830/156830 [==============================] - 29s 183us/sample - loss: 1.0899 - auc_167: 0.7657 - val_loss: 1.0758 - val_auc_167: 0.7754\n",
      "Epoch 8/50\n",
      "156830/156830 [==============================] - 29s 184us/sample - loss: 1.0888 - auc_167: 0.7665 - val_loss: 1.0739 - val_auc_167: 0.7759\n",
      "Epoch 9/50\n",
      "156830/156830 [==============================] - 28s 178us/sample - loss: 1.0855 - auc_167: 0.7680 - val_loss: 1.0747 - val_auc_167: 0.7756\n",
      "Epoch 10/50\n",
      "156830/156830 [==============================] - 28s 181us/sample - loss: 1.0847 - auc_167: 0.7687 - val_loss: 1.0714 - val_auc_167: 0.7768\n",
      "Epoch 11/50\n",
      "156830/156830 [==============================] - 28s 182us/sample - loss: 1.0845 - auc_167: 0.7686 - val_loss: 1.0759 - val_auc_167: 0.7752\n",
      "Epoch 12/50\n",
      "156830/156830 [==============================] - 28s 180us/sample - loss: 1.0831 - auc_167: 0.7689 - val_loss: 1.0735 - val_auc_167: 0.7764\n",
      "Epoch 13/50\n",
      "156830/156830 [==============================] - 28s 179us/sample - loss: 1.0819 - auc_167: 0.7700 - val_loss: 1.0739 - val_auc_167: 0.7757\n",
      "Epoch 14/50\n",
      "156830/156830 [==============================] - 28s 180us/sample - loss: 1.0823 - auc_167: 0.7697 - val_loss: 1.0744 - val_auc_167: 0.7758\n",
      "WARNING:tensorflow:sample_weight modes were coerced from\n",
      "  ...\n",
      "    to  \n",
      "  ['...']\n",
      "WARNING:tensorflow:sample_weight modes were coerced from\n",
      "  ...\n",
      "    to  \n",
      "  ['...']\n",
      "Train on 156830 samples, validate on 27677 samples\n",
      "Epoch 1/50\n",
      "156830/156830 [==============================] - 31s 198us/sample - loss: 1.1315 - auc_168: 0.7437 - val_loss: 1.1210 - val_auc_168: 0.7609\n",
      "Epoch 2/50\n",
      "156830/156830 [==============================] - 30s 190us/sample - loss: 1.1186 - auc_168: 0.7502 - val_loss: 1.1312 - val_auc_168: 0.7659\n",
      "Epoch 3/50\n",
      "156830/156830 [==============================] - 29s 182us/sample - loss: 1.1082 - auc_168: 0.7565 - val_loss: 1.0940 - val_auc_168: 0.7664\n",
      "Epoch 4/50\n",
      "156830/156830 [==============================] - 27s 173us/sample - loss: 1.0976 - auc_168: 0.7620 - val_loss: 1.0896 - val_auc_168: 0.7681\n",
      "Epoch 5/50\n",
      "156830/156830 [==============================] - 29s 183us/sample - loss: 1.0913 - auc_168: 0.7658 - val_loss: 1.0841 - val_auc_168: 0.7698\n",
      "Epoch 6/50\n",
      "156830/156830 [==============================] - 27s 174us/sample - loss: 1.0876 - auc_168: 0.7674 - val_loss: 1.0880 - val_auc_168: 0.7688\n",
      "Epoch 7/50\n",
      "156830/156830 [==============================] - 27s 174us/sample - loss: 1.0843 - auc_168: 0.7691 - val_loss: 1.0823 - val_auc_168: 0.7710\n",
      "Epoch 8/50\n",
      "156830/156830 [==============================] - 27s 174us/sample - loss: 1.0803 - auc_168: 0.7714 - val_loss: 1.0829 - val_auc_168: 0.7704\n",
      "Epoch 9/50\n",
      "156830/156830 [==============================] - 27s 172us/sample - loss: 1.0817 - auc_168: 0.7706 - val_loss: 1.0820 - val_auc_168: 0.7707\n",
      "Epoch 10/50\n",
      "156830/156830 [==============================] - 27s 172us/sample - loss: 1.0789 - auc_168: 0.7721 - val_loss: 1.0827 - val_auc_168: 0.7702\n",
      "Epoch 11/50\n",
      "156830/156830 [==============================] - 27s 173us/sample - loss: 1.0769 - auc_168: 0.7729 - val_loss: 1.0837 - val_auc_168: 0.7696\n",
      "Epoch 12/50\n",
      "156830/156830 [==============================] - 27s 174us/sample - loss: 1.0790 - auc_168: 0.7720 - val_loss: 1.0841 - val_auc_168: 0.7700\n",
      "Epoch 13/50\n",
      "156830/156830 [==============================] - 27s 174us/sample - loss: 1.0774 - auc_168: 0.7726 - val_loss: 1.0841 - val_auc_168: 0.7696\n",
      "WARNING:tensorflow:sample_weight modes were coerced from\n",
      "  ...\n",
      "    to  \n",
      "  ['...']\n",
      "WARNING:tensorflow:sample_weight modes were coerced from\n",
      "  ...\n",
      "    to  \n",
      "  ['...']\n",
      "Train on 156830 samples, validate on 27677 samples\n",
      "Epoch 1/50\n",
      "156830/156830 [==============================] - 30s 188us/sample - loss: 1.1306 - auc_169: 0.7443 - val_loss: 1.1219 - val_auc_169: 0.7641\n",
      "Epoch 2/50\n",
      "156830/156830 [==============================] - 29s 186us/sample - loss: 1.1206 - auc_169: 0.7497 - val_loss: 1.1134 - val_auc_169: 0.7705\n",
      "Epoch 3/50\n",
      "156830/156830 [==============================] - 30s 192us/sample - loss: 1.1102 - auc_169: 0.7554 - val_loss: 1.0954 - val_auc_169: 0.7747\n",
      "Epoch 4/50\n",
      "156830/156830 [==============================] - 29s 188us/sample - loss: 1.1014 - auc_169: 0.7597 - val_loss: 1.0853 - val_auc_169: 0.7737\n",
      "Epoch 5/50\n",
      "156830/156830 [==============================] - 29s 187us/sample - loss: 1.0918 - auc_169: 0.7653 - val_loss: 1.0762 - val_auc_169: 0.7746\n",
      "Epoch 6/50\n",
      "156830/156830 [==============================] - 29s 187us/sample - loss: 1.0889 - auc_169: 0.7669 - val_loss: 1.0779 - val_auc_169: 0.7758\n",
      "Epoch 7/50\n",
      "156830/156830 [==============================] - 30s 188us/sample - loss: 1.0873 - auc_169: 0.7677 - val_loss: 1.0743 - val_auc_169: 0.7746\n",
      "Epoch 8/50\n",
      "156830/156830 [==============================] - 29s 188us/sample - loss: 1.0826 - auc_169: 0.7703 - val_loss: 1.0722 - val_auc_169: 0.7750\n",
      "Epoch 9/50\n",
      "156830/156830 [==============================] - 29s 188us/sample - loss: 1.0848 - auc_169: 0.7690 - val_loss: 1.0753 - val_auc_169: 0.7742\n",
      "Epoch 10/50\n",
      "156830/156830 [==============================] - 30s 190us/sample - loss: 1.0829 - auc_169: 0.7701 - val_loss: 1.0753 - val_auc_169: 0.7743\n",
      "Epoch 11/50\n",
      "156830/156830 [==============================] - 30s 190us/sample - loss: 1.0788 - auc_169: 0.7720 - val_loss: 1.0728 - val_auc_169: 0.7758\n",
      "Epoch 12/50\n",
      "156830/156830 [==============================] - 30s 188us/sample - loss: 1.0806 - auc_169: 0.7714 - val_loss: 1.0732 - val_auc_169: 0.7748\n"
     ]
    }
   ],
   "source": [
    "# Computing  5 fold  CV predictions on the training set for the Neural Network with Leaky RELU activation \n",
    "# & Nadam Optimizer\n",
    "scores_neural_leaky = []\n",
    "for train_index, test_index in cv_strat.split(X_train, y_train):\n",
    "    # Creating  Folds\n",
    "    X_tr, X_tst = X_train.loc[train_index], X_train.loc[test_index]\n",
    "    y_tr, y_tst = y_train.loc[train_index], y_train.loc[test_index]\n",
    "    \n",
    "    # Splitting the Training set further into training & validation set.\n",
    "    X_tr_r, X_val, y_tr_r, y_val = train_test_split(X_tr, y_tr, test_size=0.15, random_state=42, stratify=y_tr)\n",
    "    \n",
    "    # Loading fresh best keras dense model with ELU activation & Nadam Optimizer for training on 4 folds\n",
    "    neural = keras.models.load_model('Best_model_Elu_eq_Learn_leaky.h5')\n",
    "    \n",
    "    # comiling & Training the Neural Net\n",
    "    neural.compile(loss=\"binary_crossentropy\", optimizer=keras.optimizers.Nadam(beta_1=0.9, beta_2=0.999),\n",
    "                   metrics=[tf.keras.metrics.AUC(curve=\"ROC\")])\n",
    "    \n",
    "    # defining Checkpoints\n",
    "    checkpoint_cb = keras.callbacks.ModelCheckpoint('best_model.h5',save_best_only=True) # 1st Callback\n",
    "    early_stopping_cb = keras.callbacks.EarlyStopping(patience=4,restore_best_weights=True)# 2nd Callback\n",
    "    lr_scheduler_cb = keras.callbacks.LearningRateScheduler(exponential_decay_fn)# 3rd Callback\n",
    "    \n",
    "    # Fitting The model\n",
    "    neural.fit(X_tr_r, y_tr_r, epochs=50, validation_data=(X_val,y_val),batch_size=32,\n",
    "    class_weight={0: 1.0, 1: 12},callbacks=[checkpoint_cb,early_stopping_cb,lr_scheduler_cb])\n",
    "    \n",
    "    # Loading the best Neural model after training & before making predictions\n",
    "    neural_best = keras.models.load_model('best_model.h5')    \n",
    "    \n",
    "    # Saving the predictions for every fold in the scores list\n",
    "    y_pred = neural_best.predict_proba(X_tst)\n",
    "    scores_neural_leaky.append(roc_auc_score(y_tst,y_pred))\n",
    "      "
   ]
  },
  {
   "cell_type": "code",
   "execution_count": 78,
   "metadata": {},
   "outputs": [
    {
     "name": "stdout",
     "output_type": "stream",
     "text": [
      "The reward associated with the best Dense Neural Classifier (with Leaky RELU activation & Nadam Optimizer) using roc_auc metric is:  0.7630302771099005\n"
     ]
    }
   ],
   "source": [
    "print('The reward associated with the best Dense Neural Classifier (with Leaky RELU activation & Nadam Optimizer) using roc_auc metric is: ',np.mean(scores_neural_leaky))"
   ]
  },
  {
   "cell_type": "code",
   "execution_count": 79,
   "metadata": {},
   "outputs": [
    {
     "name": "stdout",
     "output_type": "stream",
     "text": [
      "The risk associated with the best Dense Neural Classifier (with Leaky RELU activation & Nadam Optimizer) using roc_auc metric is:  0.004759616587197034\n"
     ]
    }
   ],
   "source": [
    "print('The risk associated with the best Dense Neural Classifier (with Leaky RELU activation & Nadam Optimizer) using roc_auc metric is: ',np.std(scores_neural_leaky))"
   ]
  },
  {
   "cell_type": "code",
   "execution_count": 80,
   "metadata": {},
   "outputs": [],
   "source": [
    "R_R_Ratio_Leaky_RELU = np.mean(scores_neural_leaky)/np.std(scores_neural_leaky)"
   ]
  },
  {
   "cell_type": "code",
   "execution_count": 81,
   "metadata": {},
   "outputs": [
    {
     "name": "stdout",
     "output_type": "stream",
     "text": [
      "The reward risk ratio for the best Dense Neural Classifier(with Leaky RELU activation & Nadam Optimizer) using roc_auc metric is:  160.313391453082\n"
     ]
    }
   ],
   "source": [
    "print('The reward risk ratio for the best Dense Neural Classifier(with Leaky RELU activation & Nadam Optimizer) using roc_auc metric is: ',R_R_Ratio_Leaky_RELU)"
   ]
  },
  {
   "cell_type": "code",
   "execution_count": 82,
   "metadata": {},
   "outputs": [
    {
     "name": "stdout",
     "output_type": "stream",
     "text": [
      "5 fold CV roc_auc scores for the best Dense Neural Classifier(with Leaky RELU activation & Nadam Optimizer) are:  [0.7570462298319943, 0.7592255989426604, 0.770837388945055, 0.7642094466618157, 0.7638327211679767]\n"
     ]
    }
   ],
   "source": [
    "print('5 fold CV roc_auc scores for the best Dense Neural Classifier(with Leaky RELU activation & Nadam Optimizer) are: ',scores_neural_leaky)"
   ]
  },
  {
   "cell_type": "markdown",
   "metadata": {},
   "source": [
    "#### R_R Ratio for the best Dense Neural Classifier (with Leaky RELU activation & Nadam Optimizer) classifier using roc_auc metric is:  160.313391453082"
   ]
  },
  {
   "cell_type": "markdown",
   "metadata": {},
   "source": [
    "## Observations:\n",
    "### 1)  The Dense Neural Classifier (with Leaky RELU activation & Nadam Optimizer) classifier has  beautifully fitted the Training set, with no signs of overfitting. Though its test set roc_auc score is almost equal to the previous dense neural net (with ELU activation & Nadam Optimizer), its R_R ratio is much higher than that of the latter, which is a significant improvement.\n",
    "\n",
    "### 2) Unfortunately , one big disadvantage of the above classifier is enormous no. of parameters that need to be tuned, which adds to the computational complexity. Infact, of all the Neural nets tested thus far, this model uses most no. layers as well as neurons/layer.\n",
    "### 3) May be using a different activation function such as RELU , may remedy this problem."
   ]
  },
  {
   "cell_type": "markdown",
   "metadata": {},
   "source": [
    "## Model_15: Keras Dense Model with Equal Neurons/layer, RELU Activation, Nadam optimizer & Tuned learning rate."
   ]
  },
  {
   "cell_type": "code",
   "execution_count": 83,
   "metadata": {},
   "outputs": [],
   "source": [
    "# Defining best roc_auc score\n",
    "best_roc_auc = 0"
   ]
  },
  {
   "cell_type": "code",
   "execution_count": 47,
   "metadata": {},
   "outputs": [],
   "source": [
    "# defining the objective function\n",
    "def objective_wrappper_keras_eq_RELU(X_tr, y_tr, X_val, y_val, cl_w):\n",
    "    '''\n",
    "    Optimizes Keras ,neural net with equal no. of neurons in each layer , best parameters \n",
    "    on the given training set: X_tr, y_tr using validation set: X_val,y_val & class weights: cl_w\n",
    "    \n",
    "    '''\n",
    "\n",
    "    def objective(trial):\n",
    "        s = trial.suggest_int('step',2,6)\n",
    "        def exponential_decay_fn(epoch):\n",
    "            return 0.01 * 0.1**(epoch /s )\n",
    "              \n",
    "        # building model & searching for the best no. of neural units per layer.\n",
    "        no_units = trial.suggest_int('no._units',100,600)# No. of Neurons in each layer\n",
    "        model = keras.models.Sequential()\n",
    "        model.add(keras.layers.InputLayer(input_shape=X_tr.shape[1:]))\n",
    "        model.add(keras.layers.BatchNormalization())# For normalization\n",
    "        for i in range(trial.suggest_int('number',2,5)):\n",
    "            model.add(keras.layers.Dense(units=no_units,activation='relu',kernel_initializer='he_normal'))\n",
    "            model.add(keras.layers.BatchNormalization())# For normalization\n",
    "        model.add(keras.layers.Dense(units=1,activation='sigmoid'))\n",
    "    \n",
    "        # Searching for the best learning rate.\n",
    "        #lr = trial.suggest_float(\"lr\", 1e-5, 1e-1, log=True) \n",
    "    \n",
    "        # Compiling the model\n",
    "        model.compile(loss=\"binary_crossentropy\", optimizer=keras.optimizers.Nadam(beta_1=0.9, beta_2=0.999),\n",
    "                      metrics=[tf.keras.metrics.AUC(curve=\"ROC\")])\n",
    "    \n",
    "        # Defining the Callbacks\n",
    "        checkpoint_cb = keras.callbacks.ModelCheckpoint('best_model.h5',save_best_only=True) # 1st Callback\n",
    "        early_stopping_cb = keras.callbacks.EarlyStopping(patience=4,restore_best_weights=True) # 2nd Callback, Stop if validation score doen't improve for\n",
    "        # 4 epochs        \n",
    "        lr_scheduler_cb = keras.callbacks.LearningRateScheduler(exponential_decay_fn)# 3rd Callback\n",
    "        #tensorboard_cb = keras.callbacks.TensorBoard(get_run_logdir()) \n",
    "        \n",
    "        #Fitting the model\n",
    "        model.fit(X_tr, y_tr, epochs=50, validation_data=(X_val,y_val), batch_size=32,\n",
    "             class_weight=trial.suggest_categorical('best_weight',cl_w),\n",
    "             callbacks=[checkpoint_cb, early_stopping_cb, lr_scheduler_cb])#,tensorboard_cb])\n",
    "    \n",
    "        # Loading the best model \n",
    "        model_best = keras.models.load_model('best_model.h5')\n",
    "    \n",
    "        # Computing the roc_auc_score for the validation set\n",
    "        roc_auc_1 = roc_auc_score(y_val,model_best.predict_proba(X_val))\n",
    "        global best_roc_auc\n",
    "        # Updating best_roc_auc score\n",
    "        if roc_auc_1 > best_roc_auc:\n",
    "            best_roc_auc = roc_auc_1\n",
    "            model_best.save('Best_model_Elu_eq_Learn_relu.h5')\n",
    "        \n",
    "        return roc_auc_1\n",
    "    \n",
    "    return objective"
   ]
  },
  {
   "cell_type": "code",
   "execution_count": 48,
   "metadata": {},
   "outputs": [
    {
     "name": "stderr",
     "output_type": "stream",
     "text": [
      "\u001b[32m[I 2021-01-06 12:39:20,417]\u001b[0m A new study created in memory with name: no-name-e3f71846-5411-489f-876f-226ec55cc28e\u001b[0m\n"
     ]
    },
    {
     "name": "stdout",
     "output_type": "stream",
     "text": [
      "WARNING:tensorflow:sample_weight modes were coerced from\n",
      "  ...\n",
      "    to  \n",
      "  ['...']\n",
      "WARNING:tensorflow:sample_weight modes were coerced from\n",
      "  ...\n",
      "    to  \n",
      "  ['...']\n",
      "Train on 196038 samples, validate on 34595 samples\n",
      "Epoch 1/50\n",
      "196038/196038 [==============================] - 40s 203us/sample - loss: 1.4402 - auc_100: 0.7221 - val_loss: 1.5305 - val_auc_100: 0.7370\n",
      "Epoch 2/50\n",
      "196038/196038 [==============================] - 38s 193us/sample - loss: 1.3703 - auc_100: 0.7445 - val_loss: 1.4534 - val_auc_100: 0.7463\n",
      "Epoch 3/50\n",
      "196038/196038 [==============================] - 39s 196us/sample - loss: 1.3553 - auc_100: 0.7515 - val_loss: 792.1159 - val_auc_100: 0.7394\n",
      "Epoch 4/50\n",
      "196038/196038 [==============================] - 38s 192us/sample - loss: 1.3378 - auc_100: 0.7594 - val_loss: 1.6402 - val_auc_100: 0.7516\n",
      "Epoch 5/50\n",
      "196038/196038 [==============================] - 38s 192us/sample - loss: 1.3274 - auc_100: 0.7634 - val_loss: 72.2401 - val_auc_100: 0.7542\n",
      "Epoch 6/50\n",
      "196038/196038 [==============================] - 38s 192us/sample - loss: 1.3185 - auc_100: 0.7675 - val_loss: 12.9367 - val_auc_100: 0.7529\n"
     ]
    },
    {
     "name": "stderr",
     "output_type": "stream",
     "text": [
      "\u001b[32m[I 2021-01-06 12:43:13,753]\u001b[0m Trial 0 finished with value: 0.7462634672065629 and parameters: {'step': 4, 'no._units': 492, 'number': 5, 'best_weight': {0: 1.0, 1: 18.0}}. Best is trial 0 with value: 0.7462634672065629.\u001b[0m\n"
     ]
    },
    {
     "name": "stdout",
     "output_type": "stream",
     "text": [
      "WARNING:tensorflow:sample_weight modes were coerced from\n",
      "  ...\n",
      "    to  \n",
      "  ['...']\n",
      "WARNING:tensorflow:sample_weight modes were coerced from\n",
      "  ...\n",
      "    to  \n",
      "  ['...']\n",
      "Train on 196038 samples, validate on 34595 samples\n",
      "Epoch 1/50\n",
      "196038/196038 [==============================] - 31s 159us/sample - loss: 1.2179 - auc_101: 0.7276 - val_loss: 1.3312 - val_auc_101: 0.7367\n",
      "Epoch 2/50\n",
      "196038/196038 [==============================] - 30s 151us/sample - loss: 1.1693 - auc_101: 0.7477 - val_loss: 1.2179 - val_auc_101: 0.7550\n",
      "Epoch 3/50\n",
      "196038/196038 [==============================] - 29s 149us/sample - loss: 1.1512 - auc_101: 0.7570 - val_loss: 1.1625 - val_auc_101: 0.7574\n",
      "Epoch 4/50\n",
      "196038/196038 [==============================] - 29s 148us/sample - loss: 1.1353 - auc_101: 0.7650 - val_loss: 1.1559 - val_auc_101: 0.7578\n",
      "Epoch 5/50\n",
      "196038/196038 [==============================] - 29s 148us/sample - loss: 1.1275 - auc_101: 0.7688 - val_loss: 1.1662 - val_auc_101: 0.7560\n",
      "Epoch 6/50\n",
      "196038/196038 [==============================] - 29s 148us/sample - loss: 1.1239 - auc_101: 0.7705 - val_loss: 1.1644 - val_auc_101: 0.7539\n",
      "Epoch 7/50\n",
      "196038/196038 [==============================] - 29s 150us/sample - loss: 1.1216 - auc_101: 0.7717 - val_loss: 1.1675 - val_auc_101: 0.7554\n",
      "Epoch 8/50\n",
      "196038/196038 [==============================] - 30s 151us/sample - loss: 1.1187 - auc_101: 0.7732 - val_loss: 1.1833 - val_auc_101: 0.7539\n"
     ]
    },
    {
     "name": "stderr",
     "output_type": "stream",
     "text": [
      "\u001b[32m[I 2021-01-06 12:47:14,569]\u001b[0m Trial 1 finished with value: 0.7577180978806545 and parameters: {'step': 3, 'no._units': 433, 'number': 3, 'best_weight': {0: 1.0, 1: 13.0}}. Best is trial 1 with value: 0.7577180978806545.\u001b[0m\n"
     ]
    },
    {
     "name": "stdout",
     "output_type": "stream",
     "text": [
      "WARNING:tensorflow:sample_weight modes were coerced from\n",
      "  ...\n",
      "    to  \n",
      "  ['...']\n",
      "WARNING:tensorflow:sample_weight modes were coerced from\n",
      "  ...\n",
      "    to  \n",
      "  ['...']\n",
      "Train on 196038 samples, validate on 34595 samples\n",
      "Epoch 1/50\n",
      "196038/196038 [==============================] - 33s 169us/sample - loss: 1.3792 - auc_102: 0.7267 - val_loss: 1.3637 - val_auc_102: 0.7422\n",
      "Epoch 2/50\n",
      "196038/196038 [==============================] - 31s 159us/sample - loss: 1.3294 - auc_102: 0.7468 - val_loss: 1.5709 - val_auc_102: 0.7507\n",
      "Epoch 3/50\n",
      "196038/196038 [==============================] - 31s 158us/sample - loss: 1.3146 - auc_102: 0.7537 - val_loss: 4.1630 - val_auc_102: 0.7542\n",
      "Epoch 4/50\n",
      "196038/196038 [==============================] - 31s 157us/sample - loss: 1.3011 - auc_102: 0.7602 - val_loss: 1.4690 - val_auc_102: 0.7551\n",
      "Epoch 5/50\n",
      "196038/196038 [==============================] - 31s 159us/sample - loss: 1.2920 - auc_102: 0.7638 - val_loss: 1.5405 - val_auc_102: 0.7563\n"
     ]
    },
    {
     "name": "stderr",
     "output_type": "stream",
     "text": [
      "\u001b[32m[I 2021-01-06 12:49:55,328]\u001b[0m Trial 2 finished with value: 0.7422512794154431 and parameters: {'step': 4, 'no._units': 321, 'number': 4, 'best_weight': {0: 1.0, 1: 17.0}}. Best is trial 1 with value: 0.7577180978806545.\u001b[0m\n"
     ]
    },
    {
     "name": "stdout",
     "output_type": "stream",
     "text": [
      "WARNING:tensorflow:sample_weight modes were coerced from\n",
      "  ...\n",
      "    to  \n",
      "  ['...']\n",
      "WARNING:tensorflow:sample_weight modes were coerced from\n",
      "  ...\n",
      "    to  \n",
      "  ['...']\n",
      "Train on 196038 samples, validate on 34595 samples\n",
      "Epoch 1/50\n",
      "196038/196038 [==============================] - 25s 129us/sample - loss: 1.3769 - auc_103: 0.7284 - val_loss: 1.4891 - val_auc_103: 0.7454\n",
      "Epoch 2/50\n",
      "196038/196038 [==============================] - 24s 124us/sample - loss: 1.3229 - auc_103: 0.7496 - val_loss: 1.3731 - val_auc_103: 0.7527\n",
      "Epoch 3/50\n",
      "196038/196038 [==============================] - 25s 125us/sample - loss: 1.3113 - auc_103: 0.7542 - val_loss: 1.3161 - val_auc_103: 0.7566\n",
      "Epoch 4/50\n",
      "196038/196038 [==============================] - 25s 127us/sample - loss: 1.2972 - auc_103: 0.7608 - val_loss: 1.5833 - val_auc_103: 0.7547\n",
      "Epoch 5/50\n",
      "196038/196038 [==============================] - 24s 125us/sample - loss: 1.2864 - auc_103: 0.7656 - val_loss: 1.7142 - val_auc_103: 0.7558\n",
      "Epoch 6/50\n",
      "196038/196038 [==============================] - 24s 123us/sample - loss: 1.2804 - auc_103: 0.7685 - val_loss: 1.5387 - val_auc_103: 0.7540\n",
      "Epoch 7/50\n",
      "196038/196038 [==============================] - 24s 125us/sample - loss: 1.2760 - auc_103: 0.7705 - val_loss: 2.7498 - val_auc_103: 0.7550\n"
     ]
    },
    {
     "name": "stderr",
     "output_type": "stream",
     "text": [
      "\u001b[32m[I 2021-01-06 12:52:50,177]\u001b[0m Trial 3 finished with value: 0.7566210169966591 and parameters: {'step': 4, 'no._units': 356, 'number': 2, 'best_weight': {0: 1.0, 1: 17.0}}. Best is trial 1 with value: 0.7577180978806545.\u001b[0m\n"
     ]
    },
    {
     "name": "stdout",
     "output_type": "stream",
     "text": [
      "WARNING:tensorflow:sample_weight modes were coerced from\n",
      "  ...\n",
      "    to  \n",
      "  ['...']\n",
      "WARNING:tensorflow:sample_weight modes were coerced from\n",
      "  ...\n",
      "    to  \n",
      "  ['...']\n",
      "Train on 196038 samples, validate on 34595 samples\n",
      "Epoch 1/50\n",
      "196038/196038 [==============================] - 31s 156us/sample - loss: 1.1397 - auc_104: 0.7265 - val_loss: 1.1286 - val_auc_104: 0.7412\n",
      "Epoch 2/50\n",
      "196038/196038 [==============================] - 29s 148us/sample - loss: 1.0981 - auc_104: 0.7460 - val_loss: 1.1908 - val_auc_104: 0.7454\n",
      "Epoch 3/50\n",
      "196038/196038 [==============================] - 29s 149us/sample - loss: 1.0850 - auc_104: 0.7536 - val_loss: 1.1703 - val_auc_104: 0.7538\n",
      "Epoch 4/50\n",
      "196038/196038 [==============================] - 29s 149us/sample - loss: 1.0736 - auc_104: 0.7599 - val_loss: 2.1780 - val_auc_104: 0.7562\n",
      "Epoch 5/50\n",
      "196038/196038 [==============================] - 29s 149us/sample - loss: 1.0638 - auc_104: 0.7654 - val_loss: 1.3219 - val_auc_104: 0.7576\n"
     ]
    },
    {
     "name": "stderr",
     "output_type": "stream",
     "text": [
      "\u001b[32m[I 2021-01-06 12:55:20,502]\u001b[0m Trial 4 finished with value: 0.7411317212416164 and parameters: {'step': 5, 'no._units': 529, 'number': 3, 'best_weight': {0: 1.0, 1: 11.38697}}. Best is trial 1 with value: 0.7577180978806545.\u001b[0m\n"
     ]
    },
    {
     "name": "stdout",
     "output_type": "stream",
     "text": [
      "WARNING:tensorflow:sample_weight modes were coerced from\n",
      "  ...\n",
      "    to  \n",
      "  ['...']\n",
      "WARNING:tensorflow:sample_weight modes were coerced from\n",
      "  ...\n",
      "    to  \n",
      "  ['...']\n",
      "Train on 196038 samples, validate on 34595 samples\n",
      "Epoch 1/50\n",
      "196038/196038 [==============================] - 29s 150us/sample - loss: 1.3619 - auc_105: 0.7309 - val_loss: 1.3867 - val_auc_105: 0.7418\n",
      "Epoch 2/50\n",
      "196038/196038 [==============================] - 27s 140us/sample - loss: 1.3194 - auc_105: 0.7507 - val_loss: 1.6769 - val_auc_105: 0.7518\n",
      "Epoch 3/50\n",
      "196038/196038 [==============================] - 28s 140us/sample - loss: 1.3051 - auc_105: 0.7573 - val_loss: 1.3567 - val_auc_105: 0.7544\n",
      "Epoch 4/50\n",
      "196038/196038 [==============================] - 28s 141us/sample - loss: 1.2948 - auc_105: 0.7617 - val_loss: 1.3589 - val_auc_105: 0.7548\n",
      "Epoch 5/50\n",
      "196038/196038 [==============================] - 28s 145us/sample - loss: 1.2915 - auc_105: 0.7636 - val_loss: 1.3818 - val_auc_105: 0.7551\n",
      "Epoch 6/50\n",
      "196038/196038 [==============================] - 29s 149us/sample - loss: 1.2914 - auc_105: 0.7636 - val_loss: 1.4008 - val_auc_105: 0.7546\n",
      "Epoch 7/50\n",
      "196038/196038 [==============================] - 32s 162us/sample - loss: 1.2906 - auc_105: 0.7639 - val_loss: 1.3658 - val_auc_105: 0.7549\n"
     ]
    },
    {
     "name": "stderr",
     "output_type": "stream",
     "text": [
      "\u001b[32m[I 2021-01-06 12:58:46,008]\u001b[0m Trial 5 finished with value: 0.7543765585633431 and parameters: {'step': 2, 'no._units': 112, 'number': 3, 'best_weight': {0: 1.0, 1: 17.0}}. Best is trial 1 with value: 0.7577180978806545.\u001b[0m\n"
     ]
    },
    {
     "name": "stdout",
     "output_type": "stream",
     "text": [
      "WARNING:tensorflow:sample_weight modes were coerced from\n",
      "  ...\n",
      "    to  \n",
      "  ['...']\n",
      "WARNING:tensorflow:sample_weight modes were coerced from\n",
      "  ...\n",
      "    to  \n",
      "  ['...']\n",
      "Train on 196038 samples, validate on 34595 samples\n",
      "Epoch 1/50\n",
      "196038/196038 [==============================] - 35s 178us/sample - loss: 1.4015 - auc_106: 0.7299 - val_loss: 1.3897 - val_auc_106: 0.7450\n",
      "Epoch 2/50\n",
      "196038/196038 [==============================] - 32s 165us/sample - loss: 1.3631 - auc_106: 0.7470 - val_loss: 19.0912 - val_auc_106: 0.7481\n",
      "Epoch 3/50\n",
      "196038/196038 [==============================] - 33s 167us/sample - loss: 1.3507 - auc_106: 0.7522 - val_loss: 200.0269 - val_auc_106: 0.7519\n",
      "Epoch 4/50\n",
      "196038/196038 [==============================] - 32s 163us/sample - loss: 1.3421 - auc_106: 0.7560 - val_loss: 45074.9167 - val_auc_106: 0.7528\n",
      "Epoch 5/50\n",
      "196038/196038 [==============================] - 32s 164us/sample - loss: 1.3313 - auc_106: 0.7606 - val_loss: 17361.7572 - val_auc_106: 0.7547\n"
     ]
    },
    {
     "name": "stderr",
     "output_type": "stream",
     "text": [
      "\u001b[32m[I 2021-01-06 13:01:33,954]\u001b[0m Trial 6 finished with value: 0.7449982260222596 and parameters: {'step': 4, 'no._units': 143, 'number': 4, 'best_weight': {0: 1.0, 1: 18.0}}. Best is trial 1 with value: 0.7577180978806545.\u001b[0m\n"
     ]
    },
    {
     "name": "stdout",
     "output_type": "stream",
     "text": [
      "WARNING:tensorflow:sample_weight modes were coerced from\n",
      "  ...\n",
      "    to  \n",
      "  ['...']\n",
      "WARNING:tensorflow:sample_weight modes were coerced from\n",
      "  ...\n",
      "    to  \n",
      "  ['...']\n",
      "Train on 196038 samples, validate on 34595 samples\n",
      "Epoch 1/50\n",
      "196038/196038 [==============================] - 32s 162us/sample - loss: 1.2534 - auc_107: 0.7285 - val_loss: 1.2498 - val_auc_107: 0.7447\n",
      "Epoch 2/50\n",
      "196038/196038 [==============================] - 30s 152us/sample - loss: 1.2047 - auc_107: 0.7505 - val_loss: 1.2081 - val_auc_107: 0.7528\n",
      "Epoch 3/50\n",
      "196038/196038 [==============================] - 30s 151us/sample - loss: 1.1886 - auc_107: 0.7588 - val_loss: 1.2113 - val_auc_107: 0.7564\n",
      "Epoch 4/50\n",
      "196038/196038 [==============================] - 30s 151us/sample - loss: 1.1792 - auc_107: 0.7636 - val_loss: 1.2834 - val_auc_107: 0.7592\n",
      "Epoch 5/50\n",
      "196038/196038 [==============================] - 30s 151us/sample - loss: 1.1772 - auc_107: 0.7644 - val_loss: 1.2109 - val_auc_107: 0.7580\n",
      "Epoch 6/50\n",
      "196038/196038 [==============================] - 29s 150us/sample - loss: 1.1752 - auc_107: 0.7653 - val_loss: 1.2041 - val_auc_107: 0.7572\n",
      "Epoch 7/50\n",
      "196038/196038 [==============================] - 29s 150us/sample - loss: 1.1722 - auc_107: 0.7670 - val_loss: 1.2028 - val_auc_107: 0.7574\n",
      "Epoch 8/50\n",
      "196038/196038 [==============================] - 30s 151us/sample - loss: 1.1743 - auc_107: 0.7660 - val_loss: 1.2058 - val_auc_107: 0.7569\n",
      "Epoch 9/50\n",
      "196038/196038 [==============================] - 31s 157us/sample - loss: 1.1738 - auc_107: 0.7663 - val_loss: 1.2142 - val_auc_107: 0.7580\n",
      "Epoch 10/50\n",
      "196038/196038 [==============================] - 33s 170us/sample - loss: 1.1744 - auc_107: 0.7660 - val_loss: 1.2232 - val_auc_107: 0.7586\n",
      "Epoch 11/50\n",
      "196038/196038 [==============================] - 33s 169us/sample - loss: 1.1731 - auc_107: 0.7665 - val_loss: 1.2055 - val_auc_107: 0.7572\n"
     ]
    },
    {
     "name": "stderr",
     "output_type": "stream",
     "text": [
      "\u001b[32m[I 2021-01-06 13:07:16,494]\u001b[0m Trial 7 finished with value: 0.7573830325857318 and parameters: {'step': 2, 'no._units': 261, 'number': 4, 'best_weight': {0: 1.0, 1: 14.0}}. Best is trial 1 with value: 0.7577180978806545.\u001b[0m\n"
     ]
    },
    {
     "name": "stdout",
     "output_type": "stream",
     "text": [
      "WARNING:tensorflow:sample_weight modes were coerced from\n",
      "  ...\n",
      "    to  \n",
      "  ['...']\n",
      "WARNING:tensorflow:sample_weight modes were coerced from\n",
      "  ...\n",
      "    to  \n",
      "  ['...']\n",
      "Train on 196038 samples, validate on 34595 samples\n",
      "Epoch 1/50\n",
      "196038/196038 [==============================] - 40s 206us/sample - loss: 1.3836 - auc_108: 0.7261 - val_loss: 1.5962 - val_auc_108: 0.7442\n",
      "Epoch 2/50\n",
      "196038/196038 [==============================] - 37s 190us/sample - loss: 1.3316 - auc_108: 0.7454 - val_loss: 2.1941 - val_auc_108: 0.7424\n",
      "Epoch 3/50\n",
      "196038/196038 [==============================] - 42s 213us/sample - loss: 1.3184 - auc_108: 0.7520 - val_loss: 13.3260 - val_auc_108: 0.7504\n",
      "Epoch 4/50\n",
      "196038/196038 [==============================] - 41s 209us/sample - loss: 1.3060 - auc_108: 0.7574 - val_loss: 4981.9042 - val_auc_108: 0.7535\n",
      "Epoch 5/50\n",
      "196038/196038 [==============================] - 37s 191us/sample - loss: 1.2967 - auc_108: 0.7610 - val_loss: 346207.1951 - val_auc_108: 0.7520\n"
     ]
    },
    {
     "name": "stderr",
     "output_type": "stream",
     "text": [
      "\u001b[32m[I 2021-01-06 13:10:38,617]\u001b[0m Trial 8 finished with value: 0.7444172333949682 and parameters: {'step': 6, 'no._units': 326, 'number': 5, 'best_weight': {0: 1.0, 1: 17.0}}. Best is trial 1 with value: 0.7577180978806545.\u001b[0m\n"
     ]
    },
    {
     "name": "stdout",
     "output_type": "stream",
     "text": [
      "WARNING:tensorflow:sample_weight modes were coerced from\n",
      "  ...\n",
      "    to  \n",
      "  ['...']\n",
      "WARNING:tensorflow:sample_weight modes were coerced from\n",
      "  ...\n",
      "    to  \n",
      "  ['...']\n",
      "Train on 196038 samples, validate on 34595 samples\n",
      "Epoch 1/50\n",
      "196038/196038 [==============================] - 39s 198us/sample - loss: 1.2619 - auc_109: 0.7271 - val_loss: 1.2365 - val_auc_109: 0.7450\n",
      "Epoch 2/50\n",
      "196038/196038 [==============================] - 40s 202us/sample - loss: 1.2189 - auc_109: 0.7441 - val_loss: 1.3639 - val_auc_109: 0.7515\n",
      "Epoch 3/50\n",
      "196038/196038 [==============================] - 37s 189us/sample - loss: 1.2007 - auc_109: 0.7523 - val_loss: 45.7426 - val_auc_109: 0.7527\n",
      "Epoch 4/50\n",
      "196038/196038 [==============================] - 34s 172us/sample - loss: 1.1883 - auc_109: 0.7592 - val_loss: 1444.8683 - val_auc_109: 0.7498\n",
      "Epoch 5/50\n",
      "196038/196038 [==============================] - 39s 200us/sample - loss: 1.1809 - auc_109: 0.7629 - val_loss: 11683.8797 - val_auc_109: 0.7474\n"
     ]
    },
    {
     "name": "stderr",
     "output_type": "stream",
     "text": [
      "\u001b[32m[I 2021-01-06 13:13:52,142]\u001b[0m Trial 9 finished with value: 0.7450575856569379 and parameters: {'step': 5, 'no._units': 503, 'number': 4, 'best_weight': {0: 1.0, 1: 14.0}}. Best is trial 1 with value: 0.7577180978806545.\u001b[0m\n"
     ]
    },
    {
     "name": "stdout",
     "output_type": "stream",
     "text": [
      "WARNING:tensorflow:sample_weight modes were coerced from\n",
      "  ...\n",
      "    to  \n",
      "  ['...']\n",
      "WARNING:tensorflow:sample_weight modes were coerced from\n",
      "  ...\n",
      "    to  \n",
      "  ['...']\n",
      "Train on 196038 samples, validate on 34595 samples\n",
      "Epoch 1/50\n",
      "196038/196038 [==============================] - 30s 152us/sample - loss: 1.2190 - auc_110: 0.7270 - val_loss: 1.2910 - val_auc_110: 0.7464\n",
      "Epoch 2/50\n",
      "196038/196038 [==============================] - 25s 129us/sample - loss: 1.1668 - auc_110: 0.7486 - val_loss: 1.3740 - val_auc_110: 0.7491\n",
      "Epoch 3/50\n",
      "196038/196038 [==============================] - 25s 129us/sample - loss: 1.1496 - auc_110: 0.7574 - val_loss: 1.1917 - val_auc_110: 0.7568\n",
      "Epoch 4/50\n",
      "196038/196038 [==============================] - 26s 131us/sample - loss: 1.1356 - auc_110: 0.7648 - val_loss: 1.4585 - val_auc_110: 0.7569\n",
      "Epoch 5/50\n",
      "196038/196038 [==============================] - 28s 143us/sample - loss: 1.1268 - auc_110: 0.7693 - val_loss: 1.8188 - val_auc_110: 0.7561\n",
      "Epoch 6/50\n",
      "196038/196038 [==============================] - 26s 135us/sample - loss: 1.1212 - auc_110: 0.7719 - val_loss: 1.7031 - val_auc_110: 0.7543\n",
      "Epoch 7/50\n",
      "196038/196038 [==============================] - 27s 137us/sample - loss: 1.1188 - auc_110: 0.7732 - val_loss: 1.5532 - val_auc_110: 0.7536\n"
     ]
    },
    {
     "name": "stderr",
     "output_type": "stream",
     "text": [
      "\u001b[32m[I 2021-01-06 13:17:02,804]\u001b[0m Trial 10 finished with value: 0.7567987525211097 and parameters: {'step': 3, 'no._units': 592, 'number': 2, 'best_weight': {0: 1.0, 1: 13.0}}. Best is trial 1 with value: 0.7577180978806545.\u001b[0m\n"
     ]
    },
    {
     "name": "stdout",
     "output_type": "stream",
     "text": [
      "WARNING:tensorflow:sample_weight modes were coerced from\n",
      "  ...\n",
      "    to  \n",
      "  ['...']\n",
      "WARNING:tensorflow:sample_weight modes were coerced from\n",
      "  ...\n",
      "    to  \n",
      "  ['...']\n",
      "Train on 196038 samples, validate on 34595 samples\n",
      "Epoch 1/50\n",
      "196038/196038 [==============================] - 31s 157us/sample - loss: 1.2902 - auc_111: 0.7290 - val_loss: 1.3375 - val_auc_111: 0.7456\n",
      "Epoch 2/50\n",
      "196038/196038 [==============================] - 29s 147us/sample - loss: 1.2441 - auc_111: 0.7509 - val_loss: 1.3425 - val_auc_111: 0.7526\n",
      "Epoch 3/50\n",
      "196038/196038 [==============================] - 29s 147us/sample - loss: 1.2302 - auc_111: 0.7580 - val_loss: 1.2935 - val_auc_111: 0.7540\n",
      "Epoch 4/50\n",
      "196038/196038 [==============================] - 29s 147us/sample - loss: 1.2211 - auc_111: 0.7625 - val_loss: 1.3259 - val_auc_111: 0.7533\n",
      "Epoch 5/50\n",
      "196038/196038 [==============================] - 29s 146us/sample - loss: 1.2195 - auc_111: 0.7632 - val_loss: 1.2820 - val_auc_111: 0.7549\n",
      "Epoch 6/50\n",
      "196038/196038 [==============================] - 29s 147us/sample - loss: 1.2157 - auc_111: 0.7646 - val_loss: 1.3069 - val_auc_111: 0.7558\n",
      "Epoch 7/50\n",
      "196038/196038 [==============================] - 29s 147us/sample - loss: 1.2150 - auc_111: 0.7648 - val_loss: 1.2810 - val_auc_111: 0.7542\n",
      "Epoch 8/50\n",
      "196038/196038 [==============================] - 29s 150us/sample - loss: 1.2165 - auc_111: 0.7647 - val_loss: 1.2955 - val_auc_111: 0.7545\n",
      "Epoch 9/50\n",
      "196038/196038 [==============================] - 29s 149us/sample - loss: 1.2173 - auc_111: 0.7641 - val_loss: 1.2665 - val_auc_111: 0.7541\n",
      "Epoch 10/50\n",
      "196038/196038 [==============================] - 29s 149us/sample - loss: 1.2168 - auc_111: 0.7641 - val_loss: 1.3367 - val_auc_111: 0.7557\n",
      "Epoch 11/50\n",
      "196038/196038 [==============================] - 29s 148us/sample - loss: 1.2164 - auc_111: 0.7646 - val_loss: 1.3023 - val_auc_111: 0.7543\n",
      "Epoch 12/50\n",
      "196038/196038 [==============================] - 29s 148us/sample - loss: 1.2172 - auc_111: 0.7640 - val_loss: 1.2880 - val_auc_111: 0.7545\n",
      "Epoch 13/50\n",
      "196038/196038 [==============================] - 29s 148us/sample - loss: 1.2144 - auc_111: 0.7652 - val_loss: 1.2780 - val_auc_111: 0.7547\n"
     ]
    },
    {
     "name": "stderr",
     "output_type": "stream",
     "text": [
      "\u001b[32m[I 2021-01-06 13:23:25,285]\u001b[0m Trial 11 finished with value: 0.7540726113395917 and parameters: {'step': 2, 'no._units': 229, 'number': 3, 'best_weight': {0: 1.0, 1: 15.0}}. Best is trial 1 with value: 0.7577180978806545.\u001b[0m\n"
     ]
    },
    {
     "name": "stdout",
     "output_type": "stream",
     "text": [
      "WARNING:tensorflow:sample_weight modes were coerced from\n",
      "  ...\n",
      "    to  \n",
      "  ['...']\n",
      "WARNING:tensorflow:sample_weight modes were coerced from\n",
      "  ...\n",
      "    to  \n",
      "  ['...']\n",
      "Train on 196038 samples, validate on 34595 samples\n",
      "Epoch 1/50\n",
      "196038/196038 [==============================] - 37s 189us/sample - loss: 1.3533 - auc_112: 0.7233 - val_loss: 1.3100 - val_auc_112: 0.7440\n",
      "Epoch 2/50\n",
      "196038/196038 [==============================] - 34s 176us/sample - loss: 1.2905 - auc_112: 0.7477 - val_loss: 1.7178 - val_auc_112: 0.7521\n",
      "Epoch 3/50\n",
      "196038/196038 [==============================] - 35s 177us/sample - loss: 1.2731 - auc_112: 0.7557 - val_loss: 1.3171 - val_auc_112: 0.7537\n",
      "Epoch 4/50\n",
      "196038/196038 [==============================] - 35s 178us/sample - loss: 1.2583 - auc_112: 0.7627 - val_loss: 2.0337 - val_auc_112: 0.7565\n",
      "Epoch 5/50\n",
      "196038/196038 [==============================] - 34s 174us/sample - loss: 1.2491 - auc_112: 0.7668 - val_loss: 1.4376 - val_auc_112: 0.7533\n"
     ]
    },
    {
     "name": "stderr",
     "output_type": "stream",
     "text": [
      "\u001b[32m[I 2021-01-06 13:26:24,994]\u001b[0m Trial 12 finished with value: 0.7440174720088784 and parameters: {'step': 3, 'no._units': 415, 'number': 4, 'best_weight': {0: 1.0, 1: 16.0}}. Best is trial 1 with value: 0.7577180978806545.\u001b[0m\n"
     ]
    },
    {
     "name": "stdout",
     "output_type": "stream",
     "text": [
      "WARNING:tensorflow:sample_weight modes were coerced from\n",
      "  ...\n",
      "    to  \n",
      "  ['...']\n",
      "WARNING:tensorflow:sample_weight modes were coerced from\n",
      "  ...\n",
      "    to  \n",
      "  ['...']\n",
      "Train on 196038 samples, validate on 34595 samples\n",
      "Epoch 1/50\n",
      "196038/196038 [==============================] - 31s 160us/sample - loss: 1.1542 - auc_113: 0.7315 - val_loss: 1.1464 - val_auc_113: 0.7416\n",
      "Epoch 2/50\n",
      "196038/196038 [==============================] - 29s 150us/sample - loss: 1.1170 - auc_113: 0.7511 - val_loss: 1.1163 - val_auc_113: 0.7541\n",
      "Epoch 3/50\n",
      "196038/196038 [==============================] - 30s 151us/sample - loss: 1.1005 - auc_113: 0.7601 - val_loss: 1.1113 - val_auc_113: 0.7573\n",
      "Epoch 4/50\n",
      "196038/196038 [==============================] - 29s 150us/sample - loss: 1.0932 - auc_113: 0.7644 - val_loss: 1.1073 - val_auc_113: 0.7574\n",
      "Epoch 5/50\n",
      "196038/196038 [==============================] - 29s 150us/sample - loss: 1.0897 - auc_113: 0.7659 - val_loss: 1.1147 - val_auc_113: 0.7585\n",
      "Epoch 6/50\n",
      "196038/196038 [==============================] - 29s 150us/sample - loss: 1.0860 - auc_113: 0.7678 - val_loss: 1.1085 - val_auc_113: 0.7582\n",
      "Epoch 7/50\n",
      "196038/196038 [==============================] - 29s 150us/sample - loss: 1.0878 - auc_113: 0.7669 - val_loss: 1.1074 - val_auc_113: 0.7576\n",
      "Epoch 8/50\n",
      "196038/196038 [==============================] - 30s 151us/sample - loss: 1.0863 - auc_113: 0.7675 - val_loss: 1.1079 - val_auc_113: 0.7577\n"
     ]
    },
    {
     "name": "stderr",
     "output_type": "stream",
     "text": [
      "\u001b[32m[I 2021-01-06 13:30:28,448]\u001b[0m Trial 13 finished with value: 0.7574316686448708 and parameters: {'step': 2, 'no._units': 221, 'number': 3, 'best_weight': {0: 1.0, 1: 12.0}}. Best is trial 1 with value: 0.7577180978806545.\u001b[0m\n"
     ]
    },
    {
     "name": "stdout",
     "output_type": "stream",
     "text": [
      "WARNING:tensorflow:sample_weight modes were coerced from\n",
      "  ...\n",
      "    to  \n",
      "  ['...']\n",
      "WARNING:tensorflow:sample_weight modes were coerced from\n",
      "  ...\n",
      "    to  \n",
      "  ['...']\n",
      "Train on 196038 samples, validate on 34595 samples\n",
      "Epoch 1/50\n",
      "196038/196038 [==============================] - 27s 138us/sample - loss: 1.1546 - auc_114: 0.7312 - val_loss: 1.3177 - val_auc_114: 0.7475\n",
      "Epoch 2/50\n",
      "196038/196038 [==============================] - 26s 130us/sample - loss: 1.1174 - auc_114: 0.7504 - val_loss: 1.2897 - val_auc_114: 0.7532\n",
      "Epoch 3/50\n",
      "196038/196038 [==============================] - 25s 130us/sample - loss: 1.1048 - auc_114: 0.7577 - val_loss: 1.2332 - val_auc_114: 0.7565\n",
      "Epoch 4/50\n",
      "196038/196038 [==============================] - 25s 129us/sample - loss: 1.0955 - auc_114: 0.7626 - val_loss: 1.2369 - val_auc_114: 0.7591\n",
      "Epoch 5/50\n",
      "196038/196038 [==============================] - 26s 131us/sample - loss: 1.0904 - auc_114: 0.7655 - val_loss: 1.2977 - val_auc_114: 0.7569\n",
      "Epoch 6/50\n",
      "196038/196038 [==============================] - 26s 130us/sample - loss: 1.0866 - auc_114: 0.7674 - val_loss: 1.2385 - val_auc_114: 0.7576\n",
      "Epoch 7/50\n",
      "196038/196038 [==============================] - 25s 130us/sample - loss: 1.0868 - auc_114: 0.7673 - val_loss: 1.3590 - val_auc_114: 0.7580\n"
     ]
    },
    {
     "name": "stderr",
     "output_type": "stream",
     "text": [
      "\u001b[32m[I 2021-01-06 13:33:31,667]\u001b[0m Trial 14 finished with value: 0.7564962857699921 and parameters: {'step': 3, 'no._units': 208, 'number': 2, 'best_weight': {0: 1.0, 1: 12.0}}. Best is trial 1 with value: 0.7577180978806545.\u001b[0m\n"
     ]
    },
    {
     "name": "stdout",
     "output_type": "stream",
     "text": [
      "WARNING:tensorflow:sample_weight modes were coerced from\n",
      "  ...\n",
      "    to  \n",
      "  ['...']\n",
      "WARNING:tensorflow:sample_weight modes were coerced from\n",
      "  ...\n",
      "    to  \n",
      "  ['...']\n",
      "Train on 196038 samples, validate on 34595 samples\n",
      "Epoch 1/50\n",
      "196038/196038 [==============================] - 33s 166us/sample - loss: 1.2172 - auc_115: 0.7272 - val_loss: 1.2368 - val_auc_115: 0.7436\n",
      "Epoch 2/50\n",
      "196038/196038 [==============================] - 31s 156us/sample - loss: 1.1670 - auc_115: 0.7485 - val_loss: 21.0424 - val_auc_115: 0.7463\n",
      "Epoch 3/50\n",
      "196038/196038 [==============================] - 31s 156us/sample - loss: 1.1523 - auc_115: 0.7559 - val_loss: 21.8723 - val_auc_115: 0.7542\n",
      "Epoch 4/50\n",
      "196038/196038 [==============================] - 32s 161us/sample - loss: 1.1413 - auc_115: 0.7618 - val_loss: 13.3938 - val_auc_115: 0.7520\n",
      "Epoch 5/50\n",
      "196038/196038 [==============================] - 31s 158us/sample - loss: 1.1308 - auc_115: 0.7670 - val_loss: 44.2679 - val_auc_115: 0.7512\n"
     ]
    },
    {
     "name": "stderr",
     "output_type": "stream",
     "text": [
      "\u001b[32m[I 2021-01-06 13:36:11,942]\u001b[0m Trial 15 finished with value: 0.7436078257941023 and parameters: {'step': 3, 'no._units': 417, 'number': 3, 'best_weight': {0: 1.0, 1: 13.0}}. Best is trial 1 with value: 0.7577180978806545.\u001b[0m\n"
     ]
    },
    {
     "name": "stdout",
     "output_type": "stream",
     "text": [
      "WARNING:tensorflow:sample_weight modes were coerced from\n",
      "  ...\n",
      "    to  \n",
      "  ['...']\n",
      "WARNING:tensorflow:sample_weight modes were coerced from\n",
      "  ...\n",
      "    to  \n",
      "  ['...']\n",
      "Train on 196038 samples, validate on 34595 samples\n",
      "Epoch 1/50\n",
      "196038/196038 [==============================] - 31s 160us/sample - loss: 1.1563 - auc_116: 0.7297 - val_loss: 1.1385 - val_auc_116: 0.7468\n",
      "Epoch 2/50\n",
      "196038/196038 [==============================] - 29s 150us/sample - loss: 1.1190 - auc_116: 0.7500 - val_loss: 1.1388 - val_auc_116: 0.7527\n",
      "Epoch 3/50\n",
      "196038/196038 [==============================] - 29s 150us/sample - loss: 1.1036 - auc_116: 0.7588 - val_loss: 1.1194 - val_auc_116: 0.7560\n",
      "Epoch 4/50\n",
      "196038/196038 [==============================] - 30s 151us/sample - loss: 1.0968 - auc_116: 0.7621 - val_loss: 1.1188 - val_auc_116: 0.7563\n",
      "Epoch 5/50\n",
      "196038/196038 [==============================] - 29s 150us/sample - loss: 1.0922 - auc_116: 0.7646 - val_loss: 1.1243 - val_auc_116: 0.7565\n",
      "Epoch 6/50\n",
      "196038/196038 [==============================] - 29s 150us/sample - loss: 1.0926 - auc_116: 0.7642 - val_loss: 1.1131 - val_auc_116: 0.7561\n",
      "Epoch 7/50\n",
      "196038/196038 [==============================] - 29s 149us/sample - loss: 1.0913 - auc_116: 0.7653 - val_loss: 1.1191 - val_auc_116: 0.7565\n",
      "Epoch 8/50\n",
      "196038/196038 [==============================] - 29s 149us/sample - loss: 1.0918 - auc_116: 0.7648 - val_loss: 1.1197 - val_auc_116: 0.7564\n",
      "Epoch 9/50\n",
      "196038/196038 [==============================] - 30s 151us/sample - loss: 1.0919 - auc_116: 0.7648 - val_loss: 1.1205 - val_auc_116: 0.7567\n",
      "Epoch 10/50\n",
      "196038/196038 [==============================] - 29s 150us/sample - loss: 1.0923 - auc_116: 0.7649 - val_loss: 1.1176 - val_auc_116: 0.7565\n"
     ]
    },
    {
     "name": "stderr",
     "output_type": "stream",
     "text": [
      "\u001b[32m[I 2021-01-06 13:41:11,746]\u001b[0m Trial 16 finished with value: 0.756126347745166 and parameters: {'step': 2, 'no._units': 167, 'number': 3, 'best_weight': {0: 1.0, 1: 12.0}}. Best is trial 1 with value: 0.7577180978806545.\u001b[0m\n"
     ]
    },
    {
     "name": "stdout",
     "output_type": "stream",
     "text": [
      "WARNING:tensorflow:sample_weight modes were coerced from\n",
      "  ...\n",
      "    to  \n",
      "  ['...']\n",
      "WARNING:tensorflow:sample_weight modes were coerced from\n",
      "  ...\n",
      "    to  \n",
      "  ['...']\n",
      "Train on 196038 samples, validate on 34595 samples\n",
      "Epoch 1/50\n",
      "196038/196038 [==============================] - 28s 145us/sample - loss: 1.2158 - auc_117: 0.7258 - val_loss: 1.4070 - val_auc_117: 0.7418\n",
      "Epoch 2/50\n",
      "196038/196038 [==============================] - 27s 137us/sample - loss: 1.1723 - auc_117: 0.7453 - val_loss: 4.5837 - val_auc_117: 0.7494\n",
      "Epoch 3/50\n",
      "196038/196038 [==============================] - 27s 136us/sample - loss: 1.1564 - auc_117: 0.7539 - val_loss: 2.0422 - val_auc_117: 0.7518\n",
      "Epoch 4/50\n",
      "196038/196038 [==============================] - 25s 128us/sample - loss: 1.1485 - auc_117: 0.7577 - val_loss: 3.3228 - val_auc_117: 0.7538\n",
      "Epoch 5/50\n",
      "196038/196038 [==============================] - 24s 125us/sample - loss: 1.1424 - auc_117: 0.7609 - val_loss: 1.4922 - val_auc_117: 0.7555\n"
     ]
    },
    {
     "name": "stderr",
     "output_type": "stream",
     "text": [
      "\u001b[32m[I 2021-01-06 13:43:26,375]\u001b[0m Trial 17 finished with value: 0.7418568657441893 and parameters: {'step': 3, 'no._units': 420, 'number': 2, 'best_weight': {0: 1.0, 1: 13.0}}. Best is trial 1 with value: 0.7577180978806545.\u001b[0m\n"
     ]
    },
    {
     "name": "stdout",
     "output_type": "stream",
     "text": [
      "WARNING:tensorflow:sample_weight modes were coerced from\n",
      "  ...\n",
      "    to  \n",
      "  ['...']\n",
      "WARNING:tensorflow:sample_weight modes were coerced from\n",
      "  ...\n",
      "    to  \n",
      "  ['...']\n",
      "Train on 196038 samples, validate on 34595 samples\n",
      "Epoch 1/50\n",
      "196038/196038 [==============================] - 31s 160us/sample - loss: 1.1578 - auc_118: 0.7312 - val_loss: 1.2001 - val_auc_118: 0.7495\n",
      "Epoch 2/50\n",
      "196038/196038 [==============================] - 29s 150us/sample - loss: 1.1164 - auc_118: 0.7512 - val_loss: 1.1108 - val_auc_118: 0.7554\n",
      "Epoch 3/50\n",
      "196038/196038 [==============================] - 29s 150us/sample - loss: 1.1040 - auc_118: 0.7578 - val_loss: 1.1160 - val_auc_118: 0.7569\n",
      "Epoch 4/50\n",
      "196038/196038 [==============================] - 29s 148us/sample - loss: 1.0947 - auc_118: 0.7630 - val_loss: 1.1104 - val_auc_118: 0.7580\n",
      "Epoch 5/50\n",
      "196038/196038 [==============================] - 29s 148us/sample - loss: 1.0890 - auc_118: 0.7660 - val_loss: 1.1076 - val_auc_118: 0.7577\n",
      "Epoch 6/50\n",
      "196038/196038 [==============================] - 29s 150us/sample - loss: 1.0888 - auc_118: 0.7664 - val_loss: 1.1089 - val_auc_118: 0.7571\n",
      "Epoch 7/50\n",
      "196038/196038 [==============================] - 29s 150us/sample - loss: 1.0883 - auc_118: 0.7667 - val_loss: 1.1070 - val_auc_118: 0.7576\n",
      "Epoch 8/50\n",
      "196038/196038 [==============================] - 29s 150us/sample - loss: 1.0876 - auc_118: 0.7669 - val_loss: 1.1070 - val_auc_118: 0.7573\n",
      "Epoch 9/50\n",
      "196038/196038 [==============================] - 29s 149us/sample - loss: 1.0885 - auc_118: 0.7662 - val_loss: 1.1090 - val_auc_118: 0.7575\n",
      "Epoch 10/50\n",
      "196038/196038 [==============================] - 29s 149us/sample - loss: 1.0886 - auc_118: 0.7661 - val_loss: 1.1089 - val_auc_118: 0.7574\n",
      "Epoch 11/50\n",
      "196038/196038 [==============================] - 28s 144us/sample - loss: 1.0877 - auc_118: 0.7670 - val_loss: 1.1087 - val_auc_118: 0.7569\n"
     ]
    },
    {
     "name": "stderr",
     "output_type": "stream",
     "text": [
      "\u001b[32m[I 2021-01-06 13:48:52,933]\u001b[0m Trial 18 finished with value: 0.7576344089580596 and parameters: {'step': 2, 'no._units': 275, 'number': 3, 'best_weight': {0: 1.0, 1: 12.0}}. Best is trial 1 with value: 0.7577180978806545.\u001b[0m\n"
     ]
    },
    {
     "name": "stdout",
     "output_type": "stream",
     "text": [
      "WARNING:tensorflow:sample_weight modes were coerced from\n",
      "  ...\n",
      "    to  \n",
      "  ['...']\n",
      "WARNING:tensorflow:sample_weight modes were coerced from\n",
      "  ...\n",
      "    to  \n",
      "  ['...']\n",
      "Train on 196038 samples, validate on 34595 samples\n",
      "Epoch 1/50\n",
      "196038/196038 [==============================] - 29s 150us/sample - loss: 1.3360 - auc_119: 0.7288 - val_loss: 1.3329 - val_auc_119: 0.7470\n",
      "Epoch 2/50\n",
      "196038/196038 [==============================] - 27s 139us/sample - loss: 1.2875 - auc_119: 0.7487 - val_loss: 1.2842 - val_auc_119: 0.7533\n",
      "Epoch 3/50\n",
      "196038/196038 [==============================] - 28s 140us/sample - loss: 1.2683 - auc_119: 0.7578 - val_loss: 1.2768 - val_auc_119: 0.7548\n",
      "Epoch 4/50\n",
      "196038/196038 [==============================] - 30s 153us/sample - loss: 1.2574 - auc_119: 0.7629 - val_loss: 1.2932 - val_auc_119: 0.7577\n",
      "Epoch 5/50\n",
      "196038/196038 [==============================] - 30s 153us/sample - loss: 1.2479 - auc_119: 0.7671 - val_loss: 1.2866 - val_auc_119: 0.7569\n",
      "Epoch 6/50\n",
      "196038/196038 [==============================] - 30s 152us/sample - loss: 1.2391 - auc_119: 0.7708 - val_loss: 1.2805 - val_auc_119: 0.7565\n",
      "Epoch 7/50\n",
      "196038/196038 [==============================] - 30s 154us/sample - loss: 1.2405 - auc_119: 0.7703 - val_loss: 1.2850 - val_auc_119: 0.7564\n"
     ]
    },
    {
     "name": "stderr",
     "output_type": "stream",
     "text": [
      "\u001b[32m[I 2021-01-06 13:52:20,977]\u001b[0m Trial 19 finished with value: 0.7548309341908411 and parameters: {'step': 3, 'no._units': 288, 'number': 3, 'best_weight': {0: 1.0, 1: 16.0}}. Best is trial 1 with value: 0.7577180978806545.\u001b[0m\n"
     ]
    },
    {
     "name": "stdout",
     "output_type": "stream",
     "text": [
      "WARNING:tensorflow:sample_weight modes were coerced from\n",
      "  ...\n",
      "    to  \n",
      "  ['...']\n",
      "WARNING:tensorflow:sample_weight modes were coerced from\n",
      "  ...\n",
      "    to  \n",
      "  ['...']\n",
      "Train on 196038 samples, validate on 34595 samples\n",
      "Epoch 1/50\n",
      "196038/196038 [==============================] - 26s 135us/sample - loss: 1.2998 - auc_120: 0.7275 - val_loss: 1.3545 - val_auc_120: 0.7430\n",
      "Epoch 2/50\n",
      "196038/196038 [==============================] - 25s 127us/sample - loss: 1.2496 - auc_120: 0.7477 - val_loss: 1.6531 - val_auc_120: 0.7532\n",
      "Epoch 3/50\n",
      "196038/196038 [==============================] - 25s 127us/sample - loss: 1.2365 - auc_120: 0.7550 - val_loss: 1.3260 - val_auc_120: 0.7520\n",
      "Epoch 4/50\n",
      "196038/196038 [==============================] - 25s 126us/sample - loss: 1.2229 - auc_120: 0.7616 - val_loss: 1.6876 - val_auc_120: 0.7555\n",
      "Epoch 5/50\n",
      "196038/196038 [==============================] - 25s 127us/sample - loss: 1.2120 - auc_120: 0.7671 - val_loss: 1.3791 - val_auc_120: 0.7504\n",
      "Epoch 6/50\n",
      "196038/196038 [==============================] - 25s 127us/sample - loss: 1.2019 - auc_120: 0.7711 - val_loss: 1.3803 - val_auc_120: 0.7532\n",
      "Epoch 7/50\n",
      "196038/196038 [==============================] - 25s 127us/sample - loss: 1.1971 - auc_120: 0.7735 - val_loss: 1.4969 - val_auc_120: 0.7533\n"
     ]
    },
    {
     "name": "stderr",
     "output_type": "stream",
     "text": [
      "\u001b[32m[I 2021-01-06 13:55:19,870]\u001b[0m Trial 20 finished with value: 0.7520119904548132 and parameters: {'step': 5, 'no._units': 381, 'number': 2, 'best_weight': {0: 1.0, 1: 15.0}}. Best is trial 1 with value: 0.7577180978806545.\u001b[0m\n"
     ]
    },
    {
     "name": "stdout",
     "output_type": "stream",
     "text": [
      "WARNING:tensorflow:sample_weight modes were coerced from\n",
      "  ...\n",
      "    to  \n",
      "  ['...']\n",
      "WARNING:tensorflow:sample_weight modes were coerced from\n",
      "  ...\n",
      "    to  \n",
      "  ['...']\n",
      "Train on 196038 samples, validate on 34595 samples\n",
      "Epoch 1/50\n",
      "196038/196038 [==============================] - 33s 169us/sample - loss: 1.1587 - auc_121: 0.7291 - val_loss: 1.6203 - val_auc_121: 0.7426\n",
      "Epoch 2/50\n",
      "196038/196038 [==============================] - 29s 149us/sample - loss: 1.1165 - auc_121: 0.7512 - val_loss: 1.1389 - val_auc_121: 0.7519\n",
      "Epoch 3/50\n",
      "196038/196038 [==============================] - 28s 141us/sample - loss: 1.1041 - auc_121: 0.7581 - val_loss: 1.1364 - val_auc_121: 0.7538\n",
      "Epoch 4/50\n",
      "196038/196038 [==============================] - 27s 138us/sample - loss: 1.0976 - auc_121: 0.7618 - val_loss: 1.3340 - val_auc_121: 0.7570\n",
      "Epoch 5/50\n",
      "196038/196038 [==============================] - 30s 153us/sample - loss: 1.0957 - auc_121: 0.7627 - val_loss: 1.1758 - val_auc_121: 0.7560\n",
      "Epoch 6/50\n",
      "196038/196038 [==============================] - 29s 150us/sample - loss: 1.0938 - auc_121: 0.7638 - val_loss: 1.1370 - val_auc_121: 0.7553\n",
      "Epoch 7/50\n",
      "196038/196038 [==============================] - 29s 147us/sample - loss: 1.0930 - auc_121: 0.7642 - val_loss: 1.1416 - val_auc_121: 0.7554\n"
     ]
    },
    {
     "name": "stderr",
     "output_type": "stream",
     "text": [
      "\u001b[32m[I 2021-01-06 13:58:48,855]\u001b[0m Trial 21 finished with value: 0.7537318155460345 and parameters: {'step': 2, 'no._units': 204, 'number': 3, 'best_weight': {0: 1.0, 1: 12.0}}. Best is trial 1 with value: 0.7577180978806545.\u001b[0m\n"
     ]
    },
    {
     "name": "stdout",
     "output_type": "stream",
     "text": [
      "WARNING:tensorflow:sample_weight modes were coerced from\n",
      "  ...\n",
      "    to  \n",
      "  ['...']\n",
      "WARNING:tensorflow:sample_weight modes were coerced from\n",
      "  ...\n",
      "    to  \n",
      "  ['...']\n",
      "Train on 196038 samples, validate on 34595 samples\n",
      "Epoch 1/50\n",
      "196038/196038 [==============================] - 32s 163us/sample - loss: 1.1600 - auc_122: 0.7303 - val_loss: 1.2127 - val_auc_122: 0.7466\n",
      "Epoch 2/50\n",
      "196038/196038 [==============================] - 30s 155us/sample - loss: 1.1171 - auc_122: 0.7510 - val_loss: 1.1813 - val_auc_122: 0.7534\n",
      "Epoch 3/50\n",
      "196038/196038 [==============================] - 30s 151us/sample - loss: 1.1022 - auc_122: 0.7595 - val_loss: 1.1337 - val_auc_122: 0.7545\n",
      "Epoch 4/50\n",
      "196038/196038 [==============================] - 30s 152us/sample - loss: 1.0931 - auc_122: 0.7645 - val_loss: 1.1367 - val_auc_122: 0.7555\n",
      "Epoch 5/50\n",
      "196038/196038 [==============================] - 30s 152us/sample - loss: 1.0895 - auc_122: 0.7662 - val_loss: 1.1201 - val_auc_122: 0.7563\n",
      "Epoch 6/50\n",
      "196038/196038 [==============================] - 30s 151us/sample - loss: 1.0867 - auc_122: 0.7675 - val_loss: 1.1480 - val_auc_122: 0.7558\n",
      "Epoch 7/50\n",
      "196038/196038 [==============================] - 30s 152us/sample - loss: 1.0890 - auc_122: 0.7664 - val_loss: 1.1475 - val_auc_122: 0.7564\n",
      "Epoch 8/50\n",
      "196038/196038 [==============================] - 30s 153us/sample - loss: 1.0870 - auc_122: 0.7674 - val_loss: 1.1458 - val_auc_122: 0.7566\n",
      "Epoch 9/50\n",
      "196038/196038 [==============================] - 30s 152us/sample - loss: 1.0880 - auc_122: 0.7669 - val_loss: 1.1415 - val_auc_122: 0.7558\n"
     ]
    },
    {
     "name": "stderr",
     "output_type": "stream",
     "text": [
      "\u001b[32m[I 2021-01-06 14:03:23,650]\u001b[0m Trial 22 finished with value: 0.7563304503183443 and parameters: {'step': 2, 'no._units': 282, 'number': 3, 'best_weight': {0: 1.0, 1: 12.0}}. Best is trial 1 with value: 0.7577180978806545.\u001b[0m\n"
     ]
    },
    {
     "name": "stdout",
     "output_type": "stream",
     "text": [
      "WARNING:tensorflow:sample_weight modes were coerced from\n",
      "  ...\n",
      "    to  \n",
      "  ['...']\n",
      "WARNING:tensorflow:sample_weight modes were coerced from\n",
      "  ...\n",
      "    to  \n",
      "  ['...']\n",
      "Train on 196038 samples, validate on 34595 samples\n",
      "Epoch 1/50\n",
      "196038/196038 [==============================] - 32s 161us/sample - loss: 1.1610 - auc_123: 0.7276 - val_loss: 1.1579 - val_auc_123: 0.7477\n",
      "Epoch 2/50\n",
      "196038/196038 [==============================] - 30s 151us/sample - loss: 1.1166 - auc_123: 0.7514 - val_loss: 1.2154 - val_auc_123: 0.7502\n",
      "Epoch 3/50\n",
      "196038/196038 [==============================] - 30s 152us/sample - loss: 1.1035 - auc_123: 0.7582 - val_loss: 1.1248 - val_auc_123: 0.7561\n",
      "Epoch 4/50\n",
      "196038/196038 [==============================] - 29s 150us/sample - loss: 1.0942 - auc_123: 0.7635 - val_loss: 1.1329 - val_auc_123: 0.7559\n",
      "Epoch 5/50\n",
      "196038/196038 [==============================] - 30s 152us/sample - loss: 1.0915 - auc_123: 0.7650 - val_loss: 1.1131 - val_auc_123: 0.7559\n",
      "Epoch 6/50\n",
      "196038/196038 [==============================] - 30s 151us/sample - loss: 1.0905 - auc_123: 0.7652 - val_loss: 1.1297 - val_auc_123: 0.7552\n",
      "Epoch 7/50\n",
      "196038/196038 [==============================] - 30s 151us/sample - loss: 1.0911 - auc_123: 0.7648 - val_loss: 1.1107 - val_auc_123: 0.7555\n",
      "Epoch 8/50\n",
      "196038/196038 [==============================] - 30s 151us/sample - loss: 1.0891 - auc_123: 0.7660 - val_loss: 1.1213 - val_auc_123: 0.7553\n",
      "Epoch 9/50\n",
      "196038/196038 [==============================] - 29s 150us/sample - loss: 1.0873 - auc_123: 0.7667 - val_loss: 1.1492 - val_auc_123: 0.7568\n",
      "Epoch 10/50\n",
      "196038/196038 [==============================] - 30s 152us/sample - loss: 1.0898 - auc_123: 0.7658 - val_loss: 1.1208 - val_auc_123: 0.7557\n",
      "Epoch 11/50\n",
      "196038/196038 [==============================] - 30s 151us/sample - loss: 1.0921 - auc_123: 0.7647 - val_loss: 1.1444 - val_auc_123: 0.7555\n"
     ]
    },
    {
     "name": "stderr",
     "output_type": "stream",
     "text": [
      "\u001b[32m[I 2021-01-06 14:08:55,355]\u001b[0m Trial 23 finished with value: 0.7556159505828818 and parameters: {'step': 2, 'no._units': 244, 'number': 3, 'best_weight': {0: 1.0, 1: 12.0}}. Best is trial 1 with value: 0.7577180978806545.\u001b[0m\n"
     ]
    },
    {
     "name": "stdout",
     "output_type": "stream",
     "text": [
      "WARNING:tensorflow:sample_weight modes were coerced from\n",
      "  ...\n",
      "    to  \n",
      "  ['...']\n",
      "WARNING:tensorflow:sample_weight modes were coerced from\n",
      "  ...\n",
      "    to  \n",
      "  ['...']\n",
      "Train on 196038 samples, validate on 34595 samples\n",
      "Epoch 1/50\n",
      "196038/196038 [==============================] - 31s 161us/sample - loss: 1.1598 - auc_124: 0.7296 - val_loss: 1.2529 - val_auc_124: 0.7383\n",
      "Epoch 2/50\n",
      "196038/196038 [==============================] - 30s 151us/sample - loss: 1.1206 - auc_124: 0.7496 - val_loss: 1.1478 - val_auc_124: 0.7542\n",
      "Epoch 3/50\n",
      "196038/196038 [==============================] - 29s 150us/sample - loss: 1.1064 - auc_124: 0.7568 - val_loss: 1.1389 - val_auc_124: 0.7561\n",
      "Epoch 4/50\n",
      "196038/196038 [==============================] - 30s 151us/sample - loss: 1.0980 - auc_124: 0.7615 - val_loss: 2.6617 - val_auc_124: 0.7563\n",
      "Epoch 5/50\n",
      "196038/196038 [==============================] - 29s 149us/sample - loss: 1.0889 - auc_124: 0.7664 - val_loss: 1.6586 - val_auc_124: 0.7541\n",
      "Epoch 6/50\n",
      "196038/196038 [==============================] - 29s 150us/sample - loss: 1.0855 - auc_124: 0.7681 - val_loss: 1.2515 - val_auc_124: 0.7546\n",
      "Epoch 7/50\n",
      "196038/196038 [==============================] - 30s 151us/sample - loss: 1.0825 - auc_124: 0.7698 - val_loss: 1.5146 - val_auc_124: 0.7538\n"
     ]
    },
    {
     "name": "stderr",
     "output_type": "stream",
     "text": [
      "\u001b[32m[I 2021-01-06 14:12:27,514]\u001b[0m Trial 24 finished with value: 0.7561340709712236 and parameters: {'step': 3, 'no._units': 304, 'number': 3, 'best_weight': {0: 1.0, 1: 12.0}}. Best is trial 1 with value: 0.7577180978806545.\u001b[0m\n"
     ]
    },
    {
     "name": "stdout",
     "output_type": "stream",
     "text": [
      "WARNING:tensorflow:sample_weight modes were coerced from\n",
      "  ...\n",
      "    to  \n",
      "  ['...']\n",
      "WARNING:tensorflow:sample_weight modes were coerced from\n",
      "  ...\n",
      "    to  \n",
      "  ['...']\n",
      "Train on 196038 samples, validate on 34595 samples\n",
      "Epoch 1/50\n",
      "196038/196038 [==============================] - 37s 187us/sample - loss: 1.1372 - auc_125: 0.7284 - val_loss: 1.8937 - val_auc_125: 0.6377\n",
      "Epoch 2/50\n",
      "196038/196038 [==============================] - 35s 177us/sample - loss: 1.0906 - auc_125: 0.7500 - val_loss: 1.1352 - val_auc_125: 0.7484\n",
      "Epoch 3/50\n",
      "196038/196038 [==============================] - 35s 176us/sample - loss: 1.0755 - auc_125: 0.7585 - val_loss: 1.1379 - val_auc_125: 0.7529\n",
      "Epoch 4/50\n",
      "196038/196038 [==============================] - 34s 175us/sample - loss: 1.0696 - auc_125: 0.7618 - val_loss: 1.3448 - val_auc_125: 0.7546\n",
      "Epoch 5/50\n",
      "196038/196038 [==============================] - 35s 181us/sample - loss: 1.0650 - auc_125: 0.7641 - val_loss: 1.1834 - val_auc_125: 0.7529\n",
      "Epoch 6/50\n",
      "196038/196038 [==============================] - 35s 176us/sample - loss: 1.0642 - auc_125: 0.7648 - val_loss: 1.1598 - val_auc_125: 0.7530\n"
     ]
    },
    {
     "name": "stderr",
     "output_type": "stream",
     "text": [
      "\u001b[32m[I 2021-01-06 14:16:02,450]\u001b[0m Trial 25 finished with value: 0.7483385719547866 and parameters: {'step': 2, 'no._units': 372, 'number': 4, 'best_weight': {0: 1.0, 1: 11.38697}}. Best is trial 1 with value: 0.7577180978806545.\u001b[0m\n"
     ]
    },
    {
     "name": "stdout",
     "output_type": "stream",
     "text": [
      "WARNING:tensorflow:sample_weight modes were coerced from\n",
      "  ...\n",
      "    to  \n",
      "  ['...']\n",
      "WARNING:tensorflow:sample_weight modes were coerced from\n",
      "  ...\n",
      "    to  \n",
      "  ['...']\n",
      "Train on 196038 samples, validate on 34595 samples\n",
      "Epoch 1/50\n",
      "196038/196038 [==============================] - 27s 139us/sample - loss: 1.2152 - auc_126: 0.7289 - val_loss: 1.3831 - val_auc_126: 0.6536\n",
      "Epoch 2/50\n",
      "196038/196038 [==============================] - 26s 131us/sample - loss: 1.1738 - auc_126: 0.7453 - val_loss: 1.3069 - val_auc_126: 0.7482\n",
      "Epoch 3/50\n",
      "196038/196038 [==============================] - 26s 130us/sample - loss: 1.1532 - auc_126: 0.7560 - val_loss: 1.3895 - val_auc_126: 0.7540\n",
      "Epoch 4/50\n",
      "196038/196038 [==============================] - 26s 131us/sample - loss: 1.1413 - auc_126: 0.7617 - val_loss: 2.2047 - val_auc_126: 0.7531\n",
      "Epoch 5/50\n",
      "196038/196038 [==============================] - 26s 131us/sample - loss: 1.1351 - auc_126: 0.7649 - val_loss: 2.1934 - val_auc_126: 0.7533\n",
      "Epoch 6/50\n",
      "196038/196038 [==============================] - 26s 131us/sample - loss: 1.1317 - auc_126: 0.7669 - val_loss: 1.6134 - val_auc_126: 0.7547\n"
     ]
    },
    {
     "name": "stderr",
     "output_type": "stream",
     "text": [
      "\u001b[32m[I 2021-01-06 14:18:41,596]\u001b[0m Trial 26 finished with value: 0.7481513456437955 and parameters: {'step': 3, 'no._units': 459, 'number': 2, 'best_weight': {0: 1.0, 1: 13.0}}. Best is trial 1 with value: 0.7577180978806545.\u001b[0m\n"
     ]
    },
    {
     "name": "stdout",
     "output_type": "stream",
     "text": [
      "WARNING:tensorflow:sample_weight modes were coerced from\n",
      "  ...\n",
      "    to  \n",
      "  ['...']\n",
      "WARNING:tensorflow:sample_weight modes were coerced from\n",
      "  ...\n",
      "    to  \n",
      "  ['...']\n",
      "Train on 196038 samples, validate on 34595 samples\n",
      "Epoch 1/50\n",
      "196038/196038 [==============================] - 32s 164us/sample - loss: 1.1554 - auc_127: 0.7307 - val_loss: 1.1362 - val_auc_127: 0.7461\n",
      "Epoch 2/50\n",
      "196038/196038 [==============================] - 30s 152us/sample - loss: 1.1158 - auc_127: 0.7520 - val_loss: 1.1187 - val_auc_127: 0.7515\n",
      "Epoch 3/50\n",
      "196038/196038 [==============================] - 31s 159us/sample - loss: 1.1011 - auc_127: 0.7597 - val_loss: 1.1255 - val_auc_127: 0.7579\n",
      "Epoch 4/50\n",
      "196038/196038 [==============================] - 30s 152us/sample - loss: 1.0924 - auc_127: 0.7646 - val_loss: 1.1310 - val_auc_127: 0.7593\n",
      "Epoch 5/50\n",
      "196038/196038 [==============================] - 30s 152us/sample - loss: 1.0907 - auc_127: 0.7656 - val_loss: 1.1124 - val_auc_127: 0.7585\n",
      "Epoch 6/50\n",
      "196038/196038 [==============================] - 30s 152us/sample - loss: 1.0883 - auc_127: 0.7667 - val_loss: 1.1076 - val_auc_127: 0.7574\n",
      "Epoch 7/50\n",
      "196038/196038 [==============================] - 30s 152us/sample - loss: 1.0889 - auc_127: 0.7667 - val_loss: 1.1057 - val_auc_127: 0.7581\n",
      "Epoch 8/50\n",
      "196038/196038 [==============================] - 30s 153us/sample - loss: 1.0860 - auc_127: 0.7682 - val_loss: 1.1076 - val_auc_127: 0.7577\n",
      "Epoch 9/50\n",
      "196038/196038 [==============================] - 29s 150us/sample - loss: 1.0869 - auc_127: 0.7675 - val_loss: 1.1112 - val_auc_127: 0.7585\n",
      "Epoch 10/50\n",
      "196038/196038 [==============================] - 30s 152us/sample - loss: 1.0852 - auc_127: 0.7685 - val_loss: 1.1061 - val_auc_127: 0.7578\n",
      "Epoch 11/50\n",
      "196038/196038 [==============================] - 30s 151us/sample - loss: 1.0853 - auc_127: 0.7685 - val_loss: 1.1063 - val_auc_127: 0.7581\n"
     ]
    },
    {
     "name": "stderr",
     "output_type": "stream",
     "text": [
      "\u001b[32m[I 2021-01-06 14:24:16,495]\u001b[0m Trial 27 finished with value: 0.7580174122946058 and parameters: {'step': 2, 'no._units': 175, 'number': 3, 'best_weight': {0: 1.0, 1: 12.0}}. Best is trial 27 with value: 0.7580174122946058.\u001b[0m\n"
     ]
    },
    {
     "name": "stdout",
     "output_type": "stream",
     "text": [
      "WARNING:tensorflow:sample_weight modes were coerced from\n",
      "  ...\n",
      "    to  \n",
      "  ['...']\n",
      "WARNING:tensorflow:sample_weight modes were coerced from\n",
      "  ...\n",
      "    to  \n",
      "  ['...']\n",
      "Train on 196038 samples, validate on 34595 samples\n",
      "Epoch 1/50\n",
      "196038/196038 [==============================] - 34s 174us/sample - loss: 1.1935 - auc_128: 0.7337 - val_loss: 1.1705 - val_auc_128: 0.7489\n",
      "Epoch 2/50\n",
      "196038/196038 [==============================] - 30s 153us/sample - loss: 1.1651 - auc_128: 0.7491 - val_loss: 1.1679 - val_auc_128: 0.7513\n",
      "Epoch 3/50\n",
      "196038/196038 [==============================] - 30s 153us/sample - loss: 1.1544 - auc_128: 0.7547 - val_loss: 1.1569 - val_auc_128: 0.7555\n",
      "Epoch 4/50\n",
      "196038/196038 [==============================] - 30s 155us/sample - loss: 1.1443 - auc_128: 0.7603 - val_loss: 1.1575 - val_auc_128: 0.7557\n",
      "Epoch 5/50\n",
      "196038/196038 [==============================] - 30s 155us/sample - loss: 1.1368 - auc_128: 0.7644 - val_loss: 1.1559 - val_auc_128: 0.7562\n",
      "Epoch 6/50\n",
      "196038/196038 [==============================] - 27s 140us/sample - loss: 1.1343 - auc_128: 0.7653 - val_loss: 1.1560 - val_auc_128: 0.7561\n",
      "Epoch 7/50\n",
      "196038/196038 [==============================] - 28s 140us/sample - loss: 1.1320 - auc_128: 0.7664 - val_loss: 1.1571 - val_auc_128: 0.7568\n",
      "Epoch 8/50\n",
      "196038/196038 [==============================] - 27s 139us/sample - loss: 1.1326 - auc_128: 0.7662 - val_loss: 1.1545 - val_auc_128: 0.7560\n",
      "Epoch 9/50\n",
      "196038/196038 [==============================] - 27s 139us/sample - loss: 1.1269 - auc_128: 0.7691 - val_loss: 1.1546 - val_auc_128: 0.7559\n",
      "Epoch 10/50\n",
      "196038/196038 [==============================] - 27s 139us/sample - loss: 1.1298 - auc_128: 0.7675 - val_loss: 1.1543 - val_auc_128: 0.7559\n",
      "Epoch 11/50\n",
      "196038/196038 [==============================] - 27s 140us/sample - loss: 1.1297 - auc_128: 0.7678 - val_loss: 1.1623 - val_auc_128: 0.7570\n",
      "Epoch 12/50\n",
      "196038/196038 [==============================] - 27s 140us/sample - loss: 1.1304 - auc_128: 0.7673 - val_loss: 1.1551 - val_auc_128: 0.7562\n",
      "Epoch 13/50\n",
      "196038/196038 [==============================] - 27s 138us/sample - loss: 1.1300 - auc_128: 0.7677 - val_loss: 1.1546 - val_auc_128: 0.7559\n",
      "Epoch 14/50\n",
      "196038/196038 [==============================] - 27s 140us/sample - loss: 1.1293 - auc_128: 0.7679 - val_loss: 1.1570 - val_auc_128: 0.7567\n"
     ]
    },
    {
     "name": "stderr",
     "output_type": "stream",
     "text": [
      "\u001b[32m[I 2021-01-06 14:31:00,895]\u001b[0m Trial 28 finished with value: 0.7559557950461157 and parameters: {'step': 3, 'no._units': 101, 'number': 3, 'best_weight': {0: 1.0, 1: 13.0}}. Best is trial 27 with value: 0.7580174122946058.\u001b[0m\n"
     ]
    },
    {
     "name": "stdout",
     "output_type": "stream",
     "text": [
      "WARNING:tensorflow:sample_weight modes were coerced from\n",
      "  ...\n",
      "    to  \n",
      "  ['...']\n",
      "WARNING:tensorflow:sample_weight modes were coerced from\n",
      "  ...\n",
      "    to  \n",
      "  ['...']\n",
      "Train on 196038 samples, validate on 34595 samples\n",
      "Epoch 1/50\n",
      "196038/196038 [==============================] - 37s 191us/sample - loss: 1.4065 - auc_129: 0.7282 - val_loss: 1.4352 - val_auc_129: 0.7391\n",
      "Epoch 2/50\n",
      "196038/196038 [==============================] - 37s 191us/sample - loss: 1.3620 - auc_129: 0.7475 - val_loss: 1.4304 - val_auc_129: 0.7486\n",
      "Epoch 3/50\n",
      "196038/196038 [==============================] - 38s 196us/sample - loss: 1.3493 - auc_129: 0.7533 - val_loss: 1.5464 - val_auc_129: 0.7523\n",
      "Epoch 4/50\n",
      "196038/196038 [==============================] - 38s 193us/sample - loss: 1.3403 - auc_129: 0.7575 - val_loss: 2.1072 - val_auc_129: 0.7539\n",
      "Epoch 5/50\n",
      "196038/196038 [==============================] - 36s 183us/sample - loss: 1.3359 - auc_129: 0.7591 - val_loss: 1.5635 - val_auc_129: 0.7549\n",
      "Epoch 6/50\n",
      "196038/196038 [==============================] - 37s 188us/sample - loss: 1.3360 - auc_129: 0.7590 - val_loss: 1.5204 - val_auc_129: 0.7547\n"
     ]
    },
    {
     "name": "stderr",
     "output_type": "stream",
     "text": [
      "\u001b[32m[I 2021-01-06 14:34:49,223]\u001b[0m Trial 29 finished with value: 0.7486560348241389 and parameters: {'step': 2, 'no._units': 181, 'number': 5, 'best_weight': {0: 1.0, 1: 18.0}}. Best is trial 27 with value: 0.7580174122946058.\u001b[0m\n"
     ]
    },
    {
     "name": "stdout",
     "output_type": "stream",
     "text": [
      "WARNING:tensorflow:sample_weight modes were coerced from\n",
      "  ...\n",
      "    to  \n",
      "  ['...']\n",
      "WARNING:tensorflow:sample_weight modes were coerced from\n",
      "  ...\n",
      "    to  \n",
      "  ['...']\n",
      "Train on 196038 samples, validate on 34595 samples\n",
      "Epoch 1/50\n",
      "196038/196038 [==============================] - 37s 189us/sample - loss: 1.1750 - auc_130: 0.7267 - val_loss: 10.3870 - val_auc_130: 0.7400\n",
      "Epoch 2/50\n",
      "196038/196038 [==============================] - 35s 180us/sample - loss: 1.1242 - auc_130: 0.7469 - val_loss: 1.7283 - val_auc_130: 0.7513\n",
      "Epoch 3/50\n",
      "196038/196038 [==============================] - 35s 181us/sample - loss: 1.1100 - auc_130: 0.7550 - val_loss: 473.5698 - val_auc_130: 0.7551\n",
      "Epoch 4/50\n",
      "196038/196038 [==============================] - 35s 181us/sample - loss: 1.1012 - auc_130: 0.7597 - val_loss: 27954.3459 - val_auc_130: 0.7459\n",
      "Epoch 5/50\n",
      "196038/196038 [==============================] - 36s 182us/sample - loss: 1.0943 - auc_130: 0.7635 - val_loss: 9127.6839 - val_auc_130: 0.7476\n",
      "Epoch 6/50\n",
      "196038/196038 [==============================] - 35s 180us/sample - loss: 1.0915 - auc_130: 0.7650 - val_loss: 6464.3156 - val_auc_130: 0.7470\n"
     ]
    },
    {
     "name": "stderr",
     "output_type": "stream",
     "text": [
      "\u001b[32m[I 2021-01-06 14:38:27,903]\u001b[0m Trial 30 finished with value: 0.7513043076484729 and parameters: {'step': 3, 'no._units': 558, 'number': 4, 'best_weight': {0: 1.0, 1: 12.0}}. Best is trial 27 with value: 0.7580174122946058.\u001b[0m\n"
     ]
    },
    {
     "name": "stdout",
     "output_type": "stream",
     "text": [
      "WARNING:tensorflow:sample_weight modes were coerced from\n",
      "  ...\n",
      "    to  \n",
      "  ['...']\n",
      "WARNING:tensorflow:sample_weight modes were coerced from\n",
      "  ...\n",
      "    to  \n",
      "  ['...']\n",
      "Train on 196038 samples, validate on 34595 samples\n",
      "Epoch 1/50\n",
      "196038/196038 [==============================] - 31s 159us/sample - loss: 1.1552 - auc_131: 0.7307 - val_loss: 1.1430 - val_auc_131: 0.7475\n",
      "Epoch 2/50\n",
      "196038/196038 [==============================] - 29s 150us/sample - loss: 1.1162 - auc_131: 0.7512 - val_loss: 1.1165 - val_auc_131: 0.7531\n",
      "Epoch 3/50\n",
      "196038/196038 [==============================] - 29s 149us/sample - loss: 1.1031 - auc_131: 0.7588 - val_loss: 1.1127 - val_auc_131: 0.7567\n",
      "Epoch 4/50\n",
      "196038/196038 [==============================] - 29s 148us/sample - loss: 1.0956 - auc_131: 0.7628 - val_loss: 1.1104 - val_auc_131: 0.7572\n",
      "Epoch 5/50\n",
      "196038/196038 [==============================] - 29s 149us/sample - loss: 1.0911 - auc_131: 0.7650 - val_loss: 1.1135 - val_auc_131: 0.7574\n",
      "Epoch 6/50\n",
      "196038/196038 [==============================] - 29s 149us/sample - loss: 1.0881 - auc_131: 0.7667 - val_loss: 1.1203 - val_auc_131: 0.7568\n",
      "Epoch 7/50\n",
      "196038/196038 [==============================] - 29s 150us/sample - loss: 1.0896 - auc_131: 0.7660 - val_loss: 1.1103 - val_auc_131: 0.7572\n",
      "Epoch 8/50\n",
      "196038/196038 [==============================] - 32s 165us/sample - loss: 1.0900 - auc_131: 0.7655 - val_loss: 1.1141 - val_auc_131: 0.7570\n",
      "Epoch 9/50\n",
      "196038/196038 [==============================] - 31s 158us/sample - loss: 1.0896 - auc_131: 0.7659 - val_loss: 1.1257 - val_auc_131: 0.7579\n",
      "Epoch 10/50\n",
      "196038/196038 [==============================] - 29s 150us/sample - loss: 1.0901 - auc_131: 0.7660 - val_loss: 1.1163 - val_auc_131: 0.7572\n",
      "Epoch 11/50\n",
      "196038/196038 [==============================] - 29s 149us/sample - loss: 1.0909 - auc_131: 0.7653 - val_loss: 1.1163 - val_auc_131: 0.7568\n"
     ]
    },
    {
     "name": "stderr",
     "output_type": "stream",
     "text": [
      "\u001b[32m[I 2021-01-06 14:44:00,386]\u001b[0m Trial 31 finished with value: 0.7573160848251599 and parameters: {'step': 2, 'no._units': 147, 'number': 3, 'best_weight': {0: 1.0, 1: 12.0}}. Best is trial 27 with value: 0.7580174122946058.\u001b[0m\n"
     ]
    },
    {
     "name": "stdout",
     "output_type": "stream",
     "text": [
      "WARNING:tensorflow:sample_weight modes were coerced from\n",
      "  ...\n",
      "    to  \n",
      "  ['...']\n",
      "WARNING:tensorflow:sample_weight modes were coerced from\n",
      "  ...\n",
      "    to  \n",
      "  ['...']\n",
      "Train on 196038 samples, validate on 34595 samples\n",
      "Epoch 1/50\n",
      "196038/196038 [==============================] - 31s 160us/sample - loss: 1.1611 - auc_132: 0.7289 - val_loss: 1.1439 - val_auc_132: 0.7439\n",
      "Epoch 2/50\n",
      "196038/196038 [==============================] - 29s 148us/sample - loss: 1.1176 - auc_132: 0.7506 - val_loss: 1.1246 - val_auc_132: 0.7537\n",
      "Epoch 3/50\n",
      "196038/196038 [==============================] - 29s 149us/sample - loss: 1.1017 - auc_132: 0.7597 - val_loss: 1.1369 - val_auc_132: 0.7566\n",
      "Epoch 4/50\n",
      "196038/196038 [==============================] - 29s 149us/sample - loss: 1.0929 - auc_132: 0.7642 - val_loss: 1.1121 - val_auc_132: 0.7561\n",
      "Epoch 5/50\n",
      "196038/196038 [==============================] - 29s 150us/sample - loss: 1.0888 - auc_132: 0.7660 - val_loss: 1.1326 - val_auc_132: 0.7573\n",
      "Epoch 6/50\n",
      "196038/196038 [==============================] - 29s 149us/sample - loss: 1.0866 - auc_132: 0.7672 - val_loss: 1.1193 - val_auc_132: 0.7558\n",
      "Epoch 7/50\n",
      "196038/196038 [==============================] - 29s 148us/sample - loss: 1.0873 - auc_132: 0.7669 - val_loss: 1.1371 - val_auc_132: 0.7573\n",
      "Epoch 8/50\n",
      "196038/196038 [==============================] - 29s 150us/sample - loss: 1.0859 - auc_132: 0.7678 - val_loss: 1.1122 - val_auc_132: 0.7561\n"
     ]
    },
    {
     "name": "stderr",
     "output_type": "stream",
     "text": [
      "\u001b[32m[I 2021-01-06 14:48:00,304]\u001b[0m Trial 32 finished with value: 0.756079254079569 and parameters: {'step': 2, 'no._units': 254, 'number': 3, 'best_weight': {0: 1.0, 1: 12.0}}. Best is trial 27 with value: 0.7580174122946058.\u001b[0m\n"
     ]
    },
    {
     "name": "stdout",
     "output_type": "stream",
     "text": [
      "WARNING:tensorflow:sample_weight modes were coerced from\n",
      "  ...\n",
      "    to  \n",
      "  ['...']\n",
      "WARNING:tensorflow:sample_weight modes were coerced from\n",
      "  ...\n",
      "    to  \n",
      "  ['...']\n",
      "Train on 196038 samples, validate on 34595 samples\n",
      "Epoch 1/50\n",
      "196038/196038 [==============================] - 31s 156us/sample - loss: 1.1586 - auc_133: 0.7312 - val_loss: 1.1743 - val_auc_133: 0.7461\n",
      "Epoch 2/50\n",
      "196038/196038 [==============================] - 29s 146us/sample - loss: 1.1159 - auc_133: 0.7516 - val_loss: 1.1240 - val_auc_133: 0.7540\n",
      "Epoch 3/50\n",
      "196038/196038 [==============================] - 29s 147us/sample - loss: 1.0996 - auc_133: 0.7608 - val_loss: 1.1088 - val_auc_133: 0.7571\n",
      "Epoch 4/50\n",
      "196038/196038 [==============================] - 29s 146us/sample - loss: 1.0899 - auc_133: 0.7658 - val_loss: 1.1080 - val_auc_133: 0.7581\n",
      "Epoch 5/50\n",
      "196038/196038 [==============================] - 28s 144us/sample - loss: 1.0889 - auc_133: 0.7659 - val_loss: 1.1089 - val_auc_133: 0.7578\n",
      "Epoch 6/50\n",
      "196038/196038 [==============================] - 29s 146us/sample - loss: 1.0835 - auc_133: 0.7691 - val_loss: 1.1099 - val_auc_133: 0.7577\n",
      "Epoch 7/50\n",
      "196038/196038 [==============================] - 29s 146us/sample - loss: 1.0838 - auc_133: 0.7687 - val_loss: 1.1073 - val_auc_133: 0.7576\n",
      "Epoch 8/50\n",
      "196038/196038 [==============================] - 29s 146us/sample - loss: 1.0852 - auc_133: 0.7679 - val_loss: 1.1067 - val_auc_133: 0.7580\n",
      "Epoch 9/50\n",
      "196038/196038 [==============================] - 29s 147us/sample - loss: 1.0858 - auc_133: 0.7679 - val_loss: 1.1077 - val_auc_133: 0.7577\n",
      "Epoch 10/50\n",
      "196038/196038 [==============================] - 29s 146us/sample - loss: 1.0838 - auc_133: 0.7688 - val_loss: 1.1173 - val_auc_133: 0.7590\n",
      "Epoch 11/50\n",
      "196038/196038 [==============================] - 29s 146us/sample - loss: 1.0857 - auc_133: 0.7679 - val_loss: 1.1073 - val_auc_133: 0.7578\n",
      "Epoch 12/50\n",
      "196038/196038 [==============================] - 29s 146us/sample - loss: 1.0840 - auc_133: 0.7691 - val_loss: 1.1086 - val_auc_133: 0.7580\n"
     ]
    },
    {
     "name": "stderr",
     "output_type": "stream",
     "text": [
      "\u001b[32m[I 2021-01-06 14:53:50,097]\u001b[0m Trial 33 finished with value: 0.7580104546361457 and parameters: {'step': 2, 'no._units': 326, 'number': 3, 'best_weight': {0: 1.0, 1: 12.0}}. Best is trial 27 with value: 0.7580174122946058.\u001b[0m\n"
     ]
    },
    {
     "name": "stdout",
     "output_type": "stream",
     "text": [
      "WARNING:tensorflow:sample_weight modes were coerced from\n",
      "  ...\n",
      "    to  \n",
      "  ['...']\n",
      "WARNING:tensorflow:sample_weight modes were coerced from\n",
      "  ...\n",
      "    to  \n",
      "  ['...']\n",
      "Train on 196038 samples, validate on 34595 samples\n",
      "Epoch 1/50\n",
      "196038/196038 [==============================] - 27s 140us/sample - loss: 1.1649 - auc_134: 0.7290 - val_loss: 2.2887 - val_auc_134: 0.7279\n",
      "Epoch 2/50\n",
      "196038/196038 [==============================] - 26s 132us/sample - loss: 1.1220 - auc_134: 0.7483 - val_loss: 1.6956 - val_auc_134: 0.7526\n",
      "Epoch 3/50\n",
      "196038/196038 [==============================] - 26s 132us/sample - loss: 1.1118 - auc_134: 0.7541 - val_loss: 9.0325 - val_auc_134: 0.7539\n",
      "Epoch 4/50\n",
      "196038/196038 [==============================] - 26s 133us/sample - loss: 1.1034 - auc_134: 0.7590 - val_loss: 12.0964 - val_auc_134: 0.7575\n",
      "Epoch 5/50\n",
      "196038/196038 [==============================] - 26s 133us/sample - loss: 1.0954 - auc_134: 0.7632 - val_loss: 2.5623 - val_auc_134: 0.7561\n",
      "Epoch 6/50\n",
      "196038/196038 [==============================] - 26s 132us/sample - loss: 1.0890 - auc_134: 0.7665 - val_loss: 5.3324 - val_auc_134: 0.7558\n"
     ]
    },
    {
     "name": "stderr",
     "output_type": "stream",
     "text": [
      "\u001b[32m[I 2021-01-06 14:56:30,512]\u001b[0m Trial 34 finished with value: 0.7526953608607574 and parameters: {'step': 4, 'no._units': 456, 'number': 2, 'best_weight': {0: 1.0, 1: 12.0}}. Best is trial 27 with value: 0.7580174122946058.\u001b[0m\n"
     ]
    },
    {
     "name": "stdout",
     "output_type": "stream",
     "text": [
      "WARNING:tensorflow:sample_weight modes were coerced from\n",
      "  ...\n",
      "    to  \n",
      "  ['...']\n",
      "WARNING:tensorflow:sample_weight modes were coerced from\n",
      "  ...\n",
      "    to  \n",
      "  ['...']\n",
      "Train on 196038 samples, validate on 34595 samples\n",
      "Epoch 1/50\n",
      "196038/196038 [==============================] - 31s 159us/sample - loss: 1.2123 - auc_135: 0.7282 - val_loss: 1.2579 - val_auc_135: 0.7453\n",
      "Epoch 2/50\n",
      "196038/196038 [==============================] - 29s 148us/sample - loss: 1.1705 - auc_135: 0.7468 - val_loss: 3.1796 - val_auc_135: 0.7424\n",
      "Epoch 3/50\n",
      "196038/196038 [==============================] - 29s 148us/sample - loss: 1.1565 - auc_135: 0.7539 - val_loss: 1.7423 - val_auc_135: 0.7513\n",
      "Epoch 4/50\n",
      "196038/196038 [==============================] - 29s 147us/sample - loss: 1.1466 - auc_135: 0.7591 - val_loss: 1.4869 - val_auc_135: 0.7546\n",
      "Epoch 5/50\n",
      "196038/196038 [==============================] - 29s 146us/sample - loss: 1.1357 - auc_135: 0.7647 - val_loss: 1.8713 - val_auc_135: 0.7559\n"
     ]
    },
    {
     "name": "stderr",
     "output_type": "stream",
     "text": [
      "\u001b[32m[I 2021-01-06 14:59:03,294]\u001b[0m Trial 35 finished with value: 0.7453239637766738 and parameters: {'step': 4, 'no._units': 332, 'number': 3, 'best_weight': {0: 1.0, 1: 13.0}}. Best is trial 27 with value: 0.7580174122946058.\u001b[0m\n"
     ]
    },
    {
     "name": "stdout",
     "output_type": "stream",
     "text": [
      "WARNING:tensorflow:sample_weight modes were coerced from\n",
      "  ...\n",
      "    to  \n",
      "  ['...']\n",
      "WARNING:tensorflow:sample_weight modes were coerced from\n",
      "  ...\n",
      "    to  \n",
      "  ['...']\n",
      "Train on 196038 samples, validate on 34595 samples\n",
      "Epoch 1/50\n",
      "196038/196038 [==============================] - 32s 162us/sample - loss: 1.1361 - auc_136: 0.7278 - val_loss: 1.1676 - val_auc_136: 0.7445\n",
      "Epoch 2/50\n",
      "196038/196038 [==============================] - 30s 153us/sample - loss: 1.0915 - auc_136: 0.7492 - val_loss: 1.9096 - val_auc_136: 0.7446\n",
      "Epoch 3/50\n",
      "196038/196038 [==============================] - 30s 152us/sample - loss: 1.0757 - auc_136: 0.7585 - val_loss: 2.1535 - val_auc_136: 0.7556\n",
      "Epoch 4/50\n",
      "196038/196038 [==============================] - 29s 150us/sample - loss: 1.0685 - auc_136: 0.7624 - val_loss: 3.9349 - val_auc_136: 0.7555\n",
      "Epoch 5/50\n",
      "196038/196038 [==============================] - 30s 152us/sample - loss: 1.0633 - auc_136: 0.7650 - val_loss: 2.1067 - val_auc_136: 0.7554\n"
     ]
    },
    {
     "name": "stderr",
     "output_type": "stream",
     "text": [
      "\u001b[32m[I 2021-01-06 15:01:38,182]\u001b[0m Trial 36 finished with value: 0.7444800211963152 and parameters: {'step': 2, 'no._units': 361, 'number': 3, 'best_weight': {0: 1.0, 1: 11.38697}}. Best is trial 27 with value: 0.7580174122946058.\u001b[0m\n"
     ]
    },
    {
     "name": "stdout",
     "output_type": "stream",
     "text": [
      "WARNING:tensorflow:sample_weight modes were coerced from\n",
      "  ...\n",
      "    to  \n",
      "  ['...']\n",
      "WARNING:tensorflow:sample_weight modes were coerced from\n",
      "  ...\n",
      "    to  \n",
      "  ['...']\n",
      "Train on 196038 samples, validate on 34595 samples\n",
      "Epoch 1/50\n",
      "196038/196038 [==============================] - 36s 185us/sample - loss: 1.4304 - auc_137: 0.7233 - val_loss: 44.0769 - val_auc_137: 0.7344\n",
      "Epoch 2/50\n",
      "196038/196038 [==============================] - 34s 174us/sample - loss: 1.3618 - auc_137: 0.7472 - val_loss: 39.5633 - val_auc_137: 0.7428\n",
      "Epoch 3/50\n",
      "196038/196038 [==============================] - 34s 172us/sample - loss: 1.3445 - auc_137: 0.7545 - val_loss: 415.9290 - val_auc_137: 0.7452\n",
      "Epoch 4/50\n",
      "196038/196038 [==============================] - 34s 174us/sample - loss: 1.3355 - auc_137: 0.7589 - val_loss: 91.2429 - val_auc_137: 0.7487\n",
      "Epoch 5/50\n",
      "196038/196038 [==============================] - 34s 174us/sample - loss: 1.3302 - auc_137: 0.7613 - val_loss: 58.3573 - val_auc_137: 0.7475\n",
      "Epoch 6/50\n",
      "196038/196038 [==============================] - 34s 174us/sample - loss: 1.3268 - auc_137: 0.7628 - val_loss: 191.8958 - val_auc_137: 0.7459\n"
     ]
    },
    {
     "name": "stderr",
     "output_type": "stream",
     "text": [
      "\u001b[32m[I 2021-01-06 15:05:09,260]\u001b[0m Trial 37 finished with value: 0.7427955079105313 and parameters: {'step': 2, 'no._units': 458, 'number': 4, 'best_weight': {0: 1.0, 1: 18.0}}. Best is trial 27 with value: 0.7580174122946058.\u001b[0m\n"
     ]
    },
    {
     "name": "stdout",
     "output_type": "stream",
     "text": [
      "WARNING:tensorflow:sample_weight modes were coerced from\n",
      "  ...\n",
      "    to  \n",
      "  ['...']\n",
      "WARNING:tensorflow:sample_weight modes were coerced from\n",
      "  ...\n",
      "    to  \n",
      "  ['...']\n",
      "Train on 196038 samples, validate on 34595 samples\n",
      "Epoch 1/50\n",
      "196038/196038 [==============================] - 32s 161us/sample - loss: 1.2550 - auc_138: 0.7293 - val_loss: 1.3252 - val_auc_138: 0.7423\n",
      "Epoch 2/50\n",
      "196038/196038 [==============================] - 30s 153us/sample - loss: 1.2095 - auc_138: 0.7487 - val_loss: 1.2247 - val_auc_138: 0.7532\n",
      "Epoch 3/50\n",
      "196038/196038 [==============================] - 30s 153us/sample - loss: 1.1922 - auc_138: 0.7574 - val_loss: 1.2272 - val_auc_138: 0.7547\n",
      "Epoch 4/50\n",
      "196038/196038 [==============================] - 30s 152us/sample - loss: 1.1830 - auc_138: 0.7620 - val_loss: 1.3315 - val_auc_138: 0.7552\n",
      "Epoch 5/50\n",
      "196038/196038 [==============================] - 30s 152us/sample - loss: 1.1746 - auc_138: 0.7661 - val_loss: 1.4346 - val_auc_138: 0.7561\n",
      "Epoch 6/50\n",
      "196038/196038 [==============================] - 30s 152us/sample - loss: 1.1684 - auc_138: 0.7693 - val_loss: 1.3112 - val_auc_138: 0.7553\n"
     ]
    },
    {
     "name": "stderr",
     "output_type": "stream",
     "text": [
      "\u001b[32m[I 2021-01-06 15:08:14,230]\u001b[0m Trial 38 finished with value: 0.7532420718213638 and parameters: {'step': 3, 'no._units': 347, 'number': 3, 'best_weight': {0: 1.0, 1: 14.0}}. Best is trial 27 with value: 0.7580174122946058.\u001b[0m\n"
     ]
    },
    {
     "name": "stdout",
     "output_type": "stream",
     "text": [
      "WARNING:tensorflow:sample_weight modes were coerced from\n",
      "  ...\n",
      "    to  \n",
      "  ['...']\n",
      "WARNING:tensorflow:sample_weight modes were coerced from\n",
      "  ...\n",
      "    to  \n",
      "  ['...']\n",
      "Train on 196038 samples, validate on 34595 samples\n",
      "Epoch 1/50\n",
      "196038/196038 [==============================] - 27s 137us/sample - loss: 1.3768 - auc_139: 0.7282 - val_loss: 1.3675 - val_auc_139: 0.7474\n",
      "Epoch 2/50\n",
      "196038/196038 [==============================] - 25s 129us/sample - loss: 1.3170 - auc_139: 0.7517 - val_loss: 1.3361 - val_auc_139: 0.7500\n",
      "Epoch 3/50\n",
      "196038/196038 [==============================] - 25s 129us/sample - loss: 1.2988 - auc_139: 0.7599 - val_loss: 1.3154 - val_auc_139: 0.7581\n",
      "Epoch 4/50\n",
      "196038/196038 [==============================] - 25s 129us/sample - loss: 1.2885 - auc_139: 0.7648 - val_loss: 1.3199 - val_auc_139: 0.7576\n",
      "Epoch 5/50\n",
      "196038/196038 [==============================] - 25s 129us/sample - loss: 1.2846 - auc_139: 0.7666 - val_loss: 1.3085 - val_auc_139: 0.7576\n",
      "Epoch 6/50\n",
      "196038/196038 [==============================] - 25s 129us/sample - loss: 1.2819 - auc_139: 0.7677 - val_loss: 1.3163 - val_auc_139: 0.7580\n",
      "Epoch 7/50\n",
      "196038/196038 [==============================] - 25s 128us/sample - loss: 1.2831 - auc_139: 0.7672 - val_loss: 1.3146 - val_auc_139: 0.7580\n",
      "Epoch 8/50\n",
      "196038/196038 [==============================] - 25s 129us/sample - loss: 1.2840 - auc_139: 0.7663 - val_loss: 1.3103 - val_auc_139: 0.7573\n",
      "Epoch 9/50\n",
      "196038/196038 [==============================] - 25s 129us/sample - loss: 1.2824 - auc_139: 0.7675 - val_loss: 1.3088 - val_auc_139: 0.7581\n"
     ]
    },
    {
     "name": "stderr",
     "output_type": "stream",
     "text": [
      "\u001b[32m[I 2021-01-06 15:12:06,660]\u001b[0m Trial 39 finished with value: 0.757581320222673 and parameters: {'step': 2, 'no._units': 396, 'number': 2, 'best_weight': {0: 1.0, 1: 17.0}}. Best is trial 27 with value: 0.7580174122946058.\u001b[0m\n"
     ]
    },
    {
     "name": "stdout",
     "output_type": "stream",
     "text": [
      "WARNING:tensorflow:sample_weight modes were coerced from\n",
      "  ...\n",
      "    to  \n",
      "  ['...']\n",
      "WARNING:tensorflow:sample_weight modes were coerced from\n",
      "  ...\n",
      "    to  \n",
      "  ['...']\n",
      "Train on 196038 samples, validate on 34595 samples\n",
      "Epoch 1/50\n",
      "196038/196038 [==============================] - 36s 183us/sample - loss: 1.1514 - auc_140: 0.7320 - val_loss: 1.1342 - val_auc_140: 0.7461\n",
      "Epoch 2/50\n",
      "196038/196038 [==============================] - 34s 171us/sample - loss: 1.1220 - auc_140: 0.7484 - val_loss: 1.1198 - val_auc_140: 0.7525\n",
      "Epoch 3/50\n",
      "196038/196038 [==============================] - 34s 172us/sample - loss: 1.1077 - auc_140: 0.7561 - val_loss: 1.1118 - val_auc_140: 0.7562\n",
      "Epoch 4/50\n",
      "196038/196038 [==============================] - 34s 171us/sample - loss: 1.0966 - auc_140: 0.7624 - val_loss: 1.1159 - val_auc_140: 0.7568\n",
      "Epoch 5/50\n",
      "196038/196038 [==============================] - 33s 169us/sample - loss: 1.0911 - auc_140: 0.7653 - val_loss: 1.1051 - val_auc_140: 0.7576\n",
      "Epoch 6/50\n",
      "196038/196038 [==============================] - 33s 171us/sample - loss: 1.0871 - auc_140: 0.7674 - val_loss: 1.1060 - val_auc_140: 0.7574\n",
      "Epoch 7/50\n",
      "196038/196038 [==============================] - 34s 171us/sample - loss: 1.0876 - auc_140: 0.7673 - val_loss: 1.1064 - val_auc_140: 0.7574\n",
      "Epoch 8/50\n",
      "196038/196038 [==============================] - 33s 170us/sample - loss: 1.0851 - auc_140: 0.7685 - val_loss: 1.1080 - val_auc_140: 0.7568\n",
      "Epoch 9/50\n",
      "196038/196038 [==============================] - 33s 169us/sample - loss: 1.0855 - auc_140: 0.7684 - val_loss: 1.1068 - val_auc_140: 0.7576\n"
     ]
    },
    {
     "name": "stderr",
     "output_type": "stream",
     "text": [
      "\u001b[32m[I 2021-01-06 15:17:14,927]\u001b[0m Trial 40 finished with value: 0.7576251151925921 and parameters: {'step': 3, 'no._units': 123, 'number': 4, 'best_weight': {0: 1.0, 1: 12.0}}. Best is trial 27 with value: 0.7580174122946058.\u001b[0m\n"
     ]
    },
    {
     "name": "stdout",
     "output_type": "stream",
     "text": [
      "WARNING:tensorflow:sample_weight modes were coerced from\n",
      "  ...\n",
      "    to  \n",
      "  ['...']\n",
      "WARNING:tensorflow:sample_weight modes were coerced from\n",
      "  ...\n",
      "    to  \n",
      "  ['...']\n",
      "Train on 196038 samples, validate on 34595 samples\n",
      "Epoch 1/50\n",
      "196038/196038 [==============================] - 35s 180us/sample - loss: 1.1514 - auc_141: 0.7323 - val_loss: 1.1417 - val_auc_141: 0.7435\n",
      "Epoch 2/50\n",
      "196038/196038 [==============================] - 34s 171us/sample - loss: 1.1250 - auc_141: 0.7462 - val_loss: 1.1605 - val_auc_141: 0.7523\n",
      "Epoch 3/50\n",
      "196038/196038 [==============================] - 32s 161us/sample - loss: 1.1103 - auc_141: 0.7551 - val_loss: 1.1188 - val_auc_141: 0.7545\n",
      "Epoch 4/50\n",
      "196038/196038 [==============================] - 31s 159us/sample - loss: 1.1018 - auc_141: 0.7593 - val_loss: 1.1153 - val_auc_141: 0.7549\n",
      "Epoch 5/50\n",
      "196038/196038 [==============================] - 30s 154us/sample - loss: 1.0947 - auc_141: 0.7633 - val_loss: 1.1078 - val_auc_141: 0.7576\n",
      "Epoch 6/50\n",
      "196038/196038 [==============================] - 30s 154us/sample - loss: 1.0894 - auc_141: 0.7662 - val_loss: 1.1126 - val_auc_141: 0.7562\n",
      "Epoch 7/50\n",
      "196038/196038 [==============================] - 31s 156us/sample - loss: 1.0855 - auc_141: 0.7683 - val_loss: 1.1131 - val_auc_141: 0.7558\n",
      "Epoch 8/50\n",
      "196038/196038 [==============================] - 30s 155us/sample - loss: 1.0849 - auc_141: 0.7686 - val_loss: 1.1174 - val_auc_141: 0.7557\n",
      "Epoch 9/50\n",
      "196038/196038 [==============================] - 30s 153us/sample - loss: 1.0839 - auc_141: 0.7691 - val_loss: 1.1102 - val_auc_141: 0.7570\n"
     ]
    },
    {
     "name": "stderr",
     "output_type": "stream",
     "text": [
      "\u001b[32m[I 2021-01-06 15:22:02,075]\u001b[0m Trial 41 finished with value: 0.7576270910324947 and parameters: {'step': 4, 'no._units': 121, 'number': 4, 'best_weight': {0: 1.0, 1: 12.0}}. Best is trial 27 with value: 0.7580174122946058.\u001b[0m\n"
     ]
    },
    {
     "name": "stdout",
     "output_type": "stream",
     "text": [
      "WARNING:tensorflow:sample_weight modes were coerced from\n",
      "  ...\n",
      "    to  \n",
      "  ['...']\n",
      "WARNING:tensorflow:sample_weight modes were coerced from\n",
      "  ...\n",
      "    to  \n",
      "  ['...']\n",
      "Train on 196038 samples, validate on 34595 samples\n",
      "Epoch 1/50\n",
      "196038/196038 [==============================] - 32s 164us/sample - loss: 1.1549 - auc_142: 0.7297 - val_loss: 1.1370 - val_auc_142: 0.7460\n",
      "Epoch 2/50\n",
      "196038/196038 [==============================] - 31s 156us/sample - loss: 1.1238 - auc_142: 0.7471 - val_loss: 1.4638 - val_auc_142: 0.7489\n",
      "Epoch 3/50\n",
      "196038/196038 [==============================] - 31s 157us/sample - loss: 1.1102 - auc_142: 0.7547 - val_loss: 3.1812 - val_auc_142: 0.7540\n",
      "Epoch 4/50\n",
      "196038/196038 [==============================] - 31s 156us/sample - loss: 1.1032 - auc_142: 0.7585 - val_loss: 3.1839 - val_auc_142: 0.7537\n",
      "Epoch 5/50\n",
      "196038/196038 [==============================] - 31s 157us/sample - loss: 1.0959 - auc_142: 0.7627 - val_loss: 3.7042 - val_auc_142: 0.7573\n"
     ]
    },
    {
     "name": "stderr",
     "output_type": "stream",
     "text": [
      "\u001b[32m[I 2021-01-06 15:24:40,971]\u001b[0m Trial 42 finished with value: 0.7460892105113421 and parameters: {'step': 4, 'no._units': 136, 'number': 4, 'best_weight': {0: 1.0, 1: 12.0}}. Best is trial 27 with value: 0.7580174122946058.\u001b[0m\n"
     ]
    },
    {
     "name": "stdout",
     "output_type": "stream",
     "text": [
      "WARNING:tensorflow:sample_weight modes were coerced from\n",
      "  ...\n",
      "    to  \n",
      "  ['...']\n",
      "WARNING:tensorflow:sample_weight modes were coerced from\n",
      "  ...\n",
      "    to  \n",
      "  ['...']\n",
      "Train on 196038 samples, validate on 34595 samples\n",
      "Epoch 1/50\n",
      "196038/196038 [==============================] - 35s 180us/sample - loss: 1.1573 - auc_143: 0.7296 - val_loss: 1.1517 - val_auc_143: 0.7391\n",
      "Epoch 2/50\n",
      "196038/196038 [==============================] - 31s 159us/sample - loss: 1.1223 - auc_143: 0.7480 - val_loss: 1.1245 - val_auc_143: 0.7526\n",
      "Epoch 3/50\n",
      "196038/196038 [==============================] - 32s 161us/sample - loss: 1.1092 - auc_143: 0.7553 - val_loss: 1.1389 - val_auc_143: 0.7538\n",
      "Epoch 4/50\n",
      "196038/196038 [==============================] - 31s 161us/sample - loss: 1.1006 - auc_143: 0.7603 - val_loss: 1.1147 - val_auc_143: 0.7546\n",
      "Epoch 5/50\n",
      "196038/196038 [==============================] - 31s 161us/sample - loss: 1.0917 - auc_143: 0.7652 - val_loss: 1.1164 - val_auc_143: 0.7565\n",
      "Epoch 6/50\n",
      "196038/196038 [==============================] - 31s 158us/sample - loss: 1.0884 - auc_143: 0.7669 - val_loss: 1.1146 - val_auc_143: 0.7554\n",
      "Epoch 7/50\n",
      "196038/196038 [==============================] - 31s 161us/sample - loss: 1.0841 - auc_143: 0.7692 - val_loss: 1.1231 - val_auc_143: 0.7558\n",
      "Epoch 8/50\n",
      "196038/196038 [==============================] - 32s 161us/sample - loss: 1.0787 - auc_143: 0.7720 - val_loss: 1.1544 - val_auc_143: 0.7554\n",
      "Epoch 9/50\n",
      "196038/196038 [==============================] - 31s 160us/sample - loss: 1.0810 - auc_143: 0.7707 - val_loss: 1.1262 - val_auc_143: 0.7553\n",
      "Epoch 10/50\n",
      "196038/196038 [==============================] - 31s 161us/sample - loss: 1.0766 - auc_143: 0.7731 - val_loss: 1.1251 - val_auc_143: 0.7556\n"
     ]
    },
    {
     "name": "stderr",
     "output_type": "stream",
     "text": [
      "\u001b[32m[I 2021-01-06 15:30:02,889]\u001b[0m Trial 43 finished with value: 0.7554582830619994 and parameters: {'step': 4, 'no._units': 179, 'number': 4, 'best_weight': {0: 1.0, 1: 12.0}}. Best is trial 27 with value: 0.7580174122946058.\u001b[0m\n"
     ]
    },
    {
     "name": "stdout",
     "output_type": "stream",
     "text": [
      "WARNING:tensorflow:sample_weight modes were coerced from\n",
      "  ...\n",
      "    to  \n",
      "  ['...']\n",
      "WARNING:tensorflow:sample_weight modes were coerced from\n",
      "  ...\n",
      "    to  \n",
      "  ['...']\n",
      "Train on 196038 samples, validate on 34595 samples\n",
      "Epoch 1/50\n",
      "196038/196038 [==============================] - 38s 191us/sample - loss: 1.2980 - auc_144: 0.7267 - val_loss: 1.2714 - val_auc_144: 0.7432\n",
      "Epoch 2/50\n",
      "196038/196038 [==============================] - 35s 181us/sample - loss: 1.2567 - auc_144: 0.7460 - val_loss: 1.3564 - val_auc_144: 0.7502\n",
      "Epoch 3/50\n",
      "196038/196038 [==============================] - 36s 182us/sample - loss: 1.2436 - auc_144: 0.7520 - val_loss: 16.2925 - val_auc_144: 0.7523\n",
      "Epoch 4/50\n",
      "196038/196038 [==============================] - 35s 179us/sample - loss: 1.2341 - auc_144: 0.7567 - val_loss: 52.9309 - val_auc_144: 0.7439\n",
      "Epoch 5/50\n",
      "196038/196038 [==============================] - 36s 185us/sample - loss: 1.2260 - auc_144: 0.7605 - val_loss: 25.6103 - val_auc_144: 0.7469\n"
     ]
    },
    {
     "name": "stderr",
     "output_type": "stream",
     "text": [
      "\u001b[32m[I 2021-01-06 15:33:07,570]\u001b[0m Trial 44 finished with value: 0.7434168560827261 and parameters: {'step': 5, 'no._units': 277, 'number': 5, 'best_weight': {0: 1.0, 1: 15.0}}. Best is trial 27 with value: 0.7580174122946058.\u001b[0m\n"
     ]
    },
    {
     "name": "stdout",
     "output_type": "stream",
     "text": [
      "WARNING:tensorflow:sample_weight modes were coerced from\n",
      "  ...\n",
      "    to  \n",
      "  ['...']\n",
      "WARNING:tensorflow:sample_weight modes were coerced from\n",
      "  ...\n",
      "    to  \n",
      "  ['...']\n",
      "Train on 196038 samples, validate on 34595 samples\n",
      "Epoch 1/50\n",
      "196038/196038 [==============================] - 33s 170us/sample - loss: 1.3417 - auc_145: 0.7269 - val_loss: 1.3452 - val_auc_145: 0.7298\n",
      "Epoch 2/50\n",
      "196038/196038 [==============================] - 31s 159us/sample - loss: 1.2957 - auc_145: 0.7451 - val_loss: 4.0598 - val_auc_145: 0.7496\n",
      "Epoch 3/50\n",
      "196038/196038 [==============================] - 31s 160us/sample - loss: 1.2766 - auc_145: 0.7543 - val_loss: 770.4206 - val_auc_145: 0.7477\n",
      "Epoch 4/50\n",
      "196038/196038 [==============================] - 31s 160us/sample - loss: 1.2654 - auc_145: 0.7594 - val_loss: 84.6838 - val_auc_145: 0.7528\n",
      "Epoch 5/50\n",
      "196038/196038 [==============================] - 32s 161us/sample - loss: 1.2557 - auc_145: 0.7639 - val_loss: 8011.1687 - val_auc_145: 0.7445\n"
     ]
    },
    {
     "name": "stderr",
     "output_type": "stream",
     "text": [
      "\u001b[32m[I 2021-01-06 15:35:50,431]\u001b[0m Trial 45 finished with value: 0.7297705742520297 and parameters: {'step': 4, 'no._units': 310, 'number': 4, 'best_weight': {0: 1.0, 1: 16.0}}. Best is trial 27 with value: 0.7580174122946058.\u001b[0m\n"
     ]
    },
    {
     "name": "stdout",
     "output_type": "stream",
     "text": [
      "WARNING:tensorflow:sample_weight modes were coerced from\n",
      "  ...\n",
      "    to  \n",
      "  ['...']\n",
      "WARNING:tensorflow:sample_weight modes were coerced from\n",
      "  ...\n",
      "    to  \n",
      "  ['...']\n",
      "Train on 196038 samples, validate on 34595 samples\n",
      "Epoch 1/50\n",
      "196038/196038 [==============================] - 29s 149us/sample - loss: 1.1692 - auc_146: 0.7271 - val_loss: 1.1697 - val_auc_146: 0.7382\n",
      "Epoch 2/50\n",
      "196038/196038 [==============================] - 28s 141us/sample - loss: 1.1266 - auc_146: 0.7468 - val_loss: 3.0939 - val_auc_146: 0.7477\n",
      "Epoch 3/50\n",
      "196038/196038 [==============================] - 28s 141us/sample - loss: 1.1112 - auc_146: 0.7545 - val_loss: 40.7237 - val_auc_146: 0.7538\n",
      "Epoch 4/50\n",
      "196038/196038 [==============================] - 28s 141us/sample - loss: 1.0996 - auc_146: 0.7611 - val_loss: 13.7473 - val_auc_146: 0.7550\n",
      "Epoch 5/50\n",
      "196038/196038 [==============================] - 28s 142us/sample - loss: 1.0889 - auc_146: 0.7666 - val_loss: 29.4284 - val_auc_146: 0.7546\n"
     ]
    },
    {
     "name": "stderr",
     "output_type": "stream",
     "text": [
      "\u001b[32m[I 2021-01-06 15:38:14,143]\u001b[0m Trial 46 finished with value: 0.7383105652403984 and parameters: {'step': 4, 'no._units': 514, 'number': 3, 'best_weight': {0: 1.0, 1: 12.0}}. Best is trial 27 with value: 0.7580174122946058.\u001b[0m\n"
     ]
    },
    {
     "name": "stdout",
     "output_type": "stream",
     "text": [
      "WARNING:tensorflow:sample_weight modes were coerced from\n",
      "  ...\n",
      "    to  \n",
      "  ['...']\n",
      "WARNING:tensorflow:sample_weight modes were coerced from\n",
      "  ...\n",
      "    to  \n",
      "  ['...']\n",
      "Train on 196038 samples, validate on 34595 samples\n",
      "Epoch 1/50\n",
      "196038/196038 [==============================] - 29s 147us/sample - loss: 1.2538 - auc_147: 0.7289 - val_loss: 1.2313 - val_auc_147: 0.7457\n",
      "Epoch 2/50\n",
      "196038/196038 [==============================] - 27s 138us/sample - loss: 1.2135 - auc_147: 0.7470 - val_loss: 1.2553 - val_auc_147: 0.7519\n",
      "Epoch 3/50\n",
      "196038/196038 [==============================] - 27s 138us/sample - loss: 1.2003 - auc_147: 0.7534 - val_loss: 1.2136 - val_auc_147: 0.7548\n",
      "Epoch 4/50\n",
      "196038/196038 [==============================] - 27s 139us/sample - loss: 1.1862 - auc_147: 0.7602 - val_loss: 1.2201 - val_auc_147: 0.7558\n",
      "Epoch 5/50\n",
      "196038/196038 [==============================] - 27s 138us/sample - loss: 1.1760 - auc_147: 0.7656 - val_loss: 1.2049 - val_auc_147: 0.7561\n",
      "Epoch 6/50\n",
      "196038/196038 [==============================] - 27s 137us/sample - loss: 1.1662 - auc_147: 0.7701 - val_loss: 1.2012 - val_auc_147: 0.7539\n",
      "Epoch 7/50\n",
      "196038/196038 [==============================] - 27s 139us/sample - loss: 1.1590 - auc_147: 0.7732 - val_loss: 1.2396 - val_auc_147: 0.7545\n",
      "Epoch 8/50\n",
      "196038/196038 [==============================] - 27s 138us/sample - loss: 1.1563 - auc_147: 0.7748 - val_loss: 1.2103 - val_auc_147: 0.7535\n",
      "Epoch 9/50\n",
      "196038/196038 [==============================] - 27s 139us/sample - loss: 1.1533 - auc_147: 0.7759 - val_loss: 1.2159 - val_auc_147: 0.7525\n",
      "Epoch 10/50\n",
      "196038/196038 [==============================] - 27s 139us/sample - loss: 1.1483 - auc_147: 0.7779 - val_loss: 1.2323 - val_auc_147: 0.7534\n"
     ]
    },
    {
     "name": "stderr",
     "output_type": "stream",
     "text": [
      "\u001b[32m[I 2021-01-06 15:42:50,513]\u001b[0m Trial 47 finished with value: 0.7539657752555178 and parameters: {'step': 5, 'no._units': 346, 'number': 3, 'best_weight': {0: 1.0, 1: 14.0}}. Best is trial 27 with value: 0.7580174122946058.\u001b[0m\n"
     ]
    },
    {
     "name": "stdout",
     "output_type": "stream",
     "text": [
      "WARNING:tensorflow:sample_weight modes were coerced from\n",
      "  ...\n",
      "    to  \n",
      "  ['...']\n",
      "WARNING:tensorflow:sample_weight modes were coerced from\n",
      "  ...\n",
      "    to  \n",
      "  ['...']\n",
      "Train on 196038 samples, validate on 34595 samples\n",
      "Epoch 1/50\n",
      "196038/196038 [==============================] - 29s 149us/sample - loss: 1.3716 - auc_148: 0.7289 - val_loss: 1.3456 - val_auc_148: 0.7460\n",
      "Epoch 2/50\n",
      "196038/196038 [==============================] - 27s 140us/sample - loss: 1.3275 - auc_148: 0.7476 - val_loss: 141.2668 - val_auc_148: 0.7520\n",
      "Epoch 3/50\n",
      "196038/196038 [==============================] - 27s 140us/sample - loss: 1.3101 - auc_148: 0.7551 - val_loss: 64.1289 - val_auc_148: 0.7538\n",
      "Epoch 4/50\n",
      "196038/196038 [==============================] - 27s 140us/sample - loss: 1.3004 - auc_148: 0.7594 - val_loss: 3.2749 - val_auc_148: 0.7547\n",
      "Epoch 5/50\n",
      "196038/196038 [==============================] - 27s 140us/sample - loss: 1.2901 - auc_148: 0.7644 - val_loss: 26.4487 - val_auc_148: 0.7526\n"
     ]
    },
    {
     "name": "stderr",
     "output_type": "stream",
     "text": [
      "\u001b[32m[I 2021-01-06 15:45:12,984]\u001b[0m Trial 48 finished with value: 0.7459834158243678 and parameters: {'step': 4, 'no._units': 231, 'number': 3, 'best_weight': {0: 1.0, 1: 17.0}}. Best is trial 27 with value: 0.7580174122946058.\u001b[0m\n"
     ]
    },
    {
     "name": "stdout",
     "output_type": "stream",
     "text": [
      "WARNING:tensorflow:sample_weight modes were coerced from\n",
      "  ...\n",
      "    to  \n",
      "  ['...']\n",
      "WARNING:tensorflow:sample_weight modes were coerced from\n",
      "  ...\n",
      "    to  \n",
      "  ['...']\n",
      "Train on 196038 samples, validate on 34595 samples\n",
      "Epoch 1/50\n",
      "196038/196038 [==============================] - 34s 175us/sample - loss: 1.1755 - auc_149: 0.7257 - val_loss: 1.1527 - val_auc_149: 0.7369\n",
      "Epoch 2/50\n",
      "196038/196038 [==============================] - 32s 164us/sample - loss: 1.1225 - auc_149: 0.7485 - val_loss: 1.1916 - val_auc_149: 0.7508\n",
      "Epoch 3/50\n",
      "196038/196038 [==============================] - 32s 164us/sample - loss: 1.1086 - auc_149: 0.7559 - val_loss: 2.3621 - val_auc_149: 0.7529\n",
      "Epoch 4/50\n",
      "196038/196038 [==============================] - 32s 164us/sample - loss: 1.0954 - auc_149: 0.7633 - val_loss: 2.2866 - val_auc_149: 0.7543\n",
      "Epoch 5/50\n",
      "196038/196038 [==============================] - 32s 165us/sample - loss: 1.0863 - auc_149: 0.7680 - val_loss: 2.1950 - val_auc_149: 0.7503\n"
     ]
    },
    {
     "name": "stderr",
     "output_type": "stream",
     "text": [
      "\u001b[32m[I 2021-01-06 15:48:00,130]\u001b[0m Trial 49 finished with value: 0.7368342131618947 and parameters: {'step': 3, 'no._units': 481, 'number': 4, 'best_weight': {0: 1.0, 1: 12.0}}. Best is trial 27 with value: 0.7580174122946058.\u001b[0m\n"
     ]
    }
   ],
   "source": [
    "# Extracting the best model parameters and best study score\n",
    "best_study_score,best_study_params = study_best_score_params(X_train_1, y_train_1, X_val, y_val, objective_wrappper_keras_eq_RELU, cl_weight,\n",
    "                                                            n_trials=50)"
   ]
  },
  {
   "cell_type": "code",
   "execution_count": 49,
   "metadata": {},
   "outputs": [
    {
     "name": "stdout",
     "output_type": "stream",
     "text": [
      "The best roc_auc_score for the study is:  0.7580174122946058\n"
     ]
    }
   ],
   "source": [
    "print('The best roc_auc_score for the study is: ',best_study_score)"
   ]
  },
  {
   "cell_type": "code",
   "execution_count": 50,
   "metadata": {},
   "outputs": [
    {
     "name": "stdout",
     "output_type": "stream",
     "text": [
      "The best study parameters for the classifier are:  {'step': 2, 'no._units': 175, 'number': 3, 'best_weight': {0: 1.0, 1: 12.0}}\n"
     ]
    }
   ],
   "source": [
    "print('The best study parameters for the classifier are: ',best_study_params)"
   ]
  },
  {
   "cell_type": "code",
   "execution_count": 51,
   "metadata": {},
   "outputs": [],
   "source": [
    "# loading the best Neural Network\n",
    "Best_Model_Relu = keras.models.load_model('Best_model_Elu_eq_Learn_relu.h5')"
   ]
  },
  {
   "cell_type": "code",
   "execution_count": 52,
   "metadata": {},
   "outputs": [
    {
     "name": "stdout",
     "output_type": "stream",
     "text": [
      "Model: \"sequential_128\"\n",
      "_________________________________________________________________\n",
      "Layer (type)                 Output Shape              Param #   \n",
      "=================================================================\n",
      "batch_normalization_597 (Bat (None, 103)               412       \n",
      "_________________________________________________________________\n",
      "dense_596 (Dense)            (None, 175)               18200     \n",
      "_________________________________________________________________\n",
      "batch_normalization_598 (Bat (None, 175)               700       \n",
      "_________________________________________________________________\n",
      "dense_597 (Dense)            (None, 175)               30800     \n",
      "_________________________________________________________________\n",
      "batch_normalization_599 (Bat (None, 175)               700       \n",
      "_________________________________________________________________\n",
      "dense_598 (Dense)            (None, 175)               30800     \n",
      "_________________________________________________________________\n",
      "batch_normalization_600 (Bat (None, 175)               700       \n",
      "_________________________________________________________________\n",
      "dense_599 (Dense)            (None, 1)                 176       \n",
      "=================================================================\n",
      "Total params: 82,488\n",
      "Trainable params: 81,232\n",
      "Non-trainable params: 1,256\n",
      "_________________________________________________________________\n"
     ]
    }
   ],
   "source": [
    "# Printing its summary\n",
    "Best_Model_Relu.summary()"
   ]
  },
  {
   "cell_type": "code",
   "execution_count": 53,
   "metadata": {},
   "outputs": [
    {
     "name": "stdout",
     "output_type": "stream",
     "text": [
      "The roc_auc_score for the Reduced feature training set using the best Dense Neural Network using RELU activation classifier is  0.7705065237291805\n"
     ]
    }
   ],
   "source": [
    "# Calculating the Reduced feature training set roc_auc score using the pretrained Neural Network having \n",
    "# best study parameters & weights\n",
    "cal_roc_auc(X_train, y_train, Best_Model_Relu, 'Reduced feature', 'training', 'Dense Neural Network using RELU activation')"
   ]
  },
  {
   "cell_type": "code",
   "execution_count": 54,
   "metadata": {},
   "outputs": [
    {
     "name": "stdout",
     "output_type": "stream",
     "text": [
      "The roc_auc_score for the Reduced feature test set using the best Dense Neural Network using RELU activation classifier is  0.7625576360042436\n"
     ]
    }
   ],
   "source": [
    "# Calculating the Reduced feature test set roc_auc score using the pretrained Neural Network having \n",
    "# best study parameters & weights\n",
    "cal_roc_auc(X_test, y_test, Best_Model_Relu, 'Reduced feature', 'test', 'Dense Neural Network using RELU activation')"
   ]
  },
  {
   "cell_type": "markdown",
   "metadata": {},
   "source": [
    "### Calculating R_R ratio for Best Dense Neural Network with  RELU activation & Nadam Optimizer"
   ]
  },
  {
   "cell_type": "code",
   "execution_count": 84,
   "metadata": {},
   "outputs": [],
   "source": [
    "# Defining the exponential decay learning rate with step 2.\n",
    "def exponential_decay_fn(epoch):\n",
    "            return 0.01 * 0.1**(epoch /2 )"
   ]
  },
  {
   "cell_type": "code",
   "execution_count": 85,
   "metadata": {},
   "outputs": [
    {
     "name": "stdout",
     "output_type": "stream",
     "text": [
      "WARNING:tensorflow:sample_weight modes were coerced from\n",
      "  ...\n",
      "    to  \n",
      "  ['...']\n",
      "WARNING:tensorflow:sample_weight modes were coerced from\n",
      "  ...\n",
      "    to  \n",
      "  ['...']\n",
      "Train on 156830 samples, validate on 27676 samples\n",
      "Epoch 1/50\n",
      "156830/156830 [==============================] - 24s 154us/sample - loss: 1.1246 - auc_170: 0.7472 - val_loss: 1.2505 - val_auc_170: 0.7435\n",
      "Epoch 2/50\n",
      "156830/156830 [==============================] - 23s 144us/sample - loss: 1.1041 - auc_170: 0.7585 - val_loss: 1.1837 - val_auc_170: 0.7590\n",
      "Epoch 3/50\n",
      "156830/156830 [==============================] - 23s 148us/sample - loss: 1.0930 - auc_170: 0.7643 - val_loss: 1.1052 - val_auc_170: 0.7639\n",
      "Epoch 4/50\n",
      "156830/156830 [==============================] - 23s 146us/sample - loss: 1.0854 - auc_170: 0.7688 - val_loss: 1.0965 - val_auc_170: 0.7642\n",
      "Epoch 5/50\n",
      "156830/156830 [==============================] - 23s 145us/sample - loss: 1.0842 - auc_170: 0.7690 - val_loss: 1.2460 - val_auc_170: 0.7658\n",
      "Epoch 6/50\n",
      "156830/156830 [==============================] - 22s 142us/sample - loss: 1.0843 - auc_170: 0.7691 - val_loss: 1.0979 - val_auc_170: 0.7646\n",
      "Epoch 7/50\n",
      "156830/156830 [==============================] - 22s 142us/sample - loss: 1.0822 - auc_170: 0.7700 - val_loss: 1.1024 - val_auc_170: 0.7646\n",
      "Epoch 8/50\n",
      "156830/156830 [==============================] - 24s 156us/sample - loss: 1.0828 - auc_170: 0.7695 - val_loss: 1.1221 - val_auc_170: 0.7645\n",
      "WARNING:tensorflow:sample_weight modes were coerced from\n",
      "  ...\n",
      "    to  \n",
      "  ['...']\n",
      "WARNING:tensorflow:sample_weight modes were coerced from\n",
      "  ...\n",
      "    to  \n",
      "  ['...']\n",
      "Train on 156830 samples, validate on 27676 samples\n",
      "Epoch 1/50\n",
      "156830/156830 [==============================] - 27s 174us/sample - loss: 1.1286 - auc_171: 0.7456 - val_loss: 1.8451 - val_auc_171: 0.7597\n",
      "Epoch 2/50\n",
      "156830/156830 [==============================] - 25s 157us/sample - loss: 1.1088 - auc_171: 0.7554 - val_loss: 1.1768 - val_auc_171: 0.7653\n",
      "Epoch 3/50\n",
      "156830/156830 [==============================] - 24s 151us/sample - loss: 1.0991 - auc_171: 0.7612 - val_loss: 1.5725 - val_auc_171: 0.7664\n",
      "Epoch 4/50\n",
      "156830/156830 [==============================] - 23s 150us/sample - loss: 1.0953 - auc_171: 0.7628 - val_loss: 1.1209 - val_auc_171: 0.7665\n",
      "Epoch 5/50\n",
      "156830/156830 [==============================] - 24s 152us/sample - loss: 1.0928 - auc_171: 0.7645 - val_loss: 1.1233 - val_auc_171: 0.7672\n",
      "Epoch 6/50\n",
      "156830/156830 [==============================] - 24s 151us/sample - loss: 1.0920 - auc_171: 0.7648 - val_loss: 1.2453 - val_auc_171: 0.7668\n",
      "Epoch 7/50\n",
      "156830/156830 [==============================] - 24s 151us/sample - loss: 1.0922 - auc_171: 0.7651 - val_loss: 1.1391 - val_auc_171: 0.7671\n",
      "Epoch 8/50\n",
      "156830/156830 [==============================] - 24s 151us/sample - loss: 1.0916 - auc_171: 0.7651 - val_loss: 1.1418 - val_auc_171: 0.7663\n",
      "WARNING:tensorflow:sample_weight modes were coerced from\n",
      "  ...\n",
      "    to  \n",
      "  ['...']\n",
      "WARNING:tensorflow:sample_weight modes were coerced from\n",
      "  ...\n",
      "    to  \n",
      "  ['...']\n",
      "Train on 156830 samples, validate on 27676 samples\n",
      "Epoch 1/50\n",
      "156830/156830 [==============================] - 26s 164us/sample - loss: 1.1340 - auc_172: 0.7415 - val_loss: 1.1673 - val_auc_172: 0.7596\n",
      "Epoch 2/50\n",
      "156830/156830 [==============================] - 24s 152us/sample - loss: 1.1197 - auc_172: 0.7494 - val_loss: 1.1282 - val_auc_172: 0.7649\n",
      "Epoch 3/50\n",
      "156830/156830 [==============================] - 24s 152us/sample - loss: 1.1076 - auc_172: 0.7564 - val_loss: 1.3031 - val_auc_172: 0.7674\n",
      "Epoch 4/50\n",
      "156830/156830 [==============================] - 24s 153us/sample - loss: 1.1049 - auc_172: 0.7574 - val_loss: 1.2141 - val_auc_172: 0.7671\n",
      "Epoch 5/50\n",
      "156830/156830 [==============================] - 24s 151us/sample - loss: 1.1011 - auc_172: 0.7598 - val_loss: 1.2356 - val_auc_172: 0.7674\n",
      "Epoch 6/50\n",
      "156830/156830 [==============================] - 24s 151us/sample - loss: 1.1003 - auc_172: 0.7602 - val_loss: 1.1437 - val_auc_172: 0.7666\n",
      "WARNING:tensorflow:sample_weight modes were coerced from\n",
      "  ...\n",
      "    to  \n",
      "  ['...']\n",
      "WARNING:tensorflow:sample_weight modes were coerced from\n",
      "  ...\n",
      "    to  \n",
      "  ['...']\n",
      "Train on 156830 samples, validate on 27677 samples\n",
      "Epoch 1/50\n",
      "156830/156830 [==============================] - 25s 160us/sample - loss: 1.1309 - auc_173: 0.7440 - val_loss: 1.1190 - val_auc_173: 0.7597\n",
      "Epoch 2/50\n",
      "156830/156830 [==============================] - 23s 149us/sample - loss: 1.1089 - auc_173: 0.7563 - val_loss: 1.0974 - val_auc_173: 0.7668\n",
      "Epoch 3/50\n",
      "156830/156830 [==============================] - 24s 151us/sample - loss: 1.0941 - auc_173: 0.7639 - val_loss: 1.0864 - val_auc_173: 0.7703\n",
      "Epoch 4/50\n",
      "156830/156830 [==============================] - 23s 149us/sample - loss: 1.0904 - auc_173: 0.7660 - val_loss: 1.0888 - val_auc_173: 0.7696\n",
      "Epoch 5/50\n",
      "156830/156830 [==============================] - 24s 152us/sample - loss: 1.0866 - auc_173: 0.7679 - val_loss: 1.0889 - val_auc_173: 0.7701\n",
      "Epoch 6/50\n",
      "156830/156830 [==============================] - 24s 150us/sample - loss: 1.0873 - auc_173: 0.7680 - val_loss: 1.0878 - val_auc_173: 0.7699\n",
      "Epoch 7/50\n",
      "156830/156830 [==============================] - 24s 153us/sample - loss: 1.0824 - auc_173: 0.7702 - val_loss: 1.0892 - val_auc_173: 0.7697\n",
      "WARNING:tensorflow:sample_weight modes were coerced from\n",
      "  ...\n",
      "    to  \n",
      "  ['...']\n",
      "WARNING:tensorflow:sample_weight modes were coerced from\n",
      "  ...\n",
      "    to  \n",
      "  ['...']\n",
      "Train on 156830 samples, validate on 27677 samples\n",
      "Epoch 1/50\n",
      "156830/156830 [==============================] - 25s 161us/sample - loss: 1.1296 - auc_174: 0.7444 - val_loss: 1.3188 - val_auc_174: 0.7632\n",
      "Epoch 2/50\n",
      "156830/156830 [==============================] - 23s 150us/sample - loss: 1.1082 - auc_174: 0.7562 - val_loss: 1.0954 - val_auc_174: 0.7713\n",
      "Epoch 3/50\n",
      "156830/156830 [==============================] - 23s 149us/sample - loss: 1.0980 - auc_174: 0.7620 - val_loss: 1.2740 - val_auc_174: 0.7718\n",
      "Epoch 4/50\n",
      "156830/156830 [==============================] - 23s 149us/sample - loss: 1.0929 - auc_174: 0.7646 - val_loss: 1.4862 - val_auc_174: 0.7714\n",
      "Epoch 5/50\n",
      "156830/156830 [==============================] - 23s 147us/sample - loss: 1.0923 - auc_174: 0.7651 - val_loss: 1.3474 - val_auc_174: 0.7698\n",
      "Epoch 6/50\n",
      "156830/156830 [==============================] - 23s 146us/sample - loss: 1.0879 - auc_174: 0.7672 - val_loss: 1.6297 - val_auc_174: 0.7696\n"
     ]
    }
   ],
   "source": [
    "# Computing  5 fold  CV predictions on the training set for the Neural Network with RELU activation \n",
    "# & Nadam Optimizer\n",
    "scores_neural_relu = []\n",
    "for train_index, test_index in cv_strat.split(X_train, y_train):\n",
    "    # Creating  Folds\n",
    "    X_tr, X_tst = X_train.loc[train_index], X_train.loc[test_index]\n",
    "    y_tr, y_tst = y_train.loc[train_index], y_train.loc[test_index]\n",
    "    \n",
    "    # Splitting the Training set further into training & validation set.\n",
    "    X_tr_r, X_val, y_tr_r, y_val = train_test_split(X_tr, y_tr, test_size=0.15, random_state=42, stratify=y_tr)\n",
    "    \n",
    "    # Loading fresh best keras dense model with ELU activation & Nadam Optimizer for training on 4 folds\n",
    "    neural = keras.models.load_model('Best_model_Elu_eq_Learn_relu.h5')\n",
    "    \n",
    "    # comiling & Training the Neural Net\n",
    "    neural.compile(loss=\"binary_crossentropy\", optimizer=keras.optimizers.Nadam(beta_1=0.9, beta_2=0.999),\n",
    "                   metrics=[tf.keras.metrics.AUC(curve=\"ROC\")])\n",
    "    \n",
    "    # defining Checkpoints\n",
    "    checkpoint_cb = keras.callbacks.ModelCheckpoint('best_model.h5',save_best_only=True) # 1st Callback\n",
    "    early_stopping_cb = keras.callbacks.EarlyStopping(patience=4,restore_best_weights=True)# 2nd Callback\n",
    "    lr_scheduler_cb = keras.callbacks.LearningRateScheduler(exponential_decay_fn)# 3rd Callback\n",
    "    \n",
    "    # Fitting The model\n",
    "    neural.fit(X_tr_r, y_tr_r, epochs=50, validation_data=(X_val,y_val),batch_size=32,\n",
    "    class_weight={0: 1.0, 1: 12},callbacks=[checkpoint_cb,early_stopping_cb,lr_scheduler_cb])\n",
    "    \n",
    "    # Loading the best Neural model after training & before making predictions\n",
    "    neural_best = keras.models.load_model('best_model.h5')    \n",
    "    \n",
    "    # Saving the predictions for every fold in the scores list\n",
    "    y_pred = neural_best.predict_proba(X_tst)\n",
    "    scores_neural_relu.append(roc_auc_score(y_tst,y_pred))\n",
    "      "
   ]
  },
  {
   "cell_type": "code",
   "execution_count": 86,
   "metadata": {},
   "outputs": [
    {
     "name": "stdout",
     "output_type": "stream",
     "text": [
      "The reward associated with the best Dense Neural Classifier (with RELU activation & Nadam Optimizer) using roc_auc metric is:  0.7605541394822921\n"
     ]
    }
   ],
   "source": [
    "print('The reward associated with the best Dense Neural Classifier (with RELU activation & Nadam Optimizer) using roc_auc metric is: ',np.mean(scores_neural_relu))"
   ]
  },
  {
   "cell_type": "code",
   "execution_count": 87,
   "metadata": {},
   "outputs": [
    {
     "name": "stdout",
     "output_type": "stream",
     "text": [
      "The risk associated with the best Dense Neural Classifier (with RELU activation & Nadam Optimizer) using roc_auc metric is:  0.004307362083129947\n"
     ]
    }
   ],
   "source": [
    "print('The risk associated with the best Dense Neural Classifier (with RELU activation & Nadam Optimizer) using roc_auc metric is: ',np.std(scores_neural_relu))"
   ]
  },
  {
   "cell_type": "code",
   "execution_count": 88,
   "metadata": {},
   "outputs": [],
   "source": [
    "R_R_Ratio_RELU = np.mean(scores_neural_relu)/np.std(scores_neural_relu)"
   ]
  },
  {
   "cell_type": "code",
   "execution_count": 89,
   "metadata": {},
   "outputs": [
    {
     "name": "stdout",
     "output_type": "stream",
     "text": [
      "The reward risk ratio for the best Dense Neural Classifier(with RELU activation & Nadam Optimizer) using roc_auc metric is:  176.57074673639582\n"
     ]
    }
   ],
   "source": [
    "print('The reward risk ratio for the best Dense Neural Classifier(with RELU activation & Nadam Optimizer) using roc_auc metric is: ',R_R_Ratio_RELU)"
   ]
  },
  {
   "cell_type": "code",
   "execution_count": 90,
   "metadata": {},
   "outputs": [
    {
     "name": "stdout",
     "output_type": "stream",
     "text": [
      "5 fold CV roc_auc scores for the best Dense Neural Classifier(with RELU activation & Nadam Optimizer) are:  [0.754474342945305, 0.7561972016348781, 0.7645279041242877, 0.7640541507608882, 0.7635170979461023]\n"
     ]
    }
   ],
   "source": [
    "print('5 fold CV roc_auc scores for the best Dense Neural Classifier(with RELU activation & Nadam Optimizer) are: ',scores_neural_relu)"
   ]
  },
  {
   "cell_type": "markdown",
   "metadata": {},
   "source": [
    "#### R_R Ratio for the best Dense Neural Classifier (with RELU activation & Nadam Optimizer) classifier using roc_auc metric is:  176.57074673639582"
   ]
  },
  {
   "cell_type": "markdown",
   "metadata": {},
   "source": [
    "## Observations:\n",
    "### 1)  The Dense Neural Classifier (with RELU activation & Nadam Optimizer) classifier has fitted the Training set very well, with no signs of overfitting. Also it uses fewer no. of parameters that need to be tuned as compared to the one using Leaky RELU & Nadam optimizer.\n",
    "\n",
    "### 2) One big advantage of this model is that both its test set roc_auc score and R_R ratio are better than corresponding values  of the previous dense neural net (with Leaky RELU activation & Nadam Optimizer),  which is a significant improvement.\n",
    "### 3) Infact this above classifier has one of the highest test set roc_auc score as well as the R_R ratio of all the aforetested Neural Nets."
   ]
  },
  {
   "cell_type": "markdown",
   "metadata": {},
   "source": [
    "### Best R_R Ratio for the Neural Net family using roc_auc metric is:  176.57074673639582 ,corresponding to tuned Dense Neural Classifier (with RELU activation & Nadam Optimizer)."
   ]
  },
  {
   "cell_type": "markdown",
   "metadata": {},
   "source": [
    "### Taking everything into consideration, Dense Neural Classifier (with RELU activation & Nadam Optimizer)., dominates all other Neural nets & is clearly the winner among all other Neural Classifiers for this dataset."
   ]
  },
  {
   "cell_type": "code",
   "execution_count": null,
   "metadata": {},
   "outputs": [],
   "source": []
  }
 ],
 "metadata": {
  "kernelspec": {
   "display_name": "Python 3",
   "language": "python",
   "name": "python3"
  },
  "language_info": {
   "codemirror_mode": {
    "name": "ipython",
    "version": 3
   },
   "file_extension": ".py",
   "mimetype": "text/x-python",
   "name": "python",
   "nbconvert_exporter": "python",
   "pygments_lexer": "ipython3",
   "version": "3.8.5"
  }
 },
 "nbformat": 4,
 "nbformat_minor": 4
}
