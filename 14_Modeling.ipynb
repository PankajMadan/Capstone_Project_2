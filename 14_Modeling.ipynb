{
 "cells": [
  {
   "cell_type": "code",
   "execution_count": 1,
   "metadata": {},
   "outputs": [],
   "source": [
    "# Importing necessary packages \n",
    "import pandas as pd\n",
    "import numpy as np\n",
    "import matplotlib.pyplot as plt\n",
    "import seaborn as sns\n",
    "import warnings\n",
    "warnings.filterwarnings(\"ignore\")\n",
    "pd.set_option('display.max_columns', None)# To see all the columns of a dataframe\n",
    "#pd.set_option('display.max_rows', None)"
   ]
  },
  {
   "cell_type": "code",
   "execution_count": 2,
   "metadata": {},
   "outputs": [],
   "source": [
    "# Function to reduce the memory usage of various Dataframes\n",
    "def reduce_mem_usage(df):\n",
    "    \"\"\" iterate through all the columns of a dataframe and modify the data type\n",
    "        to reduce memory usage.        \n",
    "       \n",
    "        1. Iterate over every column\n",
    "        2. Determine if the column is numeric\n",
    "        3. Determine if the column can be represented by an integer\n",
    "        4. Find the min and the max value\n",
    "        5. Determine and apply the smallest datatype that can fit the range of values\n",
    "\n",
    "    \"\"\"\n",
    "    start_mem = df.memory_usage().sum() / 1024**2\n",
    "    print('Memory usage of dataframe is {:.2f} MB'.format(start_mem))\n",
    "    \n",
    "    for col in df.columns:\n",
    "        col_type = df[col].dtype\n",
    "        \n",
    "        if col_type != object:\n",
    "            c_min = df[col].min()\n",
    "            c_max = df[col].max()\n",
    "            if str(col_type)[:3] == 'int':\n",
    "                if c_min > np.iinfo(np.int8).min and c_max < np.iinfo(np.int8).max:\n",
    "                    df[col] = df[col].astype(np.int8)\n",
    "                elif c_min > np.iinfo(np.int16).min and c_max < np.iinfo(np.int16).max:\n",
    "                    df[col] = df[col].astype(np.int16)\n",
    "                elif c_min > np.iinfo(np.int32).min and c_max < np.iinfo(np.int32).max:\n",
    "                    df[col] = df[col].astype(np.int32)\n",
    "                elif c_min > np.iinfo(np.int64).min and c_max < np.iinfo(np.int64).max:\n",
    "                    df[col] = df[col].astype(np.int64)  \n",
    "            else:\n",
    "                if c_min > np.finfo(np.float16).min and c_max < np.finfo(np.float16).max:\n",
    "                    df[col] = df[col].astype(np.float16)\n",
    "                elif c_min > np.finfo(np.float32).min and c_max < np.finfo(np.float32).max:\n",
    "                    df[col] = df[col].astype(np.float32)\n",
    "                else:\n",
    "                    df[col] = df[col].astype(np.float64)\n",
    "        else:\n",
    "            df[col] = df[col].astype('category')\n",
    "\n",
    "    end_mem = df.memory_usage().sum() / 1024**2\n",
    "    print('Memory usage after optimization is: {:.2f} MB'.format(end_mem))\n",
    "    print('Decreased by {:.1f}%'.format(100 * (start_mem - end_mem) / start_mem))\n",
    "    \n",
    "    return df\n"
   ]
  },
  {
   "cell_type": "code",
   "execution_count": 3,
   "metadata": {},
   "outputs": [],
   "source": [
    "def import_data(file):\n",
    "    \"\"\"create a dataframe and optimize its memory usage\"\"\"\n",
    "    df = pd.read_csv(file, parse_dates=True, keep_date_col=True)\n",
    "    df = reduce_mem_usage(df)\n",
    "    return df"
   ]
  },
  {
   "cell_type": "code",
   "execution_count": 4,
   "metadata": {},
   "outputs": [
    {
     "name": "stdout",
     "output_type": "stream",
     "text": [
      "Memory usage of dataframe is 181.24 MB\n",
      "Memory usage after optimization is: 38.27 MB\n",
      "Decreased by 78.9%\n"
     ]
    }
   ],
   "source": [
    "# Loadiing reduced feature training set\n",
    "X_train = import_data('X_train_final.csv')\n",
    "y_train = pd.read_csv('y_train.final.csv')"
   ]
  },
  {
   "cell_type": "code",
   "execution_count": 5,
   "metadata": {},
   "outputs": [
    {
     "name": "stdout",
     "output_type": "stream",
     "text": [
      "Memory usage of dataframe is 60.41 MB\n",
      "Memory usage after optimization is: 12.76 MB\n",
      "Decreased by 78.9%\n"
     ]
    }
   ],
   "source": [
    "# Loadiing reduced feature test set\n",
    "X_test = import_data('X_test_final.csv')\n",
    "y_test = pd.read_csv('y_test.final.csv')"
   ]
  },
  {
   "cell_type": "code",
   "execution_count": 15,
   "metadata": {},
   "outputs": [
    {
     "name": "stdout",
     "output_type": "stream",
     "text": [
      "The ratio of class 0 to class 1 entries in y_train is:  11.386970299156776\n"
     ]
    }
   ],
   "source": [
    "# Re-computing the ratio of class 0 to class 1 entries in the response variable y_train.\n",
    "r_train = float(y_train.value_counts().loc[0].values/y_train.value_counts().loc[1].values)\n",
    "print('The ratio of class 0 to class 1 entries in y_train is: ',r_train)"
   ]
  },
  {
   "cell_type": "code",
   "execution_count": 14,
   "metadata": {},
   "outputs": [
    {
     "name": "stdout",
     "output_type": "stream",
     "text": [
      "The ratio of class 0 to class 1 entries in y_test is:  11.387689332903642\n"
     ]
    }
   ],
   "source": [
    "# Re-computing the ratio of class 0 to class 1 entries in the response variable y_train.\n",
    "r_test = float(y_test.value_counts().loc[0].values/y_test.value_counts().loc[1].values)\n",
    "print('The ratio of class 0 to class 1 entries in y_test is: ',r_test)"
   ]
  },
  {
   "cell_type": "markdown",
   "metadata": {},
   "source": [
    "#### As expected both training  & test set have same ratio of class 0 to class 1 entries."
   ]
  },
  {
   "cell_type": "markdown",
   "metadata": {},
   "source": [
    "## Baseline Model: Dummy Classifier with parameter (Strategy=“most_frequent”)"
   ]
  },
  {
   "cell_type": "code",
   "execution_count": 16,
   "metadata": {},
   "outputs": [],
   "source": [
    "# Importing Dummy classifier from Scikit Learn\n",
    "from sklearn.dummy import DummyClassifier"
   ]
  },
  {
   "cell_type": "code",
   "execution_count": 17,
   "metadata": {},
   "outputs": [],
   "source": [
    "# Importing the Sklearn's roc_auc_score module\n",
    "from sklearn.metrics import roc_auc_score"
   ]
  },
  {
   "cell_type": "code",
   "execution_count": 18,
   "metadata": {},
   "outputs": [],
   "source": [
    "# Instantiating the Dummy classifier object\n",
    "bm = DummyClassifier(random_state=42,strategy='most_frequent')"
   ]
  },
  {
   "cell_type": "markdown",
   "metadata": {},
   "source": [
    "#### Fitting dummy classifier (baseline model) to reduced feature training set and computing resulting  training & test set roc_auc_scores."
   ]
  },
  {
   "cell_type": "code",
   "execution_count": 19,
   "metadata": {},
   "outputs": [
    {
     "data": {
      "text/plain": [
       "DummyClassifier(random_state=42, strategy='most_frequent')"
      ]
     },
     "execution_count": 19,
     "metadata": {},
     "output_type": "execute_result"
    }
   ],
   "source": [
    "# Fitting the simple dummy classifier to reduced feature Training set.\n",
    "bm.fit(X_train,y_train)"
   ]
  },
  {
   "cell_type": "code",
   "execution_count": 20,
   "metadata": {},
   "outputs": [
    {
     "data": {
      "text/plain": [
       "0.9192700090620163"
      ]
     },
     "execution_count": 20,
     "metadata": {},
     "output_type": "execute_result"
    }
   ],
   "source": [
    "# Accuracy for the Reduced feature Training set with baseline model\n",
    "bm.score(X_train,y_train)"
   ]
  },
  {
   "cell_type": "code",
   "execution_count": 21,
   "metadata": {},
   "outputs": [
    {
     "data": {
      "text/plain": [
       "0.9192746949712531"
      ]
     },
     "execution_count": 21,
     "metadata": {},
     "output_type": "execute_result"
    }
   ],
   "source": [
    "# Accuracy for the Reduced feature Test set with baseline model\n",
    "bm.score(X_test,y_test)"
   ]
  },
  {
   "cell_type": "code",
   "execution_count": 22,
   "metadata": {},
   "outputs": [],
   "source": [
    "# Predicting the probabilities of y=1 for the reduced feature training set\n",
    "y_pred_train = bm.predict_proba(X_train)"
   ]
  },
  {
   "cell_type": "code",
   "execution_count": 24,
   "metadata": {},
   "outputs": [
    {
     "name": "stdout",
     "output_type": "stream",
     "text": [
      "The ROC AUC for the Reduced_feature Training set is: 0.5\n"
     ]
    }
   ],
   "source": [
    "print('The ROC AUC for the Reduced_feature Training set is:',roc_auc_score(y_train,y_pred_train[:,1]))"
   ]
  },
  {
   "cell_type": "code",
   "execution_count": 25,
   "metadata": {},
   "outputs": [],
   "source": [
    "# Predicting the probabilities of y=1 for the Reduced feature test set\n",
    "y_pred = bm.predict_proba(X_test)"
   ]
  },
  {
   "cell_type": "code",
   "execution_count": 26,
   "metadata": {},
   "outputs": [
    {
     "name": "stdout",
     "output_type": "stream",
     "text": [
      "The ROC AUC for the Reduced_feature test set is: 0.5\n"
     ]
    }
   ],
   "source": [
    "print('The ROC AUC for the Reduced_feature test set is:',roc_auc_score(y_test,y_pred[:,1]))"
   ]
  },
  {
   "cell_type": "markdown",
   "metadata": {},
   "source": [
    "### Observations:\n",
    "### 1) The roc_auc scores of both the training  & test set  are equal , but are substantially less than the corresponding accuracy scores , which is typically the case with imbalanced class . Thus the baseline model is clearly underfitting the dataset.\n",
    "### 2) The roc_auc score of the baseline model is .5, same as that of random guessing. Thus we clearly need more powerful complex models."
   ]
  },
  {
   "cell_type": "markdown",
   "metadata": {},
   "source": [
    "## Model_1: Logistics Regression with Tuned Hyperparameters using Optuna."
   ]
  },
  {
   "cell_type": "code",
   "execution_count": 27,
   "metadata": {},
   "outputs": [],
   "source": [
    "# Importing  hyperparamater tuning optimizer optuna\n",
    "import optuna"
   ]
  },
  {
   "cell_type": "code",
   "execution_count": 28,
   "metadata": {},
   "outputs": [],
   "source": [
    "# Importing required Libraries\n",
    "from sklearn.model_selection import StratifiedKFold\n",
    "from sklearn.model_selection import cross_val_score"
   ]
  },
  {
   "cell_type": "code",
   "execution_count": 31,
   "metadata": {},
   "outputs": [],
   "source": [
    "# Instantiating the Stratified K fold object\n",
    "cv_strat = StratifiedKFold(5,random_state=42)"
   ]
  },
  {
   "cell_type": "code",
   "execution_count": 32,
   "metadata": {},
   "outputs": [],
   "source": [
    "# Defining the class weights\n",
    "cl_weight = [None,'balanced',{0:1.0,1:12},{0:1.0,1:13},{0:1.0,1:14},{0:1.0,1:15},{0:1.0,1:16}]"
   ]
  },
  {
   "cell_type": "code",
   "execution_count": 33,
   "metadata": {},
   "outputs": [],
   "source": [
    "from sklearn.linear_model import LogisticRegression"
   ]
  },
  {
   "cell_type": "code",
   "execution_count": 34,
   "metadata": {},
   "outputs": [],
   "source": [
    "# Instantiating the logistic Regression classifier\n",
    "lr_s =  LogisticRegression(random_state=42,solver='saga',n_jobs=5)"
   ]
  },
  {
   "cell_type": "code",
   "execution_count": 35,
   "metadata": {},
   "outputs": [],
   "source": [
    "# Defining the appropriate objective function for the Logistic regression classifier\n",
    "def objective_wrappper_ls(X_tr, y_tr, cls=None, cv_strat=None, cl_w=None):\n",
    "    '''\n",
    "    Optimizes Logistics Regression parameters on the given training set X_tr,y_tr\n",
    "    using given cv_strat cross-validation  & class weights cl_w objects.\n",
    "    \n",
    "    '''\n",
    "    \n",
    "    def objective(trial):\n",
    "        params = {\n",
    "        'C': trial.suggest_loguniform('C', 1e-5, 1e2),\n",
    "        'l1_ratio':trial.suggest_uniform('l1_ratio',0,1),\n",
    "        'class_weight':trial.suggest_categorical('class_weight',cl_w),\n",
    "        'penalty':trial.suggest_categorical('penalty',['none','elasticnet'])\n",
    "            \n",
    "        }\n",
    "        \n",
    "        cls.set_params(**params)#Initializing the model with the parameters \n",
    "    \n",
    "        return np.mean(cross_val_score(cls, X_tr, y_tr, cv=cv_strat, n_jobs=5, scoring='roc_auc'))  \n",
    "    return objective"
   ]
  },
  {
   "cell_type": "code",
   "execution_count": 42,
   "metadata": {},
   "outputs": [],
   "source": [
    "# Defining the evaluation function for study's best parameters\n",
    "def study_best_score_params(X_tr, y_tr, cls, obj_func, cv_strat, cl_w, n_trials=100):\n",
    "    ''' Computes the best hyper parameters of the classsifier and returns \n",
    "    Optuna's study's best score & clasifier parameters'''\n",
    "    study = optuna.create_study(direction='maximize')\n",
    "    study.optimize(obj_func(X_tr, y_tr, cls, cv_strat, cl_w), n_trials)\n",
    "    best_score = study.best_value\n",
    "    best_params = study.best_params\n",
    "    return (best_score,best_params)"
   ]
  },
  {
   "cell_type": "markdown",
   "metadata": {},
   "source": [
    "#### Computing the best hyperparameters for the  logistic Regression using Optuna on reduced feature Training Set."
   ]
  },
  {
   "cell_type": "code",
   "execution_count": 43,
   "metadata": {},
   "outputs": [
    {
     "name": "stderr",
     "output_type": "stream",
     "text": [
      "\u001b[32m[I 2020-12-26 19:09:59,173]\u001b[0m A new study created in memory with name: no-name-324081e1-a513-4d8a-adc2-d12b54d33366\u001b[0m\n",
      "\u001b[32m[I 2020-12-26 19:10:25,917]\u001b[0m Trial 0 finished with value: 0.7525991494103144 and parameters: {'C': 4.283090544812846, 'l1_ratio': 0.8160827573169284, 'class_weight': {0: 1.0, 1: 15}, 'penalty': 'none'}. Best is trial 0 with value: 0.7525991494103144.\u001b[0m\n",
      "\u001b[32m[I 2020-12-26 19:10:51,424]\u001b[0m Trial 1 finished with value: 0.7508320049755364 and parameters: {'C': 0.03394573278920371, 'l1_ratio': 0.15355461801208292, 'class_weight': None, 'penalty': 'none'}. Best is trial 0 with value: 0.7525991494103144.\u001b[0m\n",
      "\u001b[32m[I 2020-12-26 19:11:18,547]\u001b[0m Trial 2 finished with value: 0.7525806358983473 and parameters: {'C': 0.1863596644337647, 'l1_ratio': 0.8909663821160461, 'class_weight': {0: 1.0, 1: 16}, 'penalty': 'none'}. Best is trial 0 with value: 0.7525991494103144.\u001b[0m\n",
      "\u001b[32m[I 2020-12-26 19:11:50,532]\u001b[0m Trial 3 finished with value: 0.7442200483050623 and parameters: {'C': 0.0010743769765365206, 'l1_ratio': 0.4521117509013004, 'class_weight': None, 'penalty': 'elasticnet'}. Best is trial 0 with value: 0.7525991494103144.\u001b[0m\n",
      "\u001b[32m[I 2020-12-26 19:12:31,882]\u001b[0m Trial 4 finished with value: 0.7525991418128701 and parameters: {'C': 94.99353518562813, 'l1_ratio': 0.2738552976952784, 'class_weight': {0: 1.0, 1: 15}, 'penalty': 'elasticnet'}. Best is trial 0 with value: 0.7525991494103144.\u001b[0m\n",
      "\u001b[32m[I 2020-12-26 19:13:09,374]\u001b[0m Trial 5 finished with value: 0.7525759465619615 and parameters: {'C': 0.15220406067574913, 'l1_ratio': 0.08340864969797246, 'class_weight': {0: 1.0, 1: 14}, 'penalty': 'elasticnet'}. Best is trial 0 with value: 0.7525991494103144.\u001b[0m\n",
      "\u001b[32m[I 2020-12-26 19:13:41,219]\u001b[0m Trial 6 finished with value: 0.7389856156861871 and parameters: {'C': 0.00022685936604795387, 'l1_ratio': 0.1485464343467967, 'class_weight': None, 'penalty': 'elasticnet'}. Best is trial 0 with value: 0.7525991494103144.\u001b[0m\n",
      "\u001b[32m[I 2020-12-26 19:14:14,098]\u001b[0m Trial 7 finished with value: 0.7524092871718044 and parameters: {'C': 0.0007601678549349324, 'l1_ratio': 0.23043175523889192, 'class_weight': {0: 1.0, 1: 15}, 'penalty': 'elasticnet'}. Best is trial 0 with value: 0.7525991494103144.\u001b[0m\n",
      "\u001b[32m[I 2020-12-26 19:14:39,924]\u001b[0m Trial 8 finished with value: 0.7508320049755364 and parameters: {'C': 0.00013745078481952443, 'l1_ratio': 0.02187082459494094, 'class_weight': None, 'penalty': 'none'}. Best is trial 0 with value: 0.7525991494103144.\u001b[0m\n",
      "\u001b[32m[I 2020-12-26 19:15:10,749]\u001b[0m Trial 9 finished with value: 0.7363888040963235 and parameters: {'C': 0.00015071149980161434, 'l1_ratio': 0.7179618871105676, 'class_weight': {0: 1.0, 1: 15}, 'penalty': 'elasticnet'}. Best is trial 0 with value: 0.7525991494103144.\u001b[0m\n",
      "\u001b[32m[I 2020-12-26 19:15:38,602]\u001b[0m Trial 10 finished with value: 0.7525921248001151 and parameters: {'C': 27.530776704174198, 'l1_ratio': 0.9416212024651257, 'class_weight': {0: 1.0, 1: 12}, 'penalty': 'none'}. Best is trial 0 with value: 0.7525991494103144.\u001b[0m\n",
      "\u001b[32m[I 2020-12-26 19:16:05,545]\u001b[0m Trial 11 finished with value: 0.7525991494103144 and parameters: {'C': 73.5531974496769, 'l1_ratio': 0.42596788004918223, 'class_weight': {0: 1.0, 1: 15}, 'penalty': 'none'}. Best is trial 0 with value: 0.7525991494103144.\u001b[0m\n",
      "\u001b[32m[I 2020-12-26 19:16:30,690]\u001b[0m Trial 12 finished with value: 0.7526549371060198 and parameters: {'C': 6.035749702179692, 'l1_ratio': 0.5620886463751359, 'class_weight': 'balanced', 'penalty': 'none'}. Best is trial 12 with value: 0.7526549371060198.\u001b[0m\n",
      "\u001b[32m[I 2020-12-26 19:16:56,197]\u001b[0m Trial 13 finished with value: 0.7526549371060198 and parameters: {'C': 4.263099590606218, 'l1_ratio': 0.6973115140051307, 'class_weight': 'balanced', 'penalty': 'none'}. Best is trial 12 with value: 0.7526549371060198.\u001b[0m\n",
      "\u001b[32m[I 2020-12-26 19:17:21,595]\u001b[0m Trial 14 finished with value: 0.7526549371060198 and parameters: {'C': 2.6523206216644764, 'l1_ratio': 0.623978590571436, 'class_weight': 'balanced', 'penalty': 'none'}. Best is trial 12 with value: 0.7526549371060198.\u001b[0m\n",
      "\u001b[32m[I 2020-12-26 19:17:46,374]\u001b[0m Trial 15 finished with value: 0.7526549371060198 and parameters: {'C': 3.042303146799411, 'l1_ratio': 0.5640012318567336, 'class_weight': 'balanced', 'penalty': 'none'}. Best is trial 12 with value: 0.7526549371060198.\u001b[0m\n",
      "\u001b[32m[I 2020-12-26 19:18:11,593]\u001b[0m Trial 16 finished with value: 0.7526549371060198 and parameters: {'C': 0.6958194582824168, 'l1_ratio': 0.715065482269472, 'class_weight': 'balanced', 'penalty': 'none'}. Best is trial 12 with value: 0.7526549371060198.\u001b[0m\n",
      "\u001b[32m[I 2020-12-26 19:18:36,756]\u001b[0m Trial 17 finished with value: 0.7525803036891021 and parameters: {'C': 0.4124099462219572, 'l1_ratio': 0.6952947745068805, 'class_weight': {0: 1.0, 1: 13}, 'penalty': 'none'}. Best is trial 12 with value: 0.7526549371060198.\u001b[0m\n",
      "\u001b[32m[I 2020-12-26 19:19:01,769]\u001b[0m Trial 18 finished with value: 0.7526549371060198 and parameters: {'C': 1.1016991514917532e-05, 'l1_ratio': 0.5767794926743528, 'class_weight': 'balanced', 'penalty': 'none'}. Best is trial 12 with value: 0.7526549371060198.\u001b[0m\n",
      "\u001b[32m[I 2020-12-26 19:19:28,458]\u001b[0m Trial 19 finished with value: 0.7526549371060198 and parameters: {'C': 0.01025474989922492, 'l1_ratio': 0.3926479005630749, 'class_weight': 'balanced', 'penalty': 'none'}. Best is trial 12 with value: 0.7526549371060198.\u001b[0m\n",
      "\u001b[32m[I 2020-12-26 19:19:53,688]\u001b[0m Trial 20 finished with value: 0.7525803036891021 and parameters: {'C': 0.009391280084859528, 'l1_ratio': 0.31866259111565126, 'class_weight': {0: 1.0, 1: 13}, 'penalty': 'none'}. Best is trial 12 with value: 0.7526549371060198.\u001b[0m\n",
      "\u001b[32m[I 2020-12-26 19:20:17,219]\u001b[0m Trial 21 finished with value: 0.7526549371060198 and parameters: {'C': 1.5399617223442637e-05, 'l1_ratio': 0.5185118517614911, 'class_weight': 'balanced', 'penalty': 'none'}. Best is trial 12 with value: 0.7526549371060198.\u001b[0m\n",
      "\u001b[32m[I 2020-12-26 19:20:42,376]\u001b[0m Trial 22 finished with value: 0.7526549371060198 and parameters: {'C': 1.0800075060892484e-05, 'l1_ratio': 0.38736401579857366, 'class_weight': 'balanced', 'penalty': 'none'}. Best is trial 12 with value: 0.7526549371060198.\u001b[0m\n",
      "\u001b[32m[I 2020-12-26 19:21:05,948]\u001b[0m Trial 23 finished with value: 0.7526549371060198 and parameters: {'C': 1.3363606279944836e-05, 'l1_ratio': 0.37798958088164225, 'class_weight': 'balanced', 'penalty': 'none'}. Best is trial 12 with value: 0.7526549371060198.\u001b[0m\n",
      "\u001b[32m[I 2020-12-26 19:21:30,421]\u001b[0m Trial 24 finished with value: 0.7525806358983473 and parameters: {'C': 4.010444662380154e-05, 'l1_ratio': 0.3542004904729418, 'class_weight': {0: 1.0, 1: 16}, 'penalty': 'none'}. Best is trial 12 with value: 0.7526549371060198.\u001b[0m\n",
      "\u001b[32m[I 2020-12-26 19:21:53,342]\u001b[0m Trial 25 finished with value: 0.7525743644649548 and parameters: {'C': 3.2576369569849896e-05, 'l1_ratio': 0.5070675876674432, 'class_weight': {0: 1.0, 1: 14}, 'penalty': 'none'}. Best is trial 12 with value: 0.7526549371060198.\u001b[0m\n",
      "\u001b[32m[I 2020-12-26 19:22:16,647]\u001b[0m Trial 26 finished with value: 0.7525921248001151 and parameters: {'C': 18.8133987651957, 'l1_ratio': 0.2363566384638902, 'class_weight': {0: 1.0, 1: 12}, 'penalty': 'none'}. Best is trial 12 with value: 0.7526549371060198.\u001b[0m\n",
      "\u001b[32m[I 2020-12-26 19:22:40,000]\u001b[0m Trial 27 finished with value: 0.7526549371060198 and parameters: {'C': 0.0031058607314771247, 'l1_ratio': 0.8368809765167265, 'class_weight': 'balanced', 'penalty': 'none'}. Best is trial 12 with value: 0.7526549371060198.\u001b[0m\n",
      "\u001b[32m[I 2020-12-26 19:23:06,501]\u001b[0m Trial 28 finished with value: 0.7526549371060198 and parameters: {'C': 0.047174560231249135, 'l1_ratio': 0.45180915831132, 'class_weight': 'balanced', 'penalty': 'none'}. Best is trial 12 with value: 0.7526549371060198.\u001b[0m\n",
      "\u001b[32m[I 2020-12-26 19:23:30,046]\u001b[0m Trial 29 finished with value: 0.7526549371060198 and parameters: {'C': 7.333435881422571e-05, 'l1_ratio': 0.6348128950086078, 'class_weight': 'balanced', 'penalty': 'none'}. Best is trial 12 with value: 0.7526549371060198.\u001b[0m\n",
      "\u001b[32m[I 2020-12-26 19:23:53,174]\u001b[0m Trial 30 finished with value: 0.7526549371060198 and parameters: {'C': 0.0019569471370159534, 'l1_ratio': 0.8444605878431027, 'class_weight': 'balanced', 'penalty': 'none'}. Best is trial 12 with value: 0.7526549371060198.\u001b[0m\n"
     ]
    },
    {
     "name": "stderr",
     "output_type": "stream",
     "text": [
      "\u001b[32m[I 2020-12-26 19:24:16,735]\u001b[0m Trial 31 finished with value: 0.7526549371060198 and parameters: {'C': 0.027808922827249304, 'l1_ratio': 0.976418519647739, 'class_weight': 'balanced', 'penalty': 'none'}. Best is trial 12 with value: 0.7526549371060198.\u001b[0m\n",
      "\u001b[32m[I 2020-12-26 19:24:39,965]\u001b[0m Trial 32 finished with value: 0.7526549371060198 and parameters: {'C': 0.0042257946366346675, 'l1_ratio': 0.7926757303083694, 'class_weight': 'balanced', 'penalty': 'none'}. Best is trial 12 with value: 0.7526549371060198.\u001b[0m\n",
      "\u001b[32m[I 2020-12-26 19:25:03,281]\u001b[0m Trial 33 finished with value: 0.7526549371060198 and parameters: {'C': 0.5613232585733001, 'l1_ratio': 0.7649703822873588, 'class_weight': 'balanced', 'penalty': 'none'}. Best is trial 12 with value: 0.7526549371060198.\u001b[0m\n",
      "\u001b[32m[I 2020-12-26 19:25:26,378]\u001b[0m Trial 34 finished with value: 0.7525806358983473 and parameters: {'C': 0.06692076444702408, 'l1_ratio': 0.9766994861760351, 'class_weight': {0: 1.0, 1: 16}, 'penalty': 'none'}. Best is trial 12 with value: 0.7526549371060198.\u001b[0m\n",
      "\u001b[32m[I 2020-12-26 19:25:49,460]\u001b[0m Trial 35 finished with value: 0.7526549371060198 and parameters: {'C': 3.4389515293122073, 'l1_ratio': 0.628171069444966, 'class_weight': 'balanced', 'penalty': 'none'}. Best is trial 12 with value: 0.7526549371060198.\u001b[0m\n",
      "\u001b[32m[I 2020-12-26 19:26:12,663]\u001b[0m Trial 36 finished with value: 0.7525743644649548 and parameters: {'C': 2.36123702730258, 'l1_ratio': 0.631245959273305, 'class_weight': {0: 1.0, 1: 14}, 'penalty': 'none'}. Best is trial 12 with value: 0.7526549371060198.\u001b[0m\n",
      "\u001b[32m[I 2020-12-26 19:26:35,887]\u001b[0m Trial 37 finished with value: 0.7525803036891021 and parameters: {'C': 1.3262240656869118, 'l1_ratio': 0.5737118150761713, 'class_weight': {0: 1.0, 1: 13}, 'penalty': 'none'}. Best is trial 12 with value: 0.7526549371060198.\u001b[0m\n",
      "\u001b[32m[I 2020-12-26 19:27:13,717]\u001b[0m Trial 38 finished with value: 0.7525923008645329 and parameters: {'C': 13.362068034557613, 'l1_ratio': 0.6788493313230519, 'class_weight': {0: 1.0, 1: 12}, 'penalty': 'elasticnet'}. Best is trial 12 with value: 0.7526549371060198.\u001b[0m\n",
      "\u001b[32m[I 2020-12-26 19:27:36,768]\u001b[0m Trial 39 finished with value: 0.7526549371060198 and parameters: {'C': 6.8690212343652, 'l1_ratio': 0.49523222132972927, 'class_weight': 'balanced', 'penalty': 'none'}. Best is trial 12 with value: 0.7526549371060198.\u001b[0m\n",
      "\u001b[32m[I 2020-12-26 19:27:59,846]\u001b[0m Trial 40 finished with value: 0.7508320049755364 and parameters: {'C': 0.011460452178827275, 'l1_ratio': 0.7908610109919757, 'class_weight': None, 'penalty': 'none'}. Best is trial 12 with value: 0.7526549371060198.\u001b[0m\n",
      "\u001b[32m[I 2020-12-26 19:28:22,910]\u001b[0m Trial 41 finished with value: 0.7526549371060198 and parameters: {'C': 1.0441493348289452e-05, 'l1_ratio': 0.5021493750464711, 'class_weight': 'balanced', 'penalty': 'none'}. Best is trial 12 with value: 0.7526549371060198.\u001b[0m\n",
      "\u001b[32m[I 2020-12-26 19:28:46,114]\u001b[0m Trial 42 finished with value: 0.7526549371060198 and parameters: {'C': 0.8831767860908207, 'l1_ratio': 0.5302976750479015, 'class_weight': 'balanced', 'penalty': 'none'}. Best is trial 12 with value: 0.7526549371060198.\u001b[0m\n",
      "\u001b[32m[I 2020-12-26 19:29:09,234]\u001b[0m Trial 43 finished with value: 0.7526549371060198 and parameters: {'C': 0.19756573563367452, 'l1_ratio': 0.7843969866621966, 'class_weight': 'balanced', 'penalty': 'none'}. Best is trial 12 with value: 0.7526549371060198.\u001b[0m\n",
      "\u001b[32m[I 2020-12-26 19:29:48,877]\u001b[0m Trial 44 finished with value: 0.7526549738398187 and parameters: {'C': 61.830567135515345, 'l1_ratio': 0.5024332285506886, 'class_weight': 'balanced', 'penalty': 'elasticnet'}. Best is trial 44 with value: 0.7526549738398187.\u001b[0m\n",
      "\u001b[32m[I 2020-12-26 19:30:17,990]\u001b[0m Trial 45 finished with value: 0.7405735663372723 and parameters: {'C': 0.0004681393566212442, 'l1_ratio': 0.8560012975225171, 'class_weight': 'balanced', 'penalty': 'elasticnet'}. Best is trial 44 with value: 0.7526549738398187.\u001b[0m\n",
      "\u001b[32m[I 2020-12-26 19:30:48,795]\u001b[0m Trial 46 finished with value: 0.7527463780000111 and parameters: {'C': 0.0016323022319971671, 'l1_ratio': 0.2969291330225353, 'class_weight': {0: 1.0, 1: 15}, 'penalty': 'elasticnet'}. Best is trial 46 with value: 0.7527463780000111.\u001b[0m\n",
      "\u001b[32m[I 2020-12-26 19:31:17,782]\u001b[0m Trial 47 finished with value: 0.7507209423605419 and parameters: {'C': 0.0003317947047997274, 'l1_ratio': 0.2982284351813965, 'class_weight': {0: 1.0, 1: 15}, 'penalty': 'elasticnet'}. Best is trial 46 with value: 0.7527463780000111.\u001b[0m\n",
      "\u001b[32m[I 2020-12-26 19:31:49,179]\u001b[0m Trial 48 finished with value: 0.7527868298685357 and parameters: {'C': 0.0014962839256713817, 'l1_ratio': 0.1672856513490755, 'class_weight': {0: 1.0, 1: 15}, 'penalty': 'elasticnet'}. Best is trial 48 with value: 0.7527868298685357.\u001b[0m\n",
      "\u001b[32m[I 2020-12-26 19:32:19,848]\u001b[0m Trial 49 finished with value: 0.7526726647081758 and parameters: {'C': 0.00083229941985024, 'l1_ratio': 0.13845339313091432, 'class_weight': {0: 1.0, 1: 15}, 'penalty': 'elasticnet'}. Best is trial 48 with value: 0.7527868298685357.\u001b[0m\n",
      "\u001b[32m[I 2020-12-26 19:32:51,185]\u001b[0m Trial 50 finished with value: 0.7527335453488698 and parameters: {'C': 0.0009883254036028024, 'l1_ratio': 0.1383531444825057, 'class_weight': {0: 1.0, 1: 15}, 'penalty': 'elasticnet'}. Best is trial 48 with value: 0.7527868298685357.\u001b[0m\n",
      "\u001b[32m[I 2020-12-26 19:33:22,300]\u001b[0m Trial 51 finished with value: 0.7527329627265533 and parameters: {'C': 0.0009651587969089783, 'l1_ratio': 0.13101907641891838, 'class_weight': {0: 1.0, 1: 15}, 'penalty': 'elasticnet'}. Best is trial 48 with value: 0.7527868298685357.\u001b[0m\n",
      "\u001b[32m[I 2020-12-26 19:33:53,110]\u001b[0m Trial 52 finished with value: 0.7527363381175417 and parameters: {'C': 0.0009811193584016752, 'l1_ratio': 0.13225121046239863, 'class_weight': {0: 1.0, 1: 15}, 'penalty': 'elasticnet'}. Best is trial 48 with value: 0.7527868298685357.\u001b[0m\n",
      "\u001b[32m[I 2020-12-26 19:34:25,277]\u001b[0m Trial 53 finished with value: 0.7527348726373269 and parameters: {'C': 0.0009486190409057848, 'l1_ratio': 0.12194792192979975, 'class_weight': {0: 1.0, 1: 15}, 'penalty': 'elasticnet'}. Best is trial 48 with value: 0.7527868298685357.\u001b[0m\n",
      "\u001b[32m[I 2020-12-26 19:34:57,633]\u001b[0m Trial 54 finished with value: 0.752641671266076 and parameters: {'C': 0.0014904691757870862, 'l1_ratio': 0.063168275268412, 'class_weight': {0: 1.0, 1: 15}, 'penalty': 'elasticnet'}. Best is trial 48 with value: 0.7527868298685357.\u001b[0m\n",
      "\u001b[32m[I 2020-12-26 19:35:26,394]\u001b[0m Trial 55 finished with value: 0.7497671547804285 and parameters: {'C': 0.00017459165004297318, 'l1_ratio': 0.18697195430132774, 'class_weight': {0: 1.0, 1: 15}, 'penalty': 'elasticnet'}. Best is trial 48 with value: 0.7527868298685357.\u001b[0m\n",
      "\u001b[32m[I 2020-12-26 19:36:01,980]\u001b[0m Trial 56 finished with value: 0.7525771657793958 and parameters: {'C': 0.0005154783749204402, 'l1_ratio': 0.0070566438943038545, 'class_weight': {0: 1.0, 1: 15}, 'penalty': 'elasticnet'}. Best is trial 48 with value: 0.7527868298685357.\u001b[0m\n",
      "\u001b[32m[I 2020-12-26 19:36:35,351]\u001b[0m Trial 57 finished with value: 0.7526091719483734 and parameters: {'C': 0.004682235139158636, 'l1_ratio': 0.10347113064780306, 'class_weight': {0: 1.0, 1: 15}, 'penalty': 'elasticnet'}. Best is trial 48 with value: 0.7527868298685357.\u001b[0m\n",
      "\u001b[32m[I 2020-12-26 19:37:05,706]\u001b[0m Trial 58 finished with value: 0.7527563513678338 and parameters: {'C': 0.0012736494132203346, 'l1_ratio': 0.1946250163807808, 'class_weight': {0: 1.0, 1: 15}, 'penalty': 'elasticnet'}. Best is trial 48 with value: 0.7527868298685357.\u001b[0m\n",
      "\u001b[32m[I 2020-12-26 19:37:37,819]\u001b[0m Trial 59 finished with value: 0.7527962080533527 and parameters: {'C': 0.0019128459722200207, 'l1_ratio': 0.19818150041866103, 'class_weight': {0: 1.0, 1: 15}, 'penalty': 'elasticnet'}. Best is trial 59 with value: 0.7527962080533527.\u001b[0m\n",
      "\u001b[32m[I 2020-12-26 19:38:08,898]\u001b[0m Trial 60 finished with value: 0.7527861559730025 and parameters: {'C': 0.001955119771763943, 'l1_ratio': 0.18205760945374747, 'class_weight': {0: 1.0, 1: 15}, 'penalty': 'elasticnet'}. Best is trial 59 with value: 0.7527962080533527.\u001b[0m\n",
      "\u001b[32m[I 2020-12-26 19:38:39,328]\u001b[0m Trial 61 finished with value: 0.752745196191544 and parameters: {'C': 0.002220319721567989, 'l1_ratio': 0.19063998108311958, 'class_weight': {0: 1.0, 1: 15}, 'penalty': 'elasticnet'}. Best is trial 59 with value: 0.7527962080533527.\u001b[0m\n"
     ]
    },
    {
     "name": "stderr",
     "output_type": "stream",
     "text": [
      "\u001b[32m[I 2020-12-26 19:39:11,290]\u001b[0m Trial 62 finished with value: 0.7527038980844903 and parameters: {'C': 0.0025169420258605592, 'l1_ratio': 0.2004616739060698, 'class_weight': {0: 1.0, 1: 15}, 'penalty': 'elasticnet'}. Best is trial 59 with value: 0.7527962080533527.\u001b[0m\n",
      "\u001b[32m[I 2020-12-26 19:39:43,956]\u001b[0m Trial 63 finished with value: 0.7526229721275212 and parameters: {'C': 0.007315621217135961, 'l1_ratio': 0.24125471817117253, 'class_weight': {0: 1.0, 1: 15}, 'penalty': 'elasticnet'}. Best is trial 59 with value: 0.7527962080533527.\u001b[0m\n",
      "\u001b[32m[I 2020-12-26 19:40:15,376]\u001b[0m Trial 64 finished with value: 0.7520618594637141 and parameters: {'C': 0.00025106418929606754, 'l1_ratio': 0.05376118501351772, 'class_weight': {0: 1.0, 1: 15}, 'penalty': 'elasticnet'}. Best is trial 59 with value: 0.7527962080533527.\u001b[0m\n",
      "\u001b[32m[I 2020-12-26 19:40:46,990]\u001b[0m Trial 65 finished with value: 0.7525814147215015 and parameters: {'C': 0.021075857246310246, 'l1_ratio': 0.17066466786126, 'class_weight': {0: 1.0, 1: 15}, 'penalty': 'elasticnet'}. Best is trial 59 with value: 0.7527962080533527.\u001b[0m\n",
      "\u001b[32m[I 2020-12-26 19:41:18,632]\u001b[0m Trial 66 finished with value: 0.7527836254988584 and parameters: {'C': 0.0017374505163507902, 'l1_ratio': 0.26604382290078465, 'class_weight': {0: 1.0, 1: 15}, 'penalty': 'elasticnet'}. Best is trial 59 with value: 0.7527962080533527.\u001b[0m\n",
      "\u001b[32m[I 2020-12-26 19:41:49,413]\u001b[0m Trial 67 finished with value: 0.7527640873234384 and parameters: {'C': 0.0016081447896734294, 'l1_ratio': 0.26777448438810514, 'class_weight': {0: 1.0, 1: 15}, 'penalty': 'elasticnet'}. Best is trial 59 with value: 0.7527962080533527.\u001b[0m\n",
      "\u001b[32m[I 2020-12-26 19:42:08,326]\u001b[0m Trial 68 finished with value: 0.7421852023281293 and parameters: {'C': 8.715755748220232e-05, 'l1_ratio': 0.28368139874589665, 'class_weight': {0: 1.0, 1: 15}, 'penalty': 'elasticnet'}. Best is trial 59 with value: 0.7527962080533527.\u001b[0m\n",
      "\u001b[32m[I 2020-12-26 19:42:40,293]\u001b[0m Trial 69 finished with value: 0.7526819797720555 and parameters: {'C': 0.005282579161325014, 'l1_ratio': 0.33585482788721177, 'class_weight': {0: 1.0, 1: 15}, 'penalty': 'elasticnet'}. Best is trial 59 with value: 0.7527962080533527.\u001b[0m\n",
      "\u001b[32m[I 2020-12-26 19:43:12,176]\u001b[0m Trial 70 finished with value: 0.7527845564799018 and parameters: {'C': 0.0015716242522054913, 'l1_ratio': 0.2239303819191581, 'class_weight': {0: 1.0, 1: 15}, 'penalty': 'elasticnet'}. Best is trial 59 with value: 0.7527962080533527.\u001b[0m\n",
      "\u001b[32m[I 2020-12-26 19:43:42,621]\u001b[0m Trial 71 finished with value: 0.7527642279336153 and parameters: {'C': 0.0015617878639526486, 'l1_ratio': 0.25678367243279043, 'class_weight': {0: 1.0, 1: 15}, 'penalty': 'elasticnet'}. Best is trial 59 with value: 0.7527962080533527.\u001b[0m\n",
      "\u001b[32m[I 2020-12-26 19:44:13,891]\u001b[0m Trial 72 finished with value: 0.752593291685306 and parameters: {'C': 0.015435714883517287, 'l1_ratio': 0.26157447652267585, 'class_weight': {0: 1.0, 1: 15}, 'penalty': 'elasticnet'}. Best is trial 59 with value: 0.7527962080533527.\u001b[0m\n",
      "\u001b[32m[I 2020-12-26 19:44:44,148]\u001b[0m Trial 73 finished with value: 0.7519503157980547 and parameters: {'C': 0.0005170888831783861, 'l1_ratio': 0.23489533250425687, 'class_weight': {0: 1.0, 1: 15}, 'penalty': 'elasticnet'}. Best is trial 59 with value: 0.7527962080533527.\u001b[0m\n",
      "\u001b[32m[I 2020-12-26 19:45:15,049]\u001b[0m Trial 74 finished with value: 0.7526787822955008 and parameters: {'C': 0.00345550973837667, 'l1_ratio': 0.21678596432767036, 'class_weight': {0: 1.0, 1: 15}, 'penalty': 'elasticnet'}. Best is trial 59 with value: 0.7527962080533527.\u001b[0m\n",
      "\u001b[32m[I 2020-12-26 19:45:45,397]\u001b[0m Trial 75 finished with value: 0.7506748604314345 and parameters: {'C': 0.007424006386662492, 'l1_ratio': 0.2618779215676353, 'class_weight': None, 'penalty': 'elasticnet'}. Best is trial 59 with value: 0.7527962080533527.\u001b[0m\n",
      "\u001b[32m[I 2020-12-26 19:46:16,077]\u001b[0m Trial 76 finished with value: 0.7527287587377283 and parameters: {'C': 0.0017667930233835256, 'l1_ratio': 0.1623977624329907, 'class_weight': {0: 1.0, 1: 16}, 'penalty': 'elasticnet'}. Best is trial 59 with value: 0.7527962080533527.\u001b[0m\n",
      "\u001b[32m[I 2020-12-26 19:46:46,353]\u001b[0m Trial 77 finished with value: 0.7523373573114475 and parameters: {'C': 0.0003935780519206631, 'l1_ratio': 0.08720923263500102, 'class_weight': {0: 1.0, 1: 15}, 'penalty': 'elasticnet'}. Best is trial 59 with value: 0.7527962080533527.\u001b[0m\n",
      "\u001b[32m[I 2020-12-26 19:47:17,017]\u001b[0m Trial 78 finished with value: 0.7528115822188329 and parameters: {'C': 0.0032694446540643424, 'l1_ratio': 0.3213426712561213, 'class_weight': {0: 1.0, 1: 14}, 'penalty': 'elasticnet'}. Best is trial 78 with value: 0.7528115822188329.\u001b[0m\n",
      "\u001b[32m[I 2020-12-26 19:47:46,648]\u001b[0m Trial 79 finished with value: 0.7514629623302543 and parameters: {'C': 0.0006291867632847838, 'l1_ratio': 0.41864054175045406, 'class_weight': {0: 1.0, 1: 14}, 'penalty': 'elasticnet'}. Best is trial 78 with value: 0.7528115822188329.\u001b[0m\n",
      "\u001b[32m[I 2020-12-26 19:48:17,064]\u001b[0m Trial 80 finished with value: 0.7528199747310028 and parameters: {'C': 0.003328550743841191, 'l1_ratio': 0.3485812175031364, 'class_weight': {0: 1.0, 1: 14}, 'penalty': 'elasticnet'}. Best is trial 80 with value: 0.7528199747310028.\u001b[0m\n",
      "\u001b[32m[I 2020-12-26 19:48:47,580]\u001b[0m Trial 81 finished with value: 0.7528034808583028 and parameters: {'C': 0.0037621026608715778, 'l1_ratio': 0.3575125489546075, 'class_weight': {0: 1.0, 1: 14}, 'penalty': 'elasticnet'}. Best is trial 80 with value: 0.7528199747310028.\u001b[0m\n",
      "\u001b[32m[I 2020-12-26 19:49:18,475]\u001b[0m Trial 82 finished with value: 0.7528268665367925 and parameters: {'C': 0.003146475829245338, 'l1_ratio': 0.35511162631384074, 'class_weight': {0: 1.0, 1: 14}, 'penalty': 'elasticnet'}. Best is trial 82 with value: 0.7528268665367925.\u001b[0m\n",
      "\u001b[32m[I 2020-12-26 19:49:50,025]\u001b[0m Trial 83 finished with value: 0.7526912975195111 and parameters: {'C': 0.005443352406076633, 'l1_ratio': 0.34895651923335047, 'class_weight': {0: 1.0, 1: 14}, 'penalty': 'elasticnet'}. Best is trial 82 with value: 0.7528268665367925.\u001b[0m\n",
      "\u001b[32m[I 2020-12-26 19:50:22,312]\u001b[0m Trial 84 finished with value: 0.7528213455336991 and parameters: {'C': 0.002963918640054715, 'l1_ratio': 0.3182748797525135, 'class_weight': {0: 1.0, 1: 14}, 'penalty': 'elasticnet'}. Best is trial 82 with value: 0.7528268665367925.\u001b[0m\n",
      "\u001b[32m[I 2020-12-26 19:50:52,521]\u001b[0m Trial 85 finished with value: 0.752824612206916 and parameters: {'C': 0.002970275352604274, 'l1_ratio': 0.41121940461722245, 'class_weight': {0: 1.0, 1: 14}, 'penalty': 'elasticnet'}. Best is trial 82 with value: 0.7528268665367925.\u001b[0m\n",
      "\u001b[32m[I 2020-12-26 19:51:23,617]\u001b[0m Trial 86 finished with value: 0.7528195508934469 and parameters: {'C': 0.0028486509125118776, 'l1_ratio': 0.4052315564555187, 'class_weight': {0: 1.0, 1: 14}, 'penalty': 'elasticnet'}. Best is trial 82 with value: 0.7528268665367925.\u001b[0m\n",
      "\u001b[32m[I 2020-12-26 19:51:53,806]\u001b[0m Trial 87 finished with value: 0.7528203969199894 and parameters: {'C': 0.0031636401720839895, 'l1_ratio': 0.46348045358430257, 'class_weight': {0: 1.0, 1: 14}, 'penalty': 'elasticnet'}. Best is trial 82 with value: 0.7528268665367925.\u001b[0m\n",
      "\u001b[32m[I 2020-12-26 19:52:24,700]\u001b[0m Trial 88 finished with value: 0.7526355046686948 and parameters: {'C': 0.01308131515919646, 'l1_ratio': 0.4650034093755523, 'class_weight': {0: 1.0, 1: 14}, 'penalty': 'elasticnet'}. Best is trial 82 with value: 0.7528268665367925.\u001b[0m\n",
      "\u001b[32m[I 2020-12-26 19:52:54,711]\u001b[0m Trial 89 finished with value: 0.7528306081047205 and parameters: {'C': 0.0031160262723627184, 'l1_ratio': 0.4046164083668398, 'class_weight': {0: 1.0, 1: 14}, 'penalty': 'elasticnet'}. Best is trial 89 with value: 0.7528306081047205.\u001b[0m\n",
      "\u001b[32m[I 2020-12-26 19:53:25,449]\u001b[0m Trial 90 finished with value: 0.7528268274150989 and parameters: {'C': 0.003029169620110651, 'l1_ratio': 0.41420923497784906, 'class_weight': {0: 1.0, 1: 14}, 'penalty': 'elasticnet'}. Best is trial 89 with value: 0.7528306081047205.\u001b[0m\n",
      "\u001b[32m[I 2020-12-26 19:53:55,804]\u001b[0m Trial 91 finished with value: 0.752830389006193 and parameters: {'C': 0.003112942813866823, 'l1_ratio': 0.4079532486562811, 'class_weight': {0: 1.0, 1: 14}, 'penalty': 'elasticnet'}. Best is trial 89 with value: 0.7528306081047205.\u001b[0m\n"
     ]
    },
    {
     "name": "stderr",
     "output_type": "stream",
     "text": [
      "\u001b[32m[I 2020-12-26 19:54:26,017]\u001b[0m Trial 92 finished with value: 0.7528272960640725 and parameters: {'C': 0.003035732079539218, 'l1_ratio': 0.4124378106960251, 'class_weight': {0: 1.0, 1: 14}, 'penalty': 'elasticnet'}. Best is trial 89 with value: 0.7528306081047205.\u001b[0m\n",
      "\u001b[32m[I 2020-12-26 19:54:57,369]\u001b[0m Trial 93 finished with value: 0.7526711958125198 and parameters: {'C': 0.007922605487155314, 'l1_ratio': 0.41486182351153805, 'class_weight': {0: 1.0, 1: 14}, 'penalty': 'elasticnet'}. Best is trial 89 with value: 0.7528306081047205.\u001b[0m\n",
      "\u001b[32m[I 2020-12-26 19:55:28,205]\u001b[0m Trial 94 finished with value: 0.752609749822237 and parameters: {'C': 0.023393673805993283, 'l1_ratio': 0.4567218082566226, 'class_weight': {0: 1.0, 1: 14}, 'penalty': 'elasticnet'}. Best is trial 89 with value: 0.7528306081047205.\u001b[0m\n",
      "\u001b[32m[I 2020-12-26 19:56:01,883]\u001b[0m Trial 95 finished with value: 0.7525852278637662 and parameters: {'C': 0.06508653480055386, 'l1_ratio': 0.3803415921539912, 'class_weight': {0: 1.0, 1: 14}, 'penalty': 'elasticnet'}. Best is trial 89 with value: 0.7528306081047205.\u001b[0m\n",
      "\u001b[32m[I 2020-12-26 19:56:32,890]\u001b[0m Trial 96 finished with value: 0.7528181488548913 and parameters: {'C': 0.002795423135118823, 'l1_ratio': 0.402371258084993, 'class_weight': {0: 1.0, 1: 14}, 'penalty': 'elasticnet'}. Best is trial 89 with value: 0.7528306081047205.\u001b[0m\n",
      "\u001b[32m[I 2020-12-26 19:57:04,086]\u001b[0m Trial 97 finished with value: 0.7526608713701796 and parameters: {'C': 0.009867319665433857, 'l1_ratio': 0.4798426516849811, 'class_weight': {0: 1.0, 1: 14}, 'penalty': 'elasticnet'}. Best is trial 89 with value: 0.7528306081047205.\u001b[0m\n",
      "\u001b[32m[I 2020-12-26 19:57:34,288]\u001b[0m Trial 98 finished with value: 0.7527114420115002 and parameters: {'C': 0.005766922839932423, 'l1_ratio': 0.4417662981543213, 'class_weight': {0: 1.0, 1: 14}, 'penalty': 'elasticnet'}. Best is trial 89 with value: 0.7528306081047205.\u001b[0m\n",
      "\u001b[32m[I 2020-12-26 19:58:05,371]\u001b[0m Trial 99 finished with value: 0.7525981445061445 and parameters: {'C': 0.03258407780360562, 'l1_ratio': 0.4327933079595683, 'class_weight': {0: 1.0, 1: 14}, 'penalty': 'elasticnet'}. Best is trial 89 with value: 0.7528306081047205.\u001b[0m\n"
     ]
    }
   ],
   "source": [
    "# Extracting the best model parameters and best study score\n",
    "best_study_score, best_study_params = study_best_score_params(X_train, y_train, lr_s, objective_wrappper_ls, cv_strat,\n",
    "                                                            cl_weight)"
   ]
  },
  {
   "cell_type": "code",
   "execution_count": 44,
   "metadata": {},
   "outputs": [
    {
     "name": "stdout",
     "output_type": "stream",
     "text": [
      "The best roc_auc_score for the study is:  0.7528306081047205\n"
     ]
    }
   ],
   "source": [
    "print('The best roc_auc_score for the study is: ',best_study_score)"
   ]
  },
  {
   "cell_type": "code",
   "execution_count": 45,
   "metadata": {},
   "outputs": [
    {
     "name": "stdout",
     "output_type": "stream",
     "text": [
      "('The best study parameters for the classifier are: ', {'C': 0.0031160262723627184, 'l1_ratio': 0.4046164083668398, 'class_weight': {0: 1.0, 1: 14}, 'penalty': 'elasticnet'})\n"
     ]
    }
   ],
   "source": [
    "print(('The best study parameters for the classifier are: ',best_study_params))"
   ]
  },
  {
   "cell_type": "markdown",
   "metadata": {},
   "source": [
    "#### Computing the  Reduced feature roc_auc score for the test data using the best study Parameters"
   ]
  },
  {
   "cell_type": "code",
   "execution_count": 46,
   "metadata": {},
   "outputs": [],
   "source": [
    "# Obtaining the best reduced feature LR model by setting best study parameters.\n",
    "lr_R = lr_s.set_params(**best_study_params)"
   ]
  },
  {
   "cell_type": "code",
   "execution_count": 47,
   "metadata": {},
   "outputs": [
    {
     "data": {
      "text/plain": [
       "LogisticRegression(C=0.0031160262723627184, class_weight={0: 1.0, 1: 14},\n",
       "                   l1_ratio=0.4046164083668398, n_jobs=5, penalty='elasticnet',\n",
       "                   random_state=42, solver='saga')"
      ]
     },
     "execution_count": 47,
     "metadata": {},
     "output_type": "execute_result"
    }
   ],
   "source": [
    "# fitting the best Logistics regression model on the reduced feature training set\n",
    "lr_R.fit(X_train, y_train)"
   ]
  },
  {
   "cell_type": "code",
   "execution_count": 49,
   "metadata": {},
   "outputs": [],
   "source": [
    "# Defining the function to calculate the roc_auc score for the feature sets\n",
    "def cal_roc_auc(X, y, cls, f_set, t_set, model_name):\n",
    "    ''' Calculates the roc auc score using the best study parameters \n",
    "        f_set : String: specifies 'full feature', 'Reduced feature'\n",
    "        t_set: String: specifies 'training', 'test'\n",
    "        model_name: String: specifies Name of the model '''\n",
    "        \n",
    "    y_pred = cls.predict_proba(X)\n",
    "    print('The roc_auc_score for the {} {} set using the best {} is '.format(f_set,t_set,model_name),roc_auc_score(y,y_pred[:,1]))"
   ]
  },
  {
   "cell_type": "code",
   "execution_count": 51,
   "metadata": {},
   "outputs": [
    {
     "name": "stdout",
     "output_type": "stream",
     "text": [
      "The roc_auc_score for the reduced feature training set using the best Logistic Regression is  0.7542487254350991\n"
     ]
    }
   ],
   "source": [
    "# Calculating the reduced feature training set roc_auc score using the best study parameters\n",
    "cal_roc_auc(X_train, y_train, lr_R,'reduced feature', 'training', 'Logistic Regression')"
   ]
  },
  {
   "cell_type": "code",
   "execution_count": 52,
   "metadata": {},
   "outputs": [
    {
     "name": "stdout",
     "output_type": "stream",
     "text": [
      "The roc_auc_score for the reduced feature test set using the best Logistic Regression is  0.7536336223586382\n"
     ]
    }
   ],
   "source": [
    "# Calculating the reduced feature test set roc_auc score using the best study parameters\n",
    "cal_roc_auc(X_test, y_test, lr_R, 'reduced feature','test','Logistic Regression')"
   ]
  },
  {
   "cell_type": "code",
   "execution_count": 53,
   "metadata": {},
   "outputs": [
    {
     "data": {
      "text/plain": [
       "['Log_Reg.joblib']"
      ]
     },
     "execution_count": 53,
     "metadata": {},
     "output_type": "execute_result"
    }
   ],
   "source": [
    "# Saving the  best Logistic Regression model \n",
    "import joblib\n",
    "joblib.dump(lr_R,'Log_Reg.joblib')"
   ]
  },
  {
   "cell_type": "markdown",
   "metadata": {},
   "source": [
    "## Observations:\n",
    "### 1) The roc_auc test set score for the tuned Logistic model is much higher than the corresponding score from the  baseline model, which was expected , as the Logistic Regression is much more complex model than the simple Dummy Classifier.\n",
    "### 2) The training & test set roc_auc scores are almost equal to each other , indicating that Logistic Regression has well fitted the dataset with no indications of overfitting."
   ]
  },
  {
   "cell_type": "markdown",
   "metadata": {},
   "source": [
    "## Defining  Reward Risk Ratio for a Family of Machine Learning Models:\n",
    "\n",
    "## R_R Ratio = Mean of  K Fold CV score on training data / Std. Dev of K Fold CV score on training data\n",
    "\n",
    "### R_R ratio may be helpful in choosing among models having same computational complexity"
   ]
  },
  {
   "cell_type": "markdown",
   "metadata": {},
   "source": [
    "### Calculating R_R ratio for best Logistic Regression Model "
   ]
  },
  {
   "cell_type": "code",
   "execution_count": 54,
   "metadata": {},
   "outputs": [],
   "source": [
    "# Instantiating the Stratified K fold object\n",
    "cv_strat = StratifiedKFold(5,random_state=42)"
   ]
  },
  {
   "cell_type": "code",
   "execution_count": 55,
   "metadata": {},
   "outputs": [],
   "source": [
    "# Computing the Reward, Risk of the Logistic Regression Model\n",
    "score_Log_Reg = cross_val_score(lr_R, X_train, y_train, cv=cv_strat, n_jobs=5, scoring='roc_auc')"
   ]
  },
  {
   "cell_type": "code",
   "execution_count": 56,
   "metadata": {},
   "outputs": [
    {
     "name": "stdout",
     "output_type": "stream",
     "text": [
      "The reward associated with the best Logistics Regression Model using roc_auc metric is:  0.7528306081047205\n"
     ]
    }
   ],
   "source": [
    "print('The reward associated with the best Logistics Regression Model using roc_auc metric is: ',np.mean(score_Log_Reg))"
   ]
  },
  {
   "cell_type": "code",
   "execution_count": 57,
   "metadata": {},
   "outputs": [
    {
     "name": "stdout",
     "output_type": "stream",
     "text": [
      "The risk associated with the best Logistics Regression Model using roc_auc metric is:  0.005199052773158794\n"
     ]
    }
   ],
   "source": [
    "print('The risk associated with the best Logistics Regression Model using roc_auc metric is: ',np.std(score_Log_Reg))"
   ]
  },
  {
   "cell_type": "code",
   "execution_count": 58,
   "metadata": {},
   "outputs": [],
   "source": [
    "R_R_Ratio_Log_Reg = np.mean(score_Log_Reg)/np.std(score_Log_Reg)"
   ]
  },
  {
   "cell_type": "code",
   "execution_count": 59,
   "metadata": {},
   "outputs": [
    {
     "name": "stdout",
     "output_type": "stream",
     "text": [
      "The reward risk ratio for the best Logistics Regression Model using roc_auc metric is:  144.80149383967927\n"
     ]
    }
   ],
   "source": [
    "print('The reward risk ratio for the best Logistics Regression Model using roc_auc metric is: ',R_R_Ratio_Log_Reg)"
   ]
  },
  {
   "cell_type": "markdown",
   "metadata": {},
   "source": [
    "### R_R Ratio for the best Logistic Regression model, utilizing roc_auc metric is: 144.80149383967927"
   ]
  },
  {
   "cell_type": "code",
   "execution_count": null,
   "metadata": {},
   "outputs": [],
   "source": []
  }
 ],
 "metadata": {
  "kernelspec": {
   "display_name": "Python 3",
   "language": "python",
   "name": "python3"
  },
  "language_info": {
   "codemirror_mode": {
    "name": "ipython",
    "version": 3
   },
   "file_extension": ".py",
   "mimetype": "text/x-python",
   "name": "python",
   "nbconvert_exporter": "python",
   "pygments_lexer": "ipython3",
   "version": "3.8.5"
  }
 },
 "nbformat": 4,
 "nbformat_minor": 4
}
